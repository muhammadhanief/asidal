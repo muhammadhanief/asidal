{
 "cells": [
  {
   "cell_type": "code",
   "execution_count": 2,
   "id": "2807db65",
   "metadata": {},
   "outputs": [],
   "source": [
    "import pandas as pd\n",
    "from pyspark.sql import functions as F\n",
    "\n",
    "#For 3.3.1\n",
    "#Register Sedona Functions to Spark\n",
    "from sedona.register import SedonaRegistrator\n",
    "SedonaRegistrator.registerAll(spark)\n",
    "\n",
    "\n",
    "#For 3.3.2\n",
    "from shapely.geometry import Point, Polygon, mapping\n",
    "import h3.api.numpy_int as h3int "
   ]
  },
  {
   "cell_type": "code",
   "execution_count": 3,
   "id": "e7d358d3",
   "metadata": {},
   "outputs": [],
   "source": [
    "from pyspark.sql import SparkSession\n",
    "from pyspark.sql.functions import col, date_format, count, countDistinct, when, expr\n",
    "import calendar\n",
    "from pyspark.sql.types import IntegerType\n",
    "from pyspark.sql.window import Window"
   ]
  },
  {
   "cell_type": "code",
   "execution_count": 4,
   "id": "c5ee8555",
   "metadata": {},
   "outputs": [],
   "source": [
    "import pandas as pd\n",
    "from IPython.display import HTML\n",
    "import base64\n",
    "from pyspark.sql.functions import year, month, dayofmonth, hour, minute, second\n",
    "from pyspark.sql.functions import monotonically_increasing_id"
   ]
  },
  {
   "cell_type": "code",
   "execution_count": 5,
   "id": "ce2a52fc",
   "metadata": {},
   "outputs": [],
   "source": [
    "basepath = \"s3a://ungp-ais-data-historical-backup/exact-earth-data/transformed/prod/\""
   ]
  },
  {
   "cell_type": "code",
   "execution_count": 6,
   "id": "0b85ded2",
   "metadata": {},
   "outputs": [],
   "source": [
    "#Read Data January 2022\n",
    "#df_data = spark.read.parquet(basepath+ \"year=2022/month=01/day=01\")\n",
    "\n",
    "#Read Data\n",
    "df_data = spark.read.parquet(basepath+ \"year=2024/month=04/day=30\")"
   ]
  },
  {
   "cell_type": "code",
   "execution_count": 16,
   "id": "680e7b1d",
   "metadata": {
    "scrolled": true
   },
   "outputs": [
    {
     "name": "stdout",
     "output_type": "stream",
     "text": [
      "-RECORD 0---------------------------------\n",
      " mmsi              | 257122130            \n",
      " message_type      | 1                    \n",
      " dt_insert_utc     | 2024-04-03 04:34:51  \n",
      " longitude         | 32.34258833          \n",
      " latitude          | 75.97038167          \n",
      " imo               | 9859507              \n",
      " vessel_name       | F/V SUNDEROY         \n",
      " callsign          | LFPE                 \n",
      " vessel_type       | Fishing              \n",
      " vessel_type_code  | 30                   \n",
      " vessel_type_cargo | null                 \n",
      " vessel_class      | A                    \n",
      " length            | 76.0                 \n",
      " width             | 16.0                 \n",
      " flag_country      | Norway               \n",
      " flag_code         | 257                  \n",
      " destination       | HOPENDJUPET          \n",
      " eta               | 2460                 \n",
      " draught           | 8.0                  \n",
      " sog               | 6.2                  \n",
      " cog               | 34.9                 \n",
      " rot               | 0.0                  \n",
      " heading           | 34.0                 \n",
      " nav_status        | Engaged In Fishing   \n",
      " nav_status_code   | 7                    \n",
      " source            | S-AIS                \n",
      " dt_pos_utc        | 2024-04-03 04:32:11  \n",
      " dt_static_utc     | 2024-04-02 13:45:50  \n",
      " vessel_type_main  | null                 \n",
      " vessel_type_sub   | null                 \n",
      " eeid              | 5962399477465833298  \n",
      " source_filename   | s3a://ungp-ais-da... \n",
      " H3index_0         | 8001fffffffffff      \n",
      " H3_int_index_0    | 576495936675512319   \n",
      " H3_int_index_1    | 580968749977305087   \n",
      " H3_int_index_2    | 585470700337233919   \n",
      " H3_int_index_3    | 589974231245127679   \n",
      " H3_int_index_4    | 594477805102694399   \n",
      " H3_int_index_5    | 598981403656323071   \n",
      " H3_int_index_6    | 603485002612604927   \n",
      " H3_int_index_7    | 607988602206420991   \n",
      " H3_int_index_8    | 612492201829597183   \n",
      " H3_int_index_9    | 616995801456181247   \n",
      " H3_int_index_10   | 621499401083518975   \n",
      " H3_int_index_11   | 626003000710860799   \n",
      " H3_int_index_12   | 630506600338227711   \n",
      " H3_int_index_13   | 635010199965597887   \n",
      " H3_int_index_14   | 639513799592968335   \n",
      " H3_int_index_15   | 644017399220338827   \n",
      "-RECORD 1---------------------------------\n",
      " mmsi              | 257122130            \n",
      " message_type      | 1                    \n",
      " dt_insert_utc     | 2024-04-03 04:08:06  \n",
      " longitude         | 32.39818833          \n",
      " latitude          | 75.96592667          \n",
      " imo               | 9859507              \n",
      " vessel_name       | F/V SUNDEROY         \n",
      " callsign          | LFPE                 \n",
      " vessel_type       | Fishing              \n",
      " vessel_type_code  | 30                   \n",
      " vessel_type_cargo | null                 \n",
      " vessel_class      | A                    \n",
      " length            | 76.0                 \n",
      " width             | 16.0                 \n",
      " flag_country      | Norway               \n",
      " flag_code         | 257                  \n",
      " destination       | HOPENDJUPET          \n",
      " eta               | 2460                 \n",
      " draught           | 8.0                  \n",
      " sog               | 4.8                  \n",
      " cog               | 306.1                \n",
      " rot               | 0.0                  \n",
      " heading           | 281.0                \n",
      " nav_status        | Engaged In Fishing   \n",
      " nav_status_code   | 7                    \n",
      " source            | S-AIS                \n",
      " dt_pos_utc        | 2024-04-03 04:06:34  \n",
      " dt_static_utc     | 2024-04-02 13:45:50  \n",
      " vessel_type_main  | null                 \n",
      " vessel_type_sub   | null                 \n",
      " eeid              | 5962399477465833298  \n",
      " source_filename   | s3a://ungp-ais-da... \n",
      " H3index_0         | 8001fffffffffff      \n",
      " H3_int_index_0    | 576495936675512319   \n",
      " H3_int_index_1    | 580968749977305087   \n",
      " H3_int_index_2    | 585470700337233919   \n",
      " H3_int_index_3    | 589974231245127679   \n",
      " H3_int_index_4    | 594477805102694399   \n",
      " H3_int_index_5    | 598981403656323071   \n",
      " H3_int_index_6    | 603485002612604927   \n",
      " H3_int_index_7    | 607988602206420991   \n",
      " H3_int_index_8    | 612492201831694335   \n",
      " H3_int_index_9    | 616995801457754111   \n",
      " H3_int_index_10   | 621499401085059071   \n",
      " H3_int_index_11   | 626003000712400895   \n",
      " H3_int_index_12   | 630506600339768319   \n",
      " H3_int_index_13   | 635010199967139711   \n",
      " H3_int_index_14   | 639513799594510191   \n",
      " H3_int_index_15   | 644017399221880681   \n",
      "only showing top 2 rows\n",
      "\n"
     ]
    }
   ],
   "source": [
    "# Show sample 5 data\n",
    "# df.show(n=1, vertical=True)\n",
    "df_data.show(n=2, vertical=True)"
   ]
  },
  {
   "cell_type": "code",
   "execution_count": 17,
   "id": "93e4777c",
   "metadata": {},
   "outputs": [
    {
     "data": {
      "text/plain": [
       "17685023"
      ]
     },
     "execution_count": 17,
     "metadata": {},
     "output_type": "execute_result"
    }
   ],
   "source": [
    "df_data.count()"
   ]
  },
  {
   "cell_type": "code",
   "execution_count": null,
   "id": "f97dbeca",
   "metadata": {},
   "outputs": [],
   "source": []
  }
 ],
 "metadata": {
  "kernelspec": {
   "display_name": "Config template pyspark3.3 ais2.8 (prev ais-tt-dev)",
   "language": "python3",
   "name": "ais-tt-dev"
  },
  "language_info": {
   "codemirror_mode": {
    "name": "ipython",
    "version": 3
   },
   "file_extension": ".py",
   "mimetype": "text/x-python",
   "name": "python",
   "nbconvert_exporter": "python",
   "pygments_lexer": "ipython3",
   "version": "3.8.13"
  }
 },
 "nbformat": 4,
 "nbformat_minor": 5
}
