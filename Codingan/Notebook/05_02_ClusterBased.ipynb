{
 "cells": [
  {
   "cell_type": "code",
   "execution_count": null,
   "id": "14264271",
   "metadata": {},
   "outputs": [],
   "source": [
    "import h3.api.numpy_int as h3int\n",
    "from sklearn.cluster import DBSCAN\n",
    "from pyproj import Transformer"
   ]
  },
  {
   "cell_type": "code",
   "execution_count": null,
   "id": "51dec83b",
   "metadata": {},
   "outputs": [],
   "source": [
    "def get_parameters(df, cluster_res, per):\n",
    "    eps_m = round(h3int.edge_length(cluster_res) * 1000)\n",
    "    df[‘h3_cluster_index’] = df[‘H3_int_index_12’] \\\n",
    "    .apply(lambda x: h3int.h3_to_parent(x, cluster_res))\n",
    "    \n",
    "    df_cluster = df.groupby(‘h3_cluster_index’)[‘count_mmsi’].sum() \\\n",
    "    .reset_index() \\\n",
    "    .sort_values(‘count_mmsi’,ignore_index=True, ascending=False)\n",
    "    df_cluster[‘cumsum’] = df_cluster[‘count_mmsi’].cumsum()\n",
    "    tot = df_cluster.count_mmsi.sum()\n",
    "    df_cluster[‘cumper’] = df_cluster[‘cumsum’] / tot\n",
    "    \n",
    "    min_points = df_cluster[df_cluster.cumper >= per].iloc[0].count_mmsi\n",
    "    return eps_m, int(min_points)"
   ]
  },
  {
   "cell_type": "code",
   "execution_count": null,
   "id": "cbd8539c",
   "metadata": {},
   "outputs": [],
   "source": [
    "sdf_agg = aoi_naoi_sdf.filter(\n",
    "    (F.col(‘area’) == ‘aoi’) & (F.col(‘stationary’) == ‘Y’)) \\\n",
    ".groupBy(‘H3_int_index_12’) \\\n",
    ".agg(F.count(‘mmsi’).alias(‘count_mmsi’))"
   ]
  },
  {
   "cell_type": "code",
   "execution_count": null,
   "id": "4565aad4",
   "metadata": {},
   "outputs": [],
   "source": [
    "df = sdf_agg.toPandas()\n",
    "eps_m, min_points = get_parameters(df, \n",
    " cluster_res = 8,\n",
    " per = 0.90)\n",
    "model = DBSCAN(eps=eps_m,min_samples=min_points)"
   ]
  },
  {
   "cell_type": "code",
   "execution_count": null,
   "id": "3d3e866d",
   "metadata": {},
   "outputs": [],
   "source": [
    "points = df[‘H3_int_index_12’].apply(lambda x: h3int.h3_to_geo(x))\n",
    "df[‘latitude’], df[‘longitude’] = zip(*points)\n",
    "\n",
    "transf = Transformer.from_crs(4326, epsg_to=3832, always_xy=True)\n",
    "(df[‘long_t’], df[‘lat_t’]) = transf.transform(df[‘longitude’].values,\n",
    "                                               df[‘latitude’].values)"
   ]
  },
  {
   "cell_type": "code",
   "execution_count": null,
   "id": "72bb4ed9",
   "metadata": {},
   "outputs": [],
   "source": [
    "X = df[[‘long_t’, ‘lat_t’]].values\n",
    "sample_weight = df[‘count_mmsi’].values\n",
    "model_fit = model.fit(X, sample_weight=sample_weight)"
   ]
  },
  {
   "cell_type": "code",
   "execution_count": 1,
   "id": "04f3c36b",
   "metadata": {},
   "outputs": [],
   "source": [
    "spark.stop()"
   ]
  },
  {
   "cell_type": "code",
   "execution_count": null,
   "id": "dcc89e35",
   "metadata": {},
   "outputs": [],
   "source": []
  }
 ],
 "metadata": {
  "kernelspec": {
   "display_name": "Config template adb",
   "language": "python3",
   "name": "adb"
  },
  "language_info": {
   "codemirror_mode": {
    "name": "ipython",
    "version": 3
   },
   "file_extension": ".py",
   "mimetype": "text/x-python",
   "name": "python",
   "nbconvert_exporter": "python",
   "pygments_lexer": "ipython3",
   "version": "3.8.13"
  }
 },
 "nbformat": 4,
 "nbformat_minor": 5
}
