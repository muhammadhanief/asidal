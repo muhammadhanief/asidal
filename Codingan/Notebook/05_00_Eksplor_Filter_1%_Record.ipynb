{
 "cells": [
  {
   "cell_type": "markdown",
   "id": "5816fa69",
   "metadata": {},
   "source": [
    "# Inilization"
   ]
  },
  {
   "cell_type": "code",
   "execution_count": 1,
   "id": "02162682",
   "metadata": {},
   "outputs": [],
   "source": [
    "import pandas as pd\n",
    "from pyspark.sql import functions as F\n",
    "\n",
    "#For 3.3.1\n",
    "#Register Sedona Functions to Spark\n",
    "from sedona.register import SedonaRegistrator\n",
    "SedonaRegistrator.registerAll(spark)\n",
    "\n",
    "\n",
    "#For 3.3.2\n",
    "from shapely.geometry import Point, Polygon, mapping\n",
    "import h3.api.numpy_int as h3int "
   ]
  },
  {
   "cell_type": "code",
   "execution_count": 2,
   "id": "a608c8ab",
   "metadata": {},
   "outputs": [],
   "source": [
    "from pyspark.sql import SparkSession\n",
    "from pyspark.sql.functions import col, date_format, count, countDistinct, when, expr\n",
    "import calendar\n",
    "from pyspark.sql.types import IntegerType\n",
    "from pyspark.sql.window import Window"
   ]
  },
  {
   "cell_type": "code",
   "execution_count": 3,
   "id": "520986fc",
   "metadata": {},
   "outputs": [],
   "source": [
    "import pandas as pd\n",
    "from IPython.display import HTML\n",
    "import base64\n",
    "from pyspark.sql.functions import year, month, dayofmonth, hour, minute, second\n",
    "from pyspark.sql.functions import monotonically_increasing_id"
   ]
  },
  {
   "cell_type": "markdown",
   "id": "00ed31f2",
   "metadata": {},
   "source": [
    "# Eksplorasi Data"
   ]
  },
  {
   "cell_type": "markdown",
   "id": "20278508",
   "metadata": {},
   "source": [
    "## Data AIS"
   ]
  },
  {
   "cell_type": "code",
   "execution_count": 4,
   "id": "8e22f021",
   "metadata": {},
   "outputs": [],
   "source": [
    "basepath = \"s3a://ungp-ais-data-historical-backup/exact-earth-data/transformed/prod/\""
   ]
  },
  {
   "cell_type": "code",
   "execution_count": 5,
   "id": "ca968bfe",
   "metadata": {},
   "outputs": [],
   "source": [
    "#Read Data January 2022\n",
    "#df_data = spark.read.parquet(basepath+ \"year=2022/month=01/day=01\")\n",
    "\n",
    "#Read Data 2022\n",
    "df_data = spark.read.parquet(basepath+ \"year=2022\")"
   ]
  },
  {
   "cell_type": "code",
   "execution_count": 6,
   "id": "3e627820",
   "metadata": {},
   "outputs": [],
   "source": [
    "df_data.createOrReplaceTempView(\"temp_df\")"
   ]
  },
  {
   "cell_type": "markdown",
   "id": "2023ad74",
   "metadata": {},
   "source": [
    "## Cek Data"
   ]
  },
  {
   "cell_type": "code",
   "execution_count": 7,
   "id": "e058ce26",
   "metadata": {
    "scrolled": true
   },
   "outputs": [
    {
     "name": "stdout",
     "output_type": "stream",
     "text": [
      "root\n",
      " |-- mmsi: integer (nullable = true)\n",
      " |-- imo: integer (nullable = true)\n",
      " |-- vessel_name: string (nullable = true)\n",
      " |-- callsign: string (nullable = true)\n",
      " |-- vessel_type: string (nullable = true)\n",
      " |-- vessel_type_code: integer (nullable = true)\n",
      " |-- vessel_type_cargo: string (nullable = true)\n",
      " |-- vessel_class: string (nullable = true)\n",
      " |-- length: double (nullable = true)\n",
      " |-- width: double (nullable = true)\n",
      " |-- flag_country: string (nullable = true)\n",
      " |-- flag_code: integer (nullable = true)\n",
      " |-- destination: string (nullable = true)\n",
      " |-- eta: integer (nullable = true)\n",
      " |-- draught: double (nullable = true)\n",
      " |-- longitude: double (nullable = true)\n",
      " |-- latitude: double (nullable = true)\n",
      " |-- sog: double (nullable = true)\n",
      " |-- cog: double (nullable = true)\n",
      " |-- rot: double (nullable = true)\n",
      " |-- heading: double (nullable = true)\n",
      " |-- nav_status: string (nullable = true)\n",
      " |-- nav_status_code: integer (nullable = true)\n",
      " |-- source: string (nullable = true)\n",
      " |-- dt_pos_utc: timestamp (nullable = true)\n",
      " |-- dt_static_utc: timestamp (nullable = true)\n",
      " |-- dt_insert_utc: timestamp (nullable = true)\n",
      " |-- vessel_type_main: string (nullable = true)\n",
      " |-- vessel_type_sub: string (nullable = true)\n",
      " |-- message_type: integer (nullable = true)\n",
      " |-- eeid: long (nullable = true)\n",
      " |-- source_filename: string (nullable = true)\n",
      " |-- H3index_0: string (nullable = true)\n",
      " |-- H3_int_index_0: long (nullable = true)\n",
      " |-- H3_int_index_1: long (nullable = true)\n",
      " |-- H3_int_index_2: long (nullable = true)\n",
      " |-- H3_int_index_3: long (nullable = true)\n",
      " |-- H3_int_index_4: long (nullable = true)\n",
      " |-- H3_int_index_5: long (nullable = true)\n",
      " |-- H3_int_index_6: long (nullable = true)\n",
      " |-- H3_int_index_7: long (nullable = true)\n",
      " |-- H3_int_index_8: long (nullable = true)\n",
      " |-- H3_int_index_9: long (nullable = true)\n",
      " |-- H3_int_index_10: long (nullable = true)\n",
      " |-- H3_int_index_11: long (nullable = true)\n",
      " |-- H3_int_index_12: long (nullable = true)\n",
      " |-- H3_int_index_13: long (nullable = true)\n",
      " |-- H3_int_index_14: long (nullable = true)\n",
      " |-- H3_int_index_15: long (nullable = true)\n",
      " |-- month: integer (nullable = true)\n",
      " |-- day: integer (nullable = true)\n",
      "\n"
     ]
    }
   ],
   "source": [
    "#Check-out available fields\n",
    "df_data.printSchema()"
   ]
  },
  {
   "cell_type": "code",
   "execution_count": 8,
   "id": "e2c1d70f",
   "metadata": {},
   "outputs": [
    {
     "name": "stdout",
     "output_type": "stream",
     "text": [
      "-RECORD 0---------------------------------\n",
      " mmsi              | 273295870            \n",
      " imo               | 9167758              \n",
      " vessel_name       | ARKA-33              \n",
      " callsign          | UBPW7                \n",
      " vessel_type       | Fishing              \n",
      " vessel_type_code  | 30                   \n",
      " vessel_type_cargo | null                 \n",
      " vessel_class      | A                    \n",
      " length            | 0.0                  \n",
      " width             | 0.0                  \n",
      " flag_country      | Russian Federation   \n",
      " flag_code         | 273                  \n",
      " destination       | BARENTS SEA          \n",
      " eta               | 8112200              \n",
      " draught           | 5.0                  \n",
      " longitude         | 49.25605             \n",
      " latitude          | 76.70656667          \n",
      " sog               | 0.8                  \n",
      " cog               | 50.6                 \n",
      " rot               | 0.0                  \n",
      " heading           | 6.0                  \n",
      " nav_status        | Under Way Using E... \n",
      " nav_status_code   | 0                    \n",
      " source            | S-AIS                \n",
      " dt_pos_utc        | 2022-11-19 17:23:41  \n",
      " dt_static_utc     | 2022-11-19 12:37:44  \n",
      " dt_insert_utc     | 2022-11-19 17:24:02  \n",
      " vessel_type_main  | null                 \n",
      " vessel_type_sub   | null                 \n",
      " message_type      | 1                    \n",
      " eeid              | 6909951752121494014  \n",
      " source_filename   | s3a://ungp-ais-da... \n",
      " H3index_0         | 8001fffffffffff      \n",
      " H3_int_index_0    | 576495936675512319   \n",
      " H3_int_index_1    | 580968749977305087   \n",
      " H3_int_index_2    | 585469600825606143   \n",
      " H3_int_index_3    | 589998626659368959   \n",
      " H3_int_index_4    | 594476585331982335   \n",
      " H3_int_index_5    | 598980183885611007   \n",
      " H3_int_index_6    | 603483783378763775   \n",
      " H3_int_index_7    | 607987382905470975   \n",
      " H3_int_index_8    | 612490982518161407   \n",
      " H3_int_index_9    | 616994582143696895   \n",
      " H3_int_index_10   | 621498181771034623   \n",
      " H3_int_index_11   | 626001781398392831   \n",
      " H3_int_index_12   | 630505381025761279   \n",
      " H3_int_index_13   | 635008980653131647   \n",
      " H3_int_index_14   | 639512580280502119   \n",
      " H3_int_index_15   | 644016179907872611   \n",
      " month             | 11                   \n",
      " day               | 19                   \n",
      "-RECORD 1---------------------------------\n",
      " mmsi              | 273295870            \n",
      " imo               | 9167758              \n",
      " vessel_name       | ARKA-33              \n",
      " callsign          | UBPW7                \n",
      " vessel_type       | Fishing              \n",
      " vessel_type_code  | 30                   \n",
      " vessel_type_cargo | null                 \n",
      " vessel_class      | A                    \n",
      " length            | 0.0                  \n",
      " width             | 0.0                  \n",
      " flag_country      | Russian Federation   \n",
      " flag_code         | 273                  \n",
      " destination       | BARENTS SEA          \n",
      " eta               | 8112200              \n",
      " draught           | 5.0                  \n",
      " longitude         | 49.26321667          \n",
      " latitude          | 76.70918333          \n",
      " sog               | 0.8                  \n",
      " cog               | 63.3                 \n",
      " rot               | 0.0                  \n",
      " heading           | 352.0                \n",
      " nav_status        | Under Way Using E... \n",
      " nav_status_code   | 0                    \n",
      " source            | S-AIS                \n",
      " dt_pos_utc        | 2022-11-19 17:32:47  \n",
      " dt_static_utc     | 2022-11-19 12:37:44  \n",
      " dt_insert_utc     | 2022-11-19 17:33:12  \n",
      " vessel_type_main  | null                 \n",
      " vessel_type_sub   | null                 \n",
      " message_type      | 1                    \n",
      " eeid              | 6909951752121494014  \n",
      " source_filename   | s3a://ungp-ais-da... \n",
      " H3index_0         | 8001fffffffffff      \n",
      " H3_int_index_0    | 576495936675512319   \n",
      " H3_int_index_1    | 580968749977305087   \n",
      " H3_int_index_2    | 585469600825606143   \n",
      " H3_int_index_3    | 589998626659368959   \n",
      " H3_int_index_4    | 594476585331982335   \n",
      " H3_int_index_5    | 598980183885611007   \n",
      " H3_int_index_6    | 603483783378763775   \n",
      " H3_int_index_7    | 607987382905470975   \n",
      " H3_int_index_8    | 612490982518161407   \n",
      " H3_int_index_9    | 616994582144483327   \n",
      " H3_int_index_10   | 621498181771821055   \n",
      " H3_int_index_11   | 626001781399183359   \n",
      " H3_int_index_12   | 630505381026551295   \n",
      " H3_int_index_13   | 635008980653921599   \n",
      " H3_int_index_14   | 639512580281292055   \n",
      " H3_int_index_15   | 644016179908662579   \n",
      " month             | 11                   \n",
      " day               | 19                   \n",
      "-RECORD 2---------------------------------\n",
      " mmsi              | 273295870            \n",
      " imo               | 9167758              \n",
      " vessel_name       | ARKA-33              \n",
      " callsign          | UBPW7                \n",
      " vessel_type       | Fishing              \n",
      " vessel_type_code  | 30                   \n",
      " vessel_type_cargo | null                 \n",
      " vessel_class      | A                    \n",
      " length            | 0.0                  \n",
      " width             | 0.0                  \n",
      " flag_country      | Russian Federation   \n",
      " flag_code         | 273                  \n",
      " destination       | BARENTS SEA          \n",
      " eta               | 8112200              \n",
      " draught           | 5.0                  \n",
      " longitude         | 49.26666667          \n",
      " latitude          | 76.70975             \n",
      " sog               | 1.2                  \n",
      " cog               | 93.3                 \n",
      " rot               | 0.0                  \n",
      " heading           | 12.0                 \n",
      " nav_status        | Under Way Using E... \n",
      " nav_status_code   | 0                    \n",
      " source            | S-AIS                \n",
      " dt_pos_utc        | 2022-11-19 17:38:20  \n",
      " dt_static_utc     | 2022-11-19 12:37:44  \n",
      " dt_insert_utc     | 2022-11-19 17:41:49  \n",
      " vessel_type_main  | null                 \n",
      " vessel_type_sub   | null                 \n",
      " message_type      | 1                    \n",
      " eeid              | 6909951752121494014  \n",
      " source_filename   | s3a://ungp-ais-da... \n",
      " H3index_0         | 8001fffffffffff      \n",
      " H3_int_index_0    | 576495936675512319   \n",
      " H3_int_index_1    | 580968749977305087   \n",
      " H3_int_index_2    | 585469600825606143   \n",
      " H3_int_index_3    | 589998626659368959   \n",
      " H3_int_index_4    | 594476585331982335   \n",
      " H3_int_index_5    | 598980183885611007   \n",
      " H3_int_index_6    | 603483783378763775   \n",
      " H3_int_index_7    | 607987382905470975   \n",
      " H3_int_index_8    | 612490982518161407   \n",
      " H3_int_index_9    | 616994582144483327   \n",
      " H3_int_index_10   | 621498181771689983   \n",
      " H3_int_index_11   | 626001781399052287   \n",
      " H3_int_index_12   | 630505381026422271   \n",
      " H3_int_index_13   | 635008980653792575   \n",
      " H3_int_index_14   | 639512580281163023   \n",
      " H3_int_index_15   | 644016179908533505   \n",
      " month             | 11                   \n",
      " day               | 19                   \n",
      "-RECORD 3---------------------------------\n",
      " mmsi              | 273295870            \n",
      " imo               | 9167758              \n",
      " vessel_name       | ARKA-33              \n",
      " callsign          | UBPW7                \n",
      " vessel_type       | Fishing              \n",
      " vessel_type_code  | 30                   \n",
      " vessel_type_cargo | null                 \n",
      " vessel_class      | A                    \n",
      " length            | 0.0                  \n",
      " width             | 0.0                  \n",
      " flag_country      | Russian Federation   \n",
      " flag_code         | 273                  \n",
      " destination       | BARENTS SEA          \n",
      " eta               | 8112200              \n",
      " draught           | 5.0                  \n",
      " longitude         | 49.24713333          \n",
      " latitude          | 76.71133333          \n",
      " sog               | 4.7                  \n",
      " cog               | 319.7                \n",
      " rot               | 0.0                  \n",
      " heading           | 320.0                \n",
      " nav_status        | Under Way Using E... \n",
      " nav_status_code   | 0                    \n",
      " source            | S-AIS                \n",
      " dt_pos_utc        | 2022-11-19 17:59:43  \n",
      " dt_static_utc     | 2022-11-19 17:49:47  \n",
      " dt_insert_utc     | 2022-11-19 18:00:08  \n",
      " vessel_type_main  | null                 \n",
      " vessel_type_sub   | null                 \n",
      " message_type      | 1                    \n",
      " eeid              | 6909951752121494014  \n",
      " source_filename   | s3a://ungp-ais-da... \n",
      " H3index_0         | 8001fffffffffff      \n",
      " H3_int_index_0    | 576495936675512319   \n",
      " H3_int_index_1    | 580968749977305087   \n",
      " H3_int_index_2    | 585469600825606143   \n",
      " H3_int_index_3    | 589998626659368959   \n",
      " H3_int_index_4    | 594476585331982335   \n",
      " H3_int_index_5    | 598980183885611007   \n",
      " H3_int_index_6    | 603483783378763775   \n",
      " H3_int_index_7    | 607987382905470975   \n",
      " H3_int_index_8    | 612490982518161407   \n",
      " H3_int_index_9    | 616994582143959039   \n",
      " H3_int_index_10   | 621498181771263999   \n",
      " H3_int_index_11   | 626001781398614015   \n",
      " H3_int_index_12   | 630505381025982975   \n",
      " H3_int_index_13   | 635008980653353087   \n",
      " H3_int_index_14   | 639512580280723575   \n",
      " H3_int_index_15   | 644016179908094067   \n",
      " month             | 11                   \n",
      " day               | 19                   \n",
      "-RECORD 4---------------------------------\n",
      " mmsi              | 273295870            \n",
      " imo               | 9167758              \n",
      " vessel_name       | ARKA-33              \n",
      " callsign          | UBPW7                \n",
      " vessel_type       | Fishing              \n",
      " vessel_type_code  | 30                   \n",
      " vessel_type_cargo | null                 \n",
      " vessel_class      | A                    \n",
      " length            | 0.0                  \n",
      " width             | 0.0                  \n",
      " flag_country      | Russian Federation   \n",
      " flag_code         | 273                  \n",
      " destination       | BARENTS SEA          \n",
      " eta               | 8112200              \n",
      " draught           | 5.0                  \n",
      " longitude         | 49.26831667          \n",
      " latitude          | 76.70758333          \n",
      " sog               | 0.8                  \n",
      " cog               | 106.7                \n",
      " rot               | 0.0                  \n",
      " heading           | 338.0                \n",
      " nav_status        | Under Way Using E... \n",
      " nav_status_code   | 0                    \n",
      " source            | S-AIS                \n",
      " dt_pos_utc        | 2022-11-19 17:49:37  \n",
      " dt_static_utc     | 2022-11-19 15:49:43  \n",
      " dt_insert_utc     | 2022-11-19 17:49:55  \n",
      " vessel_type_main  | null                 \n",
      " vessel_type_sub   | null                 \n",
      " message_type      | 3                    \n",
      " eeid              | 6909951752121494014  \n",
      " source_filename   | s3a://ungp-ais-da... \n",
      " H3index_0         | 8001fffffffffff      \n",
      " H3_int_index_0    | 576495936675512319   \n",
      " H3_int_index_1    | 580968749977305087   \n",
      " H3_int_index_2    | 585469600825606143   \n",
      " H3_int_index_3    | 589998626659368959   \n",
      " H3_int_index_4    | 594476585331982335   \n",
      " H3_int_index_5    | 598980183885611007   \n",
      " H3_int_index_6    | 603483783378763775   \n",
      " H3_int_index_7    | 607987382905470975   \n",
      " H3_int_index_8    | 612490982518161407   \n",
      " H3_int_index_9    | 616994582144221183   \n",
      " H3_int_index_10   | 621498181771362303   \n",
      " H3_int_index_11   | 626001781398724607   \n",
      " H3_int_index_12   | 630505381026092543   \n",
      " H3_int_index_13   | 635008980653462655   \n",
      " H3_int_index_14   | 639512580280833135   \n",
      " H3_int_index_15   | 644016179908203628   \n",
      " month             | 11                   \n",
      " day               | 19                   \n",
      "only showing top 5 rows\n",
      "\n"
     ]
    }
   ],
   "source": [
    "# Show sample 5 data\n",
    "# df.show(n=1, vertical=True)\n",
    "df_data.show(n=5, vertical=True)"
   ]
  },
  {
   "cell_type": "markdown",
   "id": "7574df56",
   "metadata": {},
   "source": [
    "## Jumlah Records"
   ]
  },
  {
   "cell_type": "code",
   "execution_count": 9,
   "id": "7f6544a6",
   "metadata": {},
   "outputs": [
    {
     "data": {
      "text/plain": [
       "8898338622"
      ]
     },
     "execution_count": 9,
     "metadata": {},
     "output_type": "execute_result"
    }
   ],
   "source": [
    "total_record = df_data.count()\n",
    "total_record"
   ]
  },
  {
   "cell_type": "markdown",
   "id": "97bf99c9",
   "metadata": {},
   "source": [
    "## Filter Data 20222"
   ]
  },
  {
   "cell_type": "code",
   "execution_count": null,
   "id": "6568e896",
   "metadata": {},
   "outputs": [],
   "source": [
    "# Ekstrak tahun dari kolom yang berisi tanggal atau waktu\n",
    "df_data = df_data.withColumn(\"tahun\", date_format(\"dt_pos_utc\", \"yyyy\"))\n",
    "\n",
    "# Filter data untuk tahun 2022\n",
    "df_data = df_data.filter(df_data[\"tahun\"] == 2022)"
   ]
  },
  {
   "cell_type": "markdown",
   "id": "251fd7e4",
   "metadata": {},
   "source": [
    "## MMSI Unik"
   ]
  },
  {
   "cell_type": "markdown",
   "id": "55c8b42f",
   "metadata": {},
   "source": [
    "### MMSI Unik"
   ]
  },
  {
   "cell_type": "code",
   "execution_count": 7,
   "id": "3d0ca11d",
   "metadata": {},
   "outputs": [
    {
     "name": "stdout",
     "output_type": "stream",
     "text": [
      "+---------+-----------------+\n",
      "|   months|unique_mmsi_count|\n",
      "+---------+-----------------+\n",
      "|     July|           430439|\n",
      "| November|           434614|\n",
      "| February|           348615|\n",
      "|  January|           365320|\n",
      "|    March|           385988|\n",
      "|  October|           416394|\n",
      "|      May|           424319|\n",
      "|   August|           445807|\n",
      "|    April|           418933|\n",
      "|     June|           414900|\n",
      "| December|           370072|\n",
      "|September|           439775|\n",
      "+---------+-----------------+\n",
      "\n"
     ]
    }
   ],
   "source": [
    "# Hitung jumlah 'mmsi' yang unik per bulan\n",
    "unique_mmsi_per_month = df_data.withColumn(\"months\", date_format(\"dt_pos_utc\", \"MMMM\")) \\\n",
    "    .groupBy(\"months\").agg(countDistinct(\"mmsi\").alias(\"unique_mmsi_count\"))\n",
    "\n",
    "# Tampilkan DataFrame Spark\n",
    "unique_mmsi_per_month.show()"
   ]
  },
  {
   "cell_type": "markdown",
   "id": "1a06c72c",
   "metadata": {},
   "source": [
    "### per Negara Kapal"
   ]
  },
  {
   "cell_type": "code",
   "execution_count": 9,
   "id": "ae505c0e",
   "metadata": {
    "scrolled": true
   },
   "outputs": [
    {
     "name": "stdout",
     "output_type": "stream",
     "text": [
      "+--------------------------------+----------------------------------+\n",
      "|flag_country                    |unique_mmsi_per_flag_country_count|\n",
      "+--------------------------------+----------------------------------+\n",
      "|Paraguay                        |258                               |\n",
      "|Anguilla                        |183                               |\n",
      "|Macao                           |143                               |\n",
      "|Yemen                           |98                                |\n",
      "|Senegal                         |125                               |\n",
      "|Sweden                          |9382                              |\n",
      "|Kiribati                        |150                               |\n",
      "|Guyana                          |135                               |\n",
      "|Philippines                     |1090                              |\n",
      "|Eritrea                         |60                                |\n",
      "|Tonga                           |67                                |\n",
      "|Djibouti                        |141                               |\n",
      "|Singapore                       |6877                              |\n",
      "|Malaysia                        |3487                              |\n",
      "|Fiji                            |187                               |\n",
      "|Turkey                          |5710                              |\n",
      "|Malawi                          |51                                |\n",
      "|Iraq                            |162                               |\n",
      "|Germany                         |19116                             |\n",
      "|Comoros                         |475                               |\n",
      "|Cambodia                        |270                               |\n",
      "|Jordan                          |69                                |\n",
      "|Saint Helena                    |92                                |\n",
      "|Rwanda                          |439                               |\n",
      "|Maldives                        |121                               |\n",
      "|Sudan                           |154                               |\n",
      "|Palau                           |700                               |\n",
      "|Ascension Island                |167                               |\n",
      "|France                          |18426                             |\n",
      "|Turks and Caicos Islands        |73                                |\n",
      "|Greece                          |3004                              |\n",
      "|Sri Lanka                       |3322                              |\n",
      "|Kerguelen Islands               |126                               |\n",
      "|Montserrat                      |33                                |\n",
      "|Taiwan                          |7392                              |\n",
      "|British Virgin Islands          |704                               |\n",
      "|Dominica                        |208                               |\n",
      "|Togo                            |471                               |\n",
      "|Algeria                         |266                               |\n",
      "|Equatorial Guinea               |111                               |\n",
      "|Slovakia                        |254                               |\n",
      "|Reunion                         |677                               |\n",
      "|Adelie Land                     |73                                |\n",
      "|Argentina                       |1269                              |\n",
      "|Belgium                         |4696                              |\n",
      "|Angola                          |149                               |\n",
      "|San Marino                      |167                               |\n",
      "|Qatar                           |949                               |\n",
      "|Ecuador                         |771                               |\n",
      "|Lesotho                         |27                                |\n",
      "|Pitcairn Island                 |306                               |\n",
      "|Madagascar                      |113                               |\n",
      "|Albania                         |1561                              |\n",
      "|Finland                         |2588                              |\n",
      "|New Caledonia                   |316                               |\n",
      "|Ghana                           |128                               |\n",
      "|Nicaragua                       |380                               |\n",
      "|Myanmar                         |1430                              |\n",
      "|Sierra Leone                    |810                               |\n",
      "|Peru                            |510                               |\n",
      "|Cocos Islands                   |87                                |\n",
      "|Benin                           |83                                |\n",
      "|China                           |238584                            |\n",
      "|Bahamas                         |1506                              |\n",
      "|India                           |8332                              |\n",
      "|Belarus                         |86                                |\n",
      "|Malta                           |5684                              |\n",
      "|Kuwait                          |187                               |\n",
      "|Sao Tome and Principe           |286                               |\n",
      "|Marshall Islands                |6266                              |\n",
      "|Tuvalu                          |395                               |\n",
      "|Somalia                         |545                               |\n",
      "|Chile                           |745                               |\n",
      "|Puerto Rico                     |167                               |\n",
      "|Martinique                      |238                               |\n",
      "|Cayman Islands                  |2110                              |\n",
      "|Croatia                         |1200                              |\n",
      "|Burundi                         |77                                |\n",
      "|Wallis and Futuna Islands       |66                                |\n",
      "|Nigeria                         |1023                              |\n",
      "|Bolivia                         |121                               |\n",
      "|Andorra                         |1437                              |\n",
      "|Gabon                           |158                               |\n",
      "|Italy                           |7992                              |\n",
      "|Netherlands Antilles            |161                               |\n",
      "|Lithuania                       |244                               |\n",
      "|Norway                          |14410                             |\n",
      "|Turkmenistan                    |132                               |\n",
      "|Spain                           |8585                              |\n",
      "|Saint Pierre and Miquelon       |93                                |\n",
      "|Cuba                            |241                               |\n",
      "|Mauritania                      |162                               |\n",
      "|Tahiti                          |182                               |\n",
      "|Guadeloupe                      |207                               |\n",
      "|Denmark                         |9056                              |\n",
      "|Niger                           |60                                |\n",
      "|Central African Republic        |328                               |\n",
      "|Barbados                        |368                               |\n",
      "|Bangladesh                      |241                               |\n",
      "|Iran                            |5167                              |\n",
      "|Alaska                          |261                               |\n",
      "|Russian Federation              |8024                              |\n",
      "|Ireland                         |1368                              |\n",
      "|Congo                           |292                               |\n",
      "|Liechtenstein                   |85                                |\n",
      "|Thailand                        |2231                              |\n",
      "|Christmas Island                |119                               |\n",
      "|Bhutan                          |621                               |\n",
      "|Morocco                         |317                               |\n",
      "|Monaco                          |200                               |\n",
      "|Panama                          |11252                             |\n",
      "|Hong Kong                       |4302                              |\n",
      "|Venezuela                       |1751                              |\n",
      "|Ukraine                         |614                               |\n",
      "|Iceland                         |1838                              |\n",
      "|Israel                          |381                               |\n",
      "|Saint Kitts and Nevis           |499                               |\n",
      "|USA                             |52773                             |\n",
      "|North Korea                     |245                               |\n",
      "|South Korea                     |11092                             |\n",
      "|Cyprus                          |6176                              |\n",
      "|Gibraltar                       |666                               |\n",
      "|Uruguay                         |348                               |\n",
      "|Mexico                          |832                               |\n",
      "|Estonia                         |483                               |\n",
      "|Georgia                         |374                               |\n",
      "|Montenegro                      |158                               |\n",
      "|Indonesia                       |16370                             |\n",
      "|Saint Vincent and the Grenadines|1144                              |\n",
      "|Mongolia                        |523                               |\n",
      "|Azerbaijan                      |433                               |\n",
      "|Libya                           |94                                |\n",
      "|Grenada                         |207                               |\n",
      "|Armenia                         |272                               |\n",
      "|Liberia                         |6376                              |\n",
      "|Tunisia                         |156                               |\n",
      "|Honduras                        |108                               |\n",
      "|Syria                           |49                                |\n",
      "|UK                              |25970                             |\n",
      "|Trinidad and Tobago             |180                               |\n",
      "|Saudi Arabia                    |2415                              |\n",
      "|Namibia                         |177                               |\n",
      "|Switzerland                     |1225                              |\n",
      "|Zambia                          |75                                |\n",
      "|Ethiopia                        |27                                |\n",
      "|Latvia                          |308                               |\n",
      "|Jamaica                         |457                               |\n",
      "|Brunei                          |87                                |\n",
      "|United Arab Emirates            |1239                              |\n",
      "|Guinea                          |68                                |\n",
      "|Azores                          |874                               |\n",
      "|Canada                          |8716                              |\n",
      "|Seychelles                      |397                               |\n",
      "|Faroe Islands                   |764                               |\n",
      "|Macedonia                       |63                                |\n",
      "|Samoa                           |116                               |\n",
      "|Kyrgyzstan                      |98                                |\n",
      "|Mozambique                      |112                               |\n",
      "|Czech Republic                  |230                               |\n",
      "|Cook Islands                    |1208                              |\n",
      "|Belize                          |999                               |\n",
      "|Brazil                          |3084                              |\n",
      "|Lebanon                         |128                               |\n",
      "|Antigua and Barbuda             |862                               |\n",
      "|Japan                           |11499                             |\n",
      "|Tanzania                        |498                               |\n",
      "|Botswana                        |178                               |\n",
      "|Luxembourg                      |488                               |\n",
      "|New Zealand                     |2504                              |\n",
      "|Greenland                       |383                               |\n",
      "|Poland                          |2258                              |\n",
      "|Portugal                        |1246                              |\n",
      "|Australia                       |9280                              |\n",
      "|Papua New Guinea                |197                               |\n",
      "|Cameroon                        |469                               |\n",
      "|Guinea-Bissau                   |80                                |\n",
      "|Romania                         |626                               |\n",
      "|Bulgaria                        |596                               |\n",
      "|Solomon Islands                 |55                                |\n",
      "|Austria                         |883                               |\n",
      "|Nepal                           |48                                |\n",
      "|Egypt                           |498                               |\n",
      "|Kazakhstan                      |184                               |\n",
      "|Costa Rica                      |276                               |\n",
      "|El Salvador                     |69                                |\n",
      "|Serbia                          |159                               |\n",
      "|South Africa                    |1091                              |\n",
      "|Burkina Faso                    |87                                |\n",
      "|Bermuda                         |434                               |\n",
      "|Bahrain                         |4779                              |\n",
      "|Micronesia                      |371                               |\n",
      "|Colombia                        |432                               |\n",
      "|Hungary                         |273                               |\n",
      "|Pakistan                        |597                               |\n",
      "|Vanuatu                         |681                               |\n",
      "|Vatican City                    |417                               |\n",
      "|Niue                            |219                               |\n",
      "|Madeira                         |1149                              |\n",
      "|Mauritius                       |220                               |\n",
      "|Moldova                         |255                               |\n",
      "|Vietnam                         |35145                             |\n",
      "|Netherlands                     |23459                             |\n",
      "|Crozet Archipelago              |134                               |\n",
      "|Afghanistan                     |106                               |\n",
      "|Ivory Coast                     |87                                |\n",
      "|Tajikistan                      |44                                |\n",
      "|Saint Paul and Amsterdam Islands|47                                |\n",
      "|Swaziland                       |137                               |\n",
      "|Laos                            |53                                |\n",
      "|Cape Verde                      |79                                |\n",
      "|Nauru                           |61                                |\n",
      "|Oman                            |227                               |\n",
      "|Palestine                       |53                                |\n",
      "|Guatemala                       |146                               |\n",
      "|Uganda                          |73                                |\n",
      "|South Sudan                     |70                                |\n",
      "|Kenya                           |69                                |\n",
      "|Slovenia                        |185                               |\n",
      "|Falkland Islands                |84                                |\n",
      "|Bosnia and Herzegovina          |30                                |\n",
      "|Haiti                           |106                               |\n",
      "|French Guiana                   |38                                |\n",
      "|Uzbekistan                      |32                                |\n",
      "|Northern Mariana                |65                                |\n",
      "|Dominican Republic              |58                                |\n",
      "|American Samoa                  |59                                |\n",
      "|Saint Lucia                     |48                                |\n",
      "|Chad                            |27                                |\n",
      "|Suriname                        |52                                |\n",
      "|Mali                            |11                                |\n",
      "|Gambia                          |33                                |\n",
      "|Aruba                           |15                                |\n",
      "|Zimbabwe                        |8                                 |\n",
      "|US Virgin Islands               |16                                |\n",
      "+--------------------------------+----------------------------------+\n",
      "\n"
     ]
    }
   ],
   "source": [
    "# Filter out rows where 'flag_country' is not null\n",
    "df_filtered = df_data.filter(col(\"flag_country\").isNotNull())\n",
    "\n",
    "# Hitung jumlah 'mmsi' yang unik berdasarkan 'flag_country'\n",
    "unique_mmsi_per_flag_country = df_filtered.groupBy(\"flag_country\").agg(countDistinct(\"mmsi\").alias(\"unique_mmsi_per_flag_country_count\"))\n",
    "\n",
    "# Tampilkan DataFrame Spark\n",
    "unique_mmsi_per_flag_country.show(unique_mmsi_per_flag_country.count(), truncate=False) "
   ]
  },
  {
   "cell_type": "markdown",
   "id": "2ae24a85",
   "metadata": {},
   "source": [
    "### per Tipe Kapal"
   ]
  },
  {
   "cell_type": "code",
   "execution_count": 10,
   "id": "7cc93668",
   "metadata": {
    "scrolled": true
   },
   "outputs": [
    {
     "name": "stdout",
     "output_type": "stream",
     "text": [
      "+------------------------------------+---------------------------------+\n",
      "|vessel_type                         |unique_mmsi_per_vessel_type_count|\n",
      "+------------------------------------+---------------------------------+\n",
      "|Sailing                             |83611                            |\n",
      "|Tanker                              |37432                            |\n",
      "|Ships Not Party to Armed Conflict   |490                              |\n",
      "|Military                            |3436                             |\n",
      "|Towing                              |9650                             |\n",
      "|Reserved                            |7370                             |\n",
      "|SAR                                 |6027                             |\n",
      "|Unknown                             |400771                           |\n",
      "|Other                               |26880                            |\n",
      "|UNAVAILABLE                         |17418                            |\n",
      "|Tug                                 |27270                            |\n",
      "|Law Enforcement                     |4271                             |\n",
      "|Pleasure Craft                      |97459                            |\n",
      "|Passenger                           |25054                            |\n",
      "|Diving                              |1434                             |\n",
      "|Fishing                             |187278                           |\n",
      "|Port Tender                         |4072                             |\n",
      "|Spare                               |2881                             |\n",
      "|Medical Transport                   |249                              |\n",
      "|WIG                                 |4677                             |\n",
      "|Pilot                               |4304                             |\n",
      "|Dredging                            |6096                             |\n",
      "|Not Available                       |35463                            |\n",
      "|Cargo                               |168412                           |\n",
      "|Vessel With Anti-Pollution Equipment|1894                             |\n",
      "|HSC                                 |5160                             |\n",
      "+------------------------------------+---------------------------------+\n",
      "\n"
     ]
    }
   ],
   "source": [
    "# Hitung jumlah 'mmsi' yang unik berdasarkan 'vessel_type'\n",
    "unique_mmsi_per_vessel_type = df_data.groupBy(\"vessel_type\").agg(countDistinct(\"mmsi\").alias(\"unique_mmsi_per_vessel_type_count\"))\n",
    "\n",
    "# Tampilkan DataFrame Spark\n",
    "unique_mmsi_per_vessel_type.show(unique_mmsi_per_vessel_type.count(), truncate=False)"
   ]
  },
  {
   "cell_type": "markdown",
   "id": "a19b27f6",
   "metadata": {},
   "source": [
    "## IMO Unik"
   ]
  },
  {
   "cell_type": "markdown",
   "id": "c325724d",
   "metadata": {},
   "source": [
    "### IMO Unik"
   ]
  },
  {
   "cell_type": "code",
   "execution_count": 8,
   "id": "2d47db8f",
   "metadata": {},
   "outputs": [
    {
     "name": "stdout",
     "output_type": "stream",
     "text": [
      "+---------+----------------+\n",
      "|   months|unique_imo_count|\n",
      "+---------+----------------+\n",
      "|     July|           77247|\n",
      "| November|           77442|\n",
      "| February|           75111|\n",
      "|  January|           77309|\n",
      "|    March|           76895|\n",
      "|  October|           77595|\n",
      "|      May|           77011|\n",
      "|   August|           77352|\n",
      "|    April|           76340|\n",
      "|     June|           76935|\n",
      "| December|           76752|\n",
      "|September|           77300|\n",
      "+---------+----------------+\n",
      "\n"
     ]
    }
   ],
   "source": [
    "# Hitung jumlah 'imo' yang unik per bulan\n",
    "unique_imo_per_month = df_data.withColumn(\"months\", date_format(\"dt_pos_utc\", \"MMMM\")) \\\n",
    "    .groupBy(\"months\").agg(countDistinct(\"imo\").alias(\"unique_imo_count\"))\n",
    "\n",
    "# Tampilkan DataFrame Spark\n",
    "unique_imo_per_month.show()"
   ]
  },
  {
   "cell_type": "markdown",
   "id": "5ea6b5fd",
   "metadata": {},
   "source": [
    "### per Negara Kapal"
   ]
  },
  {
   "cell_type": "code",
   "execution_count": 11,
   "id": "364d8c21",
   "metadata": {},
   "outputs": [
    {
     "name": "stdout",
     "output_type": "stream",
     "text": [
      "+--------------------------------+---------------------------------+\n",
      "|flag_country                    |unique_imo_per_flag_country_count|\n",
      "+--------------------------------+---------------------------------+\n",
      "|Paraguay                        |70                               |\n",
      "|Yemen                           |12                               |\n",
      "|Sweden                          |439                              |\n",
      "|Kiribati                        |64                               |\n",
      "|Guyana                          |83                               |\n",
      "|Philippines                     |689                              |\n",
      "|Eritrea                         |2                                |\n",
      "|Tonga                           |15                               |\n",
      "|Djibouti                        |37                               |\n",
      "|Malaysia                        |1138                             |\n",
      "|Singapore                       |4181                             |\n",
      "|Fiji                            |36                               |\n",
      "|Turkey                          |926                              |\n",
      "|Iraq                            |32                               |\n",
      "|Germany                         |1001                             |\n",
      "|Comoros                         |336                              |\n",
      "|Crozet Archipelago              |1                                |\n",
      "|Cambodia                        |26                               |\n",
      "|Afghanistan                     |1                                |\n",
      "|Jordan                          |36                               |\n",
      "|Saint Helena                    |8                                |\n",
      "|Palau                           |640                              |\n",
      "|France                          |941                              |\n",
      "|Greece                          |1812                             |\n",
      "|Kerguelen Islands               |61                               |\n",
      "|Sri Lanka                       |238                              |\n",
      "|Taiwan                          |611                              |\n",
      "|British Virgin Islands          |164                              |\n",
      "|Togo                            |413                              |\n",
      "|Algeria                         |163                              |\n",
      "|Equatorial Guinea               |42                               |\n",
      "|null                            |596                              |\n",
      "|Reunion                         |25                               |\n",
      "|Argentina                       |573                              |\n",
      "|Belgium                         |620                              |\n",
      "|Angola                          |43                               |\n",
      "|Ecuador                         |218                              |\n",
      "|Qatar                           |148                              |\n",
      "|Pitcairn Island                 |21                               |\n",
      "|Albania                         |58                               |\n",
      "|Madagascar                      |8                                |\n",
      "|Finland                         |307                              |\n",
      "|Ghana                           |45                               |\n",
      "|Myanmar                         |40                               |\n",
      "|Sierra Leone                    |641                              |\n",
      "|Peru                            |176                              |\n",
      "|Benin                           |8                                |\n",
      "|China                           |10304                            |\n",
      "|India                           |1351                             |\n",
      "|Bahamas                         |1696                             |\n",
      "|Malta                           |4530                             |\n",
      "|Kuwait                          |147                              |\n",
      "|Marshall Islands                |7176                             |\n",
      "|Somalia                         |48                               |\n",
      "|Tuvalu                          |292                              |\n",
      "|Chile                           |344                              |\n",
      "|Cayman Islands                  |2577                             |\n",
      "|Croatia                         |251                              |\n",
      "|Nigeria                         |690                              |\n",
      "|Bolivia                         |31                               |\n",
      "|Gabon                           |112                              |\n",
      "|Italy                           |3974                             |\n",
      "|Saint Paul and Amsterdam Islands|16                               |\n",
      "|Lithuania                       |106                              |\n",
      "|Norway                          |2767                             |\n",
      "|Turkmenistan                    |63                               |\n",
      "|Spain                           |1086                             |\n",
      "|Cuba                            |44                               |\n",
      "|Tahiti                          |27                               |\n",
      "|Denmark                         |1178                             |\n",
      "|Barbados                        |391                              |\n",
      "|Bangladesh                      |162                              |\n",
      "|Iran                            |1159                             |\n",
      "|Alaska                          |135                              |\n",
      "|Russian Federation              |4182                             |\n",
      "|Ireland                         |181                              |\n",
      "|Congo                           |14                               |\n",
      "|Liechtenstein                   |12                               |\n",
      "|Thailand                        |561                              |\n",
      "|Laos                            |30                               |\n",
      "|Bhutan                          |23                               |\n",
      "|Morocco                         |137                              |\n",
      "|Monaco                          |54                               |\n",
      "|Panama                          |9982                             |\n",
      "|Hong Kong                       |3403                             |\n",
      "|Nauru                           |26                               |\n",
      "|Venezuela                       |133                              |\n",
      "|Ukraine                         |130                              |\n",
      "|Iceland                         |299                              |\n",
      "|Israel                          |34                               |\n",
      "|Saint Kitts and Nevis           |425                              |\n",
      "|USA                             |5485                             |\n",
      "|North Korea                     |163                              |\n",
      "|South Korea                     |1956                             |\n",
      "|Cyprus                          |1541                             |\n",
      "|Gibraltar                       |249                              |\n",
      "|Uruguay                         |74                               |\n",
      "|Mexico                          |592                              |\n",
      "|Estonia                         |111                              |\n",
      "|Georgia                         |56                               |\n",
      "|Indonesia                       |4061                             |\n",
      "|Saint Vincent and the Grenadines|921                              |\n",
      "|Mongolia                        |323                              |\n",
      "|Guatemala                       |12                               |\n",
      "|Azerbaijan                      |251                              |\n",
      "|Libya                           |40                               |\n",
      "|Liberia                         |7537                             |\n",
      "|Tunisia                         |91                               |\n",
      "|UK                              |2482                             |\n",
      "|Trinidad and Tobago             |53                               |\n",
      "|Saudi Arabia                    |407                              |\n",
      "|French Guiana                   |10                               |\n",
      "|Namibia                         |79                               |\n",
      "|Switzerland                     |94                               |\n",
      "|Ethiopia                        |14                               |\n",
      "|Latvia                          |124                              |\n",
      "|Jamaica                         |189                              |\n",
      "|Brunei                          |44                               |\n",
      "|United Arab Emirates            |789                              |\n",
      "|Saint Lucia                     |14                               |\n",
      "|Guinea                          |9                                |\n",
      "|Azores                          |387                              |\n",
      "|Canada                          |792                              |\n",
      "|Seychelles                      |53                               |\n",
      "|Faroe Islands                   |197                              |\n",
      "|Samoa                           |20                               |\n",
      "|Mozambique                      |15                               |\n",
      "|Cook Islands                    |284                              |\n",
      "|Brazil                          |618                              |\n",
      "|Belize                          |795                              |\n",
      "|Gambia                          |17                               |\n",
      "|Kenya                           |14                               |\n",
      "|Antigua and Barbuda             |951                              |\n",
      "|Japan                           |2994                             |\n",
      "|Tanzania                        |385                              |\n",
      "|Luxembourg                      |329                              |\n",
      "|New Zealand                     |103                              |\n",
      "|Greenland                       |80                               |\n",
      "|Poland                          |168                              |\n",
      "|Portugal                        |138                              |\n",
      "|Cameroon                        |309                              |\n",
      "|Australia                       |456                              |\n",
      "|Papua New Guinea                |101                              |\n",
      "|Romania                         |107                              |\n",
      "|Guinea-Bissau                   |42                               |\n",
      "|Bulgaria                        |59                               |\n",
      "|Egypt                           |202                              |\n",
      "|Kazakhstan                      |100                              |\n",
      "|South Africa                    |82                               |\n",
      "|Bermuda                         |283                              |\n",
      "|Bahrain                         |150                              |\n",
      "|Colombia                        |109                              |\n",
      "|Hungary                         |13                               |\n",
      "|Pakistan                        |55                               |\n",
      "|Vanuatu                         |494                              |\n",
      "|Northern Mariana                |14                               |\n",
      "|Niue                            |88                               |\n",
      "|Madeira                         |1469                             |\n",
      "|Moldova                         |159                              |\n",
      "|Vietnam                         |1635                             |\n",
      "|Netherlands                     |3076                             |\n",
      "|Senegal                         |39                               |\n",
      "|Turks and Caicos Islands        |1                                |\n",
      "|Dominica                        |74                               |\n",
      "|Lesotho                         |4                                |\n",
      "|New Caledonia                   |45                               |\n",
      "|Tajikistan                      |1                                |\n",
      "|Puerto Rico                     |4                                |\n",
      "|Martinique                      |3                                |\n",
      "|Andorra                         |18                               |\n",
      "|Suriname                        |7                                |\n",
      "|Netherlands Antilles            |66                               |\n",
      "|Montenegro                      |34                               |\n",
      "|Honduras                        |35                               |\n",
      "|Falkland Islands                |23                               |\n",
      "|Burkina Faso                    |7                                |\n",
      "|Mauritius                       |46                               |\n",
      "|Maldives                        |14                               |\n",
      "|Ivory Coast                     |7                                |\n",
      "|Slovakia                        |21                               |\n",
      "|Adelie Land                     |1                                |\n",
      "|Nicaragua                       |9                                |\n",
      "|Sao Tome and Principe           |34                               |\n",
      "|Wallis and Futuna Islands       |23                               |\n",
      "|Guadeloupe                      |10                               |\n",
      "|Cape Verde                      |24                               |\n",
      "|Oman                            |48                               |\n",
      "|Palestine                       |1                                |\n",
      "|Syria                           |10                               |\n",
      "|Zambia                          |7                                |\n",
      "|Uzbekistan                      |3                                |\n",
      "|Kyrgyzstan                      |7                                |\n",
      "|Lebanon                         |39                               |\n",
      "|Dominican Republic              |23                               |\n",
      "|El Salvador                     |14                               |\n",
      "|Micronesia                      |41                               |\n",
      "|Malawi                          |4                                |\n",
      "|Montserrat                      |2                                |\n",
      "|Belarus                         |11                               |\n",
      "|Niger                           |6                                |\n",
      "|Armenia                         |16                               |\n",
      "|Uganda                          |7                                |\n",
      "|US Virgin Islands               |3                                |\n",
      "|Czech Republic                  |13                               |\n",
      "|Haiti                           |4                                |\n",
      "|Solomon Islands                 |16                               |\n",
      "|Costa Rica                      |13                               |\n",
      "|Central African Republic        |9                                |\n",
      "|Austria                         |18                               |\n",
      "|Vatican City                    |11                               |\n",
      "|Chad                            |4                                |\n",
      "|Anguilla                        |9                                |\n",
      "|Ascension Island                |7                                |\n",
      "|Mauritania                      |28                               |\n",
      "|Sudan                           |5                                |\n",
      "|San Marino                      |15                               |\n",
      "|Saint Pierre and Miquelon       |8                                |\n",
      "|Macedonia                       |23                               |\n",
      "|Macao                           |3                                |\n",
      "|Grenada                         |7                                |\n",
      "|Serbia                          |6                                |\n",
      "|Aruba                           |6                                |\n",
      "|South Sudan                     |3                                |\n",
      "|Slovenia                        |9                                |\n",
      "|Bosnia and Herzegovina          |2                                |\n",
      "|Burundi                         |2                                |\n",
      "|Zimbabwe                        |1                                |\n",
      "|Rwanda                          |2                                |\n",
      "|Botswana                        |3                                |\n",
      "|Nepal                           |1                                |\n",
      "|Christmas Island                |2                                |\n",
      "|Cocos Islands                   |3                                |\n",
      "|American Samoa                  |2                                |\n",
      "|Mali                            |0                                |\n",
      "|Swaziland                       |0                                |\n",
      "+--------------------------------+---------------------------------+\n",
      "\n"
     ]
    }
   ],
   "source": [
    "# Hitung jumlah 'mmsi' yang unik berdasarkan 'vessel_type'\n",
    "unique_imo_per_flag_country = df_data.select(\"imo\",\"flag_country\").groupBy(\"flag_country\").agg(countDistinct(\"imo\").alias(\"unique_imo_per_flag_country_count\"))\n",
    "\n",
    "# Tampilkan DataFrame Spark\n",
    "unique_imo_per_flag_country.show(unique_imo_per_flag_country.count(), truncate=False)"
   ]
  },
  {
   "cell_type": "markdown",
   "id": "26183884",
   "metadata": {},
   "source": [
    "### per Tipe Kapal"
   ]
  },
  {
   "cell_type": "code",
   "execution_count": 12,
   "id": "4a6c8708",
   "metadata": {},
   "outputs": [
    {
     "name": "stdout",
     "output_type": "stream",
     "text": [
      "+------------------------------------+--------------------------------+\n",
      "|vessel_type                         |unique_imo_per_vessel_type_count|\n",
      "+------------------------------------+--------------------------------+\n",
      "|Sailing                             |1829                            |\n",
      "|Tanker                              |22347                           |\n",
      "|Ships Not Party to Armed Conflict   |205                             |\n",
      "|Military                            |1142                            |\n",
      "|Towing                              |3006                            |\n",
      "|Reserved                            |2285                            |\n",
      "|SAR                                 |969                             |\n",
      "|Unknown                             |19827                           |\n",
      "|Other                               |10542                           |\n",
      "|UNAVAILABLE                         |293                             |\n",
      "|Tug                                 |11640                           |\n",
      "|Law Enforcement                     |918                             |\n",
      "|Pleasure Craft                      |6814                            |\n",
      "|Passenger                           |9914                            |\n",
      "|Diving                              |384                             |\n",
      "|Fishing                             |11515                           |\n",
      "|Port Tender                         |498                             |\n",
      "|Spare                               |1333                            |\n",
      "|Medical Transport                   |85                              |\n",
      "|WIG                                 |1761                            |\n",
      "|Pilot                               |992                             |\n",
      "|Dredging                            |1916                            |\n",
      "|Not Available                       |1270                            |\n",
      "|Cargo                               |46186                           |\n",
      "|Vessel With Anti-Pollution Equipment|409                             |\n",
      "|HSC                                 |2162                            |\n",
      "+------------------------------------+--------------------------------+\n",
      "\n"
     ]
    }
   ],
   "source": [
    "# Hitung jumlah 'mmsi' yang unik berdasarkan 'vessel_type'\n",
    "unique_imo_per_vessel_type = df_data.select(\"imo\",\"vessel_type\").groupBy(\"vessel_type\").agg(countDistinct(\"imo\").alias(\"unique_imo_per_vessel_type_count\"))\n",
    "\n",
    "# Tampilkan DataFrame Spark\n",
    "unique_imo_per_vessel_type.show(unique_imo_per_vessel_type.count(), truncate=False)"
   ]
  },
  {
   "cell_type": "markdown",
   "id": "bbd6c355",
   "metadata": {},
   "source": [
    "## 1% Records"
   ]
  },
  {
   "cell_type": "code",
   "execution_count": 6,
   "id": "1f47a1b7",
   "metadata": {},
   "outputs": [],
   "source": [
    "def create_sampled_data_for_each_month(df_data_dengan_bulan, unique_months):\n",
    "    # Inisialisasi DataFrame untuk menyimpan hasil\n",
    "    sampled_data = None\n",
    "    \n",
    "    # Loop melalui setiap bulan dan ambil sekitar 1% data\n",
    "    for month in unique_months:\n",
    "        # Filter data berdasarkan bulan\n",
    "        filtered_data = df_data_dengan_bulan.filter(col(\"bulan\") == month)\n",
    "        \n",
    "        # Ambil sekitar 1% dari data untuk bulan tersebut\n",
    "        sampled_data_month = filtered_data.sample(fraction=0.01, seed=42)\n",
    "        \n",
    "        # Gabungkan hasil untuk setiap bulan menjadi satu DataFrame\n",
    "        if sampled_data is None:\n",
    "            sampled_data = sampled_data_month\n",
    "        else:\n",
    "            sampled_data = sampled_data.union(sampled_data_month)\n",
    "\n",
    "    return sampled_data"
   ]
  },
  {
   "cell_type": "code",
   "execution_count": 7,
   "id": "a89c884f",
   "metadata": {},
   "outputs": [],
   "source": [
    "# Ekstrak nama bulan dari timestamp\n",
    "df_data_dengan_bulan = df_data.withColumn(\"bulan\", date_format(\"dt_pos_utc\", \"MMMM\"))\n",
    "\n",
    "# Hitung jumlah unik bulan\n",
    "unique_months = df_data_dengan_bulan.select(\"bulan\").distinct()\n",
    "\n",
    "# Eksekusi fungsi\n",
    "sampledd_data = create_sampled_data_for_each_month(df_data_dengan_bulan, unique_months)"
   ]
  },
  {
   "cell_type": "markdown",
   "id": "acdd8b42",
   "metadata": {},
   "source": [
    "### Filter tahun 2022"
   ]
  },
  {
   "cell_type": "code",
   "execution_count": 8,
   "id": "d0e56d15",
   "metadata": {},
   "outputs": [],
   "source": [
    "# Ekstrak tahun dari kolom yang berisi tanggal atau waktu\n",
    "sampledd_data = sampledd_data.withColumn(\"tahun\", date_format(\"dt_pos_utc\", \"yyyy\"))\n",
    "\n",
    "# Filter data untuk tahun 2022\n",
    "sampledd_data = sampledd_data.filter(sampledd_data[\"tahun\"] == 2022)"
   ]
  },
  {
   "cell_type": "markdown",
   "id": "e598b283",
   "metadata": {},
   "source": [
    "### Save 1% Data"
   ]
  },
  {
   "cell_type": "code",
   "execution_count": 9,
   "id": "94eaea8f",
   "metadata": {
    "tags": []
   },
   "outputs": [],
   "source": [
    "# Save Path\n",
    "save_path = \"s3a://ungp-ais-data-historical-backup/user_temp/\"\n",
    "save_path_unique = save_path + \"222011349/\""
   ]
  },
  {
   "cell_type": "code",
   "execution_count": 10,
   "id": "31b0d86e",
   "metadata": {
    "scrolled": true
   },
   "outputs": [],
   "source": [
    "# Save Data\n",
    "sampledd_data.write.option(\"header\", True).mode(\"overwrite\").parquet(save_path_unique + \"data-ais-1persen-dunia-2022.parquet\")"
   ]
  },
  {
   "cell_type": "markdown",
   "id": "bea2ec65",
   "metadata": {},
   "source": [
    "### Read 1% Data"
   ]
  },
  {
   "cell_type": "code",
   "execution_count": 11,
   "id": "06b27f93",
   "metadata": {},
   "outputs": [],
   "source": [
    "# Read Data\n",
    "data_sampel = spark.read.parquet(save_path_unique + \"data-ais-1persen-dunia-2022.parquet\", header=True)"
   ]
  },
  {
   "cell_type": "markdown",
   "id": "b3770a9d",
   "metadata": {},
   "source": [
    "### Record per Bulan"
   ]
  },
  {
   "cell_type": "code",
   "execution_count": 12,
   "id": "84b68b32-5291-4c11-9f09-d7b27ada97ea",
   "metadata": {},
   "outputs": [],
   "source": [
    "jumlah_record_per_bulan = data_sampel.withColumn(\"months\", date_format(\"dt_pos_utc\", \"MMMM\")) \\\n",
    "    .groupBy(\"months\").agg(count(\"*\").alias(\"jumlah_record_per_bulan\"))"
   ]
  },
  {
   "cell_type": "code",
   "execution_count": 13,
   "id": "53de2800-f3f1-4efc-b846-2cac9f5eb019",
   "metadata": {},
   "outputs": [
    {
     "name": "stdout",
     "output_type": "stream",
     "text": [
      "+---------+-----------------------+\n",
      "|   months|jumlah_record_per_bulan|\n",
      "+---------+-----------------------+\n",
      "|     July|                8180319|\n",
      "| November|                6152686|\n",
      "|    March|                7495299|\n",
      "|  October|                7692290|\n",
      "|   August|                7956939|\n",
      "|    April|                7515300|\n",
      "|     June|                7702391|\n",
      "| December|                7332271|\n",
      "|September|                7664096|\n",
      "|      May|                7688979|\n",
      "|  January|                7092365|\n",
      "| February|                6523538|\n",
      "+---------+-----------------------+\n",
      "\n"
     ]
    }
   ],
   "source": [
    "jumlah_record_per_bulan.show(12)"
   ]
  },
  {
   "cell_type": "markdown",
   "id": "f13e7f48",
   "metadata": {},
   "source": [
    "## Statistical Summary Data AIS"
   ]
  },
  {
   "cell_type": "code",
   "execution_count": 63,
   "id": "f9d807cc",
   "metadata": {},
   "outputs": [
    {
     "name": "stdout",
     "output_type": "stream",
     "text": [
      "+-------+--------------------+--------------------+-----------------+------------------+------------------+-----------------+\n",
      "|summary|                mmsi|                 imo|  nav_status_code|  vessel_type_code|         flag_code|              sog|\n",
      "+-------+--------------------+--------------------+-----------------+------------------+------------------+-----------------+\n",
      "|  count|            88996473|            49396947|         88996473|          88996473|          87373748|         88996473|\n",
      "|   mean| 3.955718669211217E8|1.4585492765759228E7|5.467277877405321| 62.17126810182691|395.20466595984874|3.583376951354266|\n",
      "| stddev|1.3375406280296084E8| 6.717529637159856E7|6.600339419169131|20.758994507665196|133.48844783150264|5.368822906834224|\n",
      "|    min|                   0|                   1|                0|                 0|               201|              0.0|\n",
      "|    max|          1073722367|          1073741823|               16|               255|               775|            102.1|\n",
      "+-------+--------------------+--------------------+-----------------+------------------+------------------+-----------------+\n",
      "\n"
     ]
    }
   ],
   "source": [
    "# MMSI, IMO, Status Navigasi, Tipe Kapal, Negara Kapal\n",
    "\n",
    "# Variabel yang ingin dihitung statistik deskriptif\n",
    "variables_to_describe = [\"mmsi\", \"imo\", \"nav_status_code\", \"vessel_type_code\", \"flag_code\", \"sog\"]\n",
    "\n",
    "# Ambil statistik deskriptif tertentu untuk kolom-kolom tersebut\n",
    "stats_df = data_sampel.select(variables_to_describe).describe()\n",
    "\n",
    "# Pilih statistik tertentu\n",
    "selected_stats = [\"count\", \"mean\", \"stddev\", \"min\", \"25%\", \"50%\", \"75%\", \"max\"]\n",
    "stats_df = stats_df.select([\"summary\"] + [col(var).alias(var) for var in variables_to_describe]).filter(col(\"summary\").isin(selected_stats))\n",
    "\n",
    "# Tampilkan statistik deskriptif\n",
    "stats_df.show()"
   ]
  },
  {
   "cell_type": "code",
   "execution_count": 15,
   "id": "ea393160",
   "metadata": {
    "scrolled": true
   },
   "outputs": [
    {
     "name": "stdout",
     "output_type": "stream",
     "text": [
      "+-------+------------------+------------------+--------+------------------+------------------+------------------+------------------+------------------+\n",
      "|summary|          latitude|         longitude|    year|             month|               day|              hour|            minute|            second|\n",
      "+-------+------------------+------------------+--------+------------------+------------------+------------------+------------------+------------------+\n",
      "|  count|          88996473|          88996473|88996473|          88996473|          88996473|          88996473|          88996473|          88996473|\n",
      "|   mean| 24.83992892199191|27.691543563406483|  2022.0|  6.51520297888659|15.765647173455964|11.537733017801727|29.537253762854174|29.343604762853918|\n",
      "| stddev|26.503970203788647| 87.63592555585187|     0.0|3.3739776649313242| 8.846383630891472|   6.9232507844574| 17.30727427581912|17.311539565013387|\n",
      "|    min|             -90.0|            -180.0|    2022|                 1|                 1|                 0|                 0|                 0|\n",
      "|    max|              90.0|             180.0|    2022|                12|                31|                23|                59|                59|\n",
      "+-------+------------------+------------------+--------+------------------+------------------+------------------+------------------+------------------+\n",
      "\n"
     ]
    }
   ],
   "source": [
    "# Latitude, Longitude, dt_pos_utc\n",
    "\n",
    "# Pemisahan komponen waktu dari kolom dt_pos_utc\n",
    "data_sampel = data_sampel.withColumn(\"year\", year(\"dt_pos_utc\"))\n",
    "data_sampel = data_sampel.withColumn(\"month\", month(\"dt_pos_utc\"))\n",
    "data_sampel = data_sampel.withColumn(\"day\", dayofmonth(\"dt_pos_utc\"))\n",
    "data_sampel = data_sampel.withColumn(\"hour\", hour(\"dt_pos_utc\"))\n",
    "data_sampel = data_sampel.withColumn(\"minute\", minute(\"dt_pos_utc\"))\n",
    "data_sampel = data_sampel.withColumn(\"second\", second(\"dt_pos_utc\"))\n",
    "\n",
    "# Variabel yang ingin dihitung statistik deskriptif\n",
    "variables_to_describe_2 = [\"latitude\", \"longitude\", \"year\", \"month\", \"day\", \"hour\", \"minute\", \"second\"]\n",
    "\n",
    "# Ambil statistik deskriptif tertentu untuk kolom-kolom tersebut\n",
    "stats_df_2 = data_sampel.select(variables_to_describe_2).describe()\n",
    "\n",
    "# Pilih statistik tertentu\n",
    "selected_stats = [\"count\", \"mean\", \"stddev\", \"min\", \"25%\", \"50%\", \"75%\", \"max\"]\n",
    "stats_df_2 = stats_df_2.select([\"summary\"] + [col(var).alias(var) for var in variables_to_describe_2]).filter(col(\"summary\").isin(selected_stats))\n",
    "\n",
    "# Tampilkan statistik deskriptif\n",
    "stats_df_2.show()"
   ]
  },
  {
   "cell_type": "markdown",
   "id": "9f6ffb0d",
   "metadata": {},
   "source": [
    "## Nilai Unik"
   ]
  },
  {
   "cell_type": "markdown",
   "id": "adac1737",
   "metadata": {},
   "source": [
    "### MMSI Unik per Bulan"
   ]
  },
  {
   "cell_type": "code",
   "execution_count": 20,
   "id": "fd2b4887",
   "metadata": {},
   "outputs": [
    {
     "name": "stdout",
     "output_type": "stream",
     "text": [
      "+---------+-----------------+\n",
      "|   months|unique_mmsi_count|\n",
      "+---------+-----------------+\n",
      "|     July|           310532|\n",
      "| November|           281458|\n",
      "| February|           236903|\n",
      "|  January|           253983|\n",
      "|    March|           268823|\n",
      "|  October|           289747|\n",
      "|      May|           291265|\n",
      "|   August|           314024|\n",
      "|    April|           289684|\n",
      "|     June|           295255|\n",
      "| December|           257853|\n",
      "|September|           305440|\n",
      "+---------+-----------------+\n",
      "\n"
     ]
    }
   ],
   "source": [
    "# Hitung jumlah 'mmsi' yang unik per bulan\n",
    "unique_mmsi_per_month = data_sampel.withColumn(\"months\", date_format(\"dt_pos_utc\", \"MMMM\")) \\\n",
    "    .groupBy(\"months\").agg(countDistinct(\"mmsi\").alias(\"unique_mmsi_count\"))\n",
    "\n",
    "# Tampilkan DataFrame Spark\n",
    "unique_mmsi_per_month.show()"
   ]
  },
  {
   "cell_type": "markdown",
   "id": "d5dfb24f",
   "metadata": {},
   "source": [
    "### IMO Unik per Bulan"
   ]
  },
  {
   "cell_type": "code",
   "execution_count": 21,
   "id": "4640536d",
   "metadata": {},
   "outputs": [
    {
     "name": "stdout",
     "output_type": "stream",
     "text": [
      "+---------+----------------+\n",
      "|   months|unique_imo_count|\n",
      "+---------+----------------+\n",
      "|     July|           71362|\n",
      "| November|           70912|\n",
      "| February|           68606|\n",
      "|  January|           70475|\n",
      "|    March|           69970|\n",
      "|  October|           71333|\n",
      "|      May|           71172|\n",
      "|   August|           71549|\n",
      "|    April|           70502|\n",
      "|     June|           71212|\n",
      "| December|           70224|\n",
      "|September|           71452|\n",
      "+---------+----------------+\n",
      "\n"
     ]
    }
   ],
   "source": [
    "# Hitung jumlah 'imo' yang unik per bulan\n",
    "unique_imo_per_month = data_sampel.withColumn(\"months\", date_format(\"dt_pos_utc\", \"MMMM\")) \\\n",
    "    .groupBy(\"months\").agg(countDistinct(\"imo\").alias(\"unique_imo_count\"))\n",
    "\n",
    "# Tampilkan DataFrame Spark\n",
    "unique_imo_per_month.show()"
   ]
  },
  {
   "cell_type": "markdown",
   "id": "ca297b4f",
   "metadata": {},
   "source": [
    "### Status Navigasi Setahun"
   ]
  },
  {
   "cell_type": "code",
   "execution_count": null,
   "id": "b1137eed",
   "metadata": {},
   "outputs": [],
   "source": [
    "# Hitung jumlah 'mmsi' per masing-masing 'nav_status' dengan DataFrame API\n",
    "mmsi_count_per_nav_status = data_sampel.groupBy(\"nav_status\").agg(F.count(\"mmsi\").alias(\"mmsi_count\"))\n",
    "\n",
    "# Tampilkan DataFrame Spark\n",
    "mmsi_count_per_nav_status.show()"
   ]
  },
  {
   "cell_type": "markdown",
   "id": "1982e8af",
   "metadata": {},
   "source": [
    "### Tipe Kapal Setahun"
   ]
  },
  {
   "cell_type": "code",
   "execution_count": null,
   "id": "03aac7bf",
   "metadata": {},
   "outputs": [],
   "source": [
    "# Hitung jumlah 'mmsi' per masing-masing 'vessel_type'\n",
    "mmsi_count_per_vessel_type = data_sampel.groupBy(\"vessel_type\").agg(count(\"mmsi\").alias(\"mmsi_count\"))\n",
    "\n",
    "# Tampilkan DataFrame Spark\n",
    "mmsi_count_per_vessel_type.show()"
   ]
  },
  {
   "cell_type": "markdown",
   "id": "05c3d56b",
   "metadata": {},
   "source": [
    "### Negara Kapal Setahun"
   ]
  },
  {
   "cell_type": "code",
   "execution_count": null,
   "id": "9bd4dd48",
   "metadata": {},
   "outputs": [],
   "source": [
    "# Hitung jumlah 'mmsi' per masing-masing 'flag_country'\n",
    "mmsi_count_per_flag_country = data_sampel.groupBy(\"flag_country\").agg(count(\"mmsi\").alias(\"mmsi_count\"))\n",
    "\n",
    "# Tampilkan DataFrame Spark\n",
    "mmsi_count_per_flag_country.show()"
   ]
  },
  {
   "cell_type": "markdown",
   "id": "bdcb810b",
   "metadata": {},
   "source": [
    "# Quality Assurance"
   ]
  },
  {
   "cell_type": "markdown",
   "id": "3f4a1af1",
   "metadata": {},
   "source": [
    "## MMSI Unik per"
   ]
  },
  {
   "cell_type": "markdown",
   "id": "dd05afbf",
   "metadata": {},
   "source": [
    "### Status Navigasi"
   ]
  },
  {
   "cell_type": "code",
   "execution_count": 22,
   "id": "0c471bad",
   "metadata": {
    "scrolled": false
   },
   "outputs": [
    {
     "name": "stdout",
     "output_type": "stream",
     "text": [
      "+--------------------+--------------------------------+\n",
      "|          nav_status|unique_mmsi_per_nav_status_count|\n",
      "+--------------------+--------------------------------+\n",
      "|              Moored|                          103317|\n",
      "|Restricted Manoeu...|                           13669|\n",
      "|             Aground|                            1981|\n",
      "|         Not Defined|                           36212|\n",
      "|   Not Under Command|                           18338|\n",
      "|  Engaged In Fishing|                            7059|\n",
      "|    Underway Sailing|                           25453|\n",
      "|             Unknown|                          411470|\n",
      "|           At Anchor|                           85960|\n",
      "|Under Way Using E...|                          172355|\n",
      "+--------------------+--------------------------------+\n",
      "\n"
     ]
    }
   ],
   "source": [
    "# Hitung jumlah 'mmsi' yang unik berdasarkan 'nav_status'\n",
    "unique_mmsi_per_nav_status = data_sampel.groupBy(\"nav_status\").agg(countDistinct(\"mmsi\").alias(\"unique_mmsi_per_nav_status_count\"))\n",
    "\n",
    "# Tampilkan DataFrame Spark\n",
    "unique_mmsi_per_nav_status.show()"
   ]
  },
  {
   "cell_type": "markdown",
   "id": "e79689f4",
   "metadata": {},
   "source": [
    "### Tipe Kapal"
   ]
  },
  {
   "cell_type": "code",
   "execution_count": 66,
   "id": "a93f2c9b",
   "metadata": {
    "scrolled": true
   },
   "outputs": [
    {
     "name": "stdout",
     "output_type": "stream",
     "text": [
      "+------------------------------------+---------------------------------+\n",
      "|vessel_type                         |unique_mmsi_per_vessel_type_count|\n",
      "+------------------------------------+---------------------------------+\n",
      "|Sailing                             |67649                            |\n",
      "|Tanker                              |25376                            |\n",
      "|Ships Not Party to Armed Conflict   |318                              |\n",
      "|Military                            |2152                             |\n",
      "|Towing                              |6938                             |\n",
      "|Reserved                            |3165                             |\n",
      "|SAR                                 |4329                             |\n",
      "|Unknown                             |110671                           |\n",
      "|Other                               |19461                            |\n",
      "|UNAVAILABLE                         |5139                             |\n",
      "|Tug                                 |22275                            |\n",
      "|Law Enforcement                     |2650                             |\n",
      "|Pleasure Craft                      |72881                            |\n",
      "|Passenger                           |17351                            |\n",
      "|Diving                              |1019                             |\n",
      "|Fishing                             |136741                           |\n",
      "|Port Tender                         |2809                             |\n",
      "|Spare                               |2260                             |\n",
      "|Medical Transport                   |119                              |\n",
      "|Pilot                               |2939                             |\n",
      "|WIG                                 |2158                             |\n",
      "|Dredging                            |4412                             |\n",
      "|Not Available                       |14761                            |\n",
      "|Cargo                               |130674                           |\n",
      "|Vessel With Anti-Pollution Equipment|1118                             |\n",
      "|HSC                                 |2832                             |\n",
      "+------------------------------------+---------------------------------+\n",
      "\n"
     ]
    }
   ],
   "source": [
    "# Hitung jumlah 'mmsi' yang unik berdasarkan 'vessel_type'\n",
    "unique_mmsi_per_vessel_type = data_sampel.groupBy(\"vessel_type\").agg(countDistinct(\"mmsi\").alias(\"unique_mmsi_per_vessel_type_count\"))\n",
    "\n",
    "# Tampilkan DataFrame Spark\n",
    "unique_mmsi_per_vessel_type.show(unique_mmsi_per_vessel_type.count(), truncate=False)"
   ]
  },
  {
   "cell_type": "markdown",
   "id": "6be9b9a8",
   "metadata": {},
   "source": [
    "### Negara Kapal"
   ]
  },
  {
   "cell_type": "code",
   "execution_count": 67,
   "id": "5041ac75",
   "metadata": {},
   "outputs": [
    {
     "name": "stdout",
     "output_type": "stream",
     "text": [
      "+--------------------------------+----------------------------------+\n",
      "|flag_country                    |unique_mmsi_per_flag_country_count|\n",
      "+--------------------------------+----------------------------------+\n",
      "|Chad                            |11                                |\n",
      "|Paraguay                        |220                               |\n",
      "|Macao                           |79                                |\n",
      "|Senegal                         |92                                |\n",
      "|Sweden                          |8263                              |\n",
      "|Kiribati                        |110                               |\n",
      "|Guyana                          |110                               |\n",
      "|Philippines                     |974                               |\n",
      "|Eritrea                         |44                                |\n",
      "|Djibouti                        |75                                |\n",
      "|Tonga                           |24                                |\n",
      "|Singapore                       |5654                              |\n",
      "|Malaysia                        |2664                              |\n",
      "|Fiji                            |139                               |\n",
      "|Turkey                          |4448                              |\n",
      "|Iraq                            |94                                |\n",
      "|Germany                         |15945                             |\n",
      "|Comoros                         |379                               |\n",
      "|Afghanistan                     |40                                |\n",
      "|Cambodia                        |135                               |\n",
      "|Rwanda                          |204                               |\n",
      "|Jordan                          |48                                |\n",
      "|Maldives                        |54                                |\n",
      "|Saint Helena                    |55                                |\n",
      "|Ivory Coast                     |37                                |\n",
      "|Sudan                           |80                                |\n",
      "|Palau                           |566                               |\n",
      "|Ascension Island                |100                               |\n",
      "|France                          |14861                             |\n",
      "|Turks and Caicos Islands        |25                                |\n",
      "|Greece                          |2472                              |\n",
      "|Sri Lanka                       |2141                              |\n",
      "|Montserrat                      |22                                |\n",
      "|Taiwan                          |4986                              |\n",
      "|British Virgin Islands          |551                               |\n",
      "|Dominica                        |154                               |\n",
      "|Togo                            |404                               |\n",
      "|Algeria                         |165                               |\n",
      "|Equatorial Guinea               |81                                |\n",
      "|Slovakia                        |197                               |\n",
      "|Adelie Land                     |34                                |\n",
      "|Reunion                         |479                               |\n",
      "|Argentina                       |1077                              |\n",
      "|Belgium                         |3960                              |\n",
      "|Angola                          |93                                |\n",
      "|San Marino                      |88                                |\n",
      "|Qatar                           |401                               |\n",
      "|Ecuador                         |671                               |\n",
      "|Pitcairn Island                 |147                               |\n",
      "|Albania                         |748                               |\n",
      "|Madagascar                      |88                                |\n",
      "|Finland                         |2082                              |\n",
      "|New Caledonia                   |220                               |\n",
      "|Myanmar                         |1091                              |\n",
      "|Nicaragua                       |181                               |\n",
      "|Ghana                           |114                               |\n",
      "|Sierra Leone                    |630                               |\n",
      "|Peru                            |446                               |\n",
      "|Cocos Islands                   |58                                |\n",
      "|Benin                           |32                                |\n",
      "|China                           |182156                            |\n",
      "|Bahamas                         |1257                              |\n",
      "|India                           |4482                              |\n",
      "|Malta                           |4785                              |\n",
      "|Kuwait                          |149                               |\n",
      "|American Samoa                  |30                                |\n",
      "|Sao Tome and Principe           |172                               |\n",
      "|Marshall Islands                |5308                              |\n",
      "|Tuvalu                          |320                               |\n",
      "|Somalia                         |282                               |\n",
      "|Chile                           |616                               |\n",
      "|Martinique                      |175                               |\n",
      "|Cayman Islands                  |1776                              |\n",
      "|Croatia                         |976                               |\n",
      "|Burundi                         |30                                |\n",
      "|Nigeria                         |922                               |\n",
      "|Wallis and Futuna Islands       |39                                |\n",
      "|Andorra                         |695                               |\n",
      "|Bolivia                         |87                                |\n",
      "|Gabon                           |120                               |\n",
      "|Italy                           |5872                              |\n",
      "|Netherlands Antilles            |129                               |\n",
      "|Lithuania                       |189                               |\n",
      "|Norway                          |12560                             |\n",
      "|Turkmenistan                    |91                                |\n",
      "|Spain                           |6895                              |\n",
      "|Saint Pierre and Miquelon       |64                                |\n",
      "|Cuba                            |119                               |\n",
      "|Mauritania                      |72                                |\n",
      "|Guadeloupe                      |139                               |\n",
      "|Tahiti                          |140                               |\n",
      "|Denmark                         |7369                              |\n",
      "|Central African Republic        |140                               |\n",
      "|Niger                           |23                                |\n",
      "|Bangladesh                      |182                               |\n",
      "|Barbados                        |344                               |\n",
      "|Alaska                          |205                               |\n",
      "|Iran                            |3340                              |\n",
      "|Russian Federation              |6644                              |\n",
      "|Ireland                         |1030                              |\n",
      "|Liechtenstein                   |38                                |\n",
      "|Congo                           |91                                |\n",
      "|Thailand                        |1692                              |\n",
      "|Swaziland                       |78                                |\n",
      "|Christmas Island                |51                                |\n",
      "|Bhutan                          |294                               |\n",
      "|Morocco                         |240                               |\n",
      "|Monaco                          |127                               |\n",
      "|Panama                          |9245                              |\n",
      "|Cape Verde                      |46                                |\n",
      "|Hong Kong                       |3689                              |\n",
      "|Nauru                           |43                                |\n",
      "|Venezuela                       |1174                              |\n",
      "|Ukraine                         |496                               |\n",
      "|Iceland                         |1325                              |\n",
      "|Israel                          |274                               |\n",
      "|Saint Kitts and Nevis           |412                               |\n",
      "|USA                             |42655                             |\n",
      "|Oman                            |153                               |\n",
      "|North Korea                     |188                               |\n",
      "|South Korea                     |8108                              |\n",
      "|Cyprus                          |3774                              |\n",
      "|Gibraltar                       |480                               |\n",
      "|Palestine                       |27                                |\n",
      "|Uruguay                         |263                               |\n",
      "|Mexico                          |651                               |\n",
      "|Montenegro                      |88                                |\n",
      "|Estonia                         |398                               |\n",
      "|Georgia                         |199                               |\n",
      "|Indonesia                       |13330                             |\n",
      "|Saint Vincent and the Grenadines|1034                              |\n",
      "|Mongolia                        |418                               |\n",
      "|Guatemala                       |74                                |\n",
      "|Azerbaijan                      |349                               |\n",
      "|Grenada                         |112                               |\n",
      "|Armenia                         |78                                |\n",
      "|Liberia                         |5480                              |\n",
      "|Syria                           |26                                |\n",
      "|Honduras                        |69                                |\n",
      "|UK                              |21339                             |\n",
      "|Trinidad and Tobago             |125                               |\n",
      "|Saudi Arabia                    |1008                              |\n",
      "|French Guiana                   |28                                |\n",
      "|Namibia                         |148                               |\n",
      "|Switzerland                     |1030                              |\n",
      "|Zambia                          |40                                |\n",
      "|Ethiopia                        |20                                |\n",
      "|Latvia                          |263                               |\n",
      "|Jamaica                         |345                               |\n",
      "|United Arab Emirates            |1006                              |\n",
      "|Brunei                          |63                                |\n",
      "|South Sudan                     |28                                |\n",
      "|Saint Lucia                     |16                                |\n",
      "|US Virgin Islands               |12                                |\n",
      "|Guinea                          |35                                |\n",
      "|Azores                          |583                               |\n",
      "|Canada                          |6936                              |\n",
      "|Seychelles                      |317                               |\n",
      "|Faroe Islands                   |393                               |\n",
      "|Samoa                           |57                                |\n",
      "|Macedonia                       |22                                |\n",
      "|Uzbekistan                      |15                                |\n",
      "|Czech Republic                  |169                               |\n",
      "|Mozambique                      |62                                |\n",
      "|Cook Islands                    |839                               |\n",
      "|Belize                          |798                               |\n",
      "|Brazil                          |2606                              |\n",
      "|Kenya                           |39                                |\n",
      "|Lebanon                         |86                                |\n",
      "|Antigua and Barbuda             |737                               |\n",
      "|Slovenia                        |115                               |\n",
      "|Japan                           |9537                              |\n",
      "|Tanzania                        |407                               |\n",
      "|Botswana                        |64                                |\n",
      "|Luxembourg                      |368                               |\n",
      "|New Zealand                     |2073                              |\n",
      "|Greenland                       |233                               |\n",
      "|Haiti                           |37                                |\n",
      "|Poland                          |1813                              |\n",
      "|Portugal                        |1020                              |\n",
      "|Australia                       |8253                              |\n",
      "|Cameroon                        |393                               |\n",
      "|Papua New Guinea                |155                               |\n",
      "|Romania                         |531                               |\n",
      "|Guinea-Bissau                   |54                                |\n",
      "|Bulgaria                        |478                               |\n",
      "|Austria                         |606                               |\n",
      "|Nepal                           |26                                |\n",
      "|Egypt                           |343                               |\n",
      "|Kazakhstan                      |153                               |\n",
      "|Costa Rica                      |112                               |\n",
      "|El Salvador                     |44                                |\n",
      "|Serbia                          |93                                |\n",
      "|South Africa                    |840                               |\n",
      "|Bermuda                         |327                               |\n",
      "|Bahrain                         |2843                              |\n",
      "|Micronesia                      |188                               |\n",
      "|Colombia                        |346                               |\n",
      "|Hungary                         |99                                |\n",
      "|Pakistan                        |242                               |\n",
      "|Vanuatu                         |572                               |\n",
      "|Vatican City                    |195                               |\n",
      "|Northern Mariana                |27                                |\n",
      "|Niue                            |127                               |\n",
      "|Madeira                         |947                               |\n",
      "|Mauritius                       |153                               |\n",
      "|Moldova                         |154                               |\n",
      "|Vietnam                         |22219                             |\n",
      "|Netherlands                     |20233                             |\n",
      "|Anguilla                        |99                                |\n",
      "|Yemen                           |45                                |\n",
      "|Malawi                          |30                                |\n",
      "|Crozet Archipelago              |55                                |\n",
      "|Kerguelen Islands               |55                                |\n",
      "|Tajikistan                      |18                                |\n",
      "|Puerto Rico                     |63                                |\n",
      "|Aruba                           |6                                 |\n",
      "|Libya                           |66                                |\n",
      "|Tunisia                         |107                               |\n",
      "|Uganda                          |50                                |\n",
      "|Kyrgyzstan                      |53                                |\n",
      "|Dominican Republic              |35                                |\n",
      "|Falkland Islands                |53                                |\n",
      "|Solomon Islands                 |27                                |\n",
      "|Mali                            |4                                 |\n",
      "|Belarus                         |27                                |\n",
      "|Suriname                        |20                                |\n",
      "|Laos                            |31                                |\n",
      "|Gambia                          |27                                |\n",
      "|Bosnia and Herzegovina          |18                                |\n",
      "|Burkina Faso                    |32                                |\n",
      "|Saint Paul and Amsterdam Islands|9                                 |\n",
      "|Lesotho                         |10                                |\n",
      "|Zimbabwe                        |3                                 |\n",
      "+--------------------------------+----------------------------------+\n",
      "\n"
     ]
    }
   ],
   "source": [
    "# Filter out rows where 'flag_country' is not null\n",
    "df_filtered = data_sampel.filter(col(\"flag_country\").isNotNull())\n",
    "\n",
    "# Hitung jumlah 'mmsi' yang unik berdasarkan 'flag_country'\n",
    "unique_mmsi_per_flag_country = df_filtered.groupBy(\"flag_country\").agg(countDistinct(\"mmsi\").alias(\"unique_mmsi_per_flag_country_count\"))\n",
    "\n",
    "# Tampilkan DataFrame Spark\n",
    "unique_mmsi_per_flag_country.show(unique_mmsi_per_flag_country.count(), truncate=False) "
   ]
  },
  {
   "cell_type": "markdown",
   "id": "2a68129d",
   "metadata": {},
   "source": [
    "## IMO Unik per"
   ]
  },
  {
   "cell_type": "markdown",
   "id": "8328129b",
   "metadata": {},
   "source": [
    "### Status Navigasi"
   ]
  },
  {
   "cell_type": "code",
   "execution_count": 25,
   "id": "b9d411ae",
   "metadata": {},
   "outputs": [
    {
     "name": "stdout",
     "output_type": "stream",
     "text": [
      "+--------------------------+-------------------------------+\n",
      "|nav_status                |unique_imo_per_nav_status_count|\n",
      "+--------------------------+-------------------------------+\n",
      "|Moored                    |62323                          |\n",
      "|Restricted Manoeuvrability|10961                          |\n",
      "|Aground                   |969                            |\n",
      "|Not Defined               |9227                           |\n",
      "|Not Under Command         |16623                          |\n",
      "|Engaged In Fishing        |3304                           |\n",
      "|Underway Sailing          |16780                          |\n",
      "|Unknown                   |12125                          |\n",
      "|At Anchor                 |54210                          |\n",
      "|Under Way Using Engine    |72170                          |\n",
      "+--------------------------+-------------------------------+\n",
      "\n"
     ]
    }
   ],
   "source": [
    "# Hitung jumlah 'mmsi' yang unik berdasarkan 'nav_status'\n",
    "unique_imo_per_nav_status = data_sampel.select(\"imo\",\"nav_status\").groupBy(\"nav_status\").agg(countDistinct(\"imo\").alias(\"unique_imo_per_nav_status_count\"))\n",
    "\n",
    "# Tampilkan DataFrame Spark\n",
    "unique_imo_per_nav_status.show(unique_imo_per_nav_status.count(), truncate=False)"
   ]
  },
  {
   "cell_type": "markdown",
   "id": "c4c06e1b",
   "metadata": {},
   "source": [
    "### Tipe Kapal"
   ]
  },
  {
   "cell_type": "code",
   "execution_count": 26,
   "id": "985b77f5",
   "metadata": {
    "scrolled": true
   },
   "outputs": [
    {
     "name": "stdout",
     "output_type": "stream",
     "text": [
      "+------------------------------------+--------------------------------+\n",
      "|vessel_type                         |unique_imo_per_vessel_type_count|\n",
      "+------------------------------------+--------------------------------+\n",
      "|Sailing                             |870                             |\n",
      "|Tanker                              |15786                           |\n",
      "|Ships Not Party to Armed Conflict   |127                             |\n",
      "|Military                            |528                             |\n",
      "|Towing                              |2133                            |\n",
      "|Reserved                            |1047                            |\n",
      "|SAR                                 |527                             |\n",
      "|Unknown                             |7109                            |\n",
      "|Other                               |7326                            |\n",
      "|UNAVAILABLE                         |97                              |\n",
      "|Tug                                 |8750                            |\n",
      "|Law Enforcement                     |518                             |\n",
      "|Pleasure Craft                      |2695                            |\n",
      "|Diving                              |240                             |\n",
      "|Passenger                           |5496                            |\n",
      "|Fishing                             |8380                            |\n",
      "|Port Tender                         |262                             |\n",
      "|Spare                               |856                             |\n",
      "|Medical Transport                   |29                              |\n",
      "|Pilot                               |450                             |\n",
      "|WIG                                 |593                             |\n",
      "|Dredging                            |1222                            |\n",
      "|Not Available                       |479                             |\n",
      "|Cargo                               |35309                           |\n",
      "|Vessel With Anti-Pollution Equipment|203                             |\n",
      "|HSC                                 |1213                            |\n",
      "+------------------------------------+--------------------------------+\n",
      "\n"
     ]
    }
   ],
   "source": [
    "# Hitung jumlah 'mmsi' yang unik berdasarkan 'vessel_type'\n",
    "unique_imo_per_vessel_type = data_sampel.select(\"imo\",\"vessel_type\").groupBy(\"vessel_type\").agg(countDistinct(\"imo\").alias(\"unique_imo_per_vessel_type_count\"))\n",
    "\n",
    "# Tampilkan DataFrame Spark\n",
    "unique_imo_per_vessel_type.show(unique_imo_per_vessel_type.count(), truncate=False)"
   ]
  },
  {
   "cell_type": "markdown",
   "id": "bb923eda",
   "metadata": {},
   "source": [
    "### Negara Kapal"
   ]
  },
  {
   "cell_type": "code",
   "execution_count": 27,
   "id": "d7b6671f",
   "metadata": {},
   "outputs": [
    {
     "name": "stdout",
     "output_type": "stream",
     "text": [
      "+--------------------------------+---------------------------------+\n",
      "|flag_country                    |unique_imo_per_flag_country_count|\n",
      "+--------------------------------+---------------------------------+\n",
      "|Paraguay                        |64                               |\n",
      "|Yemen                           |7                                |\n",
      "|Senegal                         |36                               |\n",
      "|Sweden                          |341                              |\n",
      "|Kiribati                        |52                               |\n",
      "|Guyana                          |70                               |\n",
      "|Philippines                     |620                              |\n",
      "|Djibouti                        |29                               |\n",
      "|Singapore                       |3349                             |\n",
      "|Malaysia                        |1014                             |\n",
      "|Turkey                          |781                              |\n",
      "|Iraq                            |28                               |\n",
      "|Germany                         |783                              |\n",
      "|Comoros                         |294                              |\n",
      "|Jordan                          |30                               |\n",
      "|Palau                           |478                              |\n",
      "|France                          |720                              |\n",
      "|Greece                          |1394                             |\n",
      "|Sri Lanka                       |138                              |\n",
      "|Kerguelen Islands               |21                               |\n",
      "|Montserrat                      |1                                |\n",
      "|Taiwan                          |476                              |\n",
      "|British Virgin Islands          |55                               |\n",
      "|Dominica                        |58                               |\n",
      "|Togo                            |338                              |\n",
      "|Algeria                         |92                               |\n",
      "|Equatorial Guinea               |39                               |\n",
      "|Slovakia                        |13                               |\n",
      "|null                            |249                              |\n",
      "|Reunion                         |23                               |\n",
      "|Argentina                       |522                              |\n",
      "|Belgium                         |398                              |\n",
      "|Ecuador                         |194                              |\n",
      "|Qatar                           |129                              |\n",
      "|Pitcairn Island                 |11                               |\n",
      "|Albania                         |44                               |\n",
      "|Finland                         |258                              |\n",
      "|New Caledonia                   |24                               |\n",
      "|Ghana                           |42                               |\n",
      "|Myanmar                         |33                               |\n",
      "|Sierra Leone                    |469                              |\n",
      "|Peru                            |164                              |\n",
      "|China                           |7529                             |\n",
      "|Bahamas                         |1231                             |\n",
      "|India                           |1099                             |\n",
      "|Malta                           |2727                             |\n",
      "|Kuwait                          |121                              |\n",
      "|Marshall Islands                |5116                             |\n",
      "|Tuvalu                          |254                              |\n",
      "|Somalia                         |35                               |\n",
      "|Chile                           |317                              |\n",
      "|Cayman Islands                  |1025                             |\n",
      "|Croatia                         |223                              |\n",
      "|Nigeria                         |625                              |\n",
      "|Bolivia                         |30                               |\n",
      "|Gabon                           |84                               |\n",
      "|Italy                           |1271                             |\n",
      "|Netherlands Antilles            |55                               |\n",
      "|Lithuania                       |69                               |\n",
      "|Norway                          |2303                             |\n",
      "|Turkmenistan                    |53                               |\n",
      "|Spain                           |960                              |\n",
      "|Mauritania                      |21                               |\n",
      "|Tahiti                          |18                               |\n",
      "|Denmark                         |933                              |\n",
      "|Barbados                        |316                              |\n",
      "|Bangladesh                      |126                              |\n",
      "|Alaska                          |116                              |\n",
      "|Iran                            |889                              |\n",
      "|Russian Federation              |3430                             |\n",
      "|Ireland                         |144                              |\n",
      "|Thailand                        |495                              |\n",
      "|Panama                          |8293                             |\n",
      "|Cape Verde                      |22                               |\n",
      "|Hong Kong                       |2726                             |\n",
      "|Nauru                           |24                               |\n",
      "|Venezuela                       |117                              |\n",
      "|Ukraine                         |104                              |\n",
      "|Iceland                         |202                              |\n",
      "|Saint Kitts and Nevis           |346                              |\n",
      "|USA                             |4423                             |\n",
      "|Oman                            |45                               |\n",
      "|North Korea                     |131                              |\n",
      "|South Korea                     |1646                             |\n",
      "|Gibraltar                       |171                              |\n",
      "|Cyprus                          |1157                             |\n",
      "|Uruguay                         |63                               |\n",
      "|Mexico                          |524                              |\n",
      "|Estonia                         |102                              |\n",
      "|Montenegro                      |20                               |\n",
      "|Georgia                         |43                               |\n",
      "|Indonesia                       |3658                             |\n",
      "|Saint Vincent and the Grenadines|791                              |\n",
      "|Mongolia                        |262                              |\n",
      "|Azerbaijan                      |229                              |\n",
      "|Liberia                         |5629                             |\n",
      "|Tunisia                         |49                               |\n",
      "|Honduras                        |31                               |\n",
      "|Syria                           |6                                |\n",
      "|UK                              |1816                             |\n",
      "|Trinidad and Tobago             |50                               |\n",
      "|Saudi Arabia                    |333                              |\n",
      "|Namibia                         |72                               |\n",
      "|Switzerland                     |69                               |\n",
      "|Ethiopia                        |12                               |\n",
      "|Latvia                          |97                               |\n",
      "|Jamaica                         |116                              |\n",
      "|United Arab Emirates            |636                              |\n",
      "|Brunei                          |42                               |\n",
      "|Azores                          |274                              |\n",
      "|Canada                          |666                              |\n",
      "|Seychelles                      |47                               |\n",
      "|Faroe Islands                   |177                              |\n",
      "|Samoa                           |17                               |\n",
      "|Kyrgyzstan                      |3                                |\n",
      "|Czech Republic                  |9                                |\n",
      "|Cook Islands                    |229                              |\n",
      "|Belize                          |601                              |\n",
      "|Brazil                          |556                              |\n",
      "|Lebanon                         |32                               |\n",
      "|Antigua and Barbuda             |694                              |\n",
      "|Dominican Republic              |21                               |\n",
      "|Japan                           |2541                             |\n",
      "|Tanzania                        |329                              |\n",
      "|Luxembourg                      |196                              |\n",
      "|New Zealand                     |85                               |\n",
      "|Greenland                       |56                               |\n",
      "|Poland                          |143                              |\n",
      "|Portugal                        |111                              |\n",
      "|Australia                       |412                              |\n",
      "|Cameroon                        |271                              |\n",
      "|Papua New Guinea                |93                               |\n",
      "|Guinea-Bissau                   |35                               |\n",
      "|Romania                         |96                               |\n",
      "|Egypt                           |173                              |\n",
      "|Kazakhstan                      |91                               |\n",
      "|South Africa                    |72                               |\n",
      "|Bermuda                         |175                              |\n",
      "|Bahrain                         |134                              |\n",
      "|Micronesia                      |38                               |\n",
      "|Colombia                        |99                               |\n",
      "|Pakistan                        |43                               |\n",
      "|Vanuatu                         |418                              |\n",
      "|Niue                            |61                               |\n",
      "|Madeira                         |898                              |\n",
      "|Mauritius                       |39                               |\n",
      "|Moldova                         |100                              |\n",
      "|Vietnam                         |1263                             |\n",
      "|Netherlands                     |2214                             |\n",
      "|Maldives                        |10                               |\n",
      "|Saint Helena                    |6                                |\n",
      "|Angola                          |37                               |\n",
      "|Madagascar                      |6                                |\n",
      "|Nicaragua                       |6                                |\n",
      "|Sao Tome and Principe           |25                               |\n",
      "|Saint Pierre and Miquelon       |5                                |\n",
      "|Cuba                            |37                               |\n",
      "|Guadeloupe                      |8                                |\n",
      "|Morocco                         |125                              |\n",
      "|Gambia                          |11                               |\n",
      "|Falkland Islands                |22                               |\n",
      "|Bulgaria                        |40                               |\n",
      "|Austria                         |8                                |\n",
      "|Anguilla                        |7                                |\n",
      "|Israel                          |32                               |\n",
      "|Libya                           |35                               |\n",
      "|Uganda                          |1                                |\n",
      "|French Guiana                   |8                                |\n",
      "|Mozambique                      |15                               |\n",
      "|Solomon Islands                 |10                               |\n",
      "|Fiji                            |33                               |\n",
      "|Cambodia                        |11                               |\n",
      "|Martinique                      |3                                |\n",
      "|Wallis and Futuna Islands       |17                               |\n",
      "|Andorra                         |5                                |\n",
      "|Guatemala                       |9                                |\n",
      "|Macedonia                       |7                                |\n",
      "|Kenya                           |12                               |\n",
      "|Nepal                           |0                                |\n",
      "|El Salvador                     |11                               |\n",
      "|Costa Rica                      |7                                |\n",
      "|Serbia                          |3                                |\n",
      "|Burkina Faso                    |0                                |\n",
      "|Eritrea                         |2                                |\n",
      "|Tonga                           |8                                |\n",
      "|Crozet Archipelago              |1                                |\n",
      "|Belarus                         |2                                |\n",
      "|Suriname                        |3                                |\n",
      "|Liechtenstein                   |3                                |\n",
      "|Northern Mariana                |5                                |\n",
      "|Lesotho                         |1                                |\n",
      "|American Samoa                  |0                                |\n",
      "|Tajikistan                      |1                                |\n",
      "|Puerto Rico                     |0                                |\n",
      "|Central African Republic        |3                                |\n",
      "|Bhutan                          |10                               |\n",
      "|Ivory Coast                     |4                                |\n",
      "|Adelie Land                     |1                                |\n",
      "|Congo                           |11                               |\n",
      "|Monaco                          |9                                |\n",
      "|Palestine                       |0                                |\n",
      "|Uzbekistan                      |3                                |\n",
      "|San Marino                      |5                                |\n",
      "|Saint Paul and Amsterdam Islands|2                                |\n",
      "|Grenada                         |4                                |\n",
      "|Slovenia                        |6                                |\n",
      "|Botswana                        |0                                |\n",
      "|Haiti                           |3                                |\n",
      "|Rwanda                          |1                                |\n",
      "|Sudan                           |2                                |\n",
      "|Ascension Island                |4                                |\n",
      "|Turks and Caicos Islands        |0                                |\n",
      "|Zambia                          |2                                |\n",
      "|Hungary                         |2                                |\n",
      "|Chad                            |1                                |\n",
      "|Benin                           |1                                |\n",
      "|Niger                           |3                                |\n",
      "|Guinea                          |8                                |\n",
      "|Armenia                         |3                                |\n",
      "|Malawi                          |1                                |\n",
      "|Afghanistan                     |0                                |\n",
      "|Burundi                         |1                                |\n",
      "|Vatican City                    |5                                |\n",
      "|Aruba                           |1                                |\n",
      "|Zimbabwe                        |0                                |\n",
      "|Cocos Islands                   |2                                |\n",
      "|Saint Lucia                     |3                                |\n",
      "|Macao                           |0                                |\n",
      "|Swaziland                       |0                                |\n",
      "|Christmas Island                |0                                |\n",
      "|Laos                            |1                                |\n",
      "|US Virgin Islands               |1                                |\n",
      "|South Sudan                     |1                                |\n",
      "|Bosnia and Herzegovina          |0                                |\n",
      "|Mali                            |0                                |\n",
      "+--------------------------------+---------------------------------+\n",
      "\n"
     ]
    }
   ],
   "source": [
    "# Hitung jumlah 'mmsi' yang unik berdasarkan 'vessel_type'\n",
    "unique_imo_per_flag_country = data_sampel.select(\"imo\",\"flag_country\").groupBy(\"flag_country\").agg(countDistinct(\"imo\").alias(\"unique_imo_per_flag_country_count\"))\n",
    "\n",
    "# Tampilkan DataFrame Spark\n",
    "unique_imo_per_flag_country.show(unique_imo_per_flag_country.count(), truncate=False)"
   ]
  },
  {
   "cell_type": "markdown",
   "id": "0f25f9dc",
   "metadata": {},
   "source": [
    "## Nilai Valid"
   ]
  },
  {
   "cell_type": "markdown",
   "id": "2a711397",
   "metadata": {},
   "source": [
    "### MMSI Valid"
   ]
  },
  {
   "cell_type": "code",
   "execution_count": 28,
   "id": "97d94395",
   "metadata": {},
   "outputs": [
    {
     "name": "stdout",
     "output_type": "stream",
     "text": [
      "+---------+----------+\n",
      "|   months|mmsi_valid|\n",
      "+---------+----------+\n",
      "|     July|   8180319|\n",
      "| November|   6142451|\n",
      "|  October|   7692290|\n",
      "|   August|   7956939|\n",
      "| December|   7332271|\n",
      "|September|   7664096|\n",
      "|    March|   7495299|\n",
      "|    April|   7515300|\n",
      "|     June|   7702391|\n",
      "|      May|   7687858|\n",
      "|  January|   7092365|\n",
      "| February|   6523538|\n",
      "+---------+----------+\n",
      "\n"
     ]
    }
   ],
   "source": [
    "# Definisikan nilai mmsi yang valid\n",
    "nilai_valid = [100000000, 999999999]\n",
    "\n",
    "# Jumlah mmsi yang valid\n",
    "jumlah_mmsi_valid_per_bulan = data_sampel.withColumn(\"months\", F.date_format(\"dt_pos_utc\", \"MMMM\")) \\\n",
    "    .filter(data_sampel['mmsi'].between(nilai_valid[0], nilai_valid[1])) \\\n",
    "    .groupBy(\"months\").agg(F.count(\"mmsi\").alias(\"mmsi_valid\"))\n",
    "\n",
    "# Buat DataFrame hasil\n",
    "mmsi_valid = jumlah_mmsi_valid_per_bulan\n",
    "\n",
    "# Tampilkan hasil\n",
    "mmsi_valid.show()"
   ]
  },
  {
   "cell_type": "markdown",
   "id": "f62fb4e9",
   "metadata": {},
   "source": [
    "### IMO Valid"
   ]
  },
  {
   "cell_type": "code",
   "execution_count": 29,
   "id": "dfd132b5",
   "metadata": {},
   "outputs": [
    {
     "name": "stdout",
     "output_type": "stream",
     "text": [
      "+---------+---------+\n",
      "|   months|imo_valid|\n",
      "+---------+---------+\n",
      "|     July|  4264089|\n",
      "| November|  3303518|\n",
      "|    March|  4052453|\n",
      "|  October|  4232146|\n",
      "|   August|  4276330|\n",
      "|    April|  4012972|\n",
      "|     June|  4005177|\n",
      "| December|  4125858|\n",
      "|September|  4114450|\n",
      "|      May|  4081545|\n",
      "|  January|  3892366|\n",
      "| February|  3710542|\n",
      "+---------+---------+\n",
      "\n"
     ]
    }
   ],
   "source": [
    "# Definisikan nilai imo yang valid\n",
    "nilai_valid = [1000000, 9999999]\n",
    "\n",
    "# Hitung jumlah imo valid per bulan\n",
    "jumlah_imo_valid_per_bulan = data_sampel.withColumn(\"months\", F.date_format(\"dt_pos_utc\", \"MMMM\")) \\\n",
    "    .filter(data_sampel['imo'].between(nilai_valid[0], nilai_valid[1])) \\\n",
    "    .groupBy(\"months\").agg(F.count(\"imo\").alias(\"imo_valid\"))\n",
    "\n",
    "# Buat DataFrame hasil\n",
    "imo_valid = jumlah_imo_valid_per_bulan\n",
    "\n",
    "# Tampilkan hasil\n",
    "imo_valid.show() "
   ]
  },
  {
   "cell_type": "markdown",
   "id": "e89f2243",
   "metadata": {},
   "source": [
    "### Status Navigasi Valid"
   ]
  },
  {
   "cell_type": "code",
   "execution_count": 30,
   "id": "26acc58b",
   "metadata": {},
   "outputs": [
    {
     "name": "stdout",
     "output_type": "stream",
     "text": [
      "+---------+---------------------+\n",
      "|   months|nav_status_code_valid|\n",
      "+---------+---------------------+\n",
      "| November|              4578294|\n",
      "|    March|              5492513|\n",
      "|  October|              5663560|\n",
      "|   August|              5754012|\n",
      "| December|              5513136|\n",
      "|September|              5550344|\n",
      "|     July|              5833525|\n",
      "|    April|              5422589|\n",
      "|     June|              5508218|\n",
      "|      May|              5565943|\n",
      "| February|              4972545|\n",
      "|  January|              5295222|\n",
      "+---------+---------------------+\n",
      "\n"
     ]
    }
   ],
   "source": [
    "# Definisikan nilai nav_status_code yang valid\n",
    "nilai_valid = [0, 14]\n",
    "\n",
    "# Hitung jumlah nav_status_code  valid per bulan\n",
    "jumlah_nav_status_code_valid_per_bulan = data_sampel.withColumn(\"months\", F.date_format(\"dt_pos_utc\", \"MMMM\")) \\\n",
    "    .filter(data_sampel['nav_status_code'].between(nilai_valid[0], nilai_valid[1])) \\\n",
    "    .groupBy(\"months\").agg(F.count(\"nav_status_code\").alias(\"nav_status_code_valid\"))\n",
    "\n",
    "# Buat DataFrame hasil\n",
    "nav_status_code_valid = jumlah_nav_status_code_valid_per_bulan\n",
    "\n",
    "# Tampilkan hasil\n",
    "nav_status_code_valid.show() "
   ]
  },
  {
   "cell_type": "markdown",
   "id": "8c2232c7",
   "metadata": {},
   "source": [
    "### Tipe Kapal Valid"
   ]
  },
  {
   "cell_type": "code",
   "execution_count": 31,
   "id": "dc3a71d4",
   "metadata": {},
   "outputs": [
    {
     "name": "stdout",
     "output_type": "stream",
     "text": [
      "+---------+----------------------+\n",
      "|   months|vessel_type_code_valid|\n",
      "+---------+----------------------+\n",
      "| November|               6143471|\n",
      "|    March|               7479988|\n",
      "|  October|               7684138|\n",
      "|   August|               7948482|\n",
      "| December|               7323734|\n",
      "|     July|               8166596|\n",
      "|    April|               7497828|\n",
      "|September|               7655915|\n",
      "|      May|               7675549|\n",
      "|     June|               7689837|\n",
      "| February|               6510712|\n",
      "|  January|               7076010|\n",
      "+---------+----------------------+\n",
      "\n"
     ]
    }
   ],
   "source": [
    "# Definisikan nilai vessel_type_code yang valid\n",
    "nilai_valid = [1, 255]\n",
    "\n",
    "# Hitung jumlah vessel_type_code  valid per bulan\n",
    "jumlah_vessel_type_code_valid_per_bulan = data_sampel.withColumn(\"months\", F.date_format(\"dt_pos_utc\", \"MMMM\")) \\\n",
    "    .filter(data_sampel['vessel_type_code'].between(nilai_valid[0], nilai_valid[1])) \\\n",
    "    .groupBy(\"months\").agg(F.count(\"vessel_type_code\").alias(\"vessel_type_code_valid\"))\n",
    "\n",
    "# Buat DataFrame hasil\n",
    "vessel_type_code_valid = jumlah_vessel_type_code_valid_per_bulan\n",
    "\n",
    "# Tampilkan hasil\n",
    "vessel_type_code_valid.show() "
   ]
  },
  {
   "cell_type": "markdown",
   "id": "9b73acab",
   "metadata": {},
   "source": [
    "### Negara Kapal Valid"
   ]
  },
  {
   "cell_type": "code",
   "execution_count": 32,
   "id": "d0d1df03",
   "metadata": {},
   "outputs": [
    {
     "name": "stdout",
     "output_type": "stream",
     "text": [
      "+---------+-----------------------+\n",
      "|   months|flag_country_code_valid|\n",
      "+---------+-----------------------+\n",
      "| November|                4670991|\n",
      "|    March|                7495299|\n",
      "|  October|                7692290|\n",
      "|   August|                7956939|\n",
      "| December|                7332271|\n",
      "|September|                7664096|\n",
      "|     July|                8180319|\n",
      "|    April|                7515300|\n",
      "|     June|                7702391|\n",
      "|      May|                7547949|\n",
      "| February|                6523538|\n",
      "|  January|                7092365|\n",
      "+---------+-----------------------+\n",
      "\n"
     ]
    }
   ],
   "source": [
    "# Definisikan nilai flag_country_code yang valid\n",
    "nilai_valid = [201, 775]\n",
    "\n",
    "# Hitung jumlah flag_country_code tidak valid per bulan\n",
    "jumlah_flag_country_code_valid_per_bulan = data_sampel.withColumn(\"months\", F.date_format(\"dt_pos_utc\", \"MMMM\")) \\\n",
    "    .filter(data_sampel['flag_code'].between(nilai_valid[0], nilai_valid[1])) \\\n",
    "    .groupBy(\"months\").agg(F.count(\"flag_code\").alias(\"flag_country_code_valid\"))\n",
    "\n",
    "# Buat DataFrame hasil\n",
    "flag_country_code_valid = jumlah_flag_country_code_valid_per_bulan\n",
    "\n",
    "# Tampilkan hasil\n",
    "flag_country_code_valid.show() "
   ]
  },
  {
   "cell_type": "markdown",
   "id": "b8a3e9a9",
   "metadata": {},
   "source": [
    "### Latitude & Longitude Valid"
   ]
  },
  {
   "cell_type": "code",
   "execution_count": 33,
   "id": "086d2eba",
   "metadata": {},
   "outputs": [
    {
     "name": "stdout",
     "output_type": "stream",
     "text": [
      "+---------+--------------+\n",
      "|   months|latitude_valid|\n",
      "+---------+--------------+\n",
      "|     July|       8180319|\n",
      "| November|       6152686|\n",
      "|  October|       7692290|\n",
      "|   August|       7956939|\n",
      "| December|       7332271|\n",
      "|September|       7664096|\n",
      "|    April|       7515300|\n",
      "|      May|       7688979|\n",
      "|     June|       7702391|\n",
      "|    March|       7495299|\n",
      "| February|       6523538|\n",
      "|  January|       7092365|\n",
      "+---------+--------------+\n",
      "\n"
     ]
    }
   ],
   "source": [
    "# Definisikan nilai latitude yang valid\n",
    "nilai_valid = [-90, 90]\n",
    "\n",
    "# Hitung jumlah latitude tidak valid per bulan\n",
    "jumlah_latitude_valid_per_bulan = data_sampel.withColumn(\"months\", F.date_format(\"dt_pos_utc\", \"MMMM\")) \\\n",
    "    .filter(data_sampel['latitude'].between(nilai_valid[0], nilai_valid[1])) \\\n",
    "    .groupBy(\"months\").agg(F.count(\"latitude\").alias(\"latitude_valid\"))\n",
    "\n",
    "# Buat DataFrame hasil\n",
    "latitude_valid = jumlah_latitude_valid_per_bulan\n",
    "\n",
    "# Tampilkan hasil\n",
    "latitude_valid.show() "
   ]
  },
  {
   "cell_type": "code",
   "execution_count": 34,
   "id": "44389510",
   "metadata": {},
   "outputs": [
    {
     "name": "stdout",
     "output_type": "stream",
     "text": [
      "+---------+---------------+\n",
      "|   months|longitude_valid|\n",
      "+---------+---------------+\n",
      "| November|        6152686|\n",
      "|    March|        7495299|\n",
      "|  October|        7692290|\n",
      "|   August|        7956939|\n",
      "| December|        7332271|\n",
      "|September|        7664096|\n",
      "|     July|        8180319|\n",
      "|    April|        7515300|\n",
      "|      May|        7688979|\n",
      "|     June|        7702391|\n",
      "| February|        6523538|\n",
      "|  January|        7092365|\n",
      "+---------+---------------+\n",
      "\n"
     ]
    }
   ],
   "source": [
    "# Definisikan nilai longitude yang valid\n",
    "nilai_valid = [-180, 180]\n",
    "\n",
    "# Hitung jumlah longitude tidak valid per bulan\n",
    "jumlah_longitude_valid_per_bulan = data_sampel.withColumn(\"months\", F.date_format(\"dt_pos_utc\", \"MMMM\")) \\\n",
    "    .filter(data_sampel['longitude'].between(nilai_valid[0], nilai_valid[1])) \\\n",
    "    .groupBy(\"months\").agg(F.count(\"longitude\").alias(\"longitude_valid\"))\n",
    "\n",
    "# Buat DataFrame hasil\n",
    "longitude_valid = jumlah_longitude_valid_per_bulan\n",
    "\n",
    "# Tampilkan hasil\n",
    "longitude_valid.show()"
   ]
  },
  {
   "cell_type": "markdown",
   "id": "39e45766",
   "metadata": {},
   "source": [
    "### dt_pos_utc Valid"
   ]
  },
  {
   "cell_type": "code",
   "execution_count": 35,
   "id": "eb873bed",
   "metadata": {},
   "outputs": [
    {
     "name": "stdout",
     "output_type": "stream",
     "text": [
      "+---------+----------------+\n",
      "|   months|dt_pos_utc_valid|\n",
      "+---------+----------------+\n",
      "| December|         7332271|\n",
      "| November|         6152686|\n",
      "|  October|         7692290|\n",
      "|   August|         7956939|\n",
      "|    April|         7515300|\n",
      "|September|         7664096|\n",
      "|    March|         7495299|\n",
      "|      May|         7688979|\n",
      "|     June|         7702391|\n",
      "|     July|         8180319|\n",
      "| February|         6523538|\n",
      "|  January|         7092365|\n",
      "+---------+----------------+\n",
      "\n"
     ]
    }
   ],
   "source": [
    "# Definisikan pola regex untuk nilai 'dt_pos_utc' yang valid\n",
    "pattern = \"^[1-9][0-9]{0,3}-[1-9]|0[1-9]|1[0-2]-[1-9]|0[1-9]|[1-2][0-9]|3[0-1] [0-9]|0[0-9]|1[0-9]|2[0-3]:[0-5][0-9]:[0-5][0-9]$\"\n",
    "\n",
    "# Filter data untuk mendapatkan hanya nilai 'dt_pos_utc' yang tidak valid\n",
    "dt_pos_utc_valid_per_bulan = data_sampel.withColumn(\"months\", F.date_format(\"dt_pos_utc\", \"MMMM\")) \\\n",
    "    .filter(F.col(\"dt_pos_utc\").rlike(pattern)) \\\n",
    "    .groupBy(\"months\").agg(F.count(\"dt_pos_utc\").alias(\"dt_pos_utc_valid\"))\n",
    "\n",
    "# Buat DataFrame hasil\n",
    "dt_pos_utc_valid = dt_pos_utc_valid_per_bulan\n",
    "\n",
    "# Tampilkan hasil\n",
    "dt_pos_utc_valid.show()  "
   ]
  },
  {
   "cell_type": "markdown",
   "id": "f8c5dc41",
   "metadata": {},
   "source": [
    "## Nilai Default"
   ]
  },
  {
   "cell_type": "markdown",
   "id": "ecb3eb4f",
   "metadata": {},
   "source": [
    "### MMSI dengan Nilai Default per Bulan"
   ]
  },
  {
   "cell_type": "code",
   "execution_count": 36,
   "id": "00f6e273",
   "metadata": {},
   "outputs": [
    {
     "name": "stdout",
     "output_type": "stream",
     "text": [
      "+--------+-------+------------------+\n",
      "|  months|   mmsi|mmsi_count_default|\n",
      "+--------+-------+------------------+\n",
      "|November|      0|                59|\n",
      "|November|1193046|                19|\n",
      "|     May|      0|                 1|\n",
      "+--------+-------+------------------+\n",
      "\n"
     ]
    }
   ],
   "source": [
    "# Tentukan nilai yang ingin dihitung\n",
    "default_value_1 = 0\n",
    "default_value_2 = 1193046\n",
    "\n",
    "# Hitung jumlah 'mmsi' dengan nilai default per bulan\n",
    "mmsi_default_per_month = data_sampel.withColumn(\"months\", F.date_format(\"dt_pos_utc\", \"MMMM\")) \\\n",
    "    .filter((F.col(\"mmsi\") == default_value_1) | (F.col(\"mmsi\") == default_value_2)) \\\n",
    "    .groupBy(\"months\", \"mmsi\").agg(F.count(\"mmsi\").alias(\"mmsi_count_default\"))\n",
    "\n",
    "# Tampilkan DataFrame Spark hasil akhir\n",
    "mmsi_default_per_month.show()"
   ]
  },
  {
   "cell_type": "markdown",
   "id": "94ce641f",
   "metadata": {},
   "source": [
    "### IMO dengan Nilai Default per Bulan"
   ]
  },
  {
   "cell_type": "code",
   "execution_count": 37,
   "id": "2381ef36",
   "metadata": {},
   "outputs": [
    {
     "name": "stdout",
     "output_type": "stream",
     "text": [
      "+------+-----------------+\n",
      "|months|imo_count_default|\n",
      "+------+-----------------+\n",
      "+------+-----------------+\n",
      "\n"
     ]
    }
   ],
   "source": [
    "# Tentukan nilai yang ingin dihitung\n",
    "default_value = 0  # Ganti dengan nilai yang diinginkan\n",
    "\n",
    "# Hitung jumlah 'imo' dengan nilai default per bulan\n",
    "imo_default_per_month = data_sampel.withColumn(\"months\", F.date_format(\"dt_pos_utc\", \"MMMM\")) \\\n",
    "    .filter(F.col(\"imo\") == default_value) \\\n",
    "    .groupBy(\"months\").agg(F.count(\"imo\").alias(\"imo_count_default\"))\n",
    "\n",
    "# Tampilkan DataFrame Spark hasil akhir\n",
    "imo_default_per_month.show() "
   ]
  },
  {
   "cell_type": "markdown",
   "id": "65a3d1c9",
   "metadata": {},
   "source": [
    "### Status Navigasi dengan Nilai Default per Bulan"
   ]
  },
  {
   "cell_type": "code",
   "execution_count": 38,
   "id": "ab41f7b8",
   "metadata": {},
   "outputs": [
    {
     "name": "stdout",
     "output_type": "stream",
     "text": [
      "+---------+------------------------+\n",
      "|   months|nav_status_count_default|\n",
      "+---------+------------------------+\n",
      "| November|                  329642|\n",
      "|    March|                  388469|\n",
      "|  October|                  399015|\n",
      "|   August|                  416208|\n",
      "| December|                  371461|\n",
      "|September|                  397973|\n",
      "|     July|                  430255|\n",
      "|    April|                  384620|\n",
      "|     June|                  405164|\n",
      "|      May|                  414301|\n",
      "| February|                  357029|\n",
      "|  January|                  386246|\n",
      "+---------+------------------------+\n",
      "\n"
     ]
    }
   ],
   "source": [
    "# Tentukan nilai yang ingin dihitung\n",
    "default_value = \"Not Defined\"  # Ganti dengan nilai yang diinginkan\n",
    "\n",
    "# Hitung jumlah 'nav_status' dengan nilai default per bulan\n",
    "nav_status_default_per_month = data_sampel.withColumn(\"months\", F.date_format(\"dt_pos_utc\", \"MMMM\")) \\\n",
    "    .filter(F.col(\"nav_status\") == default_value) \\\n",
    "    .groupBy(\"months\").agg(F.count(\"nav_status\").alias(\"nav_status_count_default\"))\n",
    "\n",
    "# Tampilkan DataFrame Spark hasil akhir\n",
    "nav_status_default_per_month.show() "
   ]
  },
  {
   "cell_type": "markdown",
   "id": "58b3ea56",
   "metadata": {},
   "source": [
    "### Tipe Kapal dengan Nilai Default per Bulan"
   ]
  },
  {
   "cell_type": "code",
   "execution_count": 39,
   "id": "588f74ac",
   "metadata": {},
   "outputs": [
    {
     "name": "stdout",
     "output_type": "stream",
     "text": [
      "+---------+-------------------------+\n",
      "|   months|vessel_type_count_default|\n",
      "+---------+-------------------------+\n",
      "| November|                     9215|\n",
      "| December|                     8537|\n",
      "|     July|                    13723|\n",
      "|    March|                    15311|\n",
      "|  October|                     8152|\n",
      "|   August|                     8457|\n",
      "|    April|                    17472|\n",
      "|     June|                    12554|\n",
      "|September|                     8181|\n",
      "|      May|                    13430|\n",
      "| February|                    12826|\n",
      "|  January|                    16355|\n",
      "+---------+-------------------------+\n",
      "\n"
     ]
    }
   ],
   "source": [
    "# Tentukan nilai yang ingin dihitung\n",
    "default_value = \"Not Available\"  # Ganti dengan nilai yang diinginkan\n",
    "\n",
    "# Hitung jumlah 'vessel_type' dengan nilai default per bulan\n",
    "vessel_type_default_per_month = data_sampel.withColumn(\"months\", F.date_format(\"dt_pos_utc\", \"MMMM\")) \\\n",
    "    .filter(F.col(\"vessel_type\") == default_value) \\\n",
    "    .groupBy(\"months\").agg(F.count(\"vessel_type\").alias(\"vessel_type_count_default\"))\n",
    "\n",
    "# Tampilkan DataFrame Spark hasil akhir\n",
    "vessel_type_default_per_month.show() "
   ]
  },
  {
   "cell_type": "markdown",
   "id": "bba83140",
   "metadata": {},
   "source": [
    "### Negara Kapal dengan Nilai Default per Bulan"
   ]
  },
  {
   "cell_type": "code",
   "execution_count": 40,
   "id": "8d84c275",
   "metadata": {},
   "outputs": [
    {
     "name": "stdout",
     "output_type": "stream",
     "text": [
      "+------+--------------------------+\n",
      "|months|flag_country_count_default|\n",
      "+------+--------------------------+\n",
      "+------+--------------------------+\n",
      "\n"
     ]
    }
   ],
   "source": [
    "# MISAL DEFAULT = 0\n",
    "# Tentukan nilai yang ingin dihitung\n",
    "default_value = 0  # Ganti dengan nilai yang diinginkan\n",
    "\n",
    "# Hitung jumlah 'flag_country' dengan nilai default per bulan\n",
    "flag_country_default_per_month = data_sampel.withColumn(\"months\", F.date_format(\"dt_pos_utc\", \"MMMM\")) \\\n",
    "    .filter(F.col(\"flag_code\") == default_value) \\\n",
    "    .groupBy(\"months\").agg(F.count(\"flag_code\").alias(\"flag_country_count_default\"))\n",
    "\n",
    "# Tampilkan DataFrame Spark hasil akhir\n",
    "flag_country_default_per_month.show()  "
   ]
  },
  {
   "cell_type": "markdown",
   "id": "4614cd5b",
   "metadata": {},
   "source": [
    "### Latitude & Longitude dengan Nilai Default per Bulan"
   ]
  },
  {
   "cell_type": "code",
   "execution_count": 41,
   "id": "c9c3e8d3",
   "metadata": {},
   "outputs": [
    {
     "name": "stdout",
     "output_type": "stream",
     "text": [
      "+------+----------------------+\n",
      "|months|latitude_count_default|\n",
      "+------+----------------------+\n",
      "+------+----------------------+\n",
      "\n"
     ]
    }
   ],
   "source": [
    "# Tentukan nilai yang ingin dihitung\n",
    "default_value = 91  # Ganti dengan nilai yang diinginkan\n",
    "\n",
    "# Hitung jumlah 'latitude' dengan nilai default per bulan\n",
    "latitude_default_per_month = data_sampel.withColumn(\"months\", F.date_format(\"dt_pos_utc\", \"MMMM\")) \\\n",
    "    .filter(F.col(\"latitude\") == default_value) \\\n",
    "    .groupBy(\"months\").agg(F.count(\"latitude\").alias(\"latitude_count_default\"))\n",
    "\n",
    "# Tampilkan DataFrame Spark hasil akhir\n",
    "latitude_default_per_month.show() "
   ]
  },
  {
   "cell_type": "code",
   "execution_count": 42,
   "id": "b5fd43f8",
   "metadata": {},
   "outputs": [
    {
     "name": "stdout",
     "output_type": "stream",
     "text": [
      "+------+-----------------------+\n",
      "|months|longitude_count_default|\n",
      "+------+-----------------------+\n",
      "+------+-----------------------+\n",
      "\n"
     ]
    }
   ],
   "source": [
    "# Tentukan nilai yang ingin dihitung\n",
    "default_value = 181  # Ganti dengan nilai yang diinginkan\n",
    "\n",
    "# Hitung jumlah 'longitude' dengan nilai default per bulan\n",
    "longitude_default_per_month = data_sampel.withColumn(\"months\", F.date_format(\"dt_pos_utc\", \"MMMM\")) \\\n",
    "    .filter(F.col(\"longitude\") == default_value) \\\n",
    "    .groupBy(\"months\").agg(F.count(\"longitude\").alias(\"longitude_count_default\"))\n",
    "\n",
    "# Tampilkan DataFrame Spark hasil akhir\n",
    "longitude_default_per_month.show() "
   ]
  },
  {
   "cell_type": "markdown",
   "id": "e10d1f5a",
   "metadata": {},
   "source": [
    "### dt_pos_utc dengan Nilai Default per Bulan"
   ]
  },
  {
   "cell_type": "code",
   "execution_count": 43,
   "id": "ced83f87",
   "metadata": {},
   "outputs": [
    {
     "name": "stdout",
     "output_type": "stream",
     "text": [
      "+------+-----------------------+\n",
      "|months|dt_pos_ut_count_dafault|\n",
      "+------+-----------------------+\n",
      "+------+-----------------------+\n",
      "\n"
     ]
    }
   ],
   "source": [
    "# Tentukan nilai yang ingin dihitung\n",
    "default_value = \"0-0-0 24:60:60\"\n",
    "\n",
    "# Hitung jumlah nilai default pada kolom 'dt_pos_utc' per bulan\n",
    "dt_pos_utc_default_per_month = data_sampel.withColumn(\"months\", F.date_format(\"dt_pos_utc\", \"MMMM\")) \\\n",
    "    .filter(F.col(\"dt_pos_utc\") == default_value) \\\n",
    "    .groupBy(\"months\").agg(F.count(\"dt_pos_utc\").alias(\"dt_pos_ut_count_dafault\"))\n",
    "\n",
    "# Tampilkan DataFrame Spark hasil akhir\n",
    "dt_pos_utc_default_per_month.show()  "
   ]
  },
  {
   "cell_type": "markdown",
   "id": "eb1b3636",
   "metadata": {},
   "source": [
    "## Tidak Valid"
   ]
  },
  {
   "cell_type": "markdown",
   "id": "f01493c1",
   "metadata": {},
   "source": [
    "### MMSI Tidak Valid"
   ]
  },
  {
   "cell_type": "code",
   "execution_count": 44,
   "id": "ba04fd79",
   "metadata": {},
   "outputs": [
    {
     "name": "stdout",
     "output_type": "stream",
     "text": [
      "+--------+----------------+\n",
      "|  months|mmsi_tidak_valid|\n",
      "+--------+----------------+\n",
      "|November|           10157|\n",
      "|     May|            1120|\n",
      "+--------+----------------+\n",
      "\n"
     ]
    }
   ],
   "source": [
    "# Definisikan nilai mmsi yang valid\n",
    "nilai_valid = [100000000, 999999999]\n",
    "\n",
    "# Hitung jumlah mmsi tidak valid per bulan\n",
    "jumlah_mmsi_tidak_valid_per_bulan = data_sampel.withColumn(\"months\", F.date_format(\"dt_pos_utc\", \"MMMM\")) \\\n",
    "    .filter((~data_sampel['mmsi'].between(nilai_valid[0], nilai_valid[1])) & \n",
    "            (data_sampel['mmsi'] != 0) & (data_sampel['mmsi'] != 1193046) &\n",
    "            (data_sampel['mmsi'].isNotNull())\n",
    "           ) \\\n",
    "    .groupBy(\"months\").agg(F.count(\"mmsi\").alias(\"mmsi_tidak_valid\"))\n",
    "\n",
    "# Buat DataFrame hasil\n",
    "mmsi_invalid = jumlah_mmsi_tidak_valid_per_bulan\n",
    "\n",
    "# Tampilkan hasil\n",
    "mmsi_invalid.show()\n"
   ]
  },
  {
   "cell_type": "markdown",
   "id": "7b1e0cab",
   "metadata": {},
   "source": [
    "### IMO Tidak Valid"
   ]
  },
  {
   "cell_type": "code",
   "execution_count": 45,
   "id": "938244ab",
   "metadata": {
    "scrolled": true
   },
   "outputs": [
    {
     "name": "stdout",
     "output_type": "stream",
     "text": [
      "+---------+---------------+\n",
      "|   months|imo_tidak_valid|\n",
      "+---------+---------------+\n",
      "| November|          92215|\n",
      "| December|         102670|\n",
      "|    March|         111760|\n",
      "|  October|         111154|\n",
      "|   August|         120266|\n",
      "|    April|         115899|\n",
      "|September|         112087|\n",
      "|     July|         118819|\n",
      "|      May|         122504|\n",
      "|     June|         116427|\n",
      "| February|          83405|\n",
      "|  January|         118295|\n",
      "+---------+---------------+\n",
      "\n"
     ]
    }
   ],
   "source": [
    "# Definisikan nilai imo yang valid\n",
    "nilai_valid = [1000000, 9999999]\n",
    "\n",
    "# Hitung jumlah imo tidak valid per bulan\n",
    "jumlah_imo_tidak_valid_per_bulan = data_sampel.withColumn(\"months\", F.date_format(\"dt_pos_utc\", \"MMMM\")) \\\n",
    "    .filter((~data_sampel['imo'].between(nilai_valid[0], nilai_valid[1])) & \n",
    "            (data_sampel['imo'] != 0) &\n",
    "            (data_sampel['imo'].isNotNull()) \n",
    "           )\\\n",
    "    .groupBy(\"months\").agg(F.count(\"imo\").alias(\"imo_tidak_valid\"))\n",
    "\n",
    "# Buat DataFrame hasil\n",
    "imo_invalid = jumlah_imo_tidak_valid_per_bulan\n",
    "\n",
    "# Tampilkan hasil\n",
    "imo_invalid.show() "
   ]
  },
  {
   "cell_type": "markdown",
   "id": "22986737",
   "metadata": {},
   "source": [
    "### Status Navigasi Tidak Valid"
   ]
  },
  {
   "cell_type": "code",
   "execution_count": 46,
   "id": "c3dd6745",
   "metadata": {},
   "outputs": [
    {
     "name": "stdout",
     "output_type": "stream",
     "text": [
      "+---------+---------------------------+\n",
      "|   months|nav_status_code_tidak_valid|\n",
      "+---------+---------------------------+\n",
      "|     July|                    1916539|\n",
      "| November|                    1244750|\n",
      "|    March|                    1614317|\n",
      "|  October|                    1629715|\n",
      "|   August|                    1786719|\n",
      "|    April|                    1708091|\n",
      "|     June|                    1789009|\n",
      "| December|                    1447674|\n",
      "|September|                    1715779|\n",
      "|      May|                    1708735|\n",
      "|  January|                    1410897|\n",
      "| February|                    1193964|\n",
      "+---------+---------------------------+\n",
      "\n"
     ]
    }
   ],
   "source": [
    "# Definisikan nilai nav_status_code yang valid\n",
    "nilai_valid = [0, 14]\n",
    "\n",
    "# Hitung jumlah nav_status_code tidak valid per bulan\n",
    "jumlah_nav_status_code_tidak_valid_per_bulan = data_sampel.withColumn(\"months\", F.date_format(\"dt_pos_utc\", \"MMMM\")) \\\n",
    "    .filter((~data_sampel['nav_status_code'].between(nilai_valid[0], nilai_valid[1])) & \n",
    "            (data_sampel['nav_status_code'] != 15) & \n",
    "            (data_sampel['nav_status_code'].isNotNull())\n",
    "           ) \\\n",
    "    .groupBy(\"months\").agg(F.count(\"nav_status_code\").alias(\"nav_status_code_tidak_valid\"))\n",
    "\n",
    "# Buat DataFrame hasil\n",
    "nav_status_code_invalid = jumlah_nav_status_code_tidak_valid_per_bulan\n",
    "\n",
    "# Tampilkan hasil\n",
    "nav_status_code_invalid.show() "
   ]
  },
  {
   "cell_type": "markdown",
   "id": "4ad82225",
   "metadata": {},
   "source": [
    "### Tipe Kapal Tidak Valid"
   ]
  },
  {
   "cell_type": "code",
   "execution_count": 47,
   "id": "585b3902",
   "metadata": {},
   "outputs": [
    {
     "name": "stdout",
     "output_type": "stream",
     "text": [
      "+------+----------------------------+\n",
      "|months|vessel_type_code_tidak_valid|\n",
      "+------+----------------------------+\n",
      "+------+----------------------------+\n",
      "\n"
     ]
    }
   ],
   "source": [
    "# Definisikan nilai vessel_type_code yang valid\n",
    "nilai_valid = [1, 255]\n",
    "\n",
    "# Hitung jumlah vessel_type_code tidak valid per bulan\n",
    "jumlah_vessel_type_code_tidak_valid_per_bulan = data_sampel.withColumn(\"months\", F.date_format(\"dt_pos_utc\", \"MMMM\")) \\\n",
    "    .filter((~data_sampel['vessel_type_code'].between(nilai_valid[0], nilai_valid[1])) & \n",
    "            (data_sampel['vessel_type_code'] != 0) &\n",
    "            (data_sampel['vessel_type_code'].isNotNull())\n",
    "           ) \\\n",
    "    .groupBy(\"months\").agg(F.count(\"vessel_type_code\").alias(\"vessel_type_code_tidak_valid\"))\n",
    "\n",
    "# Buat DataFrame hasil\n",
    "vessel_type_code_invalid = jumlah_vessel_type_code_tidak_valid_per_bulan\n",
    "\n",
    "# Tampilkan hasil\n",
    "vessel_type_code_invalid.show() "
   ]
  },
  {
   "cell_type": "markdown",
   "id": "fd18e890",
   "metadata": {},
   "source": [
    "### Negara Kapal Tidak Valid"
   ]
  },
  {
   "cell_type": "code",
   "execution_count": 48,
   "id": "2c874e92",
   "metadata": {},
   "outputs": [
    {
     "name": "stdout",
     "output_type": "stream",
     "text": [
      "+------+-----------------------------+\n",
      "|months|flag_country_code_tidak_valid|\n",
      "+------+-----------------------------+\n",
      "+------+-----------------------------+\n",
      "\n"
     ]
    }
   ],
   "source": [
    "# Definisikan nilai flag_country_code yang valid\n",
    "nilai_valid = [201, 775]\n",
    "\n",
    "# Hitung jumlah flag_country_code tidak valid per bulan\n",
    "jumlah_flag_country_code_tidak_valid_per_bulan = data_sampel.withColumn(\"months\", F.date_format(\"dt_pos_utc\", \"MMMM\")) \\\n",
    "    .filter((~data_sampel['flag_code'].between(nilai_valid[0], nilai_valid[1])) & \n",
    "            (data_sampel['flag_code'] != 0) &\n",
    "            (data_sampel['flag_code'].isNotNull())\n",
    "           ) \\\n",
    "    .groupBy(\"months\").agg(F.count(\"flag_code\").alias(\"flag_country_code_tidak_valid\"))\n",
    "\n",
    "# Buat DataFrame hasil\n",
    "flag_country_code_invalid = jumlah_flag_country_code_tidak_valid_per_bulan\n",
    "\n",
    "# Tampilkan hasil\n",
    "flag_country_code_invalid.show() "
   ]
  },
  {
   "cell_type": "markdown",
   "id": "aa49cb31",
   "metadata": {},
   "source": [
    "### Latitude & Longitude Tidak Valid"
   ]
  },
  {
   "cell_type": "code",
   "execution_count": 49,
   "id": "65f812f9",
   "metadata": {},
   "outputs": [
    {
     "name": "stdout",
     "output_type": "stream",
     "text": [
      "+------+--------------------+\n",
      "|months|latitude_tidak_valid|\n",
      "+------+--------------------+\n",
      "+------+--------------------+\n",
      "\n"
     ]
    }
   ],
   "source": [
    "# Definisikan nilai latitude yang valid\n",
    "nilai_valid = [-90, 90]\n",
    "\n",
    "# Hitung jumlah latitude tidak valid per bulan\n",
    "jumlah_latitude_tidak_valid_per_bulan = data_sampel.withColumn(\"months\", F.date_format(\"dt_pos_utc\", \"MMMM\")) \\\n",
    "    .filter((~data_sampel['latitude'].between(nilai_valid[0], nilai_valid[1])) & \n",
    "            (data_sampel['latitude'] != 91) &\n",
    "            (data_sampel['latitude'].isNotNull())\n",
    "           ) \\\n",
    "    .groupBy(\"months\").agg(F.count(\"latitude\").alias(\"latitude_tidak_valid\"))\n",
    "\n",
    "# Buat DataFrame hasil\n",
    "latitude_invalid = jumlah_latitude_tidak_valid_per_bulan\n",
    "\n",
    "# Tampilkan hasil\n",
    "latitude_invalid.show() "
   ]
  },
  {
   "cell_type": "code",
   "execution_count": 50,
   "id": "758267ec",
   "metadata": {},
   "outputs": [
    {
     "name": "stdout",
     "output_type": "stream",
     "text": [
      "+------+---------------------+\n",
      "|months|longitude_tidak_valid|\n",
      "+------+---------------------+\n",
      "+------+---------------------+\n",
      "\n"
     ]
    }
   ],
   "source": [
    "# Definisikan nilai longitude yang valid\n",
    "nilai_valid = [-180, 180]\n",
    "\n",
    "# Hitung jumlah longitude tidak valid per bulan\n",
    "jumlah_longitude_tidak_valid_per_bulan = data_sampel.withColumn(\"months\", F.date_format(\"dt_pos_utc\", \"MMMM\")) \\\n",
    "    .filter((~data_sampel['longitude'].between(nilai_valid[0], nilai_valid[1])) & \n",
    "            (data_sampel['longitude'] != 181) &\n",
    "            (data_sampel['longitude'].isNotNull())\n",
    "           ) \\\n",
    "    .groupBy(\"months\").agg(F.count(\"longitude\").alias(\"longitude_tidak_valid\"))\n",
    "\n",
    "# Buat DataFrame hasil\n",
    "longitude_invalid = jumlah_longitude_tidak_valid_per_bulan\n",
    "\n",
    "# Tampilkan hasil\n",
    "longitude_invalid.show()"
   ]
  },
  {
   "cell_type": "markdown",
   "id": "b54ac225",
   "metadata": {},
   "source": [
    "### dt_pos_utc Tidak Valid"
   ]
  },
  {
   "cell_type": "code",
   "execution_count": 51,
   "id": "8cfd4c68",
   "metadata": {},
   "outputs": [
    {
     "name": "stdout",
     "output_type": "stream",
     "text": [
      "+------+----------------------+\n",
      "|months|dt_pos_utc_tidak_valid|\n",
      "+------+----------------------+\n",
      "+------+----------------------+\n",
      "\n"
     ]
    }
   ],
   "source": [
    "# Definisikan pola regex untuk nilai 'dt_pos_utc' yang valid\n",
    "pattern = \"^[1-9][0-9]{0,3}-[1-9]|0[1-9]|1[0-2]-[1-9]|0[1-9]|[1-2][0-9]|3[0-1] [0-9]|0[0-9]|1[0-9]|2[0-3]:[0-5][0-9]:[0-5][0-9]$\"\n",
    "\n",
    "default_value = \"0-0-0 24:60:60\"\n",
    "\n",
    "# Filter data untuk mendapatkan hanya nilai 'dt_pos_utc' yang tidak valid\n",
    "dt_pos_utc_tidak_valid_per_bulan = data_sampel.withColumn(\"months\", F.date_format(\"dt_pos_utc\", \"MMMM\")) \\\n",
    "    .filter((~F.col(\"dt_pos_utc\").rlike(pattern)) & \n",
    "            (data_sampel['dt_pos_utc'] != default_value) &\n",
    "            (data_sampel['dt_pos_utc'].isNotNull())\n",
    "           ) \\\n",
    "    .groupBy(\"months\").agg(F.count(\"dt_pos_utc\").alias(\"dt_pos_utc_tidak_valid\"))\n",
    "\n",
    "# Buat DataFrame hasil\n",
    "dt_pos_utc_invalid = dt_pos_utc_tidak_valid_per_bulan\n",
    "\n",
    "# Tampilkan hasil\n",
    "dt_pos_utc_invalid.show()  "
   ]
  },
  {
   "cell_type": "markdown",
   "id": "d9d669c8",
   "metadata": {},
   "source": [
    "## Missing Value"
   ]
  },
  {
   "cell_type": "markdown",
   "id": "4c256d68",
   "metadata": {},
   "source": [
    "### MS MMSI"
   ]
  },
  {
   "cell_type": "code",
   "execution_count": 52,
   "id": "0cad67db",
   "metadata": {},
   "outputs": [
    {
     "name": "stdout",
     "output_type": "stream",
     "text": [
      "+---------+------------+\n",
      "|   months|mmsi_missing|\n",
      "+---------+------------+\n",
      "|     July|           0|\n",
      "| November|           0|\n",
      "|    March|           0|\n",
      "|  October|           0|\n",
      "|   August|           0|\n",
      "|    April|           0|\n",
      "|     June|           0|\n",
      "| December|           0|\n",
      "|September|           0|\n",
      "|      May|           0|\n",
      "|  January|           0|\n",
      "| February|           0|\n",
      "+---------+------------+\n",
      "\n"
     ]
    }
   ],
   "source": [
    "# Hitung jumlah nilai yang hilang per bulan untuk kolom \"mmsi\"\n",
    "missing_values_per_month_mmsi = data_sampel.withColumn(\"months\", F.date_format(\"dt_pos_utc\", \"MMMM\")) \\\n",
    "    .groupBy(\"months\").agg(\n",
    "        F.sum(F.col(\"mmsi\").isNull().cast(IntegerType())).alias(\"mmsi_missing\")\n",
    "    )\n",
    "\n",
    "# Tampilkan DataFrame Spark\n",
    "missing_values_per_month_mmsi.show() "
   ]
  },
  {
   "cell_type": "markdown",
   "id": "8561b119",
   "metadata": {},
   "source": [
    "### MS IMO"
   ]
  },
  {
   "cell_type": "code",
   "execution_count": 53,
   "id": "7087a5fa",
   "metadata": {},
   "outputs": [
    {
     "name": "stdout",
     "output_type": "stream",
     "text": [
      "+---------+-----------+\n",
      "|   months|imo_missing|\n",
      "+---------+-----------+\n",
      "|     July|    3797411|\n",
      "| November|    2756953|\n",
      "|    March|    3331086|\n",
      "|  October|    3348990|\n",
      "|   August|    3560343|\n",
      "|    April|    3386429|\n",
      "|     June|    3580787|\n",
      "| December|    3103743|\n",
      "|September|    3437559|\n",
      "|      May|    3484930|\n",
      "|  January|    3081704|\n",
      "| February|    2729591|\n",
      "+---------+-----------+\n",
      "\n"
     ]
    }
   ],
   "source": [
    "# Hitung jumlah nilai yang hilang per bulan untuk kolom \"imo\"\n",
    "missing_values_per_month_imo = data_sampel.withColumn(\"months\", F.date_format(\"dt_pos_utc\", \"MMMM\")) \\\n",
    "    .groupBy(\"months\").agg(\n",
    "        F.sum(F.col(\"imo\").isNull().cast(IntegerType())).alias(\"imo_missing\")\n",
    "    )\n",
    "\n",
    "# Tampilkan DataFrame Spark\n",
    "missing_values_per_month_imo.show()  "
   ]
  },
  {
   "cell_type": "markdown",
   "id": "8e51dc01",
   "metadata": {},
   "source": [
    "### MS Status Navigasi"
   ]
  },
  {
   "cell_type": "code",
   "execution_count": 54,
   "id": "e1f4d26d",
   "metadata": {},
   "outputs": [
    {
     "name": "stdout",
     "output_type": "stream",
     "text": [
      "+---------+------------------+\n",
      "|   months|nav_status_missing|\n",
      "+---------+------------------+\n",
      "| November|                 0|\n",
      "|    March|                 0|\n",
      "|  October|                 0|\n",
      "|   August|                 0|\n",
      "| December|                 0|\n",
      "|    April|                 0|\n",
      "|     June|                 0|\n",
      "|September|                 0|\n",
      "|     July|                 0|\n",
      "|      May|                 0|\n",
      "| February|                 0|\n",
      "|  January|                 0|\n",
      "+---------+------------------+\n",
      "\n"
     ]
    }
   ],
   "source": [
    "# Hitung jumlah nilai yang hilang per bulan untuk kolom \"nav_status\"\n",
    "missing_values_per_month_nav_status = data_sampel.withColumn(\"months\", F.date_format(\"dt_pos_utc\", \"MMMM\")) \\\n",
    "    .groupBy(\"months\").agg(\n",
    "        F.sum(F.col(\"nav_status\").isNull().cast(IntegerType())).alias(\"nav_status_missing\")\n",
    "    )\n",
    "\n",
    "# Tampilkan DataFrame Spark\n",
    "missing_values_per_month_nav_status.show() "
   ]
  },
  {
   "cell_type": "markdown",
   "id": "79c2dd71",
   "metadata": {},
   "source": [
    "### MS Tipe Kapal"
   ]
  },
  {
   "cell_type": "code",
   "execution_count": 55,
   "id": "04e2993b",
   "metadata": {},
   "outputs": [
    {
     "name": "stdout",
     "output_type": "stream",
     "text": [
      "+---------+-------------------+\n",
      "|   months|vessel_type_missing|\n",
      "+---------+-------------------+\n",
      "| December|                  0|\n",
      "|     July|                  0|\n",
      "| November|                  0|\n",
      "|    March|                  0|\n",
      "|  October|                  0|\n",
      "|   August|                  0|\n",
      "|    April|                  0|\n",
      "|September|                  0|\n",
      "|     June|                  0|\n",
      "|      May|                  0|\n",
      "| February|                  0|\n",
      "|  January|                  0|\n",
      "+---------+-------------------+\n",
      "\n"
     ]
    }
   ],
   "source": [
    "# Hitung jumlah nilai yang hilang per bulan untuk kolom \"vessel_type\"\n",
    "missing_values_per_month_vessel_type = data_sampel.withColumn(\"months\", F.date_format(\"dt_pos_utc\", \"MMMM\")) \\\n",
    "    .groupBy(\"months\").agg(\n",
    "        F.sum(F.col(\"vessel_type\").isNull().cast(IntegerType())).alias(\"vessel_type_missing\")\n",
    "    )\n",
    "\n",
    "# Tampilkan DataFrame Spark\n",
    "missing_values_per_month_vessel_type.show() "
   ]
  },
  {
   "cell_type": "markdown",
   "id": "9247ab1a",
   "metadata": {},
   "source": [
    "### MS Negara Kapal"
   ]
  },
  {
   "cell_type": "code",
   "execution_count": 56,
   "id": "a8b32260",
   "metadata": {},
   "outputs": [
    {
     "name": "stdout",
     "output_type": "stream",
     "text": [
      "+---------+-----------------+\n",
      "|   months|flag_code_missing|\n",
      "+---------+-----------------+\n",
      "|     July|                0|\n",
      "| November|          1481695|\n",
      "|    March|                0|\n",
      "|  October|                0|\n",
      "|   August|                0|\n",
      "|    April|                0|\n",
      "|     June|                0|\n",
      "| December|                0|\n",
      "|September|                0|\n",
      "|      May|           141030|\n",
      "| February|                0|\n",
      "|  January|                0|\n",
      "+---------+-----------------+\n",
      "\n"
     ]
    }
   ],
   "source": [
    "# Hitung jumlah nilai yang hilang per bulan untuk kolom \"flag_country\"\n",
    "missing_values_per_month_flag_code = data_sampel.withColumn(\"months\", F.date_format(\"dt_pos_utc\", \"MMMM\")) \\\n",
    "    .groupBy(\"months\").agg(\n",
    "        F.sum(F.col(\"flag_code\").isNull().cast(IntegerType())).alias(\"flag_code_missing\")\n",
    "    )\n",
    "\n",
    "# Tampilkan DataFrame Spark\n",
    "missing_values_per_month_flag_code.show() "
   ]
  },
  {
   "cell_type": "markdown",
   "id": "1136222d",
   "metadata": {},
   "source": [
    "### MS Latitude & Longitude"
   ]
  },
  {
   "cell_type": "code",
   "execution_count": 57,
   "id": "7391be5a",
   "metadata": {},
   "outputs": [
    {
     "name": "stdout",
     "output_type": "stream",
     "text": [
      "+---------+----------------+\n",
      "|   months|latitude_missing|\n",
      "+---------+----------------+\n",
      "| November|               0|\n",
      "|    March|               0|\n",
      "|  October|               0|\n",
      "|   August|               0|\n",
      "| December|               0|\n",
      "|September|               0|\n",
      "|     July|               0|\n",
      "|      May|               0|\n",
      "|    April|               0|\n",
      "|     June|               0|\n",
      "|  January|               0|\n",
      "| February|               0|\n",
      "+---------+----------------+\n",
      "\n"
     ]
    }
   ],
   "source": [
    "# Hitung jumlah nilai yang hilang per bulan untuk kolom \"latitude\"\n",
    "missing_values_per_month_latitude = data_sampel.withColumn(\"months\", F.date_format(\"dt_pos_utc\", \"MMMM\")) \\\n",
    "    .groupBy(\"months\").agg(\n",
    "        F.sum(F.col(\"latitude\").isNull().cast(IntegerType())).alias(\"latitude_missing\")\n",
    "    )\n",
    "\n",
    "# Tampilkan DataFrame Spark\n",
    "missing_values_per_month_latitude.show() "
   ]
  },
  {
   "cell_type": "code",
   "execution_count": 58,
   "id": "c56f1343",
   "metadata": {},
   "outputs": [
    {
     "name": "stdout",
     "output_type": "stream",
     "text": [
      "+---------+-----------------+\n",
      "|   months|longitude_missing|\n",
      "+---------+-----------------+\n",
      "|     July|                0|\n",
      "| November|                0|\n",
      "|    March|                0|\n",
      "|  October|                0|\n",
      "|   August|                0|\n",
      "|    April|                0|\n",
      "|     June|                0|\n",
      "| December|                0|\n",
      "|September|                0|\n",
      "|      May|                0|\n",
      "| February|                0|\n",
      "|  January|                0|\n",
      "+---------+-----------------+\n",
      "\n"
     ]
    }
   ],
   "source": [
    "# Hitung jumlah nilai yang hilang per bulan untuk kolom \"longitude\"\n",
    "missing_values_per_month_longitude = data_sampel.withColumn(\"months\", F.date_format(\"dt_pos_utc\", \"MMMM\")) \\\n",
    "    .groupBy(\"months\").agg(\n",
    "        F.sum(F.col(\"longitude\").isNull().cast(IntegerType())).alias(\"longitude_missing\")\n",
    "    )\n",
    "\n",
    "# Tampilkan DataFrame Spark\n",
    "missing_values_per_month_longitude.show() "
   ]
  },
  {
   "cell_type": "markdown",
   "id": "a15753dc",
   "metadata": {},
   "source": [
    "### MS dt_pos_utc"
   ]
  },
  {
   "cell_type": "code",
   "execution_count": 59,
   "id": "4705e109",
   "metadata": {},
   "outputs": [
    {
     "name": "stdout",
     "output_type": "stream",
     "text": [
      "+---------+------------------+\n",
      "|   months|dt_pos_utc_missing|\n",
      "+---------+------------------+\n",
      "| November|                 0|\n",
      "|    March|                 0|\n",
      "|  October|                 0|\n",
      "|   August|                 0|\n",
      "| December|                 0|\n",
      "|September|                 0|\n",
      "|     July|                 0|\n",
      "|      May|                 0|\n",
      "|    April|                 0|\n",
      "|     June|                 0|\n",
      "|  January|                 0|\n",
      "| February|                 0|\n",
      "+---------+------------------+\n",
      "\n"
     ]
    }
   ],
   "source": [
    "# Hitung jumlah nilai yang hilang per bulan untuk kolom \"dt_pos_utc\"\n",
    "missing_values_per_month_dt_pos_utc = data_sampel.withColumn(\"months\", F.date_format(\"dt_pos_utc\", \"MMMM\")) \\\n",
    "    .groupBy(\"months\").agg(\n",
    "        F.sum(F.col(\"dt_pos_utc\").isNull().cast(IntegerType())).alias(\"dt_pos_utc_missing\")\n",
    "    )\n",
    "\n",
    "# Tampilkan DataFrame Spark\n",
    "missing_values_per_month_dt_pos_utc.show() "
   ]
  },
  {
   "cell_type": "markdown",
   "id": "1158bc1e",
   "metadata": {},
   "source": [
    "## Pergerakan Anomali"
   ]
  },
  {
   "cell_type": "code",
   "execution_count": 36,
   "id": "ae49a53c",
   "metadata": {},
   "outputs": [],
   "source": [
    "# plot jarak tempuh (y) sama waktu tempuh (x)\n",
    "# Dari plotnya keliatan mana yang jarak tempuhnya besar tapi waktu tempuhnya kecil (atau sebaliknya?)"
   ]
  },
  {
   "cell_type": "markdown",
   "id": "d5a8c842",
   "metadata": {},
   "source": [
    "### Status Navigasi & SOG"
   ]
  },
  {
   "cell_type": "code",
   "execution_count": 60,
   "id": "1320dc10",
   "metadata": {},
   "outputs": [
    {
     "name": "stdout",
     "output_type": "stream",
     "text": [
      "+--------------------+------+------+------+------+------+------+\n",
      "|          nav_status|sog_50|sog_75|sog_90|sog_95|sog_99|sog_99|\n",
      "+--------------------+------+------+------+------+------+------+\n",
      "|              Moored|   0.0|   0.0|   0.0|   0.2|   9.2|  17.5|\n",
      "|             Aground|   0.0|   0.1|   6.0|   9.0|  15.8|  25.0|\n",
      "|Restricted Manoeu...|   0.0|   1.0|   4.6|   7.0|  11.3|  16.2|\n",
      "|         Not Defined|   0.0|   1.0|   7.0|   9.1|  15.0|  26.3|\n",
      "|   Not Under Command|   0.5|   1.5|   4.5|   8.3|  13.2|  20.9|\n",
      "|  Engaged In Fishing|   1.3|   4.2|   8.3|   9.8|  12.0|  14.0|\n",
      "|    Underway Sailing|   0.0|   4.5|   9.5|  11.7|  15.7|  26.7|\n",
      "|             Unknown|   0.0|   2.2|   6.2|   7.9|  11.3|  28.4|\n",
      "|           At Anchor|   0.0|   0.1|   0.2|   0.5|   7.7|  12.6|\n",
      "|Under Way Using E...|   7.9|  11.9|  14.0|  16.6|  20.0|  28.0|\n",
      "+--------------------+------+------+------+------+------+------+\n",
      "\n"
     ]
    }
   ],
   "source": [
    "# Tentukan persentil yang diinginkan\n",
    "percentiles = [0.5, 0.75, 0.9, 0.95, 0.99, 0.999]\n",
    "\n",
    "# Loop melalui setiap persentil dan hitung nilai kuantil untuk sog\n",
    "quantile_columns = [expr(f\"percentile_approx(sog, {p})\").alias(f\"sog_{int(p * 100)}\") for p in percentiles]\n",
    "\n",
    "# Kelompokkan berdasarkan nav_status dan hitung kuantilnya\n",
    "quantiles_per_nav_status = data_sampel.select(\"nav_status\",\"sog\").groupBy(\"nav_status\").agg(*quantile_columns)\n",
    "\n",
    "# Tampilkan hasil\n",
    "quantiles_per_nav_status.show()"
   ]
  },
  {
   "cell_type": "markdown",
   "id": "cf5bf03e",
   "metadata": {},
   "source": [
    "### Validasi Status Navigasi dengan SOG"
   ]
  },
  {
   "cell_type": "code",
   "execution_count": 61,
   "id": "c82e8ccb",
   "metadata": {
    "scrolled": true
   },
   "outputs": [
    {
     "name": "stdout",
     "output_type": "stream",
     "text": [
      "+---------+-----------------------------+\n",
      "|    bulan|total_pergerakan_tidak_normal|\n",
      "+---------+-----------------------------+\n",
      "| November|                      1306845|\n",
      "|    March|                      1476077|\n",
      "|  October|                      1516312|\n",
      "|   August|                      1539682|\n",
      "| December|                      1462983|\n",
      "|September|                      1491274|\n",
      "|     July|                      1573546|\n",
      "|      May|                      1500083|\n",
      "|    April|                      1454747|\n",
      "|     June|                      1491183|\n",
      "|  January|                      1460853|\n",
      "| February|                      1333742|\n",
      "+---------+-----------------------------+\n",
      "\n"
     ]
    }
   ],
   "source": [
    "# Memeriksa kecocokan nav_status dan sog\n",
    "\n",
    "# Ekstrak nama bulan dari timestamp\n",
    "data_sampel = data_sampel.withColumn(\"bulan\", date_format(\"dt_pos_utc\", \"MMMM\"))\n",
    "\n",
    "# Tentukan kriteria pergerakan tidak normal\n",
    "kriteria_pergerakan_tidak_normal = (\n",
    "    ((col(\"nav_status\").isin(['At Anchor', 'Moored'])) &\n",
    "    (col(\"sog\") > 1)) | \n",
    "    ((col(\"nav_status\").isin(['Not Under Command', 'Underway Sailing', 'Under Way Using Engine', 'Engaged In Fishing', 'Restricted Manoeuvrability', 'Aground'])) &\n",
    "    (col(\"sog\") < 1))\n",
    ")\n",
    "\n",
    "# Hitung pergerakan tidak normal per bulan\n",
    "pergerakan_tidak_normal_per_bulan = data_sampel.withColumn(\n",
    "    \"pergerakan_tidak_normal\",\n",
    "    when(kriteria_pergerakan_tidak_normal, 1).otherwise(0)\n",
    ").groupBy(\"bulan\").agg({\"pergerakan_tidak_normal\": \"sum\"}).withColumnRenamed(\"SUM(pergerakan_tidak_normal)\", \"total_pergerakan_tidak_normal\")\n",
    "\n",
    "# Tampilkan hasil\n",
    "pergerakan_tidak_normal_per_bulan.show()"
   ]
  },
  {
   "cell_type": "markdown",
   "id": "1f8b66cd",
   "metadata": {},
   "source": [
    "## Record Duplicate"
   ]
  },
  {
   "cell_type": "code",
   "execution_count": 62,
   "id": "5b2e961c",
   "metadata": {},
   "outputs": [
    {
     "name": "stdout",
     "output_type": "stream",
     "text": [
      "+--------+-----+\n",
      "|   bulan|count|\n",
      "+--------+-----+\n",
      "|February|  206|\n",
      "| January| 1047|\n",
      "+--------+-----+\n",
      "\n"
     ]
    }
   ],
   "source": [
    "# Ekstrak kolom bulan dari kolom tanggal atau waktu di DataFrame\n",
    "data_sampel = data_sampel.withColumn(\"bulan\", date_format(\"dt_pos_utc\", \"MMMM\"))\n",
    "\n",
    "# Tentukan record-record duplikat dalam DataFrame dengan membandingkan nilai semua variabel\n",
    "duplikat = data_sampel.groupBy(*data_sampel.columns).count().where(\"count > 1\")\n",
    "\n",
    "# Kelompokkan record-record duplikat berdasarkan bulan dan hitung jumlahnya\n",
    "duplikat_per_bulan = duplikat.groupBy(\"bulan\").count()\n",
    "\n",
    "# Tampilkan hasilnya\n",
    "duplikat_per_bulan.show()"
   ]
  },
  {
   "cell_type": "markdown",
   "id": "54b21f13",
   "metadata": {},
   "source": [
    "# Filter"
   ]
  },
  {
   "cell_type": "markdown",
   "id": "b4378018",
   "metadata": {},
   "source": [
    "## Filter MMSI"
   ]
  },
  {
   "cell_type": "code",
   "execution_count": 15,
   "id": "c78f6241",
   "metadata": {},
   "outputs": [],
   "source": [
    "# Filter data untuk mmsi di dalam rentang tertentu\n",
    "filtered_mmsi = sampledd_data.filter(col(\"mmsi\").between(100000000, 999999999))"
   ]
  },
  {
   "cell_type": "code",
   "execution_count": 9,
   "id": "4c887574",
   "metadata": {},
   "outputs": [],
   "source": [
    "#filtered_mmsi.count()"
   ]
  },
  {
   "cell_type": "code",
   "execution_count": null,
   "id": "4475722c",
   "metadata": {},
   "outputs": [],
   "source": [
    "# Hitung jumlah 'mmsi' yang unik per bulan\n",
    "unique_filtered_mmsi_per_month = filtered_mmsi.withColumn(\"months\", date_format(\"dt_pos_utc\", \"MMMM\")) \\\n",
    "    .groupBy(\"months\").agg(countDistinct(\"mmsi\").alias(\"unique_mmsi_count\"))\n",
    "\n",
    "# Tampilkan DataFrame Spark\n",
    "unique_filtered_mmsi_per_month.show()"
   ]
  },
  {
   "cell_type": "markdown",
   "id": "67f99627",
   "metadata": {},
   "source": [
    "## Filter IMO"
   ]
  },
  {
   "cell_type": "code",
   "execution_count": null,
   "id": "153c0684",
   "metadata": {},
   "outputs": [],
   "source": [
    "# Filter data untuk imo di dalam rentang tertentu\n",
    "filtered_imo = filtered_mmsi.filter(col(\"imo\").between(1000000, 9999999))"
   ]
  },
  {
   "cell_type": "code",
   "execution_count": null,
   "id": "c9a49367",
   "metadata": {},
   "outputs": [],
   "source": [
    "filtered_imo.count()"
   ]
  },
  {
   "cell_type": "code",
   "execution_count": null,
   "id": "14fe36d3",
   "metadata": {},
   "outputs": [],
   "source": [
    "# Hitung jumlah 'imo' yang unik per bulan\n",
    "unique_filtered_imo_per_month = filtered_imo.withColumn(\"months\", date_format(\"dt_pos_utc\", \"MMMM\")) \\\n",
    "    .groupBy(\"months\").agg(countDistinct(\"imo\").alias(\"unique_imo_count\"))\n",
    "\n",
    "# Tampilkan DataFrame Spark\n",
    "unique_filtered_imo_per_month.show() "
   ]
  },
  {
   "cell_type": "markdown",
   "id": "0655c0ba",
   "metadata": {},
   "source": [
    "## Filter Status Navigasi"
   ]
  },
  {
   "cell_type": "code",
   "execution_count": null,
   "id": "062ae451",
   "metadata": {},
   "outputs": [],
   "source": [
    "# Filter data untuk nav_status_code di dalam rentang tertentu\n",
    "filtered_nav_status_code = filtered_imo.filter(col(\"nav_status_code\").between(0, 14))"
   ]
  },
  {
   "cell_type": "code",
   "execution_count": null,
   "id": "25b67a3b",
   "metadata": {},
   "outputs": [],
   "source": [
    "# Nilai yang akan di-filter\n",
    "nav_status_values = ['Under Way Using Engine', 'At Anchor', 'Restricted Manoeuvrability', 'Moored', 'Engaged In Fishing', 'Underway Sailing']\n",
    "\n",
    "# Filter data berdasarkan nilai 'nav_status'\n",
    "filtered_nav_status = filtered_nav_status_code.filter(col(\"nav_status\").isin(nav_status_values))"
   ]
  },
  {
   "cell_type": "code",
   "execution_count": null,
   "id": "a92814f6",
   "metadata": {},
   "outputs": [],
   "source": [
    "filtered_nav_status.count()"
   ]
  },
  {
   "cell_type": "code",
   "execution_count": null,
   "id": "1e6ffff8",
   "metadata": {},
   "outputs": [],
   "source": [
    "# Hitung jumlah 'mmsi' per masing-masing 'nav_status'\n",
    "mmsi_count_per_filtered_nav_status = filtered_nav_status.groupBy(\"nav_status\").agg(count(\"mmsi\").alias(\"mmsi_count\"))\n",
    "\n",
    "# Tampilkan DataFrame Spark\n",
    "mmsi_count_per_filtered_nav_status.show() "
   ]
  },
  {
   "cell_type": "code",
   "execution_count": null,
   "id": "75cac7f2",
   "metadata": {},
   "outputs": [],
   "source": [
    "# Hitung jumlah 'mmsi' yang unik berdasarkan 'nav_status'\n",
    "unique_mmsi_per_filtered_nav_status = filtered_nav_status.groupBy(\"nav_status\").agg(countDistinct(\"mmsi\").alias(\"unique_mmsi_per_filtered_nav_status_count\"))\n",
    "\n",
    "# Tampilkan DataFrame Spark\n",
    "unique_mmsi_per_filtered_nav_status.show() "
   ]
  },
  {
   "cell_type": "markdown",
   "id": "bcb03572",
   "metadata": {},
   "source": [
    "## Filter Tipe Kapal"
   ]
  },
  {
   "cell_type": "code",
   "execution_count": null,
   "id": "e24a4877",
   "metadata": {},
   "outputs": [],
   "source": [
    "# Filter data untuk vessel_type_code di dalam rentang tertentu\n",
    "filtered_vessel_type_code = filtered_nav_status.filter(col(\"vessel_type_code\").between(1, 99))"
   ]
  },
  {
   "cell_type": "code",
   "execution_count": null,
   "id": "1c0d5918",
   "metadata": {},
   "outputs": [],
   "source": [
    "# Nilai yang akan di-filter\n",
    "vessel_type_values = ['Sailing', 'Tanker', 'Other', 'Pleasure Craft', 'Passenger', 'Fishing', 'Port Tender', 'Dredging', 'Cargo']\n",
    "\n",
    "# Filter data berdasarkan nilai 'vessel_type'\n",
    "filtered_vessel_type = filtered_vessel_type_code.filter(col(\"vessel_type\").isin(vessel_type_values))"
   ]
  },
  {
   "cell_type": "code",
   "execution_count": null,
   "id": "ebd8b62f",
   "metadata": {},
   "outputs": [],
   "source": [
    "filtered_vessel_type.count()"
   ]
  },
  {
   "cell_type": "code",
   "execution_count": null,
   "id": "0a24effe",
   "metadata": {},
   "outputs": [],
   "source": [
    "# Hitung jumlah 'mmsi' per masing-masing 'vessel_type'\n",
    "mmsi_count_per_filtered_vessel_type = filtered_vessel_type.groupBy(\"vessel_type\").agg(count(\"mmsi\").alias(\"mmsi_count\"))\n",
    "\n",
    "# Tampilkan DataFrame Spark\n",
    "mmsi_count_per_filtered_vessel_type.show() "
   ]
  },
  {
   "cell_type": "code",
   "execution_count": null,
   "id": "b7dac079",
   "metadata": {},
   "outputs": [],
   "source": [
    "# Hitung jumlah 'mmsi' yang unik berdasarkan 'vessel_type'\n",
    "unique_mmsi_per_filtered_vessel_type = filtered_vessel_type.groupBy(\"vessel_type\").agg(countDistinct(\"mmsi\").alias(\"unique_mmsi_per_filtered_vessel_type_count\"))\n",
    "\n",
    "# Tampilkan DataFrame Spark\n",
    "unique_mmsi_per_filtered_vessel_type.show()  "
   ]
  },
  {
   "cell_type": "markdown",
   "id": "b161828a",
   "metadata": {},
   "source": [
    "## Filter Negara Kapal"
   ]
  },
  {
   "cell_type": "code",
   "execution_count": null,
   "id": "2b6a601a",
   "metadata": {},
   "outputs": [],
   "source": [
    "# Filter data untuk flag_country_code di dalam rentang tertentu\n",
    "filtered_flag_country_code = filtered_vessel_type.filter(col(\"flag_code\").between(201, 775))"
   ]
  },
  {
   "cell_type": "code",
   "execution_count": null,
   "id": "82dfedbb",
   "metadata": {},
   "outputs": [],
   "source": [
    "# Nilai yang akan di-filter\n",
    "# bagi jadi dua, Indonesia dan negara asing\n",
    "\n",
    "# Filter data berdasarkan nilai 'flag_country'"
   ]
  },
  {
   "cell_type": "code",
   "execution_count": null,
   "id": "8aed8fb1",
   "metadata": {},
   "outputs": [],
   "source": [
    "filtered_flag_country_code.count()"
   ]
  },
  {
   "cell_type": "code",
   "execution_count": null,
   "id": "e0e7ea1a",
   "metadata": {},
   "outputs": [],
   "source": [
    "# Hitung jumlah 'mmsi' per masing-masing 'flag_country'\n",
    "mmsi_count_per_filtered_flag_country = filtered_flag_country.groupBy(\"flag_country\").agg(count(\"mmsi\").alias(\"mmsi_count\"))\n",
    "\n",
    "# Tampilkan DataFrame Spark\n",
    "mmsi_count_per_filtered_flag_country.show() "
   ]
  },
  {
   "cell_type": "code",
   "execution_count": null,
   "id": "e0b50473",
   "metadata": {},
   "outputs": [],
   "source": [
    "# Filter out rows where 'flag_country' is not null\n",
    "df_filtered = filtered_flag_country.filter(col(\"flag_country\").isNotNull())\n",
    "\n",
    "# Hitung jumlah 'mmsi' yang unik berdasarkan 'flag_country'\n",
    "unique_mmsi_per_filtered_flag_country = df_filtered.groupBy(\"flag_country\").agg(countDistinct(\"mmsi\").alias(\"unique_mmsi_per_flag_country_count\"))\n",
    "\n",
    "# Tampilkan DataFrame Spark\n",
    "unique_mmsi_per_filtered_flag_country.show() "
   ]
  },
  {
   "cell_type": "markdown",
   "id": "4d6014a6",
   "metadata": {},
   "source": [
    "## Filter Lat, Long"
   ]
  },
  {
   "cell_type": "code",
   "execution_count": null,
   "id": "d51ad1ed",
   "metadata": {},
   "outputs": [],
   "source": [
    "# Filter data untuk latitude & longitude di dalam rentang tertentu\n",
    "filtered_lat = filtered_flag_country_code.filter(col(\"latitude\").between(-90, 90))\n",
    "filtered_lat_long = filtered_lat.filter(col(\"longitude\").between(-180, 180))"
   ]
  },
  {
   "cell_type": "code",
   "execution_count": null,
   "id": "8a8c0f51",
   "metadata": {},
   "outputs": [],
   "source": [
    "filtered_lat_long.count()"
   ]
  },
  {
   "cell_type": "markdown",
   "id": "e979bcbb",
   "metadata": {},
   "source": [
    "## Filter dt_pos_utc"
   ]
  },
  {
   "cell_type": "code",
   "execution_count": null,
   "id": "3e0ecbeb",
   "metadata": {},
   "outputs": [],
   "source": [
    "# Filter data untuk dt_pos_utc di dalam rentang tertentu\n",
    "pattern = \"^[1-9][0-9]{0,3}-[1-9]|0[1-9]|1[0-2]-[1-9]|0[1-9]|[1-2][0-9]|3[0-1] [0-9]|0[0-9]|1[0-9]|2[0-3]:[0-5][0-9]:[0-5][0-9]$\"\n",
    "\n",
    "# Filter data untuk mendapatkan hanya nilai 'dt_pos_utc' yang tidak valid\n",
    "filtered_dt_pos_utc = filtered_lat_long.filter(F.col(\"dt_pos_utc\").rlike(pattern))"
   ]
  },
  {
   "cell_type": "code",
   "execution_count": null,
   "id": "0e08b0ac",
   "metadata": {},
   "outputs": [],
   "source": [
    "filtered_dt_pos_utc.count()"
   ]
  },
  {
   "cell_type": "markdown",
   "id": "656e0350",
   "metadata": {},
   "source": [
    "## Filter Pelayaran/Pergerakan Anomali"
   ]
  },
  {
   "cell_type": "code",
   "execution_count": null,
   "id": "577ce700",
   "metadata": {},
   "outputs": [],
   "source": [
    "# plot jarak tempuh (y) sama waktu tempuh (x)\n",
    "# Dari plotnya keliatan mana yang jarak tempuhnya besar tapi waktu tempuhnya kecil (atau sebaliknya?)"
   ]
  },
  {
   "cell_type": "code",
   "execution_count": null,
   "id": "3b632525",
   "metadata": {},
   "outputs": [],
   "source": [
    "# Tentukan kriteria pergerakan tidak normal\n",
    "kriteria_pergerakan_tidak_normal = (\n",
    "    ((col(\"nav_status\").isin(['At Anchor', 'Restricted Manoeuvrability', 'Moored', 'Aground'])) &\n",
    "    (col(\"sog\") > 1)) | \n",
    "    ((col(\"nav_status\").isin(['Not Under Command', 'Underway Sailing', 'Under Way Using Engine', 'Engaged In Fishing'])) &\n",
    "    (col(\"sog\") < 1))\n",
    ")\n",
    "\n",
    "# kriteria pergerakan normal\n",
    "kriteria_pergerakan_normal = ~kriteria_pergerakan_tidak_normal\n",
    "\n",
    "# Filter pergerakan normal\n",
    "filtered_pergerakan_normal = filtered_dt_pos_utc.filter(kriteria_pergerakan_normal)"
   ]
  },
  {
   "cell_type": "code",
   "execution_count": null,
   "id": "0c013bcf",
   "metadata": {},
   "outputs": [],
   "source": [
    "filtered_pergerakan_normal.count()"
   ]
  },
  {
   "cell_type": "markdown",
   "id": "1560bb7b",
   "metadata": {},
   "source": [
    "## Filter Kapal di Pelabuhan"
   ]
  },
  {
   "cell_type": "code",
   "execution_count": null,
   "id": "94b7eb0a",
   "metadata": {},
   "outputs": [],
   "source": []
  },
  {
   "cell_type": "markdown",
   "id": "6a5cf218",
   "metadata": {},
   "source": [
    "## Filter Pergerakan Anomali"
   ]
  },
  {
   "cell_type": "code",
   "execution_count": null,
   "id": "698741d7",
   "metadata": {},
   "outputs": [],
   "source": []
  },
  {
   "cell_type": "markdown",
   "id": "8ffa61f4",
   "metadata": {},
   "source": [
    "# Setelah Difilter"
   ]
  },
  {
   "cell_type": "markdown",
   "id": "f795a67a",
   "metadata": {},
   "source": [
    "## Record"
   ]
  },
  {
   "cell_type": "code",
   "execution_count": null,
   "id": "e43ba019",
   "metadata": {},
   "outputs": [],
   "source": [
    "# Kelompokkan berdasarkan bulan dan hitung jumlah rekaman\n",
    "rekaman_per_bulan_filter = filtered_pergerakan_normal.groupBy(\"months\").agg(count(\"*\").alias(\"jumlah_record_per_bulan\"))\n",
    "\n",
    "# Tampilkan DataFrame Spark yang telah diubah dan diurutkan\n",
    "rekaman_per_bulan_filter.show()"
   ]
  },
  {
   "cell_type": "markdown",
   "id": "41470365",
   "metadata": {},
   "source": [
    "# Download"
   ]
  },
  {
   "cell_type": "markdown",
   "id": "ac91d8b3",
   "metadata": {},
   "source": [
    "## Fungsi"
   ]
  },
  {
   "cell_type": "code",
   "execution_count": 16,
   "id": "092d3b5f",
   "metadata": {},
   "outputs": [],
   "source": [
    "def create_download_link(df, title, filename):\n",
    "    csv = df.to_csv(index = False)\n",
    "    b64 = base64.b64encode(csv.encode())\n",
    "    payload = b64.decode()\n",
    "    html = '<a download=\"{filename}\" href=\"data:text/csv;base64,{payload}\" target=\"_blank\">{title}</a>'\n",
    "    html = html.format(payload=payload, title=title, filename=filename)\n",
    "    return HTML(html)"
   ]
  },
  {
   "cell_type": "markdown",
   "id": "e554217f",
   "metadata": {},
   "source": [
    "## Download Data"
   ]
  },
  {
   "cell_type": "code",
   "execution_count": 19,
   "id": "84f80fab",
   "metadata": {},
   "outputs": [
    {
     "name": "stderr",
     "output_type": "stream",
     "text": [
      "/opt/spark/python/lib/pyspark.zip/pyspark/sql/pandas/conversion.py:474: FutureWarning: iteritems is deprecated and will be removed in a future version. Use .items instead.\n",
      "  for column, series in pdf.iteritems():\n",
      "/opt/spark/python/lib/pyspark.zip/pyspark/sql/pandas/conversion.py:486: FutureWarning: iteritems is deprecated and will be removed in a future version. Use .items instead.\n",
      "  for column, series in pdf.iteritems():\n"
     ]
    },
    {
     "data": {
      "text/html": [
       "<a download=\"rekaman_per_bulan.csv\" href=\"data:text/csv;base64,YnVsYW4sanVtbGFoX3JlY29yZF9wZXJfYnVsYW4sYnVsYW5fbnVtZXJpawpKYW51YXJ5LDcwODg2MTE3MywxCkZlYnJ1YXJ5LDY1MjM0ODIxMSwyCk1hcmNoLDc0ODk0MjQ1MSwzCkFwcmlsLDc1MTI5MjcxMyw0Ck1heSw3Njg0ODk0ODEsNQpKdW5lLDc3MDI2ODA2Nyw2Ckp1bHksODE4MTIxNDgxLDcKQXVndXN0LDc5NTkzMDQwNSw4ClNlcHRlbWJlciw3NjY0MzI3ODUsOQpPY3RvYmVyLDc2OTMyMTY2MiwxMApOb3ZlbWJlciw2MTUzNDU3NzcsMTEKRGVjZW1iZXIsNzMyOTg0NDE2LDEyCg==\" target=\"_blank\">rekaman_per_bulan</a>"
      ],
      "text/plain": [
       "<IPython.core.display.HTML object>"
      ]
     },
     "execution_count": 19,
     "metadata": {},
     "output_type": "execute_result"
    }
   ],
   "source": [
    "# Jumlah Records (All)\n",
    "\n",
    "# DataFrame Spark\n",
    "rekaman_per_bulan = spark.createDataFrame(rekaman_per_bulan)\n",
    "\n",
    "# Export ke Pandas DataFrame\n",
    "rekaman_per_bulan = rekaman_per_bulan.toPandas()\n",
    "\n",
    "# Download Data\n",
    "create_download_link(rekaman_per_bulan, title=\"rekaman_per_bulan\", filename=\"rekaman_per_bulan.csv\")"
   ]
  },
  {
   "cell_type": "code",
   "execution_count": 10,
   "id": "3f99c5cb",
   "metadata": {},
   "outputs": [],
   "source": [
    "# Records (1%)\n",
    "\n",
    "# DataFrame Spark\n",
    "#sampled_data = spark.createDataFrame(sampled_data)\n",
    "\n",
    "# Export ke Pandas DataFrame\n",
    "#sampled_data = sampled_data.toPandas()\n",
    "\n",
    "# Download Data\n",
    "#create_download_link(sampled_data, title=sampled_data, filename=\"sampled_data.csv\")"
   ]
  },
  {
   "cell_type": "code",
   "execution_count": null,
   "id": "0f948218",
   "metadata": {},
   "outputs": [],
   "source": [
    "# Partisi Records (1%)\n",
    "\n",
    "# DataFrame Spark\n",
    "#sampledd_data_1 = spark.createDataFrame(sampledd_data_1)\n",
    "#sampledd_data_2 = spark.createDataFrame(sampledd_data_2)\n",
    "#sampledd_data_3 = spark.createDataFrame(sampledd_data_3)\n",
    "#sampledd_data_4 = spark.createDataFrame(sampledd_data_4)\n",
    "#sampledd_data_5 = spark.createDataFrame(sampledd_data_5)\n",
    "#sampledd_data_6 = spark.createDataFrame(sampledd_data_6)\n",
    "#sampledd_data_7 = spark.createDataFrame(sampledd_data_7)\n",
    "#sampledd_data_8 = spark.createDataFrame(sampledd_data_8)\n",
    "#sampledd_data_9 = spark.createDataFrame(sampledd_data_9)\n",
    "#sampledd_data_10 = spark.createDataFrame(sampledd_data_10)\n",
    "\n",
    "# Export ke Pandas DataFrame\n",
    "#sampledd_data_1 = sampledd_data_1.toPandas()\n",
    "#sampledd_data_2 = sampledd_data_2.toPandas()\n",
    "#sampledd_data_3 = sampledd_data_3.toPandas()\n",
    "#sampledd_data_4 = sampledd_data_4.toPandas()\n",
    "#sampledd_data_5 = sampledd_data_5.toPandas()\n",
    "#sampledd_data_6 = sampledd_data_6.toPandas()\n",
    "#sampledd_data_7 = sampledd_data_7.toPandas()\n",
    "#sampledd_data_8 = sampledd_data_8.toPandas()\n",
    "#sampledd_data_9 = sampledd_data_9.toPandas()\n",
    "#sampledd_data_10 = sampledd_data_10.toPandas()\n",
    "\n",
    "# Download Data\n",
    "#create_download_link(sampledd_data_1, title=sampledd_data_1, filename=\"sampledd_data_1.csv\")\n",
    "#create_download_link(sampledd_data_2, title=sampledd_data_2, filename=\"sampledd_data_2.csv\")\n",
    "#create_download_link(sampledd_data_3, title=sampledd_data_3, filename=\"sampledd_data_3.csv\")\n",
    "#create_download_link(sampledd_data_4, title=sampledd_data_4, filename=\"sampledd_data_4.csv\")\n",
    "#create_download_link(sampledd_data_5, title=sampledd_data_5, filename=\"sampledd_data_5.csv\")\n",
    "#create_download_link(sampledd_data_6, title=sampledd_data_6, filename=\"sampledd_data_6.csv\")\n",
    "#create_download_link(sampledd_data_7, title=sampledd_data_7, filename=\"sampledd_data_7.csv\")\n",
    "#create_download_link(sampledd_data_8, title=sampledd_data_8, filename=\"sampledd_data_8.csv\")\n",
    "#create_download_link(sampledd_data_9, title=sampledd_data_9, filename=\"sampledd_data_9.csv\")\n",
    "#create_download_link(sampledd_data_10, title=sampledd_data_10, filename=\"sampledd_data_10.csv\")"
   ]
  },
  {
   "cell_type": "code",
   "execution_count": 17,
   "id": "f5eb0e6a",
   "metadata": {},
   "outputs": [
    {
     "data": {
      "text/html": [
       "<a download=\"rekaman_per_bulan_1pers.csv\" href=\"data:text/csv;base64,YnVsYW4sanVtbGFoX3JlY29yZF9wZXJfYnVsYW4sYnVsYW5fbnVtZXJpawpKYW51YXJ5LDcwOTIzNTMsMQpGZWJydWFyeSw2NTIzNDY5LDIKTWFyY2gsNzQ5NTMxOSwzCkFwcmlsLDc1MTQ5OTUsNApNYXksNzY4ODk5NCw1Ckp1bmUsNzcwMjM4Niw2Ckp1bHksODE4MDMwNyw3CkF1Z3VzdCw3OTU2OTI3LDgKU2VwdGVtYmVyLDc2NjQxMTUsOQpPY3RvYmVyLDc2OTIyNjksMTAKTm92ZW1iZXIsNjE1MjYyMywxMQpEZWNlbWJlciw3MzMyMzMzLDEyCg==\" target=\"_blank\">        bulan  jumlah_record_per_bulan  bulan_numerik\n",
       "0     January                  7092353              1\n",
       "1    February                  6523469              2\n",
       "2       March                  7495319              3\n",
       "3       April                  7514995              4\n",
       "4         May                  7688994              5\n",
       "5        June                  7702386              6\n",
       "6        July                  8180307              7\n",
       "7      August                  7956927              8\n",
       "8   September                  7664115              9\n",
       "9     October                  7692269             10\n",
       "10   November                  6152623             11\n",
       "11   December                  7332333             12</a>"
      ],
      "text/plain": [
       "<IPython.core.display.HTML object>"
      ]
     },
     "execution_count": 17,
     "metadata": {},
     "output_type": "execute_result"
    }
   ],
   "source": [
    "# Jumlah Records (1%)\n",
    "\n",
    "# DataFrame Spark\n",
    "#rekaman_per_bulan_1pers = spark.createDataFrame(rekaman_per_bulan_1pers)\n",
    "\n",
    "# Export ke Pandas DataFrame\n",
    "rekaman_per_bulan_1pers = rekaman_per_bulan_1pers.toPandas()\n",
    "\n",
    "# Download Data\n",
    "create_download_link(rekaman_per_bulan_1pers, title=rekaman_per_bulan_1pers, filename=\"rekaman_per_bulan_1pers.csv\")"
   ]
  },
  {
   "cell_type": "code",
   "execution_count": 64,
   "id": "9ce5009f",
   "metadata": {},
   "outputs": [
    {
     "data": {
      "text/html": [
       "<a download=\"stats_df.csv\" href=\"data:text/csv;base64,c3VtbWFyeSxtbXNpLGltbyxuYXZfc3RhdHVzX2NvZGUsdmVzc2VsX3R5cGVfY29kZSxmbGFnX2NvZGUsc29nCmNvdW50LDg4OTk2NDczLDQ5Mzk2OTQ3LDg4OTk2NDczLDg4OTk2NDczLDg3MzczNzQ4LDg4OTk2NDczCm1lYW4sMy45NTU3MTg2NjkyMTEyMTdFOCwxLjQ1ODU0OTI3NjU3NTkyMjhFNyw1LjQ2NzI3Nzg3NzQwNTMyMSw2Mi4xNzEyNjgxMDE4MjY5MSwzOTUuMjA0NjY1OTU5ODQ4NzQsMy41ODMzNzY5NTEzNTQyNjYKc3RkZGV2LDEuMzM3NTQwNjI4MDI5NjA4NEU4LDYuNzE3NTI5NjM3MTU5ODU2RTcsNi42MDAzMzk0MTkxNjkxMzEsMjAuNzU4OTk0NTA3NjY1MTk2LDEzMy40ODg0NDc4MzE1MDI2NCw1LjM2ODgyMjkwNjgzNDIyNAptaW4sMCwxLDAsMCwyMDEsMC4wCm1heCwxMDczNzIyMzY3LDEwNzM3NDE4MjMsMTYsMjU1LDc3NSwxMDIuMQo=\" target=\"_blank\">  summary                  mmsi                   imo    nav_status_code  \\\n",
       "0   count              88996473              49396947           88996473   \n",
       "1    mean   3.955718669211217E8  1.4585492765759228E7  5.467277877405321   \n",
       "2  stddev  1.3375406280296084E8   6.717529637159856E7  6.600339419169131   \n",
       "3     min                     0                     1                  0   \n",
       "4     max            1073722367            1073741823                 16   \n",
       "\n",
       "     vessel_type_code           flag_code                sog  \n",
       "0            88996473            87373748           88996473  \n",
       "1   62.17126810182691  395.20466595984874  3.583376951354266  \n",
       "2  20.758994507665196  133.48844783150264  5.368822906834224  \n",
       "3                   0                 201                0.0  \n",
       "4                 255                 775              102.1  </a>"
      ],
      "text/plain": [
       "<IPython.core.display.HTML object>"
      ]
     },
     "execution_count": 64,
     "metadata": {},
     "output_type": "execute_result"
    }
   ],
   "source": [
    "# Statistical Summary\n",
    "\n",
    "# DataFrame Spark\n",
    "#stats_df = spark.createDataFrame(stats_df)\n",
    "#stats_df_2 = spark.createDataFrame(stats_df_2)\n",
    "\n",
    "# Export ke Pandas DataFrame\n",
    "stats_df = stats_df.toPandas()\n",
    "#stats_df_2 = stats_df_2.toPandas()\n",
    "\n",
    "# Download Data\n",
    "create_download_link(stats_df, title=stats_df, filename=\"stats_df.csv\")\n",
    "#create_download_link(stats_df_2, title=stats_df_2, filename=\"stats_df_2.csv\")"
   ]
  },
  {
   "cell_type": "code",
   "execution_count": 19,
   "id": "639837b4",
   "metadata": {},
   "outputs": [
    {
     "data": {
      "text/html": [
       "<a download=\"df_unique_imo_spark.csv\" href=\"data:text/csv;base64,YnVsYW4sdW5pcXVlX2ltb19jb3VudApKYW51YXJ5LDcxMzU5CkZlYnJ1YXJ5LDcwOTA2Ck1hcmNoLDY4NjAxCkFwcmlsLDcwNDY0Ck1heSw2OTk2NwpKdW5lLDcxMzI5Ckp1bHksNzExNzUKQXVndXN0LDcxNTUwClNlcHRlbWJlciw3MDUwMQpPY3RvYmVyLDcxMjExCk5vdmVtYmVyLDcwMjIxCkRlY2VtYmVyLDcxNDUxCg==\" target=\"_blank\">        bulan  unique_imo_count\n",
       "0     January             71359\n",
       "1    February             70906\n",
       "2       March             68601\n",
       "3       April             70464\n",
       "4         May             69967\n",
       "5        June             71329\n",
       "6        July             71175\n",
       "7      August             71550\n",
       "8   September             70501\n",
       "9     October             71211\n",
       "10   November             70221\n",
       "11   December             71451</a>"
      ],
      "text/plain": [
       "<IPython.core.display.HTML object>"
      ]
     },
     "execution_count": 19,
     "metadata": {},
     "output_type": "execute_result"
    }
   ],
   "source": [
    "# (MMSI, IMO, Status Navigasi, Tipe Kapal, Negara Kapal) Unik\n",
    "\n",
    "# DataFrame Spark\n",
    "#df_unique_mmsi_spark = spark.createDataFrame(df_unique_mmsi_spark)\n",
    "#df_unique_imo_spark = spark.createDataFrame(df_unique_imo_spark)\n",
    "#mmsi_count_per_nav_status = spark.createDataFrame(mmsi_count_per_nav_status)\n",
    "#mmsi_count_per_vessel_type = spark.createDataFrame(mmsi_count_per_vessel_type)\n",
    "#mmsi_count_per_flag_country = spark.createDataFrame(mmsi_count_per_flag_country)\n",
    "\n",
    "# Export ke Pandas DataFrame\n",
    "#df_unique_mmsi_spark = df_unique_mmsi_spark.toPandas()\n",
    "#df_unique_imo_spark = df_unique_imo_spark.toPandas()\n",
    "mmsi_count_per_nav_status = mmsi_count_per_nav_status.toPandas()\n",
    "#mmsi_count_per_vessel_type = mmsi_count_per_vessel_type.toPandas()\n",
    "#mmsi_count_per_flag_country = mmsi_count_per_flag_country.toPandas()\n",
    "   \n",
    "\n",
    "# Download Data\n",
    "#create_download_link(df_unique_mmsi_spark, title=df_unique_mmsi_spark, filename=\"df_unique_mmsi_spark.csv\")\n",
    "#create_download_link(df_unique_imo_spark, title=df_unique_imo_spark, filename=\"df_unique_imo_spark.csv\")\n",
    "create_download_link(mmsi_count_per_nav_status, title=mmsi_count_per_nav_status, filename=\"mmsi_count_per_nav_status.csv\")\n",
    "#create_download_link(mmsi_count_per_vessel_type, title=mmsi_count_per_vessel_type, filename=\"mmsi_count_per_vessel_type.csv\")\n",
    "#create_download_link(mmsi_count_per_flag_country, title=mmsi_count_per_flag_country, filename=\"mmsi_count_per_flag_country.csv\")"
   ]
  },
  {
   "cell_type": "code",
   "execution_count": 65,
   "id": "7295467b",
   "metadata": {},
   "outputs": [
    {
     "name": "stdout",
     "output_type": "stream",
     "text": [
      "Error while receiving.\n",
      "Traceback (most recent call last):\n",
      "  File \"/opt/conda/lib/python3.8/socket.py\", line 669, in readinto\n",
      "    return self._sock.recv_into(b)\n",
      "KeyboardInterrupt\n",
      "\n",
      "During handling of the above exception, another exception occurred:\n",
      "\n",
      "Traceback (most recent call last):\n",
      "  File \"/opt/spark/python/lib/py4j-0.10.9.5-src.zip/py4j/clientserver.py\", line 511, in send_command\n",
      "    answer = smart_decode(self.stream.readline()[:-1])\n",
      "RuntimeError: reentrant call inside <_io.BufferedReader name=60>\n",
      "Closing down clientserver connection\n",
      "Closing down clientserver connection\n"
     ]
    },
    {
     "name": "stderr",
     "output_type": "stream",
     "text": [
      "ERROR: Exception while sending command.\n",
      "Traceback (most recent call last):\n",
      "  File \"/opt/conda/lib/python3.8/socket.py\", line 669, in readinto\n",
      "    return self._sock.recv_into(b)\n",
      "KeyboardInterrupt\n",
      "\n",
      "During handling of the above exception, another exception occurred:\n",
      "\n",
      "Traceback (most recent call last):\n",
      "  File \"/opt/spark/python/lib/py4j-0.10.9.5-src.zip/py4j/clientserver.py\", line 511, in send_command\n",
      "    answer = smart_decode(self.stream.readline()[:-1])\n",
      "RuntimeError: reentrant call inside <_io.BufferedReader name=60>\n",
      "\n",
      "During handling of the above exception, another exception occurred:\n",
      "\n",
      "Traceback (most recent call last):\n",
      "  File \"/opt/spark/python/lib/py4j-0.10.9.5-src.zip/py4j/java_gateway.py\", line 1038, in send_command\n",
      "    response = connection.send_command(command)\n",
      "  File \"/opt/spark/python/lib/py4j-0.10.9.5-src.zip/py4j/clientserver.py\", line 539, in send_command\n",
      "    raise Py4JNetworkError(\n",
      "py4j.protocol.Py4JNetworkError: Error while sending or receiving\n",
      "ERROR: KeyboardInterrupt while sending command.\n",
      "Traceback (most recent call last):\n",
      "  File \"/opt/spark/python/lib/py4j-0.10.9.5-src.zip/py4j/java_gateway.py\", line 1038, in send_command\n",
      "    response = connection.send_command(command)\n",
      "  File \"/opt/spark/python/lib/py4j-0.10.9.5-src.zip/py4j/clientserver.py\", line 511, in send_command\n",
      "    answer = smart_decode(self.stream.readline()[:-1])\n",
      "  File \"/opt/conda/lib/python3.8/socket.py\", line 669, in readinto\n",
      "    return self._sock.recv_into(b)\n",
      "KeyboardInterrupt\n"
     ]
    },
    {
     "ename": "KeyboardInterrupt",
     "evalue": "",
     "output_type": "error",
     "traceback": [
      "\u001b[0;31m---------------------------------------------------------------------------\u001b[0m",
      "\u001b[0;31mKeyboardInterrupt\u001b[0m                         Traceback (most recent call last)",
      "Cell \u001b[0;32mIn[65], line 10\u001b[0m\n\u001b[1;32m      1\u001b[0m \u001b[38;5;66;03m# MMSI Unik per (Status Navigasi, Tipe Kapal, Negara Kapal) \u001b[39;00m\n\u001b[1;32m      2\u001b[0m \n\u001b[1;32m      3\u001b[0m \u001b[38;5;66;03m# DataFrame Spark\u001b[39;00m\n\u001b[0;32m   (...)\u001b[0m\n\u001b[1;32m      8\u001b[0m \u001b[38;5;66;03m# Export ke Pandas DataFrame\u001b[39;00m\n\u001b[1;32m      9\u001b[0m \u001b[38;5;66;03m#unique_mmsi_per_nav_status = unique_mmsi_per_nav_status.toPandas()\u001b[39;00m\n\u001b[0;32m---> 10\u001b[0m unique_mmsi_per_vessel_type \u001b[38;5;241m=\u001b[39m \u001b[43munique_mmsi_per_vessel_type\u001b[49m\u001b[38;5;241;43m.\u001b[39;49m\u001b[43mtoPandas\u001b[49m\u001b[43m(\u001b[49m\u001b[43m)\u001b[49m\n\u001b[1;32m     11\u001b[0m \u001b[38;5;66;03m# unique_mmsi_per_flag_country = unique_mmsi_per_flag_country.toPandas()\u001b[39;00m\n\u001b[1;32m     12\u001b[0m   \n\u001b[1;32m     13\u001b[0m \u001b[38;5;66;03m# Download Data\u001b[39;00m\n\u001b[1;32m     14\u001b[0m \u001b[38;5;66;03m#create_download_link(unique_mmsi_per_nav_status, title=unique_mmsi_per_nav_status, filename=\"unique_mmsi_per_nav_status.csv\")\u001b[39;00m\n\u001b[1;32m     15\u001b[0m create_download_link(unique_mmsi_per_vessel_type, title\u001b[38;5;241m=\u001b[39munique_mmsi_per_vessel_type, filename\u001b[38;5;241m=\u001b[39m\u001b[38;5;124m\"\u001b[39m\u001b[38;5;124munique_mmsi_per_vessel_type.csv\u001b[39m\u001b[38;5;124m\"\u001b[39m)\n",
      "File \u001b[0;32m/opt/spark/python/lib/pyspark.zip/pyspark/sql/pandas/conversion.py:205\u001b[0m, in \u001b[0;36mPandasConversionMixin.toPandas\u001b[0;34m(self)\u001b[0m\n\u001b[1;32m    202\u001b[0m             \u001b[38;5;28;01mraise\u001b[39;00m\n\u001b[1;32m    204\u001b[0m \u001b[38;5;66;03m# Below is toPandas without Arrow optimization.\u001b[39;00m\n\u001b[0;32m--> 205\u001b[0m pdf \u001b[38;5;241m=\u001b[39m pd\u001b[38;5;241m.\u001b[39mDataFrame\u001b[38;5;241m.\u001b[39mfrom_records(\u001b[38;5;28;43mself\u001b[39;49m\u001b[38;5;241;43m.\u001b[39;49m\u001b[43mcollect\u001b[49m\u001b[43m(\u001b[49m\u001b[43m)\u001b[49m, columns\u001b[38;5;241m=\u001b[39m\u001b[38;5;28mself\u001b[39m\u001b[38;5;241m.\u001b[39mcolumns)\n\u001b[1;32m    206\u001b[0m column_counter \u001b[38;5;241m=\u001b[39m Counter(\u001b[38;5;28mself\u001b[39m\u001b[38;5;241m.\u001b[39mcolumns)\n\u001b[1;32m    208\u001b[0m corrected_dtypes: List[Optional[Type]] \u001b[38;5;241m=\u001b[39m [\u001b[38;5;28;01mNone\u001b[39;00m] \u001b[38;5;241m*\u001b[39m \u001b[38;5;28mlen\u001b[39m(\u001b[38;5;28mself\u001b[39m\u001b[38;5;241m.\u001b[39mschema)\n",
      "File \u001b[0;32m/opt/spark/python/lib/pyspark.zip/pyspark/sql/dataframe.py:817\u001b[0m, in \u001b[0;36mDataFrame.collect\u001b[0;34m(self)\u001b[0m\n\u001b[1;32m    807\u001b[0m \u001b[38;5;250m\u001b[39m\u001b[38;5;124;03m\"\"\"Returns all the records as a list of :class:`Row`.\u001b[39;00m\n\u001b[1;32m    808\u001b[0m \n\u001b[1;32m    809\u001b[0m \u001b[38;5;124;03m.. versionadded:: 1.3.0\u001b[39;00m\n\u001b[0;32m   (...)\u001b[0m\n\u001b[1;32m    814\u001b[0m \u001b[38;5;124;03m[Row(age=2, name='Alice'), Row(age=5, name='Bob')]\u001b[39;00m\n\u001b[1;32m    815\u001b[0m \u001b[38;5;124;03m\"\"\"\u001b[39;00m\n\u001b[1;32m    816\u001b[0m \u001b[38;5;28;01mwith\u001b[39;00m SCCallSiteSync(\u001b[38;5;28mself\u001b[39m\u001b[38;5;241m.\u001b[39m_sc):\n\u001b[0;32m--> 817\u001b[0m     sock_info \u001b[38;5;241m=\u001b[39m \u001b[38;5;28;43mself\u001b[39;49m\u001b[38;5;241;43m.\u001b[39;49m\u001b[43m_jdf\u001b[49m\u001b[38;5;241;43m.\u001b[39;49m\u001b[43mcollectToPython\u001b[49m\u001b[43m(\u001b[49m\u001b[43m)\u001b[49m\n\u001b[1;32m    818\u001b[0m \u001b[38;5;28;01mreturn\u001b[39;00m \u001b[38;5;28mlist\u001b[39m(_load_from_socket(sock_info, BatchedSerializer(CPickleSerializer())))\n",
      "File \u001b[0;32m/opt/spark/python/lib/py4j-0.10.9.5-src.zip/py4j/java_gateway.py:1320\u001b[0m, in \u001b[0;36mJavaMember.__call__\u001b[0;34m(self, *args)\u001b[0m\n\u001b[1;32m   1313\u001b[0m args_command, temp_args \u001b[38;5;241m=\u001b[39m \u001b[38;5;28mself\u001b[39m\u001b[38;5;241m.\u001b[39m_build_args(\u001b[38;5;241m*\u001b[39margs)\n\u001b[1;32m   1315\u001b[0m command \u001b[38;5;241m=\u001b[39m proto\u001b[38;5;241m.\u001b[39mCALL_COMMAND_NAME \u001b[38;5;241m+\u001b[39m\\\n\u001b[1;32m   1316\u001b[0m     \u001b[38;5;28mself\u001b[39m\u001b[38;5;241m.\u001b[39mcommand_header \u001b[38;5;241m+\u001b[39m\\\n\u001b[1;32m   1317\u001b[0m     args_command \u001b[38;5;241m+\u001b[39m\\\n\u001b[1;32m   1318\u001b[0m     proto\u001b[38;5;241m.\u001b[39mEND_COMMAND_PART\n\u001b[0;32m-> 1320\u001b[0m answer \u001b[38;5;241m=\u001b[39m \u001b[38;5;28;43mself\u001b[39;49m\u001b[38;5;241;43m.\u001b[39;49m\u001b[43mgateway_client\u001b[49m\u001b[38;5;241;43m.\u001b[39;49m\u001b[43msend_command\u001b[49m\u001b[43m(\u001b[49m\u001b[43mcommand\u001b[49m\u001b[43m)\u001b[49m\n\u001b[1;32m   1321\u001b[0m return_value \u001b[38;5;241m=\u001b[39m get_return_value(\n\u001b[1;32m   1322\u001b[0m     answer, \u001b[38;5;28mself\u001b[39m\u001b[38;5;241m.\u001b[39mgateway_client, \u001b[38;5;28mself\u001b[39m\u001b[38;5;241m.\u001b[39mtarget_id, \u001b[38;5;28mself\u001b[39m\u001b[38;5;241m.\u001b[39mname)\n\u001b[1;32m   1324\u001b[0m \u001b[38;5;28;01mfor\u001b[39;00m temp_arg \u001b[38;5;129;01min\u001b[39;00m temp_args:\n",
      "File \u001b[0;32m/opt/spark/python/lib/py4j-0.10.9.5-src.zip/py4j/java_gateway.py:1038\u001b[0m, in \u001b[0;36mGatewayClient.send_command\u001b[0;34m(self, command, retry, binary)\u001b[0m\n\u001b[1;32m   1036\u001b[0m connection \u001b[38;5;241m=\u001b[39m \u001b[38;5;28mself\u001b[39m\u001b[38;5;241m.\u001b[39m_get_connection()\n\u001b[1;32m   1037\u001b[0m \u001b[38;5;28;01mtry\u001b[39;00m:\n\u001b[0;32m-> 1038\u001b[0m     response \u001b[38;5;241m=\u001b[39m \u001b[43mconnection\u001b[49m\u001b[38;5;241;43m.\u001b[39;49m\u001b[43msend_command\u001b[49m\u001b[43m(\u001b[49m\u001b[43mcommand\u001b[49m\u001b[43m)\u001b[49m\n\u001b[1;32m   1039\u001b[0m     \u001b[38;5;28;01mif\u001b[39;00m binary:\n\u001b[1;32m   1040\u001b[0m         \u001b[38;5;28;01mreturn\u001b[39;00m response, \u001b[38;5;28mself\u001b[39m\u001b[38;5;241m.\u001b[39m_create_connection_guard(connection)\n",
      "File \u001b[0;32m/opt/spark/python/lib/py4j-0.10.9.5-src.zip/py4j/clientserver.py:511\u001b[0m, in \u001b[0;36mClientServerConnection.send_command\u001b[0;34m(self, command)\u001b[0m\n\u001b[1;32m    509\u001b[0m \u001b[38;5;28;01mtry\u001b[39;00m:\n\u001b[1;32m    510\u001b[0m     \u001b[38;5;28;01mwhile\u001b[39;00m \u001b[38;5;28;01mTrue\u001b[39;00m:\n\u001b[0;32m--> 511\u001b[0m         answer \u001b[38;5;241m=\u001b[39m smart_decode(\u001b[38;5;28;43mself\u001b[39;49m\u001b[38;5;241;43m.\u001b[39;49m\u001b[43mstream\u001b[49m\u001b[38;5;241;43m.\u001b[39;49m\u001b[43mreadline\u001b[49m\u001b[43m(\u001b[49m\u001b[43m)\u001b[49m[:\u001b[38;5;241m-\u001b[39m\u001b[38;5;241m1\u001b[39m])\n\u001b[1;32m    512\u001b[0m         logger\u001b[38;5;241m.\u001b[39mdebug(\u001b[38;5;124m\"\u001b[39m\u001b[38;5;124mAnswer received: \u001b[39m\u001b[38;5;132;01m{0}\u001b[39;00m\u001b[38;5;124m\"\u001b[39m\u001b[38;5;241m.\u001b[39mformat(answer))\n\u001b[1;32m    513\u001b[0m         \u001b[38;5;66;03m# Happens when a the other end is dead. There might be an empty\u001b[39;00m\n\u001b[1;32m    514\u001b[0m         \u001b[38;5;66;03m# answer before the socket raises an error.\u001b[39;00m\n",
      "File \u001b[0;32m/opt/conda/lib/python3.8/socket.py:669\u001b[0m, in \u001b[0;36mSocketIO.readinto\u001b[0;34m(self, b)\u001b[0m\n\u001b[1;32m    667\u001b[0m \u001b[38;5;28;01mwhile\u001b[39;00m \u001b[38;5;28;01mTrue\u001b[39;00m:\n\u001b[1;32m    668\u001b[0m     \u001b[38;5;28;01mtry\u001b[39;00m:\n\u001b[0;32m--> 669\u001b[0m         \u001b[38;5;28;01mreturn\u001b[39;00m \u001b[38;5;28;43mself\u001b[39;49m\u001b[38;5;241;43m.\u001b[39;49m\u001b[43m_sock\u001b[49m\u001b[38;5;241;43m.\u001b[39;49m\u001b[43mrecv_into\u001b[49m\u001b[43m(\u001b[49m\u001b[43mb\u001b[49m\u001b[43m)\u001b[49m\n\u001b[1;32m    670\u001b[0m     \u001b[38;5;28;01mexcept\u001b[39;00m timeout:\n\u001b[1;32m    671\u001b[0m         \u001b[38;5;28mself\u001b[39m\u001b[38;5;241m.\u001b[39m_timeout_occurred \u001b[38;5;241m=\u001b[39m \u001b[38;5;28;01mTrue\u001b[39;00m\n",
      "\u001b[0;31mKeyboardInterrupt\u001b[0m: "
     ]
    }
   ],
   "source": [
    "# MMSI Unik per (Status Navigasi, Tipe Kapal, Negara Kapal) \n",
    "\n",
    "# DataFrame Spark\n",
    "#unique_mmsi_per_nav_status = spark.createDataFrame(unique_mmsi_per_nav_status)\n",
    "#unique_mmsi_per_vessel_type = spark.createDataFrame(unique_mmsi_per_vessel_type)\n",
    "#unique_mmsi_per_flag_country = spark.createDataFrame(unique_mmsi_per_flag_country)\n",
    "\n",
    "# Export ke Pandas DataFrame\n",
    "#unique_mmsi_per_nav_status = unique_mmsi_per_nav_status.toPandas()\n",
    "unique_mmsi_per_vessel_type = unique_mmsi_per_vessel_type.toPandas()\n",
    "# unique_mmsi_per_flag_country = unique_mmsi_per_flag_country.toPandas()\n",
    "  \n",
    "# Download Data\n",
    "#create_download_link(unique_mmsi_per_nav_status, title=unique_mmsi_per_nav_status, filename=\"unique_mmsi_per_nav_status.csv\")\n",
    "create_download_link(unique_mmsi_per_vessel_type, title=unique_mmsi_per_vessel_type, filename=\"unique_mmsi_per_vessel_type.csv\")\n",
    "# create_download_link(unique_mmsi_per_flag_country, title=unique_mmsi_per_flag_country, filename=\"unique_mmsi_per_flag_country.csv\")"
   ]
  },
  {
   "cell_type": "code",
   "execution_count": null,
   "id": "c04568c1",
   "metadata": {},
   "outputs": [],
   "source": [
    "# IMO Unik per (Status Navigasi, Tipe Kapal, Negara Kapal) \n",
    "\n",
    "# DataFrame Spark\n",
    "#unique_imo_per_nav_status = spark.createDataFrame(unique_imo_per_nav_status)\n",
    "#unique_imo_per_vessel_type = spark.createDataFrame(unique_imo_per_vessel_type)\n",
    "#unique_imo_per_flag_country = spark.createDataFrame(unique_imo_per_flag_country)\n",
    "\n",
    "# Export ke Pandas DataFrame\n",
    "#unique_imo_per_nav_status = unique_imo_per_nav_status.toPandas()\n",
    "unique_imo_per_vessel_type = unique_imo_per_vessel_type.toPandas()\n",
    "# unique_imo_per_flag_country = unique_imo_per_flag_country.toPandas()\n",
    "  \n",
    "# Download Data\n",
    "#create_download_link(unique_imo_per_nav_status, title=unique_imo_per_nav_status, filename=\"unique_imo_per_nav_status.csv\")\n",
    "create_download_link(unique_imo_per_vessel_type, title=unique_imo_per_vessel_type, filename=\"unique_imo_per_vessel_type.csv\")\n",
    "# create_download_link(unique_imo_per_flag_country, title=unique_imo_per_flag_country, filename=\"unique_imo_per_flag_country.csv\")"
   ]
  },
  {
   "cell_type": "code",
   "execution_count": 19,
   "id": "482952c1",
   "metadata": {},
   "outputs": [],
   "source": [
    "# Nilai Default\n",
    "\n",
    "# DataFrame Spark\n",
    "#mmsi_default_per_month = spark.createDataFrame(mmsi_default_per_month)\n",
    "#imo_default_per_month = spark.createDataFrame(imo_default_per_month)\n",
    "#nav_status_default_per_month = spark.createDataFrame(nav_status_default_per_month)\n",
    "#vessel_type_default_per_month = spark.createDataFrame(vessel_type_default_per_month)\n",
    "#flag_country_default_per_month = spark.createDataFrame(flag_country_default_per_month)\n",
    "#latitude_default_per_month = spark.createDataFrame(latitude_default_per_month)\n",
    "#longitude_default_per_month = spark.createDataFrame(longitude_default_per_month)\n",
    "#dt_pos_utc_default_per_month = spark.createDataFrame(dt_pos_utc_default_per_month)\n",
    "\n",
    "# Export ke Pandas DataFrame\n",
    "#mmsi_default_per_month = mmsi_default_per_month.toPandas()\n",
    "#imo_default_per_month = imo_default_per_month.toPandas()\n",
    "#nav_status_default_per_month = nav_status_default_per_month.toPandas()\n",
    "#vessel_type_default_per_month = vessel_type_default_per_month.toPandas()\n",
    "#flag_country_default_per_month = flag_country_default_per_month.toPandas()\n",
    "#latitude_default_per_month = latitude_default_per_month.toPandas()\n",
    "#longitude_default_per_month = longitude_default_per_month.toPandas()\n",
    "#dt_pos_utc_default_per_month = dt_pos_utc_default_per_month.toPandas()\n",
    "             \n",
    "\n",
    "# Download Data\n",
    "#create_download_link(mmsi_default_per_month, title=mmsi_default_per_month, filename=\"mmsi_default_per_month.csv\")\n",
    "#create_download_link(imo_default_per_month, title=imo_default_per_month, filename=\"imo_default_per_month.csv\")\n",
    "#create_download_link(nav_status_default_per_month, title=nav_status_default_per_month, filename=\"nav_status_default_per_month.csv\")\n",
    "#create_download_link(vessel_type_default_per_month, title=vessel_type_default_per_month, filename=\"vessel_type_default_per_month.csv\")\n",
    "#create_download_link(flag_country_default_per_month, title=flag_country_default_per_month, filename=\"flag_country_default_per_month.csv\")\n",
    "#create_download_link(latitude_default_per_month, title=latitude_default_per_month, filename=\"latitude_default_per_month.csv\")\n",
    "#create_download_link(longitude_default_per_month, title=longitude_default_per_month, filename=\"longitude_default_per_month.csv\")\n",
    "#create_download_link(dt_pos_utc_default_per_month, title=dt_pos_utc_default_per_month, filename=\"dt_pos_utc_default_per_month.csv\")"
   ]
  },
  {
   "cell_type": "code",
   "execution_count": null,
   "id": "dd9c14b1",
   "metadata": {},
   "outputs": [],
   "source": [
    "# Invalid Value\n",
    "\n",
    "# DataFrame Spark\n",
    "mmsi_invalid = spark.createDataFrame(mmsi_invalid)\n",
    "#imo_invalid = spark.createDataFrame(imo_invalid)\n",
    "#nav_status_code_invalid = spark.createDataFrame(nav_status_code_invalid)\n",
    "#vessel_type_code_invalid = spark.createDataFrame(vessel_type_code_invalid)\n",
    "#flag_country_code_invalid = spark.createDataFrame(flag_country_code_invalid)\n",
    "#latitude_invalid = spark.createDataFrame(latitude_invalid)\n",
    "#longitude_invalid = spark.createDataFrame(longitude_invalid)\n",
    "#dt_pos_utc_invalid = spark.createDataFrame(dt_pos_utc_invalid)\n",
    "\n",
    "# Export ke Pandas DataFrame\n",
    "mmsi_invalid = mmsi_invalid.toPandas()\n",
    "#imo_invalid = imo_invalid.toPandas()\n",
    "#nav_status_code_invalid = nav_status_code_invalid.toPandas()\n",
    "#vessel_type_code_invalid = vessel_type_code_invalid.toPandas()\n",
    "#flag_country_code_invalid = flag_country_code_invalid.toPandas()\n",
    "#latitude_invalid = latitude_invalid.toPandas()\n",
    "#longitude_invalid = longitude_invalid.toPandas()\n",
    "#dt_pos_utc_invalid = dt_pos_utc_invalid.toPandas()\n",
    "       \n",
    "\n",
    "# Download Data\n",
    "create_download_link(mmsi_invalid, title=mmsi_invalid, filename=\"mmsi_invalid.csv\")\n",
    "#create_download_link(imo_invalid, title=imo_invalid, filename=\"imo_invalid.csv\")\n",
    "#create_download_link(nav_status_code_invalid, title=nav_status_code_invalid, filename=\"nav_status_code_invalid.csv\")\n",
    "#create_download_link(vessel_type_code_invalid, title=vessel_type_code_invalid, filename=\"vessel_type_code_invalid.csv\")\n",
    "#create_download_link(flag_country_code_invalid, title=flag_country_code_invalid, filename=\"flag_country_code_invalid.csv\")\n",
    "#create_download_link(latitude_invalid, title=latitude_invalid, filename=\"latitude_invalid.csv\")\n",
    "#create_download_link(longitude_invalid, title=longitude_invalid, filename=\"longitude_invalid.csv\")\n",
    "#create_download_link(dt_pos_utc_invalid, title=dt_pos_utc_invalid, filename=\"dt_pos_utc_invalid.csv\")"
   ]
  },
  {
   "cell_type": "code",
   "execution_count": null,
   "id": "e1513b42",
   "metadata": {},
   "outputs": [],
   "source": [
    "# Missing Value\n",
    "\n",
    "# DataFrame Spark\n",
    "missing_values_per_month_mmsi = spark.createDataFrame(missing_values_per_month_mmsi)\n",
    "#missing_values_per_month_imo = spark.createDataFrame(missing_values_per_month_imo)\n",
    "#missing_values_per_month_nav_status = spark.createDataFrame(missing_values_per_month_nav_status)\n",
    "#missing_values_per_month_vessel_type = spark.createDataFrame(missing_values_per_month_vessel_type)\n",
    "#missing_values_per_month_flag_country = spark.createDataFrame(missing_values_per_month_flag_country)\n",
    "#missing_values_per_month_latitude = spark.createDataFrame(missing_values_per_month_latitude)\n",
    "#missing_values_per_month_longitude = spark.createDataFrame(missing_values_per_month_longitude)\n",
    "#missing_values_per_month_dt_pos_utc = spark.createDataFrame(missing_values_per_month_dt_pos_utc)\n",
    "\n",
    "# Export ke Pandas DataFrame\n",
    "missing_values_per_month_mmsi = missing_values_per_month_mmsi.toPandas()\n",
    "#missing_values_per_month_imo = missing_values_per_month_imo.toPandas()\n",
    "#missing_values_per_month_nav_status = missing_values_per_month_nav_status.toPandas()\n",
    "#missing_values_per_month_vessel_type = missing_values_per_month_vessel_type.toPandas()\n",
    "#missing_values_per_month_flag_country = missing_values_per_month_flag_country.toPandas()\n",
    "#missing_values_per_month_latitude = missing_values_per_month_latitude.toPandas()\n",
    "#missing_values_per_month_longitude = missing_values_per_month_longitude.toPandas()\n",
    "#missing_values_per_month_dt_pos_utc = missing_values_per_month_dt_pos_utc.toPandas()\n",
    "        \n",
    "\n",
    "# Download Data\n",
    "create_download_link(missing_values_per_month_mmsi, title=missing_values_per_month_mmsi, filename=\"missing_values_per_month_mmsi.csv\")\n",
    "#create_download_link(missing_values_per_month_imo, title=missing_values_per_month_imo, filename=\"missing_values_per_month_imo.csv\")\n",
    "#create_download_link(missing_values_per_month_nav_status, title=missing_values_per_month_nav_status, filename=\"missing_values_per_month_nav_status.csv\")\n",
    "#create_download_link(missing_values_per_month_vessel_type, title=missing_values_per_month_vessel_type, filename=\"missing_values_per_month_vessel_type.csv\")\n",
    "#create_download_link(missing_values_per_month_flag_country, title=missing_values_per_month_flag_country, filename=\"missing_values_per_month_flag_country.csv\")\n",
    "#create_download_link(missing_values_per_month_latitude, title=missing_values_per_month_latitude, filename=\"missing_values_per_month_latitude.csv\")\n",
    "#create_download_link(missing_values_per_month_longitude, title=missing_values_per_month_longitude, filename=\"missing_values_per_month_longitude.csv\")\n",
    "#create_download_link(missing_values_per_month_dt_pos_utc, title=missing_values_per_month_dt_pos_utc, filename=\"missing_values_per_month_dt_pos_utc.csv\")"
   ]
  },
  {
   "cell_type": "code",
   "execution_count": null,
   "id": "df8e50d5",
   "metadata": {},
   "outputs": [],
   "source": [
    "# Filter (MMSI, IMO, Status Navigasi, Tipe Kapal, Negara Kapal Default, Latitude, Longitude, dt_pos_utc)\n",
    "\n",
    "# DataFrame Spark\n",
    "unique_filtered_mmsi_per_month = spark.createDataFrame(unique_filtered_mmsi_per_month)\n",
    "#unique_filtered_imo_per_month = spark.createDataFrame(unique_filtered_imo_per_month)\n",
    "#mmsi_count_per_filtered_nav_status = spark.createDataFrame(mmsi_count_per_filtered_nav_status)\n",
    "#unique_mmsi_per_filtered_nav_status = spark.createDataFrame(unique_mmsi_per_filtered_nav_status)\n",
    "#mmsi_count_per_filtered_vessel_type = spark.createDataFrame(mmsi_count_per_filtered_vessel_type)\n",
    "#unique_mmsi_per_filtered_vessel_type = spark.createDataFrame(unique_mmsi_per_filtered_vessel_type)\n",
    "#mmsi_count_per_filtered_flag_country = spark.createDataFrame(mmsi_count_per_filtered_flag_country)\n",
    "#unique_mmsi_per_filtered_flag_country = spark.createDataFrame(unique_mmsi_per_filtered_flag_country)\n",
    "\n",
    "# Export ke Pandas DataFrame\n",
    "unique_filtered_mmsi_per_month = unique_filtered_mmsi_per_month.toPandas()\n",
    "#df_unique_filtered_imo_spark = df_unique_filtered_imo_spark.toPandas()\n",
    "#mmsi_count_per_filtered_nav_status = mmsi_count_per_filtered_nav_status.toPandas()\n",
    "#unique_mmsi_per_filtered_nav_status = unique_mmsi_per_filtered_nav_status.toPandas()\n",
    "#mmsi_count_per_filtered_vessel_type = mmsi_count_per_filtered_vessel_type.toPandas()\n",
    "#unique_mmsi_per_filtered_vessel_type = unique_mmsi_per_filtered_vessel_type.toPandas()\n",
    "#mmsi_count_per_filtered_flag_country = mmsi_count_per_filtered_flag_country.toPandas()\n",
    "#unique_mmsi_per_filtered_flag_country = unique_mmsi_per_filtered_flag_country.toPandas()\n",
    "\n",
    "\n",
    "# Download Data\n",
    "create_download_link(unique_filtered_mmsi_per_month, title=unique_filtered_mmsi_per_month, filename=\"unique_filtered_mmsi_per_month.csv\")\n",
    "#create_download_link(unique_filtered_imo_per_month, title=unique_filtered_imo_per_month, filename=\"unique_filtered_imo_per_month.csv\")\n",
    "#create_download_link(mmsi_count_per_filtered_nav_status, title=mmsi_count_per_filtered_nav_status, filename=\"mmsi_count_per_filtered_nav_status.csv\")\n",
    "#create_download_link(unique_mmsi_per_filtered_nav_status, title=unique_mmsi_per_filtered_nav_status, filename=\"unique_mmsi_per_filtered_nav_status.csv\")\n",
    "#create_download_link(mmsi_count_per_filtered_vessel_type, title=mmsi_count_per_filtered_vessel_type, filename=\"mmsi_count_per_filtered_vessel_type.csv\")\n",
    "#create_download_link(unique_mmsi_per_filtered_vessel_type, title=unique_mmsi_per_filtered_vessel_type, filename=\"unique_mmsi_per_filtered_vessel_type.csv\")\n",
    "#create_download_link(mmsi_count_per_filtered_flag_country, title=mmsi_count_per_filtered_flag_country, filename=\"mmsi_count_per_filtered_flag_country.csv\")\n",
    "#create_download_link(unique_mmsi_per_filtered_flag_country, title=unique_mmsi_per_filtered_flag_country, filename=\"unique_mmsi_per_filtered_flag_country.csv\")"
   ]
  },
  {
   "cell_type": "code",
   "execution_count": null,
   "id": "0b05a459",
   "metadata": {},
   "outputs": [],
   "source": [
    "# Filter yg melakukan pelayaran/lintasan anomali(?)\n",
    "\n",
    "# DataFrame Spark\n",
    "rekaman_per_bulan_1pers = spark.createDataFrame(rekaman_per_bulan_1pers)\n",
    "rekaman_per_bulan_1pers = spark.createDataFrame(rekaman_per_bulan_1pers)\n",
    "\n",
    "# Export ke Pandas DataFrame\n",
    "rekaman_per_bulan_1pers = rekaman_per_bulan_1pers.toPandas()\n",
    "\n",
    "# Download Data\n",
    "create_download_link(rekaman_per_bulan_1pers, filename=\"rekaman_per_bulan_1pers.csv\")"
   ]
  },
  {
   "cell_type": "code",
   "execution_count": null,
   "id": "87aadac3",
   "metadata": {},
   "outputs": [],
   "source": []
  }
 ],
 "metadata": {
  "kernelspec": {
   "display_name": "Config template pyspark3.3 ais2.8 (prev ais-tt-dev)",
   "language": "python3",
   "name": "ais-tt-dev"
  },
  "language_info": {
   "codemirror_mode": {
    "name": "ipython",
    "version": 3
   },
   "file_extension": ".py",
   "mimetype": "text/x-python",
   "name": "python",
   "nbconvert_exporter": "python",
   "pygments_lexer": "ipython3",
   "version": "3.8.13"
  }
 },
 "nbformat": 4,
 "nbformat_minor": 5
}
