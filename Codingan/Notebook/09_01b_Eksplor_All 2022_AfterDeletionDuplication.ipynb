{
 "cells": [
  {
   "cell_type": "markdown",
   "id": "5816fa69",
   "metadata": {},
   "source": [
    "# Inilization"
   ]
  },
  {
   "cell_type": "code",
   "execution_count": 1,
   "id": "02162682",
   "metadata": {},
   "outputs": [],
   "source": [
    "import pandas as pd\n",
    "from pyspark.sql import functions as F\n",
    "\n",
    "#For 3.3.1\n",
    "#Register Sedona Functions to Spark\n",
    "from sedona.register import SedonaRegistrator\n",
    "SedonaRegistrator.registerAll(spark)\n",
    "\n",
    "\n",
    "#For 3.3.2\n",
    "from shapely.geometry import Point, Polygon, mapping\n",
    "import h3.api.numpy_int as h3int "
   ]
  },
  {
   "cell_type": "code",
   "execution_count": 2,
   "id": "a608c8ab",
   "metadata": {},
   "outputs": [],
   "source": [
    "from pyspark.sql import SparkSession\n",
    "from pyspark.sql.functions import col, date_format, count, countDistinct, when, expr\n",
    "import calendar\n",
    "from pyspark.sql.types import IntegerType\n",
    "from pyspark.sql.window import Window"
   ]
  },
  {
   "cell_type": "code",
   "execution_count": 3,
   "id": "520986fc",
   "metadata": {},
   "outputs": [],
   "source": [
    "import pandas as pd\n",
    "from IPython.display import HTML\n",
    "import base64\n",
    "from pyspark.sql.functions import year, month, dayofmonth, hour, minute, second\n",
    "from pyspark.sql.functions import monotonically_increasing_id"
   ]
  },
  {
   "cell_type": "markdown",
   "id": "00ed31f2",
   "metadata": {},
   "source": [
    "# Eksplorasi Data"
   ]
  },
  {
   "cell_type": "markdown",
   "id": "20278508",
   "metadata": {},
   "source": [
    "## Data AIS"
   ]
  },
  {
   "cell_type": "code",
   "execution_count": 4,
   "id": "8e22f021",
   "metadata": {},
   "outputs": [],
   "source": [
    "# Path\n",
    "save_path = \"s3a://ungp-ais-data-historical-backup/user_temp/\"\n",
    "path_unique = save_path + \"222011349/\""
   ]
  },
  {
   "cell_type": "markdown",
   "id": "0c998d14",
   "metadata": {},
   "source": [
    "## Read Data"
   ]
  },
  {
   "cell_type": "code",
   "execution_count": 5,
   "id": "9f54e302",
   "metadata": {},
   "outputs": [],
   "source": [
    "# Read Data\n",
    "data_ais = spark.read.parquet(path_unique + \"data-ais-indonesia-by-mmsi-th-2022.parquet\", header=True)"
   ]
  },
  {
   "cell_type": "markdown",
   "id": "b3770a9d",
   "metadata": {},
   "source": [
    "# Hapus Duplikat"
   ]
  },
  {
   "cell_type": "code",
   "execution_count": 6,
   "id": "84b68b32-5291-4c11-9f09-d7b27ada97ea",
   "metadata": {},
   "outputs": [],
   "source": [
    "data_sampel = data_ais.distinct()"
   ]
  },
  {
   "cell_type": "code",
   "execution_count": null,
   "id": "9cb32b51",
   "metadata": {},
   "outputs": [],
   "source": [
    "# Save Data\n",
    "data_sampel.write.option(\"header\", True).mode(\"overwrite\").parquet(path_unique + \"data-ais-indonesia-by-mmsi-th-2022-unik.parquet\")"
   ]
  },
  {
   "cell_type": "code",
   "execution_count": 5,
   "id": "6d0e3f56",
   "metadata": {},
   "outputs": [],
   "source": [
    "# Read Data\n",
    "data_sampel = spark.read.parquet(path_unique + \"data-ais-indonesia-by-mmsi-th-2022-unik.parquet\", header=True)"
   ]
  },
  {
   "cell_type": "markdown",
   "id": "bdcb810b",
   "metadata": {},
   "source": [
    "# Quality Assurance"
   ]
  },
  {
   "cell_type": "markdown",
   "id": "0f25f9dc",
   "metadata": {},
   "source": [
    "## Nilai Valid"
   ]
  },
  {
   "cell_type": "markdown",
   "id": "2a711397",
   "metadata": {},
   "source": [
    "### MMSI Valid"
   ]
  },
  {
   "cell_type": "code",
   "execution_count": null,
   "id": "97d94395",
   "metadata": {
    "scrolled": true
   },
   "outputs": [
    {
     "name": "stdout",
     "output_type": "stream",
     "text": [
      "+---------+----------+\n",
      "|   months|mmsi_valid|\n",
      "+---------+----------+\n",
      "|     July| 155700247|\n",
      "| November| 119213501|\n",
      "| February| 138697160|\n",
      "|  January| 141179948|\n",
      "|    March| 149788640|\n",
      "|  October| 155982352|\n",
      "|      May| 149841097|\n",
      "|   August| 155661342|\n",
      "|    April| 148231231|\n",
      "|     June| 147191969|\n",
      "| December| 154116337|\n",
      "|September| 151249370|\n",
      "+---------+----------+\n",
      "\n"
     ]
    }
   ],
   "source": [
    "# Definisikan nilai mmsi yang valid\n",
    "nilai_valid = [100000000, 999999999]\n",
    "\n",
    "# Jumlah mmsi yang valid\n",
    "jumlah_mmsi_valid_per_bulan = data_sampel.withColumn(\"months\", F.date_format(\"dt_pos_utc\", \"MMMM\")) \\\n",
    "    .filter(data_sampel['mmsi'].between(nilai_valid[0], nilai_valid[1])) \\\n",
    "    .groupBy(\"months\").agg(F.count(\"mmsi\").alias(\"mmsi_valid\"))\n",
    "\n",
    "# Buat DataFrame hasil\n",
    "mmsi_valid = jumlah_mmsi_valid_per_bulan\n",
    "\n",
    "# Tampilkan hasil\n",
    "mmsi_valid.show()"
   ]
  },
  {
   "cell_type": "markdown",
   "id": "f62fb4e9",
   "metadata": {},
   "source": [
    "### IMO Valid"
   ]
  },
  {
   "cell_type": "code",
   "execution_count": 7,
   "id": "dfd132b5",
   "metadata": {},
   "outputs": [
    {
     "name": "stdout",
     "output_type": "stream",
     "text": [
      "+---------+---------+\n",
      "|   months|imo_valid|\n",
      "+---------+---------+\n",
      "|     July|147391757|\n",
      "| November|111469663|\n",
      "| February|130053652|\n",
      "|  January|131903146|\n",
      "|    March|140647822|\n",
      "|  October|147180567|\n",
      "|      May|141063315|\n",
      "|   August|147576290|\n",
      "|    April|139115054|\n",
      "|     June|138357982|\n",
      "| December|144900472|\n",
      "|September|142540565|\n",
      "+---------+---------+\n",
      "\n"
     ]
    }
   ],
   "source": [
    "# Definisikan nilai imo yang valid\n",
    "nilai_valid = [1000000, 9999999]\n",
    "\n",
    "# Hitung jumlah imo valid per bulan\n",
    "jumlah_imo_valid_per_bulan = data_sampel.withColumn(\"months\", F.date_format(\"dt_pos_utc\", \"MMMM\")) \\\n",
    "    .filter(data_sampel['imo'].between(nilai_valid[0], nilai_valid[1])) \\\n",
    "    .groupBy(\"months\").agg(F.count(\"imo\").alias(\"imo_valid\"))\n",
    "\n",
    "# Buat DataFrame hasil\n",
    "imo_valid = jumlah_imo_valid_per_bulan\n",
    "\n",
    "# Tampilkan hasil\n",
    "imo_valid.show() "
   ]
  },
  {
   "cell_type": "markdown",
   "id": "e89f2243",
   "metadata": {},
   "source": [
    "### Status Navigasi Valid"
   ]
  },
  {
   "cell_type": "code",
   "execution_count": null,
   "id": "26acc58b",
   "metadata": {},
   "outputs": [
    {
     "name": "stdout",
     "output_type": "stream",
     "text": [
      "+---------+---------------------+\n",
      "|   months|nav_status_code_valid|\n",
      "+---------+---------------------+\n",
      "|     July|            148415283|\n",
      "| November|            112425580|\n",
      "| February|            131156936|\n",
      "|  January|            133065154|\n",
      "|    March|            141923034|\n",
      "|  October|            147731976|\n",
      "|      May|            142263960|\n",
      "|   August|            148223798|\n",
      "|    April|            140262977|\n",
      "|     June|            139421676|\n",
      "| December|            145610063|\n",
      "|September|            143063930|\n",
      "+---------+---------------------+\n",
      "\n"
     ]
    }
   ],
   "source": [
    "# Definisikan nilai nav_status_code yang valid\n",
    "nilai_valid = [0, 14]\n",
    "\n",
    "# Hitung jumlah nav_status_code  valid per bulan\n",
    "jumlah_nav_status_code_valid_per_bulan = data_sampel.withColumn(\"months\", F.date_format(\"dt_pos_utc\", \"MMMM\")) \\\n",
    "    .filter(data_sampel['nav_status_code'].between(nilai_valid[0], nilai_valid[1])) \\\n",
    "    .groupBy(\"months\").agg(F.count(\"nav_status_code\").alias(\"nav_status_code_valid\"))\n",
    "\n",
    "# Buat DataFrame hasil\n",
    "nav_status_code_valid = jumlah_nav_status_code_valid_per_bulan\n",
    "\n",
    "# Tampilkan hasil\n",
    "nav_status_code_valid.show() "
   ]
  },
  {
   "cell_type": "markdown",
   "id": "8c2232c7",
   "metadata": {},
   "source": [
    "### Tipe Kapal Valid"
   ]
  },
  {
   "cell_type": "code",
   "execution_count": null,
   "id": "dc3a71d4",
   "metadata": {},
   "outputs": [
    {
     "name": "stdout",
     "output_type": "stream",
     "text": [
      "+---------+----------------------+\n",
      "|   months|vessel_type_code_valid|\n",
      "+---------+----------------------+\n",
      "|     July|             155658110|\n",
      "| November|             119202801|\n",
      "| February|             138650896|\n",
      "|  January|             141138992|\n",
      "|    March|             149748827|\n",
      "|  October|             155941907|\n",
      "|      May|             149811456|\n",
      "|   August|             155629165|\n",
      "|    April|             148197720|\n",
      "|     June|             147151041|\n",
      "| December|             154067527|\n",
      "|September|             151212698|\n",
      "+---------+----------------------+\n",
      "\n"
     ]
    }
   ],
   "source": [
    "# Definisikan nilai vessel_type_code yang valid\n",
    "nilai_valid = [1, 255]\n",
    "\n",
    "# Hitung jumlah vessel_type_code  valid per bulan\n",
    "jumlah_vessel_type_code_valid_per_bulan = data_sampel.withColumn(\"months\", F.date_format(\"dt_pos_utc\", \"MMMM\")) \\\n",
    "    .filter(data_sampel['vessel_type_code'].between(nilai_valid[0], nilai_valid[1])) \\\n",
    "    .groupBy(\"months\").agg(F.count(\"vessel_type_code\").alias(\"vessel_type_code_valid\"))\n",
    "\n",
    "# Buat DataFrame hasil\n",
    "vessel_type_code_valid = jumlah_vessel_type_code_valid_per_bulan\n",
    "\n",
    "# Tampilkan hasil\n",
    "vessel_type_code_valid.show() "
   ]
  },
  {
   "cell_type": "markdown",
   "id": "9b73acab",
   "metadata": {},
   "source": [
    "### Negara Kapal Valid"
   ]
  },
  {
   "cell_type": "code",
   "execution_count": null,
   "id": "d0d1df03",
   "metadata": {},
   "outputs": [
    {
     "name": "stdout",
     "output_type": "stream",
     "text": [
      "+---------+-----------------------+\n",
      "|   months|flag_country_code_valid|\n",
      "+---------+-----------------------+\n",
      "|     July|              155700247|\n",
      "| November|               96930139|\n",
      "| February|              138697160|\n",
      "|  January|              141179948|\n",
      "|    March|              149788640|\n",
      "|  October|              155982352|\n",
      "|      May|              147715918|\n",
      "|   August|              155661342|\n",
      "|    April|              148231231|\n",
      "|     June|              147191969|\n",
      "| December|              154116337|\n",
      "|September|              151249370|\n",
      "+---------+-----------------------+\n",
      "\n"
     ]
    }
   ],
   "source": [
    "# Definisikan nilai flag_country_code yang valid\n",
    "nilai_valid = [201, 775]\n",
    "\n",
    "# Hitung jumlah flag_country_code tidak valid per bulan\n",
    "jumlah_flag_country_code_valid_per_bulan = data_sampel.withColumn(\"months\", F.date_format(\"dt_pos_utc\", \"MMMM\")) \\\n",
    "    .filter(data_sampel['flag_code'].between(nilai_valid[0], nilai_valid[1])) \\\n",
    "    .groupBy(\"months\").agg(F.count(\"flag_code\").alias(\"flag_country_code_valid\"))\n",
    "\n",
    "# Buat DataFrame hasil\n",
    "flag_country_code_valid = jumlah_flag_country_code_valid_per_bulan\n",
    "\n",
    "# Tampilkan hasil\n",
    "flag_country_code_valid.show() "
   ]
  },
  {
   "cell_type": "markdown",
   "id": "b8a3e9a9",
   "metadata": {},
   "source": [
    "### Latitude & Longitude Valid"
   ]
  },
  {
   "cell_type": "code",
   "execution_count": null,
   "id": "086d2eba",
   "metadata": {},
   "outputs": [
    {
     "name": "stdout",
     "output_type": "stream",
     "text": [
      "+---------+--------------+\n",
      "|   months|latitude_valid|\n",
      "+---------+--------------+\n",
      "|     July|     155700247|\n",
      "| November|     119253847|\n",
      "| February|     138697160|\n",
      "|  January|     141179948|\n",
      "|    March|     149788640|\n",
      "|  October|     155982352|\n",
      "|      May|     149845329|\n",
      "|   August|     155661342|\n",
      "|    April|     148231231|\n",
      "|     June|     147191969|\n",
      "| December|     154116337|\n",
      "|September|     151249370|\n",
      "+---------+--------------+\n",
      "\n"
     ]
    }
   ],
   "source": [
    "# Definisikan nilai latitude yang valid\n",
    "nilai_valid = [-90, 90]\n",
    "\n",
    "# Hitung jumlah latitude tidak valid per bulan\n",
    "jumlah_latitude_valid_per_bulan = data_sampel.withColumn(\"months\", F.date_format(\"dt_pos_utc\", \"MMMM\")) \\\n",
    "    .filter(data_sampel['latitude'].between(nilai_valid[0], nilai_valid[1])) \\\n",
    "    .groupBy(\"months\").agg(F.count(\"latitude\").alias(\"latitude_valid\"))\n",
    "\n",
    "# Buat DataFrame hasil\n",
    "latitude_valid = jumlah_latitude_valid_per_bulan\n",
    "\n",
    "# Tampilkan hasil\n",
    "latitude_valid.show() "
   ]
  },
  {
   "cell_type": "code",
   "execution_count": null,
   "id": "44389510",
   "metadata": {},
   "outputs": [
    {
     "name": "stdout",
     "output_type": "stream",
     "text": [
      "+---------+---------------+\n",
      "|   months|longitude_valid|\n",
      "+---------+---------------+\n",
      "|     July|      155700247|\n",
      "| November|      119253847|\n",
      "| February|      138697160|\n",
      "|  January|      141179948|\n",
      "|    March|      149788640|\n",
      "|  October|      155982352|\n",
      "|      May|      149845329|\n",
      "|   August|      155661342|\n",
      "|    April|      148231231|\n",
      "|     June|      147191969|\n",
      "| December|      154116337|\n",
      "|September|      151249370|\n",
      "+---------+---------------+\n",
      "\n"
     ]
    }
   ],
   "source": [
    "# Definisikan nilai longitude yang valid\n",
    "nilai_valid = [-180, 180]\n",
    "\n",
    "# Hitung jumlah longitude tidak valid per bulan\n",
    "jumlah_longitude_valid_per_bulan = data_sampel.withColumn(\"months\", F.date_format(\"dt_pos_utc\", \"MMMM\")) \\\n",
    "    .filter(data_sampel['longitude'].between(nilai_valid[0], nilai_valid[1])) \\\n",
    "    .groupBy(\"months\").agg(F.count(\"longitude\").alias(\"longitude_valid\"))\n",
    "\n",
    "# Buat DataFrame hasil\n",
    "longitude_valid = jumlah_longitude_valid_per_bulan\n",
    "\n",
    "# Tampilkan hasil\n",
    "longitude_valid.show()"
   ]
  },
  {
   "cell_type": "markdown",
   "id": "39e45766",
   "metadata": {},
   "source": [
    "### dt_pos_utc Valid"
   ]
  },
  {
   "cell_type": "code",
   "execution_count": null,
   "id": "eb873bed",
   "metadata": {},
   "outputs": [
    {
     "name": "stdout",
     "output_type": "stream",
     "text": [
      "+---------+----------------+\n",
      "|   months|dt_pos_utc_valid|\n",
      "+---------+----------------+\n",
      "|     July|       155700247|\n",
      "| November|       119253847|\n",
      "| February|       138697160|\n",
      "|  January|       141179948|\n",
      "|    March|       149788640|\n",
      "|  October|       155982352|\n",
      "|      May|       149845329|\n",
      "|   August|       155661342|\n",
      "|    April|       148231231|\n",
      "|     June|       147191969|\n",
      "| December|       154116337|\n",
      "|September|       151249370|\n",
      "+---------+----------------+\n",
      "\n"
     ]
    }
   ],
   "source": [
    "# Definisikan pola regex untuk nilai 'dt_pos_utc' yang valid\n",
    "pattern = \"^[1-9][0-9]{0,3}-[1-9]|0[1-9]|1[0-2]-[1-9]|0[1-9]|[1-2][0-9]|3[0-1] [0-9]|0[0-9]|1[0-9]|2[0-3]:[0-5][0-9]:[0-5][0-9]$\"\n",
    "\n",
    "# Filter data untuk mendapatkan hanya nilai 'dt_pos_utc' yang tidak valid\n",
    "dt_pos_utc_valid_per_bulan = data_sampel.withColumn(\"months\", F.date_format(\"dt_pos_utc\", \"MMMM\")) \\\n",
    "    .filter(F.col(\"dt_pos_utc\").rlike(pattern)) \\\n",
    "    .groupBy(\"months\").agg(F.count(\"dt_pos_utc\").alias(\"dt_pos_utc_valid\"))\n",
    "\n",
    "# Buat DataFrame hasil\n",
    "dt_pos_utc_valid = dt_pos_utc_valid_per_bulan\n",
    "\n",
    "# Tampilkan hasil\n",
    "dt_pos_utc_valid.show()  "
   ]
  },
  {
   "cell_type": "markdown",
   "id": "f8c5dc41",
   "metadata": {},
   "source": [
    "## Nilai Default"
   ]
  },
  {
   "cell_type": "markdown",
   "id": "ecb3eb4f",
   "metadata": {},
   "source": [
    "### MMSI dengan Nilai Default per Bulan"
   ]
  },
  {
   "cell_type": "code",
   "execution_count": null,
   "id": "00f6e273",
   "metadata": {},
   "outputs": [
    {
     "name": "stdout",
     "output_type": "stream",
     "text": [
      "+--------+-------+------------------+\n",
      "|  months|   mmsi|mmsi_count_default|\n",
      "+--------+-------+------------------+\n",
      "|November|      0|              5528|\n",
      "|November|1193046|              1360|\n",
      "|     May|      0|               475|\n",
      "|     May|1193046|                91|\n",
      "+--------+-------+------------------+\n",
      "\n"
     ]
    }
   ],
   "source": [
    "# Tentukan nilai yang ingin dihitung\n",
    "default_value_1 = 0\n",
    "default_value_2 = 1193046\n",
    "\n",
    "# Hitung jumlah 'mmsi' dengan nilai default per bulan\n",
    "mmsi_default_per_month = data_sampel.withColumn(\"months\", F.date_format(\"dt_pos_utc\", \"MMMM\")) \\\n",
    "    .filter((F.col(\"mmsi\") == default_value_1) | (F.col(\"mmsi\") == default_value_2)) \\\n",
    "    .groupBy(\"months\", \"mmsi\").agg(F.count(\"mmsi\").alias(\"mmsi_count_default\"))\n",
    "\n",
    "# Tampilkan DataFrame Spark hasil akhir\n",
    "mmsi_default_per_month.show()"
   ]
  },
  {
   "cell_type": "markdown",
   "id": "94ce641f",
   "metadata": {},
   "source": [
    "### IMO dengan Nilai Default per Bulan"
   ]
  },
  {
   "cell_type": "code",
   "execution_count": null,
   "id": "2381ef36",
   "metadata": {},
   "outputs": [
    {
     "name": "stdout",
     "output_type": "stream",
     "text": [
      "+------+-----------------+\n",
      "|months|imo_count_default|\n",
      "+------+-----------------+\n",
      "+------+-----------------+\n",
      "\n"
     ]
    }
   ],
   "source": [
    "# Tentukan nilai yang ingin dihitung\n",
    "default_value = 0  # Ganti dengan nilai yang diinginkan\n",
    "\n",
    "# Hitung jumlah 'imo' dengan nilai default per bulan\n",
    "imo_default_per_month = data_sampel.withColumn(\"months\", F.date_format(\"dt_pos_utc\", \"MMMM\")) \\\n",
    "    .filter(F.col(\"imo\") == default_value) \\\n",
    "    .groupBy(\"months\").agg(F.count(\"imo\").alias(\"imo_count_default\"))\n",
    "\n",
    "# Tampilkan DataFrame Spark hasil akhir\n",
    "imo_default_per_month.show() "
   ]
  },
  {
   "cell_type": "markdown",
   "id": "65a3d1c9",
   "metadata": {},
   "source": [
    "### Status Navigasi dengan Nilai Default per Bulan"
   ]
  },
  {
   "cell_type": "code",
   "execution_count": null,
   "id": "ab41f7b8",
   "metadata": {},
   "outputs": [
    {
     "name": "stdout",
     "output_type": "stream",
     "text": [
      "+---------+------------------------+\n",
      "|   months|nav_status_count_default|\n",
      "+---------+------------------------+\n",
      "|     July|                 2161999|\n",
      "| November|                 2025493|\n",
      "| February|                 2356450|\n",
      "|  January|                 2378087|\n",
      "|    March|                 2451983|\n",
      "|  October|                 2397638|\n",
      "|      May|                 2547225|\n",
      "|   August|                 2214161|\n",
      "|    April|                 2453652|\n",
      "|     June|                 2355284|\n",
      "| December|                 2590777|\n",
      "|September|                 2300887|\n",
      "+---------+------------------------+\n",
      "\n"
     ]
    }
   ],
   "source": [
    "# Tentukan nilai yang ingin dihitung\n",
    "default_value = \"Not Defined\"  # Ganti dengan nilai yang diinginkan\n",
    "\n",
    "# Hitung jumlah 'nav_status' dengan nilai default per bulan\n",
    "nav_status_default_per_month = data_sampel.withColumn(\"months\", F.date_format(\"dt_pos_utc\", \"MMMM\")) \\\n",
    "    .filter(F.col(\"nav_status\") == default_value) \\\n",
    "    .groupBy(\"months\").agg(F.count(\"nav_status\").alias(\"nav_status_count_default\"))\n",
    "\n",
    "# Tampilkan DataFrame Spark hasil akhir\n",
    "nav_status_default_per_month.show() "
   ]
  },
  {
   "cell_type": "markdown",
   "id": "58b3ea56",
   "metadata": {},
   "source": [
    "### Tipe Kapal dengan Nilai Default per Bulan"
   ]
  },
  {
   "cell_type": "code",
   "execution_count": null,
   "id": "588f74ac",
   "metadata": {},
   "outputs": [
    {
     "name": "stdout",
     "output_type": "stream",
     "text": [
      "+---------+-------------------------+\n",
      "|   months|vessel_type_count_default|\n",
      "+---------+-------------------------+\n",
      "|     July|                    42137|\n",
      "| November|                    51046|\n",
      "| February|                    46264|\n",
      "|  January|                    40956|\n",
      "|    March|                    39813|\n",
      "|  October|                    40445|\n",
      "|      May|                    33873|\n",
      "|   August|                    32177|\n",
      "|    April|                    33511|\n",
      "|     June|                    40928|\n",
      "| December|                    48810|\n",
      "|September|                    36672|\n",
      "+---------+-------------------------+\n",
      "\n"
     ]
    }
   ],
   "source": [
    "# Tentukan nilai yang ingin dihitung\n",
    "default_value = \"Not Available\"  # Ganti dengan nilai yang diinginkan\n",
    "\n",
    "# Hitung jumlah 'vessel_type' dengan nilai default per bulan\n",
    "vessel_type_default_per_month = data_sampel.withColumn(\"months\", F.date_format(\"dt_pos_utc\", \"MMMM\")) \\\n",
    "    .filter(F.col(\"vessel_type\") == default_value) \\\n",
    "    .groupBy(\"months\").agg(F.count(\"vessel_type\").alias(\"vessel_type_count_default\"))\n",
    "\n",
    "# Tampilkan DataFrame Spark hasil akhir\n",
    "vessel_type_default_per_month.show() "
   ]
  },
  {
   "cell_type": "markdown",
   "id": "bba83140",
   "metadata": {},
   "source": [
    "### Negara Kapal dengan Nilai Default per Bulan"
   ]
  },
  {
   "cell_type": "code",
   "execution_count": null,
   "id": "8d84c275",
   "metadata": {},
   "outputs": [
    {
     "name": "stdout",
     "output_type": "stream",
     "text": [
      "+------+--------------------------+\n",
      "|months|flag_country_count_default|\n",
      "+------+--------------------------+\n",
      "+------+--------------------------+\n",
      "\n"
     ]
    }
   ],
   "source": [
    "# MISAL DEFAULT = 0\n",
    "# Tentukan nilai yang ingin dihitung\n",
    "default_value = 0  # Ganti dengan nilai yang diinginkan\n",
    "\n",
    "# Hitung jumlah 'flag_country' dengan nilai default per bulan\n",
    "flag_country_default_per_month = data_sampel.withColumn(\"months\", F.date_format(\"dt_pos_utc\", \"MMMM\")) \\\n",
    "    .filter(F.col(\"flag_code\") == default_value) \\\n",
    "    .groupBy(\"months\").agg(F.count(\"flag_code\").alias(\"flag_country_count_default\"))\n",
    "\n",
    "# Tampilkan DataFrame Spark hasil akhir\n",
    "flag_country_default_per_month.show()  "
   ]
  },
  {
   "cell_type": "markdown",
   "id": "4614cd5b",
   "metadata": {},
   "source": [
    "### Latitude & Longitude dengan Nilai Default per Bulan"
   ]
  },
  {
   "cell_type": "code",
   "execution_count": null,
   "id": "c9c3e8d3",
   "metadata": {},
   "outputs": [
    {
     "name": "stdout",
     "output_type": "stream",
     "text": [
      "+------+----------------------+\n",
      "|months|latitude_count_default|\n",
      "+------+----------------------+\n",
      "+------+----------------------+\n",
      "\n"
     ]
    }
   ],
   "source": [
    "# Tentukan nilai yang ingin dihitung\n",
    "default_value = 91  # Ganti dengan nilai yang diinginkan\n",
    "\n",
    "# Hitung jumlah 'latitude' dengan nilai default per bulan\n",
    "latitude_default_per_month = data_sampel.withColumn(\"months\", F.date_format(\"dt_pos_utc\", \"MMMM\")) \\\n",
    "    .filter(F.col(\"latitude\") == default_value) \\\n",
    "    .groupBy(\"months\").agg(F.count(\"latitude\").alias(\"latitude_count_default\"))\n",
    "\n",
    "# Tampilkan DataFrame Spark hasil akhir\n",
    "latitude_default_per_month.show() "
   ]
  },
  {
   "cell_type": "code",
   "execution_count": null,
   "id": "b5fd43f8",
   "metadata": {},
   "outputs": [
    {
     "name": "stdout",
     "output_type": "stream",
     "text": [
      "+------+-----------------------+\n",
      "|months|longitude_count_default|\n",
      "+------+-----------------------+\n",
      "+------+-----------------------+\n",
      "\n"
     ]
    }
   ],
   "source": [
    "# Tentukan nilai yang ingin dihitung\n",
    "default_value = 181  # Ganti dengan nilai yang diinginkan\n",
    "\n",
    "# Hitung jumlah 'longitude' dengan nilai default per bulan\n",
    "longitude_default_per_month = data_sampel.withColumn(\"months\", F.date_format(\"dt_pos_utc\", \"MMMM\")) \\\n",
    "    .filter(F.col(\"longitude\") == default_value) \\\n",
    "    .groupBy(\"months\").agg(F.count(\"longitude\").alias(\"longitude_count_default\"))\n",
    "\n",
    "# Tampilkan DataFrame Spark hasil akhir\n",
    "longitude_default_per_month.show() "
   ]
  },
  {
   "cell_type": "markdown",
   "id": "e10d1f5a",
   "metadata": {},
   "source": [
    "### dt_pos_utc dengan Nilai Default per Bulan"
   ]
  },
  {
   "cell_type": "code",
   "execution_count": null,
   "id": "ced83f87",
   "metadata": {},
   "outputs": [
    {
     "name": "stdout",
     "output_type": "stream",
     "text": [
      "+------+-----------------------+\n",
      "|months|dt_pos_ut_count_dafault|\n",
      "+------+-----------------------+\n",
      "+------+-----------------------+\n",
      "\n"
     ]
    }
   ],
   "source": [
    "# Tentukan nilai yang ingin dihitung\n",
    "default_value = \"0-0-0 24:60:60\"\n",
    "\n",
    "# Hitung jumlah nilai default pada kolom 'dt_pos_utc' per bulan\n",
    "dt_pos_utc_default_per_month = data_sampel.withColumn(\"months\", F.date_format(\"dt_pos_utc\", \"MMMM\")) \\\n",
    "    .filter(F.col(\"dt_pos_utc\") == default_value) \\\n",
    "    .groupBy(\"months\").agg(F.count(\"dt_pos_utc\").alias(\"dt_pos_ut_count_dafault\"))\n",
    "\n",
    "# Tampilkan DataFrame Spark hasil akhir\n",
    "dt_pos_utc_default_per_month.show()  "
   ]
  },
  {
   "cell_type": "markdown",
   "id": "eb1b3636",
   "metadata": {},
   "source": [
    "## Tidak Valid"
   ]
  },
  {
   "cell_type": "markdown",
   "id": "f01493c1",
   "metadata": {},
   "source": [
    "### MMSI Tidak Valid"
   ]
  },
  {
   "cell_type": "code",
   "execution_count": null,
   "id": "ba04fd79",
   "metadata": {},
   "outputs": [
    {
     "name": "stdout",
     "output_type": "stream",
     "text": [
      "+--------+----------------+\n",
      "|  months|mmsi_tidak_valid|\n",
      "+--------+----------------+\n",
      "|November|           33458|\n",
      "|     May|            3666|\n",
      "+--------+----------------+\n",
      "\n"
     ]
    }
   ],
   "source": [
    "# Definisikan nilai mmsi yang valid\n",
    "nilai_valid = [100000000, 999999999]\n",
    "\n",
    "# Hitung jumlah mmsi tidak valid per bulan\n",
    "jumlah_mmsi_tidak_valid_per_bulan = data_sampel.withColumn(\"months\", F.date_format(\"dt_pos_utc\", \"MMMM\")) \\\n",
    "    .filter((~data_sampel['mmsi'].between(nilai_valid[0], nilai_valid[1])) & \n",
    "            (data_sampel['mmsi'] != 0) & (data_sampel['mmsi'] != 1193046) &\n",
    "            (data_sampel['mmsi'].isNotNull())\n",
    "           ) \\\n",
    "    .groupBy(\"months\").agg(F.count(\"mmsi\").alias(\"mmsi_tidak_valid\"))\n",
    "\n",
    "# Buat DataFrame hasil\n",
    "mmsi_invalid = jumlah_mmsi_tidak_valid_per_bulan\n",
    "\n",
    "# Tampilkan hasil\n",
    "mmsi_invalid.show()\n"
   ]
  },
  {
   "cell_type": "markdown",
   "id": "7b1e0cab",
   "metadata": {},
   "source": [
    "### IMO Tidak Valid"
   ]
  },
  {
   "cell_type": "code",
   "execution_count": null,
   "id": "938244ab",
   "metadata": {
    "scrolled": true
   },
   "outputs": [
    {
     "name": "stdout",
     "output_type": "stream",
     "text": [
      "+---------+---------------+\n",
      "|   months|imo_tidak_valid|\n",
      "+---------+---------------+\n",
      "|     July|         357533|\n",
      "| November|         319696|\n",
      "| February|         335901|\n",
      "|  January|         379319|\n",
      "|    March|         380841|\n",
      "|  October|         341021|\n",
      "|      May|         457276|\n",
      "|   August|         360863|\n",
      "|    April|         422751|\n",
      "|     June|         404061|\n",
      "| December|         348589|\n",
      "|September|         331227|\n",
      "+---------+---------------+\n",
      "\n"
     ]
    }
   ],
   "source": [
    "# Definisikan nilai imo yang valid\n",
    "nilai_valid = [1000000, 9999999]\n",
    "\n",
    "# Hitung jumlah imo tidak valid per bulan\n",
    "jumlah_imo_tidak_valid_per_bulan = data_sampel.withColumn(\"months\", F.date_format(\"dt_pos_utc\", \"MMMM\")) \\\n",
    "    .filter((~data_sampel['imo'].between(nilai_valid[0], nilai_valid[1])) & \n",
    "            (data_sampel['imo'] != 0) &\n",
    "            (data_sampel['imo'].isNotNull()) \n",
    "           )\\\n",
    "    .groupBy(\"months\").agg(F.count(\"imo\").alias(\"imo_tidak_valid\"))\n",
    "\n",
    "# Buat DataFrame hasil\n",
    "imo_invalid = jumlah_imo_tidak_valid_per_bulan\n",
    "\n",
    "# Tampilkan hasil\n",
    "imo_invalid.show() "
   ]
  },
  {
   "cell_type": "markdown",
   "id": "22986737",
   "metadata": {},
   "source": [
    "### Status Navigasi Tidak Valid"
   ]
  },
  {
   "cell_type": "code",
   "execution_count": null,
   "id": "c3dd6745",
   "metadata": {},
   "outputs": [
    {
     "name": "stdout",
     "output_type": "stream",
     "text": [
      "+---------+---------------------------+\n",
      "|   months|nav_status_code_tidak_valid|\n",
      "+---------+---------------------------+\n",
      "|     July|                    5122965|\n",
      "| November|                    4802774|\n",
      "| February|                    5183774|\n",
      "|  January|                    5736707|\n",
      "|    March|                    5413623|\n",
      "|  October|                    5852738|\n",
      "|      May|                    5034144|\n",
      "|   August|                    5223383|\n",
      "|    April|                    5514602|\n",
      "|     June|                    5415009|\n",
      "| December|                    5915497|\n",
      "|September|                    5884553|\n",
      "+---------+---------------------------+\n",
      "\n"
     ]
    }
   ],
   "source": [
    "# Definisikan nilai nav_status_code yang valid\n",
    "nilai_valid = [0, 14]\n",
    "\n",
    "# Hitung jumlah nav_status_code tidak valid per bulan\n",
    "jumlah_nav_status_code_tidak_valid_per_bulan = data_sampel.withColumn(\"months\", F.date_format(\"dt_pos_utc\", \"MMMM\")) \\\n",
    "    .filter((~data_sampel['nav_status_code'].between(nilai_valid[0], nilai_valid[1])) & \n",
    "            (data_sampel['nav_status_code'] != 15) & \n",
    "            (data_sampel['nav_status_code'].isNotNull())\n",
    "           ) \\\n",
    "    .groupBy(\"months\").agg(F.count(\"nav_status_code\").alias(\"nav_status_code_tidak_valid\"))\n",
    "\n",
    "# Buat DataFrame hasil\n",
    "nav_status_code_invalid = jumlah_nav_status_code_tidak_valid_per_bulan\n",
    "\n",
    "# Tampilkan hasil\n",
    "nav_status_code_invalid.show() "
   ]
  },
  {
   "cell_type": "markdown",
   "id": "4ad82225",
   "metadata": {},
   "source": [
    "### Tipe Kapal Tidak Valid"
   ]
  },
  {
   "cell_type": "code",
   "execution_count": null,
   "id": "585b3902",
   "metadata": {},
   "outputs": [
    {
     "name": "stdout",
     "output_type": "stream",
     "text": [
      "+------+----------------------------+\n",
      "|months|vessel_type_code_tidak_valid|\n",
      "+------+----------------------------+\n",
      "+------+----------------------------+\n",
      "\n"
     ]
    }
   ],
   "source": [
    "# Definisikan nilai vessel_type_code yang valid\n",
    "nilai_valid = [1, 255]\n",
    "\n",
    "# Hitung jumlah vessel_type_code tidak valid per bulan\n",
    "jumlah_vessel_type_code_tidak_valid_per_bulan = data_sampel.withColumn(\"months\", F.date_format(\"dt_pos_utc\", \"MMMM\")) \\\n",
    "    .filter((~data_sampel['vessel_type_code'].between(nilai_valid[0], nilai_valid[1])) & \n",
    "            (data_sampel['vessel_type_code'] != 0) &\n",
    "            (data_sampel['vessel_type_code'].isNotNull())\n",
    "           ) \\\n",
    "    .groupBy(\"months\").agg(F.count(\"vessel_type_code\").alias(\"vessel_type_code_tidak_valid\"))\n",
    "\n",
    "# Buat DataFrame hasil\n",
    "vessel_type_code_invalid = jumlah_vessel_type_code_tidak_valid_per_bulan\n",
    "\n",
    "# Tampilkan hasil\n",
    "vessel_type_code_invalid.show() "
   ]
  },
  {
   "cell_type": "markdown",
   "id": "fd18e890",
   "metadata": {},
   "source": [
    "### Negara Kapal Tidak Valid"
   ]
  },
  {
   "cell_type": "code",
   "execution_count": null,
   "id": "2c874e92",
   "metadata": {},
   "outputs": [
    {
     "name": "stdout",
     "output_type": "stream",
     "text": [
      "+------+-----------------------------+\n",
      "|months|flag_country_code_tidak_valid|\n",
      "+------+-----------------------------+\n",
      "+------+-----------------------------+\n",
      "\n"
     ]
    }
   ],
   "source": [
    "# Definisikan nilai flag_country_code yang valid\n",
    "nilai_valid = [201, 775]\n",
    "\n",
    "# Hitung jumlah flag_country_code tidak valid per bulan\n",
    "jumlah_flag_country_code_tidak_valid_per_bulan = data_sampel.withColumn(\"months\", F.date_format(\"dt_pos_utc\", \"MMMM\")) \\\n",
    "    .filter((~data_sampel['flag_code'].between(nilai_valid[0], nilai_valid[1])) & \n",
    "            (data_sampel['flag_code'] != 0) &\n",
    "            (data_sampel['flag_code'].isNotNull())\n",
    "           ) \\\n",
    "    .groupBy(\"months\").agg(F.count(\"flag_code\").alias(\"flag_country_code_tidak_valid\"))\n",
    "\n",
    "# Buat DataFrame hasil\n",
    "flag_country_code_invalid = jumlah_flag_country_code_tidak_valid_per_bulan\n",
    "\n",
    "# Tampilkan hasil\n",
    "flag_country_code_invalid.show() "
   ]
  },
  {
   "cell_type": "markdown",
   "id": "aa49cb31",
   "metadata": {},
   "source": [
    "### Latitude & Longitude Tidak Valid"
   ]
  },
  {
   "cell_type": "code",
   "execution_count": null,
   "id": "65f812f9",
   "metadata": {},
   "outputs": [
    {
     "name": "stdout",
     "output_type": "stream",
     "text": [
      "+------+--------------------+\n",
      "|months|latitude_tidak_valid|\n",
      "+------+--------------------+\n",
      "+------+--------------------+\n",
      "\n"
     ]
    }
   ],
   "source": [
    "# Definisikan nilai latitude yang valid\n",
    "nilai_valid = [-90, 90]\n",
    "\n",
    "# Hitung jumlah latitude tidak valid per bulan\n",
    "jumlah_latitude_tidak_valid_per_bulan = data_sampel.withColumn(\"months\", F.date_format(\"dt_pos_utc\", \"MMMM\")) \\\n",
    "    .filter((~data_sampel['latitude'].between(nilai_valid[0], nilai_valid[1])) & \n",
    "            (data_sampel['latitude'] != 91) &\n",
    "            (data_sampel['latitude'].isNotNull())\n",
    "           ) \\\n",
    "    .groupBy(\"months\").agg(F.count(\"latitude\").alias(\"latitude_tidak_valid\"))\n",
    "\n",
    "# Buat DataFrame hasil\n",
    "latitude_invalid = jumlah_latitude_tidak_valid_per_bulan\n",
    "\n",
    "# Tampilkan hasil\n",
    "latitude_invalid.show() "
   ]
  },
  {
   "cell_type": "code",
   "execution_count": null,
   "id": "758267ec",
   "metadata": {},
   "outputs": [
    {
     "name": "stdout",
     "output_type": "stream",
     "text": [
      "+------+---------------------+\n",
      "|months|longitude_tidak_valid|\n",
      "+------+---------------------+\n",
      "+------+---------------------+\n",
      "\n"
     ]
    }
   ],
   "source": [
    "# Definisikan nilai longitude yang valid\n",
    "nilai_valid = [-180, 180]\n",
    "\n",
    "# Hitung jumlah longitude tidak valid per bulan\n",
    "jumlah_longitude_tidak_valid_per_bulan = data_sampel.withColumn(\"months\", F.date_format(\"dt_pos_utc\", \"MMMM\")) \\\n",
    "    .filter((~data_sampel['longitude'].between(nilai_valid[0], nilai_valid[1])) & \n",
    "            (data_sampel['longitude'] != 181) &\n",
    "            (data_sampel['longitude'].isNotNull())\n",
    "           ) \\\n",
    "    .groupBy(\"months\").agg(F.count(\"longitude\").alias(\"longitude_tidak_valid\"))\n",
    "\n",
    "# Buat DataFrame hasil\n",
    "longitude_invalid = jumlah_longitude_tidak_valid_per_bulan\n",
    "\n",
    "# Tampilkan hasil\n",
    "longitude_invalid.show()"
   ]
  },
  {
   "cell_type": "markdown",
   "id": "b54ac225",
   "metadata": {},
   "source": [
    "### dt_pos_utc Tidak Valid"
   ]
  },
  {
   "cell_type": "code",
   "execution_count": null,
   "id": "8cfd4c68",
   "metadata": {},
   "outputs": [
    {
     "name": "stdout",
     "output_type": "stream",
     "text": [
      "+------+----------------------+\n",
      "|months|dt_pos_utc_tidak_valid|\n",
      "+------+----------------------+\n",
      "+------+----------------------+\n",
      "\n"
     ]
    }
   ],
   "source": [
    "# Definisikan pola regex untuk nilai 'dt_pos_utc' yang valid\n",
    "pattern = \"^[1-9][0-9]{0,3}-[1-9]|0[1-9]|1[0-2]-[1-9]|0[1-9]|[1-2][0-9]|3[0-1] [0-9]|0[0-9]|1[0-9]|2[0-3]:[0-5][0-9]:[0-5][0-9]$\"\n",
    "\n",
    "default_value = \"0-0-0 24:60:60\"\n",
    "\n",
    "# Filter data untuk mendapatkan hanya nilai 'dt_pos_utc' yang tidak valid\n",
    "dt_pos_utc_tidak_valid_per_bulan = data_sampel.withColumn(\"months\", F.date_format(\"dt_pos_utc\", \"MMMM\")) \\\n",
    "    .filter((~F.col(\"dt_pos_utc\").rlike(pattern)) & \n",
    "            (data_sampel['dt_pos_utc'] != default_value) &\n",
    "            (data_sampel['dt_pos_utc'].isNotNull())\n",
    "           ) \\\n",
    "    .groupBy(\"months\").agg(F.count(\"dt_pos_utc\").alias(\"dt_pos_utc_tidak_valid\"))\n",
    "\n",
    "# Buat DataFrame hasil\n",
    "dt_pos_utc_invalid = dt_pos_utc_tidak_valid_per_bulan\n",
    "\n",
    "# Tampilkan hasil\n",
    "dt_pos_utc_invalid.show()  "
   ]
  },
  {
   "cell_type": "markdown",
   "id": "d9d669c8",
   "metadata": {},
   "source": [
    "## Missing Value"
   ]
  },
  {
   "cell_type": "markdown",
   "id": "4c256d68",
   "metadata": {},
   "source": [
    "### MS MMSI"
   ]
  },
  {
   "cell_type": "code",
   "execution_count": null,
   "id": "0cad67db",
   "metadata": {},
   "outputs": [
    {
     "name": "stdout",
     "output_type": "stream",
     "text": [
      "+---------+------------+\n",
      "|   months|mmsi_missing|\n",
      "+---------+------------+\n",
      "|     July|           0|\n",
      "| November|           0|\n",
      "| February|           0|\n",
      "|  January|           0|\n",
      "|    March|           0|\n",
      "|  October|           0|\n",
      "|      May|           0|\n",
      "|   August|           0|\n",
      "|    April|           0|\n",
      "|     June|           0|\n",
      "| December|           0|\n",
      "|September|           0|\n",
      "+---------+------------+\n",
      "\n"
     ]
    }
   ],
   "source": [
    "# Hitung jumlah nilai yang hilang per bulan untuk kolom \"mmsi\"\n",
    "missing_values_per_month_mmsi = data_sampel.withColumn(\"months\", F.date_format(\"dt_pos_utc\", \"MMMM\")) \\\n",
    "    .groupBy(\"months\").agg(\n",
    "        F.sum(F.col(\"mmsi\").isNull().cast(IntegerType())).alias(\"mmsi_missing\")\n",
    "    )\n",
    "\n",
    "# Tampilkan DataFrame Spark\n",
    "missing_values_per_month_mmsi.show() "
   ]
  },
  {
   "cell_type": "markdown",
   "id": "8561b119",
   "metadata": {},
   "source": [
    "### MS IMO"
   ]
  },
  {
   "cell_type": "code",
   "execution_count": null,
   "id": "7087a5fa",
   "metadata": {},
   "outputs": [
    {
     "name": "stdout",
     "output_type": "stream",
     "text": [
      "+---------+-----------+\n",
      "|   months|imo_missing|\n",
      "+---------+-----------+\n",
      "|     July|    7950957|\n",
      "| November|    7464488|\n",
      "| February|    8307607|\n",
      "|  January|    8897483|\n",
      "|    March|    8759977|\n",
      "|  October|    8460764|\n",
      "|      May|    8324738|\n",
      "|   August|    7724189|\n",
      "|    April|    8693426|\n",
      "|     June|    8429926|\n",
      "| December|    8867276|\n",
      "|September|    8377578|\n",
      "+---------+-----------+\n",
      "\n"
     ]
    }
   ],
   "source": [
    "# Hitung jumlah nilai yang hilang per bulan untuk kolom \"imo\"\n",
    "missing_values_per_month_imo = data_sampel.withColumn(\"months\", F.date_format(\"dt_pos_utc\", \"MMMM\")) \\\n",
    "    .groupBy(\"months\").agg(\n",
    "        F.sum(F.col(\"imo\").isNull().cast(IntegerType())).alias(\"imo_missing\")\n",
    "    )\n",
    "\n",
    "# Tampilkan DataFrame Spark\n",
    "missing_values_per_month_imo.show()  "
   ]
  },
  {
   "cell_type": "markdown",
   "id": "8e51dc01",
   "metadata": {},
   "source": [
    "### MS Status Navigasi"
   ]
  },
  {
   "cell_type": "code",
   "execution_count": null,
   "id": "e1f4d26d",
   "metadata": {},
   "outputs": [
    {
     "name": "stdout",
     "output_type": "stream",
     "text": [
      "+---------+------------------+\n",
      "|   months|nav_status_missing|\n",
      "+---------+------------------+\n",
      "|     July|                 0|\n",
      "| November|                 0|\n",
      "| February|                 0|\n",
      "|  January|                 0|\n",
      "|    March|                 0|\n",
      "|  October|                 0|\n",
      "|      May|                 0|\n",
      "|   August|                 0|\n",
      "|    April|                 0|\n",
      "|     June|                 0|\n",
      "| December|                 0|\n",
      "|September|                 0|\n",
      "+---------+------------------+\n",
      "\n"
     ]
    }
   ],
   "source": [
    "# Hitung jumlah nilai yang hilang per bulan untuk kolom \"nav_status\"\n",
    "missing_values_per_month_nav_status = data_sampel.withColumn(\"months\", F.date_format(\"dt_pos_utc\", \"MMMM\")) \\\n",
    "    .groupBy(\"months\").agg(\n",
    "        F.sum(F.col(\"nav_status\").isNull().cast(IntegerType())).alias(\"nav_status_missing\")\n",
    "    )\n",
    "\n",
    "# Tampilkan DataFrame Spark\n",
    "missing_values_per_month_nav_status.show() "
   ]
  },
  {
   "cell_type": "markdown",
   "id": "79c2dd71",
   "metadata": {},
   "source": [
    "### MS Tipe Kapal"
   ]
  },
  {
   "cell_type": "code",
   "execution_count": null,
   "id": "04e2993b",
   "metadata": {},
   "outputs": [
    {
     "name": "stdout",
     "output_type": "stream",
     "text": [
      "+---------+-------------------+\n",
      "|   months|vessel_type_missing|\n",
      "+---------+-------------------+\n",
      "|     July|                  0|\n",
      "| November|                  0|\n",
      "| February|                  0|\n",
      "|  January|                  0|\n",
      "|    March|                  0|\n",
      "|  October|                  0|\n",
      "|      May|                  0|\n",
      "|   August|                  0|\n",
      "|    April|                  0|\n",
      "|     June|                  0|\n",
      "| December|                  0|\n",
      "|September|                  0|\n",
      "+---------+-------------------+\n",
      "\n"
     ]
    }
   ],
   "source": [
    "# Hitung jumlah nilai yang hilang per bulan untuk kolom \"vessel_type\"\n",
    "missing_values_per_month_vessel_type = data_sampel.withColumn(\"months\", F.date_format(\"dt_pos_utc\", \"MMMM\")) \\\n",
    "    .groupBy(\"months\").agg(\n",
    "        F.sum(F.col(\"vessel_type\").isNull().cast(IntegerType())).alias(\"vessel_type_missing\")\n",
    "    )\n",
    "\n",
    "# Tampilkan DataFrame Spark\n",
    "missing_values_per_month_vessel_type.show() "
   ]
  },
  {
   "cell_type": "markdown",
   "id": "9247ab1a",
   "metadata": {},
   "source": [
    "### MS Negara Kapal"
   ]
  },
  {
   "cell_type": "code",
   "execution_count": null,
   "id": "a8b32260",
   "metadata": {},
   "outputs": [
    {
     "name": "stdout",
     "output_type": "stream",
     "text": [
      "+---------+-----------------+\n",
      "|   months|flag_code_missing|\n",
      "+---------+-----------------+\n",
      "|     July|                0|\n",
      "| November|         22323708|\n",
      "| February|                0|\n",
      "|  January|                0|\n",
      "|    March|                0|\n",
      "|  October|                0|\n",
      "|      May|          2129411|\n",
      "|   August|                0|\n",
      "|    April|                0|\n",
      "|     June|                0|\n",
      "| December|                0|\n",
      "|September|                0|\n",
      "+---------+-----------------+\n",
      "\n"
     ]
    }
   ],
   "source": [
    "# Hitung jumlah nilai yang hilang per bulan untuk kolom \"flag_country\"\n",
    "missing_values_per_month_flag_code = data_sampel.withColumn(\"months\", F.date_format(\"dt_pos_utc\", \"MMMM\")) \\\n",
    "    .groupBy(\"months\").agg(\n",
    "        F.sum(F.col(\"flag_code\").isNull().cast(IntegerType())).alias(\"flag_code_missing\")\n",
    "    )\n",
    "\n",
    "# Tampilkan DataFrame Spark\n",
    "missing_values_per_month_flag_code.show() "
   ]
  },
  {
   "cell_type": "markdown",
   "id": "1136222d",
   "metadata": {},
   "source": [
    "### MS Latitude & Longitude"
   ]
  },
  {
   "cell_type": "code",
   "execution_count": null,
   "id": "7391be5a",
   "metadata": {},
   "outputs": [
    {
     "name": "stdout",
     "output_type": "stream",
     "text": [
      "+---------+----------------+\n",
      "|   months|latitude_missing|\n",
      "+---------+----------------+\n",
      "|     July|               0|\n",
      "| November|               0|\n",
      "| February|               0|\n",
      "|  January|               0|\n",
      "|    March|               0|\n",
      "|  October|               0|\n",
      "|      May|               0|\n",
      "|   August|               0|\n",
      "|    April|               0|\n",
      "|     June|               0|\n",
      "| December|               0|\n",
      "|September|               0|\n",
      "+---------+----------------+\n",
      "\n"
     ]
    }
   ],
   "source": [
    "# Hitung jumlah nilai yang hilang per bulan untuk kolom \"latitude\"\n",
    "missing_values_per_month_latitude = data_sampel.withColumn(\"months\", F.date_format(\"dt_pos_utc\", \"MMMM\")) \\\n",
    "    .groupBy(\"months\").agg(\n",
    "        F.sum(F.col(\"latitude\").isNull().cast(IntegerType())).alias(\"latitude_missing\")\n",
    "    )\n",
    "\n",
    "# Tampilkan DataFrame Spark\n",
    "missing_values_per_month_latitude.show() "
   ]
  },
  {
   "cell_type": "code",
   "execution_count": null,
   "id": "c56f1343",
   "metadata": {},
   "outputs": [
    {
     "name": "stdout",
     "output_type": "stream",
     "text": [
      "+---------+-----------------+\n",
      "|   months|longitude_missing|\n",
      "+---------+-----------------+\n",
      "|     July|                0|\n",
      "| November|                0|\n",
      "| February|                0|\n",
      "|  January|                0|\n",
      "|    March|                0|\n",
      "|  October|                0|\n",
      "|      May|                0|\n",
      "|   August|                0|\n",
      "|    April|                0|\n",
      "|     June|                0|\n",
      "| December|                0|\n",
      "|September|                0|\n",
      "+---------+-----------------+\n",
      "\n"
     ]
    }
   ],
   "source": [
    "# Hitung jumlah nilai yang hilang per bulan untuk kolom \"longitude\"\n",
    "missing_values_per_month_longitude = data_sampel.withColumn(\"months\", F.date_format(\"dt_pos_utc\", \"MMMM\")) \\\n",
    "    .groupBy(\"months\").agg(\n",
    "        F.sum(F.col(\"longitude\").isNull().cast(IntegerType())).alias(\"longitude_missing\")\n",
    "    )\n",
    "\n",
    "# Tampilkan DataFrame Spark\n",
    "missing_values_per_month_longitude.show() "
   ]
  },
  {
   "cell_type": "markdown",
   "id": "a15753dc",
   "metadata": {},
   "source": [
    "### MS dt_pos_utc"
   ]
  },
  {
   "cell_type": "code",
   "execution_count": null,
   "id": "4705e109",
   "metadata": {},
   "outputs": [
    {
     "name": "stdout",
     "output_type": "stream",
     "text": [
      "+---------+------------------+\n",
      "|   months|dt_pos_utc_missing|\n",
      "+---------+------------------+\n",
      "|     July|                 0|\n",
      "| November|                 0|\n",
      "| February|                 0|\n",
      "|  January|                 0|\n",
      "|    March|                 0|\n",
      "|  October|                 0|\n",
      "|      May|                 0|\n",
      "|   August|                 0|\n",
      "|    April|                 0|\n",
      "|     June|                 0|\n",
      "| December|                 0|\n",
      "|September|                 0|\n",
      "+---------+------------------+\n",
      "\n"
     ]
    }
   ],
   "source": [
    "# Hitung jumlah nilai yang hilang per bulan untuk kolom \"dt_pos_utc\"\n",
    "missing_values_per_month_dt_pos_utc = data_sampel.withColumn(\"months\", F.date_format(\"dt_pos_utc\", \"MMMM\")) \\\n",
    "    .groupBy(\"months\").agg(\n",
    "        F.sum(F.col(\"dt_pos_utc\").isNull().cast(IntegerType())).alias(\"dt_pos_utc_missing\")\n",
    "    )\n",
    "\n",
    "# Tampilkan DataFrame Spark\n",
    "missing_values_per_month_dt_pos_utc.show() "
   ]
  },
  {
   "cell_type": "code",
   "execution_count": null,
   "id": "e3c2aeff",
   "metadata": {},
   "outputs": [],
   "source": []
  },
  {
   "cell_type": "code",
   "execution_count": null,
   "id": "5daa23ff",
   "metadata": {},
   "outputs": [],
   "source": []
  },
  {
   "cell_type": "code",
   "execution_count": null,
   "id": "a333f6fa",
   "metadata": {},
   "outputs": [],
   "source": []
  }
 ],
 "metadata": {
  "kernelspec": {
   "display_name": "pyspark3.3 ais2.8 (prev ais-tt-dev)",
   "language": "python3",
   "name": "ais-tt-dev"
  },
  "language_info": {
   "codemirror_mode": {
    "name": "ipython",
    "version": 3
   },
   "file_extension": ".py",
   "mimetype": "text/x-python",
   "name": "python",
   "nbconvert_exporter": "python",
   "pygments_lexer": "ipython3",
   "version": "3.8.13"
  }
 },
 "nbformat": 4,
 "nbformat_minor": 5
}
