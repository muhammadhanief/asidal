{
 "cells": [
  {
   "cell_type": "code",
   "execution_count": 1,
   "id": "de50c5cc",
   "metadata": {},
   "outputs": [],
   "source": [
    "import pandas as pd\n",
    "import json"
   ]
  },
  {
   "cell_type": "code",
   "execution_count": 2,
   "id": "c04e71c8",
   "metadata": {},
   "outputs": [],
   "source": [
    "# Membaca file CSV ke dalam pandas DataFrame\n",
    "import os\n",
    "os.chdir('C:/Users/Lenovo/Skripsi/Notebook')\n",
    "\n",
    "df = pd.read_csv('output_keluar_masuk_asean_all.csv')"
   ]
  },
  {
   "cell_type": "code",
   "execution_count": 3,
   "id": "3474d020-557f-4486-b2e9-885835d01f88",
   "metadata": {},
   "outputs": [
    {
     "name": "stdout",
     "output_type": "stream",
     "text": [
      "        mmsi                    Port        dt_pos_utc     fc_vessel  \\\n",
      "0  518998571            Port Dickson    10/4/2022 9:50  Cook Islands   \n",
      "1  518998571            Port Dickson  10/12/2022 11:35  Cook Islands   \n",
      "2  518998571                     NaN  10/12/2022 13:08  Cook Islands   \n",
      "3  518998571                     NaN  10/12/2022 14:20  Cook Islands   \n",
      "4  518998571  Pelabuhan Sungai Udang  10/12/2022 14:31  Cook Islands   \n",
      "\n",
      "  sc_vessel vessel_type         ns_vessel  draught  position  latitude  \\\n",
      "0     Asing      Tanker         At Anchor      5.2   in port  2.390083   \n",
      "1     Asing      Tanker         At Anchor      5.2   in port  2.389017   \n",
      "2     Asing      Tanker  Underway Sailing      5.2  out port  2.291333   \n",
      "3     Asing      Tanker  Underway Sailing      5.0  out port  2.185033   \n",
      "4     Asing      Tanker  Underway Sailing      5.0   in port  2.171383   \n",
      "\n",
      "    longitude masuk_pelabuhan keluar_pelabuhan  \\\n",
      "0  101.884383               -                -   \n",
      "1  101.886650               -           keluar   \n",
      "2  101.892833               -           keluar   \n",
      "3  101.919867           masuk                -   \n",
      "4  101.937333           masuk                -   \n",
      "\n",
      "                                             geojson  \n",
      "0  {\"type\": \"FeatureCollection\", \"features\": [{\"t...  \n",
      "1  {\"type\": \"FeatureCollection\", \"features\": [{\"t...  \n",
      "2  {\"type\": \"FeatureCollection\", \"features\": [{\"t...  \n",
      "3  {\"type\": \"FeatureCollection\", \"features\": [{\"t...  \n",
      "4  {\"type\": \"FeatureCollection\", \"features\": [{\"t...  \n"
     ]
    }
   ],
   "source": [
    "print(df.head())"
   ]
  },
  {
   "cell_type": "code",
   "execution_count": 4,
   "id": "786a1e32-ced9-4784-8028-0c1b8ec166e8",
   "metadata": {},
   "outputs": [
    {
     "name": "stdout",
     "output_type": "stream",
     "text": [
      "Index(['mmsi', 'Port', 'dt_pos_utc', 'fc_vessel', 'sc_vessel', 'vessel_type',\n",
      "       'ns_vessel', 'draught', 'position', 'latitude', 'longitude',\n",
      "       'masuk_pelabuhan', 'keluar_pelabuhan', 'geojson'],\n",
      "      dtype='object')\n"
     ]
    }
   ],
   "source": [
    "# Cetak nama kolom\n",
    "print(df.columns)"
   ]
  },
  {
   "cell_type": "code",
   "execution_count": 5,
   "id": "26f763ac-7479-4d56-adb2-5b038f0c90d5",
   "metadata": {},
   "outputs": [
    {
     "name": "stdout",
     "output_type": "stream",
     "text": [
      "{\"type\": \"FeatureCollection\", \"features\": [{\"type\": \"Feature\", \"properties\": {\"time\": \"10/04/2022\"}, \"geometry\": {\"type\": \"LineString\", \"coordinates\": [[101.8843833, 2.39008333, 0, 1664851800]]}}]}\n"
     ]
    }
   ],
   "source": [
    "# Cetak record pertama (indeks 0) dari kolom terakhir\n",
    "record_pertama_kolom_terakhir = df.iloc[0, -1]\n",
    "print(record_pertama_kolom_terakhir)"
   ]
  },
  {
   "cell_type": "code",
   "execution_count": 7,
   "id": "89de374c-4a32-401e-af3a-b926b15d42ab",
   "metadata": {},
   "outputs": [],
   "source": [
    "# Fungsi untuk menggabungkan koordinat dari geojson\n",
    "def gabung_koordinat(geojson_list):\n",
    "    all_coordinates = []\n",
    "    for geojson_str in geojson_list:\n",
    "        geojson = json.loads(geojson_str)\n",
    "        coordinates = geojson['features'][0]['geometry']['coordinates']\n",
    "        all_coordinates.extend(coordinates)\n",
    "    # Buat geojson baru dengan koordinat yang telah digabungkan\n",
    "    combined_geojson = {\n",
    "        \"type\": \"FeatureCollection\",\n",
    "        \"features\": [\n",
    "            {\n",
    "                \"type\": \"Feature\",\n",
    "                \"properties\": {},\n",
    "                \"geometry\": {\n",
    "                    \"type\": \"LineString\",\n",
    "                    \"coordinates\": all_coordinates\n",
    "                }\n",
    "            }\n",
    "        ]\n",
    "    }\n",
    "    return json.dumps(combined_geojson)\n",
    "\n",
    "# Kelompokkan data berdasarkan 'mmsi' dan gabungkan koordinat\n",
    "df_grouped = df.groupby('mmsi').agg({\n",
    "    'geojson': gabung_koordinat,\n",
    "    'ns_vessel': 'first',\n",
    "    'dt_pos_utc': 'first',\n",
    "    'vessel_type': 'first',\n",
    "    'fc_vessel': 'first',\n",
    "    'draught': 'first',\n",
    "    'latitude': 'first',\n",
    "    'longitude': 'first',\n",
    "#     'sog': 'first',\n",
    "#     'H3_int_index_8': 'first'\n",
    "#     'masuk_indo': 'first',\n",
    "#     'keluar_indo': 'first'\n",
    "}).reset_index()\n",
    "\n",
    "# Cetak DataFrame baru\n"
   ]
  },
  {
   "cell_type": "code",
   "execution_count": 8,
   "id": "1c429cc0-2b14-437f-aa48-386a70412f8b",
   "metadata": {},
   "outputs": [
    {
     "name": "stdout",
     "output_type": "stream",
     "text": [
      "         mmsi                                            geojson  \\\n",
      "0   477716400  {\"type\": \"FeatureCollection\", \"features\": [{\"t...   \n",
      "1   477717300  {\"type\": \"FeatureCollection\", \"features\": [{\"t...   \n",
      "2   477749600  {\"type\": \"FeatureCollection\", \"features\": [{\"t...   \n",
      "3   477767900  {\"type\": \"FeatureCollection\", \"features\": [{\"t...   \n",
      "4   477779200  {\"type\": \"FeatureCollection\", \"features\": [{\"t...   \n",
      "..        ...                                                ...   \n",
      "95  565156000  {\"type\": \"FeatureCollection\", \"features\": [{\"t...   \n",
      "96  565390000  {\"type\": \"FeatureCollection\", \"features\": [{\"t...   \n",
      "97  565585000  {\"type\": \"FeatureCollection\", \"features\": [{\"t...   \n",
      "98  565943000  {\"type\": \"FeatureCollection\", \"features\": [{\"t...   \n",
      "99  566134000  {\"type\": \"FeatureCollection\", \"features\": [{\"t...   \n",
      "\n",
      "                 ns_vessel       dt_pos_utc vessel_type  fc_vessel  draught  \\\n",
      "0         Underway Sailing   10/4/2022 9:10       Cargo  Hong Kong     12.7   \n",
      "1   Under Way Using Engine  1/31/2022 11:53       Cargo  Hong Kong      7.1   \n",
      "2   Under Way Using Engine   6/3/2022 17:57       Cargo  Hong Kong     13.7   \n",
      "3   Under Way Using Engine  4/29/2022 17:44       Cargo  Hong Kong     10.6   \n",
      "4   Under Way Using Engine  1/25/2022 16:49      Tanker  Hong Kong      7.8   \n",
      "..                     ...              ...         ...        ...      ...   \n",
      "95  Under Way Using Engine    1/9/2022 9:04       Cargo  Singapore      7.5   \n",
      "96  Under Way Using Engine   1/4/2022 13:26      Tanker  Singapore      4.5   \n",
      "97  Under Way Using Engine   4/4/2022 12:03      Tanker  Singapore     10.9   \n",
      "98  Under Way Using Engine   2/2/2022 22:44      Tanker  Singapore     11.6   \n",
      "99  Under Way Using Engine    1/1/2022 3:06      Tanker  Singapore      5.0   \n",
      "\n",
      "    latitude   longitude  \n",
      "0   2.454057  101.578168  \n",
      "1   8.285000  108.805000  \n",
      "2   8.283333  108.813333  \n",
      "3   2.445000  101.581667  \n",
      "4   1.283483  104.109350  \n",
      "..       ...         ...  \n",
      "95  1.271583  104.120483  \n",
      "96  1.223052  104.010882  \n",
      "97  1.278800  104.105133  \n",
      "98  2.446940  101.580725  \n",
      "99  1.301172  103.973342  \n",
      "\n",
      "[100 rows x 9 columns]\n"
     ]
    }
   ],
   "source": [
    "print(df_grouped)"
   ]
  },
  {
   "cell_type": "code",
   "execution_count": 9,
   "id": "4fbf0254-f3e2-4d50-9943-20f142007a14",
   "metadata": {},
   "outputs": [
    {
     "name": "stdout",
     "output_type": "stream",
     "text": [
      "Index(['mmsi', 'geojson', 'ns_vessel', 'dt_pos_utc', 'vessel_type',\n",
      "       'fc_vessel', 'draught', 'latitude', 'longitude'],\n",
      "      dtype='object')\n"
     ]
    }
   ],
   "source": [
    "# Cetak nama kolom\n",
    "print(df_grouped.columns)"
   ]
  },
  {
   "cell_type": "code",
   "execution_count": 10,
   "id": "945e5b44-dda3-4553-8af6-8f3c6fae288f",
   "metadata": {},
   "outputs": [],
   "source": [
    "df_mmsi_json = df_grouped[['mmsi', 'vessel_type', 'geojson','dt_pos_utc']]"
   ]
  },
  {
   "cell_type": "code",
   "execution_count": 11,
   "id": "fb6a6d3e-c858-4771-8e4c-fabb1033c9ac",
   "metadata": {},
   "outputs": [
    {
     "name": "stdout",
     "output_type": "stream",
     "text": [
      "         mmsi vessel_type                                            geojson  \\\n",
      "0   477716400       Cargo  {\"type\": \"FeatureCollection\", \"features\": [{\"t...   \n",
      "1   477717300       Cargo  {\"type\": \"FeatureCollection\", \"features\": [{\"t...   \n",
      "2   477749600       Cargo  {\"type\": \"FeatureCollection\", \"features\": [{\"t...   \n",
      "3   477767900       Cargo  {\"type\": \"FeatureCollection\", \"features\": [{\"t...   \n",
      "4   477779200      Tanker  {\"type\": \"FeatureCollection\", \"features\": [{\"t...   \n",
      "..        ...         ...                                                ...   \n",
      "95  565156000       Cargo  {\"type\": \"FeatureCollection\", \"features\": [{\"t...   \n",
      "96  565390000      Tanker  {\"type\": \"FeatureCollection\", \"features\": [{\"t...   \n",
      "97  565585000      Tanker  {\"type\": \"FeatureCollection\", \"features\": [{\"t...   \n",
      "98  565943000      Tanker  {\"type\": \"FeatureCollection\", \"features\": [{\"t...   \n",
      "99  566134000      Tanker  {\"type\": \"FeatureCollection\", \"features\": [{\"t...   \n",
      "\n",
      "         dt_pos_utc  \n",
      "0    10/4/2022 9:10  \n",
      "1   1/31/2022 11:53  \n",
      "2    6/3/2022 17:57  \n",
      "3   4/29/2022 17:44  \n",
      "4   1/25/2022 16:49  \n",
      "..              ...  \n",
      "95    1/9/2022 9:04  \n",
      "96   1/4/2022 13:26  \n",
      "97   4/4/2022 12:03  \n",
      "98   2/2/2022 22:44  \n",
      "99    1/1/2022 3:06  \n",
      "\n",
      "[100 rows x 4 columns]\n"
     ]
    }
   ],
   "source": [
    "print(df_mmsi_json)"
   ]
  },
  {
   "cell_type": "code",
   "execution_count": 12,
   "id": "7650076e-b36f-4142-bb2b-4b0e85290107",
   "metadata": {},
   "outputs": [
    {
     "name": "stdout",
     "output_type": "stream",
     "text": [
      "10/4/2022 9:10\n"
     ]
    }
   ],
   "source": [
    "# Cetak record pertama (indeks 0) dari kolom terakhir\n",
    "record_pertama_kolom_terakhir = df_mmsi_json.iloc[0, -1]\n",
    "print(record_pertama_kolom_terakhir)"
   ]
  },
  {
   "cell_type": "code",
   "execution_count": 13,
   "id": "7c891769-4008-4056-8604-656580f518ce",
   "metadata": {},
   "outputs": [],
   "source": [
    "df_mmsi_json.to_csv(\"grouped_keluar_masuk_asean_all.csv\", index=False)"
   ]
  },
  {
   "cell_type": "code",
   "execution_count": null,
   "id": "cc6725cf-e96a-45f5-bf7f-04cf5431b67b",
   "metadata": {},
   "outputs": [],
   "source": []
  }
 ],
 "metadata": {
  "kernelspec": {
   "display_name": "Python 3 (ipykernel)",
   "language": "python",
   "name": "python3"
  },
  "language_info": {
   "codemirror_mode": {
    "name": "ipython",
    "version": 3
   },
   "file_extension": ".py",
   "mimetype": "text/x-python",
   "name": "python",
   "nbconvert_exporter": "python",
   "pygments_lexer": "ipython3",
   "version": "3.9.12"
  }
 },
 "nbformat": 4,
 "nbformat_minor": 5
}
