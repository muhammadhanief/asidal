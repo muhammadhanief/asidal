{
 "cells": [
  {
   "cell_type": "markdown",
   "id": "5816fa69",
   "metadata": {},
   "source": [
    "# Inilization"
   ]
  },
  {
   "cell_type": "code",
   "execution_count": 2,
   "id": "02162682",
   "metadata": {},
   "outputs": [],
   "source": [
    "import pandas as pd\n",
    "from pyspark.sql import functions as F\n",
    "\n",
    "#For 3.3.1\n",
    "#Register Sedona Functions to Spark\n",
    "from sedona.register import SedonaRegistrator\n",
    "SedonaRegistrator.registerAll(spark)\n",
    "\n",
    "\n",
    "#For 3.3.2\n",
    "from shapely.geometry import Point, Polygon, mapping\n",
    "import h3.api.numpy_int as h3int "
   ]
  },
  {
   "cell_type": "code",
   "execution_count": 3,
   "id": "a608c8ab",
   "metadata": {},
   "outputs": [],
   "source": [
    "from pyspark.sql import SparkSession\n",
    "from pyspark.sql.functions import col, date_format, count, countDistinct, when, expr\n",
    "import calendar\n",
    "from pyspark.sql.types import IntegerType\n",
    "from pyspark.sql.window import Window"
   ]
  },
  {
   "cell_type": "code",
   "execution_count": 4,
   "id": "520986fc",
   "metadata": {},
   "outputs": [],
   "source": [
    "import pandas as pd\n",
    "from IPython.display import HTML\n",
    "import base64\n",
    "from pyspark.sql.functions import year, month, dayofmonth, hour, minute, second\n",
    "from pyspark.sql.functions import monotonically_increasing_id"
   ]
  },
  {
   "cell_type": "markdown",
   "id": "00ed31f2",
   "metadata": {},
   "source": [
    "# Eksplorasi Data"
   ]
  },
  {
   "cell_type": "markdown",
   "id": "20278508",
   "metadata": {},
   "source": [
    "## Data AIS"
   ]
  },
  {
   "cell_type": "code",
   "execution_count": 5,
   "id": "8e22f021",
   "metadata": {},
   "outputs": [],
   "source": [
    "basepath = \"s3a://ungp-ais-data-historical-backup/exact-earth-data/transformed/prod/\""
   ]
  },
  {
   "cell_type": "code",
   "execution_count": 6,
   "id": "ca968bfe",
   "metadata": {},
   "outputs": [],
   "source": [
    "#Read Data January 2022\n",
    "#df_data = spark.read.parquet(basepath+ \"year=2022/month=01/day=01\")\n",
    "\n",
    "#Read Data 2022\n",
    "df_data = spark.read.parquet(basepath+ \"year=2022\")"
   ]
  },
  {
   "cell_type": "code",
   "execution_count": 7,
   "id": "3e627820",
   "metadata": {},
   "outputs": [],
   "source": [
    "df_data.createOrReplaceTempView(\"temp_df\")"
   ]
  },
  {
   "cell_type": "markdown",
   "id": "2023ad74",
   "metadata": {},
   "source": [
    "## Cek Data"
   ]
  },
  {
   "cell_type": "code",
   "execution_count": 7,
   "id": "e058ce26",
   "metadata": {
    "scrolled": true
   },
   "outputs": [
    {
     "name": "stdout",
     "output_type": "stream",
     "text": [
      "root\n",
      " |-- mmsi: integer (nullable = true)\n",
      " |-- imo: integer (nullable = true)\n",
      " |-- vessel_name: string (nullable = true)\n",
      " |-- callsign: string (nullable = true)\n",
      " |-- vessel_type: string (nullable = true)\n",
      " |-- vessel_type_code: integer (nullable = true)\n",
      " |-- vessel_type_cargo: string (nullable = true)\n",
      " |-- vessel_class: string (nullable = true)\n",
      " |-- length: double (nullable = true)\n",
      " |-- width: double (nullable = true)\n",
      " |-- flag_country: string (nullable = true)\n",
      " |-- flag_code: integer (nullable = true)\n",
      " |-- destination: string (nullable = true)\n",
      " |-- eta: integer (nullable = true)\n",
      " |-- draught: double (nullable = true)\n",
      " |-- longitude: double (nullable = true)\n",
      " |-- latitude: double (nullable = true)\n",
      " |-- sog: double (nullable = true)\n",
      " |-- cog: double (nullable = true)\n",
      " |-- rot: double (nullable = true)\n",
      " |-- heading: double (nullable = true)\n",
      " |-- nav_status: string (nullable = true)\n",
      " |-- nav_status_code: integer (nullable = true)\n",
      " |-- source: string (nullable = true)\n",
      " |-- dt_pos_utc: timestamp (nullable = true)\n",
      " |-- dt_static_utc: timestamp (nullable = true)\n",
      " |-- dt_insert_utc: timestamp (nullable = true)\n",
      " |-- vessel_type_main: string (nullable = true)\n",
      " |-- vessel_type_sub: string (nullable = true)\n",
      " |-- message_type: integer (nullable = true)\n",
      " |-- eeid: long (nullable = true)\n",
      " |-- source_filename: string (nullable = true)\n",
      " |-- H3index_0: string (nullable = true)\n",
      " |-- H3_int_index_0: long (nullable = true)\n",
      " |-- H3_int_index_1: long (nullable = true)\n",
      " |-- H3_int_index_2: long (nullable = true)\n",
      " |-- H3_int_index_3: long (nullable = true)\n",
      " |-- H3_int_index_4: long (nullable = true)\n",
      " |-- H3_int_index_5: long (nullable = true)\n",
      " |-- H3_int_index_6: long (nullable = true)\n",
      " |-- H3_int_index_7: long (nullable = true)\n",
      " |-- H3_int_index_8: long (nullable = true)\n",
      " |-- H3_int_index_9: long (nullable = true)\n",
      " |-- H3_int_index_10: long (nullable = true)\n",
      " |-- H3_int_index_11: long (nullable = true)\n",
      " |-- H3_int_index_12: long (nullable = true)\n",
      " |-- H3_int_index_13: long (nullable = true)\n",
      " |-- H3_int_index_14: long (nullable = true)\n",
      " |-- H3_int_index_15: long (nullable = true)\n",
      " |-- month: integer (nullable = true)\n",
      " |-- day: integer (nullable = true)\n",
      "\n"
     ]
    }
   ],
   "source": [
    "#Check-out available fields\n",
    "df_data.printSchema()"
   ]
  },
  {
   "cell_type": "code",
   "execution_count": 8,
   "id": "e2c1d70f",
   "metadata": {},
   "outputs": [
    {
     "name": "stdout",
     "output_type": "stream",
     "text": [
      "-RECORD 0---------------------------------\n",
      " mmsi              | 273295870            \n",
      " imo               | 9167758              \n",
      " vessel_name       | ARKA-33              \n",
      " callsign          | UBPW7                \n",
      " vessel_type       | Fishing              \n",
      " vessel_type_code  | 30                   \n",
      " vessel_type_cargo | null                 \n",
      " vessel_class      | A                    \n",
      " length            | 0.0                  \n",
      " width             | 0.0                  \n",
      " flag_country      | Russian Federation   \n",
      " flag_code         | 273                  \n",
      " destination       | BARENTS SEA          \n",
      " eta               | 8112200              \n",
      " draught           | 5.0                  \n",
      " longitude         | 49.25605             \n",
      " latitude          | 76.70656667          \n",
      " sog               | 0.8                  \n",
      " cog               | 50.6                 \n",
      " rot               | 0.0                  \n",
      " heading           | 6.0                  \n",
      " nav_status        | Under Way Using E... \n",
      " nav_status_code   | 0                    \n",
      " source            | S-AIS                \n",
      " dt_pos_utc        | 2022-11-19 17:23:41  \n",
      " dt_static_utc     | 2022-11-19 12:37:44  \n",
      " dt_insert_utc     | 2022-11-19 17:24:02  \n",
      " vessel_type_main  | null                 \n",
      " vessel_type_sub   | null                 \n",
      " message_type      | 1                    \n",
      " eeid              | 6909951752121494014  \n",
      " source_filename   | s3a://ungp-ais-da... \n",
      " H3index_0         | 8001fffffffffff      \n",
      " H3_int_index_0    | 576495936675512319   \n",
      " H3_int_index_1    | 580968749977305087   \n",
      " H3_int_index_2    | 585469600825606143   \n",
      " H3_int_index_3    | 589998626659368959   \n",
      " H3_int_index_4    | 594476585331982335   \n",
      " H3_int_index_5    | 598980183885611007   \n",
      " H3_int_index_6    | 603483783378763775   \n",
      " H3_int_index_7    | 607987382905470975   \n",
      " H3_int_index_8    | 612490982518161407   \n",
      " H3_int_index_9    | 616994582143696895   \n",
      " H3_int_index_10   | 621498181771034623   \n",
      " H3_int_index_11   | 626001781398392831   \n",
      " H3_int_index_12   | 630505381025761279   \n",
      " H3_int_index_13   | 635008980653131647   \n",
      " H3_int_index_14   | 639512580280502119   \n",
      " H3_int_index_15   | 644016179907872611   \n",
      " month             | 11                   \n",
      " day               | 19                   \n",
      "-RECORD 1---------------------------------\n",
      " mmsi              | 273295870            \n",
      " imo               | 9167758              \n",
      " vessel_name       | ARKA-33              \n",
      " callsign          | UBPW7                \n",
      " vessel_type       | Fishing              \n",
      " vessel_type_code  | 30                   \n",
      " vessel_type_cargo | null                 \n",
      " vessel_class      | A                    \n",
      " length            | 0.0                  \n",
      " width             | 0.0                  \n",
      " flag_country      | Russian Federation   \n",
      " flag_code         | 273                  \n",
      " destination       | BARENTS SEA          \n",
      " eta               | 8112200              \n",
      " draught           | 5.0                  \n",
      " longitude         | 49.26321667          \n",
      " latitude          | 76.70918333          \n",
      " sog               | 0.8                  \n",
      " cog               | 63.3                 \n",
      " rot               | 0.0                  \n",
      " heading           | 352.0                \n",
      " nav_status        | Under Way Using E... \n",
      " nav_status_code   | 0                    \n",
      " source            | S-AIS                \n",
      " dt_pos_utc        | 2022-11-19 17:32:47  \n",
      " dt_static_utc     | 2022-11-19 12:37:44  \n",
      " dt_insert_utc     | 2022-11-19 17:33:12  \n",
      " vessel_type_main  | null                 \n",
      " vessel_type_sub   | null                 \n",
      " message_type      | 1                    \n",
      " eeid              | 6909951752121494014  \n",
      " source_filename   | s3a://ungp-ais-da... \n",
      " H3index_0         | 8001fffffffffff      \n",
      " H3_int_index_0    | 576495936675512319   \n",
      " H3_int_index_1    | 580968749977305087   \n",
      " H3_int_index_2    | 585469600825606143   \n",
      " H3_int_index_3    | 589998626659368959   \n",
      " H3_int_index_4    | 594476585331982335   \n",
      " H3_int_index_5    | 598980183885611007   \n",
      " H3_int_index_6    | 603483783378763775   \n",
      " H3_int_index_7    | 607987382905470975   \n",
      " H3_int_index_8    | 612490982518161407   \n",
      " H3_int_index_9    | 616994582144483327   \n",
      " H3_int_index_10   | 621498181771821055   \n",
      " H3_int_index_11   | 626001781399183359   \n",
      " H3_int_index_12   | 630505381026551295   \n",
      " H3_int_index_13   | 635008980653921599   \n",
      " H3_int_index_14   | 639512580281292055   \n",
      " H3_int_index_15   | 644016179908662579   \n",
      " month             | 11                   \n",
      " day               | 19                   \n",
      "-RECORD 2---------------------------------\n",
      " mmsi              | 273295870            \n",
      " imo               | 9167758              \n",
      " vessel_name       | ARKA-33              \n",
      " callsign          | UBPW7                \n",
      " vessel_type       | Fishing              \n",
      " vessel_type_code  | 30                   \n",
      " vessel_type_cargo | null                 \n",
      " vessel_class      | A                    \n",
      " length            | 0.0                  \n",
      " width             | 0.0                  \n",
      " flag_country      | Russian Federation   \n",
      " flag_code         | 273                  \n",
      " destination       | BARENTS SEA          \n",
      " eta               | 8112200              \n",
      " draught           | 5.0                  \n",
      " longitude         | 49.26666667          \n",
      " latitude          | 76.70975             \n",
      " sog               | 1.2                  \n",
      " cog               | 93.3                 \n",
      " rot               | 0.0                  \n",
      " heading           | 12.0                 \n",
      " nav_status        | Under Way Using E... \n",
      " nav_status_code   | 0                    \n",
      " source            | S-AIS                \n",
      " dt_pos_utc        | 2022-11-19 17:38:20  \n",
      " dt_static_utc     | 2022-11-19 12:37:44  \n",
      " dt_insert_utc     | 2022-11-19 17:41:49  \n",
      " vessel_type_main  | null                 \n",
      " vessel_type_sub   | null                 \n",
      " message_type      | 1                    \n",
      " eeid              | 6909951752121494014  \n",
      " source_filename   | s3a://ungp-ais-da... \n",
      " H3index_0         | 8001fffffffffff      \n",
      " H3_int_index_0    | 576495936675512319   \n",
      " H3_int_index_1    | 580968749977305087   \n",
      " H3_int_index_2    | 585469600825606143   \n",
      " H3_int_index_3    | 589998626659368959   \n",
      " H3_int_index_4    | 594476585331982335   \n",
      " H3_int_index_5    | 598980183885611007   \n",
      " H3_int_index_6    | 603483783378763775   \n",
      " H3_int_index_7    | 607987382905470975   \n",
      " H3_int_index_8    | 612490982518161407   \n",
      " H3_int_index_9    | 616994582144483327   \n",
      " H3_int_index_10   | 621498181771689983   \n",
      " H3_int_index_11   | 626001781399052287   \n",
      " H3_int_index_12   | 630505381026422271   \n",
      " H3_int_index_13   | 635008980653792575   \n",
      " H3_int_index_14   | 639512580281163023   \n",
      " H3_int_index_15   | 644016179908533505   \n",
      " month             | 11                   \n",
      " day               | 19                   \n",
      "-RECORD 3---------------------------------\n",
      " mmsi              | 273295870            \n",
      " imo               | 9167758              \n",
      " vessel_name       | ARKA-33              \n",
      " callsign          | UBPW7                \n",
      " vessel_type       | Fishing              \n",
      " vessel_type_code  | 30                   \n",
      " vessel_type_cargo | null                 \n",
      " vessel_class      | A                    \n",
      " length            | 0.0                  \n",
      " width             | 0.0                  \n",
      " flag_country      | Russian Federation   \n",
      " flag_code         | 273                  \n",
      " destination       | BARENTS SEA          \n",
      " eta               | 8112200              \n",
      " draught           | 5.0                  \n",
      " longitude         | 49.24713333          \n",
      " latitude          | 76.71133333          \n",
      " sog               | 4.7                  \n",
      " cog               | 319.7                \n",
      " rot               | 0.0                  \n",
      " heading           | 320.0                \n",
      " nav_status        | Under Way Using E... \n",
      " nav_status_code   | 0                    \n",
      " source            | S-AIS                \n",
      " dt_pos_utc        | 2022-11-19 17:59:43  \n",
      " dt_static_utc     | 2022-11-19 17:49:47  \n",
      " dt_insert_utc     | 2022-11-19 18:00:08  \n",
      " vessel_type_main  | null                 \n",
      " vessel_type_sub   | null                 \n",
      " message_type      | 1                    \n",
      " eeid              | 6909951752121494014  \n",
      " source_filename   | s3a://ungp-ais-da... \n",
      " H3index_0         | 8001fffffffffff      \n",
      " H3_int_index_0    | 576495936675512319   \n",
      " H3_int_index_1    | 580968749977305087   \n",
      " H3_int_index_2    | 585469600825606143   \n",
      " H3_int_index_3    | 589998626659368959   \n",
      " H3_int_index_4    | 594476585331982335   \n",
      " H3_int_index_5    | 598980183885611007   \n",
      " H3_int_index_6    | 603483783378763775   \n",
      " H3_int_index_7    | 607987382905470975   \n",
      " H3_int_index_8    | 612490982518161407   \n",
      " H3_int_index_9    | 616994582143959039   \n",
      " H3_int_index_10   | 621498181771263999   \n",
      " H3_int_index_11   | 626001781398614015   \n",
      " H3_int_index_12   | 630505381025982975   \n",
      " H3_int_index_13   | 635008980653353087   \n",
      " H3_int_index_14   | 639512580280723575   \n",
      " H3_int_index_15   | 644016179908094067   \n",
      " month             | 11                   \n",
      " day               | 19                   \n",
      "-RECORD 4---------------------------------\n",
      " mmsi              | 273295870            \n",
      " imo               | 9167758              \n",
      " vessel_name       | ARKA-33              \n",
      " callsign          | UBPW7                \n",
      " vessel_type       | Fishing              \n",
      " vessel_type_code  | 30                   \n",
      " vessel_type_cargo | null                 \n",
      " vessel_class      | A                    \n",
      " length            | 0.0                  \n",
      " width             | 0.0                  \n",
      " flag_country      | Russian Federation   \n",
      " flag_code         | 273                  \n",
      " destination       | BARENTS SEA          \n",
      " eta               | 8112200              \n",
      " draught           | 5.0                  \n",
      " longitude         | 49.26831667          \n",
      " latitude          | 76.70758333          \n",
      " sog               | 0.8                  \n",
      " cog               | 106.7                \n",
      " rot               | 0.0                  \n",
      " heading           | 338.0                \n",
      " nav_status        | Under Way Using E... \n",
      " nav_status_code   | 0                    \n",
      " source            | S-AIS                \n",
      " dt_pos_utc        | 2022-11-19 17:49:37  \n",
      " dt_static_utc     | 2022-11-19 15:49:43  \n",
      " dt_insert_utc     | 2022-11-19 17:49:55  \n",
      " vessel_type_main  | null                 \n",
      " vessel_type_sub   | null                 \n",
      " message_type      | 3                    \n",
      " eeid              | 6909951752121494014  \n",
      " source_filename   | s3a://ungp-ais-da... \n",
      " H3index_0         | 8001fffffffffff      \n",
      " H3_int_index_0    | 576495936675512319   \n",
      " H3_int_index_1    | 580968749977305087   \n",
      " H3_int_index_2    | 585469600825606143   \n",
      " H3_int_index_3    | 589998626659368959   \n",
      " H3_int_index_4    | 594476585331982335   \n",
      " H3_int_index_5    | 598980183885611007   \n",
      " H3_int_index_6    | 603483783378763775   \n",
      " H3_int_index_7    | 607987382905470975   \n",
      " H3_int_index_8    | 612490982518161407   \n",
      " H3_int_index_9    | 616994582144221183   \n",
      " H3_int_index_10   | 621498181771362303   \n",
      " H3_int_index_11   | 626001781398724607   \n",
      " H3_int_index_12   | 630505381026092543   \n",
      " H3_int_index_13   | 635008980653462655   \n",
      " H3_int_index_14   | 639512580280833135   \n",
      " H3_int_index_15   | 644016179908203628   \n",
      " month             | 11                   \n",
      " day               | 19                   \n",
      "only showing top 5 rows\n",
      "\n"
     ]
    }
   ],
   "source": [
    "# Show sample 5 data\n",
    "# df.show(n=1, vertical=True)\n",
    "df_data.show(n=5, vertical=True)"
   ]
  },
  {
   "cell_type": "markdown",
   "id": "7574df56",
   "metadata": {},
   "source": [
    "## Jumlah Records"
   ]
  },
  {
   "cell_type": "code",
   "execution_count": 9,
   "id": "7f6544a6",
   "metadata": {},
   "outputs": [
    {
     "data": {
      "text/plain": [
       "8898338622"
      ]
     },
     "execution_count": 9,
     "metadata": {},
     "output_type": "execute_result"
    }
   ],
   "source": [
    "total_record = df_data.count()\n",
    "total_record"
   ]
  },
  {
   "cell_type": "markdown",
   "id": "bbd6c355",
   "metadata": {},
   "source": [
    "## 1% Records"
   ]
  },
  {
   "cell_type": "code",
   "execution_count": 8,
   "id": "1f47a1b7",
   "metadata": {},
   "outputs": [],
   "source": [
    "def create_sampled_data_for_each_month(df_data_dengan_bulan, unique_months):\n",
    "    # Inisialisasi DataFrame untuk menyimpan hasil\n",
    "    sampled_data = None\n",
    "    \n",
    "    # Loop melalui setiap bulan dan ambil sekitar 1% data\n",
    "    for month in unique_months:\n",
    "        # Filter data berdasarkan bulan\n",
    "        filtered_data = df_data_dengan_bulan.filter(col(\"bulan\") == month)\n",
    "        \n",
    "        # Ambil sekitar 1% dari data untuk bulan tersebut\n",
    "        sampled_data_month = filtered_data.sample(fraction=0.01, seed=42)\n",
    "        \n",
    "        # Gabungkan hasil untuk setiap bulan menjadi satu DataFrame\n",
    "        if sampled_data is None:\n",
    "            sampled_data = sampled_data_month\n",
    "        else:\n",
    "            sampled_data = sampled_data.union(sampled_data_month)\n",
    "\n",
    "    return sampled_data"
   ]
  },
  {
   "cell_type": "code",
   "execution_count": 9,
   "id": "a89c884f",
   "metadata": {},
   "outputs": [],
   "source": [
    "# Ekstrak nama bulan dari timestamp\n",
    "df_data_dengan_bulan = df_data.withColumn(\"bulan\", date_format(\"dt_pos_utc\", \"MMMM\"))\n",
    "\n",
    "# Hitung jumlah unik bulan\n",
    "unique_months = df_data_dengan_bulan.select(\"bulan\").distinct()\n",
    "\n",
    "# Eksekusi fungsi\n",
    "sampledd_data = create_sampled_data_for_each_month(df_data_dengan_bulan, unique_months)"
   ]
  },
  {
   "cell_type": "markdown",
   "id": "e598b283",
   "metadata": {},
   "source": [
    "### Save 1% Data"
   ]
  },
  {
   "cell_type": "code",
   "execution_count": 5,
   "id": "94eaea8f",
   "metadata": {
    "tags": []
   },
   "outputs": [],
   "source": [
    "# Save Path\n",
    "save_path = \"s3a://ungp-ais-data-historical-backup/user_temp/\"\n",
    "save_path_unique = save_path + \"222011349/\""
   ]
  },
  {
   "cell_type": "code",
   "execution_count": 6,
   "id": "31b0d86e",
   "metadata": {},
   "outputs": [],
   "source": [
    "# Save Data\n",
    "#sampledd_data.write.option(\"header\", True).mode(\"overwrite\").parquet(save_path_unique + \"data-ais-1persen-dunia-2022.parquet\")"
   ]
  },
  {
   "cell_type": "markdown",
   "id": "bea2ec65",
   "metadata": {},
   "source": [
    "### Read 1% Data"
   ]
  },
  {
   "cell_type": "code",
   "execution_count": 6,
   "id": "06b27f93",
   "metadata": {},
   "outputs": [],
   "source": [
    "# Read Data\n",
    "data_sampel = spark.read.parquet(save_path_unique + \"data-ais-1persen-dunia-2022.parquet\", header=True)"
   ]
  },
  {
   "cell_type": "markdown",
   "id": "b3770a9d",
   "metadata": {},
   "source": [
    "### Record per Bulan"
   ]
  },
  {
   "cell_type": "code",
   "execution_count": 8,
   "id": "84b68b32-5291-4c11-9f09-d7b27ada97ea",
   "metadata": {},
   "outputs": [],
   "source": [
    "jumlah_record_per_bulan = data_sampel.withColumn(\"months\", date_format(\"dt_pos_utc\", \"MMMM\")) \\\n",
    "    .groupBy(\"months\").agg(count(\"*\").alias(\"jumlah_record_per_bulan\"))"
   ]
  },
  {
   "cell_type": "code",
   "execution_count": 9,
   "id": "53de2800-f3f1-4efc-b846-2cac9f5eb019",
   "metadata": {},
   "outputs": [
    {
     "name": "stdout",
     "output_type": "stream",
     "text": [
      "+---------+-----------------------+\n",
      "|   months|jumlah_record_per_bulan|\n",
      "+---------+-----------------------+\n",
      "| November|                6152686|\n",
      "| December|                7332324|\n",
      "|     July|                8180319|\n",
      "|  October|                7692290|\n",
      "|   August|                7956939|\n",
      "|September|                7664096|\n",
      "|    March|                7495299|\n",
      "|    April|                7515300|\n",
      "|     June|                7702391|\n",
      "|      May|                7688979|\n",
      "| February|                6523538|\n",
      "|  January|                7092365|\n",
      "+---------+-----------------------+\n",
      "\n"
     ]
    }
   ],
   "source": [
    "jumlah_record_per_bulan.show(12)"
   ]
  },
  {
   "cell_type": "markdown",
   "id": "f13e7f48",
   "metadata": {},
   "source": [
    "## Statistical Summary Data AIS"
   ]
  },
  {
   "cell_type": "code",
   "execution_count": 7,
   "id": "f9d807cc",
   "metadata": {},
   "outputs": [
    {
     "name": "stdout",
     "output_type": "stream",
     "text": [
      "+-------+--------------------+--------------------+------------------+------------------+------------------+\n",
      "|summary|                mmsi|                 imo|   nav_status_code|  vessel_type_code|         flag_code|\n",
      "+-------+--------------------+--------------------+------------------+------------------+------------------+\n",
      "|  count|            88996526|            49396979|          88996526|          88996526|          87373801|\n",
      "|   mean| 3.955718593709703E8|1.4585489263007926E7|5.4672777114917945| 62.17126814590493|395.20465823616854|\n",
      "| stddev|1.3375405787626667E8|   6.7175274756498E7| 6.600339462843637|20.758994913218373|133.48844301584683|\n",
      "|    min|                   0|                   1|                 0|                 0|               201|\n",
      "|    max|          1073722367|          1073741823|                16|               255|               775|\n",
      "+-------+--------------------+--------------------+------------------+------------------+------------------+\n",
      "\n"
     ]
    }
   ],
   "source": [
    "# MMSI, IMO, Status Navigasi, Tipe Kapal, Negara Kapal\n",
    "\n",
    "# Variabel yang ingin dihitung statistik deskriptif\n",
    "variables_to_describe = [\"mmsi\", \"imo\", \"nav_status_code\", \"vessel_type_code\", \"flag_code\"]\n",
    "\n",
    "# Ambil statistik deskriptif tertentu untuk kolom-kolom tersebut\n",
    "stats_df = data_sampel.select(variables_to_describe).describe()\n",
    "\n",
    "# Pilih statistik tertentu\n",
    "selected_stats = [\"count\", \"mean\", \"stddev\", \"min\", \"25%\", \"50%\", \"75%\", \"max\"]\n",
    "stats_df = stats_df.select([\"summary\"] + [col(var).alias(var) for var in variables_to_describe]).filter(col(\"summary\").isin(selected_stats))\n",
    "\n",
    "# Tampilkan statistik deskriptif\n",
    "stats_df.show()"
   ]
  },
  {
   "cell_type": "code",
   "execution_count": 8,
   "id": "ea393160",
   "metadata": {
    "scrolled": true
   },
   "outputs": [
    {
     "name": "stdout",
     "output_type": "stream",
     "text": [
      "+-------+------------------+------------------+--------------------+-----------------+------------------+------------------+------------------+-----------------+\n",
      "|summary|          latitude|         longitude|                year|            month|               day|              hour|            minute|           second|\n",
      "+-------+------------------+------------------+--------------------+-----------------+------------------+------------------+------------------+-----------------+\n",
      "|  count|          88996526|          88996526|            88996526|         88996526|          88996526|          88996526|          88996526|         88996526|\n",
      "|   mean|24.839926569895294|27.691537992568033|   2021.999999404471|6.515206245241528|15.765656245952792|11.537739832676165| 29.53726906149123|29.34361451367214|\n",
      "| stddev|  26.5039724583369| 87.63593397212726|7.717049408373274E-4|3.373979315200634| 8.846388808618096| 6.923254355883742|17.307282607379648|17.31154116556796|\n",
      "|    min|             -90.0|            -180.0|                2021|                1|                 1|                 0|                 0|                0|\n",
      "|    max|              90.0|             180.0|                2022|               12|                31|                23|                59|               59|\n",
      "+-------+------------------+------------------+--------------------+-----------------+------------------+------------------+------------------+-----------------+\n",
      "\n"
     ]
    }
   ],
   "source": [
    "# Latitude, Longitude, dt_pos_utc\n",
    "\n",
    "# Pemisahan komponen waktu dari kolom dt_pos_utc\n",
    "data_sampel = data_sampel.withColumn(\"year\", year(\"dt_pos_utc\"))\n",
    "data_sampel = data_sampel.withColumn(\"month\", month(\"dt_pos_utc\"))\n",
    "data_sampel = data_sampel.withColumn(\"day\", dayofmonth(\"dt_pos_utc\"))\n",
    "data_sampel = data_sampel.withColumn(\"hour\", hour(\"dt_pos_utc\"))\n",
    "data_sampel = data_sampel.withColumn(\"minute\", minute(\"dt_pos_utc\"))\n",
    "data_sampel = data_sampel.withColumn(\"second\", second(\"dt_pos_utc\"))\n",
    "\n",
    "# Variabel yang ingin dihitung statistik deskriptif\n",
    "variables_to_describe_2 = [\"latitude\", \"longitude\", \"year\", \"month\", \"day\", \"hour\", \"minute\", \"second\"]\n",
    "\n",
    "# Ambil statistik deskriptif tertentu untuk kolom-kolom tersebut\n",
    "stats_df_2 = data_sampel.select(variables_to_describe_2).describe()\n",
    "\n",
    "# Pilih statistik tertentu\n",
    "selected_stats = [\"count\", \"mean\", \"stddev\", \"min\", \"25%\", \"50%\", \"75%\", \"max\"]\n",
    "stats_df_2 = stats_df_2.select([\"summary\"] + [col(var).alias(var) for var in variables_to_describe_2]).filter(col(\"summary\").isin(selected_stats))\n",
    "\n",
    "# Tampilkan statistik deskriptif\n",
    "stats_df_2.show()"
   ]
  },
  {
   "cell_type": "markdown",
   "id": "9f6ffb0d",
   "metadata": {},
   "source": [
    "## Nilai Unik"
   ]
  },
  {
   "cell_type": "markdown",
   "id": "adac1737",
   "metadata": {},
   "source": [
    "### MMSI Unik per Bulan"
   ]
  },
  {
   "cell_type": "code",
   "execution_count": 9,
   "id": "fd2b4887",
   "metadata": {},
   "outputs": [
    {
     "name": "stdout",
     "output_type": "stream",
     "text": [
      "+---------+-----------------+\n",
      "|   months|unique_mmsi_count|\n",
      "+---------+-----------------+\n",
      "|     July|           310532|\n",
      "| November|           281458|\n",
      "| February|           236903|\n",
      "|  January|           253983|\n",
      "|    March|           268823|\n",
      "|  October|           289747|\n",
      "|      May|           291265|\n",
      "|   August|           314024|\n",
      "|    April|           289684|\n",
      "|     June|           295255|\n",
      "| December|           257860|\n",
      "|September|           305440|\n",
      "+---------+-----------------+\n",
      "\n"
     ]
    }
   ],
   "source": [
    "# Hitung jumlah 'mmsi' yang unik per bulan\n",
    "unique_mmsi_per_month = data_sampel.withColumn(\"months\", date_format(\"dt_pos_utc\", \"MMMM\")) \\\n",
    "    .groupBy(\"months\").agg(countDistinct(\"mmsi\").alias(\"unique_mmsi_count\"))\n",
    "\n",
    "# Tampilkan DataFrame Spark\n",
    "unique_mmsi_per_month.show()"
   ]
  },
  {
   "cell_type": "markdown",
   "id": "d5dfb24f",
   "metadata": {},
   "source": [
    "### IMO Unik per Bulan"
   ]
  },
  {
   "cell_type": "code",
   "execution_count": 10,
   "id": "4640536d",
   "metadata": {},
   "outputs": [
    {
     "name": "stdout",
     "output_type": "stream",
     "text": [
      "+---------+----------------+\n",
      "|   months|unique_imo_count|\n",
      "+---------+----------------+\n",
      "|     July|           71362|\n",
      "| November|           70912|\n",
      "| February|           68606|\n",
      "|  January|           70475|\n",
      "|    March|           69970|\n",
      "|  October|           71333|\n",
      "|      May|           71172|\n",
      "|   August|           71549|\n",
      "|    April|           70502|\n",
      "|     June|           71212|\n",
      "| December|           70225|\n",
      "|September|           71452|\n",
      "+---------+----------------+\n",
      "\n"
     ]
    }
   ],
   "source": [
    "# Hitung jumlah 'imo' yang unik per bulan\n",
    "unique_imo_per_month = data_sampel.withColumn(\"months\", date_format(\"dt_pos_utc\", \"MMMM\")) \\\n",
    "    .groupBy(\"months\").agg(countDistinct(\"imo\").alias(\"unique_imo_count\"))\n",
    "\n",
    "# Tampilkan DataFrame Spark\n",
    "unique_imo_per_month.show()"
   ]
  },
  {
   "cell_type": "markdown",
   "id": "ca297b4f",
   "metadata": {},
   "source": [
    "### Status Navigasi Setahun"
   ]
  },
  {
   "cell_type": "code",
   "execution_count": null,
   "id": "b1137eed",
   "metadata": {},
   "outputs": [],
   "source": [
    "# Hitung jumlah 'mmsi' per masing-masing 'nav_status' dengan DataFrame API\n",
    "mmsi_count_per_nav_status = data_sampel.groupBy(\"nav_status\").agg(F.count(\"mmsi\").alias(\"mmsi_count\"))\n",
    "\n",
    "# Tampilkan DataFrame Spark\n",
    "mmsi_count_per_nav_status.show()"
   ]
  },
  {
   "cell_type": "markdown",
   "id": "1982e8af",
   "metadata": {},
   "source": [
    "### Tipe Kapal Setahun"
   ]
  },
  {
   "cell_type": "code",
   "execution_count": null,
   "id": "03aac7bf",
   "metadata": {},
   "outputs": [],
   "source": [
    "# Hitung jumlah 'mmsi' per masing-masing 'vessel_type'\n",
    "mmsi_count_per_vessel_type = data_sampel.groupBy(\"vessel_type\").agg(count(\"mmsi\").alias(\"mmsi_count\"))\n",
    "\n",
    "# Tampilkan DataFrame Spark\n",
    "mmsi_count_per_vessel_type.show()"
   ]
  },
  {
   "cell_type": "markdown",
   "id": "05c3d56b",
   "metadata": {},
   "source": [
    "### Negara Kapal Setahun"
   ]
  },
  {
   "cell_type": "code",
   "execution_count": null,
   "id": "9bd4dd48",
   "metadata": {},
   "outputs": [],
   "source": [
    "# Hitung jumlah 'mmsi' per masing-masing 'flag_country'\n",
    "mmsi_count_per_flag_country = data_sampel.groupBy(\"flag_country\").agg(count(\"mmsi\").alias(\"mmsi_count\"))\n",
    "\n",
    "# Tampilkan DataFrame Spark\n",
    "mmsi_count_per_flag_country.show()"
   ]
  },
  {
   "cell_type": "markdown",
   "id": "bdcb810b",
   "metadata": {},
   "source": [
    "# Quality Assurance"
   ]
  },
  {
   "cell_type": "markdown",
   "id": "3f4a1af1",
   "metadata": {},
   "source": [
    "## MMSI Unik per"
   ]
  },
  {
   "cell_type": "markdown",
   "id": "dd05afbf",
   "metadata": {},
   "source": [
    "### Status Navigasi"
   ]
  },
  {
   "cell_type": "code",
   "execution_count": 11,
   "id": "0c471bad",
   "metadata": {
    "scrolled": true
   },
   "outputs": [
    {
     "name": "stdout",
     "output_type": "stream",
     "text": [
      "+--------------------+--------------------------------+\n",
      "|          nav_status|unique_mmsi_per_nav_status_count|\n",
      "+--------------------+--------------------------------+\n",
      "|              Moored|                          103317|\n",
      "|Restricted Manoeu...|                           13669|\n",
      "|             Aground|                            1981|\n",
      "|         Not Defined|                           36212|\n",
      "|   Not Under Command|                           18338|\n",
      "|  Engaged In Fishing|                            7059|\n",
      "|    Underway Sailing|                           25453|\n",
      "|             Unknown|                          411470|\n",
      "|           At Anchor|                           85960|\n",
      "|Under Way Using E...|                          172355|\n",
      "+--------------------+--------------------------------+\n",
      "\n"
     ]
    }
   ],
   "source": [
    "# Hitung jumlah 'mmsi' yang unik berdasarkan 'nav_status'\n",
    "unique_mmsi_per_nav_status = data_sampel.groupBy(\"nav_status\").agg(countDistinct(\"mmsi\").alias(\"unique_mmsi_per_nav_status_count\"))\n",
    "\n",
    "# Tampilkan DataFrame Spark\n",
    "unique_mmsi_per_nav_status.show()"
   ]
  },
  {
   "cell_type": "markdown",
   "id": "e79689f4",
   "metadata": {},
   "source": [
    "### Tipe Kapal"
   ]
  },
  {
   "cell_type": "code",
   "execution_count": 12,
   "id": "a93f2c9b",
   "metadata": {},
   "outputs": [
    {
     "name": "stdout",
     "output_type": "stream",
     "text": [
      "+--------------------+---------------------------------+\n",
      "|         vessel_type|unique_mmsi_per_vessel_type_count|\n",
      "+--------------------+---------------------------------+\n",
      "|             Sailing|                            67649|\n",
      "|              Tanker|                            25376|\n",
      "|Ships Not Party t...|                              318|\n",
      "|            Military|                             2152|\n",
      "|              Towing|                             6938|\n",
      "|            Reserved|                             3165|\n",
      "|                 SAR|                             4329|\n",
      "|             Unknown|                           110671|\n",
      "|               Other|                            19461|\n",
      "|         UNAVAILABLE|                             5139|\n",
      "|                 Tug|                            22275|\n",
      "|     Law Enforcement|                             2650|\n",
      "|      Pleasure Craft|                            72881|\n",
      "|           Passenger|                            17351|\n",
      "|              Diving|                             1019|\n",
      "|             Fishing|                           136741|\n",
      "|         Port Tender|                             2809|\n",
      "|               Spare|                             2260|\n",
      "|   Medical Transport|                              119|\n",
      "|                 WIG|                             2158|\n",
      "+--------------------+---------------------------------+\n",
      "only showing top 20 rows\n",
      "\n"
     ]
    }
   ],
   "source": [
    "# Hitung jumlah 'mmsi' yang unik berdasarkan 'vessel_type'\n",
    "unique_mmsi_per_vessel_type = data_sampel.groupBy(\"vessel_type\").agg(countDistinct(\"mmsi\").alias(\"unique_mmsi_per_vessel_type_count\"))\n",
    "\n",
    "# Tampilkan DataFrame Spark\n",
    "unique_mmsi_per_vessel_type.show()"
   ]
  },
  {
   "cell_type": "markdown",
   "id": "6be9b9a8",
   "metadata": {},
   "source": [
    "### Negara Kapal"
   ]
  },
  {
   "cell_type": "code",
   "execution_count": 13,
   "id": "5041ac75",
   "metadata": {},
   "outputs": [
    {
     "name": "stdout",
     "output_type": "stream",
     "text": [
      "+------------------+----------------------------------+\n",
      "|      flag_country|unique_mmsi_per_flag_country_count|\n",
      "+------------------+----------------------------------+\n",
      "|          Paraguay|                               220|\n",
      "|          Anguilla|                                99|\n",
      "|             Macao|                                79|\n",
      "|             Yemen|                                45|\n",
      "|           Senegal|                                92|\n",
      "|            Sweden|                              8263|\n",
      "|          Kiribati|                               110|\n",
      "|            Guyana|                               110|\n",
      "|       Philippines|                               974|\n",
      "|           Eritrea|                                44|\n",
      "|          Djibouti|                                75|\n",
      "|         Singapore|                              5654|\n",
      "|          Malaysia|                              2664|\n",
      "|              Fiji|                               139|\n",
      "|            Turkey|                              4448|\n",
      "|            Malawi|                                30|\n",
      "|              Iraq|                                94|\n",
      "|           Germany|                             15945|\n",
      "|           Comoros|                               379|\n",
      "|Crozet Archipelago|                                55|\n",
      "+------------------+----------------------------------+\n",
      "only showing top 20 rows\n",
      "\n"
     ]
    }
   ],
   "source": [
    "# Filter out rows where 'flag_country' is not null\n",
    "df_filtered = data_sampel.filter(col(\"flag_country\").isNotNull())\n",
    "\n",
    "# Hitung jumlah 'mmsi' yang unik berdasarkan 'flag_country'\n",
    "unique_mmsi_per_flag_country = df_filtered.groupBy(\"flag_country\").agg(countDistinct(\"mmsi\").alias(\"unique_mmsi_per_flag_country_count\"))\n",
    "\n",
    "# Tampilkan DataFrame Spark\n",
    "unique_mmsi_per_flag_country.show() "
   ]
  },
  {
   "cell_type": "markdown",
   "id": "2a68129d",
   "metadata": {},
   "source": [
    "## IMO Unik per"
   ]
  },
  {
   "cell_type": "markdown",
   "id": "8328129b",
   "metadata": {},
   "source": [
    "### Status Navigasi"
   ]
  },
  {
   "cell_type": "code",
   "execution_count": 14,
   "id": "b9d411ae",
   "metadata": {},
   "outputs": [
    {
     "name": "stdout",
     "output_type": "stream",
     "text": [
      "+--------------------------+-------------------------------+\n",
      "|nav_status                |unique_imo_per_nav_status_count|\n",
      "+--------------------------+-------------------------------+\n",
      "|Moored                    |62323                          |\n",
      "|Restricted Manoeuvrability|10961                          |\n",
      "|Aground                   |969                            |\n",
      "|Not Defined               |9227                           |\n",
      "|Not Under Command         |16623                          |\n",
      "|Engaged In Fishing        |3304                           |\n",
      "|Underway Sailing          |16780                          |\n",
      "|Unknown                   |12126                          |\n",
      "|At Anchor                 |54210                          |\n",
      "|Under Way Using Engine    |72170                          |\n",
      "+--------------------------+-------------------------------+\n",
      "\n"
     ]
    }
   ],
   "source": [
    "# Hitung jumlah 'mmsi' yang unik berdasarkan 'nav_status'\n",
    "unique_imo_per_nav_status = data_sampel.select(\"imo\",\"nav_status\").groupBy(\"nav_status\").agg(countDistinct(\"imo\").alias(\"unique_imo_per_nav_status_count\"))\n",
    "\n",
    "# Tampilkan DataFrame Spark\n",
    "unique_imo_per_nav_status.show(unique_imo_per_nav_status.count(), truncate=False)"
   ]
  },
  {
   "cell_type": "markdown",
   "id": "c4c06e1b",
   "metadata": {},
   "source": [
    "### Tipe Kapal"
   ]
  },
  {
   "cell_type": "code",
   "execution_count": 15,
   "id": "985b77f5",
   "metadata": {},
   "outputs": [
    {
     "name": "stdout",
     "output_type": "stream",
     "text": [
      "+------------------------------------+--------------------------------+\n",
      "|vessel_type                         |unique_imo_per_vessel_type_count|\n",
      "+------------------------------------+--------------------------------+\n",
      "|Sailing                             |870                             |\n",
      "|Tanker                              |15786                           |\n",
      "|Ships Not Party to Armed Conflict   |127                             |\n",
      "|Military                            |528                             |\n",
      "|Towing                              |2133                            |\n",
      "|Reserved                            |1047                            |\n",
      "|SAR                                 |527                             |\n",
      "|Unknown                             |7109                            |\n",
      "|Other                               |7326                            |\n",
      "|UNAVAILABLE                         |97                              |\n",
      "|Tug                                 |8750                            |\n",
      "|Law Enforcement                     |518                             |\n",
      "|Pleasure Craft                      |2695                            |\n",
      "|Passenger                           |5496                            |\n",
      "|Diving                              |240                             |\n",
      "|Fishing                             |8380                            |\n",
      "|Port Tender                         |262                             |\n",
      "|Spare                               |856                             |\n",
      "|Pilot                               |450                             |\n",
      "|WIG                                 |593                             |\n",
      "|Dredging                            |1223                            |\n",
      "|Not Available                       |479                             |\n",
      "|Cargo                               |35309                           |\n",
      "|Vessel With Anti-Pollution Equipment|203                             |\n",
      "|HSC                                 |1213                            |\n",
      "|Medical Transport                   |29                              |\n",
      "+------------------------------------+--------------------------------+\n",
      "\n"
     ]
    }
   ],
   "source": [
    "# Hitung jumlah 'mmsi' yang unik berdasarkan 'vessel_type'\n",
    "unique_imo_per_vessel_type = data_sampel.select(\"imo\",\"vessel_type\").groupBy(\"vessel_type\").agg(countDistinct(\"imo\").alias(\"unique_imo_per_vessel_type_count\"))\n",
    "\n",
    "# Tampilkan DataFrame Spark\n",
    "unique_imo_per_vessel_type.show(unique_imo_per_vessel_type.count(), truncate=False)"
   ]
  },
  {
   "cell_type": "markdown",
   "id": "bb923eda",
   "metadata": {},
   "source": [
    "### Negara Kapal"
   ]
  },
  {
   "cell_type": "code",
   "execution_count": 16,
   "id": "d7b6671f",
   "metadata": {},
   "outputs": [
    {
     "name": "stdout",
     "output_type": "stream",
     "text": [
      "+--------------------------------+---------------------------------+\n",
      "|flag_country                    |unique_imo_per_flag_country_count|\n",
      "+--------------------------------+---------------------------------+\n",
      "|Paraguay                        |64                               |\n",
      "|Senegal                         |36                               |\n",
      "|Sweden                          |341                              |\n",
      "|Kiribati                        |52                               |\n",
      "|Guyana                          |70                               |\n",
      "|Philippines                     |620                              |\n",
      "|Tonga                           |8                                |\n",
      "|Singapore                       |3349                             |\n",
      "|Malaysia                        |1014                             |\n",
      "|Fiji                            |33                               |\n",
      "|Turkey                          |781                              |\n",
      "|Germany                         |783                              |\n",
      "|Comoros                         |294                              |\n",
      "|Cambodia                        |11                               |\n",
      "|Maldives                        |10                               |\n",
      "|Palau                           |478                              |\n",
      "|France                          |720                              |\n",
      "|Greece                          |1394                             |\n",
      "|Sri Lanka                       |138                              |\n",
      "|Taiwan                          |476                              |\n",
      "|British Virgin Islands          |55                               |\n",
      "|Algeria                         |92                               |\n",
      "|Togo                            |338                              |\n",
      "|Equatorial Guinea               |39                               |\n",
      "|Slovakia                        |13                               |\n",
      "|null                            |249                              |\n",
      "|Reunion                         |23                               |\n",
      "|Adelie Land                     |1                                |\n",
      "|Argentina                       |522                              |\n",
      "|Belgium                         |398                              |\n",
      "|Qatar                           |129                              |\n",
      "|Ecuador                         |194                              |\n",
      "|Finland                         |258                              |\n",
      "|Sierra Leone                    |469                              |\n",
      "|Peru                            |164                              |\n",
      "|Bahamas                         |1231                             |\n",
      "|China                           |7529                             |\n",
      "|India                           |1099                             |\n",
      "|Malta                           |2727                             |\n",
      "|Kuwait                          |121                              |\n",
      "|Sao Tome and Principe           |25                               |\n",
      "|Marshall Islands                |5116                             |\n",
      "|Tuvalu                          |255                              |\n",
      "|Chile                           |317                              |\n",
      "|Cayman Islands                  |1025                             |\n",
      "|Croatia                         |223                              |\n",
      "|Nigeria                         |625                              |\n",
      "|Wallis and Futuna Islands       |17                               |\n",
      "|Bolivia                         |30                               |\n",
      "|Italy                           |1271                             |\n",
      "|Netherlands Antilles            |55                               |\n",
      "|Norway                          |2303                             |\n",
      "|Turkmenistan                    |53                               |\n",
      "|Spain                           |960                              |\n",
      "|Cuba                            |37                               |\n",
      "|Tahiti                          |18                               |\n",
      "|Denmark                         |933                              |\n",
      "|Barbados                        |316                              |\n",
      "|Bangladesh                      |126                              |\n",
      "|Iran                            |889                              |\n",
      "|Russian Federation              |3430                             |\n",
      "|Ireland                         |144                              |\n",
      "|Thailand                        |495                              |\n",
      "|Morocco                         |125                              |\n",
      "|Panama                          |8293                             |\n",
      "|Hong Kong                       |2726                             |\n",
      "|Nauru                           |24                               |\n",
      "|Ukraine                         |104                              |\n",
      "|Venezuela                       |117                              |\n",
      "|Iceland                         |202                              |\n",
      "|Israel                          |32                               |\n",
      "|Saint Kitts and Nevis           |346                              |\n",
      "|USA                             |4423                             |\n",
      "|Oman                            |45                               |\n",
      "|North Korea                     |131                              |\n",
      "|South Korea                     |1646                             |\n",
      "|Cyprus                          |1157                             |\n",
      "|Gibraltar                       |171                              |\n",
      "|Uruguay                         |63                               |\n",
      "|Mexico                          |524                              |\n",
      "|Estonia                         |102                              |\n",
      "|Georgia                         |43                               |\n",
      "|Montenegro                      |20                               |\n",
      "|Indonesia                       |3658                             |\n",
      "|Saint Vincent and the Grenadines|791                              |\n",
      "|Guatemala                       |9                                |\n",
      "|Mongolia                        |262                              |\n",
      "|Azerbaijan                      |229                              |\n",
      "|Liberia                         |5629                             |\n",
      "|Tunisia                         |49                               |\n",
      "|Syria                           |6                                |\n",
      "|Honduras                        |31                               |\n",
      "|UK                              |1816                             |\n",
      "|Saudi Arabia                    |333                              |\n",
      "|Namibia                         |72                               |\n",
      "|Switzerland                     |69                               |\n",
      "|United Arab Emirates            |636                              |\n",
      "|Azores                          |274                              |\n",
      "|Canada                          |666                              |\n",
      "|Faroe Islands                   |177                              |\n",
      "|Cook Islands                    |229                              |\n",
      "|Belize                          |601                              |\n",
      "|Brazil                          |556                              |\n",
      "|Lebanon                         |32                               |\n",
      "|Antigua and Barbuda             |694                              |\n",
      "|Dominican Republic              |21                               |\n",
      "|Japan                           |2541                             |\n",
      "|Tanzania                        |329                              |\n",
      "|Luxembourg                      |196                              |\n",
      "|New Zealand                     |85                               |\n",
      "|Greenland                       |56                               |\n",
      "|Poland                          |143                              |\n",
      "|Portugal                        |111                              |\n",
      "|Cameroon                        |271                              |\n",
      "|Australia                       |412                              |\n",
      "|Papua New Guinea                |93                               |\n",
      "|Guinea-Bissau                   |35                               |\n",
      "|Romania                         |96                               |\n",
      "|Solomon Islands                 |10                               |\n",
      "|Egypt                           |173                              |\n",
      "|Kazakhstan                      |91                               |\n",
      "|South Africa                    |72                               |\n",
      "|Bermuda                         |175                              |\n",
      "|Bahrain                         |134                              |\n",
      "|Colombia                        |99                               |\n",
      "|Vanuatu                         |418                              |\n",
      "|Vatican City                    |5                                |\n",
      "|Niue                            |61                               |\n",
      "|Madeira                         |898                              |\n",
      "|Mauritius                       |39                               |\n",
      "|Vietnam                         |1263                             |\n",
      "|Netherlands                     |2214                             |\n",
      "|Jordan                          |30                               |\n",
      "|Kerguelen Islands               |21                               |\n",
      "|Angola                          |37                               |\n",
      "|Albania                         |44                               |\n",
      "|Nicaragua                       |6                                |\n",
      "|Ghana                           |42                               |\n",
      "|Somalia                         |35                               |\n",
      "|Lithuania                       |69                               |\n",
      "|Saint Pierre and Miquelon       |5                                |\n",
      "|Mauritania                      |21                               |\n",
      "|Guadeloupe                      |8                                |\n",
      "|Alaska                          |116                              |\n",
      "|Trinidad and Tobago             |50                               |\n",
      "|Jamaica                         |116                              |\n",
      "|Latvia                          |97                               |\n",
      "|Brunei                          |42                               |\n",
      "|Seychelles                      |47                               |\n",
      "|Samoa                           |17                               |\n",
      "|Gambia                          |11                               |\n",
      "|Bulgaria                        |40                               |\n",
      "|Pakistan                        |43                               |\n",
      "|Moldova                         |100                              |\n",
      "|Anguilla                        |7                                |\n",
      "|Madagascar                      |6                                |\n",
      "|Armenia                         |3                                |\n",
      "|French Guiana                   |8                                |\n",
      "|Mozambique                      |15                               |\n",
      "|Djibouti                        |29                               |\n",
      "|Iraq                            |28                               |\n",
      "|Dominica                        |58                               |\n",
      "|Gabon                           |84                               |\n",
      "|Bhutan                          |10                               |\n",
      "|Monaco                          |9                                |\n",
      "|Grenada                         |4                                |\n",
      "|Guinea                          |8                                |\n",
      "|Macedonia                       |7                                |\n",
      "|Czech Republic                  |9                                |\n",
      "|Slovenia                        |6                                |\n",
      "|Micronesia                      |38                               |\n",
      "|Rwanda                          |1                                |\n",
      "|Saint Helena                    |6                                |\n",
      "|Ivory Coast                     |4                                |\n",
      "|Sudan                           |2                                |\n",
      "|Ascension Island                |4                                |\n",
      "|Andorra                         |5                                |\n",
      "|Cape Verde                      |22                               |\n",
      "|Libya                           |35                               |\n",
      "|Zambia                          |2                                |\n",
      "|Ethiopia                        |12                               |\n",
      "|Falkland Islands                |22                               |\n",
      "|El Salvador                     |11                               |\n",
      "|Hungary                         |2                                |\n",
      "|Montserrat                      |1                                |\n",
      "|Burundi                         |1                                |\n",
      "|Suriname                        |3                                |\n",
      "|Kenya                           |12                               |\n",
      "|Serbia                          |3                                |\n",
      "|Yemen                           |7                                |\n",
      "|New Caledonia                   |24                               |\n",
      "|Congo                           |11                               |\n",
      "|Aruba                           |1                                |\n",
      "|San Marino                      |5                                |\n",
      "|Saint Paul and Amsterdam Islands|2                                |\n",
      "|Eritrea                         |2                                |\n",
      "|Myanmar                         |33                               |\n",
      "|Cocos Islands                   |2                                |\n",
      "|Mali                            |0                                |\n",
      "|Crozet Archipelago              |1                                |\n",
      "|Afghanistan                     |0                                |\n",
      "|Pitcairn Island                 |11                               |\n",
      "|Lesotho                         |1                                |\n",
      "|Tajikistan                      |1                                |\n",
      "|Puerto Rico                     |0                                |\n",
      "|Martinique                      |3                                |\n",
      "|Palestine                       |0                                |\n",
      "|Uzbekistan                      |3                                |\n",
      "|Belarus                         |2                                |\n",
      "|Niger                           |3                                |\n",
      "|Saint Lucia                     |3                                |\n",
      "|Haiti                           |3                                |\n",
      "|Costa Rica                      |7                                |\n",
      "|Chad                            |1                                |\n",
      "|Malawi                          |1                                |\n",
      "|Laos                            |1                                |\n",
      "|Austria                         |8                                |\n",
      "|Northern Mariana                |5                                |\n",
      "|Central African Republic        |3                                |\n",
      "|Uganda                          |1                                |\n",
      "|Macao                           |0                                |\n",
      "|Liechtenstein                   |3                                |\n",
      "|US Virgin Islands               |1                                |\n",
      "|Benin                           |1                                |\n",
      "|Kyrgyzstan                      |3                                |\n",
      "|South Sudan                     |1                                |\n",
      "|Bosnia and Herzegovina          |0                                |\n",
      "|Nepal                           |0                                |\n",
      "|Burkina Faso                    |0                                |\n",
      "|Turks and Caicos Islands        |0                                |\n",
      "|Zimbabwe                        |0                                |\n",
      "|Botswana                        |0                                |\n",
      "|Swaziland                       |0                                |\n",
      "|Christmas Island                |0                                |\n",
      "|American Samoa                  |0                                |\n",
      "+--------------------------------+---------------------------------+\n",
      "\n"
     ]
    }
   ],
   "source": [
    "# Hitung jumlah 'mmsi' yang unik berdasarkan 'vessel_type'\n",
    "unique_imo_per_flag_country = data_sampel.select(\"imo\",\"flag_country\").groupBy(\"flag_country\").agg(countDistinct(\"imo\").alias(\"unique_imo_per_flag_country_count\"))\n",
    "\n",
    "# Tampilkan DataFrame Spark\n",
    "unique_imo_per_flag_country.show(unique_imo_per_flag_country.count(), truncate=False)"
   ]
  },
  {
   "cell_type": "markdown",
   "id": "0f25f9dc",
   "metadata": {},
   "source": [
    "## Nilai Valid"
   ]
  },
  {
   "cell_type": "markdown",
   "id": "2a711397",
   "metadata": {},
   "source": [
    "### MMSI Valid"
   ]
  },
  {
   "cell_type": "code",
   "execution_count": 12,
   "id": "97d94395",
   "metadata": {},
   "outputs": [
    {
     "name": "stdout",
     "output_type": "stream",
     "text": [
      "+---------+----------+\n",
      "|   months|mmsi_valid|\n",
      "+---------+----------+\n",
      "|     July|   8180319|\n",
      "|  January|   7092365|\n",
      "|  October|   7692290|\n",
      "|      May|   7687858|\n",
      "|   August|   7956939|\n",
      "|    April|   7515300|\n",
      "|     June|   7702391|\n",
      "|September|   7664096|\n",
      "| February|   6523538|\n",
      "| December|   7332324|\n",
      "|    March|   7495299|\n",
      "| November|   6142451|\n",
      "+---------+----------+\n",
      "\n"
     ]
    }
   ],
   "source": [
    "# Definisikan nilai mmsi yang valid\n",
    "nilai_valid = [100000000, 999999999]\n",
    "\n",
    "# Jumlah mmsi yang valid\n",
    "jumlah_mmsi_valid_per_bulan = data_sampel.withColumn(\"months\", F.date_format(\"dt_pos_utc\", \"MMMM\")) \\\n",
    "    .filter(data_sampel['mmsi'].between(nilai_valid[0], nilai_valid[1])) \\\n",
    "    .groupBy(\"months\").agg(F.count(\"mmsi\").alias(\"mmsi_valid\"))\n",
    "\n",
    "# Buat DataFrame hasil\n",
    "mmsi_valid = jumlah_mmsi_valid_per_bulan\n",
    "\n",
    "# Tampilkan hasil\n",
    "mmsi_valid.show()"
   ]
  },
  {
   "cell_type": "markdown",
   "id": "f62fb4e9",
   "metadata": {},
   "source": [
    "### IMO Valid"
   ]
  },
  {
   "cell_type": "code",
   "execution_count": 13,
   "id": "dfd132b5",
   "metadata": {},
   "outputs": [
    {
     "name": "stdout",
     "output_type": "stream",
     "text": [
      "+---------+---------+\n",
      "|   months|imo_valid|\n",
      "+---------+---------+\n",
      "|     July|  4264089|\n",
      "| November|  3303518|\n",
      "|    March|  4052453|\n",
      "|  October|  4232146|\n",
      "|   August|  4276330|\n",
      "|    April|  4012972|\n",
      "|     June|  4005177|\n",
      "| December|  4125890|\n",
      "|September|  4114450|\n",
      "|      May|  4081545|\n",
      "|  January|  3892366|\n",
      "| February|  3710542|\n",
      "+---------+---------+\n",
      "\n"
     ]
    }
   ],
   "source": [
    "# Definisikan nilai imo yang valid\n",
    "nilai_valid = [1000000, 9999999]\n",
    "\n",
    "# Hitung jumlah imo valid per bulan\n",
    "jumlah_imo_valid_per_bulan = data_sampel.withColumn(\"months\", F.date_format(\"dt_pos_utc\", \"MMMM\")) \\\n",
    "    .filter(data_sampel['imo'].between(nilai_valid[0], nilai_valid[1])) \\\n",
    "    .groupBy(\"months\").agg(F.count(\"imo\").alias(\"imo_valid\"))\n",
    "\n",
    "# Buat DataFrame hasil\n",
    "imo_valid = jumlah_imo_valid_per_bulan\n",
    "\n",
    "# Tampilkan hasil\n",
    "imo_valid.show() "
   ]
  },
  {
   "cell_type": "markdown",
   "id": "e89f2243",
   "metadata": {},
   "source": [
    "### Status Navigasi Valid"
   ]
  },
  {
   "cell_type": "code",
   "execution_count": 14,
   "id": "26acc58b",
   "metadata": {},
   "outputs": [
    {
     "name": "stdout",
     "output_type": "stream",
     "text": [
      "+---------+---------------------+\n",
      "|   months|nav_status_code_valid|\n",
      "+---------+---------------------+\n",
      "| November|              4578294|\n",
      "|    March|              5492513|\n",
      "|  October|              5663560|\n",
      "|   August|              5754012|\n",
      "| December|              5513175|\n",
      "|September|              5550344|\n",
      "|    April|              5422589|\n",
      "|     June|              5508218|\n",
      "|     July|              5833525|\n",
      "|      May|              5565943|\n",
      "|  January|              5295222|\n",
      "| February|              4972545|\n",
      "+---------+---------------------+\n",
      "\n"
     ]
    }
   ],
   "source": [
    "# Definisikan nilai nav_status_code yang valid\n",
    "nilai_valid = [0, 14]\n",
    "\n",
    "# Hitung jumlah nav_status_code  valid per bulan\n",
    "jumlah_nav_status_code_valid_per_bulan = data_sampel.withColumn(\"months\", F.date_format(\"dt_pos_utc\", \"MMMM\")) \\\n",
    "    .filter(data_sampel['nav_status_code'].between(nilai_valid[0], nilai_valid[1])) \\\n",
    "    .groupBy(\"months\").agg(F.count(\"nav_status_code\").alias(\"nav_status_code_valid\"))\n",
    "\n",
    "# Buat DataFrame hasil\n",
    "nav_status_code_valid = jumlah_nav_status_code_valid_per_bulan\n",
    "\n",
    "# Tampilkan hasil\n",
    "nav_status_code_valid.show() "
   ]
  },
  {
   "cell_type": "markdown",
   "id": "8c2232c7",
   "metadata": {},
   "source": [
    "### Tipe Kapal Valid"
   ]
  },
  {
   "cell_type": "code",
   "execution_count": 15,
   "id": "dc3a71d4",
   "metadata": {},
   "outputs": [
    {
     "name": "stdout",
     "output_type": "stream",
     "text": [
      "+---------+----------------------+\n",
      "|   months|vessel_type_code_valid|\n",
      "+---------+----------------------+\n",
      "| November|               6143471|\n",
      "|    March|               7479988|\n",
      "|  October|               7684138|\n",
      "|   August|               7948482|\n",
      "| December|               7323787|\n",
      "|September|               7655915|\n",
      "|     July|               8166596|\n",
      "|    April|               7497828|\n",
      "|     June|               7689837|\n",
      "|      May|               7675549|\n",
      "|  January|               7076010|\n",
      "| February|               6510712|\n",
      "+---------+----------------------+\n",
      "\n"
     ]
    }
   ],
   "source": [
    "# Definisikan nilai vessel_type_code yang valid\n",
    "nilai_valid = [1, 255]\n",
    "\n",
    "# Hitung jumlah vessel_type_code  valid per bulan\n",
    "jumlah_vessel_type_code_valid_per_bulan = data_sampel.withColumn(\"months\", F.date_format(\"dt_pos_utc\", \"MMMM\")) \\\n",
    "    .filter(data_sampel['vessel_type_code'].between(nilai_valid[0], nilai_valid[1])) \\\n",
    "    .groupBy(\"months\").agg(F.count(\"vessel_type_code\").alias(\"vessel_type_code_valid\"))\n",
    "\n",
    "# Buat DataFrame hasil\n",
    "vessel_type_code_valid = jumlah_vessel_type_code_valid_per_bulan\n",
    "\n",
    "# Tampilkan hasil\n",
    "vessel_type_code_valid.show() "
   ]
  },
  {
   "cell_type": "markdown",
   "id": "9b73acab",
   "metadata": {},
   "source": [
    "### Negara Kapal Valid"
   ]
  },
  {
   "cell_type": "code",
   "execution_count": 16,
   "id": "d0d1df03",
   "metadata": {},
   "outputs": [
    {
     "name": "stdout",
     "output_type": "stream",
     "text": [
      "+---------+-----------------------+\n",
      "|   months|flag_country_code_valid|\n",
      "+---------+-----------------------+\n",
      "| November|                4670991|\n",
      "|    March|                7495299|\n",
      "|  October|                7692290|\n",
      "|   August|                7956939|\n",
      "| December|                7332324|\n",
      "|September|                7664096|\n",
      "|     July|                8180319|\n",
      "|      May|                7547949|\n",
      "|    April|                7515300|\n",
      "|     June|                7702391|\n",
      "|  January|                7092365|\n",
      "| February|                6523538|\n",
      "+---------+-----------------------+\n",
      "\n"
     ]
    }
   ],
   "source": [
    "# Definisikan nilai flag_country_code yang valid\n",
    "nilai_valid = [201, 775]\n",
    "\n",
    "# Hitung jumlah flag_country_code tidak valid per bulan\n",
    "jumlah_flag_country_code_valid_per_bulan = data_sampel.withColumn(\"months\", F.date_format(\"dt_pos_utc\", \"MMMM\")) \\\n",
    "    .filter(data_sampel['flag_code'].between(nilai_valid[0], nilai_valid[1])) \\\n",
    "    .groupBy(\"months\").agg(F.count(\"flag_code\").alias(\"flag_country_code_valid\"))\n",
    "\n",
    "# Buat DataFrame hasil\n",
    "flag_country_code_valid = jumlah_flag_country_code_valid_per_bulan\n",
    "\n",
    "# Tampilkan hasil\n",
    "flag_country_code_valid.show() "
   ]
  },
  {
   "cell_type": "markdown",
   "id": "b8a3e9a9",
   "metadata": {},
   "source": [
    "### Latitude & Longitude Valid"
   ]
  },
  {
   "cell_type": "code",
   "execution_count": 17,
   "id": "086d2eba",
   "metadata": {},
   "outputs": [
    {
     "name": "stdout",
     "output_type": "stream",
     "text": [
      "+---------+--------------+\n",
      "|   months|latitude_valid|\n",
      "+---------+--------------+\n",
      "| November|       6152686|\n",
      "|    March|       7495299|\n",
      "|  October|       7692290|\n",
      "|   August|       7956939|\n",
      "| December|       7332324|\n",
      "|September|       7664096|\n",
      "|     July|       8180319|\n",
      "|    April|       7515300|\n",
      "|     June|       7702391|\n",
      "|      May|       7688979|\n",
      "| February|       6523538|\n",
      "|  January|       7092365|\n",
      "+---------+--------------+\n",
      "\n"
     ]
    }
   ],
   "source": [
    "# Definisikan nilai latitude yang valid\n",
    "nilai_valid = [-90, 90]\n",
    "\n",
    "# Hitung jumlah latitude tidak valid per bulan\n",
    "jumlah_latitude_valid_per_bulan = data_sampel.withColumn(\"months\", F.date_format(\"dt_pos_utc\", \"MMMM\")) \\\n",
    "    .filter(data_sampel['latitude'].between(nilai_valid[0], nilai_valid[1])) \\\n",
    "    .groupBy(\"months\").agg(F.count(\"latitude\").alias(\"latitude_valid\"))\n",
    "\n",
    "# Buat DataFrame hasil\n",
    "latitude_valid = jumlah_latitude_valid_per_bulan\n",
    "\n",
    "# Tampilkan hasil\n",
    "latitude_valid.show() "
   ]
  },
  {
   "cell_type": "code",
   "execution_count": 18,
   "id": "44389510",
   "metadata": {},
   "outputs": [
    {
     "name": "stdout",
     "output_type": "stream",
     "text": [
      "+---------+---------------+\n",
      "|   months|longitude_valid|\n",
      "+---------+---------------+\n",
      "| December|        7332324|\n",
      "|     July|        8180319|\n",
      "| November|        6152686|\n",
      "|    March|        7495299|\n",
      "|  October|        7692290|\n",
      "|   August|        7956939|\n",
      "|    April|        7515300|\n",
      "|     June|        7702391|\n",
      "|September|        7664096|\n",
      "|      May|        7688979|\n",
      "| February|        6523538|\n",
      "|  January|        7092365|\n",
      "+---------+---------------+\n",
      "\n"
     ]
    }
   ],
   "source": [
    "# Definisikan nilai longitude yang valid\n",
    "nilai_valid = [-180, 180]\n",
    "\n",
    "# Hitung jumlah longitude tidak valid per bulan\n",
    "jumlah_longitude_valid_per_bulan = data_sampel.withColumn(\"months\", F.date_format(\"dt_pos_utc\", \"MMMM\")) \\\n",
    "    .filter(data_sampel['longitude'].between(nilai_valid[0], nilai_valid[1])) \\\n",
    "    .groupBy(\"months\").agg(F.count(\"longitude\").alias(\"longitude_valid\"))\n",
    "\n",
    "# Buat DataFrame hasil\n",
    "longitude_valid = jumlah_longitude_valid_per_bulan\n",
    "\n",
    "# Tampilkan hasil\n",
    "longitude_valid.show()"
   ]
  },
  {
   "cell_type": "markdown",
   "id": "39e45766",
   "metadata": {},
   "source": [
    "### dt_pos_utc Valid"
   ]
  },
  {
   "cell_type": "code",
   "execution_count": 19,
   "id": "eb873bed",
   "metadata": {},
   "outputs": [
    {
     "name": "stdout",
     "output_type": "stream",
     "text": [
      "+---------+----------------+\n",
      "|   months|dt_pos_utc_valid|\n",
      "+---------+----------------+\n",
      "| November|         6152686|\n",
      "|    March|         7495299|\n",
      "|  October|         7692290|\n",
      "|   August|         7956939|\n",
      "| December|         7332324|\n",
      "|September|         7664096|\n",
      "|     July|         8180319|\n",
      "|    April|         7515300|\n",
      "|     June|         7702391|\n",
      "|      May|         7688979|\n",
      "| February|         6523538|\n",
      "|  January|         7092365|\n",
      "+---------+----------------+\n",
      "\n"
     ]
    }
   ],
   "source": [
    "# Definisikan pola regex untuk nilai 'dt_pos_utc' yang valid\n",
    "pattern = \"^[1-9][0-9]{0,3}-[1-9]|0[1-9]|1[0-2]-[1-9]|0[1-9]|[1-2][0-9]|3[0-1] [0-9]|0[0-9]|1[0-9]|2[0-3]:[0-5][0-9]:[0-5][0-9]$\"\n",
    "\n",
    "# Filter data untuk mendapatkan hanya nilai 'dt_pos_utc' yang tidak valid\n",
    "dt_pos_utc_valid_per_bulan = data_sampel.withColumn(\"months\", F.date_format(\"dt_pos_utc\", \"MMMM\")) \\\n",
    "    .filter(F.col(\"dt_pos_utc\").rlike(pattern)) \\\n",
    "    .groupBy(\"months\").agg(F.count(\"dt_pos_utc\").alias(\"dt_pos_utc_valid\"))\n",
    "\n",
    "# Buat DataFrame hasil\n",
    "dt_pos_utc_valid = dt_pos_utc_valid_per_bulan\n",
    "\n",
    "# Tampilkan hasil\n",
    "dt_pos_utc_valid.show()  "
   ]
  },
  {
   "cell_type": "markdown",
   "id": "f8c5dc41",
   "metadata": {},
   "source": [
    "## Nilai Default"
   ]
  },
  {
   "cell_type": "markdown",
   "id": "ecb3eb4f",
   "metadata": {},
   "source": [
    "### MMSI dengan Nilai Default per Bulan"
   ]
  },
  {
   "cell_type": "code",
   "execution_count": 20,
   "id": "00f6e273",
   "metadata": {},
   "outputs": [
    {
     "name": "stdout",
     "output_type": "stream",
     "text": [
      "+--------+-------+------------------+\n",
      "|  months|   mmsi|mmsi_count_default|\n",
      "+--------+-------+------------------+\n",
      "|November|      0|                59|\n",
      "|November|1193046|                19|\n",
      "|     May|      0|                 1|\n",
      "+--------+-------+------------------+\n",
      "\n"
     ]
    }
   ],
   "source": [
    "# Tentukan nilai yang ingin dihitung\n",
    "default_value_1 = 0\n",
    "default_value_2 = 1193046\n",
    "\n",
    "# Hitung jumlah 'mmsi' dengan nilai default per bulan\n",
    "mmsi_default_per_month = data_sampel.withColumn(\"months\", F.date_format(\"dt_pos_utc\", \"MMMM\")) \\\n",
    "    .filter((F.col(\"mmsi\") == default_value_1) | (F.col(\"mmsi\") == default_value_2)) \\\n",
    "    .groupBy(\"months\", \"mmsi\").agg(F.count(\"mmsi\").alias(\"mmsi_count_default\"))\n",
    "\n",
    "# Tampilkan DataFrame Spark hasil akhir\n",
    "mmsi_default_per_month.show()"
   ]
  },
  {
   "cell_type": "markdown",
   "id": "94ce641f",
   "metadata": {},
   "source": [
    "### IMO dengan Nilai Default per Bulan"
   ]
  },
  {
   "cell_type": "code",
   "execution_count": 7,
   "id": "2381ef36",
   "metadata": {},
   "outputs": [
    {
     "name": "stdout",
     "output_type": "stream",
     "text": [
      "+------+-----------------+\n",
      "|months|imo_count_default|\n",
      "+------+-----------------+\n",
      "+------+-----------------+\n",
      "\n"
     ]
    }
   ],
   "source": [
    "# Tentukan nilai yang ingin dihitung\n",
    "default_value = 0  # Ganti dengan nilai yang diinginkan\n",
    "\n",
    "# Hitung jumlah 'imo' dengan nilai default per bulan\n",
    "imo_default_per_month = data_sampel.withColumn(\"months\", F.date_format(\"dt_pos_utc\", \"MMMM\")) \\\n",
    "    .filter(F.col(\"imo\") == default_value) \\\n",
    "    .groupBy(\"months\").agg(F.count(\"imo\").alias(\"imo_count_default\"))\n",
    "\n",
    "# Tampilkan DataFrame Spark hasil akhir\n",
    "imo_default_per_month.show() "
   ]
  },
  {
   "cell_type": "markdown",
   "id": "65a3d1c9",
   "metadata": {},
   "source": [
    "### Status Navigasi dengan Nilai Default per Bulan"
   ]
  },
  {
   "cell_type": "code",
   "execution_count": 8,
   "id": "ab41f7b8",
   "metadata": {},
   "outputs": [
    {
     "name": "stdout",
     "output_type": "stream",
     "text": [
      "+---------+------------------------+\n",
      "|   months|nav_status_count_default|\n",
      "+---------+------------------------+\n",
      "| December|                  371464|\n",
      "| November|                  329642|\n",
      "|    March|                  388469|\n",
      "|  October|                  399015|\n",
      "|   August|                  416208|\n",
      "|September|                  397973|\n",
      "|     July|                  430255|\n",
      "|    April|                  384620|\n",
      "|      May|                  414301|\n",
      "|     June|                  405164|\n",
      "| February|                  357029|\n",
      "|  January|                  386246|\n",
      "+---------+------------------------+\n",
      "\n"
     ]
    }
   ],
   "source": [
    "# Tentukan nilai yang ingin dihitung\n",
    "default_value = \"Not Defined\"  # Ganti dengan nilai yang diinginkan\n",
    "\n",
    "# Hitung jumlah 'nav_status' dengan nilai default per bulan\n",
    "nav_status_default_per_month = data_sampel.withColumn(\"months\", F.date_format(\"dt_pos_utc\", \"MMMM\")) \\\n",
    "    .filter(F.col(\"nav_status\") == default_value) \\\n",
    "    .groupBy(\"months\").agg(F.count(\"nav_status\").alias(\"nav_status_count_default\"))\n",
    "\n",
    "# Tampilkan DataFrame Spark hasil akhir\n",
    "nav_status_default_per_month.show() "
   ]
  },
  {
   "cell_type": "markdown",
   "id": "58b3ea56",
   "metadata": {},
   "source": [
    "### Tipe Kapal dengan Nilai Default per Bulan"
   ]
  },
  {
   "cell_type": "code",
   "execution_count": 9,
   "id": "588f74ac",
   "metadata": {},
   "outputs": [
    {
     "name": "stdout",
     "output_type": "stream",
     "text": [
      "+---------+-------------------------+\n",
      "|   months|vessel_type_count_default|\n",
      "+---------+-------------------------+\n",
      "| November|                     9215|\n",
      "|  October|                     8152|\n",
      "|   August|                     8457|\n",
      "| December|                     8537|\n",
      "|September|                     8181|\n",
      "|     July|                    13723|\n",
      "|    March|                    15311|\n",
      "|    April|                    17472|\n",
      "|      May|                    13430|\n",
      "|     June|                    12554|\n",
      "|  January|                    16355|\n",
      "| February|                    12826|\n",
      "+---------+-------------------------+\n",
      "\n"
     ]
    }
   ],
   "source": [
    "# Tentukan nilai yang ingin dihitung\n",
    "default_value = \"Not Available\"  # Ganti dengan nilai yang diinginkan\n",
    "\n",
    "# Hitung jumlah 'vessel_type' dengan nilai default per bulan\n",
    "vessel_type_default_per_month = data_sampel.withColumn(\"months\", F.date_format(\"dt_pos_utc\", \"MMMM\")) \\\n",
    "    .filter(F.col(\"vessel_type\") == default_value) \\\n",
    "    .groupBy(\"months\").agg(F.count(\"vessel_type\").alias(\"vessel_type_count_default\"))\n",
    "\n",
    "# Tampilkan DataFrame Spark hasil akhir\n",
    "vessel_type_default_per_month.show() "
   ]
  },
  {
   "cell_type": "markdown",
   "id": "bba83140",
   "metadata": {},
   "source": [
    "### Negara Kapal dengan Nilai Default per Bulan"
   ]
  },
  {
   "cell_type": "code",
   "execution_count": 10,
   "id": "8d84c275",
   "metadata": {},
   "outputs": [
    {
     "name": "stdout",
     "output_type": "stream",
     "text": [
      "+------+--------------------------+\n",
      "|months|flag_country_count_default|\n",
      "+------+--------------------------+\n",
      "+------+--------------------------+\n",
      "\n"
     ]
    }
   ],
   "source": [
    "# MISAL DEFAULT = 0\n",
    "# Tentukan nilai yang ingin dihitung\n",
    "default_value = 0  # Ganti dengan nilai yang diinginkan\n",
    "\n",
    "# Hitung jumlah 'flag_country' dengan nilai default per bulan\n",
    "flag_country_default_per_month = data_sampel.withColumn(\"months\", F.date_format(\"dt_pos_utc\", \"MMMM\")) \\\n",
    "    .filter(F.col(\"flag_code\") == default_value) \\\n",
    "    .groupBy(\"months\").agg(F.count(\"flag_code\").alias(\"flag_country_count_default\"))\n",
    "\n",
    "# Tampilkan DataFrame Spark hasil akhir\n",
    "flag_country_default_per_month.show()  "
   ]
  },
  {
   "cell_type": "markdown",
   "id": "4614cd5b",
   "metadata": {},
   "source": [
    "### Latitude & Longitude dengan Nilai Default per Bulan"
   ]
  },
  {
   "cell_type": "code",
   "execution_count": 11,
   "id": "c9c3e8d3",
   "metadata": {},
   "outputs": [
    {
     "name": "stdout",
     "output_type": "stream",
     "text": [
      "+------+----------------------+\n",
      "|months|latitude_count_default|\n",
      "+------+----------------------+\n",
      "+------+----------------------+\n",
      "\n"
     ]
    }
   ],
   "source": [
    "# Tentukan nilai yang ingin dihitung\n",
    "default_value = 91  # Ganti dengan nilai yang diinginkan\n",
    "\n",
    "# Hitung jumlah 'latitude' dengan nilai default per bulan\n",
    "latitude_default_per_month = data_sampel.withColumn(\"months\", F.date_format(\"dt_pos_utc\", \"MMMM\")) \\\n",
    "    .filter(F.col(\"latitude\") == default_value) \\\n",
    "    .groupBy(\"months\").agg(F.count(\"latitude\").alias(\"latitude_count_default\"))\n",
    "\n",
    "# Tampilkan DataFrame Spark hasil akhir\n",
    "latitude_default_per_month.show() "
   ]
  },
  {
   "cell_type": "code",
   "execution_count": 12,
   "id": "b5fd43f8",
   "metadata": {},
   "outputs": [
    {
     "name": "stdout",
     "output_type": "stream",
     "text": [
      "+------+-----------------------+\n",
      "|months|longitude_count_default|\n",
      "+------+-----------------------+\n",
      "+------+-----------------------+\n",
      "\n"
     ]
    }
   ],
   "source": [
    "# Tentukan nilai yang ingin dihitung\n",
    "default_value = 181  # Ganti dengan nilai yang diinginkan\n",
    "\n",
    "# Hitung jumlah 'longitude' dengan nilai default per bulan\n",
    "longitude_default_per_month = data_sampel.withColumn(\"months\", F.date_format(\"dt_pos_utc\", \"MMMM\")) \\\n",
    "    .filter(F.col(\"longitude\") == default_value) \\\n",
    "    .groupBy(\"months\").agg(F.count(\"longitude\").alias(\"longitude_count_default\"))\n",
    "\n",
    "# Tampilkan DataFrame Spark hasil akhir\n",
    "longitude_default_per_month.show() "
   ]
  },
  {
   "cell_type": "markdown",
   "id": "e10d1f5a",
   "metadata": {},
   "source": [
    "### dt_pos_utc dengan Nilai Default per Bulan"
   ]
  },
  {
   "cell_type": "code",
   "execution_count": 13,
   "id": "ced83f87",
   "metadata": {},
   "outputs": [
    {
     "name": "stdout",
     "output_type": "stream",
     "text": [
      "+------+-----------------------+\n",
      "|months|dt_pos_ut_count_dafault|\n",
      "+------+-----------------------+\n",
      "+------+-----------------------+\n",
      "\n"
     ]
    }
   ],
   "source": [
    "# Tentukan nilai yang ingin dihitung\n",
    "default_value = \"0-0-0 24:60:60\"\n",
    "\n",
    "# Hitung jumlah nilai default pada kolom 'dt_pos_utc' per bulan\n",
    "dt_pos_utc_default_per_month = data_sampel.withColumn(\"months\", F.date_format(\"dt_pos_utc\", \"MMMM\")) \\\n",
    "    .filter(F.col(\"dt_pos_utc\") == default_value) \\\n",
    "    .groupBy(\"months\").agg(F.count(\"dt_pos_utc\").alias(\"dt_pos_ut_count_dafault\"))\n",
    "\n",
    "# Tampilkan DataFrame Spark hasil akhir\n",
    "dt_pos_utc_default_per_month.show()  "
   ]
  },
  {
   "cell_type": "markdown",
   "id": "eb1b3636",
   "metadata": {},
   "source": [
    "## Tidak Valid"
   ]
  },
  {
   "cell_type": "markdown",
   "id": "f01493c1",
   "metadata": {},
   "source": [
    "### MMSI Tidak Valid"
   ]
  },
  {
   "cell_type": "code",
   "execution_count": 17,
   "id": "ba04fd79",
   "metadata": {},
   "outputs": [
    {
     "name": "stdout",
     "output_type": "stream",
     "text": [
      "+--------+----------------+\n",
      "|  months|mmsi_tidak_valid|\n",
      "+--------+----------------+\n",
      "|November|           10235|\n",
      "|     May|            1121|\n",
      "+--------+----------------+\n",
      "\n"
     ]
    }
   ],
   "source": [
    "# Definisikan nilai mmsi yang valid\n",
    "nilai_valid = [100000000, 999999999]\n",
    "\n",
    "# Hitung jumlah mmsi tidak valid per bulan\n",
    "jumlah_mmsi_tidak_valid_per_bulan = data_sampel.withColumn(\"months\", F.date_format(\"dt_pos_utc\", \"MMMM\")) \\\n",
    "    .filter(~(data_sampel['mmsi'].between(nilai_valid[0], nilai_valid[1])) & \n",
    "            ((data_sampel['mmsi'] != 0) | (data_sampel['mmsi'] != 1193046)) &\n",
    "            (data_sampel['mmsi'].isNotNull())\n",
    "           ) \\\n",
    "    .groupBy(\"months\").agg(F.count(\"mmsi\").alias(\"mmsi_tidak_valid\"))\n",
    "\n",
    "# Buat DataFrame hasil\n",
    "mmsi_invalid = jumlah_mmsi_tidak_valid_per_bulan\n",
    "\n",
    "# Tampilkan hasil\n",
    "mmsi_invalid.show()\n"
   ]
  },
  {
   "cell_type": "markdown",
   "id": "7b1e0cab",
   "metadata": {},
   "source": [
    "### IMO Tidak Valid"
   ]
  },
  {
   "cell_type": "code",
   "execution_count": 20,
   "id": "938244ab",
   "metadata": {
    "scrolled": true
   },
   "outputs": [
    {
     "name": "stdout",
     "output_type": "stream",
     "text": [
      "+---------+---------------+\n",
      "|   months|imo_tidak_valid|\n",
      "+---------+---------------+\n",
      "|     July|         118819|\n",
      "| November|          92215|\n",
      "|  January|         118295|\n",
      "|    March|         111760|\n",
      "|  October|         111154|\n",
      "|      May|         122504|\n",
      "| December|         102670|\n",
      "|     June|         116427|\n",
      "|September|         112087|\n",
      "|    April|         115899|\n",
      "|   August|         120266|\n",
      "| February|          83405|\n",
      "+---------+---------------+\n",
      "\n"
     ]
    }
   ],
   "source": [
    "# Definisikan nilai imo yang valid\n",
    "nilai_valid = [1000000, 9999999]\n",
    "\n",
    "# Hitung jumlah imo tidak valid per bulan\n",
    "jumlah_imo_tidak_valid_per_bulan = data_sampel.withColumn(\"months\", F.date_format(\"dt_pos_utc\", \"MMMM\")) \\\n",
    "    .filter((~data_sampel['imo'].between(nilai_valid[0], nilai_valid[1])) & \n",
    "            (data_sampel['imo'] != 0) &\n",
    "            (data_sampel['imo'].isNotNull()) \n",
    "           )\\\n",
    "    .groupBy(\"months\").agg(F.count(\"imo\").alias(\"imo_tidak_valid\"))\n",
    "\n",
    "# Buat DataFrame hasil\n",
    "imo_invalid = jumlah_imo_tidak_valid_per_bulan\n",
    "\n",
    "# Tampilkan hasil\n",
    "imo_invalid.show() "
   ]
  },
  {
   "cell_type": "markdown",
   "id": "22986737",
   "metadata": {},
   "source": [
    "### Status Navigasi Tidak Valid"
   ]
  },
  {
   "cell_type": "code",
   "execution_count": 21,
   "id": "c3dd6745",
   "metadata": {},
   "outputs": [
    {
     "name": "stdout",
     "output_type": "stream",
     "text": [
      "+---------+---------------------------+\n",
      "|   months|nav_status_code_tidak_valid|\n",
      "+---------+---------------------------+\n",
      "| November|                    1244750|\n",
      "|    March|                    1614317|\n",
      "|  October|                    1629715|\n",
      "|   August|                    1786719|\n",
      "| December|                    1447685|\n",
      "|September|                    1715779|\n",
      "|    April|                    1708091|\n",
      "|     June|                    1789009|\n",
      "|     July|                    1916539|\n",
      "|      May|                    1708735|\n",
      "| February|                    1193964|\n",
      "|  January|                    1410897|\n",
      "+---------+---------------------------+\n",
      "\n"
     ]
    }
   ],
   "source": [
    "# Definisikan nilai nav_status_code yang valid\n",
    "nilai_valid = [0, 14]\n",
    "\n",
    "# Hitung jumlah nav_status_code tidak valid per bulan\n",
    "jumlah_nav_status_code_tidak_valid_per_bulan = data_sampel.withColumn(\"months\", F.date_format(\"dt_pos_utc\", \"MMMM\")) \\\n",
    "    .filter((~data_sampel['nav_status_code'].between(nilai_valid[0], nilai_valid[1])) & \n",
    "            (data_sampel['nav_status_code'] != 15) & \n",
    "            (data_sampel['nav_status_code'].isNotNull())\n",
    "           ) \\\n",
    "    .groupBy(\"months\").agg(F.count(\"nav_status_code\").alias(\"nav_status_code_tidak_valid\"))\n",
    "\n",
    "# Buat DataFrame hasil\n",
    "nav_status_code_invalid = jumlah_nav_status_code_tidak_valid_per_bulan\n",
    "\n",
    "# Tampilkan hasil\n",
    "nav_status_code_invalid.show() "
   ]
  },
  {
   "cell_type": "markdown",
   "id": "4ad82225",
   "metadata": {},
   "source": [
    "### Tipe Kapal Tidak Valid"
   ]
  },
  {
   "cell_type": "code",
   "execution_count": 22,
   "id": "585b3902",
   "metadata": {},
   "outputs": [
    {
     "name": "stdout",
     "output_type": "stream",
     "text": [
      "+------+----------------------------+\n",
      "|months|vessel_type_code_tidak_valid|\n",
      "+------+----------------------------+\n",
      "+------+----------------------------+\n",
      "\n"
     ]
    }
   ],
   "source": [
    "# Definisikan nilai vessel_type_code yang valid\n",
    "nilai_valid = [1, 255]\n",
    "\n",
    "# Hitung jumlah vessel_type_code tidak valid per bulan\n",
    "jumlah_vessel_type_code_tidak_valid_per_bulan = data_sampel.withColumn(\"months\", F.date_format(\"dt_pos_utc\", \"MMMM\")) \\\n",
    "    .filter((~data_sampel['vessel_type_code'].between(nilai_valid[0], nilai_valid[1])) & \n",
    "            (data_sampel['vessel_type_code'] != 0) &\n",
    "            (data_sampel['vessel_type_code'].isNotNull())\n",
    "           ) \\\n",
    "    .groupBy(\"months\").agg(F.count(\"vessel_type_code\").alias(\"vessel_type_code_tidak_valid\"))\n",
    "\n",
    "# Buat DataFrame hasil\n",
    "vessel_type_code_invalid = jumlah_vessel_type_code_tidak_valid_per_bulan\n",
    "\n",
    "# Tampilkan hasil\n",
    "vessel_type_code_invalid.show() "
   ]
  },
  {
   "cell_type": "markdown",
   "id": "fd18e890",
   "metadata": {},
   "source": [
    "### Negara Kapal Tidak Valid"
   ]
  },
  {
   "cell_type": "code",
   "execution_count": 23,
   "id": "2c874e92",
   "metadata": {},
   "outputs": [
    {
     "name": "stdout",
     "output_type": "stream",
     "text": [
      "+------+-----------------------------+\n",
      "|months|flag_country_code_tidak_valid|\n",
      "+------+-----------------------------+\n",
      "+------+-----------------------------+\n",
      "\n"
     ]
    }
   ],
   "source": [
    "# Definisikan nilai flag_country_code yang valid\n",
    "nilai_valid = [201, 775]\n",
    "\n",
    "# Hitung jumlah flag_country_code tidak valid per bulan\n",
    "jumlah_flag_country_code_tidak_valid_per_bulan = data_sampel.withColumn(\"months\", F.date_format(\"dt_pos_utc\", \"MMMM\")) \\\n",
    "    .filter((~data_sampel['flag_code'].between(nilai_valid[0], nilai_valid[1])) & \n",
    "            (data_sampel['flag_code'] != 0) &\n",
    "            (data_sampel['flag_code'].isNotNull())\n",
    "           ) \\\n",
    "    .groupBy(\"months\").agg(F.count(\"flag_code\").alias(\"flag_country_code_tidak_valid\"))\n",
    "\n",
    "# Buat DataFrame hasil\n",
    "flag_country_code_invalid = jumlah_flag_country_code_tidak_valid_per_bulan\n",
    "\n",
    "# Tampilkan hasil\n",
    "flag_country_code_invalid.show() "
   ]
  },
  {
   "cell_type": "markdown",
   "id": "aa49cb31",
   "metadata": {},
   "source": [
    "### Latitude & Longitude Tidak Valid"
   ]
  },
  {
   "cell_type": "code",
   "execution_count": 24,
   "id": "65f812f9",
   "metadata": {},
   "outputs": [
    {
     "name": "stdout",
     "output_type": "stream",
     "text": [
      "+------+--------------------+\n",
      "|months|latitude_tidak_valid|\n",
      "+------+--------------------+\n",
      "+------+--------------------+\n",
      "\n"
     ]
    }
   ],
   "source": [
    "# Definisikan nilai latitude yang valid\n",
    "nilai_valid = [-90, 90]\n",
    "\n",
    "# Hitung jumlah latitude tidak valid per bulan\n",
    "jumlah_latitude_tidak_valid_per_bulan = data_sampel.withColumn(\"months\", F.date_format(\"dt_pos_utc\", \"MMMM\")) \\\n",
    "    .filter((~data_sampel['latitude'].between(nilai_valid[0], nilai_valid[1])) & \n",
    "            (data_sampel['latitude'] != 91) &\n",
    "            (data_sampel['latitude'].isNotNull())\n",
    "           ) \\\n",
    "    .groupBy(\"months\").agg(F.count(\"latitude\").alias(\"latitude_tidak_valid\"))\n",
    "\n",
    "# Buat DataFrame hasil\n",
    "latitude_invalid = jumlah_latitude_tidak_valid_per_bulan\n",
    "\n",
    "# Tampilkan hasil\n",
    "latitude_invalid.show() "
   ]
  },
  {
   "cell_type": "code",
   "execution_count": 25,
   "id": "758267ec",
   "metadata": {},
   "outputs": [
    {
     "name": "stdout",
     "output_type": "stream",
     "text": [
      "+------+---------------------+\n",
      "|months|longitude_tidak_valid|\n",
      "+------+---------------------+\n",
      "+------+---------------------+\n",
      "\n"
     ]
    }
   ],
   "source": [
    "# Definisikan nilai longitude yang valid\n",
    "nilai_valid = [-180, 180]\n",
    "\n",
    "# Hitung jumlah longitude tidak valid per bulan\n",
    "jumlah_longitude_tidak_valid_per_bulan = data_sampel.withColumn(\"months\", F.date_format(\"dt_pos_utc\", \"MMMM\")) \\\n",
    "    .filter((~data_sampel['longitude'].between(nilai_valid[0], nilai_valid[1])) & \n",
    "            (data_sampel['longitude'] != 181) &\n",
    "            (data_sampel['longitude'].isNotNull())\n",
    "           ) \\\n",
    "    .groupBy(\"months\").agg(F.count(\"longitude\").alias(\"longitude_tidak_valid\"))\n",
    "\n",
    "# Buat DataFrame hasil\n",
    "longitude_invalid = jumlah_longitude_tidak_valid_per_bulan\n",
    "\n",
    "# Tampilkan hasil\n",
    "longitude_invalid.show()"
   ]
  },
  {
   "cell_type": "markdown",
   "id": "b54ac225",
   "metadata": {},
   "source": [
    "### dt_pos_utc Tidak Valid"
   ]
  },
  {
   "cell_type": "code",
   "execution_count": 26,
   "id": "8cfd4c68",
   "metadata": {},
   "outputs": [
    {
     "name": "stdout",
     "output_type": "stream",
     "text": [
      "+------+----------------------+\n",
      "|months|dt_pos_utc_tidak_valid|\n",
      "+------+----------------------+\n",
      "+------+----------------------+\n",
      "\n"
     ]
    }
   ],
   "source": [
    "# Definisikan pola regex untuk nilai 'dt_pos_utc' yang valid\n",
    "pattern = \"^[1-9][0-9]{0,3}-[1-9]|0[1-9]|1[0-2]-[1-9]|0[1-9]|[1-2][0-9]|3[0-1] [0-9]|0[0-9]|1[0-9]|2[0-3]:[0-5][0-9]:[0-5][0-9]$\"\n",
    "\n",
    "default_value = \"0-0-0 24:60:60\"\n",
    "\n",
    "# Filter data untuk mendapatkan hanya nilai 'dt_pos_utc' yang tidak valid\n",
    "dt_pos_utc_tidak_valid_per_bulan = data_sampel.withColumn(\"months\", F.date_format(\"dt_pos_utc\", \"MMMM\")) \\\n",
    "    .filter((~F.col(\"dt_pos_utc\").rlike(pattern)) & \n",
    "            (data_sampel['dt_pos_utc'] != default_value) &\n",
    "            (data_sampel['dt_pos_utc'].isNotNull())\n",
    "           ) \\\n",
    "    .groupBy(\"months\").agg(F.count(\"dt_pos_utc\").alias(\"dt_pos_utc_tidak_valid\"))\n",
    "\n",
    "# Buat DataFrame hasil\n",
    "dt_pos_utc_invalid = dt_pos_utc_tidak_valid_per_bulan\n",
    "\n",
    "# Tampilkan hasil\n",
    "dt_pos_utc_invalid.show()  "
   ]
  },
  {
   "cell_type": "markdown",
   "id": "d9d669c8",
   "metadata": {},
   "source": [
    "## Missing Value"
   ]
  },
  {
   "cell_type": "markdown",
   "id": "4c256d68",
   "metadata": {},
   "source": [
    "### MS MMSI"
   ]
  },
  {
   "cell_type": "code",
   "execution_count": 27,
   "id": "0cad67db",
   "metadata": {},
   "outputs": [
    {
     "name": "stdout",
     "output_type": "stream",
     "text": [
      "+---------+------------+\n",
      "|   months|mmsi_missing|\n",
      "+---------+------------+\n",
      "|     July|           0|\n",
      "| November|           0|\n",
      "|    March|           0|\n",
      "|  October|           0|\n",
      "|   August|           0|\n",
      "|    April|           0|\n",
      "|     June|           0|\n",
      "| December|           0|\n",
      "|September|           0|\n",
      "|      May|           0|\n",
      "| February|           0|\n",
      "|  January|           0|\n",
      "+---------+------------+\n",
      "\n"
     ]
    }
   ],
   "source": [
    "# Hitung jumlah nilai yang hilang per bulan untuk kolom \"mmsi\"\n",
    "missing_values_per_month_mmsi = data_sampel.withColumn(\"months\", F.date_format(\"dt_pos_utc\", \"MMMM\")) \\\n",
    "    .groupBy(\"months\").agg(\n",
    "        F.sum(F.col(\"mmsi\").isNull().cast(IntegerType())).alias(\"mmsi_missing\")\n",
    "    )\n",
    "\n",
    "# Tampilkan DataFrame Spark\n",
    "missing_values_per_month_mmsi.show() "
   ]
  },
  {
   "cell_type": "markdown",
   "id": "8561b119",
   "metadata": {},
   "source": [
    "### MS IMO"
   ]
  },
  {
   "cell_type": "code",
   "execution_count": 28,
   "id": "7087a5fa",
   "metadata": {},
   "outputs": [
    {
     "name": "stdout",
     "output_type": "stream",
     "text": [
      "+---------+-----------+\n",
      "|   months|imo_missing|\n",
      "+---------+-----------+\n",
      "| December|    3103764|\n",
      "| November|    2756953|\n",
      "|    March|    3331086|\n",
      "|  October|    3348990|\n",
      "|   August|    3560343|\n",
      "|September|    3437559|\n",
      "|    April|    3386429|\n",
      "|      May|    3484930|\n",
      "|     June|    3580787|\n",
      "|     July|    3797411|\n",
      "| February|    2729591|\n",
      "|  January|    3081704|\n",
      "+---------+-----------+\n",
      "\n"
     ]
    }
   ],
   "source": [
    "# Hitung jumlah nilai yang hilang per bulan untuk kolom \"imo\"\n",
    "missing_values_per_month_imo = data_sampel.withColumn(\"months\", F.date_format(\"dt_pos_utc\", \"MMMM\")) \\\n",
    "    .groupBy(\"months\").agg(\n",
    "        F.sum(F.col(\"imo\").isNull().cast(IntegerType())).alias(\"imo_missing\")\n",
    "    )\n",
    "\n",
    "# Tampilkan DataFrame Spark\n",
    "missing_values_per_month_imo.show()  "
   ]
  },
  {
   "cell_type": "markdown",
   "id": "8e51dc01",
   "metadata": {},
   "source": [
    "### MS Status Navigasi"
   ]
  },
  {
   "cell_type": "code",
   "execution_count": 30,
   "id": "e1f4d26d",
   "metadata": {},
   "outputs": [
    {
     "name": "stdout",
     "output_type": "stream",
     "text": [
      "+---------+------------------+\n",
      "|   months|nav_status_missing|\n",
      "+---------+------------------+\n",
      "| November|                 0|\n",
      "|  October|                 0|\n",
      "|      May|                 0|\n",
      "|   August|                 0|\n",
      "|    April|                 0|\n",
      "|     June|                 0|\n",
      "|September|                 0|\n",
      "|     July|                 0|\n",
      "|    March|                 0|\n",
      "| December|                 0|\n",
      "| February|                 0|\n",
      "|  January|                 0|\n",
      "+---------+------------------+\n",
      "\n"
     ]
    }
   ],
   "source": [
    "# Hitung jumlah nilai yang hilang per bulan untuk kolom \"nav_status\"\n",
    "missing_values_per_month_nav_status = data_sampel.withColumn(\"months\", F.date_format(\"dt_pos_utc\", \"MMMM\")) \\\n",
    "    .groupBy(\"months\").agg(\n",
    "        F.sum(F.col(\"nav_status\").isNull().cast(IntegerType())).alias(\"nav_status_missing\")\n",
    "    )\n",
    "\n",
    "# Tampilkan DataFrame Spark\n",
    "missing_values_per_month_nav_status.show() "
   ]
  },
  {
   "cell_type": "markdown",
   "id": "79c2dd71",
   "metadata": {},
   "source": [
    "### MS Tipe Kapal"
   ]
  },
  {
   "cell_type": "code",
   "execution_count": 31,
   "id": "04e2993b",
   "metadata": {},
   "outputs": [
    {
     "name": "stdout",
     "output_type": "stream",
     "text": [
      "+---------+-------------------+\n",
      "|   months|vessel_type_missing|\n",
      "+---------+-------------------+\n",
      "| December|                  0|\n",
      "| November|                  0|\n",
      "|    March|                  0|\n",
      "|  October|                  0|\n",
      "|   August|                  0|\n",
      "|     July|                  0|\n",
      "|    April|                  0|\n",
      "|September|                  0|\n",
      "|     June|                  0|\n",
      "|      May|                  0|\n",
      "|  January|                  0|\n",
      "| February|                  0|\n",
      "+---------+-------------------+\n",
      "\n"
     ]
    }
   ],
   "source": [
    "# Hitung jumlah nilai yang hilang per bulan untuk kolom \"vessel_type\"\n",
    "missing_values_per_month_vessel_type = data_sampel.withColumn(\"months\", F.date_format(\"dt_pos_utc\", \"MMMM\")) \\\n",
    "    .groupBy(\"months\").agg(\n",
    "        F.sum(F.col(\"vessel_type\").isNull().cast(IntegerType())).alias(\"vessel_type_missing\")\n",
    "    )\n",
    "\n",
    "# Tampilkan DataFrame Spark\n",
    "missing_values_per_month_vessel_type.show() "
   ]
  },
  {
   "cell_type": "markdown",
   "id": "9247ab1a",
   "metadata": {},
   "source": [
    "### MS Negara Kapal"
   ]
  },
  {
   "cell_type": "code",
   "execution_count": 32,
   "id": "a8b32260",
   "metadata": {},
   "outputs": [
    {
     "name": "stdout",
     "output_type": "stream",
     "text": [
      "+---------+--------------------+\n",
      "|   months|flag_country_missing|\n",
      "+---------+--------------------+\n",
      "| November|               46730|\n",
      "|    March|                   0|\n",
      "|  October|                   0|\n",
      "|   August|                   0|\n",
      "| December|                   0|\n",
      "|    April|                   0|\n",
      "|September|                   0|\n",
      "|     July|                   0|\n",
      "|      May|                4334|\n",
      "|     June|                   0|\n",
      "|  January|                   0|\n",
      "| February|                   0|\n",
      "+---------+--------------------+\n",
      "\n"
     ]
    }
   ],
   "source": [
    "# Hitung jumlah nilai yang hilang per bulan untuk kolom \"flag_country\"\n",
    "missing_values_per_month_flag_country = data_sampel.withColumn(\"months\", F.date_format(\"dt_pos_utc\", \"MMMM\")) \\\n",
    "    .groupBy(\"months\").agg(\n",
    "        F.sum(F.col(\"flag_country\").isNull().cast(IntegerType())).alias(\"flag_country_missing\")\n",
    "    )\n",
    "\n",
    "# Tampilkan DataFrame Spark\n",
    "missing_values_per_month_flag_country.show() "
   ]
  },
  {
   "cell_type": "markdown",
   "id": "1136222d",
   "metadata": {},
   "source": [
    "### MS Latitude & Longitude"
   ]
  },
  {
   "cell_type": "code",
   "execution_count": 33,
   "id": "7391be5a",
   "metadata": {},
   "outputs": [
    {
     "name": "stdout",
     "output_type": "stream",
     "text": [
      "+---------+----------------+\n",
      "|   months|latitude_missing|\n",
      "+---------+----------------+\n",
      "| November|               0|\n",
      "|    March|               0|\n",
      "|  October|               0|\n",
      "|   August|               0|\n",
      "| December|               0|\n",
      "|September|               0|\n",
      "|    April|               0|\n",
      "|     June|               0|\n",
      "|     July|               0|\n",
      "|      May|               0|\n",
      "|  January|               0|\n",
      "| February|               0|\n",
      "+---------+----------------+\n",
      "\n"
     ]
    }
   ],
   "source": [
    "# Hitung jumlah nilai yang hilang per bulan untuk kolom \"latitude\"\n",
    "missing_values_per_month_latitude = data_sampel.withColumn(\"months\", F.date_format(\"dt_pos_utc\", \"MMMM\")) \\\n",
    "    .groupBy(\"months\").agg(\n",
    "        F.sum(F.col(\"latitude\").isNull().cast(IntegerType())).alias(\"latitude_missing\")\n",
    "    )\n",
    "\n",
    "# Tampilkan DataFrame Spark\n",
    "missing_values_per_month_latitude.show() "
   ]
  },
  {
   "cell_type": "code",
   "execution_count": 34,
   "id": "c56f1343",
   "metadata": {},
   "outputs": [
    {
     "name": "stdout",
     "output_type": "stream",
     "text": [
      "+---------+-----------------+\n",
      "|   months|longitude_missing|\n",
      "+---------+-----------------+\n",
      "| November|                0|\n",
      "|    March|                0|\n",
      "|  October|                0|\n",
      "|   August|                0|\n",
      "| December|                0|\n",
      "|September|                0|\n",
      "|    April|                0|\n",
      "|     June|                0|\n",
      "|     July|                0|\n",
      "|      May|                0|\n",
      "| February|                0|\n",
      "|  January|                0|\n",
      "+---------+-----------------+\n",
      "\n"
     ]
    }
   ],
   "source": [
    "# Hitung jumlah nilai yang hilang per bulan untuk kolom \"longitude\"\n",
    "missing_values_per_month_longitude = data_sampel.withColumn(\"months\", F.date_format(\"dt_pos_utc\", \"MMMM\")) \\\n",
    "    .groupBy(\"months\").agg(\n",
    "        F.sum(F.col(\"longitude\").isNull().cast(IntegerType())).alias(\"longitude_missing\")\n",
    "    )\n",
    "\n",
    "# Tampilkan DataFrame Spark\n",
    "missing_values_per_month_longitude.show() "
   ]
  },
  {
   "cell_type": "markdown",
   "id": "a15753dc",
   "metadata": {},
   "source": [
    "### MS dt_pos_utc"
   ]
  },
  {
   "cell_type": "code",
   "execution_count": 35,
   "id": "4705e109",
   "metadata": {},
   "outputs": [
    {
     "name": "stdout",
     "output_type": "stream",
     "text": [
      "+---------+------------------+\n",
      "|   months|dt_pos_utc_missing|\n",
      "+---------+------------------+\n",
      "| November|                 0|\n",
      "|    March|                 0|\n",
      "|  October|                 0|\n",
      "|   August|                 0|\n",
      "| December|                 0|\n",
      "|     July|                 0|\n",
      "|    April|                 0|\n",
      "|September|                 0|\n",
      "|     June|                 0|\n",
      "|      May|                 0|\n",
      "|  January|                 0|\n",
      "| February|                 0|\n",
      "+---------+------------------+\n",
      "\n"
     ]
    }
   ],
   "source": [
    "# Hitung jumlah nilai yang hilang per bulan untuk kolom \"dt_pos_utc\"\n",
    "missing_values_per_month_dt_pos_utc = data_sampel.withColumn(\"months\", F.date_format(\"dt_pos_utc\", \"MMMM\")) \\\n",
    "    .groupBy(\"months\").agg(\n",
    "        F.sum(F.col(\"dt_pos_utc\").isNull().cast(IntegerType())).alias(\"dt_pos_utc_missing\")\n",
    "    )\n",
    "\n",
    "# Tampilkan DataFrame Spark\n",
    "missing_values_per_month_dt_pos_utc.show() "
   ]
  },
  {
   "cell_type": "markdown",
   "id": "1158bc1e",
   "metadata": {},
   "source": [
    "## Pergerakan Anomali"
   ]
  },
  {
   "cell_type": "code",
   "execution_count": 36,
   "id": "ae49a53c",
   "metadata": {},
   "outputs": [],
   "source": [
    "# plot jarak tempuh (y) sama waktu tempuh (x)\n",
    "# Dari plotnya keliatan mana yang jarak tempuhnya besar tapi waktu tempuhnya kecil (atau sebaliknya?)"
   ]
  },
  {
   "cell_type": "markdown",
   "id": "d5a8c842",
   "metadata": {},
   "source": [
    "### Status Navigasi & SOG"
   ]
  },
  {
   "cell_type": "code",
   "execution_count": 37,
   "id": "1320dc10",
   "metadata": {},
   "outputs": [
    {
     "name": "stdout",
     "output_type": "stream",
     "text": [
      "+--------------------+------+------+------+------+------+------+\n",
      "|          nav_status|sog_50|sog_75|sog_90|sog_95|sog_99|sog_99|\n",
      "+--------------------+------+------+------+------+------+------+\n",
      "|              Moored|   0.0|   0.0|   0.0|   0.2|   9.2|  17.5|\n",
      "|Restricted Manoeu...|   0.0|   1.0|   4.6|   7.0|  11.3|  16.2|\n",
      "|             Aground|   0.0|   0.1|   6.0|   9.0|  15.8|  25.0|\n",
      "|         Not Defined|   0.0|   1.0|   7.0|   9.1|  15.0|  26.3|\n",
      "|   Not Under Command|   0.5|   1.5|   4.5|   8.3|  13.2|  20.9|\n",
      "|  Engaged In Fishing|   1.3|   4.2|   8.3|   9.8|  12.0|  14.0|\n",
      "|    Underway Sailing|   0.0|   4.5|   9.5|  11.7|  15.7|  26.7|\n",
      "|             Unknown|   0.0|   2.2|   6.2|   7.9|  11.3|  28.4|\n",
      "|           At Anchor|   0.0|   0.1|   0.2|   0.5|   7.7|  12.6|\n",
      "|Under Way Using E...|   7.9|  11.9|  14.0|  16.6|  20.0|  28.0|\n",
      "+--------------------+------+------+------+------+------+------+\n",
      "\n"
     ]
    }
   ],
   "source": [
    "# Tentukan persentil yang diinginkan\n",
    "percentiles = [0.5, 0.75, 0.9, 0.95, 0.99, 0.999]\n",
    "\n",
    "# Loop melalui setiap persentil dan hitung nilai kuantil untuk sog\n",
    "quantile_columns = [expr(f\"percentile_approx(sog, {p})\").alias(f\"sog_{int(p * 100)}\") for p in percentiles]\n",
    "\n",
    "# Kelompokkan berdasarkan nav_status dan hitung kuantilnya\n",
    "quantiles_per_nav_status = data_sampel.select(\"nav_status\",\"sog\").groupBy(\"nav_status\").agg(*quantile_columns)\n",
    "\n",
    "# Tampilkan hasil\n",
    "quantiles_per_nav_status.show()"
   ]
  },
  {
   "cell_type": "markdown",
   "id": "cf5bf03e",
   "metadata": {},
   "source": [
    "### Validasi Status Navigasi dengan SOG"
   ]
  },
  {
   "cell_type": "code",
   "execution_count": 39,
   "id": "c82e8ccb",
   "metadata": {},
   "outputs": [
    {
     "name": "stdout",
     "output_type": "stream",
     "text": [
      "+---------+-----------------------------+\n",
      "|    bulan|total_pergerakan_tidak_normal|\n",
      "+---------+-----------------------------+\n",
      "|     July|                      1573546|\n",
      "| November|                      1306845|\n",
      "|    March|                      1476077|\n",
      "|  October|                      1516312|\n",
      "|      May|                      1500083|\n",
      "|   August|                      1539682|\n",
      "|    April|                      1454747|\n",
      "|     June|                      1491183|\n",
      "| December|                      1462994|\n",
      "|September|                      1491274|\n",
      "|  January|                      1460853|\n",
      "| February|                      1333742|\n",
      "+---------+-----------------------------+\n",
      "\n"
     ]
    }
   ],
   "source": [
    "# Memeriksa kecocokan nav_status dan sog\n",
    "\n",
    "# Ekstrak nama bulan dari timestamp\n",
    "data_sampel = data_sampel.withColumn(\"bulan\", date_format(\"dt_pos_utc\", \"MMMM\"))\n",
    "\n",
    "# Tentukan kriteria pergerakan tidak normal\n",
    "kriteria_pergerakan_tidak_normal = (\n",
    "    ((col(\"nav_status\").isin(['At Anchor', 'Moored'])) &\n",
    "    (col(\"sog\") > 1)) | \n",
    "    ((col(\"nav_status\").isin(['Not Under Command', 'Underway Sailing', 'Under Way Using Engine', 'Engaged In Fishing', 'Restricted Manoeuvrability', 'Aground'])) &\n",
    "    (col(\"sog\") < 1))\n",
    ")\n",
    "\n",
    "# Hitung pergerakan tidak normal per bulan\n",
    "pergerakan_tidak_normal_per_bulan = data_sampel.withColumn(\n",
    "    \"pergerakan_tidak_normal\",\n",
    "    when(kriteria_pergerakan_tidak_normal, 1).otherwise(0)\n",
    ").groupBy(\"bulan\").agg({\"pergerakan_tidak_normal\": \"sum\"}).withColumnRenamed(\"SUM(pergerakan_tidak_normal)\", \"total_pergerakan_tidak_normal\")\n",
    "\n",
    "# Tampilkan hasil\n",
    "pergerakan_tidak_normal_per_bulan.show()"
   ]
  },
  {
   "cell_type": "markdown",
   "id": "54b21f13",
   "metadata": {},
   "source": [
    "# Filter"
   ]
  },
  {
   "cell_type": "markdown",
   "id": "b4378018",
   "metadata": {},
   "source": [
    "## Filter MMSI"
   ]
  },
  {
   "cell_type": "code",
   "execution_count": 15,
   "id": "c78f6241",
   "metadata": {},
   "outputs": [],
   "source": [
    "# Filter data untuk mmsi di dalam rentang tertentu\n",
    "filtered_mmsi = sampledd_data.filter(col(\"mmsi\").between(100000000, 999999999))"
   ]
  },
  {
   "cell_type": "code",
   "execution_count": 9,
   "id": "4c887574",
   "metadata": {},
   "outputs": [],
   "source": [
    "#filtered_mmsi.count()"
   ]
  },
  {
   "cell_type": "code",
   "execution_count": null,
   "id": "4475722c",
   "metadata": {},
   "outputs": [],
   "source": [
    "# Hitung jumlah 'mmsi' yang unik per bulan\n",
    "unique_filtered_mmsi_per_month = filtered_mmsi.withColumn(\"months\", date_format(\"dt_pos_utc\", \"MMMM\")) \\\n",
    "    .groupBy(\"months\").agg(countDistinct(\"mmsi\").alias(\"unique_mmsi_count\"))\n",
    "\n",
    "# Tampilkan DataFrame Spark\n",
    "unique_filtered_mmsi_per_month.show()"
   ]
  },
  {
   "cell_type": "markdown",
   "id": "67f99627",
   "metadata": {},
   "source": [
    "## Filter IMO"
   ]
  },
  {
   "cell_type": "code",
   "execution_count": null,
   "id": "153c0684",
   "metadata": {},
   "outputs": [],
   "source": [
    "# Filter data untuk imo di dalam rentang tertentu\n",
    "filtered_imo = filtered_mmsi.filter(col(\"imo\").between(1000000, 9999999))"
   ]
  },
  {
   "cell_type": "code",
   "execution_count": null,
   "id": "c9a49367",
   "metadata": {},
   "outputs": [],
   "source": [
    "filtered_imo.count()"
   ]
  },
  {
   "cell_type": "code",
   "execution_count": null,
   "id": "14fe36d3",
   "metadata": {},
   "outputs": [],
   "source": [
    "# Hitung jumlah 'imo' yang unik per bulan\n",
    "unique_filtered_imo_per_month = filtered_imo.withColumn(\"months\", date_format(\"dt_pos_utc\", \"MMMM\")) \\\n",
    "    .groupBy(\"months\").agg(countDistinct(\"imo\").alias(\"unique_imo_count\"))\n",
    "\n",
    "# Tampilkan DataFrame Spark\n",
    "unique_filtered_imo_per_month.show() "
   ]
  },
  {
   "cell_type": "markdown",
   "id": "0655c0ba",
   "metadata": {},
   "source": [
    "## Filter Status Navigasi"
   ]
  },
  {
   "cell_type": "code",
   "execution_count": null,
   "id": "062ae451",
   "metadata": {},
   "outputs": [],
   "source": [
    "# Filter data untuk nav_status_code di dalam rentang tertentu\n",
    "filtered_nav_status_code = filtered_imo.filter(col(\"nav_status_code\").between(0, 14))"
   ]
  },
  {
   "cell_type": "code",
   "execution_count": null,
   "id": "25b67a3b",
   "metadata": {},
   "outputs": [],
   "source": [
    "# Nilai yang akan di-filter\n",
    "nav_status_values = ['Under Way Using Engine', 'At Anchor', 'Restricted Manoeuvrability', 'Moored', 'Engaged In Fishing', 'Underway Sailing']\n",
    "\n",
    "# Filter data berdasarkan nilai 'nav_status'\n",
    "filtered_nav_status = filtered_nav_status_code.filter(col(\"nav_status\").isin(nav_status_values))"
   ]
  },
  {
   "cell_type": "code",
   "execution_count": null,
   "id": "a92814f6",
   "metadata": {},
   "outputs": [],
   "source": [
    "filtered_nav_status.count()"
   ]
  },
  {
   "cell_type": "code",
   "execution_count": null,
   "id": "1e6ffff8",
   "metadata": {},
   "outputs": [],
   "source": [
    "# Hitung jumlah 'mmsi' per masing-masing 'nav_status'\n",
    "mmsi_count_per_filtered_nav_status = filtered_nav_status.groupBy(\"nav_status\").agg(count(\"mmsi\").alias(\"mmsi_count\"))\n",
    "\n",
    "# Tampilkan DataFrame Spark\n",
    "mmsi_count_per_filtered_nav_status.show() "
   ]
  },
  {
   "cell_type": "code",
   "execution_count": null,
   "id": "75cac7f2",
   "metadata": {},
   "outputs": [],
   "source": [
    "# Hitung jumlah 'mmsi' yang unik berdasarkan 'nav_status'\n",
    "unique_mmsi_per_filtered_nav_status = filtered_nav_status.groupBy(\"nav_status\").agg(countDistinct(\"mmsi\").alias(\"unique_mmsi_per_filtered_nav_status_count\"))\n",
    "\n",
    "# Tampilkan DataFrame Spark\n",
    "unique_mmsi_per_filtered_nav_status.show() "
   ]
  },
  {
   "cell_type": "markdown",
   "id": "bcb03572",
   "metadata": {},
   "source": [
    "## Filter Tipe Kapal"
   ]
  },
  {
   "cell_type": "code",
   "execution_count": null,
   "id": "e24a4877",
   "metadata": {},
   "outputs": [],
   "source": [
    "# Filter data untuk vessel_type_code di dalam rentang tertentu\n",
    "filtered_vessel_type_code = filtered_nav_status.filter(col(\"vessel_type_code\").between(1, 99))"
   ]
  },
  {
   "cell_type": "code",
   "execution_count": null,
   "id": "1c0d5918",
   "metadata": {},
   "outputs": [],
   "source": [
    "# Nilai yang akan di-filter\n",
    "vessel_type_values = ['Sailing', 'Tanker', 'Other', 'Pleasure Craft', 'Passenger', 'Fishing', 'Port Tender', 'Dredging', 'Cargo']\n",
    "\n",
    "# Filter data berdasarkan nilai 'vessel_type'\n",
    "filtered_vessel_type = filtered_vessel_type_code.filter(col(\"vessel_type\").isin(vessel_type_values))"
   ]
  },
  {
   "cell_type": "code",
   "execution_count": null,
   "id": "ebd8b62f",
   "metadata": {},
   "outputs": [],
   "source": [
    "filtered_vessel_type.count()"
   ]
  },
  {
   "cell_type": "code",
   "execution_count": null,
   "id": "0a24effe",
   "metadata": {},
   "outputs": [],
   "source": [
    "# Hitung jumlah 'mmsi' per masing-masing 'vessel_type'\n",
    "mmsi_count_per_filtered_vessel_type = filtered_vessel_type.groupBy(\"vessel_type\").agg(count(\"mmsi\").alias(\"mmsi_count\"))\n",
    "\n",
    "# Tampilkan DataFrame Spark\n",
    "mmsi_count_per_filtered_vessel_type.show() "
   ]
  },
  {
   "cell_type": "code",
   "execution_count": null,
   "id": "b7dac079",
   "metadata": {},
   "outputs": [],
   "source": [
    "# Hitung jumlah 'mmsi' yang unik berdasarkan 'vessel_type'\n",
    "unique_mmsi_per_filtered_vessel_type = filtered_vessel_type.groupBy(\"vessel_type\").agg(countDistinct(\"mmsi\").alias(\"unique_mmsi_per_filtered_vessel_type_count\"))\n",
    "\n",
    "# Tampilkan DataFrame Spark\n",
    "unique_mmsi_per_filtered_vessel_type.show()  "
   ]
  },
  {
   "cell_type": "markdown",
   "id": "b161828a",
   "metadata": {},
   "source": [
    "## Filter Negara Kapal"
   ]
  },
  {
   "cell_type": "code",
   "execution_count": null,
   "id": "2b6a601a",
   "metadata": {},
   "outputs": [],
   "source": [
    "# Filter data untuk flag_country_code di dalam rentang tertentu\n",
    "filtered_flag_country_code = filtered_vessel_type.filter(col(\"flag_code\").between(201, 775))"
   ]
  },
  {
   "cell_type": "code",
   "execution_count": null,
   "id": "82dfedbb",
   "metadata": {},
   "outputs": [],
   "source": [
    "# Nilai yang akan di-filter\n",
    "# bagi jadi dua, Indonesia dan negara asing\n",
    "\n",
    "# Filter data berdasarkan nilai 'flag_country'"
   ]
  },
  {
   "cell_type": "code",
   "execution_count": null,
   "id": "8aed8fb1",
   "metadata": {},
   "outputs": [],
   "source": [
    "filtered_flag_country_code.count()"
   ]
  },
  {
   "cell_type": "code",
   "execution_count": null,
   "id": "e0e7ea1a",
   "metadata": {},
   "outputs": [],
   "source": [
    "# Hitung jumlah 'mmsi' per masing-masing 'flag_country'\n",
    "mmsi_count_per_filtered_flag_country = filtered_flag_country.groupBy(\"flag_country\").agg(count(\"mmsi\").alias(\"mmsi_count\"))\n",
    "\n",
    "# Tampilkan DataFrame Spark\n",
    "mmsi_count_per_filtered_flag_country.show() "
   ]
  },
  {
   "cell_type": "code",
   "execution_count": null,
   "id": "e0b50473",
   "metadata": {},
   "outputs": [],
   "source": [
    "# Filter out rows where 'flag_country' is not null\n",
    "df_filtered = filtered_flag_country.filter(col(\"flag_country\").isNotNull())\n",
    "\n",
    "# Hitung jumlah 'mmsi' yang unik berdasarkan 'flag_country'\n",
    "unique_mmsi_per_filtered_flag_country = df_filtered.groupBy(\"flag_country\").agg(countDistinct(\"mmsi\").alias(\"unique_mmsi_per_flag_country_count\"))\n",
    "\n",
    "# Tampilkan DataFrame Spark\n",
    "unique_mmsi_per_filtered_flag_country.show() "
   ]
  },
  {
   "cell_type": "markdown",
   "id": "4d6014a6",
   "metadata": {},
   "source": [
    "## Filter Lat, Long"
   ]
  },
  {
   "cell_type": "code",
   "execution_count": null,
   "id": "d51ad1ed",
   "metadata": {},
   "outputs": [],
   "source": [
    "# Filter data untuk latitude & longitude di dalam rentang tertentu\n",
    "filtered_lat = filtered_flag_country_code.filter(col(\"latitude\").between(-90, 90))\n",
    "filtered_lat_long = filtered_lat.filter(col(\"longitude\").between(-180, 180))"
   ]
  },
  {
   "cell_type": "code",
   "execution_count": null,
   "id": "8a8c0f51",
   "metadata": {},
   "outputs": [],
   "source": [
    "filtered_lat_long.count()"
   ]
  },
  {
   "cell_type": "markdown",
   "id": "e979bcbb",
   "metadata": {},
   "source": [
    "## Filter dt_pos_utc"
   ]
  },
  {
   "cell_type": "code",
   "execution_count": null,
   "id": "3e0ecbeb",
   "metadata": {},
   "outputs": [],
   "source": [
    "# Filter data untuk dt_pos_utc di dalam rentang tertentu\n",
    "pattern = \"^[1-9][0-9]{0,3}-[1-9]|0[1-9]|1[0-2]-[1-9]|0[1-9]|[1-2][0-9]|3[0-1] [0-9]|0[0-9]|1[0-9]|2[0-3]:[0-5][0-9]:[0-5][0-9]$\"\n",
    "\n",
    "# Filter data untuk mendapatkan hanya nilai 'dt_pos_utc' yang tidak valid\n",
    "filtered_dt_pos_utc = filtered_lat_long.filter(F.col(\"dt_pos_utc\").rlike(pattern))"
   ]
  },
  {
   "cell_type": "code",
   "execution_count": null,
   "id": "0e08b0ac",
   "metadata": {},
   "outputs": [],
   "source": [
    "filtered_dt_pos_utc.count()"
   ]
  },
  {
   "cell_type": "markdown",
   "id": "656e0350",
   "metadata": {},
   "source": [
    "## Filter Pelayaran/Pergerakan Anomali"
   ]
  },
  {
   "cell_type": "code",
   "execution_count": null,
   "id": "577ce700",
   "metadata": {},
   "outputs": [],
   "source": [
    "# plot jarak tempuh (y) sama waktu tempuh (x)\n",
    "# Dari plotnya keliatan mana yang jarak tempuhnya besar tapi waktu tempuhnya kecil (atau sebaliknya?)"
   ]
  },
  {
   "cell_type": "code",
   "execution_count": null,
   "id": "3b632525",
   "metadata": {},
   "outputs": [],
   "source": [
    "# Tentukan kriteria pergerakan tidak normal\n",
    "kriteria_pergerakan_tidak_normal = (\n",
    "    ((col(\"nav_status\").isin(['At Anchor', 'Restricted Manoeuvrability', 'Moored', 'Aground'])) &\n",
    "    (col(\"sog\") > 1)) | \n",
    "    ((col(\"nav_status\").isin(['Not Under Command', 'Underway Sailing', 'Under Way Using Engine', 'Engaged In Fishing'])) &\n",
    "    (col(\"sog\") < 1))\n",
    ")\n",
    "\n",
    "# kriteria pergerakan normal\n",
    "kriteria_pergerakan_normal = ~kriteria_pergerakan_tidak_normal\n",
    "\n",
    "# Filter pergerakan normal\n",
    "filtered_pergerakan_normal = filtered_dt_pos_utc.filter(kriteria_pergerakan_normal)"
   ]
  },
  {
   "cell_type": "code",
   "execution_count": null,
   "id": "0c013bcf",
   "metadata": {},
   "outputs": [],
   "source": [
    "filtered_pergerakan_normal.count()"
   ]
  },
  {
   "cell_type": "markdown",
   "id": "1560bb7b",
   "metadata": {},
   "source": [
    "## Filter Kapal di Pelabuhan"
   ]
  },
  {
   "cell_type": "code",
   "execution_count": null,
   "id": "94b7eb0a",
   "metadata": {},
   "outputs": [],
   "source": []
  },
  {
   "cell_type": "markdown",
   "id": "6a5cf218",
   "metadata": {},
   "source": [
    "## Filter Pergerakan Anomali"
   ]
  },
  {
   "cell_type": "code",
   "execution_count": null,
   "id": "698741d7",
   "metadata": {},
   "outputs": [],
   "source": []
  },
  {
   "cell_type": "markdown",
   "id": "8ffa61f4",
   "metadata": {},
   "source": [
    "# Setelah Difilter"
   ]
  },
  {
   "cell_type": "markdown",
   "id": "f795a67a",
   "metadata": {},
   "source": [
    "## Record"
   ]
  },
  {
   "cell_type": "code",
   "execution_count": null,
   "id": "e43ba019",
   "metadata": {},
   "outputs": [],
   "source": [
    "# Kelompokkan berdasarkan bulan dan hitung jumlah rekaman\n",
    "rekaman_per_bulan_filter = filtered_pergerakan_normal.groupBy(\"months\").agg(count(\"*\").alias(\"jumlah_record_per_bulan\"))\n",
    "\n",
    "# Tampilkan DataFrame Spark yang telah diubah dan diurutkan\n",
    "rekaman_per_bulan_filter.show()"
   ]
  },
  {
   "cell_type": "markdown",
   "id": "41470365",
   "metadata": {},
   "source": [
    "# Download"
   ]
  },
  {
   "cell_type": "markdown",
   "id": "ac91d8b3",
   "metadata": {},
   "source": [
    "## Fungsi"
   ]
  },
  {
   "cell_type": "code",
   "execution_count": 11,
   "id": "092d3b5f",
   "metadata": {},
   "outputs": [],
   "source": [
    "def create_download_link(df, title, filename):\n",
    "    csv = df.to_csv(index = False)\n",
    "    b64 = base64.b64encode(csv.encode())\n",
    "    payload = b64.decode()\n",
    "    html = '<a download=\"{filename}\" href=\"data:text/csv;base64,{payload}\" target=\"_blank\">{title}</a>'\n",
    "    html = html.format(payload=payload, title=title, filename=filename)\n",
    "    return HTML(html)"
   ]
  },
  {
   "cell_type": "markdown",
   "id": "e554217f",
   "metadata": {},
   "source": [
    "## Download Data"
   ]
  },
  {
   "cell_type": "code",
   "execution_count": 19,
   "id": "84f80fab",
   "metadata": {},
   "outputs": [
    {
     "name": "stderr",
     "output_type": "stream",
     "text": [
      "/opt/spark/python/lib/pyspark.zip/pyspark/sql/pandas/conversion.py:474: FutureWarning: iteritems is deprecated and will be removed in a future version. Use .items instead.\n",
      "  for column, series in pdf.iteritems():\n",
      "/opt/spark/python/lib/pyspark.zip/pyspark/sql/pandas/conversion.py:486: FutureWarning: iteritems is deprecated and will be removed in a future version. Use .items instead.\n",
      "  for column, series in pdf.iteritems():\n"
     ]
    },
    {
     "data": {
      "text/html": [
       "<a download=\"rekaman_per_bulan.csv\" href=\"data:text/csv;base64,YnVsYW4sanVtbGFoX3JlY29yZF9wZXJfYnVsYW4sYnVsYW5fbnVtZXJpawpKYW51YXJ5LDcwODg2MTE3MywxCkZlYnJ1YXJ5LDY1MjM0ODIxMSwyCk1hcmNoLDc0ODk0MjQ1MSwzCkFwcmlsLDc1MTI5MjcxMyw0Ck1heSw3Njg0ODk0ODEsNQpKdW5lLDc3MDI2ODA2Nyw2Ckp1bHksODE4MTIxNDgxLDcKQXVndXN0LDc5NTkzMDQwNSw4ClNlcHRlbWJlciw3NjY0MzI3ODUsOQpPY3RvYmVyLDc2OTMyMTY2MiwxMApOb3ZlbWJlciw2MTUzNDU3NzcsMTEKRGVjZW1iZXIsNzMyOTg0NDE2LDEyCg==\" target=\"_blank\">rekaman_per_bulan</a>"
      ],
      "text/plain": [
       "<IPython.core.display.HTML object>"
      ]
     },
     "execution_count": 19,
     "metadata": {},
     "output_type": "execute_result"
    }
   ],
   "source": [
    "# Jumlah Records (All)\n",
    "\n",
    "# DataFrame Spark\n",
    "rekaman_per_bulan = spark.createDataFrame(rekaman_per_bulan)\n",
    "\n",
    "# Export ke Pandas DataFrame\n",
    "rekaman_per_bulan = rekaman_per_bulan.toPandas()\n",
    "\n",
    "# Download Data\n",
    "create_download_link(rekaman_per_bulan, title=\"rekaman_per_bulan\", filename=\"rekaman_per_bulan.csv\")"
   ]
  },
  {
   "cell_type": "code",
   "execution_count": 10,
   "id": "3f99c5cb",
   "metadata": {},
   "outputs": [],
   "source": [
    "# Records (1%)\n",
    "\n",
    "# DataFrame Spark\n",
    "#sampled_data = spark.createDataFrame(sampled_data)\n",
    "\n",
    "# Export ke Pandas DataFrame\n",
    "#sampled_data = sampled_data.toPandas()\n",
    "\n",
    "# Download Data\n",
    "#create_download_link(sampled_data, title=sampled_data, filename=\"sampled_data.csv\")"
   ]
  },
  {
   "cell_type": "code",
   "execution_count": null,
   "id": "0f948218",
   "metadata": {},
   "outputs": [],
   "source": [
    "# Partisi Records (1%)\n",
    "\n",
    "# DataFrame Spark\n",
    "#sampledd_data_1 = spark.createDataFrame(sampledd_data_1)\n",
    "#sampledd_data_2 = spark.createDataFrame(sampledd_data_2)\n",
    "#sampledd_data_3 = spark.createDataFrame(sampledd_data_3)\n",
    "#sampledd_data_4 = spark.createDataFrame(sampledd_data_4)\n",
    "#sampledd_data_5 = spark.createDataFrame(sampledd_data_5)\n",
    "#sampledd_data_6 = spark.createDataFrame(sampledd_data_6)\n",
    "#sampledd_data_7 = spark.createDataFrame(sampledd_data_7)\n",
    "#sampledd_data_8 = spark.createDataFrame(sampledd_data_8)\n",
    "#sampledd_data_9 = spark.createDataFrame(sampledd_data_9)\n",
    "#sampledd_data_10 = spark.createDataFrame(sampledd_data_10)\n",
    "\n",
    "# Export ke Pandas DataFrame\n",
    "#sampledd_data_1 = sampledd_data_1.toPandas()\n",
    "#sampledd_data_2 = sampledd_data_2.toPandas()\n",
    "#sampledd_data_3 = sampledd_data_3.toPandas()\n",
    "#sampledd_data_4 = sampledd_data_4.toPandas()\n",
    "#sampledd_data_5 = sampledd_data_5.toPandas()\n",
    "#sampledd_data_6 = sampledd_data_6.toPandas()\n",
    "#sampledd_data_7 = sampledd_data_7.toPandas()\n",
    "#sampledd_data_8 = sampledd_data_8.toPandas()\n",
    "#sampledd_data_9 = sampledd_data_9.toPandas()\n",
    "#sampledd_data_10 = sampledd_data_10.toPandas()\n",
    "\n",
    "# Download Data\n",
    "#create_download_link(sampledd_data_1, title=sampledd_data_1, filename=\"sampledd_data_1.csv\")\n",
    "#create_download_link(sampledd_data_2, title=sampledd_data_2, filename=\"sampledd_data_2.csv\")\n",
    "#create_download_link(sampledd_data_3, title=sampledd_data_3, filename=\"sampledd_data_3.csv\")\n",
    "#create_download_link(sampledd_data_4, title=sampledd_data_4, filename=\"sampledd_data_4.csv\")\n",
    "#create_download_link(sampledd_data_5, title=sampledd_data_5, filename=\"sampledd_data_5.csv\")\n",
    "#create_download_link(sampledd_data_6, title=sampledd_data_6, filename=\"sampledd_data_6.csv\")\n",
    "#create_download_link(sampledd_data_7, title=sampledd_data_7, filename=\"sampledd_data_7.csv\")\n",
    "#create_download_link(sampledd_data_8, title=sampledd_data_8, filename=\"sampledd_data_8.csv\")\n",
    "#create_download_link(sampledd_data_9, title=sampledd_data_9, filename=\"sampledd_data_9.csv\")\n",
    "#create_download_link(sampledd_data_10, title=sampledd_data_10, filename=\"sampledd_data_10.csv\")"
   ]
  },
  {
   "cell_type": "code",
   "execution_count": 17,
   "id": "f5eb0e6a",
   "metadata": {},
   "outputs": [
    {
     "data": {
      "text/html": [
       "<a download=\"rekaman_per_bulan_1pers.csv\" href=\"data:text/csv;base64,YnVsYW4sanVtbGFoX3JlY29yZF9wZXJfYnVsYW4sYnVsYW5fbnVtZXJpawpKYW51YXJ5LDcwOTIzNTMsMQpGZWJydWFyeSw2NTIzNDY5LDIKTWFyY2gsNzQ5NTMxOSwzCkFwcmlsLDc1MTQ5OTUsNApNYXksNzY4ODk5NCw1Ckp1bmUsNzcwMjM4Niw2Ckp1bHksODE4MDMwNyw3CkF1Z3VzdCw3OTU2OTI3LDgKU2VwdGVtYmVyLDc2NjQxMTUsOQpPY3RvYmVyLDc2OTIyNjksMTAKTm92ZW1iZXIsNjE1MjYyMywxMQpEZWNlbWJlciw3MzMyMzMzLDEyCg==\" target=\"_blank\">        bulan  jumlah_record_per_bulan  bulan_numerik\n",
       "0     January                  7092353              1\n",
       "1    February                  6523469              2\n",
       "2       March                  7495319              3\n",
       "3       April                  7514995              4\n",
       "4         May                  7688994              5\n",
       "5        June                  7702386              6\n",
       "6        July                  8180307              7\n",
       "7      August                  7956927              8\n",
       "8   September                  7664115              9\n",
       "9     October                  7692269             10\n",
       "10   November                  6152623             11\n",
       "11   December                  7332333             12</a>"
      ],
      "text/plain": [
       "<IPython.core.display.HTML object>"
      ]
     },
     "execution_count": 17,
     "metadata": {},
     "output_type": "execute_result"
    }
   ],
   "source": [
    "# Jumlah Records (1%)\n",
    "\n",
    "# DataFrame Spark\n",
    "#rekaman_per_bulan_1pers = spark.createDataFrame(rekaman_per_bulan_1pers)\n",
    "\n",
    "# Export ke Pandas DataFrame\n",
    "rekaman_per_bulan_1pers = rekaman_per_bulan_1pers.toPandas()\n",
    "\n",
    "# Download Data\n",
    "create_download_link(rekaman_per_bulan_1pers, title=rekaman_per_bulan_1pers, filename=\"rekaman_per_bulan_1pers.csv\")"
   ]
  },
  {
   "cell_type": "code",
   "execution_count": 25,
   "id": "9ce5009f",
   "metadata": {},
   "outputs": [
    {
     "name": "stderr",
     "output_type": "stream",
     "text": [
      "/opt/spark/python/lib/pyspark.zip/pyspark/sql/pandas/conversion.py:474: FutureWarning: iteritems is deprecated and will be removed in a future version. Use .items instead.\n",
      "  for column, series in pdf.iteritems():\n",
      "/opt/spark/python/lib/pyspark.zip/pyspark/sql/pandas/conversion.py:486: FutureWarning: iteritems is deprecated and will be removed in a future version. Use .items instead.\n",
      "  for column, series in pdf.iteritems():\n"
     ]
    },
    {
     "data": {
      "text/html": [
       "<a download=\"stats_df.csv\" href=\"data:text/csv;base64,c3VtbWFyeSxtbXNpLGltbyxuYXZfc3RhdHVzX2NvZGUsdmVzc2VsX3R5cGVfY29kZSxmbGFnX2NvZGUKY291bnQsODg5OTYwOTAsNDkzOTYzNzMsODg5OTYwOTAsODg5OTYwOTAsODczNzM0MDAKbWVhbiwzLjk1NTcxMjI3MzgwMTUxRTgsMS40NTg0NDkzOTU4MDM3MzA0RTcsNS40Njc0Mjc4OTQ4NjU5NDMsNjIuMTcxMTk0ODY5MzQ3NjMsMzk1LjIwNDAzNzc3MzUxMDA0CnN0ZGRldiwxLjMzNzUyMDgyNDU3NzM2ODVFOCw2LjcxNzE2MTkyOTMwNjQyMkU3LDYuNjAwMzg3NTQyMjI2ODEyLDIwLjc1OTA2NDM2MDU3MTEzLDEzMy40ODY1NjMxMjU0OTY0MgptaW4sMCwxLDAsMCwyMDEKbWF4LDEwNzM3MjIzNjcsMTA3Mzc0MTgyMywxNiwyNTUsNzc1Cg==\" target=\"_blank\">  summary                  mmsi                   imo    nav_status_code  \\\n",
       "0   count              88996090              49396373           88996090   \n",
       "1    mean    3.95571227380151E8  1.4584493958037304E7  5.467427894865943   \n",
       "2  stddev  1.3375208245773685E8   6.717161929306422E7  6.600387542226812   \n",
       "3     min                     0                     1                  0   \n",
       "4     max            1073722367            1073741823                 16   \n",
       "\n",
       "    vessel_type_code           flag_code  \n",
       "0           88996090            87373400  \n",
       "1  62.17119486934763  395.20403777351004  \n",
       "2  20.75906436057113  133.48656312549642  \n",
       "3                  0                 201  \n",
       "4                255                 775  </a>"
      ],
      "text/plain": [
       "<IPython.core.display.HTML object>"
      ]
     },
     "execution_count": 25,
     "metadata": {},
     "output_type": "execute_result"
    }
   ],
   "source": [
    "# Statistical Summary\n",
    "\n",
    "# DataFrame Spark\n",
    "stats_df = spark.createDataFrame(stats_df)\n",
    "#stats_df_2 = spark.createDataFrame(stats_df_2)\n",
    "\n",
    "# Export ke Pandas DataFrame\n",
    "stats_df = stats_df.toPandas()\n",
    "#stats_df_2 = stats_df_2.toPandas()\n",
    "\n",
    "# Download Data\n",
    "create_download_link(stats_df, title=stats_df, filename=\"stats_df.csv\")\n",
    "#create_download_link(stats_df_2, title=stats_df_2, filename=\"stats_df_2.csv\")"
   ]
  },
  {
   "cell_type": "code",
   "execution_count": 19,
   "id": "639837b4",
   "metadata": {},
   "outputs": [
    {
     "data": {
      "text/html": [
       "<a download=\"df_unique_imo_spark.csv\" href=\"data:text/csv;base64,YnVsYW4sdW5pcXVlX2ltb19jb3VudApKYW51YXJ5LDcxMzU5CkZlYnJ1YXJ5LDcwOTA2Ck1hcmNoLDY4NjAxCkFwcmlsLDcwNDY0Ck1heSw2OTk2NwpKdW5lLDcxMzI5Ckp1bHksNzExNzUKQXVndXN0LDcxNTUwClNlcHRlbWJlciw3MDUwMQpPY3RvYmVyLDcxMjExCk5vdmVtYmVyLDcwMjIxCkRlY2VtYmVyLDcxNDUxCg==\" target=\"_blank\">        bulan  unique_imo_count\n",
       "0     January             71359\n",
       "1    February             70906\n",
       "2       March             68601\n",
       "3       April             70464\n",
       "4         May             69967\n",
       "5        June             71329\n",
       "6        July             71175\n",
       "7      August             71550\n",
       "8   September             70501\n",
       "9     October             71211\n",
       "10   November             70221\n",
       "11   December             71451</a>"
      ],
      "text/plain": [
       "<IPython.core.display.HTML object>"
      ]
     },
     "execution_count": 19,
     "metadata": {},
     "output_type": "execute_result"
    }
   ],
   "source": [
    "# (MMSI, IMO, Status Navigasi, Tipe Kapal, Negara Kapal) Unik\n",
    "\n",
    "# DataFrame Spark\n",
    "#df_unique_mmsi_spark = spark.createDataFrame(df_unique_mmsi_spark)\n",
    "#df_unique_imo_spark = spark.createDataFrame(df_unique_imo_spark)\n",
    "#mmsi_count_per_nav_status = spark.createDataFrame(mmsi_count_per_nav_status)\n",
    "#mmsi_count_per_vessel_type = spark.createDataFrame(mmsi_count_per_vessel_type)\n",
    "#mmsi_count_per_flag_country = spark.createDataFrame(mmsi_count_per_flag_country)\n",
    "\n",
    "# Export ke Pandas DataFrame\n",
    "#df_unique_mmsi_spark = df_unique_mmsi_spark.toPandas()\n",
    "#df_unique_imo_spark = df_unique_imo_spark.toPandas()\n",
    "mmsi_count_per_nav_status = mmsi_count_per_nav_status.toPandas()\n",
    "#mmsi_count_per_vessel_type = mmsi_count_per_vessel_type.toPandas()\n",
    "#mmsi_count_per_flag_country = mmsi_count_per_flag_country.toPandas()\n",
    "   \n",
    "\n",
    "# Download Data\n",
    "#create_download_link(df_unique_mmsi_spark, title=df_unique_mmsi_spark, filename=\"df_unique_mmsi_spark.csv\")\n",
    "#create_download_link(df_unique_imo_spark, title=df_unique_imo_spark, filename=\"df_unique_imo_spark.csv\")\n",
    "create_download_link(mmsi_count_per_nav_status, title=mmsi_count_per_nav_status, filename=\"mmsi_count_per_nav_status.csv\")\n",
    "#create_download_link(mmsi_count_per_vessel_type, title=mmsi_count_per_vessel_type, filename=\"mmsi_count_per_vessel_type.csv\")\n",
    "#create_download_link(mmsi_count_per_flag_country, title=mmsi_count_per_flag_country, filename=\"mmsi_count_per_flag_country.csv\")"
   ]
  },
  {
   "cell_type": "code",
   "execution_count": 15,
   "id": "7295467b",
   "metadata": {},
   "outputs": [
    {
     "data": {
      "text/html": [
       "<a download=\"unique_mmsi_per_flag_country.csv\" href=\"data:text/csv;base64,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\" target=\"_blank\">    flag_country  unique_mmsi_per_flag_country_count\n",
       "0           Chad                                  11\n",
       "1       Paraguay                                 220\n",
       "2       Anguilla                                 100\n",
       "3          Macao                                  78\n",
       "4          Yemen                                  45\n",
       "..           ...                                 ...\n",
       "229        Tonga                                  26\n",
       "230   Uzbekistan                                  15\n",
       "231         Mali                                   5\n",
       "232        Aruba                                   6\n",
       "233     Zimbabwe                                   3\n",
       "\n",
       "[234 rows x 2 columns]</a>"
      ],
      "text/plain": [
       "<IPython.core.display.HTML object>"
      ]
     },
     "execution_count": 15,
     "metadata": {},
     "output_type": "execute_result"
    }
   ],
   "source": [
    "# MMSI Unik per (Status Navigasi, Tipe Kapal, Negara Kapal) \n",
    "\n",
    "# DataFrame Spark\n",
    "#unique_mmsi_per_nav_status = spark.createDataFrame(unique_mmsi_per_nav_status)\n",
    "#unique_mmsi_per_vessel_type = spark.createDataFrame(unique_mmsi_per_vessel_type)\n",
    "#unique_mmsi_per_flag_country = spark.createDataFrame(unique_mmsi_per_flag_country)\n",
    "\n",
    "# Export ke Pandas DataFrame\n",
    "#unique_mmsi_per_nav_status = unique_mmsi_per_nav_status.toPandas()\n",
    "#unique_mmsi_per_vessel_type = unique_mmsi_per_vessel_type.toPandas()\n",
    "unique_mmsi_per_flag_country = unique_mmsi_per_flag_country.toPandas()\n",
    "  \n",
    "# Download Data\n",
    "#create_download_link(unique_mmsi_per_nav_status, title=unique_mmsi_per_nav_status, filename=\"unique_mmsi_per_nav_status.csv\")\n",
    "#create_download_link(unique_mmsi_per_vessel_type, title=unique_mmsi_per_vessel_type, filename=\"unique_mmsi_per_vessel_type.csv\")\n",
    "create_download_link(unique_mmsi_per_flag_country, title=unique_mmsi_per_flag_country, filename=\"unique_mmsi_per_flag_country.csv\")"
   ]
  },
  {
   "cell_type": "code",
   "execution_count": 19,
   "id": "482952c1",
   "metadata": {},
   "outputs": [],
   "source": [
    "# Nilai Default\n",
    "\n",
    "# DataFrame Spark\n",
    "#mmsi_default_per_month = spark.createDataFrame(mmsi_default_per_month)\n",
    "#imo_default_per_month = spark.createDataFrame(imo_default_per_month)\n",
    "#nav_status_default_per_month = spark.createDataFrame(nav_status_default_per_month)\n",
    "#vessel_type_default_per_month = spark.createDataFrame(vessel_type_default_per_month)\n",
    "#flag_country_default_per_month = spark.createDataFrame(flag_country_default_per_month)\n",
    "#latitude_default_per_month = spark.createDataFrame(latitude_default_per_month)\n",
    "#longitude_default_per_month = spark.createDataFrame(longitude_default_per_month)\n",
    "#dt_pos_utc_default_per_month = spark.createDataFrame(dt_pos_utc_default_per_month)\n",
    "\n",
    "# Export ke Pandas DataFrame\n",
    "#mmsi_default_per_month = mmsi_default_per_month.toPandas()\n",
    "#imo_default_per_month = imo_default_per_month.toPandas()\n",
    "#nav_status_default_per_month = nav_status_default_per_month.toPandas()\n",
    "#vessel_type_default_per_month = vessel_type_default_per_month.toPandas()\n",
    "#flag_country_default_per_month = flag_country_default_per_month.toPandas()\n",
    "#latitude_default_per_month = latitude_default_per_month.toPandas()\n",
    "#longitude_default_per_month = longitude_default_per_month.toPandas()\n",
    "#dt_pos_utc_default_per_month = dt_pos_utc_default_per_month.toPandas()\n",
    "             \n",
    "\n",
    "# Download Data\n",
    "#create_download_link(mmsi_default_per_month, title=mmsi_default_per_month, filename=\"mmsi_default_per_month.csv\")\n",
    "#create_download_link(imo_default_per_month, title=imo_default_per_month, filename=\"imo_default_per_month.csv\")\n",
    "#create_download_link(nav_status_default_per_month, title=nav_status_default_per_month, filename=\"nav_status_default_per_month.csv\")\n",
    "#create_download_link(vessel_type_default_per_month, title=vessel_type_default_per_month, filename=\"vessel_type_default_per_month.csv\")\n",
    "#create_download_link(flag_country_default_per_month, title=flag_country_default_per_month, filename=\"flag_country_default_per_month.csv\")\n",
    "#create_download_link(latitude_default_per_month, title=latitude_default_per_month, filename=\"latitude_default_per_month.csv\")\n",
    "#create_download_link(longitude_default_per_month, title=longitude_default_per_month, filename=\"longitude_default_per_month.csv\")\n",
    "#create_download_link(dt_pos_utc_default_per_month, title=dt_pos_utc_default_per_month, filename=\"dt_pos_utc_default_per_month.csv\")"
   ]
  },
  {
   "cell_type": "code",
   "execution_count": null,
   "id": "dd9c14b1",
   "metadata": {},
   "outputs": [],
   "source": [
    "# Invalid Value\n",
    "\n",
    "# DataFrame Spark\n",
    "mmsi_invalid = spark.createDataFrame(mmsi_invalid)\n",
    "#imo_invalid = spark.createDataFrame(imo_invalid)\n",
    "#nav_status_code_invalid = spark.createDataFrame(nav_status_code_invalid)\n",
    "#vessel_type_code_invalid = spark.createDataFrame(vessel_type_code_invalid)\n",
    "#flag_country_code_invalid = spark.createDataFrame(flag_country_code_invalid)\n",
    "#latitude_invalid = spark.createDataFrame(latitude_invalid)\n",
    "#longitude_invalid = spark.createDataFrame(longitude_invalid)\n",
    "#dt_pos_utc_invalid = spark.createDataFrame(dt_pos_utc_invalid)\n",
    "\n",
    "# Export ke Pandas DataFrame\n",
    "mmsi_invalid = mmsi_invalid.toPandas()\n",
    "#imo_invalid = imo_invalid.toPandas()\n",
    "#nav_status_code_invalid = nav_status_code_invalid.toPandas()\n",
    "#vessel_type_code_invalid = vessel_type_code_invalid.toPandas()\n",
    "#flag_country_code_invalid = flag_country_code_invalid.toPandas()\n",
    "#latitude_invalid = latitude_invalid.toPandas()\n",
    "#longitude_invalid = longitude_invalid.toPandas()\n",
    "#dt_pos_utc_invalid = dt_pos_utc_invalid.toPandas()\n",
    "       \n",
    "\n",
    "# Download Data\n",
    "create_download_link(mmsi_invalid, title=mmsi_invalid, filename=\"mmsi_invalid.csv\")\n",
    "#create_download_link(imo_invalid, title=imo_invalid, filename=\"imo_invalid.csv\")\n",
    "#create_download_link(nav_status_code_invalid, title=nav_status_code_invalid, filename=\"nav_status_code_invalid.csv\")\n",
    "#create_download_link(vessel_type_code_invalid, title=vessel_type_code_invalid, filename=\"vessel_type_code_invalid.csv\")\n",
    "#create_download_link(flag_country_code_invalid, title=flag_country_code_invalid, filename=\"flag_country_code_invalid.csv\")\n",
    "#create_download_link(latitude_invalid, title=latitude_invalid, filename=\"latitude_invalid.csv\")\n",
    "#create_download_link(longitude_invalid, title=longitude_invalid, filename=\"longitude_invalid.csv\")\n",
    "#create_download_link(dt_pos_utc_invalid, title=dt_pos_utc_invalid, filename=\"dt_pos_utc_invalid.csv\")"
   ]
  },
  {
   "cell_type": "code",
   "execution_count": null,
   "id": "e1513b42",
   "metadata": {},
   "outputs": [],
   "source": [
    "# Missing Value\n",
    "\n",
    "# DataFrame Spark\n",
    "missing_values_per_month_mmsi = spark.createDataFrame(missing_values_per_month_mmsi)\n",
    "#missing_values_per_month_imo = spark.createDataFrame(missing_values_per_month_imo)\n",
    "#missing_values_per_month_nav_status = spark.createDataFrame(missing_values_per_month_nav_status)\n",
    "#missing_values_per_month_vessel_type = spark.createDataFrame(missing_values_per_month_vessel_type)\n",
    "#missing_values_per_month_flag_country = spark.createDataFrame(missing_values_per_month_flag_country)\n",
    "#missing_values_per_month_latitude = spark.createDataFrame(missing_values_per_month_latitude)\n",
    "#missing_values_per_month_longitude = spark.createDataFrame(missing_values_per_month_longitude)\n",
    "#missing_values_per_month_dt_pos_utc = spark.createDataFrame(missing_values_per_month_dt_pos_utc)\n",
    "\n",
    "# Export ke Pandas DataFrame\n",
    "missing_values_per_month_mmsi = missing_values_per_month_mmsi.toPandas()\n",
    "#missing_values_per_month_imo = missing_values_per_month_imo.toPandas()\n",
    "#missing_values_per_month_nav_status = missing_values_per_month_nav_status.toPandas()\n",
    "#missing_values_per_month_vessel_type = missing_values_per_month_vessel_type.toPandas()\n",
    "#missing_values_per_month_flag_country = missing_values_per_month_flag_country.toPandas()\n",
    "#missing_values_per_month_latitude = missing_values_per_month_latitude.toPandas()\n",
    "#missing_values_per_month_longitude = missing_values_per_month_longitude.toPandas()\n",
    "#missing_values_per_month_dt_pos_utc = missing_values_per_month_dt_pos_utc.toPandas()\n",
    "        \n",
    "\n",
    "# Download Data\n",
    "create_download_link(missing_values_per_month_mmsi, title=missing_values_per_month_mmsi, filename=\"missing_values_per_month_mmsi.csv\")\n",
    "#create_download_link(missing_values_per_month_imo, title=missing_values_per_month_imo, filename=\"missing_values_per_month_imo.csv\")\n",
    "#create_download_link(missing_values_per_month_nav_status, title=missing_values_per_month_nav_status, filename=\"missing_values_per_month_nav_status.csv\")\n",
    "#create_download_link(missing_values_per_month_vessel_type, title=missing_values_per_month_vessel_type, filename=\"missing_values_per_month_vessel_type.csv\")\n",
    "#create_download_link(missing_values_per_month_flag_country, title=missing_values_per_month_flag_country, filename=\"missing_values_per_month_flag_country.csv\")\n",
    "#create_download_link(missing_values_per_month_latitude, title=missing_values_per_month_latitude, filename=\"missing_values_per_month_latitude.csv\")\n",
    "#create_download_link(missing_values_per_month_longitude, title=missing_values_per_month_longitude, filename=\"missing_values_per_month_longitude.csv\")\n",
    "#create_download_link(missing_values_per_month_dt_pos_utc, title=missing_values_per_month_dt_pos_utc, filename=\"missing_values_per_month_dt_pos_utc.csv\")"
   ]
  },
  {
   "cell_type": "code",
   "execution_count": null,
   "id": "df8e50d5",
   "metadata": {},
   "outputs": [],
   "source": [
    "# Filter (MMSI, IMO, Status Navigasi, Tipe Kapal, Negara Kapal Default, Latitude, Longitude, dt_pos_utc)\n",
    "\n",
    "# DataFrame Spark\n",
    "unique_filtered_mmsi_per_month = spark.createDataFrame(unique_filtered_mmsi_per_month)\n",
    "#unique_filtered_imo_per_month = spark.createDataFrame(unique_filtered_imo_per_month)\n",
    "#mmsi_count_per_filtered_nav_status = spark.createDataFrame(mmsi_count_per_filtered_nav_status)\n",
    "#unique_mmsi_per_filtered_nav_status = spark.createDataFrame(unique_mmsi_per_filtered_nav_status)\n",
    "#mmsi_count_per_filtered_vessel_type = spark.createDataFrame(mmsi_count_per_filtered_vessel_type)\n",
    "#unique_mmsi_per_filtered_vessel_type = spark.createDataFrame(unique_mmsi_per_filtered_vessel_type)\n",
    "#mmsi_count_per_filtered_flag_country = spark.createDataFrame(mmsi_count_per_filtered_flag_country)\n",
    "#unique_mmsi_per_filtered_flag_country = spark.createDataFrame(unique_mmsi_per_filtered_flag_country)\n",
    "\n",
    "# Export ke Pandas DataFrame\n",
    "unique_filtered_mmsi_per_month = unique_filtered_mmsi_per_month.toPandas()\n",
    "#df_unique_filtered_imo_spark = df_unique_filtered_imo_spark.toPandas()\n",
    "#mmsi_count_per_filtered_nav_status = mmsi_count_per_filtered_nav_status.toPandas()\n",
    "#unique_mmsi_per_filtered_nav_status = unique_mmsi_per_filtered_nav_status.toPandas()\n",
    "#mmsi_count_per_filtered_vessel_type = mmsi_count_per_filtered_vessel_type.toPandas()\n",
    "#unique_mmsi_per_filtered_vessel_type = unique_mmsi_per_filtered_vessel_type.toPandas()\n",
    "#mmsi_count_per_filtered_flag_country = mmsi_count_per_filtered_flag_country.toPandas()\n",
    "#unique_mmsi_per_filtered_flag_country = unique_mmsi_per_filtered_flag_country.toPandas()\n",
    "\n",
    "\n",
    "# Download Data\n",
    "create_download_link(unique_filtered_mmsi_per_month, title=unique_filtered_mmsi_per_month, filename=\"unique_filtered_mmsi_per_month.csv\")\n",
    "#create_download_link(unique_filtered_imo_per_month, title=unique_filtered_imo_per_month, filename=\"unique_filtered_imo_per_month.csv\")\n",
    "#create_download_link(mmsi_count_per_filtered_nav_status, title=mmsi_count_per_filtered_nav_status, filename=\"mmsi_count_per_filtered_nav_status.csv\")\n",
    "#create_download_link(unique_mmsi_per_filtered_nav_status, title=unique_mmsi_per_filtered_nav_status, filename=\"unique_mmsi_per_filtered_nav_status.csv\")\n",
    "#create_download_link(mmsi_count_per_filtered_vessel_type, title=mmsi_count_per_filtered_vessel_type, filename=\"mmsi_count_per_filtered_vessel_type.csv\")\n",
    "#create_download_link(unique_mmsi_per_filtered_vessel_type, title=unique_mmsi_per_filtered_vessel_type, filename=\"unique_mmsi_per_filtered_vessel_type.csv\")\n",
    "#create_download_link(mmsi_count_per_filtered_flag_country, title=mmsi_count_per_filtered_flag_country, filename=\"mmsi_count_per_filtered_flag_country.csv\")\n",
    "#create_download_link(unique_mmsi_per_filtered_flag_country, title=unique_mmsi_per_filtered_flag_country, filename=\"unique_mmsi_per_filtered_flag_country.csv\")"
   ]
  },
  {
   "cell_type": "code",
   "execution_count": null,
   "id": "0b05a459",
   "metadata": {},
   "outputs": [],
   "source": [
    "# Filter yg melakukan pelayaran/lintasan anomali(?)\n",
    "\n",
    "# DataFrame Spark\n",
    "rekaman_per_bulan_1pers = spark.createDataFrame(rekaman_per_bulan_1pers)\n",
    "rekaman_per_bulan_1pers = spark.createDataFrame(rekaman_per_bulan_1pers)\n",
    "\n",
    "# Export ke Pandas DataFrame\n",
    "rekaman_per_bulan_1pers = rekaman_per_bulan_1pers.toPandas()\n",
    "\n",
    "# Download Data\n",
    "create_download_link(rekaman_per_bulan_1pers, filename=\"rekaman_per_bulan_1pers.csv\")"
   ]
  },
  {
   "cell_type": "code",
   "execution_count": null,
   "id": "87aadac3",
   "metadata": {},
   "outputs": [],
   "source": []
  }
 ],
 "metadata": {
  "kernelspec": {
   "display_name": "Config template ais-tt-dev",
   "language": "python3",
   "name": "ais-tt-dev"
  },
  "language_info": {
   "codemirror_mode": {
    "name": "ipython",
    "version": 3
   },
   "file_extension": ".py",
   "mimetype": "text/x-python",
   "name": "python",
   "nbconvert_exporter": "python",
   "pygments_lexer": "ipython3",
   "version": "3.8.13"
  }
 },
 "nbformat": 4,
 "nbformat_minor": 5
}
