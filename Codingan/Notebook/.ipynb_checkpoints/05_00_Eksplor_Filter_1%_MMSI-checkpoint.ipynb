{
 "cells": [
  {
   "cell_type": "markdown",
   "id": "5816fa69",
   "metadata": {},
   "source": [
    "# Inilization"
   ]
  },
  {
   "cell_type": "code",
   "execution_count": 1,
   "id": "02162682",
   "metadata": {},
   "outputs": [],
   "source": [
    "import pandas as pd\n",
    "from pyspark.sql import functions as F\n",
    "\n",
    "#For 3.3.1\n",
    "#Register Sedona Functions to Spark\n",
    "from sedona.register import SedonaRegistrator\n",
    "SedonaRegistrator.registerAll(spark)\n",
    "\n",
    "\n",
    "#For 3.3.2\n",
    "from shapely.geometry import Point, Polygon, mapping\n",
    "import h3.api.numpy_int as h3int "
   ]
  },
  {
   "cell_type": "code",
   "execution_count": 2,
   "id": "a608c8ab",
   "metadata": {},
   "outputs": [],
   "source": [
    "from pyspark.sql import SparkSession\n",
    "from pyspark.sql.functions import col, date_format, count, countDistinct, when, expr, broadcast\n",
    "import calendar\n",
    "from pyspark.sql.types import IntegerType\n",
    "from pyspark.sql.window import Window"
   ]
  },
  {
   "cell_type": "code",
   "execution_count": 3,
   "id": "520986fc",
   "metadata": {},
   "outputs": [],
   "source": [
    "import pandas as pd\n",
    "from IPython.display import HTML\n",
    "import base64\n",
    "from pyspark.sql.functions import year, month, dayofmonth, hour, minute, second\n",
    "from pyspark.sql.functions import monotonically_increasing_id"
   ]
  },
  {
   "cell_type": "markdown",
   "id": "00ed31f2",
   "metadata": {},
   "source": [
    "# Eksplorasi Data"
   ]
  },
  {
   "cell_type": "markdown",
   "id": "20278508",
   "metadata": {},
   "source": [
    "## Data AIS"
   ]
  },
  {
   "cell_type": "code",
   "execution_count": 4,
   "id": "8e22f021",
   "metadata": {},
   "outputs": [],
   "source": [
    "basepath = \"s3a://ungp-ais-data-historical-backup/exact-earth-data/transformed/prod/\""
   ]
  },
  {
   "cell_type": "code",
   "execution_count": 5,
   "id": "ca968bfe",
   "metadata": {},
   "outputs": [],
   "source": [
    "#Read Data January 2022\n",
    "#df_data = spark.read.parquet(basepath+ \"year=2022/month=01/day=01\")\n",
    "\n",
    "#Read Data 2022\n",
    "df_data = spark.read.parquet(basepath+ \"year=2022\")"
   ]
  },
  {
   "cell_type": "code",
   "execution_count": 6,
   "id": "3e627820",
   "metadata": {},
   "outputs": [],
   "source": [
    "df_data.createOrReplaceTempView(\"temp_df\")"
   ]
  },
  {
   "cell_type": "markdown",
   "id": "2023ad74",
   "metadata": {},
   "source": [
    "## Cek Data"
   ]
  },
  {
   "cell_type": "code",
   "execution_count": 7,
   "id": "e058ce26",
   "metadata": {
    "scrolled": true
   },
   "outputs": [
    {
     "name": "stdout",
     "output_type": "stream",
     "text": [
      "root\n",
      " |-- mmsi: integer (nullable = true)\n",
      " |-- imo: integer (nullable = true)\n",
      " |-- vessel_name: string (nullable = true)\n",
      " |-- callsign: string (nullable = true)\n",
      " |-- vessel_type: string (nullable = true)\n",
      " |-- vessel_type_code: integer (nullable = true)\n",
      " |-- vessel_type_cargo: string (nullable = true)\n",
      " |-- vessel_class: string (nullable = true)\n",
      " |-- length: double (nullable = true)\n",
      " |-- width: double (nullable = true)\n",
      " |-- flag_country: string (nullable = true)\n",
      " |-- flag_code: integer (nullable = true)\n",
      " |-- destination: string (nullable = true)\n",
      " |-- eta: integer (nullable = true)\n",
      " |-- draught: double (nullable = true)\n",
      " |-- longitude: double (nullable = true)\n",
      " |-- latitude: double (nullable = true)\n",
      " |-- sog: double (nullable = true)\n",
      " |-- cog: double (nullable = true)\n",
      " |-- rot: double (nullable = true)\n",
      " |-- heading: double (nullable = true)\n",
      " |-- nav_status: string (nullable = true)\n",
      " |-- nav_status_code: integer (nullable = true)\n",
      " |-- source: string (nullable = true)\n",
      " |-- dt_pos_utc: timestamp (nullable = true)\n",
      " |-- dt_static_utc: timestamp (nullable = true)\n",
      " |-- dt_insert_utc: timestamp (nullable = true)\n",
      " |-- vessel_type_main: string (nullable = true)\n",
      " |-- vessel_type_sub: string (nullable = true)\n",
      " |-- message_type: integer (nullable = true)\n",
      " |-- eeid: long (nullable = true)\n",
      " |-- source_filename: string (nullable = true)\n",
      " |-- H3index_0: string (nullable = true)\n",
      " |-- H3_int_index_0: long (nullable = true)\n",
      " |-- H3_int_index_1: long (nullable = true)\n",
      " |-- H3_int_index_2: long (nullable = true)\n",
      " |-- H3_int_index_3: long (nullable = true)\n",
      " |-- H3_int_index_4: long (nullable = true)\n",
      " |-- H3_int_index_5: long (nullable = true)\n",
      " |-- H3_int_index_6: long (nullable = true)\n",
      " |-- H3_int_index_7: long (nullable = true)\n",
      " |-- H3_int_index_8: long (nullable = true)\n",
      " |-- H3_int_index_9: long (nullable = true)\n",
      " |-- H3_int_index_10: long (nullable = true)\n",
      " |-- H3_int_index_11: long (nullable = true)\n",
      " |-- H3_int_index_12: long (nullable = true)\n",
      " |-- H3_int_index_13: long (nullable = true)\n",
      " |-- H3_int_index_14: long (nullable = true)\n",
      " |-- H3_int_index_15: long (nullable = true)\n",
      " |-- month: integer (nullable = true)\n",
      " |-- day: integer (nullable = true)\n",
      "\n"
     ]
    }
   ],
   "source": [
    "#Check-out available fields\n",
    "df_data.printSchema()"
   ]
  },
  {
   "cell_type": "code",
   "execution_count": 8,
   "id": "e2c1d70f",
   "metadata": {},
   "outputs": [
    {
     "name": "stdout",
     "output_type": "stream",
     "text": [
      "-RECORD 0---------------------------------\n",
      " mmsi              | 273295870            \n",
      " imo               | 9167758              \n",
      " vessel_name       | ARKA-33              \n",
      " callsign          | UBPW7                \n",
      " vessel_type       | Fishing              \n",
      " vessel_type_code  | 30                   \n",
      " vessel_type_cargo | null                 \n",
      " vessel_class      | A                    \n",
      " length            | 0.0                  \n",
      " width             | 0.0                  \n",
      " flag_country      | Russian Federation   \n",
      " flag_code         | 273                  \n",
      " destination       | BARENTS SEA          \n",
      " eta               | 8112200              \n",
      " draught           | 5.0                  \n",
      " longitude         | 49.25605             \n",
      " latitude          | 76.70656667          \n",
      " sog               | 0.8                  \n",
      " cog               | 50.6                 \n",
      " rot               | 0.0                  \n",
      " heading           | 6.0                  \n",
      " nav_status        | Under Way Using E... \n",
      " nav_status_code   | 0                    \n",
      " source            | S-AIS                \n",
      " dt_pos_utc        | 2022-11-19 17:23:41  \n",
      " dt_static_utc     | 2022-11-19 12:37:44  \n",
      " dt_insert_utc     | 2022-11-19 17:24:02  \n",
      " vessel_type_main  | null                 \n",
      " vessel_type_sub   | null                 \n",
      " message_type      | 1                    \n",
      " eeid              | 6909951752121494014  \n",
      " source_filename   | s3a://ungp-ais-da... \n",
      " H3index_0         | 8001fffffffffff      \n",
      " H3_int_index_0    | 576495936675512319   \n",
      " H3_int_index_1    | 580968749977305087   \n",
      " H3_int_index_2    | 585469600825606143   \n",
      " H3_int_index_3    | 589998626659368959   \n",
      " H3_int_index_4    | 594476585331982335   \n",
      " H3_int_index_5    | 598980183885611007   \n",
      " H3_int_index_6    | 603483783378763775   \n",
      " H3_int_index_7    | 607987382905470975   \n",
      " H3_int_index_8    | 612490982518161407   \n",
      " H3_int_index_9    | 616994582143696895   \n",
      " H3_int_index_10   | 621498181771034623   \n",
      " H3_int_index_11   | 626001781398392831   \n",
      " H3_int_index_12   | 630505381025761279   \n",
      " H3_int_index_13   | 635008980653131647   \n",
      " H3_int_index_14   | 639512580280502119   \n",
      " H3_int_index_15   | 644016179907872611   \n",
      " month             | 11                   \n",
      " day               | 19                   \n",
      "-RECORD 1---------------------------------\n",
      " mmsi              | 273295870            \n",
      " imo               | 9167758              \n",
      " vessel_name       | ARKA-33              \n",
      " callsign          | UBPW7                \n",
      " vessel_type       | Fishing              \n",
      " vessel_type_code  | 30                   \n",
      " vessel_type_cargo | null                 \n",
      " vessel_class      | A                    \n",
      " length            | 0.0                  \n",
      " width             | 0.0                  \n",
      " flag_country      | Russian Federation   \n",
      " flag_code         | 273                  \n",
      " destination       | BARENTS SEA          \n",
      " eta               | 8112200              \n",
      " draught           | 5.0                  \n",
      " longitude         | 49.26321667          \n",
      " latitude          | 76.70918333          \n",
      " sog               | 0.8                  \n",
      " cog               | 63.3                 \n",
      " rot               | 0.0                  \n",
      " heading           | 352.0                \n",
      " nav_status        | Under Way Using E... \n",
      " nav_status_code   | 0                    \n",
      " source            | S-AIS                \n",
      " dt_pos_utc        | 2022-11-19 17:32:47  \n",
      " dt_static_utc     | 2022-11-19 12:37:44  \n",
      " dt_insert_utc     | 2022-11-19 17:33:12  \n",
      " vessel_type_main  | null                 \n",
      " vessel_type_sub   | null                 \n",
      " message_type      | 1                    \n",
      " eeid              | 6909951752121494014  \n",
      " source_filename   | s3a://ungp-ais-da... \n",
      " H3index_0         | 8001fffffffffff      \n",
      " H3_int_index_0    | 576495936675512319   \n",
      " H3_int_index_1    | 580968749977305087   \n",
      " H3_int_index_2    | 585469600825606143   \n",
      " H3_int_index_3    | 589998626659368959   \n",
      " H3_int_index_4    | 594476585331982335   \n",
      " H3_int_index_5    | 598980183885611007   \n",
      " H3_int_index_6    | 603483783378763775   \n",
      " H3_int_index_7    | 607987382905470975   \n",
      " H3_int_index_8    | 612490982518161407   \n",
      " H3_int_index_9    | 616994582144483327   \n",
      " H3_int_index_10   | 621498181771821055   \n",
      " H3_int_index_11   | 626001781399183359   \n",
      " H3_int_index_12   | 630505381026551295   \n",
      " H3_int_index_13   | 635008980653921599   \n",
      " H3_int_index_14   | 639512580281292055   \n",
      " H3_int_index_15   | 644016179908662579   \n",
      " month             | 11                   \n",
      " day               | 19                   \n",
      "-RECORD 2---------------------------------\n",
      " mmsi              | 273295870            \n",
      " imo               | 9167758              \n",
      " vessel_name       | ARKA-33              \n",
      " callsign          | UBPW7                \n",
      " vessel_type       | Fishing              \n",
      " vessel_type_code  | 30                   \n",
      " vessel_type_cargo | null                 \n",
      " vessel_class      | A                    \n",
      " length            | 0.0                  \n",
      " width             | 0.0                  \n",
      " flag_country      | Russian Federation   \n",
      " flag_code         | 273                  \n",
      " destination       | BARENTS SEA          \n",
      " eta               | 8112200              \n",
      " draught           | 5.0                  \n",
      " longitude         | 49.26666667          \n",
      " latitude          | 76.70975             \n",
      " sog               | 1.2                  \n",
      " cog               | 93.3                 \n",
      " rot               | 0.0                  \n",
      " heading           | 12.0                 \n",
      " nav_status        | Under Way Using E... \n",
      " nav_status_code   | 0                    \n",
      " source            | S-AIS                \n",
      " dt_pos_utc        | 2022-11-19 17:38:20  \n",
      " dt_static_utc     | 2022-11-19 12:37:44  \n",
      " dt_insert_utc     | 2022-11-19 17:41:49  \n",
      " vessel_type_main  | null                 \n",
      " vessel_type_sub   | null                 \n",
      " message_type      | 1                    \n",
      " eeid              | 6909951752121494014  \n",
      " source_filename   | s3a://ungp-ais-da... \n",
      " H3index_0         | 8001fffffffffff      \n",
      " H3_int_index_0    | 576495936675512319   \n",
      " H3_int_index_1    | 580968749977305087   \n",
      " H3_int_index_2    | 585469600825606143   \n",
      " H3_int_index_3    | 589998626659368959   \n",
      " H3_int_index_4    | 594476585331982335   \n",
      " H3_int_index_5    | 598980183885611007   \n",
      " H3_int_index_6    | 603483783378763775   \n",
      " H3_int_index_7    | 607987382905470975   \n",
      " H3_int_index_8    | 612490982518161407   \n",
      " H3_int_index_9    | 616994582144483327   \n",
      " H3_int_index_10   | 621498181771689983   \n",
      " H3_int_index_11   | 626001781399052287   \n",
      " H3_int_index_12   | 630505381026422271   \n",
      " H3_int_index_13   | 635008980653792575   \n",
      " H3_int_index_14   | 639512580281163023   \n",
      " H3_int_index_15   | 644016179908533505   \n",
      " month             | 11                   \n",
      " day               | 19                   \n",
      "-RECORD 3---------------------------------\n",
      " mmsi              | 273295870            \n",
      " imo               | 9167758              \n",
      " vessel_name       | ARKA-33              \n",
      " callsign          | UBPW7                \n",
      " vessel_type       | Fishing              \n",
      " vessel_type_code  | 30                   \n",
      " vessel_type_cargo | null                 \n",
      " vessel_class      | A                    \n",
      " length            | 0.0                  \n",
      " width             | 0.0                  \n",
      " flag_country      | Russian Federation   \n",
      " flag_code         | 273                  \n",
      " destination       | BARENTS SEA          \n",
      " eta               | 8112200              \n",
      " draught           | 5.0                  \n",
      " longitude         | 49.24713333          \n",
      " latitude          | 76.71133333          \n",
      " sog               | 4.7                  \n",
      " cog               | 319.7                \n",
      " rot               | 0.0                  \n",
      " heading           | 320.0                \n",
      " nav_status        | Under Way Using E... \n",
      " nav_status_code   | 0                    \n",
      " source            | S-AIS                \n",
      " dt_pos_utc        | 2022-11-19 17:59:43  \n",
      " dt_static_utc     | 2022-11-19 17:49:47  \n",
      " dt_insert_utc     | 2022-11-19 18:00:08  \n",
      " vessel_type_main  | null                 \n",
      " vessel_type_sub   | null                 \n",
      " message_type      | 1                    \n",
      " eeid              | 6909951752121494014  \n",
      " source_filename   | s3a://ungp-ais-da... \n",
      " H3index_0         | 8001fffffffffff      \n",
      " H3_int_index_0    | 576495936675512319   \n",
      " H3_int_index_1    | 580968749977305087   \n",
      " H3_int_index_2    | 585469600825606143   \n",
      " H3_int_index_3    | 589998626659368959   \n",
      " H3_int_index_4    | 594476585331982335   \n",
      " H3_int_index_5    | 598980183885611007   \n",
      " H3_int_index_6    | 603483783378763775   \n",
      " H3_int_index_7    | 607987382905470975   \n",
      " H3_int_index_8    | 612490982518161407   \n",
      " H3_int_index_9    | 616994582143959039   \n",
      " H3_int_index_10   | 621498181771263999   \n",
      " H3_int_index_11   | 626001781398614015   \n",
      " H3_int_index_12   | 630505381025982975   \n",
      " H3_int_index_13   | 635008980653353087   \n",
      " H3_int_index_14   | 639512580280723575   \n",
      " H3_int_index_15   | 644016179908094067   \n",
      " month             | 11                   \n",
      " day               | 19                   \n",
      "-RECORD 4---------------------------------\n",
      " mmsi              | 273295870            \n",
      " imo               | 9167758              \n",
      " vessel_name       | ARKA-33              \n",
      " callsign          | UBPW7                \n",
      " vessel_type       | Fishing              \n",
      " vessel_type_code  | 30                   \n",
      " vessel_type_cargo | null                 \n",
      " vessel_class      | A                    \n",
      " length            | 0.0                  \n",
      " width             | 0.0                  \n",
      " flag_country      | Russian Federation   \n",
      " flag_code         | 273                  \n",
      " destination       | BARENTS SEA          \n",
      " eta               | 8112200              \n",
      " draught           | 5.0                  \n",
      " longitude         | 49.26831667          \n",
      " latitude          | 76.70758333          \n",
      " sog               | 0.8                  \n",
      " cog               | 106.7                \n",
      " rot               | 0.0                  \n",
      " heading           | 338.0                \n",
      " nav_status        | Under Way Using E... \n",
      " nav_status_code   | 0                    \n",
      " source            | S-AIS                \n",
      " dt_pos_utc        | 2022-11-19 17:49:37  \n",
      " dt_static_utc     | 2022-11-19 15:49:43  \n",
      " dt_insert_utc     | 2022-11-19 17:49:55  \n",
      " vessel_type_main  | null                 \n",
      " vessel_type_sub   | null                 \n",
      " message_type      | 3                    \n",
      " eeid              | 6909951752121494014  \n",
      " source_filename   | s3a://ungp-ais-da... \n",
      " H3index_0         | 8001fffffffffff      \n",
      " H3_int_index_0    | 576495936675512319   \n",
      " H3_int_index_1    | 580968749977305087   \n",
      " H3_int_index_2    | 585469600825606143   \n",
      " H3_int_index_3    | 589998626659368959   \n",
      " H3_int_index_4    | 594476585331982335   \n",
      " H3_int_index_5    | 598980183885611007   \n",
      " H3_int_index_6    | 603483783378763775   \n",
      " H3_int_index_7    | 607987382905470975   \n",
      " H3_int_index_8    | 612490982518161407   \n",
      " H3_int_index_9    | 616994582144221183   \n",
      " H3_int_index_10   | 621498181771362303   \n",
      " H3_int_index_11   | 626001781398724607   \n",
      " H3_int_index_12   | 630505381026092543   \n",
      " H3_int_index_13   | 635008980653462655   \n",
      " H3_int_index_14   | 639512580280833135   \n",
      " H3_int_index_15   | 644016179908203628   \n",
      " month             | 11                   \n",
      " day               | 19                   \n",
      "only showing top 5 rows\n",
      "\n"
     ]
    }
   ],
   "source": [
    "# Show sample 5 data\n",
    "# df.show(n=1, vertical=True)\n",
    "df_data.show(n=5, vertical=True)"
   ]
  },
  {
   "cell_type": "markdown",
   "id": "7574df56",
   "metadata": {},
   "source": [
    "## All Records"
   ]
  },
  {
   "cell_type": "markdown",
   "id": "e320170f",
   "metadata": {},
   "source": [
    "### Jumlah Records"
   ]
  },
  {
   "cell_type": "code",
   "execution_count": 9,
   "id": "7f6544a6",
   "metadata": {},
   "outputs": [
    {
     "data": {
      "text/plain": [
       "8898338622"
      ]
     },
     "execution_count": 9,
     "metadata": {},
     "output_type": "execute_result"
    }
   ],
   "source": [
    "total_record = df_data.count()\n",
    "total_record"
   ]
  },
  {
   "cell_type": "code",
   "execution_count": 7,
   "id": "2b2a50c1",
   "metadata": {},
   "outputs": [
    {
     "name": "stdout",
     "output_type": "stream",
     "text": [
      "+---------+-----------------------+\n",
      "|   months|jumlah_record_per_bulan|\n",
      "+---------+-----------------------+\n",
      "|  January|              708861173|\n",
      "|   August|              795930405|\n",
      "| December|              732984416|\n",
      "|    March|              748942451|\n",
      "|     June|              770268067|\n",
      "| February|              652348211|\n",
      "|September|              766432785|\n",
      "|      May|              768489481|\n",
      "| November|              615345777|\n",
      "|  October|              769321662|\n",
      "|     July|              818121481|\n",
      "|    April|              751292713|\n",
      "+---------+-----------------------+\n",
      "\n"
     ]
    }
   ],
   "source": [
    "# Konversi 'dt_pos_utc' ke tipe timestamp\n",
    "df_data = df_data.withColumn(\"dt_pos_utc\", df_data[\"dt_pos_utc\"].cast(\"timestamp\"))\n",
    "\n",
    "# Kelompokkan berdasarkan bulan dan hitung jumlah rekaman\n",
    "rekaman_per_bulan = df_data.withColumn(\"months\", date_format(\"dt_pos_utc\", \"MMMM\")) \\\n",
    "    .groupBy(\"months\").agg(count(\"*\").alias(\"jumlah_record_per_bulan\"))\n",
    "\n",
    "# Tampilkan DataFrame Spark yang telah diubah dan diurutkan\n",
    "rekaman_per_bulan.show()"
   ]
  },
  {
   "cell_type": "markdown",
   "id": "de363024",
   "metadata": {},
   "source": [
    "### MMSI Unik per Bulan"
   ]
  },
  {
   "cell_type": "code",
   "execution_count": 19,
   "id": "999b637a",
   "metadata": {},
   "outputs": [
    {
     "name": "stdout",
     "output_type": "stream",
     "text": [
      "+---------+-----------------+\n",
      "|   months|unique_mmsi_count|\n",
      "+---------+-----------------+\n",
      "|     July|           430439|\n",
      "| November|           434614|\n",
      "| February|           348615|\n",
      "|  January|           365320|\n",
      "|    March|           385988|\n",
      "|  October|           416394|\n",
      "|      May|           424319|\n",
      "|   August|           445807|\n",
      "|    April|           418933|\n",
      "|     June|           414900|\n",
      "| December|           370072|\n",
      "|September|           439775|\n",
      "+---------+-----------------+\n",
      "\n"
     ]
    }
   ],
   "source": [
    "# Hitung jumlah 'mmsi' yang unik per bulan\n",
    "unique_mmsi_per_month = df_data.withColumn(\"months\", date_format(\"dt_pos_utc\", \"MMMM\")) \\\n",
    "    .groupBy(\"months\").agg(countDistinct(\"mmsi\").alias(\"unique_mmsi_count\"))\n",
    "\n",
    "# Tampilkan DataFrame Spark\n",
    "unique_mmsi_per_month.show()"
   ]
  },
  {
   "cell_type": "markdown",
   "id": "bbd6c355",
   "metadata": {},
   "source": [
    "## 1% MMSI Unik"
   ]
  },
  {
   "cell_type": "code",
   "execution_count": null,
   "id": "f943ddff",
   "metadata": {
    "scrolled": true
   },
   "outputs": [
    {
     "name": "stdout",
     "output_type": "stream",
     "text": [
      "+---------+-----------------+------------------+\n",
      "|   months|unique_mmsi_count|       satu_persen|\n",
      "+---------+-----------------+------------------+\n",
      "|     July|           430439|           4304.39|\n",
      "| November|           434614|           4346.14|\n",
      "| February|           348615|           3486.15|\n",
      "|  January|           365320|3653.2000000000003|\n",
      "|    March|           385988|           3859.88|\n",
      "|  October|           416394|4163.9400000000005|\n",
      "|      May|           424319|4243.1900000000005|\n",
      "|   August|           445807|           4458.07|\n",
      "|    April|           418933|           4189.33|\n",
      "|     June|           414900|            4149.0|\n",
      "| December|           370072|3700.7200000000003|\n",
      "|September|           439775|           4397.75|\n",
      "+---------+-----------------+------------------+\n",
      "\n"
     ]
    }
   ],
   "source": [
    "# Hitung 1% dari jumlah rekaman per bulan dan tambahkan sebagai kolom baru\n",
    "mmsi_1pers = unique_mmsi_per_month.withColumn(\"satu_persen\", col(\"unique_mmsi_count\") * 0.01)\n",
    "\n",
    "# Tampilkan DataFrame\n",
    "mmsi_1pers.show()"
   ]
  },
  {
   "cell_type": "code",
   "execution_count": 7,
   "id": "1f47a1b7",
   "metadata": {},
   "outputs": [],
   "source": [
    "def create_sampled_data_for_each_month(df_data_dengan_bulan, unique_months):\n",
    "    # Inisialisasi DataFrame untuk menyimpan hasil\n",
    "    sampled_data = None\n",
    "    \n",
    "    # Loop melalui setiap bulan\n",
    "    for month in unique_months:\n",
    "        # Filter data berdasarkan bulan\n",
    "        filtered_data = df_data_dengan_bulan.filter(col(\"bulan\") == month)\n",
    "        \n",
    "        # Ambil mmsi yang unik untuk bulan tersebut\n",
    "        unique_mmsi = filtered_data.select(\"mmsi\").distinct()\n",
    "        \n",
    "        # Ambil sekitar 1% dari mmsi unik\n",
    "        sampled_data_month = unique_mmsi.sample(fraction=0.01, seed=42).join(filtered_data, \"mmsi\")\n",
    "        \n",
    "        # Gabungkan hasil untuk setiap bulan menjadi satu DataFrame\n",
    "        if sampled_data is None:\n",
    "            sampled_data = sampled_data_month\n",
    "        else:\n",
    "            sampled_data = sampled_data.union(sampled_data_month)\n",
    "\n",
    "    return sampled_data"
   ]
  },
  {
   "cell_type": "code",
   "execution_count": 8,
   "id": "a89c884f",
   "metadata": {},
   "outputs": [],
   "source": [
    "# Ekstrak nama bulan dari timestamp\n",
    "df_data_dengan_bulan = df_data.withColumn(\"bulan\", date_format(\"dt_pos_utc\", \"MMMM\"))\n",
    "\n",
    "# Hitung jumlah unik bulan\n",
    "unique_months = df_data_dengan_bulan.select(\"bulan\").distinct()\n",
    "\n",
    "# Eksekusi fungsi\n",
    "sampledd_data = create_sampled_data_for_each_month(df_data_dengan_bulan, unique_months)"
   ]
  },
  {
   "cell_type": "code",
   "execution_count": 9,
   "id": "fb99b2cb",
   "metadata": {},
   "outputs": [
    {
     "name": "stdout",
     "output_type": "stream",
     "text": [
      "+---------+-----------------+\n",
      "|   months|unique_mmsi_count|\n",
      "+---------+-----------------+\n",
      "|     July|             4324|\n",
      "| November|             4407|\n",
      "| February|             3502|\n",
      "|  January|             3641|\n",
      "|    March|             3916|\n",
      "|  October|             4192|\n",
      "|      May|             4216|\n",
      "|   August|             4502|\n",
      "|    April|             4166|\n",
      "|     June|             4124|\n",
      "| December|             3717|\n",
      "|September|             4453|\n",
      "+---------+-----------------+\n",
      "\n"
     ]
    }
   ],
   "source": [
    "# Kelompokkan berdasarkan bulan dan hitung jumlah rekaman\n",
    "mmsi_unik_per_bulan = sampledd_data.withColumn(\"months\", date_format(\"dt_pos_utc\", \"MMMM\")) \\\n",
    "    .groupBy(\"months\").agg(countDistinct(\"mmsi\").alias(\"unique_mmsi_count\"))\n",
    "\n",
    "# Tampilkan Data\n",
    "mmsi_unik_per_bulan.show()"
   ]
  },
  {
   "cell_type": "code",
   "execution_count": 9,
   "id": "4e962195",
   "metadata": {},
   "outputs": [],
   "source": [
    "# Selecting relevant columns and filtering out null values\n",
    "sampledd_data = sampledd_data.select(col(\"mmsi\").alias('mmsi_sampledd_data'))"
   ]
  },
  {
   "cell_type": "code",
   "execution_count": 11,
   "id": "c758123f",
   "metadata": {},
   "outputs": [],
   "source": [
    "#sampledd_data.count()"
   ]
  },
  {
   "cell_type": "code",
   "execution_count": 10,
   "id": "113ee08d",
   "metadata": {},
   "outputs": [],
   "source": [
    "# Ambil data untuk mendapatkan hanya record dg mmsi yang unik\n",
    "\n",
    "# Broadcast DataFrame sampledd_data\n",
    "broadcast_sampledd_data = broadcast(sampledd_data)\n",
    "\n",
    "# Lakukan operasi join dengan melakukan broadcast pada DataFrame kecil\n",
    "joined_data = df_data.join(\n",
    "    broadcast_sampledd_data, \n",
    "    df_data[\"mmsi\"] == broadcast_sampledd_data[\"mmsi_sampledd_data\"], \n",
    "    \"inner\"\n",
    ")\n",
    "\n",
    "# Mengecualikan baris dengan nilai mmsi_sampledd_data null\n",
    "joined_data = joined_data.na.drop(subset=[\"mmsi_sampledd_data\"])"
   ]
  },
  {
   "cell_type": "code",
   "execution_count": 23,
   "id": "7337bbc9",
   "metadata": {
    "scrolled": true
   },
   "outputs": [
    {
     "name": "stdout",
     "output_type": "stream",
     "text": [
      "root\n",
      " |-- mmsi: integer (nullable = true)\n",
      " |-- imo: integer (nullable = true)\n",
      " |-- vessel_name: string (nullable = true)\n",
      " |-- callsign: string (nullable = true)\n",
      " |-- vessel_type: string (nullable = true)\n",
      " |-- vessel_type_code: integer (nullable = true)\n",
      " |-- vessel_type_cargo: string (nullable = true)\n",
      " |-- vessel_class: string (nullable = true)\n",
      " |-- length: double (nullable = true)\n",
      " |-- width: double (nullable = true)\n",
      " |-- flag_country: string (nullable = true)\n",
      " |-- flag_code: integer (nullable = true)\n",
      " |-- destination: string (nullable = true)\n",
      " |-- eta: integer (nullable = true)\n",
      " |-- draught: double (nullable = true)\n",
      " |-- longitude: double (nullable = true)\n",
      " |-- latitude: double (nullable = true)\n",
      " |-- sog: double (nullable = true)\n",
      " |-- cog: double (nullable = true)\n",
      " |-- rot: double (nullable = true)\n",
      " |-- heading: double (nullable = true)\n",
      " |-- nav_status: string (nullable = true)\n",
      " |-- nav_status_code: integer (nullable = true)\n",
      " |-- source: string (nullable = true)\n",
      " |-- dt_pos_utc: timestamp (nullable = true)\n",
      " |-- dt_static_utc: timestamp (nullable = true)\n",
      " |-- dt_insert_utc: timestamp (nullable = true)\n",
      " |-- vessel_type_main: string (nullable = true)\n",
      " |-- vessel_type_sub: string (nullable = true)\n",
      " |-- message_type: integer (nullable = true)\n",
      " |-- eeid: long (nullable = true)\n",
      " |-- source_filename: string (nullable = true)\n",
      " |-- H3index_0: string (nullable = true)\n",
      " |-- H3_int_index_0: long (nullable = true)\n",
      " |-- H3_int_index_1: long (nullable = true)\n",
      " |-- H3_int_index_2: long (nullable = true)\n",
      " |-- H3_int_index_3: long (nullable = true)\n",
      " |-- H3_int_index_4: long (nullable = true)\n",
      " |-- H3_int_index_5: long (nullable = true)\n",
      " |-- H3_int_index_6: long (nullable = true)\n",
      " |-- H3_int_index_7: long (nullable = true)\n",
      " |-- H3_int_index_8: long (nullable = true)\n",
      " |-- H3_int_index_9: long (nullable = true)\n",
      " |-- H3_int_index_10: long (nullable = true)\n",
      " |-- H3_int_index_11: long (nullable = true)\n",
      " |-- H3_int_index_12: long (nullable = true)\n",
      " |-- H3_int_index_13: long (nullable = true)\n",
      " |-- H3_int_index_14: long (nullable = true)\n",
      " |-- H3_int_index_15: long (nullable = true)\n",
      " |-- month: integer (nullable = true)\n",
      " |-- day: integer (nullable = true)\n",
      " |-- mmsi_sampledd_data: integer (nullable = true)\n",
      "\n"
     ]
    }
   ],
   "source": [
    "joined_data.printSchema()"
   ]
  },
  {
   "cell_type": "code",
   "execution_count": 11,
   "id": "cccd9c4b",
   "metadata": {},
   "outputs": [],
   "source": [
    "joined_data = joined_data.drop(\"mmsi_sampledd_data\")"
   ]
  },
  {
   "cell_type": "code",
   "execution_count": 12,
   "id": "b28dd781",
   "metadata": {
    "scrolled": true
   },
   "outputs": [
    {
     "name": "stdout",
     "output_type": "stream",
     "text": [
      "root\n",
      " |-- mmsi: integer (nullable = true)\n",
      " |-- imo: integer (nullable = true)\n",
      " |-- vessel_name: string (nullable = true)\n",
      " |-- callsign: string (nullable = true)\n",
      " |-- vessel_type: string (nullable = true)\n",
      " |-- vessel_type_code: integer (nullable = true)\n",
      " |-- vessel_type_cargo: string (nullable = true)\n",
      " |-- vessel_class: string (nullable = true)\n",
      " |-- length: double (nullable = true)\n",
      " |-- width: double (nullable = true)\n",
      " |-- flag_country: string (nullable = true)\n",
      " |-- flag_code: integer (nullable = true)\n",
      " |-- destination: string (nullable = true)\n",
      " |-- eta: integer (nullable = true)\n",
      " |-- draught: double (nullable = true)\n",
      " |-- longitude: double (nullable = true)\n",
      " |-- latitude: double (nullable = true)\n",
      " |-- sog: double (nullable = true)\n",
      " |-- cog: double (nullable = true)\n",
      " |-- rot: double (nullable = true)\n",
      " |-- heading: double (nullable = true)\n",
      " |-- nav_status: string (nullable = true)\n",
      " |-- nav_status_code: integer (nullable = true)\n",
      " |-- source: string (nullable = true)\n",
      " |-- dt_pos_utc: timestamp (nullable = true)\n",
      " |-- dt_static_utc: timestamp (nullable = true)\n",
      " |-- dt_insert_utc: timestamp (nullable = true)\n",
      " |-- vessel_type_main: string (nullable = true)\n",
      " |-- vessel_type_sub: string (nullable = true)\n",
      " |-- message_type: integer (nullable = true)\n",
      " |-- eeid: long (nullable = true)\n",
      " |-- source_filename: string (nullable = true)\n",
      " |-- H3index_0: string (nullable = true)\n",
      " |-- H3_int_index_0: long (nullable = true)\n",
      " |-- H3_int_index_1: long (nullable = true)\n",
      " |-- H3_int_index_2: long (nullable = true)\n",
      " |-- H3_int_index_3: long (nullable = true)\n",
      " |-- H3_int_index_4: long (nullable = true)\n",
      " |-- H3_int_index_5: long (nullable = true)\n",
      " |-- H3_int_index_6: long (nullable = true)\n",
      " |-- H3_int_index_7: long (nullable = true)\n",
      " |-- H3_int_index_8: long (nullable = true)\n",
      " |-- H3_int_index_9: long (nullable = true)\n",
      " |-- H3_int_index_10: long (nullable = true)\n",
      " |-- H3_int_index_11: long (nullable = true)\n",
      " |-- H3_int_index_12: long (nullable = true)\n",
      " |-- H3_int_index_13: long (nullable = true)\n",
      " |-- H3_int_index_14: long (nullable = true)\n",
      " |-- H3_int_index_15: long (nullable = true)\n",
      " |-- month: integer (nullable = true)\n",
      " |-- day: integer (nullable = true)\n",
      "\n"
     ]
    }
   ],
   "source": [
    "joined_data.printSchema()"
   ]
  },
  {
   "cell_type": "markdown",
   "id": "66a73019",
   "metadata": {},
   "source": [
    "### Save 1% Data"
   ]
  },
  {
   "cell_type": "code",
   "execution_count": 13,
   "id": "e51785cc",
   "metadata": {},
   "outputs": [],
   "source": [
    "# Save Path\n",
    "save_path = \"s3a://ungp-ais-data-historical-backup/user_temp/\"\n",
    "save_path_unique = save_path + \"222011349/\""
   ]
  },
  {
   "cell_type": "code",
   "execution_count": null,
   "id": "e98c32cc",
   "metadata": {},
   "outputs": [],
   "source": [
    "# Save Data\n",
    "joined_data.write.option(\"header\", True).mode(\"overwrite\").parquet(save_path_unique + \"data-ais-1persen-mmsiunik-dunia-2022.parquet\")"
   ]
  },
  {
   "cell_type": "markdown",
   "id": "c46f885d",
   "metadata": {},
   "source": [
    "### Read 1% Data"
   ]
  },
  {
   "cell_type": "code",
   "execution_count": 7,
   "id": "66cb64ef",
   "metadata": {},
   "outputs": [],
   "source": [
    "# Read Data\n",
    "data_sampel = spark.read.parquet(save_path_unique + \"data-ais-1persen-mmsiunik-dunia-2022.parquet\", header=True)"
   ]
  },
  {
   "cell_type": "markdown",
   "id": "5994829d",
   "metadata": {},
   "source": [
    "### MMSI Unik per Bulan"
   ]
  },
  {
   "cell_type": "code",
   "execution_count": 8,
   "id": "d2b12ced",
   "metadata": {},
   "outputs": [
    {
     "name": "stdout",
     "output_type": "stream",
     "text": [
      "+---------+-----------------+\n",
      "|   months|unique_mmsi_count|\n",
      "+---------+-----------------+\n",
      "|     July|           430439|\n",
      "| November|           434614|\n",
      "| February|           348615|\n",
      "|  January|           365320|\n",
      "|    March|           385988|\n",
      "|  October|           416394|\n",
      "|      May|           424319|\n",
      "|   August|           445807|\n",
      "|    April|           418933|\n",
      "|     June|           414900|\n",
      "| December|           370072|\n",
      "|September|           439775|\n",
      "+---------+-----------------+\n",
      "\n"
     ]
    }
   ],
   "source": [
    "# Kelompokkan berdasarkan bulan dan hitung jumlah rekaman\n",
    "mmsi_unik_per_bulan = data_sampel.withColumn(\"months\", date_format(\"dt_pos_utc\", \"MMMM\")) \\\n",
    "    .groupBy(\"months\").agg(countDistinct(\"mmsi\").alias(\"unique_mmsi_count\"))\n",
    "\n",
    "# Tampilkan Data\n",
    "mmsi_unik_per_bulan.show()"
   ]
  },
  {
   "cell_type": "markdown",
   "id": "7574d5be",
   "metadata": {},
   "source": [
    "## Jumlah Record per Bulan"
   ]
  },
  {
   "cell_type": "code",
   "execution_count": 9,
   "id": "34392b75",
   "metadata": {},
   "outputs": [
    {
     "name": "stdout",
     "output_type": "stream",
     "text": [
      "+---------+-----------------------+\n",
      "|   months|jumlah_record_per_bulan|\n",
      "+---------+-----------------------+\n",
      "| November|              615345777|\n",
      "|     June|              770268067|\n",
      "|  October|              769321662|\n",
      "|     July|              818121481|\n",
      "| December|              732984416|\n",
      "|    April|              751292713|\n",
      "|      May|              768489481|\n",
      "|  January|              708861173|\n",
      "|September|              766432785|\n",
      "|   August|              795930405|\n",
      "|    March|              748942451|\n",
      "| February|              652348211|\n",
      "+---------+-----------------------+\n",
      "\n"
     ]
    }
   ],
   "source": [
    "# Kelompokkan berdasarkan bulan dan hitung jumlah rekaman\n",
    "rekaman_per_bulan = data_sampel.withColumn(\"months\", date_format(\"dt_pos_utc\", \"MMMM\")) \\\n",
    "    .groupBy(\"months\").agg(count(\"*\").alias(\"jumlah_record_per_bulan\"))\n",
    "\n",
    "# Tampilkan Data\n",
    "rekaman_per_bulan.show()"
   ]
  },
  {
   "cell_type": "markdown",
   "id": "f13e7f48",
   "metadata": {},
   "source": [
    "## Statistical Summary Data AIS"
   ]
  },
  {
   "cell_type": "code",
   "execution_count": 15,
   "id": "f9d807cc",
   "metadata": {},
   "outputs": [
    {
     "name": "stdout",
     "output_type": "stream",
     "text": [
      "+-------+--------------------+--------------------+-----------------+-----------------+------------------+\n",
      "|summary|                mmsi|                 imo|  nav_status_code| vessel_type_code|         flag_code|\n",
      "+-------+--------------------+--------------------+-----------------+-----------------+------------------+\n",
      "|  count|            88996090|            49396373|         88996090|         88996090|          87373400|\n",
      "|   mean|  3.95571227380151E8|1.4584493958037304E7|5.467427894865943|62.17119486934763|395.20403777351004|\n",
      "| stddev|1.3375208245773685E8| 6.717161929306422E7|6.600387542226812|20.75906436057113|133.48656312549642|\n",
      "|    min|                   0|                   1|                0|                0|               201|\n",
      "|    max|          1073722367|          1073741823|               16|              255|               775|\n",
      "+-------+--------------------+--------------------+-----------------+-----------------+------------------+\n",
      "\n"
     ]
    }
   ],
   "source": [
    "# MMSI, IMO, Status Navigasi, Tipe Kapal, Negara Kapal\n",
    "\n",
    "# Variabel yang ingin dihitung statistik deskriptif\n",
    "variables_to_describe = [\"mmsi\", \"imo\", \"nav_status_code\", \"vessel_type_code\", \"flag_code\"]\n",
    "\n",
    "# Ambil statistik deskriptif tertentu untuk kolom-kolom tersebut\n",
    "stats_df = data_sampel.select(variables_to_describe).describe()\n",
    "\n",
    "# Pilih statistik tertentu\n",
    "selected_stats = [\"count\", \"mean\", \"stddev\", \"min\", \"25%\", \"50%\", \"75%\", \"max\"]\n",
    "stats_df = stats_df.select([\"summary\"] + [col(var).alias(var) for var in variables_to_describe]).filter(col(\"summary\").isin(selected_stats))\n",
    "\n",
    "# Tampilkan statistik deskriptif\n",
    "stats_df.show()"
   ]
  },
  {
   "cell_type": "code",
   "execution_count": 19,
   "id": "ea393160",
   "metadata": {
    "scrolled": true
   },
   "outputs": [
    {
     "name": "stdout",
     "output_type": "stream",
     "text": [
      "+-------+------------------+------------------+--------------------+------------------+------------------+------------------+------------------+------------------+\n",
      "|summary|          latitude|         longitude|                year|             month|               day|              hour|            minute|            second|\n",
      "+-------+------------------+------------------+--------------------+------------------+------------------+------------------+------------------+------------------+\n",
      "|  count|          88996090|          88996090|            88996090|          88996090|          88996090|          88996090|          88996090|          88996090|\n",
      "|   mean|24.839974528819997|27.690991815374666|  2021.9999993932317|6.5152149156215735|15.765646648071842|11.537739601818462|29.537134698839015|29.343771080280042|\n",
      "| stddev|26.504025784352052| 87.63654989586647|7.789530592909909E-4|3.3739799461906888|  8.84640534901969| 6.923254275775929|17.307150724282778|17.311488576377286|\n",
      "|    min|             -90.0|            -180.0|                2021|                 1|                 1|                 0|                 0|                 0|\n",
      "|    max|              90.0|             180.0|                2022|                12|                31|                23|                59|                59|\n",
      "+-------+------------------+------------------+--------------------+------------------+------------------+------------------+------------------+------------------+\n",
      "\n"
     ]
    }
   ],
   "source": [
    "# Latitude, Longitude, dt_pos_utc\n",
    "\n",
    "# Pemisahan komponen waktu dari kolom dt_pos_utc\n",
    "data_sampel = data_sampel.withColumn(\"year\", year(\"dt_pos_utc\"))\n",
    "data_sampel = data_sampel.withColumn(\"month\", month(\"dt_pos_utc\"))\n",
    "data_sampel = data_sampel.withColumn(\"day\", dayofmonth(\"dt_pos_utc\"))\n",
    "data_sampel = data_sampel.withColumn(\"hour\", hour(\"dt_pos_utc\"))\n",
    "data_sampel = data_sampel.withColumn(\"minute\", minute(\"dt_pos_utc\"))\n",
    "data_sampel = data_sampel.withColumn(\"second\", second(\"dt_pos_utc\"))\n",
    "\n",
    "# Variabel yang ingin dihitung statistik deskriptif\n",
    "variables_to_describe_2 = [\"latitude\", \"longitude\", \"year\", \"month\", \"day\", \"hour\", \"minute\", \"second\"]\n",
    "\n",
    "# Ambil statistik deskriptif tertentu untuk kolom-kolom tersebut\n",
    "stats_df_2 = data_sampel.select(variables_to_describe_2).describe()\n",
    "\n",
    "# Pilih statistik tertentu\n",
    "selected_stats = [\"count\", \"mean\", \"stddev\", \"min\", \"25%\", \"50%\", \"75%\", \"max\"]\n",
    "stats_df_2 = stats_df_2.select([\"summary\"] + [col(var).alias(var) for var in variables_to_describe_2]).filter(col(\"summary\").isin(selected_stats))\n",
    "\n",
    "# Tampilkan statistik deskriptif\n",
    "stats_df_2.show()"
   ]
  },
  {
   "cell_type": "markdown",
   "id": "9f6ffb0d",
   "metadata": {},
   "source": [
    "## Nilai Unik"
   ]
  },
  {
   "cell_type": "markdown",
   "id": "adac1737",
   "metadata": {},
   "source": [
    "### MMSI Unik per Bulan"
   ]
  },
  {
   "cell_type": "code",
   "execution_count": 12,
   "id": "fd2b4887",
   "metadata": {},
   "outputs": [
    {
     "name": "stdout",
     "output_type": "stream",
     "text": [
      "+---------+-----------------+\n",
      "|    bulan|unique_mmsi_count|\n",
      "+---------+-----------------+\n",
      "|  January|           310539|\n",
      "| February|           281491|\n",
      "|    March|           236965|\n",
      "|    April|           253945|\n",
      "|      May|           268833|\n",
      "|     June|           289754|\n",
      "|     July|           291294|\n",
      "|   August|           314079|\n",
      "|September|           289680|\n",
      "|  October|           295246|\n",
      "| November|           257876|\n",
      "| December|           305470|\n",
      "+---------+-----------------+\n",
      "\n"
     ]
    }
   ],
   "source": [
    "# Hitung jumlah 'mmsi' yang unik per bulan\n",
    "unique_mmsi_per_month = data_sampel.withColumn(\"months\", date_format(\"dt_pos_utc\", \"MMMM\")) \\\n",
    "    .groupBy(\"months\").agg(countDistinct(\"mmsi\").alias(\"unique_mmsi_count\"))\n",
    "\n",
    "# Tampilkan DataFrame Spark\n",
    "unique_mmsi_per_month.show()"
   ]
  },
  {
   "cell_type": "markdown",
   "id": "d5dfb24f",
   "metadata": {},
   "source": [
    "### IMO Unik per Bulan"
   ]
  },
  {
   "cell_type": "code",
   "execution_count": 18,
   "id": "4640536d",
   "metadata": {},
   "outputs": [
    {
     "name": "stdout",
     "output_type": "stream",
     "text": [
      "+---------+----------------+\n",
      "|    bulan|unique_imo_count|\n",
      "+---------+----------------+\n",
      "|  January|           71359|\n",
      "| February|           70906|\n",
      "|    March|           68601|\n",
      "|    April|           70464|\n",
      "|      May|           69967|\n",
      "|     June|           71329|\n",
      "|     July|           71175|\n",
      "|   August|           71550|\n",
      "|September|           70501|\n",
      "|  October|           71211|\n",
      "| November|           70221|\n",
      "| December|           71451|\n",
      "+---------+----------------+\n",
      "\n"
     ]
    }
   ],
   "source": [
    "# Hitung jumlah 'imo' yang unik per bulan\n",
    "unique_imo_per_month = data_sampel.withColumn(\"months\", date_format(\"dt_pos_utc\", \"MMMM\")) \\\n",
    "    .groupBy(\"months\").agg(countDistinct(\"imo\").alias(\"unique_imo_count\"))\n",
    "\n",
    "# Tampilkan DataFrame Spark\n",
    "unique_imo_per_month.show()"
   ]
  },
  {
   "cell_type": "markdown",
   "id": "ca297b4f",
   "metadata": {},
   "source": [
    "### Status Navigasi Setahun"
   ]
  },
  {
   "cell_type": "code",
   "execution_count": 10,
   "id": "b1137eed",
   "metadata": {},
   "outputs": [
    {
     "name": "stdout",
     "output_type": "stream",
     "text": [
      "+--------------------+----------+\n",
      "|          nav_status|mmsi_count|\n",
      "+--------------------+----------+\n",
      "|              Moored|  13668349|\n",
      "|             Aground|     60725|\n",
      "|Restricted Manoeu...|   1487784|\n",
      "|         Not Defined|   4680386|\n",
      "|   Not Under Command|    351955|\n",
      "|  Engaged In Fishing|   2024920|\n",
      "|    Underway Sailing|   1751607|\n",
      "|             Unknown|  19166200|\n",
      "|           At Anchor|   7643080|\n",
      "|Under Way Using E...|  38161520|\n",
      "+--------------------+----------+\n",
      "\n"
     ]
    }
   ],
   "source": [
    "# Hitung jumlah 'mmsi' per masing-masing 'nav_status' dengan DataFrame API\n",
    "mmsi_count_per_nav_status = data_sampel.select(\"mmsi\",\"nav_status\").groupBy(\"nav_status\").agg(F.count(\"mmsi\").alias(\"mmsi_count\"))\n",
    "\n",
    "# Tampilkan DataFrame Spark\n",
    "mmsi_count_per_nav_status.show()"
   ]
  },
  {
   "cell_type": "markdown",
   "id": "1982e8af",
   "metadata": {},
   "source": [
    "### Tipe Kapal Setahun"
   ]
  },
  {
   "cell_type": "code",
   "execution_count": 11,
   "id": "03aac7bf",
   "metadata": {},
   "outputs": [
    {
     "name": "stdout",
     "output_type": "stream",
     "text": [
      "+------------------------------------+----------+\n",
      "|vessel_type                         |mmsi_count|\n",
      "+------------------------------------+----------+\n",
      "|Sailing                             |2607522   |\n",
      "|Tanker                              |10218414  |\n",
      "|Ships Not Party to Armed Conflict   |47387     |\n",
      "|Military                            |294571    |\n",
      "|Towing                              |1958264   |\n",
      "|Reserved                            |382493    |\n",
      "|SAR                                 |560415    |\n",
      "|Unknown                             |3064681   |\n",
      "|Other                               |5256911   |\n",
      "|UNAVAILABLE                         |26120     |\n",
      "|Law Enforcement                     |367312    |\n",
      "|Tug                                 |6701986   |\n",
      "|Pleasure Craft                      |4674990   |\n",
      "|Passenger                           |4960352   |\n",
      "|Diving                              |143889    |\n",
      "|Fishing                             |10360734  |\n",
      "|Port Tender                         |337944    |\n",
      "|Spare                               |1335571   |\n",
      "|Medical Transport                   |20699     |\n",
      "|Pilot                               |737693    |\n",
      "|WIG                                 |296352    |\n",
      "|Dredging                            |1087616   |\n",
      "|Not Available                       |144213    |\n",
      "|Cargo                               |32547838  |\n",
      "|Vessel With Anti-Pollution Equipment|167599    |\n",
      "|HSC                                 |694960    |\n",
      "+------------------------------------+----------+\n",
      "\n"
     ]
    }
   ],
   "source": [
    "# Hitung jumlah 'mmsi' per masing-masing 'vessel_type'\n",
    "mmsi_count_per_vessel_type = data_sampel.select(\"mmsi\",\"vessel_type\").groupBy(\"vessel_type\").agg(count(\"mmsi\").alias(\"mmsi_count\"))\n",
    "\n",
    "# Tampilkan DataFrame Spark\n",
    "mmsi_count_per_vessel_type.show(mmsi_count_per_vessel_type.count(), truncate=False)"
   ]
  },
  {
   "cell_type": "markdown",
   "id": "05c3d56b",
   "metadata": {},
   "source": [
    "### Negara Kapal Setahun"
   ]
  },
  {
   "cell_type": "code",
   "execution_count": 13,
   "id": "9bd4dd48",
   "metadata": {
    "scrolled": false
   },
   "outputs": [
    {
     "name": "stdout",
     "output_type": "stream",
     "text": [
      "+------------------------+----------+\n",
      "|flag_country            |mmsi_count|\n",
      "+------------------------+----------+\n",
      "|Paraguay                |165457    |\n",
      "|Anguilla                |2002      |\n",
      "|Macao                   |3164      |\n",
      "|Senegal                 |68484     |\n",
      "|Sweden                  |990070    |\n",
      "|Kiribati                |23507     |\n",
      "|Guyana                  |16455     |\n",
      "|Philippines             |267347    |\n",
      "|Djibouti                |8506      |\n",
      "|Singapore               |2463184   |\n",
      "|Malaysia                |572954    |\n",
      "|Turkey                  |545610    |\n",
      "|Malawi                  |462       |\n",
      "|Iraq                    |6108      |\n",
      "|Germany                 |1787833   |\n",
      "|Comoros                 |65588     |\n",
      "|Afghanistan             |361       |\n",
      "|Cambodia                |1678      |\n",
      "|Saint Helena            |9372      |\n",
      "|Jordan                  |7319      |\n",
      "|Maldives                |3585      |\n",
      "|Rwanda                  |599       |\n",
      "|Palau                   |105558    |\n",
      "|Ascension Island        |1001      |\n",
      "|France                  |1015987   |\n",
      "|Turks and Caicos Islands|515       |\n",
      "+------------------------+----------+\n",
      "only showing top 26 rows\n",
      "\n"
     ]
    }
   ],
   "source": [
    "# Hitung jumlah 'mmsi' per masing-masing 'flag_country'\n",
    "mmsi_count_per_flag_country = data_sampel.select(\"mmsi\",\"flag_country\").groupBy(\"flag_country\").agg(count(\"mmsi\").alias(\"mmsi_count\"))\n",
    "\n",
    "# Tampilkan DataFrame Spark\n",
    "mmsi_count_per_flag_country.show(mmsi_count_per_vessel_type.count(), truncate=False)"
   ]
  },
  {
   "cell_type": "markdown",
   "id": "bdcb810b",
   "metadata": {},
   "source": [
    "# Quality Assurance"
   ]
  },
  {
   "cell_type": "markdown",
   "id": "3f4a1af1",
   "metadata": {},
   "source": [
    "## MMSI Unik per"
   ]
  },
  {
   "cell_type": "markdown",
   "id": "dd05afbf",
   "metadata": {},
   "source": [
    "### Status Navigasi"
   ]
  },
  {
   "cell_type": "code",
   "execution_count": 9,
   "id": "0c471bad",
   "metadata": {
    "scrolled": true
   },
   "outputs": [
    {
     "name": "stdout",
     "output_type": "stream",
     "text": [
      "+--------------------+--------------------------------+\n",
      "|          nav_status|unique_mmsi_per_nav_status_count|\n",
      "+--------------------+--------------------------------+\n",
      "|              Moored|                          103309|\n",
      "|Restricted Manoeu...|                           13675|\n",
      "|             Aground|                            1983|\n",
      "|         Not Defined|                           36220|\n",
      "|   Not Under Command|                           18346|\n",
      "|  Engaged In Fishing|                            7061|\n",
      "|    Underway Sailing|                           25456|\n",
      "|             Unknown|                          411515|\n",
      "|           At Anchor|                           85968|\n",
      "|Under Way Using E...|                          172373|\n",
      "+--------------------+--------------------------------+\n",
      "\n"
     ]
    }
   ],
   "source": [
    "# Hitung jumlah 'mmsi' yang unik berdasarkan 'nav_status'\n",
    "unique_mmsi_per_nav_status = data_sampel.groupBy(\"nav_status\").agg(countDistinct(\"mmsi\").alias(\"unique_mmsi_per_nav_status_count\"))\n",
    "\n",
    "# Tampilkan DataFrame Spark\n",
    "unique_mmsi_per_nav_status.show()"
   ]
  },
  {
   "cell_type": "markdown",
   "id": "e79689f4",
   "metadata": {},
   "source": [
    "### Tipe Kapal"
   ]
  },
  {
   "cell_type": "code",
   "execution_count": 12,
   "id": "a93f2c9b",
   "metadata": {},
   "outputs": [
    {
     "name": "stdout",
     "output_type": "stream",
     "text": [
      "+--------------------+---------------------------------+\n",
      "|         vessel_type|unique_mmsi_per_vessel_type_count|\n",
      "+--------------------+---------------------------------+\n",
      "|             Sailing|                            67654|\n",
      "|              Tanker|                            25367|\n",
      "|Ships Not Party t...|                              318|\n",
      "|            Military|                             2153|\n",
      "|              Towing|                             6939|\n",
      "|            Reserved|                             3163|\n",
      "|                 SAR|                             4330|\n",
      "|             Unknown|                           110668|\n",
      "|               Other|                            19460|\n",
      "|         UNAVAILABLE|                             5149|\n",
      "|                 Tug|                            22280|\n",
      "|     Law Enforcement|                             2651|\n",
      "|      Pleasure Craft|                            72890|\n",
      "|           Passenger|                            17355|\n",
      "|              Diving|                             1020|\n",
      "|             Fishing|                           136758|\n",
      "|         Port Tender|                             2802|\n",
      "|               Spare|                             2259|\n",
      "|   Medical Transport|                              120|\n",
      "|                 WIG|                             2154|\n",
      "+--------------------+---------------------------------+\n",
      "only showing top 20 rows\n",
      "\n"
     ]
    }
   ],
   "source": [
    "# Hitung jumlah 'mmsi' yang unik berdasarkan 'vessel_type'\n",
    "unique_mmsi_per_vessel_type = data_sampel.groupBy(\"vessel_type\").agg(countDistinct(\"mmsi\").alias(\"unique_mmsi_per_vessel_type_count\"))\n",
    "\n",
    "# Tampilkan DataFrame Spark\n",
    "unique_mmsi_per_vessel_type.show(unique_mmsi_per_vessel_type.count(), truncate=False)"
   ]
  },
  {
   "cell_type": "markdown",
   "id": "6be9b9a8",
   "metadata": {},
   "source": [
    "### Negara Kapal"
   ]
  },
  {
   "cell_type": "code",
   "execution_count": null,
   "id": "5041ac75",
   "metadata": {},
   "outputs": [
    {
     "name": "stdout",
     "output_type": "stream",
     "text": [
      "+------------------+----------------------------------+\n",
      "|      flag_country|unique_mmsi_per_flag_country_count|\n",
      "+------------------+----------------------------------+\n",
      "|          Paraguay|                               220|\n",
      "|          Anguilla|                               100|\n",
      "|           Senegal|                                92|\n",
      "|            Sweden|                              8265|\n",
      "|          Kiribati|                               111|\n",
      "|            Guyana|                               111|\n",
      "|       Philippines|                               972|\n",
      "|          Djibouti|                                75|\n",
      "|         Singapore|                              5655|\n",
      "|          Malaysia|                              2667|\n",
      "|              Fiji|                               139|\n",
      "|            Turkey|                              4447|\n",
      "|              Iraq|                                96|\n",
      "|           Germany|                             15943|\n",
      "|           Comoros|                               379|\n",
      "|Crozet Archipelago|                                55|\n",
      "|       Afghanistan|                                41|\n",
      "|          Cambodia|                               134|\n",
      "|            Rwanda|                               204|\n",
      "|          Maldives|                                54|\n",
      "+------------------+----------------------------------+\n",
      "only showing top 20 rows\n",
      "\n"
     ]
    }
   ],
   "source": [
    "# Filter out rows where 'flag_country' is not null\n",
    "df_filtered = data_sampel.filter(col(\"flag_country\").isNotNull())\n",
    "\n",
    "# Hitung jumlah 'mmsi' yang unik berdasarkan 'flag_country'\n",
    "unique_mmsi_per_flag_country = df_filtered.groupBy(\"flag_country\").agg(countDistinct(\"mmsi\").alias(\"unique_mmsi_per_flag_country_count\"))\n",
    "\n",
    "# Tampilkan DataFrame Spark\n",
    "unique_mmsi_per_flag_country.show(unique_mmsi_per_flag_country.count(), truncate=False) "
   ]
  },
  {
   "cell_type": "markdown",
   "id": "5c2d5239",
   "metadata": {},
   "source": [
    "## IMO Unik per"
   ]
  },
  {
   "cell_type": "markdown",
   "id": "01a2cde3",
   "metadata": {},
   "source": [
    "### Status Navigasi"
   ]
  },
  {
   "cell_type": "code",
   "execution_count": 16,
   "id": "03f73f1c",
   "metadata": {},
   "outputs": [
    {
     "name": "stdout",
     "output_type": "stream",
     "text": [
      "+--------------------------+-------------------------------+\n",
      "|nav_status                |unique_imo_per_nav_status_count|\n",
      "+--------------------------+-------------------------------+\n",
      "|Moored                    |62323                          |\n",
      "|Restricted Manoeuvrability|10961                          |\n",
      "|Aground                   |969                            |\n",
      "|Not Defined               |9227                           |\n",
      "|Not Under Command         |16623                          |\n",
      "|Engaged In Fishing        |3304                           |\n",
      "|Underway Sailing          |16780                          |\n",
      "|Unknown                   |12126                          |\n",
      "|At Anchor                 |54210                          |\n",
      "|Under Way Using Engine    |72170                          |\n",
      "+--------------------------+-------------------------------+\n",
      "\n"
     ]
    }
   ],
   "source": [
    "# Hitung jumlah 'mmsi' yang unik berdasarkan 'vessel_type'\n",
    "unique_imo_per_nav_status = data_sampel.select(\"imo\",\"nav_status\").groupBy(\"nav_status\").agg(countDistinct(\"imo\").alias(\"unique_imo_per_nav_status_count\"))\n",
    "\n",
    "# Tampilkan DataFrame Spark\n",
    "unique_imo_per_nav_status.show(unique_imo_per_nav_status.count(), truncate=False)"
   ]
  },
  {
   "cell_type": "markdown",
   "id": "c6e0f2ad",
   "metadata": {},
   "source": [
    "### Tipe Kapal"
   ]
  },
  {
   "cell_type": "code",
   "execution_count": 17,
   "id": "904db9e2",
   "metadata": {},
   "outputs": [
    {
     "name": "stdout",
     "output_type": "stream",
     "text": [
      "+------------------------------------+--------------------------------+\n",
      "|vessel_type                         |unique_imo_per_vessel_type_count|\n",
      "+------------------------------------+--------------------------------+\n",
      "|Sailing                             |870                             |\n",
      "|Tanker                              |15786                           |\n",
      "|Ships Not Party to Armed Conflict   |127                             |\n",
      "|Military                            |528                             |\n",
      "|Towing                              |2133                            |\n",
      "|Reserved                            |1047                            |\n",
      "|SAR                                 |527                             |\n",
      "|Unknown                             |7109                            |\n",
      "|Other                               |7326                            |\n",
      "|UNAVAILABLE                         |97                              |\n",
      "|Tug                                 |8750                            |\n",
      "|Law Enforcement                     |518                             |\n",
      "|Pleasure Craft                      |2695                            |\n",
      "|Passenger                           |5496                            |\n",
      "|Diving                              |240                             |\n",
      "|Fishing                             |8380                            |\n",
      "|Port Tender                         |262                             |\n",
      "|Spare                               |856                             |\n",
      "|Medical Transport                   |29                              |\n",
      "|Pilot                               |450                             |\n",
      "|WIG                                 |593                             |\n",
      "|Dredging                            |1223                            |\n",
      "|Not Available                       |479                             |\n",
      "|Cargo                               |35309                           |\n",
      "|Vessel With Anti-Pollution Equipment|203                             |\n",
      "|HSC                                 |1213                            |\n",
      "+------------------------------------+--------------------------------+\n",
      "\n"
     ]
    }
   ],
   "source": [
    "# Hitung jumlah 'mmsi' yang unik berdasarkan 'vessel_type'\n",
    "unique_imo_per_vessel_type = data_sampel.select(\"imo\",\"vessel_type\").groupBy(\"vessel_type\").agg(countDistinct(\"imo\").alias(\"unique_imo_per_vessel_type_count\"))\n",
    "\n",
    "# Tampilkan DataFrame Spark\n",
    "unique_imo_per_vessel_type.show(unique_imo_per_vessel_type.count(), truncate=False)"
   ]
  },
  {
   "cell_type": "markdown",
   "id": "94a780e0",
   "metadata": {},
   "source": [
    "### Negara Kapal"
   ]
  },
  {
   "cell_type": "code",
   "execution_count": 18,
   "id": "906c7c24",
   "metadata": {
    "scrolled": true
   },
   "outputs": [
    {
     "name": "stdout",
     "output_type": "stream",
     "text": [
      "+--------------------------------+---------------------------------+\n",
      "|flag_country                    |unique_imo_per_flag_country_count|\n",
      "+--------------------------------+---------------------------------+\n",
      "|Chad                            |1                                |\n",
      "|Anguilla                        |7                                |\n",
      "|Paraguay                        |64                               |\n",
      "|Macao                           |0                                |\n",
      "|Senegal                         |36                               |\n",
      "|Sweden                          |341                              |\n",
      "|Kiribati                        |52                               |\n",
      "|Philippines                     |620                              |\n",
      "|Djibouti                        |29                               |\n",
      "|Singapore                       |3349                             |\n",
      "|Malaysia                        |1014                             |\n",
      "|Fiji                            |33                               |\n",
      "|Turkey                          |781                              |\n",
      "|Iraq                            |28                               |\n",
      "|Germany                         |783                              |\n",
      "|Comoros                         |294                              |\n",
      "|Jordan                          |30                               |\n",
      "|Palau                           |478                              |\n",
      "|Ascension Island                |4                                |\n",
      "|France                          |720                              |\n",
      "|Greece                          |1394                             |\n",
      "|Sri Lanka                       |138                              |\n",
      "|Kerguelen Islands               |21                               |\n",
      "|Taiwan                          |476                              |\n",
      "|British Virgin Islands          |55                               |\n",
      "|Dominica                        |58                               |\n",
      "|Togo                            |338                              |\n",
      "|Algeria                         |92                               |\n",
      "|Equatorial Guinea               |39                               |\n",
      "|null                            |249                              |\n",
      "|Reunion                         |23                               |\n",
      "|Argentina                       |522                              |\n",
      "|Belgium                         |398                              |\n",
      "|Angola                          |37                               |\n",
      "|Qatar                           |129                              |\n",
      "|Ecuador                         |194                              |\n",
      "|Albania                         |44                               |\n",
      "|Finland                         |258                              |\n",
      "|Myanmar                         |33                               |\n",
      "|Sierra Leone                    |469                              |\n",
      "|Peru                            |164                              |\n",
      "|China                           |7529                             |\n",
      "|Bahamas                         |1231                             |\n",
      "|India                           |1099                             |\n",
      "|Malta                           |2727                             |\n",
      "|Kuwait                          |121                              |\n",
      "|Marshall Islands                |5116                             |\n",
      "|Tuvalu                          |255                              |\n",
      "|Somalia                         |35                               |\n",
      "|Chile                           |317                              |\n",
      "|Martinique                      |3                                |\n",
      "|Cayman Islands                  |1025                             |\n",
      "|Croatia                         |223                              |\n",
      "|Nigeria                         |625                              |\n",
      "|Gabon                           |84                               |\n",
      "|Italy                           |1271                             |\n",
      "|Netherlands Antilles            |55                               |\n",
      "|Lithuania                       |69                               |\n",
      "|Norway                          |2303                             |\n",
      "|Turkmenistan                    |53                               |\n",
      "|Spain                           |960                              |\n",
      "|Cuba                            |37                               |\n",
      "|Mauritania                      |21                               |\n",
      "|Tahiti                          |18                               |\n",
      "|Denmark                         |933                              |\n",
      "|Barbados                        |316                              |\n",
      "|Bangladesh                      |126                              |\n",
      "|Iran                            |889                              |\n",
      "|Alaska                          |116                              |\n",
      "|Russian Federation              |3430                             |\n",
      "|Ireland                         |144                              |\n",
      "|Congo                           |11                               |\n",
      "|Thailand                        |495                              |\n",
      "|Bhutan                          |10                               |\n",
      "|Morocco                         |125                              |\n",
      "|Monaco                          |9                                |\n",
      "|Panama                          |8293                             |\n",
      "|Hong Kong                       |2726                             |\n",
      "|Nauru                           |24                               |\n",
      "|Venezuela                       |117                              |\n",
      "|Ukraine                         |104                              |\n",
      "|Iceland                         |202                              |\n",
      "|Israel                          |32                               |\n",
      "|Saint Kitts and Nevis           |346                              |\n",
      "|USA                             |4423                             |\n",
      "|Oman                            |45                               |\n",
      "|North Korea                     |131                              |\n",
      "|South Korea                     |1646                             |\n",
      "|Cyprus                          |1157                             |\n",
      "|Gibraltar                       |171                              |\n",
      "|Uruguay                         |63                               |\n",
      "|Mexico                          |524                              |\n",
      "|Estonia                         |102                              |\n",
      "|Georgia                         |43                               |\n",
      "|Indonesia                       |3658                             |\n",
      "|Saint Vincent and the Grenadines|791                              |\n",
      "|Mongolia                        |262                              |\n",
      "|Azerbaijan                      |229                              |\n",
      "|Libya                           |35                               |\n",
      "|Liberia                         |5629                             |\n",
      "|Tunisia                         |49                               |\n",
      "|Honduras                        |31                               |\n",
      "|UK                              |1816                             |\n",
      "|Saudi Arabia                    |333                              |\n",
      "|French Guiana                   |8                                |\n",
      "|Namibia                         |72                               |\n",
      "|Switzerland                     |69                               |\n",
      "|Latvia                          |97                               |\n",
      "|Jamaica                         |116                              |\n",
      "|United Arab Emirates            |636                              |\n",
      "|Azores                          |274                              |\n",
      "|Canada                          |666                              |\n",
      "|Faroe Islands                   |177                              |\n",
      "|Czech Republic                  |9                                |\n",
      "|Cook Islands                    |229                              |\n",
      "|Belize                          |601                              |\n",
      "|Brazil                          |556                              |\n",
      "|Gambia                          |11                               |\n",
      "|Antigua and Barbuda             |694                              |\n",
      "|Japan                           |2541                             |\n",
      "|Tanzania                        |329                              |\n",
      "|Luxembourg                      |196                              |\n",
      "|New Zealand                     |85                               |\n",
      "|Greenland                       |56                               |\n",
      "|Poland                          |143                              |\n",
      "|Portugal                        |111                              |\n",
      "|Cameroon                        |271                              |\n",
      "|Australia                       |412                              |\n",
      "|Papua New Guinea                |93                               |\n",
      "|Romania                         |96                               |\n",
      "|Guinea-Bissau                   |35                               |\n",
      "|Egypt                           |173                              |\n",
      "|Kazakhstan                      |91                               |\n",
      "|Costa Rica                      |7                                |\n",
      "|South Africa                    |72                               |\n",
      "|Bermuda                         |175                              |\n",
      "|Micronesia                      |38                               |\n",
      "|Bahrain                         |134                              |\n",
      "|Colombia                        |99                               |\n",
      "|Hungary                         |2                                |\n",
      "|Pakistan                        |43                               |\n",
      "|Vanuatu                         |418                              |\n",
      "|Niue                            |61                               |\n",
      "|Madeira                         |898                              |\n",
      "|Moldova                         |100                              |\n",
      "|Vietnam                         |1263                             |\n",
      "|Netherlands                     |2214                             |\n",
      "|Guyana                          |70                               |\n",
      "|Ivory Coast                     |4                                |\n",
      "|Lesotho                         |1                                |\n",
      "|Pitcairn Island                 |11                               |\n",
      "|Madagascar                      |6                                |\n",
      "|New Caledonia                   |24                               |\n",
      "|Ghana                           |42                               |\n",
      "|Bolivia                         |30                               |\n",
      "|Wallis and Futuna Islands       |17                               |\n",
      "|Liechtenstein                   |3                                |\n",
      "|Cape Verde                      |22                               |\n",
      "|Trinidad and Tobago             |50                               |\n",
      "|Brunei                          |42                               |\n",
      "|Saint Lucia                     |3                                |\n",
      "|Guinea                          |8                                |\n",
      "|Samoa                           |17                               |\n",
      "|Macedonia                       |7                                |\n",
      "|Mozambique                      |15                               |\n",
      "|Dominican Republic              |21                               |\n",
      "|Bulgaria                        |40                               |\n",
      "|Northern Mariana                |5                                |\n",
      "|Mauritius                       |39                               |\n",
      "|Yemen                           |7                                |\n",
      "|Cambodia                        |11                               |\n",
      "|Cocos Islands                   |2                                |\n",
      "|Central African Republic        |3                                |\n",
      "|Swaziland                       |0                                |\n",
      "|Christmas Island                |0                                |\n",
      "|Laos                            |1                                |\n",
      "|Grenada                         |4                                |\n",
      "|Ethiopia                        |12                               |\n",
      "|Seychelles                      |47                               |\n",
      "|Lebanon                         |32                               |\n",
      "|El Salvador                     |11                               |\n",
      "|Maldives                        |10                               |\n",
      "|Slovakia                        |13                               |\n",
      "|Montenegro                      |20                               |\n",
      "|South Sudan                     |1                                |\n",
      "|US Virgin Islands               |1                                |\n",
      "|Kenya                           |12                               |\n",
      "|Vatican City                    |5                                |\n",
      "|Eritrea                         |2                                |\n",
      "|Sao Tome and Principe           |25                               |\n",
      "|Andorra                         |5                                |\n",
      "|Mali                            |0                                |\n",
      "|Saint Helena                    |6                                |\n",
      "|Guadeloupe                      |8                                |\n",
      "|Uzbekistan                      |3                                |\n",
      "|Falkland Islands                |22                               |\n",
      "|Austria                         |8                                |\n",
      "|Nicaragua                       |6                                |\n",
      "|Benin                           |1                                |\n",
      "|Guatemala                       |9                                |\n",
      "|Haiti                           |3                                |\n",
      "|Aruba                           |1                                |\n",
      "|Armenia                         |3                                |\n",
      "|Solomon Islands                 |10                               |\n",
      "|Saint Paul and Amsterdam Islands|2                                |\n",
      "|Syria                           |6                                |\n",
      "|Kyrgyzstan                      |3                                |\n",
      "|Slovenia                        |6                                |\n",
      "|Tonga                           |8                                |\n",
      "|Suriname                        |3                                |\n",
      "|Malawi                          |1                                |\n",
      "|Sudan                           |2                                |\n",
      "|Adelie Land                     |1                                |\n",
      "|San Marino                      |5                                |\n",
      "|Saint Pierre and Miquelon       |5                                |\n",
      "|Crozet Archipelago              |1                                |\n",
      "|Puerto Rico                     |0                                |\n",
      "|Tajikistan                      |1                                |\n",
      "|Niger                           |3                                |\n",
      "|Palestine                       |0                                |\n",
      "|Uganda                          |1                                |\n",
      "|Zambia                          |2                                |\n",
      "|Botswana                        |0                                |\n",
      "|Belarus                         |2                                |\n",
      "|Afghanistan                     |0                                |\n",
      "|Rwanda                          |1                                |\n",
      "|Montserrat                      |1                                |\n",
      "|Burundi                         |1                                |\n",
      "|Serbia                          |3                                |\n",
      "|Zimbabwe                        |0                                |\n",
      "|American Samoa                  |0                                |\n",
      "|Bosnia and Herzegovina          |0                                |\n",
      "|Turks and Caicos Islands        |0                                |\n",
      "|Nepal                           |0                                |\n",
      "|Burkina Faso                    |0                                |\n",
      "+--------------------------------+---------------------------------+\n",
      "\n"
     ]
    }
   ],
   "source": [
    "# Hitung jumlah 'mmsi' yang unik berdasarkan 'vessel_type'\n",
    "unique_imo_per_flag_country = data_sampel.select(\"imo\",\"flag_country\").groupBy(\"flag_country\").agg(countDistinct(\"imo\").alias(\"unique_imo_per_flag_country_count\"))\n",
    "\n",
    "# Tampilkan DataFrame Spark\n",
    "unique_imo_per_flag_country.show(unique_imo_per_flag_country.count(), truncate=False)"
   ]
  },
  {
   "cell_type": "markdown",
   "id": "53223444",
   "metadata": {},
   "source": [
    "## Nilai Valid"
   ]
  },
  {
   "cell_type": "markdown",
   "id": "ecd22883",
   "metadata": {},
   "source": [
    "### MMSI Valid"
   ]
  },
  {
   "cell_type": "code",
   "execution_count": null,
   "id": "1ab431b2",
   "metadata": {},
   "outputs": [],
   "source": [
    "# Definisikan nilai mmsi yang valid\n",
    "nilai_valid = [100000000, 999999999]\n",
    "\n",
    "# Jumlah mmsi yang valid\n",
    "jumlah_mmsi_valid_per_bulan = data_sampel.withColumn(\"months\", F.date_format(\"dt_pos_utc\", \"MMMM\")) \\\n",
    "    .filter(data_sampel['mmsi'].between(nilai_valid[0], nilai_valid[1])) \\\n",
    "    .groupBy(\"months\").agg(F.count(\"mmsi\").alias(\"mmsi_valid\"))\n",
    "\n",
    "# Buat DataFrame hasil\n",
    "mmsi_valid = jumlah_mmsi_valid_per_bulan\n",
    "\n",
    "# Tampilkan hasil\n",
    "mmsi_valid.show()"
   ]
  },
  {
   "cell_type": "markdown",
   "id": "d5792334",
   "metadata": {},
   "source": [
    "### IMO Valid"
   ]
  },
  {
   "cell_type": "code",
   "execution_count": null,
   "id": "5757d239",
   "metadata": {},
   "outputs": [],
   "source": [
    "# Definisikan nilai imo yang valid\n",
    "nilai_valid = [1000000, 9999999]\n",
    "\n",
    "# Hitung jumlah imo valid per bulan\n",
    "jumlah_imo_valid_per_bulan = data_sampel.withColumn(\"months\", F.date_format(\"dt_pos_utc\", \"MMMM\")) \\\n",
    "    .filter(data_sampel['imo'].between(nilai_valid[0], nilai_valid[1])) \\\n",
    "    .groupBy(\"months\").agg(F.count(\"imo\").alias(\"imo_valid\"))\n",
    "\n",
    "# Buat DataFrame hasil\n",
    "imo_valid = jumlah_imo_valid_per_bulan\n",
    "\n",
    "# Tampilkan hasil\n",
    "imo_valid.show() "
   ]
  },
  {
   "cell_type": "markdown",
   "id": "81aa07fe",
   "metadata": {},
   "source": [
    "### Status Navigasi Valid"
   ]
  },
  {
   "cell_type": "code",
   "execution_count": null,
   "id": "c93f686d",
   "metadata": {},
   "outputs": [],
   "source": [
    "# Definisikan nilai nav_status_code yang valid\n",
    "nilai_valid = [0, 14]\n",
    "\n",
    "# Hitung jumlah nav_status_code  valid per bulan\n",
    "jumlah_nav_status_code_valid_per_bulan = data_sampel.withColumn(\"months\", F.date_format(\"dt_pos_utc\", \"MMMM\")) \\\n",
    "    .filter(data_sampel['nav_status_code'].between(nilai_valid[0], nilai_valid[1])) \\\n",
    "    .groupBy(\"months\").agg(F.count(\"nav_status_code\").alias(\"nav_status_code_valid\"))\n",
    "\n",
    "# Buat DataFrame hasil\n",
    "nav_status_code_valid = jumlah_nav_status_code_valid_per_bulan\n",
    "\n",
    "# Tampilkan hasil\n",
    "nav_status_code_valid.show() "
   ]
  },
  {
   "cell_type": "markdown",
   "id": "bf257526",
   "metadata": {},
   "source": [
    "### Tipe Kapal Valid"
   ]
  },
  {
   "cell_type": "code",
   "execution_count": null,
   "id": "735e7900",
   "metadata": {},
   "outputs": [],
   "source": [
    "# Definisikan nilai vessel_type_code yang valid\n",
    "nilai_valid = [1, 255]\n",
    "\n",
    "# Hitung jumlah vessel_type_code  valid per bulan\n",
    "jumlah_vessel_type_code_valid_per_bulan = data_sampel.withColumn(\"months\", F.date_format(\"dt_pos_utc\", \"MMMM\")) \\\n",
    "    .filter(data_sampel['vessel_type_code'].between(nilai_valid[0], nilai_valid[1])) \\\n",
    "    .groupBy(\"months\").agg(F.count(\"vessel_type_code\").alias(\"vessel_type_code_valid\"))\n",
    "\n",
    "# Buat DataFrame hasil\n",
    "vessel_type_code_valid = jumlah_vessel_type_code_valid_per_bulan\n",
    "\n",
    "# Tampilkan hasil\n",
    "vessel_type_code_valid.show() "
   ]
  },
  {
   "cell_type": "markdown",
   "id": "8e22689e",
   "metadata": {},
   "source": [
    "### Negara Kapal Valid"
   ]
  },
  {
   "cell_type": "code",
   "execution_count": null,
   "id": "ccccb888",
   "metadata": {},
   "outputs": [],
   "source": [
    "# Definisikan nilai flag_country_code yang valid\n",
    "nilai_valid = [201, 775]\n",
    "\n",
    "# Hitung jumlah flag_country_code tidak valid per bulan\n",
    "jumlah_flag_country_code_valid_per_bulan = data_sampel.withColumn(\"months\", F.date_format(\"dt_pos_utc\", \"MMMM\")) \\\n",
    "    .filter(data_sampel['flag_code'].between(nilai_valid[0], nilai_valid[1])) \\\n",
    "    .groupBy(\"months\").agg(F.count(\"flag_code\").alias(\"flag_country_code_valid\"))\n",
    "\n",
    "# Buat DataFrame hasil\n",
    "flag_country_code_valid = jumlah_flag_country_code_valid_per_bulan\n",
    "\n",
    "# Tampilkan hasil\n",
    "flag_country_code_valid.show() "
   ]
  },
  {
   "cell_type": "markdown",
   "id": "4fa1b13f",
   "metadata": {},
   "source": [
    "### Latitude & Longitude Valid"
   ]
  },
  {
   "cell_type": "code",
   "execution_count": null,
   "id": "29499aeb",
   "metadata": {},
   "outputs": [],
   "source": [
    "# Definisikan nilai latitude yang valid\n",
    "nilai_valid = [-90, 90]\n",
    "\n",
    "# Hitung jumlah latitude tidak valid per bulan\n",
    "jumlah_latitude_valid_per_bulan = data_sampel.withColumn(\"months\", F.date_format(\"dt_pos_utc\", \"MMMM\")) \\\n",
    "    .filter(data_sampel['latitude'].between(nilai_valid[0], nilai_valid[1])) \\\n",
    "    .groupBy(\"months\").agg(F.count(\"latitude\").alias(\"latitude_valid\"))\n",
    "\n",
    "# Buat DataFrame hasil\n",
    "latitude_valid = jumlah_latitude_valid_per_bulan\n",
    "\n",
    "# Tampilkan hasil\n",
    "latitude_valid.show() "
   ]
  },
  {
   "cell_type": "code",
   "execution_count": null,
   "id": "7bd88402",
   "metadata": {},
   "outputs": [],
   "source": [
    "# Definisikan nilai longitude yang valid\n",
    "nilai_valid = [-180, 180]\n",
    "\n",
    "# Hitung jumlah longitude tidak valid per bulan\n",
    "jumlah_longitude_valid_per_bulan = data_sampel.withColumn(\"months\", F.date_format(\"dt_pos_utc\", \"MMMM\")) \\\n",
    "    .filter(data_sampel['longitude'].between(nilai_valid[0], nilai_valid[1])) \\\n",
    "    .groupBy(\"months\").agg(F.count(\"longitude\").alias(\"longitude_valid\"))\n",
    "\n",
    "# Buat DataFrame hasil\n",
    "longitude_valid = jumlah_longitude_valid_per_bulan\n",
    "\n",
    "# Tampilkan hasil\n",
    "longitude_valid.show()"
   ]
  },
  {
   "cell_type": "markdown",
   "id": "e85c93ca",
   "metadata": {},
   "source": [
    "### dt_pos_utc Valid"
   ]
  },
  {
   "cell_type": "code",
   "execution_count": null,
   "id": "d8da9a90",
   "metadata": {},
   "outputs": [],
   "source": [
    "# Definisikan pola regex untuk nilai 'dt_pos_utc' yang valid\n",
    "pattern = \"^[1-9][0-9]{0,3}-[1-9]|0[1-9]|1[0-2]-[1-9]|0[1-9]|[1-2][0-9]|3[0-1] [0-9]|0[0-9]|1[0-9]|2[0-3]:[0-5][0-9]:[0-5][0-9]$\"\n",
    "\n",
    "# Filter data untuk mendapatkan hanya nilai 'dt_pos_utc' yang tidak valid\n",
    "dt_pos_utc_valid_per_bulan = data_sampel.withColumn(\"months\", F.date_format(\"dt_pos_utc\", \"MMMM\")) \\\n",
    "    .filter(F.col(\"dt_pos_utc\").rlike(pattern)) \\\n",
    "    .groupBy(\"months\").agg(F.count(\"dt_pos_utc\").alias(\"dt_pos_utc_valid\"))\n",
    "\n",
    "# Buat DataFrame hasil\n",
    "dt_pos_utc_valid = dt_pos_utc_valid_per_bulan\n",
    "\n",
    "# Tampilkan hasil\n",
    "dt_pos_utc_valid.show()  "
   ]
  },
  {
   "cell_type": "markdown",
   "id": "f8c5dc41",
   "metadata": {},
   "source": [
    "## Nilai Default"
   ]
  },
  {
   "cell_type": "markdown",
   "id": "ecb3eb4f",
   "metadata": {},
   "source": [
    "### MMSI dengan Nilai Default per Bulan"
   ]
  },
  {
   "cell_type": "code",
   "execution_count": 9,
   "id": "00f6e273",
   "metadata": {},
   "outputs": [
    {
     "name": "stdout",
     "output_type": "stream",
     "text": [
      "+--------+-------+------------------+\n",
      "|  months|   mmsi|mmsi_count_default|\n",
      "+--------+-------+------------------+\n",
      "|November|      0|                59|\n",
      "|November|1193046|                19|\n",
      "|     May|      0|                 1|\n",
      "+--------+-------+------------------+\n",
      "\n"
     ]
    }
   ],
   "source": [
    "# Tentukan nilai yang ingin dihitung\n",
    "default_value_1 = 0\n",
    "default_value_2 = 1193046\n",
    "\n",
    "# Hitung jumlah 'mmsi' dengan nilai default per bulan\n",
    "mmsi_default_per_month = data_sampel.withColumn(\"months\", F.date_format(\"dt_pos_utc\", \"MMMM\")) \\\n",
    "    .filter((F.col(\"mmsi\") == default_value_1) | (F.col(\"mmsi\") == default_value_2)) \\\n",
    "    .groupBy(\"months\", \"mmsi\").agg(F.count(\"mmsi\").alias(\"mmsi_count_default\"))\n",
    "\n",
    "# Tampilkan DataFrame Spark hasil akhir\n",
    "mmsi_default_per_month.show()"
   ]
  },
  {
   "cell_type": "markdown",
   "id": "94ce641f",
   "metadata": {},
   "source": [
    "### IMO dengan Nilai Default per Bulan"
   ]
  },
  {
   "cell_type": "code",
   "execution_count": 15,
   "id": "2381ef36",
   "metadata": {},
   "outputs": [
    {
     "name": "stdout",
     "output_type": "stream",
     "text": [
      "+------+-----------------+\n",
      "|months|imo_count_default|\n",
      "+------+-----------------+\n",
      "+------+-----------------+\n",
      "\n"
     ]
    }
   ],
   "source": [
    "# Tentukan nilai yang ingin dihitung\n",
    "default_value = 0  # Ganti dengan nilai yang diinginkan\n",
    "\n",
    "# Hitung jumlah 'imo' dengan nilai default per bulan\n",
    "imo_default_per_month = data_sampel.withColumn(\"months\", F.date_format(\"dt_pos_utc\", \"MMMM\")) \\\n",
    "    .filter(F.col(\"imo\") == default_value) \\\n",
    "    .groupBy(\"months\").agg(F.count(\"imo\").alias(\"imo_count_default\"))\n",
    "\n",
    "# Tampilkan DataFrame Spark hasil akhir\n",
    "imo_default_per_month.show() "
   ]
  },
  {
   "cell_type": "markdown",
   "id": "65a3d1c9",
   "metadata": {},
   "source": [
    "### Status Navigasi dengan Nilai Default per Bulan"
   ]
  },
  {
   "cell_type": "code",
   "execution_count": 16,
   "id": "ab41f7b8",
   "metadata": {},
   "outputs": [
    {
     "name": "stdout",
     "output_type": "stream",
     "text": [
      "+---------+------------------------+\n",
      "|   months|nav_status_count_default|\n",
      "+---------+------------------------+\n",
      "|September|                  397942|\n",
      "| February|                  357174|\n",
      "|    April|                  384666|\n",
      "|  October|                  399038|\n",
      "|     June|                  405163|\n",
      "|   August|                  416253|\n",
      "| November|                  329558|\n",
      "| December|                  371548|\n",
      "|    March|                  388492|\n",
      "|  January|                  386413|\n",
      "|      May|                  414273|\n",
      "|     July|                  430242|\n",
      "+---------+------------------------+\n",
      "\n"
     ]
    }
   ],
   "source": [
    "# Tentukan nilai yang ingin dihitung\n",
    "default_value = \"Not Defined\"  # Ganti dengan nilai yang diinginkan\n",
    "\n",
    "# Hitung jumlah 'nav_status' dengan nilai default per bulan\n",
    "nav_status_default_per_month = data_sampel.withColumn(\"months\", F.date_format(\"dt_pos_utc\", \"MMMM\")) \\\n",
    "    .filter(F.col(\"nav_status\") == default_value) \\\n",
    "    .groupBy(\"months\").agg(F.count(\"nav_status\").alias(\"nav_status_count_default\"))\n",
    "\n",
    "# Tampilkan DataFrame Spark hasil akhir\n",
    "nav_status_default_per_month.show() "
   ]
  },
  {
   "cell_type": "markdown",
   "id": "58b3ea56",
   "metadata": {},
   "source": [
    "### Tipe Kapal dengan Nilai Default per Bulan"
   ]
  },
  {
   "cell_type": "code",
   "execution_count": 20,
   "id": "588f74ac",
   "metadata": {},
   "outputs": [
    {
     "name": "stdout",
     "output_type": "stream",
     "text": [
      "+---------+-------------------------+\n",
      "|   months|vessel_type_count_default|\n",
      "+---------+-------------------------+\n",
      "|September|                     8178|\n",
      "| February|                    12832|\n",
      "|    April|                    17491|\n",
      "|  October|                     8136|\n",
      "|     June|                    12539|\n",
      "|   August|                     8415|\n",
      "| November|                     9212|\n",
      "| December|                     8532|\n",
      "|    March|                    15297|\n",
      "|  January|                    16449|\n",
      "|      May|                    13417|\n",
      "|     July|                    13715|\n",
      "+---------+-------------------------+\n",
      "\n"
     ]
    }
   ],
   "source": [
    "# Tentukan nilai yang ingin dihitung\n",
    "default_value = \"Not Available\"  # Ganti dengan nilai yang diinginkan\n",
    "\n",
    "# Hitung jumlah 'vessel_type' dengan nilai default per bulan\n",
    "vessel_type_default_per_month = data_sampel.withColumn(\"months\", F.date_format(\"dt_pos_utc\", \"MMMM\")) \\\n",
    "    .filter(F.col(\"vessel_type\") == default_value) \\\n",
    "    .groupBy(\"months\").agg(F.count(\"vessel_type\").alias(\"vessel_type_count_default\"))\n",
    "\n",
    "# Tampilkan DataFrame Spark hasil akhir\n",
    "vessel_type_default_per_month.show() "
   ]
  },
  {
   "cell_type": "markdown",
   "id": "bba83140",
   "metadata": {},
   "source": [
    "### Negara Kapal dengan Nilai Default per Bulan"
   ]
  },
  {
   "cell_type": "code",
   "execution_count": null,
   "id": "8d84c275",
   "metadata": {},
   "outputs": [
    {
     "name": "stdout",
     "output_type": "stream",
     "text": [
      "+------+--------------------------+\n",
      "|months|flag_country_count_default|\n",
      "+------+--------------------------+\n",
      "+------+--------------------------+\n",
      "\n"
     ]
    }
   ],
   "source": [
    "# MISAL DEFAULT = 0\n",
    "# Tentukan nilai yang ingin dihitung\n",
    "default_value = 0  # Ganti dengan nilai yang diinginkan\n",
    "\n",
    "# Hitung jumlah 'flag_country' dengan nilai default per bulan\n",
    "flag_country_default_per_month = data_sampel.withColumn(\"months\", F.date_format(\"dt_pos_utc\", \"MMMM\")) \\\n",
    "    .filter(F.col(\"flag_code\") == default_value) \\\n",
    "    .groupBy(\"months\").agg(F.count(\"flag_code\").alias(\"flag_country_count_default\"))\n",
    "\n",
    "# Tampilkan DataFrame Spark hasil akhir\n",
    "flag_country_default_per_month.show()  "
   ]
  },
  {
   "cell_type": "markdown",
   "id": "4614cd5b",
   "metadata": {},
   "source": [
    "### Latitude & Longitude dengan Nilai Default per Bulan"
   ]
  },
  {
   "cell_type": "code",
   "execution_count": 9,
   "id": "c9c3e8d3",
   "metadata": {},
   "outputs": [
    {
     "name": "stdout",
     "output_type": "stream",
     "text": [
      "+------+----------------------+\n",
      "|months|latitude_count_default|\n",
      "+------+----------------------+\n",
      "+------+----------------------+\n",
      "\n"
     ]
    }
   ],
   "source": [
    "# Tentukan nilai yang ingin dihitung\n",
    "default_value = 91  # Ganti dengan nilai yang diinginkan\n",
    "\n",
    "# Hitung jumlah 'latitude' dengan nilai default per bulan\n",
    "latitude_default_per_month = data_sampel.withColumn(\"months\", F.date_format(\"dt_pos_utc\", \"MMMM\")) \\\n",
    "    .filter(F.col(\"latitude\") == default_value) \\\n",
    "    .groupBy(\"months\").agg(F.count(\"latitude\").alias(\"latitude_count_default\"))\n",
    "\n",
    "# Tampilkan DataFrame Spark hasil akhir\n",
    "latitude_default_per_month.show() "
   ]
  },
  {
   "cell_type": "code",
   "execution_count": 10,
   "id": "b5fd43f8",
   "metadata": {},
   "outputs": [
    {
     "name": "stdout",
     "output_type": "stream",
     "text": [
      "+------+-----------------------+\n",
      "|months|longitude_count_default|\n",
      "+------+-----------------------+\n",
      "+------+-----------------------+\n",
      "\n"
     ]
    }
   ],
   "source": [
    "# Tentukan nilai yang ingin dihitung\n",
    "default_value = 181  # Ganti dengan nilai yang diinginkan\n",
    "\n",
    "# Hitung jumlah 'longitude' dengan nilai default per bulan\n",
    "longitude_default_per_month = data_sampel.withColumn(\"months\", F.date_format(\"dt_pos_utc\", \"MMMM\")) \\\n",
    "    .filter(F.col(\"longitude\") == default_value) \\\n",
    "    .groupBy(\"months\").agg(F.count(\"longitude\").alias(\"longitude_count_default\"))\n",
    "\n",
    "# Tampilkan DataFrame Spark hasil akhir\n",
    "longitude_default_per_month.show() "
   ]
  },
  {
   "cell_type": "markdown",
   "id": "e10d1f5a",
   "metadata": {},
   "source": [
    "### dt_pos_utc dengan Nilai Default per Bulan"
   ]
  },
  {
   "cell_type": "code",
   "execution_count": 11,
   "id": "ced83f87",
   "metadata": {},
   "outputs": [
    {
     "name": "stdout",
     "output_type": "stream",
     "text": [
      "+------+-----------------------+\n",
      "|months|dt_pos_ut_count_dafault|\n",
      "+------+-----------------------+\n",
      "+------+-----------------------+\n",
      "\n"
     ]
    }
   ],
   "source": [
    "# Tentukan nilai yang ingin dihitung\n",
    "default_value = \"0-0-0 24:60:60\"\n",
    "\n",
    "# Hitung jumlah nilai default pada kolom 'dt_pos_utc' per bulan\n",
    "dt_pos_utc_default_per_month = data_sampel.withColumn(\"months\", F.date_format(\"dt_pos_utc\", \"MMMM\")) \\\n",
    "    .filter(F.col(\"dt_pos_utc\") == default_value) \\\n",
    "    .groupBy(\"months\").agg(F.count(\"dt_pos_utc\").alias(\"dt_pos_ut_count_dafault\"))\n",
    "\n",
    "# Tampilkan DataFrame Spark hasil akhir\n",
    "dt_pos_utc_default_per_month.show()  "
   ]
  },
  {
   "cell_type": "markdown",
   "id": "eb1b3636",
   "metadata": {},
   "source": [
    "## Tidak Valid"
   ]
  },
  {
   "cell_type": "markdown",
   "id": "f01493c1",
   "metadata": {},
   "source": [
    "### MMSI Tidak Valid"
   ]
  },
  {
   "cell_type": "code",
   "execution_count": 12,
   "id": "ba04fd79",
   "metadata": {},
   "outputs": [
    {
     "name": "stdout",
     "output_type": "stream",
     "text": [
      "+--------+----------------+\n",
      "|  months|mmsi_tidak_valid|\n",
      "+--------+----------------+\n",
      "|November|           10238|\n",
      "|     May|            1117|\n",
      "+--------+----------------+\n",
      "\n"
     ]
    }
   ],
   "source": [
    "# Definisikan nilai mmsi yang valid\n",
    "nilai_valid = [100000000, 999999999]\n",
    "\n",
    "# Hitung jumlah mmsi tidak valid per bulan\n",
    "jumlah_mmsi_tidak_valid_per_bulan = data_sampel.withColumn(\"months\", F.date_format(\"dt_pos_utc\", \"MMMM\")) \\\n",
    "    .filter((~data_sampel['mmsi'].between(nilai_valid[0], nilai_valid[1])) & (data_sampel['mmsi'] != 0 | data_sampel['mmsi'] != 1193046)) \\\n",
    "    .groupBy(\"months\").agg(F.count(\"mmsi\").alias(\"mmsi_tidak_valid\"))\n",
    "\n",
    "# Buat DataFrame hasil\n",
    "mmsi_invalid = jumlah_mmsi_tidak_valid_per_bulan\n",
    "\n",
    "# Tampilkan hasil\n",
    "mmsi_invalid.show()"
   ]
  },
  {
   "cell_type": "markdown",
   "id": "7b1e0cab",
   "metadata": {},
   "source": [
    "### IMO Tidak Valid"
   ]
  },
  {
   "cell_type": "code",
   "execution_count": 13,
   "id": "938244ab",
   "metadata": {
    "scrolled": true
   },
   "outputs": [
    {
     "name": "stdout",
     "output_type": "stream",
     "text": [
      "+---------+---------------+\n",
      "|   months|imo_tidak_valid|\n",
      "+---------+---------------+\n",
      "| February|          83371|\n",
      "|     July|         118838|\n",
      "|     June|         116411|\n",
      "|September|         112084|\n",
      "|    April|         115849|\n",
      "|  January|         118295|\n",
      "|      May|         122527|\n",
      "|    March|         111751|\n",
      "| November|          92255|\n",
      "| December|         102683|\n",
      "|  October|         111128|\n",
      "|   August|         120281|\n",
      "+---------+---------------+\n",
      "\n"
     ]
    }
   ],
   "source": [
    "# Definisikan nilai imo yang valid\n",
    "nilai_valid = [1000000, 9999999]\n",
    "\n",
    "# Hitung jumlah imo tidak valid per bulan\n",
    "jumlah_imo_tidak_valid_per_bulan = data_sampel.withColumn(\"months\", F.date_format(\"dt_pos_utc\", \"MMMM\")) \\\n",
    "    .filter((~data_sampel['imo'].between(nilai_valid[0], nilai_valid[1])) & (data_sampel['imo'] != 0)) \\\n",
    "    .groupBy(\"months\").agg(F.count(\"imo\").alias(\"imo_tidak_valid\"))\n",
    "\n",
    "# Buat DataFrame hasil\n",
    "imo_invalid = jumlah_imo_tidak_valid_per_bulan\n",
    "\n",
    "# Tampilkan hasil\n",
    "imo_invalid.show() "
   ]
  },
  {
   "cell_type": "markdown",
   "id": "22986737",
   "metadata": {},
   "source": [
    "### Status Navigasi Tidak Valid"
   ]
  },
  {
   "cell_type": "code",
   "execution_count": 14,
   "id": "c3dd6745",
   "metadata": {},
   "outputs": [
    {
     "name": "stdout",
     "output_type": "stream",
     "text": [
      "+---------+---------------------------+\n",
      "|   months|nav_status_code_tidak_valid|\n",
      "+---------+---------------------------+\n",
      "| February|                    1551264|\n",
      "|     July|                    2346717|\n",
      "|     June|                    2194342|\n",
      "|September|                    2113770|\n",
      "|    April|                    2092620|\n",
      "|  January|                    1797584|\n",
      "|      May|                    2122968|\n",
      "|    March|                    2002764|\n",
      "| November|                    1574188|\n",
      "| December|                    1819273|\n",
      "|  October|                    2028776|\n",
      "|   August|                    2203047|\n",
      "+---------+---------------------------+\n",
      "\n"
     ]
    }
   ],
   "source": [
    "# Definisikan nilai nav_status_code yang valid\n",
    "nilai_valid = [0, 14]\n",
    "\n",
    "# Hitung jumlah nav_status_code tidak valid per bulan\n",
    "jumlah_nav_status_code_tidak_valid_per_bulan = data_sampel.withColumn(\"months\", F.date_format(\"dt_pos_utc\", \"MMMM\")) \\\n",
    "    .filter((~data_sampel['nav_status_code'].between(nilai_valid[0], nilai_valid[1])) & (data_sampel['nav_status_code'] != 15)) \\\n",
    "    .groupBy(\"months\").agg(F.count(\"nav_status_code\").alias(\"nav_status_code_tidak_valid\"))\n",
    "\n",
    "# Buat DataFrame hasil\n",
    "nav_status_code_invalid = jumlah_nav_status_code_tidak_valid_per_bulan\n",
    "\n",
    "# Tampilkan hasil\n",
    "nav_status_code_invalid.show() "
   ]
  },
  {
   "cell_type": "markdown",
   "id": "4ad82225",
   "metadata": {},
   "source": [
    "### Tipe Kapal Tidak Valid"
   ]
  },
  {
   "cell_type": "code",
   "execution_count": 9,
   "id": "585b3902",
   "metadata": {},
   "outputs": [
    {
     "name": "stdout",
     "output_type": "stream",
     "text": [
      "+---------+----------------------------+\n",
      "|   months|vessel_type_code_tidak_valid|\n",
      "+---------+----------------------------+\n",
      "|   August|                      262615|\n",
      "| December|                      241679|\n",
      "| November|                      233293|\n",
      "|    April|                      290154|\n",
      "|    March|                      284019|\n",
      "|      May|                      292255|\n",
      "| February|                      255898|\n",
      "|  January|                      281103|\n",
      "|     July|                      301809|\n",
      "|  October|                      251101|\n",
      "|     June|                      285504|\n",
      "|September|                      251059|\n",
      "+---------+----------------------------+\n",
      "\n"
     ]
    }
   ],
   "source": [
    "# Definisikan nilai vessel_type_code yang valid\n",
    "nilai_valid = [1, 255]\n",
    "\n",
    "# Hitung jumlah vessel_type_code tidak valid per bulan\n",
    "jumlah_vessel_type_code_tidak_valid_per_bulan = data_sampel.withColumn(\"months\", F.date_format(\"dt_pos_utc\", \"MMMM\")) \\\n",
    "    .filter((~data_sampel['vessel_type_code'].between(nilai_valid[0], nilai_valid[1])) & (data_sampel['vessel_type_code'] != 0)) \\\n",
    "    .groupBy(\"months\").agg(F.count(\"vessel_type_code\").alias(\"vessel_type_code_tidak_valid\"))\n",
    "\n",
    "# Buat DataFrame hasil\n",
    "vessel_type_code_invalid = jumlah_vessel_type_code_tidak_valid_per_bulan\n",
    "\n",
    "# Tampilkan hasil\n",
    "vessel_type_code_invalid.show() "
   ]
  },
  {
   "cell_type": "markdown",
   "id": "fd18e890",
   "metadata": {},
   "source": [
    "### Negara Kapal Tidak Valid"
   ]
  },
  {
   "cell_type": "code",
   "execution_count": 10,
   "id": "2c874e92",
   "metadata": {},
   "outputs": [
    {
     "name": "stdout",
     "output_type": "stream",
     "text": [
      "+------+-----------------------------+\n",
      "|months|flag_country_code_tidak_valid|\n",
      "+------+-----------------------------+\n",
      "+------+-----------------------------+\n",
      "\n"
     ]
    }
   ],
   "source": [
    "# Definisikan nilai flag_country_code yang valid\n",
    "nilai_valid = [201, 775]\n",
    "\n",
    "# Filter data untuk mendapatkan hanya nilai flag_country_code yang valid\n",
    "flag_country_code_valid = data_sampel.filter(data_sampel['flag_code'].between(nilai_valid[0], nilai_valid[1]))\n",
    "\n",
    "# Hitung jumlah flag_country_code tidak valid per bulan\n",
    "jumlah_flag_country_code_tidak_valid_per_bulan = data_sampel.withColumn(\"months\", F.date_format(\"dt_pos_utc\", \"MMMM\")) \\\n",
    "    .filter((~data_sampel['flag_code'].between(nilai_valid[0], nilai_valid[1])) & (data_sampel['flag_code'] != 0)) \\\n",
    "    .groupBy(\"months\").agg(F.count(\"flag_code\").alias(\"flag_country_code_tidak_valid\"))\n",
    "\n",
    "# Buat DataFrame hasil\n",
    "flag_country_code_invalid = jumlah_flag_country_code_tidak_valid_per_bulan\n",
    "\n",
    "# Tampilkan hasil\n",
    "flag_country_code_invalid.show() "
   ]
  },
  {
   "cell_type": "markdown",
   "id": "aa49cb31",
   "metadata": {},
   "source": [
    "### Latitude & Longitude Tidak Valid"
   ]
  },
  {
   "cell_type": "code",
   "execution_count": 11,
   "id": "65f812f9",
   "metadata": {},
   "outputs": [
    {
     "name": "stdout",
     "output_type": "stream",
     "text": [
      "+------+--------------------+\n",
      "|months|latitude_tidak_valid|\n",
      "+------+--------------------+\n",
      "+------+--------------------+\n",
      "\n"
     ]
    }
   ],
   "source": [
    "# Definisikan nilai latitude yang valid\n",
    "nilai_valid = [-90, 90]\n",
    "\n",
    "# Filter data untuk mendapatkan hanya nilai latitude yang valid\n",
    "latitude_valid = data_sampel.filter(data_sampel['latitude'].between(nilai_valid[0], nilai_valid[1]))\n",
    "\n",
    "# Hitung jumlah latitude tidak valid per bulan\n",
    "jumlah_latitude_tidak_valid_per_bulan = data_sampel.withColumn(\"months\", F.date_format(\"dt_pos_utc\", \"MMMM\")) \\\n",
    "    .filter((~data_sampel['latitude'].between(nilai_valid[0], nilai_valid[1])) & (data_sampel['latitude'] != 91)) \\\n",
    "    .groupBy(\"months\").agg(F.count(\"latitude\").alias(\"latitude_tidak_valid\"))\n",
    "\n",
    "# Buat DataFrame hasil\n",
    "latitude_invalid = jumlah_latitude_tidak_valid_per_bulan\n",
    "\n",
    "# Tampilkan hasil\n",
    "latitude_invalid.show() "
   ]
  },
  {
   "cell_type": "code",
   "execution_count": null,
   "id": "758267ec",
   "metadata": {},
   "outputs": [
    {
     "name": "stdout",
     "output_type": "stream",
     "text": [
      "+------+---------------------+\n",
      "|months|longitude_tidak_valid|\n",
      "+------+---------------------+\n",
      "+------+---------------------+\n",
      "\n"
     ]
    }
   ],
   "source": [
    "# Definisikan nilai longitude yang valid\n",
    "nilai_valid = [-180, 180]\n",
    "\n",
    "# Filter data untuk mendapatkan hanya nilai longitude yang valid\n",
    "longitude_valid = data_sampel.filter(data_sampel['longitude'].between(nilai_valid[0], nilai_valid[1]))\n",
    "\n",
    "# Hitung jumlah longitude tidak valid per bulan\n",
    "jumlah_longitude_tidak_valid_per_bulan = data_sampel.withColumn(\"months\", F.date_format(\"dt_pos_utc\", \"MMMM\")) \\\n",
    "    .filter((~data_sampel['longitude'].between(nilai_valid[0], nilai_valid[1])) & (data_sampel['longitude'] != 181)) \\\n",
    "    .groupBy(\"months\").agg(F.count(\"longitude\").alias(\"longitude_tidak_valid\"))\n",
    "\n",
    "# Buat DataFrame hasil\n",
    "longitude_invalid = jumlah_longitude_tidak_valid_per_bulan\n",
    "\n",
    "# Tampilkan hasil\n",
    "longitude_invalid.show()"
   ]
  },
  {
   "cell_type": "markdown",
   "id": "b54ac225",
   "metadata": {},
   "source": [
    "### dt_pos_utc Tidak Valid"
   ]
  },
  {
   "cell_type": "code",
   "execution_count": 9,
   "id": "8cfd4c68",
   "metadata": {},
   "outputs": [
    {
     "name": "stdout",
     "output_type": "stream",
     "text": [
      "+------+----------------------+\n",
      "|months|dt_pos_utc_tidak_valid|\n",
      "+------+----------------------+\n",
      "+------+----------------------+\n",
      "\n"
     ]
    }
   ],
   "source": [
    "# Definisikan pola regex untuk nilai 'dt_pos_utc' yang valid\n",
    "pattern = \"^[1-9][0-9]{0,3}-[1-9]|0[1-9]|1[0-2]-[1-9]|0[1-9]|[1-2][0-9]|3[0-1] [0-9]|0[0-9]|1[0-9]|2[0-3]:[0-5][0-9]:[0-5][0-9]$\"\n",
    "\n",
    "default_value = \"0-0-0 24:60:60\"\n",
    "\n",
    "# Filter data untuk mendapatkan hanya nilai 'dt_pos_utc' yang tidak valid\n",
    "dt_pos_utc_tidak_valid_per_bulan = data_sampel.withColumn(\"months\", F.date_format(\"dt_pos_utc\", \"MMMM\")) \\\n",
    "    .filter((~F.col(\"dt_pos_utc\").rlike(pattern)) & (data_sampel['dt_pos_utc'] != default_value)) \\\n",
    "    .groupBy(\"months\").agg(F.count(\"dt_pos_utc\").alias(\"dt_pos_utc_tidak_valid\"))\n",
    "\n",
    "# Buat DataFrame hasil\n",
    "dt_pos_utc_invalid = dt_pos_utc_tidak_valid_per_bulan\n",
    "\n",
    "# Tampilkan hasil\n",
    "dt_pos_utc_invalid.show()  "
   ]
  },
  {
   "cell_type": "markdown",
   "id": "d9d669c8",
   "metadata": {},
   "source": [
    "## Missing Value"
   ]
  },
  {
   "cell_type": "markdown",
   "id": "4c256d68",
   "metadata": {},
   "source": [
    "### MS MMSI"
   ]
  },
  {
   "cell_type": "code",
   "execution_count": 10,
   "id": "0cad67db",
   "metadata": {},
   "outputs": [
    {
     "name": "stdout",
     "output_type": "stream",
     "text": [
      "+---------+------------+\n",
      "|   months|mmsi_missing|\n",
      "+---------+------------+\n",
      "| February|           0|\n",
      "|  January|           0|\n",
      "|     June|           0|\n",
      "|September|           0|\n",
      "|  October|           0|\n",
      "|    March|           0|\n",
      "|      May|           0|\n",
      "|     July|           0|\n",
      "| November|           0|\n",
      "|    April|           0|\n",
      "|   August|           0|\n",
      "| December|           0|\n",
      "+---------+------------+\n",
      "\n"
     ]
    }
   ],
   "source": [
    "# Hitung jumlah nilai yang hilang per bulan untuk kolom \"mmsi\"\n",
    "missing_values_per_month_mmsi = data_sampel.withColumn(\"months\", F.date_format(\"dt_pos_utc\", \"MMMM\")) \\\n",
    "    .groupBy(\"months\").agg(\n",
    "        F.sum(F.col(\"mmsi\").isNull().cast(IntegerType())).alias(\"mmsi_missing\")\n",
    "    )\n",
    "\n",
    "# Tampilkan DataFrame Spark\n",
    "missing_values_per_month_mmsi.show() "
   ]
  },
  {
   "cell_type": "markdown",
   "id": "8561b119",
   "metadata": {},
   "source": [
    "### MS IMO"
   ]
  },
  {
   "cell_type": "code",
   "execution_count": 11,
   "id": "7087a5fa",
   "metadata": {},
   "outputs": [
    {
     "name": "stdout",
     "output_type": "stream",
     "text": [
      "+---------+-----------+\n",
      "|   months|imo_missing|\n",
      "+---------+-----------+\n",
      "| February|    2729574|\n",
      "|  January|    3081829|\n",
      "|     June|    3581065|\n",
      "|September|    3437671|\n",
      "|  October|    3348965|\n",
      "|    March|    3331141|\n",
      "|      May|    3484823|\n",
      "|     July|    3797260|\n",
      "| November|    2756822|\n",
      "|    April|    3386412|\n",
      "|   August|    3560288|\n",
      "| December|    3103867|\n",
      "+---------+-----------+\n",
      "\n"
     ]
    }
   ],
   "source": [
    "# Hitung jumlah nilai yang hilang per bulan untuk kolom \"imo\"\n",
    "missing_values_per_month_imo = data_sampel.withColumn(\"months\", F.date_format(\"dt_pos_utc\", \"MMMM\")) \\\n",
    "    .groupBy(\"months\").agg(\n",
    "        F.sum(F.col(\"imo\").isNull().cast(IntegerType())).alias(\"imo_missing\")\n",
    "    )\n",
    "\n",
    "# Tampilkan DataFrame Spark\n",
    "missing_values_per_month_imo.show()  "
   ]
  },
  {
   "cell_type": "markdown",
   "id": "8e51dc01",
   "metadata": {},
   "source": [
    "### MS Status Navigasi"
   ]
  },
  {
   "cell_type": "code",
   "execution_count": 12,
   "id": "e1f4d26d",
   "metadata": {},
   "outputs": [
    {
     "name": "stdout",
     "output_type": "stream",
     "text": [
      "+---------+------------------+\n",
      "|   months|nav_status_missing|\n",
      "+---------+------------------+\n",
      "| February|                 0|\n",
      "|  January|                 0|\n",
      "|     June|                 0|\n",
      "|September|                 0|\n",
      "|  October|                 0|\n",
      "|    March|                 0|\n",
      "|      May|                 0|\n",
      "|     July|                 0|\n",
      "| November|                 0|\n",
      "|    April|                 0|\n",
      "|   August|                 0|\n",
      "| December|                 0|\n",
      "+---------+------------------+\n",
      "\n"
     ]
    }
   ],
   "source": [
    "# Hitung jumlah nilai yang hilang per bulan untuk kolom \"nav_status\"\n",
    "missing_values_per_month_nav_status = data_sampel.withColumn(\"months\", F.date_format(\"dt_pos_utc\", \"MMMM\")) \\\n",
    "    .groupBy(\"months\").agg(\n",
    "        F.sum(F.col(\"nav_status\").isNull().cast(IntegerType())).alias(\"nav_status_missing\")\n",
    "    )\n",
    "\n",
    "# Tampilkan DataFrame Spark\n",
    "missing_values_per_month_nav_status.show() "
   ]
  },
  {
   "cell_type": "markdown",
   "id": "79c2dd71",
   "metadata": {},
   "source": [
    "### MS Tipe Kapal"
   ]
  },
  {
   "cell_type": "code",
   "execution_count": 13,
   "id": "04e2993b",
   "metadata": {},
   "outputs": [
    {
     "name": "stdout",
     "output_type": "stream",
     "text": [
      "+---------+-------------------+\n",
      "|   months|vessel_type_missing|\n",
      "+---------+-------------------+\n",
      "| February|                  0|\n",
      "|  January|                  0|\n",
      "|     June|                  0|\n",
      "|September|                  0|\n",
      "|  October|                  0|\n",
      "|    March|                  0|\n",
      "|      May|                  0|\n",
      "|     July|                  0|\n",
      "| November|                  0|\n",
      "|    April|                  0|\n",
      "|   August|                  0|\n",
      "| December|                  0|\n",
      "+---------+-------------------+\n",
      "\n"
     ]
    }
   ],
   "source": [
    "# Hitung jumlah nilai yang hilang per bulan untuk kolom \"vessel_type\"\n",
    "missing_values_per_month_vessel_type = data_sampel.withColumn(\"months\", F.date_format(\"dt_pos_utc\", \"MMMM\")) \\\n",
    "    .groupBy(\"months\").agg(\n",
    "        F.sum(F.col(\"vessel_type\").isNull().cast(IntegerType())).alias(\"vessel_type_missing\")\n",
    "    )\n",
    "\n",
    "# Tampilkan DataFrame Spark\n",
    "missing_values_per_month_vessel_type.show() "
   ]
  },
  {
   "cell_type": "markdown",
   "id": "9247ab1a",
   "metadata": {},
   "source": [
    "### MS Negara Kapal"
   ]
  },
  {
   "cell_type": "code",
   "execution_count": 14,
   "id": "a8b32260",
   "metadata": {},
   "outputs": [
    {
     "name": "stdout",
     "output_type": "stream",
     "text": [
      "+---------+--------------------+\n",
      "|   months|flag_country_missing|\n",
      "+---------+--------------------+\n",
      "| February|                   0|\n",
      "|  January|                   0|\n",
      "|     June|                   0|\n",
      "|September|                   0|\n",
      "|  October|                   0|\n",
      "|    March|                   0|\n",
      "|      May|                4326|\n",
      "|     July|                   0|\n",
      "| November|               46721|\n",
      "|    April|                   0|\n",
      "|   August|                   0|\n",
      "| December|                   0|\n",
      "+---------+--------------------+\n",
      "\n"
     ]
    }
   ],
   "source": [
    "# Hitung jumlah nilai yang hilang per bulan untuk kolom \"flag_country\"\n",
    "missing_values_per_month_flag_country = data_sampel.withColumn(\"months\", F.date_format(\"dt_pos_utc\", \"MMMM\")) \\\n",
    "    .groupBy(\"months\").agg(\n",
    "        F.sum(F.col(\"flag_country\").isNull().cast(IntegerType())).alias(\"flag_country_missing\")\n",
    "    )\n",
    "\n",
    "# Tampilkan DataFrame Spark\n",
    "missing_values_per_month_flag_country.show() "
   ]
  },
  {
   "cell_type": "markdown",
   "id": "1136222d",
   "metadata": {},
   "source": [
    "### MS Latitude & Longitude"
   ]
  },
  {
   "cell_type": "code",
   "execution_count": 15,
   "id": "7391be5a",
   "metadata": {},
   "outputs": [
    {
     "name": "stdout",
     "output_type": "stream",
     "text": [
      "+---------+----------------+\n",
      "|   months|latitude_missing|\n",
      "+---------+----------------+\n",
      "| February|               0|\n",
      "|  January|               0|\n",
      "|     June|               0|\n",
      "|September|               0|\n",
      "|  October|               0|\n",
      "|    March|               0|\n",
      "|      May|               0|\n",
      "|     July|               0|\n",
      "| November|               0|\n",
      "|    April|               0|\n",
      "|   August|               0|\n",
      "| December|               0|\n",
      "+---------+----------------+\n",
      "\n"
     ]
    }
   ],
   "source": [
    "# Hitung jumlah nilai yang hilang per bulan untuk kolom \"latitude\"\n",
    "missing_values_per_month_latitude = data_sampel.withColumn(\"months\", F.date_format(\"dt_pos_utc\", \"MMMM\")) \\\n",
    "    .groupBy(\"months\").agg(\n",
    "        F.sum(F.col(\"latitude\").isNull().cast(IntegerType())).alias(\"latitude_missing\")\n",
    "    )\n",
    "\n",
    "# Tampilkan DataFrame Spark\n",
    "missing_values_per_month_latitude.show() "
   ]
  },
  {
   "cell_type": "code",
   "execution_count": 10,
   "id": "c56f1343",
   "metadata": {},
   "outputs": [
    {
     "name": "stdout",
     "output_type": "stream",
     "text": [
      "+---------+-----------------+\n",
      "|   months|longitude_missing|\n",
      "+---------+-----------------+\n",
      "|     June|                0|\n",
      "|      May|                0|\n",
      "|    April|                0|\n",
      "|  January|                0|\n",
      "| February|                0|\n",
      "| November|                0|\n",
      "|  October|                0|\n",
      "|   August|                0|\n",
      "|     July|                0|\n",
      "| December|                0|\n",
      "|    March|                0|\n",
      "|September|                0|\n",
      "+---------+-----------------+\n",
      "\n"
     ]
    }
   ],
   "source": [
    "# Hitung jumlah nilai yang hilang per bulan untuk kolom \"longitude\"\n",
    "missing_values_per_month_longitude = data_sampel.withColumn(\"months\", F.date_format(\"dt_pos_utc\", \"MMMM\")) \\\n",
    "    .groupBy(\"months\").agg(\n",
    "        F.sum(F.col(\"longitude\").isNull().cast(IntegerType())).alias(\"longitude_missing\")\n",
    "    )\n",
    "\n",
    "# Tampilkan DataFrame Spark\n",
    "missing_values_per_month_longitude.show() "
   ]
  },
  {
   "cell_type": "markdown",
   "id": "a15753dc",
   "metadata": {},
   "source": [
    "### MS dt_pos_utc"
   ]
  },
  {
   "cell_type": "code",
   "execution_count": 11,
   "id": "4705e109",
   "metadata": {},
   "outputs": [
    {
     "name": "stdout",
     "output_type": "stream",
     "text": [
      "+---------+------------------+\n",
      "|   months|dt_pos_utc_missing|\n",
      "+---------+------------------+\n",
      "|     June|                 0|\n",
      "|      May|                 0|\n",
      "|    April|                 0|\n",
      "|  January|                 0|\n",
      "| February|                 0|\n",
      "| November|                 0|\n",
      "|  October|                 0|\n",
      "|   August|                 0|\n",
      "|     July|                 0|\n",
      "| December|                 0|\n",
      "|    March|                 0|\n",
      "|September|                 0|\n",
      "+---------+------------------+\n",
      "\n"
     ]
    }
   ],
   "source": [
    "# Hitung jumlah nilai yang hilang per bulan untuk kolom \"dt_pos_utc\"\n",
    "missing_values_per_month_dt_pos_utc = data_sampel.withColumn(\"months\", F.date_format(\"dt_pos_utc\", \"MMMM\")) \\\n",
    "    .groupBy(\"months\").agg(\n",
    "        F.sum(F.col(\"dt_pos_utc\").isNull().cast(IntegerType())).alias(\"dt_pos_utc_missing\")\n",
    "    )\n",
    "\n",
    "# Tampilkan DataFrame Spark\n",
    "missing_values_per_month_dt_pos_utc.show() "
   ]
  },
  {
   "cell_type": "markdown",
   "id": "1158bc1e",
   "metadata": {},
   "source": [
    "## Pergerakan Anomali"
   ]
  },
  {
   "cell_type": "code",
   "execution_count": null,
   "id": "ae49a53c",
   "metadata": {},
   "outputs": [],
   "source": [
    "# plot jarak tempuh (y) sama waktu tempuh (x)\n",
    "# Dari plotnya keliatan mana yang jarak tempuhnya besar tapi waktu tempuhnya kecil (atau sebaliknya?)"
   ]
  },
  {
   "cell_type": "markdown",
   "id": "6f130951",
   "metadata": {},
   "source": [
    "### Status Navigasi & SOG"
   ]
  },
  {
   "cell_type": "code",
   "execution_count": 20,
   "id": "203d69fb",
   "metadata": {},
   "outputs": [
    {
     "name": "stdout",
     "output_type": "stream",
     "text": [
      "+--------------------+--------+--------+--------+--------+--------+--------+\n",
      "|          nav_status|sog_50 %|sog_75 %|sog_90 %|sog_95 %|sog_99 %|sog_99 %|\n",
      "+--------------------+--------+--------+--------+--------+--------+--------+\n",
      "|              Moored|     0.0|     0.0|     0.0|     0.2|     9.2|    17.5|\n",
      "|Restricted Manoeu...|     0.0|     1.0|     4.6|     7.0|    11.3|    16.2|\n",
      "|             Aground|     0.0|     0.1|     6.0|     9.0|    15.8|    25.0|\n",
      "|         Not Defined|     0.0|     1.0|     7.0|     9.1|    15.0|    26.3|\n",
      "|   Not Under Command|     0.5|     1.5|     4.5|     8.3|    13.2|    20.7|\n",
      "|  Engaged In Fishing|     1.3|     4.2|     8.3|     9.8|    12.0|    14.0|\n",
      "|    Underway Sailing|     0.0|     4.5|     9.5|    11.7|    15.7|    26.7|\n",
      "|             Unknown|     0.0|     2.2|     6.2|     7.9|    11.3|    28.4|\n",
      "|           At Anchor|     0.0|     0.1|     0.2|     0.5|     7.7|    12.6|\n",
      "|Under Way Using E...|     7.9|    11.9|    14.0|    16.6|    20.0|    28.0|\n",
      "+--------------------+--------+--------+--------+--------+--------+--------+\n",
      "\n"
     ]
    }
   ],
   "source": [
    "from pyspark.sql.functions import expr\n",
    "\n",
    "# Tentukan persentil yang diinginkan\n",
    "percentiles = [0.5, 0.75, 0.9, 0.95, 0.99, 0.999]\n",
    "\n",
    "# Loop melalui setiap persentil dan hitung nilai kuantil untuk sog\n",
    "quantile_columns = [expr(f\"percentile_approx(sog, {p})\").alias(f\"sog_{int(p * 100)} %\") for p in percentiles]\n",
    "\n",
    "# Kelompokkan berdasarkan nav_status dan hitung kuantilnya\n",
    "quantiles_per_nav_status = data_sampel.select(\"nav_status\",\"sog\").groupBy(\"nav_status\").agg(*quantile_columns)\n",
    "\n",
    "# Tampilkan hasil\n",
    "quantiles_per_nav_status.show()"
   ]
  },
  {
   "cell_type": "markdown",
   "id": "4027a86d",
   "metadata": {},
   "source": [
    "### Validasi Status Navigasi dengan SOG"
   ]
  },
  {
   "cell_type": "code",
   "execution_count": 14,
   "id": "c82e8ccb",
   "metadata": {},
   "outputs": [
    {
     "name": "stdout",
     "output_type": "stream",
     "text": [
      "+---------+-----------------------------+\n",
      "|    bulan|total_pergerakan_tidak_normal|\n",
      "+---------+-----------------------------+\n",
      "| November|                    124562048|\n",
      "|     June|                    142166206|\n",
      "|  October|                    144118022|\n",
      "|     July|                    149969538|\n",
      "|  January|                    139993463|\n",
      "|   August|                    146887850|\n",
      "| February|                    127837966|\n",
      "|    March|                    141333526|\n",
      "| December|                    139578426|\n",
      "|    April|                    139284519|\n",
      "|      May|                    143070031|\n",
      "|September|                    142222931|\n",
      "+---------+-----------------------------+\n",
      "\n"
     ]
    }
   ],
   "source": [
    "# Memeriksa kecocokan nav_status dan sog\n",
    "\n",
    "# Ekstrak nama bulan dari timestamp\n",
    "data_sampel_bulan = data_sampel.withColumn(\"bulan\", date_format(\"dt_pos_utc\", \"MMMM\"))\n",
    "\n",
    "# Tentukan kriteria pergerakan tidak normal\n",
    "kriteria_pergerakan_tidak_normal = (\n",
    "    ((col(\"nav_status\").isin(['At Anchor', 'Restricted Manoeuvrability', 'Moored', 'Aground'])) &\n",
    "    (col(\"sog\") > 1)) | \n",
    "    ((col(\"nav_status\").isin(['Not Under Command', 'Underway Sailing', 'Under Way Using Engine', 'Engaged In Fishing'])) &\n",
    "    (col(\"sog\") < 1))\n",
    ")\n",
    "\n",
    "# Hitung pergerakan tidak normal per bulan\n",
    "pergerakan_tidak_normal_per_bulan = data_sampel_bulan.withColumn(\n",
    "    \"pergerakan_tidak_normal\",\n",
    "    when(kriteria_pergerakan_tidak_normal, 1).otherwise(0)\n",
    ").groupBy(\"bulan\").agg({\"pergerakan_tidak_normal\": \"sum\"}).withColumnRenamed(\"SUM(pergerakan_tidak_normal)\", \"total_pergerakan_tidak_normal\")\n",
    "\n",
    "# Tampilkan hasil\n",
    "pergerakan_tidak_normal_per_bulan.show()"
   ]
  },
  {
   "cell_type": "markdown",
   "id": "54b21f13",
   "metadata": {},
   "source": [
    "# Filter"
   ]
  },
  {
   "cell_type": "markdown",
   "id": "b4378018",
   "metadata": {},
   "source": [
    "## Filter MMSI"
   ]
  },
  {
   "cell_type": "code",
   "execution_count": 15,
   "id": "c78f6241",
   "metadata": {},
   "outputs": [],
   "source": [
    "# Filter data untuk mmsi di dalam rentang tertentu\n",
    "filtered_mmsi = data_sampel.filter(col(\"mmsi\").between(100000000, 999999999))"
   ]
  },
  {
   "cell_type": "code",
   "execution_count": 16,
   "id": "4c887574",
   "metadata": {},
   "outputs": [
    {
     "name": "stdout",
     "output_type": "stream",
     "text": [
      "Error while receiving.\n",
      "Traceback (most recent call last):\n",
      "  File \"/opt/conda/lib/python3.8/socket.py\", line 669, in readinto\n",
      "    return self._sock.recv_into(b)\n",
      "KeyboardInterrupt\n",
      "\n",
      "During handling of the above exception, another exception occurred:\n",
      "\n",
      "Traceback (most recent call last):\n",
      "  File \"/opt/spark/python/lib/py4j-0.10.9.5-src.zip/py4j/clientserver.py\", line 511, in send_command\n",
      "    answer = smart_decode(self.stream.readline()[:-1])\n",
      "RuntimeError: reentrant call inside <_io.BufferedReader name=3>\n",
      "Closing down clientserver connection\n",
      "Closing down clientserver connection\n"
     ]
    },
    {
     "name": "stderr",
     "output_type": "stream",
     "text": [
      "ERROR: Exception while sending command.\n",
      "Traceback (most recent call last):\n",
      "  File \"/opt/conda/lib/python3.8/socket.py\", line 669, in readinto\n",
      "    return self._sock.recv_into(b)\n",
      "KeyboardInterrupt\n",
      "\n",
      "During handling of the above exception, another exception occurred:\n",
      "\n",
      "Traceback (most recent call last):\n",
      "  File \"/opt/spark/python/lib/py4j-0.10.9.5-src.zip/py4j/clientserver.py\", line 511, in send_command\n",
      "    answer = smart_decode(self.stream.readline()[:-1])\n",
      "RuntimeError: reentrant call inside <_io.BufferedReader name=3>\n",
      "\n",
      "During handling of the above exception, another exception occurred:\n",
      "\n",
      "Traceback (most recent call last):\n",
      "  File \"/opt/spark/python/lib/py4j-0.10.9.5-src.zip/py4j/java_gateway.py\", line 1038, in send_command\n",
      "    response = connection.send_command(command)\n",
      "  File \"/opt/spark/python/lib/py4j-0.10.9.5-src.zip/py4j/clientserver.py\", line 539, in send_command\n",
      "    raise Py4JNetworkError(\n",
      "py4j.protocol.Py4JNetworkError: Error while sending or receiving\n",
      "ERROR: KeyboardInterrupt while sending command.\n",
      "Traceback (most recent call last):\n",
      "  File \"/opt/spark/python/lib/py4j-0.10.9.5-src.zip/py4j/java_gateway.py\", line 1038, in send_command\n",
      "    response = connection.send_command(command)\n",
      "  File \"/opt/spark/python/lib/py4j-0.10.9.5-src.zip/py4j/clientserver.py\", line 511, in send_command\n",
      "    answer = smart_decode(self.stream.readline()[:-1])\n",
      "  File \"/opt/conda/lib/python3.8/socket.py\", line 669, in readinto\n",
      "    return self._sock.recv_into(b)\n",
      "KeyboardInterrupt\n"
     ]
    },
    {
     "ename": "KeyboardInterrupt",
     "evalue": "",
     "output_type": "error",
     "traceback": [
      "\u001b[0;31m---------------------------------------------------------------------------\u001b[0m",
      "\u001b[0;31mKeyboardInterrupt\u001b[0m                         Traceback (most recent call last)",
      "Cell \u001b[0;32mIn[16], line 1\u001b[0m\n\u001b[0;32m----> 1\u001b[0m \u001b[43mfiltered_mmsi\u001b[49m\u001b[38;5;241;43m.\u001b[39;49m\u001b[43mcount\u001b[49m\u001b[43m(\u001b[49m\u001b[43m)\u001b[49m\n",
      "File \u001b[0;32m/opt/spark/python/lib/pyspark.zip/pyspark/sql/dataframe.py:804\u001b[0m, in \u001b[0;36mDataFrame.count\u001b[0;34m(self)\u001b[0m\n\u001b[1;32m    794\u001b[0m \u001b[38;5;28;01mdef\u001b[39;00m \u001b[38;5;21mcount\u001b[39m(\u001b[38;5;28mself\u001b[39m) \u001b[38;5;241m-\u001b[39m\u001b[38;5;241m>\u001b[39m \u001b[38;5;28mint\u001b[39m:\n\u001b[1;32m    795\u001b[0m \u001b[38;5;250m    \u001b[39m\u001b[38;5;124;03m\"\"\"Returns the number of rows in this :class:`DataFrame`.\u001b[39;00m\n\u001b[1;32m    796\u001b[0m \n\u001b[1;32m    797\u001b[0m \u001b[38;5;124;03m    .. versionadded:: 1.3.0\u001b[39;00m\n\u001b[0;32m   (...)\u001b[0m\n\u001b[1;32m    802\u001b[0m \u001b[38;5;124;03m    2\u001b[39;00m\n\u001b[1;32m    803\u001b[0m \u001b[38;5;124;03m    \"\"\"\u001b[39;00m\n\u001b[0;32m--> 804\u001b[0m     \u001b[38;5;28;01mreturn\u001b[39;00m \u001b[38;5;28mint\u001b[39m(\u001b[38;5;28;43mself\u001b[39;49m\u001b[38;5;241;43m.\u001b[39;49m\u001b[43m_jdf\u001b[49m\u001b[38;5;241;43m.\u001b[39;49m\u001b[43mcount\u001b[49m\u001b[43m(\u001b[49m\u001b[43m)\u001b[49m)\n",
      "File \u001b[0;32m/opt/spark/python/lib/py4j-0.10.9.5-src.zip/py4j/java_gateway.py:1320\u001b[0m, in \u001b[0;36mJavaMember.__call__\u001b[0;34m(self, *args)\u001b[0m\n\u001b[1;32m   1313\u001b[0m args_command, temp_args \u001b[38;5;241m=\u001b[39m \u001b[38;5;28mself\u001b[39m\u001b[38;5;241m.\u001b[39m_build_args(\u001b[38;5;241m*\u001b[39margs)\n\u001b[1;32m   1315\u001b[0m command \u001b[38;5;241m=\u001b[39m proto\u001b[38;5;241m.\u001b[39mCALL_COMMAND_NAME \u001b[38;5;241m+\u001b[39m\\\n\u001b[1;32m   1316\u001b[0m     \u001b[38;5;28mself\u001b[39m\u001b[38;5;241m.\u001b[39mcommand_header \u001b[38;5;241m+\u001b[39m\\\n\u001b[1;32m   1317\u001b[0m     args_command \u001b[38;5;241m+\u001b[39m\\\n\u001b[1;32m   1318\u001b[0m     proto\u001b[38;5;241m.\u001b[39mEND_COMMAND_PART\n\u001b[0;32m-> 1320\u001b[0m answer \u001b[38;5;241m=\u001b[39m \u001b[38;5;28;43mself\u001b[39;49m\u001b[38;5;241;43m.\u001b[39;49m\u001b[43mgateway_client\u001b[49m\u001b[38;5;241;43m.\u001b[39;49m\u001b[43msend_command\u001b[49m\u001b[43m(\u001b[49m\u001b[43mcommand\u001b[49m\u001b[43m)\u001b[49m\n\u001b[1;32m   1321\u001b[0m return_value \u001b[38;5;241m=\u001b[39m get_return_value(\n\u001b[1;32m   1322\u001b[0m     answer, \u001b[38;5;28mself\u001b[39m\u001b[38;5;241m.\u001b[39mgateway_client, \u001b[38;5;28mself\u001b[39m\u001b[38;5;241m.\u001b[39mtarget_id, \u001b[38;5;28mself\u001b[39m\u001b[38;5;241m.\u001b[39mname)\n\u001b[1;32m   1324\u001b[0m \u001b[38;5;28;01mfor\u001b[39;00m temp_arg \u001b[38;5;129;01min\u001b[39;00m temp_args:\n",
      "File \u001b[0;32m/opt/spark/python/lib/py4j-0.10.9.5-src.zip/py4j/java_gateway.py:1038\u001b[0m, in \u001b[0;36mGatewayClient.send_command\u001b[0;34m(self, command, retry, binary)\u001b[0m\n\u001b[1;32m   1036\u001b[0m connection \u001b[38;5;241m=\u001b[39m \u001b[38;5;28mself\u001b[39m\u001b[38;5;241m.\u001b[39m_get_connection()\n\u001b[1;32m   1037\u001b[0m \u001b[38;5;28;01mtry\u001b[39;00m:\n\u001b[0;32m-> 1038\u001b[0m     response \u001b[38;5;241m=\u001b[39m \u001b[43mconnection\u001b[49m\u001b[38;5;241;43m.\u001b[39;49m\u001b[43msend_command\u001b[49m\u001b[43m(\u001b[49m\u001b[43mcommand\u001b[49m\u001b[43m)\u001b[49m\n\u001b[1;32m   1039\u001b[0m     \u001b[38;5;28;01mif\u001b[39;00m binary:\n\u001b[1;32m   1040\u001b[0m         \u001b[38;5;28;01mreturn\u001b[39;00m response, \u001b[38;5;28mself\u001b[39m\u001b[38;5;241m.\u001b[39m_create_connection_guard(connection)\n",
      "File \u001b[0;32m/opt/spark/python/lib/py4j-0.10.9.5-src.zip/py4j/clientserver.py:511\u001b[0m, in \u001b[0;36mClientServerConnection.send_command\u001b[0;34m(self, command)\u001b[0m\n\u001b[1;32m    509\u001b[0m \u001b[38;5;28;01mtry\u001b[39;00m:\n\u001b[1;32m    510\u001b[0m     \u001b[38;5;28;01mwhile\u001b[39;00m \u001b[38;5;28;01mTrue\u001b[39;00m:\n\u001b[0;32m--> 511\u001b[0m         answer \u001b[38;5;241m=\u001b[39m smart_decode(\u001b[38;5;28;43mself\u001b[39;49m\u001b[38;5;241;43m.\u001b[39;49m\u001b[43mstream\u001b[49m\u001b[38;5;241;43m.\u001b[39;49m\u001b[43mreadline\u001b[49m\u001b[43m(\u001b[49m\u001b[43m)\u001b[49m[:\u001b[38;5;241m-\u001b[39m\u001b[38;5;241m1\u001b[39m])\n\u001b[1;32m    512\u001b[0m         logger\u001b[38;5;241m.\u001b[39mdebug(\u001b[38;5;124m\"\u001b[39m\u001b[38;5;124mAnswer received: \u001b[39m\u001b[38;5;132;01m{0}\u001b[39;00m\u001b[38;5;124m\"\u001b[39m\u001b[38;5;241m.\u001b[39mformat(answer))\n\u001b[1;32m    513\u001b[0m         \u001b[38;5;66;03m# Happens when a the other end is dead. There might be an empty\u001b[39;00m\n\u001b[1;32m    514\u001b[0m         \u001b[38;5;66;03m# answer before the socket raises an error.\u001b[39;00m\n",
      "File \u001b[0;32m/opt/conda/lib/python3.8/socket.py:669\u001b[0m, in \u001b[0;36mSocketIO.readinto\u001b[0;34m(self, b)\u001b[0m\n\u001b[1;32m    667\u001b[0m \u001b[38;5;28;01mwhile\u001b[39;00m \u001b[38;5;28;01mTrue\u001b[39;00m:\n\u001b[1;32m    668\u001b[0m     \u001b[38;5;28;01mtry\u001b[39;00m:\n\u001b[0;32m--> 669\u001b[0m         \u001b[38;5;28;01mreturn\u001b[39;00m \u001b[38;5;28;43mself\u001b[39;49m\u001b[38;5;241;43m.\u001b[39;49m\u001b[43m_sock\u001b[49m\u001b[38;5;241;43m.\u001b[39;49m\u001b[43mrecv_into\u001b[49m\u001b[43m(\u001b[49m\u001b[43mb\u001b[49m\u001b[43m)\u001b[49m\n\u001b[1;32m    670\u001b[0m     \u001b[38;5;28;01mexcept\u001b[39;00m timeout:\n\u001b[1;32m    671\u001b[0m         \u001b[38;5;28mself\u001b[39m\u001b[38;5;241m.\u001b[39m_timeout_occurred \u001b[38;5;241m=\u001b[39m \u001b[38;5;28;01mTrue\u001b[39;00m\n",
      "\u001b[0;31mKeyboardInterrupt\u001b[0m: "
     ]
    }
   ],
   "source": [
    "filtered_mmsi.count()"
   ]
  },
  {
   "cell_type": "code",
   "execution_count": null,
   "id": "4475722c",
   "metadata": {},
   "outputs": [],
   "source": [
    "# Hitung jumlah 'mmsi' yang unik per bulan\n",
    "unique_filtered_mmsi_per_month = filtered_mmsi.withColumn(\"months\", date_format(\"dt_pos_utc\", \"MMMM\")) \\\n",
    "    .groupBy(\"months\").agg(countDistinct(\"mmsi\").alias(\"unique_mmsi_count\"))\n",
    "\n",
    "# Tampilkan DataFrame Spark\n",
    "unique_filtered_mmsi_per_month.show()"
   ]
  },
  {
   "cell_type": "markdown",
   "id": "67f99627",
   "metadata": {},
   "source": [
    "## Filter IMO"
   ]
  },
  {
   "cell_type": "code",
   "execution_count": null,
   "id": "153c0684",
   "metadata": {},
   "outputs": [],
   "source": [
    "# Filter data untuk imo di dalam rentang tertentu\n",
    "filtered_imo = filtered_mmsi.filter(col(\"imo\").between(1000000, 9999999))"
   ]
  },
  {
   "cell_type": "code",
   "execution_count": null,
   "id": "c9a49367",
   "metadata": {},
   "outputs": [],
   "source": [
    "filtered_imo.count()"
   ]
  },
  {
   "cell_type": "code",
   "execution_count": null,
   "id": "14fe36d3",
   "metadata": {},
   "outputs": [],
   "source": [
    "# Hitung jumlah 'imo' yang unik per bulan\n",
    "unique_filtered_imo_per_month = filtered_imo.withColumn(\"months\", date_format(\"dt_pos_utc\", \"MMMM\")) \\\n",
    "    .groupBy(\"months\").agg(countDistinct(\"imo\").alias(\"unique_imo_count\"))\n",
    "\n",
    "# Tampilkan DataFrame Spark\n",
    "unique_filtered_imo_per_month.show() "
   ]
  },
  {
   "cell_type": "markdown",
   "id": "0655c0ba",
   "metadata": {},
   "source": [
    "## Filter Status Navigasi"
   ]
  },
  {
   "cell_type": "code",
   "execution_count": null,
   "id": "062ae451",
   "metadata": {},
   "outputs": [],
   "source": [
    "# Filter data untuk nav_status_code di dalam rentang tertentu\n",
    "filtered_nav_status_code = filtered_imo.filter(col(\"nav_status_code\").between(0, 14))"
   ]
  },
  {
   "cell_type": "code",
   "execution_count": null,
   "id": "25b67a3b",
   "metadata": {},
   "outputs": [],
   "source": [
    "# Nilai yang akan di-filter\n",
    "nav_status_values = ['Under Way Using Engine', 'At Anchor', 'Restricted Manoeuvrability', 'Moored', 'Engaged In Fishing', 'Underway Sailing']\n",
    "\n",
    "# Filter data berdasarkan nilai 'nav_status'\n",
    "filtered_nav_status = filtered_nav_status_code.filter(col(\"nav_status\").isin(nav_status_values))"
   ]
  },
  {
   "cell_type": "code",
   "execution_count": null,
   "id": "a92814f6",
   "metadata": {},
   "outputs": [],
   "source": [
    "filtered_nav_status.count()"
   ]
  },
  {
   "cell_type": "code",
   "execution_count": null,
   "id": "1e6ffff8",
   "metadata": {},
   "outputs": [],
   "source": [
    "# Hitung jumlah 'mmsi' per masing-masing 'nav_status'\n",
    "mmsi_count_per_filtered_nav_status = filtered_nav_status.groupBy(\"nav_status\").agg(count(\"mmsi\").alias(\"mmsi_count\"))\n",
    "\n",
    "# Tampilkan DataFrame Spark\n",
    "mmsi_count_per_filtered_nav_status.show() "
   ]
  },
  {
   "cell_type": "code",
   "execution_count": null,
   "id": "75cac7f2",
   "metadata": {},
   "outputs": [],
   "source": [
    "# Hitung jumlah 'mmsi' yang unik berdasarkan 'nav_status'\n",
    "unique_mmsi_per_filtered_nav_status = filtered_nav_status.groupBy(\"nav_status\").agg(countDistinct(\"mmsi\").alias(\"unique_mmsi_per_filtered_nav_status_count\"))\n",
    "\n",
    "# Tampilkan DataFrame Spark\n",
    "unique_mmsi_per_filtered_nav_status.show() "
   ]
  },
  {
   "cell_type": "markdown",
   "id": "bcb03572",
   "metadata": {},
   "source": [
    "## Filter Tipe Kapal"
   ]
  },
  {
   "cell_type": "code",
   "execution_count": null,
   "id": "e24a4877",
   "metadata": {},
   "outputs": [],
   "source": [
    "# Filter data untuk vessel_type_code di dalam rentang tertentu\n",
    "filtered_vessel_type_code = filtered_nav_status.filter(col(\"vessel_type_code\").between(1, 99))"
   ]
  },
  {
   "cell_type": "code",
   "execution_count": null,
   "id": "1c0d5918",
   "metadata": {},
   "outputs": [],
   "source": [
    "# Nilai yang akan di-filter\n",
    "vessel_type_values = ['Sailing', 'Tanker', 'Other', 'Pleasure Craft', 'Passenger', 'Fishing', 'Port Tender', 'Dredging', 'Cargo']\n",
    "\n",
    "# Filter data berdasarkan nilai 'vessel_type'\n",
    "filtered_vessel_type = filtered_vessel_type_code.filter(col(\"vessel_type\").isin(vessel_type_values))"
   ]
  },
  {
   "cell_type": "code",
   "execution_count": null,
   "id": "ebd8b62f",
   "metadata": {},
   "outputs": [],
   "source": [
    "filtered_vessel_type.count()"
   ]
  },
  {
   "cell_type": "code",
   "execution_count": null,
   "id": "0a24effe",
   "metadata": {},
   "outputs": [],
   "source": [
    "# Hitung jumlah 'mmsi' per masing-masing 'vessel_type'\n",
    "mmsi_count_per_filtered_vessel_type = filtered_vessel_type.groupBy(\"vessel_type\").agg(count(\"mmsi\").alias(\"mmsi_count\"))\n",
    "\n",
    "# Tampilkan DataFrame Spark\n",
    "mmsi_count_per_filtered_vessel_type.show() "
   ]
  },
  {
   "cell_type": "code",
   "execution_count": null,
   "id": "b7dac079",
   "metadata": {},
   "outputs": [],
   "source": [
    "# Hitung jumlah 'mmsi' yang unik berdasarkan 'vessel_type'\n",
    "unique_mmsi_per_filtered_vessel_type = filtered_vessel_type.groupBy(\"vessel_type\").agg(countDistinct(\"mmsi\").alias(\"unique_mmsi_per_filtered_vessel_type_count\"))\n",
    "\n",
    "# Tampilkan DataFrame Spark\n",
    "unique_mmsi_per_filtered_vessel_type.show()  "
   ]
  },
  {
   "cell_type": "markdown",
   "id": "b161828a",
   "metadata": {},
   "source": [
    "## Filter Negara Kapal"
   ]
  },
  {
   "cell_type": "code",
   "execution_count": null,
   "id": "2b6a601a",
   "metadata": {},
   "outputs": [],
   "source": [
    "# Filter data untuk flag_country_code di dalam rentang tertentu\n",
    "filtered_flag_country_code = filtered_vessel_type.filter(col(\"flag_code\").between(201, 775))"
   ]
  },
  {
   "cell_type": "code",
   "execution_count": null,
   "id": "82dfedbb",
   "metadata": {},
   "outputs": [],
   "source": [
    "# Filter data berdasarkan nilai 'flag_country'\n",
    "# bagi jadi dua, Indonesia dan negara asing\n",
    "filtered_flag_country = filtered_flag_country_code.withColumn(\"status_country\", when(col(\"flag_country\") == \"Indonesia\", \"Indonesia\").otherwise(\"Asing\"))"
   ]
  },
  {
   "cell_type": "code",
   "execution_count": null,
   "id": "8aed8fb1",
   "metadata": {},
   "outputs": [],
   "source": [
    "filtered_flag_country_code.count()"
   ]
  },
  {
   "cell_type": "code",
   "execution_count": null,
   "id": "e0e7ea1a",
   "metadata": {},
   "outputs": [],
   "source": [
    "# Hitung jumlah 'mmsi' per masing-masing 'flag_country'\n",
    "mmsi_count_per_filtered_flag_country = filtered_flag_country.groupBy(\"flag_country\").agg(count(\"mmsi\").alias(\"mmsi_count\"))\n",
    "\n",
    "# Tampilkan DataFrame Spark\n",
    "mmsi_count_per_filtered_flag_country.show() "
   ]
  },
  {
   "cell_type": "code",
   "execution_count": null,
   "id": "e0b50473",
   "metadata": {},
   "outputs": [],
   "source": [
    "# Filter out rows where 'flag_country' is not null\n",
    "df_filtered = filtered_flag_country.filter(col(\"flag_country\").isNotNull())\n",
    "\n",
    "# Hitung jumlah 'mmsi' yang unik berdasarkan 'flag_country'\n",
    "unique_mmsi_per_filtered_flag_country = df_filtered.groupBy(\"flag_country\").agg(countDistinct(\"mmsi\").alias(\"unique_mmsi_per_flag_country_count\"))\n",
    "\n",
    "# Tampilkan DataFrame Spark\n",
    "unique_mmsi_per_filtered_flag_country.show() "
   ]
  },
  {
   "cell_type": "markdown",
   "id": "4d6014a6",
   "metadata": {},
   "source": [
    "## Filter Lat, Long"
   ]
  },
  {
   "cell_type": "code",
   "execution_count": null,
   "id": "d51ad1ed",
   "metadata": {},
   "outputs": [],
   "source": [
    "# Filter data untuk latitude & longitude di dalam rentang tertentu\n",
    "filtered_lat = filtered_flag_country_code.filter(col(\"latitude\").between(-90, 90))\n",
    "filtered_lat_long = filtered_lat.filter(col(\"longitude\").between(-180, 180))"
   ]
  },
  {
   "cell_type": "code",
   "execution_count": null,
   "id": "8a8c0f51",
   "metadata": {},
   "outputs": [],
   "source": [
    "filtered_lat_long.count()"
   ]
  },
  {
   "cell_type": "markdown",
   "id": "e979bcbb",
   "metadata": {},
   "source": [
    "## Filter dt_pos_utc"
   ]
  },
  {
   "cell_type": "code",
   "execution_count": null,
   "id": "3e0ecbeb",
   "metadata": {},
   "outputs": [],
   "source": [
    "# Filter data untuk dt_pos_utc di dalam rentang tertentu\n",
    "pattern = \"^[1-9][0-9]{0,3}-[1-9]|0[1-9]|1[0-2]-[1-9]|0[1-9]|[1-2][0-9]|3[0-1] [0-9]|0[0-9]|1[0-9]|2[0-3]:[0-5][0-9]:[0-5][0-9]$\"\n",
    "\n",
    "# Filter data untuk mendapatkan hanya nilai 'dt_pos_utc' yang tidak valid\n",
    "filtered_dt_pos_utc = filtered_lat_long.filter(F.col(\"dt_pos_utc\").rlike(pattern))"
   ]
  },
  {
   "cell_type": "code",
   "execution_count": null,
   "id": "0e08b0ac",
   "metadata": {},
   "outputs": [],
   "source": [
    "filtered_dt_pos_utc.count()"
   ]
  },
  {
   "cell_type": "markdown",
   "id": "656e0350",
   "metadata": {},
   "source": [
    "## Filter Pelayaran/Pergerakan Anomali"
   ]
  },
  {
   "cell_type": "code",
   "execution_count": null,
   "id": "577ce700",
   "metadata": {},
   "outputs": [],
   "source": [
    "# plot jarak tempuh (y) sama waktu tempuh (x)\n",
    "# Dari plotnya keliatan mana yang jarak tempuhnya besar tapi waktu tempuhnya kecil (atau sebaliknya?)"
   ]
  },
  {
   "cell_type": "code",
   "execution_count": null,
   "id": "3b632525",
   "metadata": {},
   "outputs": [],
   "source": [
    "# Tentukan kriteria pergerakan tidak normal\n",
    "kriteria_pergerakan_tidak_normal = (\n",
    "    ((col(\"nav_status\").isin(['At Anchor', 'Moored'])) &\n",
    "    (col(\"sog\") > 1)) | \n",
    "    ((col(\"nav_status\").isin(['Not Under Command', 'Underway Sailing', 'Under Way Using Engine', 'Engaged In Fishing', 'Restricted Manoeuvrability', 'Aground'])) &\n",
    "    (col(\"sog\") < 1))\n",
    ")\n",
    "\n",
    "# kriteria pergerakan normal\n",
    "kriteria_pergerakan_normal = ~kriteria_pergerakan_tidak_normal\n",
    "\n",
    "# Filter pergerakan normal\n",
    "filtered_pergerakan_normal = filtered_dt_pos_utc.filter(kriteria_pergerakan_normal)"
   ]
  },
  {
   "cell_type": "code",
   "execution_count": null,
   "id": "0c013bcf",
   "metadata": {},
   "outputs": [],
   "source": [
    "filtered_pergerakan_normal.count()"
   ]
  },
  {
   "cell_type": "markdown",
   "id": "1560bb7b",
   "metadata": {},
   "source": [
    "## Filter Kapal di Pelabuhan"
   ]
  },
  {
   "cell_type": "code",
   "execution_count": null,
   "id": "94b7eb0a",
   "metadata": {},
   "outputs": [],
   "source": []
  },
  {
   "cell_type": "markdown",
   "id": "6a5cf218",
   "metadata": {},
   "source": [
    "## Filter Pergerakan Anomali"
   ]
  },
  {
   "cell_type": "code",
   "execution_count": null,
   "id": "698741d7",
   "metadata": {},
   "outputs": [],
   "source": []
  },
  {
   "cell_type": "markdown",
   "id": "8ffa61f4",
   "metadata": {},
   "source": [
    "# Setelah Difilter"
   ]
  },
  {
   "cell_type": "markdown",
   "id": "f795a67a",
   "metadata": {},
   "source": [
    "## Record"
   ]
  },
  {
   "cell_type": "code",
   "execution_count": null,
   "id": "e43ba019",
   "metadata": {},
   "outputs": [],
   "source": [
    "# Kelompokkan berdasarkan bulan dan hitung jumlah rekaman\n",
    "rekaman_per_bulan_filter = filtered_pergerakan_normal.groupBy(\"months\").agg(count(\"*\").alias(\"jumlah_record_per_bulan\"))\n",
    "\n",
    "# Tampilkan DataFrame Spark yang telah diubah dan diurutkan\n",
    "rekaman_per_bulan_filter.show()"
   ]
  },
  {
   "cell_type": "markdown",
   "id": "41470365",
   "metadata": {},
   "source": [
    "# Download"
   ]
  },
  {
   "cell_type": "markdown",
   "id": "ac91d8b3",
   "metadata": {},
   "source": [
    "## Fungsi"
   ]
  },
  {
   "cell_type": "code",
   "execution_count": 14,
   "id": "092d3b5f",
   "metadata": {},
   "outputs": [],
   "source": [
    "def create_download_link(df, title, filename):\n",
    "    csv = df.to_csv(index = False)\n",
    "    b64 = base64.b64encode(csv.encode())\n",
    "    payload = b64.decode()\n",
    "    html = '<a download=\"{filename}\" href=\"data:text/csv;base64,{payload}\" target=\"_blank\">{title}</a>'\n",
    "    html = html.format(payload=payload, title=title, filename=filename)\n",
    "    return HTML(html)"
   ]
  },
  {
   "cell_type": "markdown",
   "id": "e554217f",
   "metadata": {},
   "source": [
    "## Download Data"
   ]
  },
  {
   "cell_type": "code",
   "execution_count": 19,
   "id": "84f80fab",
   "metadata": {},
   "outputs": [
    {
     "name": "stderr",
     "output_type": "stream",
     "text": [
      "/opt/spark/python/lib/pyspark.zip/pyspark/sql/pandas/conversion.py:474: FutureWarning: iteritems is deprecated and will be removed in a future version. Use .items instead.\n",
      "  for column, series in pdf.iteritems():\n",
      "/opt/spark/python/lib/pyspark.zip/pyspark/sql/pandas/conversion.py:486: FutureWarning: iteritems is deprecated and will be removed in a future version. Use .items instead.\n",
      "  for column, series in pdf.iteritems():\n"
     ]
    },
    {
     "data": {
      "text/html": [
       "<a download=\"rekaman_per_bulan.csv\" href=\"data:text/csv;base64,YnVsYW4sanVtbGFoX3JlY29yZF9wZXJfYnVsYW4sYnVsYW5fbnVtZXJpawpKYW51YXJ5LDcwODg2MTE3MywxCkZlYnJ1YXJ5LDY1MjM0ODIxMSwyCk1hcmNoLDc0ODk0MjQ1MSwzCkFwcmlsLDc1MTI5MjcxMyw0Ck1heSw3Njg0ODk0ODEsNQpKdW5lLDc3MDI2ODA2Nyw2Ckp1bHksODE4MTIxNDgxLDcKQXVndXN0LDc5NTkzMDQwNSw4ClNlcHRlbWJlciw3NjY0MzI3ODUsOQpPY3RvYmVyLDc2OTMyMTY2MiwxMApOb3ZlbWJlciw2MTUzNDU3NzcsMTEKRGVjZW1iZXIsNzMyOTg0NDE2LDEyCg==\" target=\"_blank\">rekaman_per_bulan</a>"
      ],
      "text/plain": [
       "<IPython.core.display.HTML object>"
      ]
     },
     "execution_count": 19,
     "metadata": {},
     "output_type": "execute_result"
    }
   ],
   "source": [
    "# Jumlah Records (All)\n",
    "\n",
    "# DataFrame Spark\n",
    "rekaman_per_bulan = spark.createDataFrame(rekaman_per_bulan)\n",
    "\n",
    "# Export ke Pandas DataFrame\n",
    "rekaman_per_bulan = rekaman_per_bulan.toPandas()\n",
    "\n",
    "# Download Data\n",
    "create_download_link(rekaman_per_bulan, title=\"rekaman_per_bulan\", filename=\"rekaman_per_bulan.csv\")"
   ]
  },
  {
   "cell_type": "code",
   "execution_count": 10,
   "id": "3f99c5cb",
   "metadata": {},
   "outputs": [],
   "source": [
    "# Records (1%)\n",
    "\n",
    "# DataFrame Spark\n",
    "#sampled_data = spark.createDataFrame(sampled_data)\n",
    "\n",
    "# Export ke Pandas DataFrame\n",
    "#sampled_data = sampled_data.toPandas()\n",
    "\n",
    "# Download Data\n",
    "#create_download_link(sampled_data, title=sampled_data, filename=\"sampled_data.csv\")"
   ]
  },
  {
   "cell_type": "code",
   "execution_count": null,
   "id": "0f948218",
   "metadata": {},
   "outputs": [],
   "source": [
    "# Partisi Records (1%)\n",
    "\n",
    "# DataFrame Spark\n",
    "#sampledd_data_1 = spark.createDataFrame(sampledd_data_1)\n",
    "#sampledd_data_2 = spark.createDataFrame(sampledd_data_2)\n",
    "#sampledd_data_3 = spark.createDataFrame(sampledd_data_3)\n",
    "#sampledd_data_4 = spark.createDataFrame(sampledd_data_4)\n",
    "#sampledd_data_5 = spark.createDataFrame(sampledd_data_5)\n",
    "#sampledd_data_6 = spark.createDataFrame(sampledd_data_6)\n",
    "#sampledd_data_7 = spark.createDataFrame(sampledd_data_7)\n",
    "#sampledd_data_8 = spark.createDataFrame(sampledd_data_8)\n",
    "#sampledd_data_9 = spark.createDataFrame(sampledd_data_9)\n",
    "#sampledd_data_10 = spark.createDataFrame(sampledd_data_10)\n",
    "\n",
    "# Export ke Pandas DataFrame\n",
    "#sampledd_data_1 = sampledd_data_1.toPandas()\n",
    "#sampledd_data_2 = sampledd_data_2.toPandas()\n",
    "#sampledd_data_3 = sampledd_data_3.toPandas()\n",
    "#sampledd_data_4 = sampledd_data_4.toPandas()\n",
    "#sampledd_data_5 = sampledd_data_5.toPandas()\n",
    "#sampledd_data_6 = sampledd_data_6.toPandas()\n",
    "#sampledd_data_7 = sampledd_data_7.toPandas()\n",
    "#sampledd_data_8 = sampledd_data_8.toPandas()\n",
    "#sampledd_data_9 = sampledd_data_9.toPandas()\n",
    "#sampledd_data_10 = sampledd_data_10.toPandas()\n",
    "\n",
    "# Download Data\n",
    "#create_download_link(sampledd_data_1, title=sampledd_data_1, filename=\"sampledd_data_1.csv\")\n",
    "#create_download_link(sampledd_data_2, title=sampledd_data_2, filename=\"sampledd_data_2.csv\")\n",
    "#create_download_link(sampledd_data_3, title=sampledd_data_3, filename=\"sampledd_data_3.csv\")\n",
    "#create_download_link(sampledd_data_4, title=sampledd_data_4, filename=\"sampledd_data_4.csv\")\n",
    "#create_download_link(sampledd_data_5, title=sampledd_data_5, filename=\"sampledd_data_5.csv\")\n",
    "#create_download_link(sampledd_data_6, title=sampledd_data_6, filename=\"sampledd_data_6.csv\")\n",
    "#create_download_link(sampledd_data_7, title=sampledd_data_7, filename=\"sampledd_data_7.csv\")\n",
    "#create_download_link(sampledd_data_8, title=sampledd_data_8, filename=\"sampledd_data_8.csv\")\n",
    "#create_download_link(sampledd_data_9, title=sampledd_data_9, filename=\"sampledd_data_9.csv\")\n",
    "#create_download_link(sampledd_data_10, title=sampledd_data_10, filename=\"sampledd_data_10.csv\")"
   ]
  },
  {
   "cell_type": "code",
   "execution_count": 17,
   "id": "f5eb0e6a",
   "metadata": {},
   "outputs": [
    {
     "data": {
      "text/html": [
       "<a download=\"rekaman_per_bulan_1pers.csv\" href=\"data:text/csv;base64,YnVsYW4sanVtbGFoX3JlY29yZF9wZXJfYnVsYW4sYnVsYW5fbnVtZXJpawpKYW51YXJ5LDcwOTIzNTMsMQpGZWJydWFyeSw2NTIzNDY5LDIKTWFyY2gsNzQ5NTMxOSwzCkFwcmlsLDc1MTQ5OTUsNApNYXksNzY4ODk5NCw1Ckp1bmUsNzcwMjM4Niw2Ckp1bHksODE4MDMwNyw3CkF1Z3VzdCw3OTU2OTI3LDgKU2VwdGVtYmVyLDc2NjQxMTUsOQpPY3RvYmVyLDc2OTIyNjksMTAKTm92ZW1iZXIsNjE1MjYyMywxMQpEZWNlbWJlciw3MzMyMzMzLDEyCg==\" target=\"_blank\">        bulan  jumlah_record_per_bulan  bulan_numerik\n",
       "0     January                  7092353              1\n",
       "1    February                  6523469              2\n",
       "2       March                  7495319              3\n",
       "3       April                  7514995              4\n",
       "4         May                  7688994              5\n",
       "5        June                  7702386              6\n",
       "6        July                  8180307              7\n",
       "7      August                  7956927              8\n",
       "8   September                  7664115              9\n",
       "9     October                  7692269             10\n",
       "10   November                  6152623             11\n",
       "11   December                  7332333             12</a>"
      ],
      "text/plain": [
       "<IPython.core.display.HTML object>"
      ]
     },
     "execution_count": 17,
     "metadata": {},
     "output_type": "execute_result"
    }
   ],
   "source": [
    "# Jumlah Records (1%)\n",
    "\n",
    "# DataFrame Spark\n",
    "#rekaman_per_bulan_1pers = spark.createDataFrame(rekaman_per_bulan_1pers)\n",
    "\n",
    "# Export ke Pandas DataFrame\n",
    "rekaman_per_bulan_1pers = rekaman_per_bulan_1pers.toPandas()\n",
    "\n",
    "# Download Data\n",
    "create_download_link(rekaman_per_bulan_1pers, title=rekaman_per_bulan_1pers, filename=\"rekaman_per_bulan_1pers.csv\")"
   ]
  },
  {
   "cell_type": "code",
   "execution_count": 25,
   "id": "9ce5009f",
   "metadata": {},
   "outputs": [
    {
     "name": "stderr",
     "output_type": "stream",
     "text": [
      "/opt/spark/python/lib/pyspark.zip/pyspark/sql/pandas/conversion.py:474: FutureWarning: iteritems is deprecated and will be removed in a future version. Use .items instead.\n",
      "  for column, series in pdf.iteritems():\n",
      "/opt/spark/python/lib/pyspark.zip/pyspark/sql/pandas/conversion.py:486: FutureWarning: iteritems is deprecated and will be removed in a future version. Use .items instead.\n",
      "  for column, series in pdf.iteritems():\n"
     ]
    },
    {
     "data": {
      "text/html": [
       "<a download=\"stats_df.csv\" href=\"data:text/csv;base64,c3VtbWFyeSxtbXNpLGltbyxuYXZfc3RhdHVzX2NvZGUsdmVzc2VsX3R5cGVfY29kZSxmbGFnX2NvZGUKY291bnQsODg5OTYwOTAsNDkzOTYzNzMsODg5OTYwOTAsODg5OTYwOTAsODczNzM0MDAKbWVhbiwzLjk1NTcxMjI3MzgwMTUxRTgsMS40NTg0NDkzOTU4MDM3MzA0RTcsNS40Njc0Mjc4OTQ4NjU5NDMsNjIuMTcxMTk0ODY5MzQ3NjMsMzk1LjIwNDAzNzc3MzUxMDA0CnN0ZGRldiwxLjMzNzUyMDgyNDU3NzM2ODVFOCw2LjcxNzE2MTkyOTMwNjQyMkU3LDYuNjAwMzg3NTQyMjI2ODEyLDIwLjc1OTA2NDM2MDU3MTEzLDEzMy40ODY1NjMxMjU0OTY0MgptaW4sMCwxLDAsMCwyMDEKbWF4LDEwNzM3MjIzNjcsMTA3Mzc0MTgyMywxNiwyNTUsNzc1Cg==\" target=\"_blank\">  summary                  mmsi                   imo    nav_status_code  \\\n",
       "0   count              88996090              49396373           88996090   \n",
       "1    mean    3.95571227380151E8  1.4584493958037304E7  5.467427894865943   \n",
       "2  stddev  1.3375208245773685E8   6.717161929306422E7  6.600387542226812   \n",
       "3     min                     0                     1                  0   \n",
       "4     max            1073722367            1073741823                 16   \n",
       "\n",
       "    vessel_type_code           flag_code  \n",
       "0           88996090            87373400  \n",
       "1  62.17119486934763  395.20403777351004  \n",
       "2  20.75906436057113  133.48656312549642  \n",
       "3                  0                 201  \n",
       "4                255                 775  </a>"
      ],
      "text/plain": [
       "<IPython.core.display.HTML object>"
      ]
     },
     "execution_count": 25,
     "metadata": {},
     "output_type": "execute_result"
    }
   ],
   "source": [
    "# Statistical Summary\n",
    "\n",
    "# DataFrame Spark\n",
    "stats_df = spark.createDataFrame(stats_df)\n",
    "#stats_df_2 = spark.createDataFrame(stats_df_2)\n",
    "\n",
    "# Export ke Pandas DataFrame\n",
    "stats_df = stats_df.toPandas()\n",
    "#stats_df_2 = stats_df_2.toPandas()\n",
    "\n",
    "# Download Data\n",
    "create_download_link(stats_df, title=stats_df, filename=\"stats_df.csv\")\n",
    "#create_download_link(stats_df_2, title=stats_df_2, filename=\"stats_df_2.csv\")"
   ]
  },
  {
   "cell_type": "code",
   "execution_count": 15,
   "id": "639837b4",
   "metadata": {},
   "outputs": [
    {
     "data": {
      "text/html": [
       "<a download=\"mmsi_count_per_flag_country.csv\" href=\"data:text/csv;base64,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\" target=\"_blank\">                         flag_country  mmsi_count\n",
       "0                                Chad         115\n",
       "1                            Paraguay      165457\n",
       "2                            Anguilla        2002\n",
       "3                               Macao        3164\n",
       "4                               Yemen         524\n",
       "..                                ...         ...\n",
       "230                       South Sudan         162\n",
       "231                          Botswana         164\n",
       "232  Saint Paul and Amsterdam Islands          12\n",
       "233                              Mali          10\n",
       "234                          Zimbabwe          11\n",
       "\n",
       "[235 rows x 2 columns]</a>"
      ],
      "text/plain": [
       "<IPython.core.display.HTML object>"
      ]
     },
     "execution_count": 15,
     "metadata": {},
     "output_type": "execute_result"
    }
   ],
   "source": [
    "# (MMSI, IMO, Status Navigasi, Tipe Kapal, Negara Kapal) Unik\n",
    "\n",
    "# DataFrame Spark\n",
    "#df_unique_mmsi_spark = spark.createDataFrame(df_unique_mmsi_spark)\n",
    "#df_unique_imo_spark = spark.createDataFrame(df_unique_imo_spark)\n",
    "#mmsi_count_per_nav_status = spark.createDataFrame(mmsi_count_per_nav_status)\n",
    "#mmsi_count_per_vessel_type = spark.createDataFrame(mmsi_count_per_vessel_type)\n",
    "#mmsi_count_per_flag_country = spark.createDataFrame(mmsi_count_per_flag_country)\n",
    "\n",
    "# Export ke Pandas DataFrame\n",
    "#df_unique_mmsi_spark = df_unique_mmsi_spark.toPandas()\n",
    "#df_unique_imo_spark = df_unique_imo_spark.toPandas()\n",
    "#mmsi_count_per_nav_status = mmsi_count_per_nav_status.toPandas()\n",
    "#mmsi_count_per_vessel_type = mmsi_count_per_vessel_type.toPandas()\n",
    "mmsi_count_per_flag_country = mmsi_count_per_flag_country.toPandas()\n",
    "   \n",
    "\n",
    "# Download Data\n",
    "#create_download_link(df_unique_mmsi_spark, title=df_unique_mmsi_spark, filename=\"df_unique_mmsi_spark.csv\")\n",
    "#create_download_link(df_unique_imo_spark, title=df_unique_imo_spark, filename=\"df_unique_imo_spark.csv\")\n",
    "#create_download_link(mmsi_count_per_nav_status, title=mmsi_count_per_nav_status, filename=\"mmsi_count_per_nav_status.csv\")\n",
    "#create_download_link(mmsi_count_per_vessel_type, title=mmsi_count_per_vessel_type, filename=\"mmsi_count_per_vessel_type.csv\")\n",
    "create_download_link(mmsi_count_per_flag_country, title=mmsi_count_per_flag_country, filename=\"mmsi_count_per_flag_country.csv\")"
   ]
  },
  {
   "cell_type": "code",
   "execution_count": 19,
   "id": "7295467b",
   "metadata": {
    "scrolled": false
   },
   "outputs": [
    {
     "data": {
      "text/html": [
       "<a download=\"unique_imo_per_flag_country.csv\" href=\"data:text/csv;base64,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\" target=\"_blank\">                 flag_country  unique_imo_per_flag_country_count\n",
       "0                    Paraguay                                 64\n",
       "1                     Senegal                                 36\n",
       "2                      Sweden                                341\n",
       "3                    Kiribati                                 52\n",
       "4                 Philippines                                620\n",
       "..                        ...                                ...\n",
       "230                      Laos                                  1\n",
       "231         US Virgin Islands                                  1\n",
       "232                      Mali                                  0\n",
       "233                     Benin                                  1\n",
       "234  Turks and Caicos Islands                                  0\n",
       "\n",
       "[235 rows x 2 columns]</a>"
      ],
      "text/plain": [
       "<IPython.core.display.HTML object>"
      ]
     },
     "execution_count": 19,
     "metadata": {},
     "output_type": "execute_result"
    }
   ],
   "source": [
    "# MMSI Unik per (Status Navigasi, Tipe Kapal, Negara Kapal) \n",
    "\n",
    "# DataFrame Spark\n",
    "#unique_mmsi_per_nav_status = spark.createDataFrame(unique_mmsi_per_nav_status)\n",
    "#unique_mmsi_per_vessel_type = spark.createDataFrame(unique_mmsi_per_vessel_type)\n",
    "#unique_mmsi_per_flag_country = spark.createDataFrame(unique_mmsi_per_flag_country)\n",
    "\n",
    "# Export ke Pandas DataFrame\n",
    "#unique_mmsi_per_nav_status = unique_mmsi_per_nav_status.toPandas()\n",
    "#unique_mmsi_per_vessel_type = unique_mmsi_per_vessel_type.toPandas()\n",
    "#unique_mmsi_per_flag_country = unique_mmsi_per_flag_country.toPandas()\n",
    "unique_imo_per_flag_country = unique_imo_per_flag_country.toPandas()\n",
    "  \n",
    "# Download Data\n",
    "#create_download_link(unique_mmsi_per_nav_status, title=unique_mmsi_per_nav_status, filename=\"unique_mmsi_per_nav_status.csv\")\n",
    "#create_download_link(unique_mmsi_per_vessel_type, title=unique_mmsi_per_vessel_type, filename=\"unique_mmsi_per_vessel_type.csv\")\n",
    "#create_download_link(unique_mmsi_per_flag_country, title=unique_mmsi_per_flag_country, filename=\"unique_mmsi_per_flag_country.csv\")\n",
    "create_download_link(unique_imo_per_flag_country, title=unique_imo_per_flag_country, filename=\"unique_imo_per_flag_country.csv\")"
   ]
  },
  {
   "cell_type": "code",
   "execution_count": 19,
   "id": "482952c1",
   "metadata": {},
   "outputs": [],
   "source": [
    "# Nilai Default\n",
    "\n",
    "# DataFrame Spark\n",
    "#mmsi_default_per_month = spark.createDataFrame(mmsi_default_per_month)\n",
    "#imo_default_per_month = spark.createDataFrame(imo_default_per_month)\n",
    "#nav_status_default_per_month = spark.createDataFrame(nav_status_default_per_month)\n",
    "#vessel_type_default_per_month = spark.createDataFrame(vessel_type_default_per_month)\n",
    "#flag_country_default_per_month = spark.createDataFrame(flag_country_default_per_month)\n",
    "#latitude_default_per_month = spark.createDataFrame(latitude_default_per_month)\n",
    "#longitude_default_per_month = spark.createDataFrame(longitude_default_per_month)\n",
    "#dt_pos_utc_default_per_month = spark.createDataFrame(dt_pos_utc_default_per_month)\n",
    "\n",
    "# Export ke Pandas DataFrame\n",
    "#mmsi_default_per_month = mmsi_default_per_month.toPandas()\n",
    "#imo_default_per_month = imo_default_per_month.toPandas()\n",
    "#nav_status_default_per_month = nav_status_default_per_month.toPandas()\n",
    "#vessel_type_default_per_month = vessel_type_default_per_month.toPandas()\n",
    "#flag_country_default_per_month = flag_country_default_per_month.toPandas()\n",
    "#latitude_default_per_month = latitude_default_per_month.toPandas()\n",
    "#longitude_default_per_month = longitude_default_per_month.toPandas()\n",
    "#dt_pos_utc_default_per_month = dt_pos_utc_default_per_month.toPandas()\n",
    "             \n",
    "\n",
    "# Download Data\n",
    "#create_download_link(mmsi_default_per_month, title=mmsi_default_per_month, filename=\"mmsi_default_per_month.csv\")\n",
    "#create_download_link(imo_default_per_month, title=imo_default_per_month, filename=\"imo_default_per_month.csv\")\n",
    "#create_download_link(nav_status_default_per_month, title=nav_status_default_per_month, filename=\"nav_status_default_per_month.csv\")\n",
    "#create_download_link(vessel_type_default_per_month, title=vessel_type_default_per_month, filename=\"vessel_type_default_per_month.csv\")\n",
    "#create_download_link(flag_country_default_per_month, title=flag_country_default_per_month, filename=\"flag_country_default_per_month.csv\")\n",
    "#create_download_link(latitude_default_per_month, title=latitude_default_per_month, filename=\"latitude_default_per_month.csv\")\n",
    "#create_download_link(longitude_default_per_month, title=longitude_default_per_month, filename=\"longitude_default_per_month.csv\")\n",
    "#create_download_link(dt_pos_utc_default_per_month, title=dt_pos_utc_default_per_month, filename=\"dt_pos_utc_default_per_month.csv\")"
   ]
  },
  {
   "cell_type": "code",
   "execution_count": null,
   "id": "dd9c14b1",
   "metadata": {},
   "outputs": [],
   "source": [
    "# Invalid Value\n",
    "\n",
    "# DataFrame Spark\n",
    "mmsi_invalid = spark.createDataFrame(mmsi_invalid)\n",
    "#imo_invalid = spark.createDataFrame(imo_invalid)\n",
    "#nav_status_code_invalid = spark.createDataFrame(nav_status_code_invalid)\n",
    "#vessel_type_code_invalid = spark.createDataFrame(vessel_type_code_invalid)\n",
    "#flag_country_code_invalid = spark.createDataFrame(flag_country_code_invalid)\n",
    "#latitude_invalid = spark.createDataFrame(latitude_invalid)\n",
    "#longitude_invalid = spark.createDataFrame(longitude_invalid)\n",
    "#dt_pos_utc_invalid = spark.createDataFrame(dt_pos_utc_invalid)\n",
    "\n",
    "# Export ke Pandas DataFrame\n",
    "mmsi_invalid = mmsi_invalid.toPandas()\n",
    "#imo_invalid = imo_invalid.toPandas()\n",
    "#nav_status_code_invalid = nav_status_code_invalid.toPandas()\n",
    "#vessel_type_code_invalid = vessel_type_code_invalid.toPandas()\n",
    "#flag_country_code_invalid = flag_country_code_invalid.toPandas()\n",
    "#latitude_invalid = latitude_invalid.toPandas()\n",
    "#longitude_invalid = longitude_invalid.toPandas()\n",
    "#dt_pos_utc_invalid = dt_pos_utc_invalid.toPandas()\n",
    "       \n",
    "\n",
    "# Download Data\n",
    "create_download_link(mmsi_invalid, title=mmsi_invalid, filename=\"mmsi_invalid.csv\")\n",
    "#create_download_link(imo_invalid, title=imo_invalid, filename=\"imo_invalid.csv\")\n",
    "#create_download_link(nav_status_code_invalid, title=nav_status_code_invalid, filename=\"nav_status_code_invalid.csv\")\n",
    "#create_download_link(vessel_type_code_invalid, title=vessel_type_code_invalid, filename=\"vessel_type_code_invalid.csv\")\n",
    "#create_download_link(flag_country_code_invalid, title=flag_country_code_invalid, filename=\"flag_country_code_invalid.csv\")\n",
    "#create_download_link(latitude_invalid, title=latitude_invalid, filename=\"latitude_invalid.csv\")\n",
    "#create_download_link(longitude_invalid, title=longitude_invalid, filename=\"longitude_invalid.csv\")\n",
    "#create_download_link(dt_pos_utc_invalid, title=dt_pos_utc_invalid, filename=\"dt_pos_utc_invalid.csv\")"
   ]
  },
  {
   "cell_type": "code",
   "execution_count": null,
   "id": "e1513b42",
   "metadata": {},
   "outputs": [],
   "source": [
    "# Missing Value\n",
    "\n",
    "# DataFrame Spark\n",
    "missing_values_per_month_mmsi = spark.createDataFrame(missing_values_per_month_mmsi)\n",
    "#missing_values_per_month_imo = spark.createDataFrame(missing_values_per_month_imo)\n",
    "#missing_values_per_month_nav_status = spark.createDataFrame(missing_values_per_month_nav_status)\n",
    "#missing_values_per_month_vessel_type = spark.createDataFrame(missing_values_per_month_vessel_type)\n",
    "#missing_values_per_month_flag_country = spark.createDataFrame(missing_values_per_month_flag_country)\n",
    "#missing_values_per_month_latitude = spark.createDataFrame(missing_values_per_month_latitude)\n",
    "#missing_values_per_month_longitude = spark.createDataFrame(missing_values_per_month_longitude)\n",
    "#missing_values_per_month_dt_pos_utc = spark.createDataFrame(missing_values_per_month_dt_pos_utc)\n",
    "\n",
    "# Export ke Pandas DataFrame\n",
    "missing_values_per_month_mmsi = missing_values_per_month_mmsi.toPandas()\n",
    "#missing_values_per_month_imo = missing_values_per_month_imo.toPandas()\n",
    "#missing_values_per_month_nav_status = missing_values_per_month_nav_status.toPandas()\n",
    "#missing_values_per_month_vessel_type = missing_values_per_month_vessel_type.toPandas()\n",
    "#missing_values_per_month_flag_country = missing_values_per_month_flag_country.toPandas()\n",
    "#missing_values_per_month_latitude = missing_values_per_month_latitude.toPandas()\n",
    "#missing_values_per_month_longitude = missing_values_per_month_longitude.toPandas()\n",
    "#missing_values_per_month_dt_pos_utc = missing_values_per_month_dt_pos_utc.toPandas()\n",
    "        \n",
    "\n",
    "# Download Data\n",
    "create_download_link(missing_values_per_month_mmsi, title=missing_values_per_month_mmsi, filename=\"missing_values_per_month_mmsi.csv\")\n",
    "#create_download_link(missing_values_per_month_imo, title=missing_values_per_month_imo, filename=\"missing_values_per_month_imo.csv\")\n",
    "#create_download_link(missing_values_per_month_nav_status, title=missing_values_per_month_nav_status, filename=\"missing_values_per_month_nav_status.csv\")\n",
    "#create_download_link(missing_values_per_month_vessel_type, title=missing_values_per_month_vessel_type, filename=\"missing_values_per_month_vessel_type.csv\")\n",
    "#create_download_link(missing_values_per_month_flag_country, title=missing_values_per_month_flag_country, filename=\"missing_values_per_month_flag_country.csv\")\n",
    "#create_download_link(missing_values_per_month_latitude, title=missing_values_per_month_latitude, filename=\"missing_values_per_month_latitude.csv\")\n",
    "#create_download_link(missing_values_per_month_longitude, title=missing_values_per_month_longitude, filename=\"missing_values_per_month_longitude.csv\")\n",
    "#create_download_link(missing_values_per_month_dt_pos_utc, title=missing_values_per_month_dt_pos_utc, filename=\"missing_values_per_month_dt_pos_utc.csv\")"
   ]
  },
  {
   "cell_type": "code",
   "execution_count": null,
   "id": "df8e50d5",
   "metadata": {},
   "outputs": [],
   "source": [
    "# Filter (MMSI, IMO, Status Navigasi, Tipe Kapal, Negara Kapal Default, Latitude, Longitude, dt_pos_utc)\n",
    "\n",
    "# DataFrame Spark\n",
    "unique_filtered_mmsi_per_month = spark.createDataFrame(unique_filtered_mmsi_per_month)\n",
    "#unique_filtered_imo_per_month = spark.createDataFrame(unique_filtered_imo_per_month)\n",
    "#mmsi_count_per_filtered_nav_status = spark.createDataFrame(mmsi_count_per_filtered_nav_status)\n",
    "#unique_mmsi_per_filtered_nav_status = spark.createDataFrame(unique_mmsi_per_filtered_nav_status)\n",
    "#mmsi_count_per_filtered_vessel_type = spark.createDataFrame(mmsi_count_per_filtered_vessel_type)\n",
    "#unique_mmsi_per_filtered_vessel_type = spark.createDataFrame(unique_mmsi_per_filtered_vessel_type)\n",
    "#mmsi_count_per_filtered_flag_country = spark.createDataFrame(mmsi_count_per_filtered_flag_country)\n",
    "#unique_mmsi_per_filtered_flag_country = spark.createDataFrame(unique_mmsi_per_filtered_flag_country)\n",
    "\n",
    "# Export ke Pandas DataFrame\n",
    "unique_filtered_mmsi_per_month = unique_filtered_mmsi_per_month.toPandas()\n",
    "#df_unique_filtered_imo_spark = df_unique_filtered_imo_spark.toPandas()\n",
    "#mmsi_count_per_filtered_nav_status = mmsi_count_per_filtered_nav_status.toPandas()\n",
    "#unique_mmsi_per_filtered_nav_status = unique_mmsi_per_filtered_nav_status.toPandas()\n",
    "#mmsi_count_per_filtered_vessel_type = mmsi_count_per_filtered_vessel_type.toPandas()\n",
    "#unique_mmsi_per_filtered_vessel_type = unique_mmsi_per_filtered_vessel_type.toPandas()\n",
    "#mmsi_count_per_filtered_flag_country = mmsi_count_per_filtered_flag_country.toPandas()\n",
    "#unique_mmsi_per_filtered_flag_country = unique_mmsi_per_filtered_flag_country.toPandas()\n",
    "\n",
    "\n",
    "# Download Data\n",
    "create_download_link(unique_filtered_mmsi_per_month, title=unique_filtered_mmsi_per_month, filename=\"unique_filtered_mmsi_per_month.csv\")\n",
    "#create_download_link(unique_filtered_imo_per_month, title=unique_filtered_imo_per_month, filename=\"unique_filtered_imo_per_month.csv\")\n",
    "#create_download_link(mmsi_count_per_filtered_nav_status, title=mmsi_count_per_filtered_nav_status, filename=\"mmsi_count_per_filtered_nav_status.csv\")\n",
    "#create_download_link(unique_mmsi_per_filtered_nav_status, title=unique_mmsi_per_filtered_nav_status, filename=\"unique_mmsi_per_filtered_nav_status.csv\")\n",
    "#create_download_link(mmsi_count_per_filtered_vessel_type, title=mmsi_count_per_filtered_vessel_type, filename=\"mmsi_count_per_filtered_vessel_type.csv\")\n",
    "#create_download_link(unique_mmsi_per_filtered_vessel_type, title=unique_mmsi_per_filtered_vessel_type, filename=\"unique_mmsi_per_filtered_vessel_type.csv\")\n",
    "#create_download_link(mmsi_count_per_filtered_flag_country, title=mmsi_count_per_filtered_flag_country, filename=\"mmsi_count_per_filtered_flag_country.csv\")\n",
    "#create_download_link(unique_mmsi_per_filtered_flag_country, title=unique_mmsi_per_filtered_flag_country, filename=\"unique_mmsi_per_filtered_flag_country.csv\")"
   ]
  },
  {
   "cell_type": "code",
   "execution_count": null,
   "id": "0b05a459",
   "metadata": {},
   "outputs": [],
   "source": [
    "# Filter yg melakukan pelayaran/lintasan anomali(?)\n",
    "\n",
    "# DataFrame Spark\n",
    "rekaman_per_bulan_1pers = spark.createDataFrame(rekaman_per_bulan_1pers)\n",
    "rekaman_per_bulan_1pers = spark.createDataFrame(rekaman_per_bulan_1pers)\n",
    "\n",
    "# Export ke Pandas DataFrame\n",
    "rekaman_per_bulan_1pers = rekaman_per_bulan_1pers.toPandas()\n",
    "\n",
    "# Download Data\n",
    "create_download_link(rekaman_per_bulan_1pers, filename=\"rekaman_per_bulan_1pers.csv\")"
   ]
  },
  {
   "cell_type": "code",
   "execution_count": null,
   "id": "87aadac3",
   "metadata": {},
   "outputs": [],
   "source": []
  }
 ],
 "metadata": {
  "kernelspec": {
   "display_name": "Config template ais-tt-dev",
   "language": "python3",
   "name": "ais-tt-dev"
  },
  "language_info": {
   "codemirror_mode": {
    "name": "ipython",
    "version": 3
   },
   "file_extension": ".py",
   "mimetype": "text/x-python",
   "name": "python",
   "nbconvert_exporter": "python",
   "pygments_lexer": "ipython3",
   "version": "3.8.13"
  }
 },
 "nbformat": 4,
 "nbformat_minor": 5
}
