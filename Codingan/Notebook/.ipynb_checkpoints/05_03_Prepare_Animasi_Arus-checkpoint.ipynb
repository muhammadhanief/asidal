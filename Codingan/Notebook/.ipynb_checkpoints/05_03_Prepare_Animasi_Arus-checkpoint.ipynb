{
 "cells": [
  {
   "cell_type": "code",
   "execution_count": 5,
   "id": "17ff87c4-47d1-410b-abb4-4025a6b86f7e",
   "metadata": {},
   "outputs": [
    {
     "name": "stdout",
     "output_type": "stream",
     "text": [
      "0       {\"type\": \"FeatureCollection\", \"features\": [{\"t...\n",
      "1       {\"type\": \"FeatureCollection\", \"features\": [{\"t...\n",
      "2       {\"type\": \"FeatureCollection\", \"features\": [{\"t...\n",
      "3       {\"type\": \"FeatureCollection\", \"features\": [{\"t...\n",
      "4       {\"type\": \"FeatureCollection\", \"features\": [{\"t...\n",
      "                              ...                        \n",
      "1024    {\"type\": \"FeatureCollection\", \"features\": [{\"t...\n",
      "1025    {\"type\": \"FeatureCollection\", \"features\": [{\"t...\n",
      "1026    {\"type\": \"FeatureCollection\", \"features\": [{\"t...\n",
      "1027    {\"type\": \"FeatureCollection\", \"features\": [{\"t...\n",
      "1028    {\"type\": \"FeatureCollection\", \"features\": [{\"t...\n",
      "Name: geojson, Length: 1029, dtype: object\n"
     ]
    }
   ],
   "source": [
    "import pandas as pd\n",
    "import json\n",
    "from datetime import datetime\n",
    "\n",
    "# Membaca file CSV ke dalam pandas DataFrame\n",
    "# df = pd.read_csv('arus_masuk_keluar.csv')\n",
    "df = pd.read_csv('arus_masuk_ln_indo.csv')\n",
    "\n",
    "# Fungsi untuk mengonversi format tanggal dan waktu ke Unix timestamp\n",
    "def convert_to_unix_timestamp(date_str):\n",
    "    return int(datetime.strptime(date_str, '%Y-%m-%d %H:%M:%S').timestamp())\n",
    "\n",
    "from datetime import datetime\n",
    "\n",
    "def konversi_tanggal(input_tanggal):\n",
    "    # Mengonversi string ke objek datetime\n",
    "    tanggal_objek = datetime.strptime(input_tanggal, \"%Y-%m-%d %H:%M:%S\")\n",
    "    \n",
    "    # Membuat string dengan format yang diinginkan (tanpa jam)\n",
    "    tanggal_hasil = tanggal_objek.strftime(\"%m/%d/%Y\")\n",
    "    \n",
    "    return tanggal_hasil\n",
    "\n",
    "\n",
    "# tanggal_hasil = konversi_tanggal(tanggal_awal)\n",
    "\n",
    "\n",
    "\n",
    "# Fungsi untuk membuat GeoJSON dari dua titik sesuai format yang diinginkan\n",
    "def create_geojson(row):\n",
    "    coordinates = [\n",
    "        [row['longitude_aoi'], row['latitude_aoi'], 0, convert_to_unix_timestamp(row['dt_pos_utc_aoi'])],\n",
    "        [row['longitude_nonaoi'], row['latitude_nonaoi'], 0, convert_to_unix_timestamp(row['dt_pos_utc_nonaoi'])]\n",
    "    ]\n",
    "    timestamp = convert_to_unix_timestamp(row['dt_pos_utc_aoi'])  # Gunakan timestamp dari kolom 'dt_pos_utc_aoi' sebagai timestamp properti GeoJSON\n",
    "    geojson = {\n",
    "        \"type\": \"FeatureCollection\",\n",
    "        \"features\": [\n",
    "            {\n",
    "                \"type\": \"Feature\",\n",
    "                \"properties\": {\"time\": konversi_tanggal(row['dt_pos_utc_aoi'])},  # Properti timestamp dalam format yang diinginkan\n",
    "                \"geometry\": {\n",
    "                    \"type\": \"LineString\",\n",
    "                    \"coordinates\": coordinates\n",
    "                }\n",
    "            }\n",
    "        ]\n",
    "    }\n",
    "    return json.dumps(geojson)\n",
    "\n",
    "# Membuat kolom baru berbentuk GeoJSON\n",
    "df['geojson'] = df.apply(create_geojson, axis=1)\n",
    "\n",
    "# Menampilkan hanya kolom 'geojson'\n",
    "print(df['geojson'])\n",
    "\n",
    "# Menyimpan DataFrame ke dalam file CSV\n",
    "# df.to_csv('output_file_luar.csv', index=False)\n",
    "df.to_csv('output_file_luar_negeri.csv', index=False)\n"
   ]
  }
 ],
 "metadata": {
  "kernelspec": {
   "display_name": "Python 3 (ipykernel)",
   "language": "python",
   "name": "python3"
  },
  "language_info": {
   "codemirror_mode": {
    "name": "ipython",
    "version": 3
   },
   "file_extension": ".py",
   "mimetype": "text/x-python",
   "name": "python",
   "nbconvert_exporter": "python",
   "pygments_lexer": "ipython3",
   "version": "3.8.8"
  }
 },
 "nbformat": 4,
 "nbformat_minor": 5
}
