{
 "cells": [
  {
   "cell_type": "code",
   "execution_count": 2,
   "id": "2807db65",
   "metadata": {},
   "outputs": [],
   "source": [
    "import pandas as pd\n",
    "from pyspark.sql import functions as F\n",
    "\n",
    "#For 3.3.1\n",
    "#Register Sedona Functions to Spark\n",
    "from sedona.register import SedonaRegistrator\n",
    "SedonaRegistrator.registerAll(spark)\n",
    "\n",
    "\n",
    "#For 3.3.2\n",
    "from shapely.geometry import Point, Polygon, mapping\n",
    "import h3.api.numpy_int as h3int "
   ]
  },
  {
   "cell_type": "code",
   "execution_count": 3,
   "id": "e7d358d3",
   "metadata": {},
   "outputs": [],
   "source": [
    "from pyspark.sql import SparkSession\n",
    "from pyspark.sql.functions import col, date_format, count, countDistinct, when, expr\n",
    "import calendar\n",
    "from pyspark.sql.types import IntegerType\n",
    "from pyspark.sql.window import Window"
   ]
  },
  {
   "cell_type": "code",
   "execution_count": 4,
   "id": "c5ee8555",
   "metadata": {},
   "outputs": [],
   "source": [
    "import pandas as pd\n",
    "from IPython.display import HTML\n",
    "import base64\n",
    "from pyspark.sql.functions import year, month, dayofmonth, hour, minute, second\n",
    "from pyspark.sql.functions import monotonically_increasing_id"
   ]
  },
  {
   "cell_type": "code",
   "execution_count": 5,
   "id": "ce2a52fc",
   "metadata": {},
   "outputs": [],
   "source": [
    "basepath = \"s3a://ungp-ais-data-historical-backup/exact-earth-data/transformed/prod/\""
   ]
  },
  {
   "cell_type": "code",
   "execution_count": 18,
   "id": "0b85ded2",
   "metadata": {},
   "outputs": [
    {
     "ename": "AnalysisException",
     "evalue": "Path does not exist: s3a://ungp-ais-data-historical-backup/exact-earth-data/transformed/prod/year=2024/month=04/day=04",
     "output_type": "error",
     "traceback": [
      "\u001b[0;31m---------------------------------------------------------------------------\u001b[0m",
      "\u001b[0;31mAnalysisException\u001b[0m                         Traceback (most recent call last)",
      "Cell \u001b[0;32mIn[18], line 5\u001b[0m\n\u001b[1;32m      1\u001b[0m \u001b[38;5;66;03m#Read Data January 2022\u001b[39;00m\n\u001b[1;32m      2\u001b[0m \u001b[38;5;66;03m#df_data = spark.read.parquet(basepath+ \"year=2022/month=01/day=01\")\u001b[39;00m\n\u001b[1;32m      3\u001b[0m \n\u001b[1;32m      4\u001b[0m \u001b[38;5;66;03m#Read Data\u001b[39;00m\n\u001b[0;32m----> 5\u001b[0m df_data \u001b[38;5;241m=\u001b[39m \u001b[43mspark\u001b[49m\u001b[38;5;241;43m.\u001b[39;49m\u001b[43mread\u001b[49m\u001b[38;5;241;43m.\u001b[39;49m\u001b[43mparquet\u001b[49m\u001b[43m(\u001b[49m\u001b[43mbasepath\u001b[49m\u001b[38;5;241;43m+\u001b[39;49m\u001b[43m \u001b[49m\u001b[38;5;124;43m\"\u001b[39;49m\u001b[38;5;124;43myear=2024/month=04/day=04\u001b[39;49m\u001b[38;5;124;43m\"\u001b[39;49m\u001b[43m)\u001b[49m\n",
      "File \u001b[0;32m/opt/spark/python/lib/pyspark.zip/pyspark/sql/readwriter.py:364\u001b[0m, in \u001b[0;36mDataFrameReader.parquet\u001b[0;34m(self, *paths, **options)\u001b[0m\n\u001b[1;32m    353\u001b[0m int96RebaseMode \u001b[38;5;241m=\u001b[39m options\u001b[38;5;241m.\u001b[39mget(\u001b[38;5;124m\"\u001b[39m\u001b[38;5;124mint96RebaseMode\u001b[39m\u001b[38;5;124m\"\u001b[39m, \u001b[38;5;28;01mNone\u001b[39;00m)\n\u001b[1;32m    354\u001b[0m \u001b[38;5;28mself\u001b[39m\u001b[38;5;241m.\u001b[39m_set_opts(\n\u001b[1;32m    355\u001b[0m     mergeSchema\u001b[38;5;241m=\u001b[39mmergeSchema,\n\u001b[1;32m    356\u001b[0m     pathGlobFilter\u001b[38;5;241m=\u001b[39mpathGlobFilter,\n\u001b[0;32m   (...)\u001b[0m\n\u001b[1;32m    361\u001b[0m     int96RebaseMode\u001b[38;5;241m=\u001b[39mint96RebaseMode,\n\u001b[1;32m    362\u001b[0m )\n\u001b[0;32m--> 364\u001b[0m \u001b[38;5;28;01mreturn\u001b[39;00m \u001b[38;5;28mself\u001b[39m\u001b[38;5;241m.\u001b[39m_df(\u001b[38;5;28;43mself\u001b[39;49m\u001b[38;5;241;43m.\u001b[39;49m\u001b[43m_jreader\u001b[49m\u001b[38;5;241;43m.\u001b[39;49m\u001b[43mparquet\u001b[49m\u001b[43m(\u001b[49m\u001b[43m_to_seq\u001b[49m\u001b[43m(\u001b[49m\u001b[38;5;28;43mself\u001b[39;49m\u001b[38;5;241;43m.\u001b[39;49m\u001b[43m_spark\u001b[49m\u001b[38;5;241;43m.\u001b[39;49m\u001b[43m_sc\u001b[49m\u001b[43m,\u001b[49m\u001b[43m \u001b[49m\u001b[43mpaths\u001b[49m\u001b[43m)\u001b[49m\u001b[43m)\u001b[49m)\n",
      "File \u001b[0;32m/opt/spark/python/lib/py4j-0.10.9.5-src.zip/py4j/java_gateway.py:1321\u001b[0m, in \u001b[0;36mJavaMember.__call__\u001b[0;34m(self, *args)\u001b[0m\n\u001b[1;32m   1315\u001b[0m command \u001b[38;5;241m=\u001b[39m proto\u001b[38;5;241m.\u001b[39mCALL_COMMAND_NAME \u001b[38;5;241m+\u001b[39m\\\n\u001b[1;32m   1316\u001b[0m     \u001b[38;5;28mself\u001b[39m\u001b[38;5;241m.\u001b[39mcommand_header \u001b[38;5;241m+\u001b[39m\\\n\u001b[1;32m   1317\u001b[0m     args_command \u001b[38;5;241m+\u001b[39m\\\n\u001b[1;32m   1318\u001b[0m     proto\u001b[38;5;241m.\u001b[39mEND_COMMAND_PART\n\u001b[1;32m   1320\u001b[0m answer \u001b[38;5;241m=\u001b[39m \u001b[38;5;28mself\u001b[39m\u001b[38;5;241m.\u001b[39mgateway_client\u001b[38;5;241m.\u001b[39msend_command(command)\n\u001b[0;32m-> 1321\u001b[0m return_value \u001b[38;5;241m=\u001b[39m \u001b[43mget_return_value\u001b[49m\u001b[43m(\u001b[49m\n\u001b[1;32m   1322\u001b[0m \u001b[43m    \u001b[49m\u001b[43manswer\u001b[49m\u001b[43m,\u001b[49m\u001b[43m \u001b[49m\u001b[38;5;28;43mself\u001b[39;49m\u001b[38;5;241;43m.\u001b[39;49m\u001b[43mgateway_client\u001b[49m\u001b[43m,\u001b[49m\u001b[43m \u001b[49m\u001b[38;5;28;43mself\u001b[39;49m\u001b[38;5;241;43m.\u001b[39;49m\u001b[43mtarget_id\u001b[49m\u001b[43m,\u001b[49m\u001b[43m \u001b[49m\u001b[38;5;28;43mself\u001b[39;49m\u001b[38;5;241;43m.\u001b[39;49m\u001b[43mname\u001b[49m\u001b[43m)\u001b[49m\n\u001b[1;32m   1324\u001b[0m \u001b[38;5;28;01mfor\u001b[39;00m temp_arg \u001b[38;5;129;01min\u001b[39;00m temp_args:\n\u001b[1;32m   1325\u001b[0m     temp_arg\u001b[38;5;241m.\u001b[39m_detach()\n",
      "File \u001b[0;32m/opt/spark/python/lib/pyspark.zip/pyspark/sql/utils.py:196\u001b[0m, in \u001b[0;36mcapture_sql_exception.<locals>.deco\u001b[0;34m(*a, **kw)\u001b[0m\n\u001b[1;32m    192\u001b[0m converted \u001b[38;5;241m=\u001b[39m convert_exception(e\u001b[38;5;241m.\u001b[39mjava_exception)\n\u001b[1;32m    193\u001b[0m \u001b[38;5;28;01mif\u001b[39;00m \u001b[38;5;129;01mnot\u001b[39;00m \u001b[38;5;28misinstance\u001b[39m(converted, UnknownException):\n\u001b[1;32m    194\u001b[0m     \u001b[38;5;66;03m# Hide where the exception came from that shows a non-Pythonic\u001b[39;00m\n\u001b[1;32m    195\u001b[0m     \u001b[38;5;66;03m# JVM exception message.\u001b[39;00m\n\u001b[0;32m--> 196\u001b[0m     \u001b[38;5;28;01mraise\u001b[39;00m converted \u001b[38;5;28;01mfrom\u001b[39;00m \u001b[38;5;28mNone\u001b[39m\n\u001b[1;32m    197\u001b[0m \u001b[38;5;28;01melse\u001b[39;00m:\n\u001b[1;32m    198\u001b[0m     \u001b[38;5;28;01mraise\u001b[39;00m\n",
      "\u001b[0;31mAnalysisException\u001b[0m: Path does not exist: s3a://ungp-ais-data-historical-backup/exact-earth-data/transformed/prod/year=2024/month=04/day=04"
     ]
    }
   ],
   "source": [
    "#Read Data January 2022\n",
    "#df_data = spark.read.parquet(basepath+ \"year=2022/month=01/day=01\")\n",
    "\n",
    "#Read Data\n",
    "df_data = spark.read.parquet(basepath+ \"year=2023\")"
   ]
  },
  {
   "cell_type": "code",
   "execution_count": 16,
   "id": "680e7b1d",
   "metadata": {
    "scrolled": true
   },
   "outputs": [
    {
     "name": "stdout",
     "output_type": "stream",
     "text": [
      "-RECORD 0---------------------------------\n",
      " mmsi              | 257122130            \n",
      " message_type      | 1                    \n",
      " dt_insert_utc     | 2024-04-03 04:34:51  \n",
      " longitude         | 32.34258833          \n",
      " latitude          | 75.97038167          \n",
      " imo               | 9859507              \n",
      " vessel_name       | F/V SUNDEROY         \n",
      " callsign          | LFPE                 \n",
      " vessel_type       | Fishing              \n",
      " vessel_type_code  | 30                   \n",
      " vessel_type_cargo | null                 \n",
      " vessel_class      | A                    \n",
      " length            | 76.0                 \n",
      " width             | 16.0                 \n",
      " flag_country      | Norway               \n",
      " flag_code         | 257                  \n",
      " destination       | HOPENDJUPET          \n",
      " eta               | 2460                 \n",
      " draught           | 8.0                  \n",
      " sog               | 6.2                  \n",
      " cog               | 34.9                 \n",
      " rot               | 0.0                  \n",
      " heading           | 34.0                 \n",
      " nav_status        | Engaged In Fishing   \n",
      " nav_status_code   | 7                    \n",
      " source            | S-AIS                \n",
      " dt_pos_utc        | 2024-04-03 04:32:11  \n",
      " dt_static_utc     | 2024-04-02 13:45:50  \n",
      " vessel_type_main  | null                 \n",
      " vessel_type_sub   | null                 \n",
      " eeid              | 5962399477465833298  \n",
      " source_filename   | s3a://ungp-ais-da... \n",
      " H3index_0         | 8001fffffffffff      \n",
      " H3_int_index_0    | 576495936675512319   \n",
      " H3_int_index_1    | 580968749977305087   \n",
      " H3_int_index_2    | 585470700337233919   \n",
      " H3_int_index_3    | 589974231245127679   \n",
      " H3_int_index_4    | 594477805102694399   \n",
      " H3_int_index_5    | 598981403656323071   \n",
      " H3_int_index_6    | 603485002612604927   \n",
      " H3_int_index_7    | 607988602206420991   \n",
      " H3_int_index_8    | 612492201829597183   \n",
      " H3_int_index_9    | 616995801456181247   \n",
      " H3_int_index_10   | 621499401083518975   \n",
      " H3_int_index_11   | 626003000710860799   \n",
      " H3_int_index_12   | 630506600338227711   \n",
      " H3_int_index_13   | 635010199965597887   \n",
      " H3_int_index_14   | 639513799592968335   \n",
      " H3_int_index_15   | 644017399220338827   \n",
      "-RECORD 1---------------------------------\n",
      " mmsi              | 257122130            \n",
      " message_type      | 1                    \n",
      " dt_insert_utc     | 2024-04-03 04:08:06  \n",
      " longitude         | 32.39818833          \n",
      " latitude          | 75.96592667          \n",
      " imo               | 9859507              \n",
      " vessel_name       | F/V SUNDEROY         \n",
      " callsign          | LFPE                 \n",
      " vessel_type       | Fishing              \n",
      " vessel_type_code  | 30                   \n",
      " vessel_type_cargo | null                 \n",
      " vessel_class      | A                    \n",
      " length            | 76.0                 \n",
      " width             | 16.0                 \n",
      " flag_country      | Norway               \n",
      " flag_code         | 257                  \n",
      " destination       | HOPENDJUPET          \n",
      " eta               | 2460                 \n",
      " draught           | 8.0                  \n",
      " sog               | 4.8                  \n",
      " cog               | 306.1                \n",
      " rot               | 0.0                  \n",
      " heading           | 281.0                \n",
      " nav_status        | Engaged In Fishing   \n",
      " nav_status_code   | 7                    \n",
      " source            | S-AIS                \n",
      " dt_pos_utc        | 2024-04-03 04:06:34  \n",
      " dt_static_utc     | 2024-04-02 13:45:50  \n",
      " vessel_type_main  | null                 \n",
      " vessel_type_sub   | null                 \n",
      " eeid              | 5962399477465833298  \n",
      " source_filename   | s3a://ungp-ais-da... \n",
      " H3index_0         | 8001fffffffffff      \n",
      " H3_int_index_0    | 576495936675512319   \n",
      " H3_int_index_1    | 580968749977305087   \n",
      " H3_int_index_2    | 585470700337233919   \n",
      " H3_int_index_3    | 589974231245127679   \n",
      " H3_int_index_4    | 594477805102694399   \n",
      " H3_int_index_5    | 598981403656323071   \n",
      " H3_int_index_6    | 603485002612604927   \n",
      " H3_int_index_7    | 607988602206420991   \n",
      " H3_int_index_8    | 612492201831694335   \n",
      " H3_int_index_9    | 616995801457754111   \n",
      " H3_int_index_10   | 621499401085059071   \n",
      " H3_int_index_11   | 626003000712400895   \n",
      " H3_int_index_12   | 630506600339768319   \n",
      " H3_int_index_13   | 635010199967139711   \n",
      " H3_int_index_14   | 639513799594510191   \n",
      " H3_int_index_15   | 644017399221880681   \n",
      "only showing top 2 rows\n",
      "\n"
     ]
    }
   ],
   "source": [
    "# Show sample 5 data\n",
    "# df.show(n=1, vertical=True)\n",
    "df_data.show(n=2, vertical=True)"
   ]
  },
  {
   "cell_type": "code",
   "execution_count": 17,
   "id": "93e4777c",
   "metadata": {},
   "outputs": [
    {
     "data": {
      "text/plain": [
       "17685023"
      ]
     },
     "execution_count": 17,
     "metadata": {},
     "output_type": "execute_result"
    }
   ],
   "source": [
    "df_data.count()"
   ]
  },
  {
   "cell_type": "code",
   "execution_count": null,
   "id": "f97dbeca",
   "metadata": {},
   "outputs": [],
   "source": []
  }
 ],
 "metadata": {
  "kernelspec": {
   "display_name": "Config template pyspark3.3 ais2.8 (prev ais-tt-dev)",
   "language": "python3",
   "name": "ais-tt-dev"
  },
  "language_info": {
   "codemirror_mode": {
    "name": "ipython",
    "version": 3
   },
   "file_extension": ".py",
   "mimetype": "text/x-python",
   "name": "python",
   "nbconvert_exporter": "python",
   "pygments_lexer": "ipython3",
   "version": "3.8.13"
  }
 },
 "nbformat": 4,
 "nbformat_minor": 5
}
