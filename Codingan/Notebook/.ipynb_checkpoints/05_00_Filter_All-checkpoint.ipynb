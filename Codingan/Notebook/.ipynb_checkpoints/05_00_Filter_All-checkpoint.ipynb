{
 "cells": [
  {
   "cell_type": "markdown",
   "id": "ffb1e8b9",
   "metadata": {},
   "source": [
    "# Data AIS"
   ]
  },
  {
   "cell_type": "code",
   "execution_count": 1,
   "id": "025a9bba",
   "metadata": {},
   "outputs": [
    {
     "data": {
      "text/plain": [
       "True"
      ]
     },
     "execution_count": 1,
     "metadata": {},
     "output_type": "execute_result"
    }
   ],
   "source": [
    "#For 3.3.1\n",
    "#Register Sedona Functions to Spark\n",
    "from sedona.register import SedonaRegistrator\n",
    "SedonaRegistrator.registerAll(spark)"
   ]
  },
  {
   "cell_type": "code",
   "execution_count": 2,
   "id": "9499c4f9",
   "metadata": {},
   "outputs": [],
   "source": [
    "#For 3.3.2\n",
    "from shapely.geometry import Point, Polygon, mapping\n",
    "import h3.api.numpy_int as h3int"
   ]
  },
  {
   "cell_type": "code",
   "execution_count": 3,
   "id": "85fbb394",
   "metadata": {},
   "outputs": [],
   "source": [
    "import pandas as pd\n",
    "from pyspark.sql import functions as F\n",
    "from pyspark.sql.functions import col, when"
   ]
  },
  {
   "cell_type": "code",
   "execution_count": 4,
   "id": "94971107",
   "metadata": {},
   "outputs": [],
   "source": [
    "# Path\n",
    "base_path = \"s3a://ungp-ais-data-historical-backup/user_temp/\"\n",
    "path_unique = base_path + \"222011349/\""
   ]
  },
  {
   "cell_type": "code",
   "execution_count": 5,
   "id": "0e975986",
   "metadata": {},
   "outputs": [],
   "source": [
    "# Read Data\n",
    "data_ais = spark.read.parquet(path_unique + \"data-ais-1persen-dunia-2022.parquet\")"
   ]
  },
  {
   "cell_type": "code",
   "execution_count": 7,
   "id": "336dbeca",
   "metadata": {},
   "outputs": [
    {
     "data": {
      "text/plain": [
       "88996473"
      ]
     },
     "execution_count": 7,
     "metadata": {},
     "output_type": "execute_result"
    }
   ],
   "source": [
    "data_ais.count()"
   ]
  },
  {
   "cell_type": "markdown",
   "id": "220f0104",
   "metadata": {},
   "source": [
    "# Filter Data"
   ]
  },
  {
   "cell_type": "code",
   "execution_count": 6,
   "id": "dd29536a",
   "metadata": {},
   "outputs": [],
   "source": [
    "# Filter MMSI\n",
    "filtered_mmsi = data_ais.filter(col(\"mmsi\").between(100000000, 999999999))"
   ]
  },
  {
   "cell_type": "code",
   "execution_count": 9,
   "id": "ef6972b0",
   "metadata": {},
   "outputs": [
    {
     "data": {
      "text/plain": [
       "88985117"
      ]
     },
     "execution_count": 9,
     "metadata": {},
     "output_type": "execute_result"
    }
   ],
   "source": [
    "filtered_mmsi.count()"
   ]
  },
  {
   "cell_type": "code",
   "execution_count": 7,
   "id": "2871c469",
   "metadata": {},
   "outputs": [],
   "source": [
    "# Filter IMO\n",
    "filtered_imo = filtered_mmsi.filter(col(\"imo\").between(1000000, 9999999))"
   ]
  },
  {
   "cell_type": "code",
   "execution_count": 11,
   "id": "15883581",
   "metadata": {},
   "outputs": [
    {
     "data": {
      "text/plain": [
       "48071225"
      ]
     },
     "execution_count": 11,
     "metadata": {},
     "output_type": "execute_result"
    }
   ],
   "source": [
    "filtered_imo.count()"
   ]
  },
  {
   "cell_type": "code",
   "execution_count": 8,
   "id": "7bc1e589",
   "metadata": {},
   "outputs": [],
   "source": [
    "# Filter Status Navigasi\n",
    "filtered_nav_status_code = filtered_imo.filter(col(\"nav_status_code\").between(0, 14))\n",
    "\n",
    "# Nilai yang akan di-filter\n",
    "nav_status_values = ['Under Way Using Engine', 'At Anchor', 'Restricted Manoeuvrability', 'Moored', 'Engaged In Fishing', 'Underway Sailing']\n",
    "\n",
    "# Filter data berdasarkan nilai 'nav_status'\n",
    "filtered_nav_status = filtered_nav_status_code.filter(col(\"nav_status\").isin(nav_status_values))"
   ]
  },
  {
   "cell_type": "code",
   "execution_count": 13,
   "id": "32fcf1e3",
   "metadata": {},
   "outputs": [
    {
     "data": {
      "text/plain": [
       "45613471"
      ]
     },
     "execution_count": 13,
     "metadata": {},
     "output_type": "execute_result"
    }
   ],
   "source": [
    "filtered_nav_status.count()"
   ]
  },
  {
   "cell_type": "code",
   "execution_count": 9,
   "id": "51ddc814",
   "metadata": {},
   "outputs": [],
   "source": [
    "# Filter Tipe Kapal\n",
    "filtered_vessel_type_code = filtered_nav_status.filter(col(\"vessel_type_code\").between(1, 255))\n",
    "\n",
    "# Nilai yang akan di-filter\n",
    "vessel_type_values = ['Sailing', 'Tanker', 'Other', 'Pleasure Craft', 'Passenger', 'Fishing', 'Port Tender', 'Dredging', 'Cargo']\n",
    "\n",
    "# Filter data berdasarkan nilai 'vessel_type'\n",
    "filtered_vessel_type = filtered_vessel_type_code.filter(col(\"vessel_type\").isin(vessel_type_values))"
   ]
  },
  {
   "cell_type": "code",
   "execution_count": 15,
   "id": "1c8d0c0a",
   "metadata": {},
   "outputs": [
    {
     "data": {
      "text/plain": [
       "38695685"
      ]
     },
     "execution_count": 15,
     "metadata": {},
     "output_type": "execute_result"
    }
   ],
   "source": [
    "filtered_vessel_type.count()"
   ]
  },
  {
   "cell_type": "code",
   "execution_count": 10,
   "id": "4c4ad29f",
   "metadata": {},
   "outputs": [],
   "source": [
    "# Filter Negara Kapal\n",
    "filtered_flag_country_code = filtered_vessel_type.filter(col(\"flag_code\").between(201, 775))\n",
    "\n",
    "# Filter data berdasarkan nilai 'flag_country'\n",
    "# bagi jadi dua, Indonesia dan negara asing\n",
    "filtered_flag_country = filtered_flag_country_code.withColumn(\"status_country\", when(col(\"flag_country\") == \"Indonesia\", \"Indonesia\").otherwise(\"Asing\"))"
   ]
  },
  {
   "cell_type": "code",
   "execution_count": 17,
   "id": "a3db8f4d",
   "metadata": {},
   "outputs": [
    {
     "data": {
      "text/plain": [
       "38100151"
      ]
     },
     "execution_count": 17,
     "metadata": {},
     "output_type": "execute_result"
    }
   ],
   "source": [
    "filtered_flag_country.count()"
   ]
  },
  {
   "cell_type": "code",
   "execution_count": 11,
   "id": "e59e7db7",
   "metadata": {},
   "outputs": [],
   "source": [
    "# Filter Latitude Longitude (tidak perlu)\n",
    "filtered_lat = filtered_flag_country.filter(col(\"latitude\").between(-90, 90))\n",
    "filtered_lat_long = filtered_lat.filter(col(\"longitude\").between(-180, 180))"
   ]
  },
  {
   "cell_type": "code",
   "execution_count": 19,
   "id": "595fe695",
   "metadata": {},
   "outputs": [
    {
     "data": {
      "text/plain": [
       "38100151"
      ]
     },
     "execution_count": 19,
     "metadata": {},
     "output_type": "execute_result"
    }
   ],
   "source": [
    "filtered_lat_long.count()"
   ]
  },
  {
   "cell_type": "code",
   "execution_count": 12,
   "id": "edfaa8e6",
   "metadata": {},
   "outputs": [],
   "source": [
    "# Filter dt_pos_utc (tidak perlu) \n",
    "pattern = \"^[1-9][0-9]{0,3}-[1-9]|0[1-9]|1[0-2]-[1-9]|0[1-9]|[1-2][0-9]|3[0-1] [0-9]|0[0-9]|1[0-9]|2[0-3]:[0-5][0-9]:[0-5][0-9]$\"\n",
    "\n",
    "# Filter data untuk mendapatkan hanya nilai 'dt_pos_utc' yang tidak valid\n",
    "filtered_dt_pos_utc = filtered_lat_long.filter(F.col(\"dt_pos_utc\").rlike(pattern))"
   ]
  },
  {
   "cell_type": "code",
   "execution_count": 21,
   "id": "f12cd306",
   "metadata": {},
   "outputs": [
    {
     "data": {
      "text/plain": [
       "38100151"
      ]
     },
     "execution_count": 21,
     "metadata": {},
     "output_type": "execute_result"
    }
   ],
   "source": [
    "filtered_dt_pos_utc.count()"
   ]
  },
  {
   "cell_type": "code",
   "execution_count": 13,
   "id": "5b17a757",
   "metadata": {},
   "outputs": [],
   "source": [
    "# Filter Record Duplikat\n",
    "\n",
    "# Menghapus record duplikat berdasarkan semua kolom (variabel)\n",
    "filtered_duplicates = filtered_dt_pos_utc.dropDuplicates()"
   ]
  },
  {
   "cell_type": "code",
   "execution_count": 23,
   "id": "d8f7a57a",
   "metadata": {},
   "outputs": [
    {
     "data": {
      "text/plain": [
       "38099598"
      ]
     },
     "execution_count": 23,
     "metadata": {},
     "output_type": "execute_result"
    }
   ],
   "source": [
    "filtered_duplicates.count()"
   ]
  },
  {
   "cell_type": "code",
   "execution_count": 14,
   "id": "09e61f5e",
   "metadata": {},
   "outputs": [],
   "source": [
    "# Filter Pergerakan Anomali\n",
    "\n",
    "# Tentukan kriteria pergerakan tidak normal\n",
    "kriteria_pergerakan_tidak_normal = (\n",
    "    ((col(\"nav_status\").isin(['At Anchor', 'Moored'])) &\n",
    "    (col(\"sog\") > 1)) | \n",
    "    ((col(\"nav_status\").isin(['Not Under Command', 'Underway Sailing', 'Under Way Using Engine', 'Engaged In Fishing', 'Restricted Manoeuvrability', 'Aground'])) &\n",
    "    (col(\"sog\") < 1))\n",
    ")\n",
    "\n",
    "# kriteria pergerakan normal\n",
    "kriteria_pergerakan_normal = ~kriteria_pergerakan_tidak_normal\n",
    "\n",
    "# Filter pergerakan normal\n",
    "filtered_pergerakan_normal = filtered_duplicates.filter(kriteria_pergerakan_normal)"
   ]
  },
  {
   "cell_type": "code",
   "execution_count": 25,
   "id": "1e279975",
   "metadata": {},
   "outputs": [
    {
     "data": {
      "text/plain": [
       "32675659"
      ]
     },
     "execution_count": 25,
     "metadata": {},
     "output_type": "execute_result"
    }
   ],
   "source": [
    "filtered_pergerakan_normal.count()"
   ]
  },
  {
   "cell_type": "markdown",
   "id": "47a5d833",
   "metadata": {},
   "source": [
    "## Save Data"
   ]
  },
  {
   "cell_type": "code",
   "execution_count": 15,
   "id": "92253748",
   "metadata": {},
   "outputs": [],
   "source": [
    "data_ais_filtered = filtered_pergerakan_normal"
   ]
  },
  {
   "cell_type": "code",
   "execution_count": 16,
   "id": "e9505728",
   "metadata": {},
   "outputs": [],
   "source": [
    "# Save Data\n",
    "data_ais_filtered.write.option(\"header\", True).mode(\"overwrite\").parquet(path_unique + \"data-ais-1persen-filter-dunia-2022.parquet\")"
   ]
  },
  {
   "cell_type": "code",
   "execution_count": 28,
   "id": "fab3e42f",
   "metadata": {},
   "outputs": [],
   "source": [
    "spark.stop()"
   ]
  },
  {
   "cell_type": "code",
   "execution_count": null,
   "id": "b12000b4",
   "metadata": {},
   "outputs": [],
   "source": []
  }
 ],
 "metadata": {
  "kernelspec": {
   "display_name": "Config template pyspark3.3 ais2.8 (prev ais-tt-dev)",
   "language": "python3",
   "name": "ais-tt-dev"
  },
  "language_info": {
   "codemirror_mode": {
    "name": "ipython",
    "version": 3
   },
   "file_extension": ".py",
   "mimetype": "text/x-python",
   "name": "python",
   "nbconvert_exporter": "python",
   "pygments_lexer": "ipython3",
   "version": "3.8.13"
  }
 },
 "nbformat": 4,
 "nbformat_minor": 5
}
