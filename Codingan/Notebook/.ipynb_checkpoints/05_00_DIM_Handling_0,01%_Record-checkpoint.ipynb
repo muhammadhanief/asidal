{
 "cells": [
  {
   "cell_type": "markdown",
   "id": "5816fa69",
   "metadata": {},
   "source": [
    "# Inilization"
   ]
  },
  {
   "cell_type": "code",
   "execution_count": 1,
   "id": "02162682",
   "metadata": {},
   "outputs": [],
   "source": [
    "import pandas as pd\n",
    "from pyspark.sql import functions as F\n",
    "\n",
    "#For 3.3.1\n",
    "#Register Sedona Functions to Spark\n",
    "from sedona.register import SedonaRegistrator\n",
    "SedonaRegistrator.registerAll(spark)\n",
    "\n",
    "\n",
    "#For 3.3.2\n",
    "from shapely.geometry import Point, Polygon, mapping\n",
    "import h3.api.numpy_int as h3int "
   ]
  },
  {
   "cell_type": "code",
   "execution_count": 2,
   "id": "a608c8ab",
   "metadata": {},
   "outputs": [],
   "source": [
    "from pyspark.sql import SparkSession\n",
    "from pyspark.sql.functions import col, date_format, count, countDistinct, when, expr, first, desc\n",
    "import calendar\n",
    "from pyspark.sql.types import IntegerType\n",
    "from pyspark.sql.window import Window"
   ]
  },
  {
   "cell_type": "code",
   "execution_count": 3,
   "id": "520986fc",
   "metadata": {},
   "outputs": [],
   "source": [
    "import pandas as pd\n",
    "from IPython.display import HTML\n",
    "import base64\n",
    "from pyspark.sql.functions import year, month, dayofmonth, hour, minute, second\n",
    "from pyspark.sql.functions import monotonically_increasing_id"
   ]
  },
  {
   "cell_type": "code",
   "execution_count": 4,
   "id": "e51785cc",
   "metadata": {},
   "outputs": [],
   "source": [
    "# Path\n",
    "base_path = \"s3a://ungp-ais-data-historical-backup/user_temp/\"\n",
    "path_unique = base_path + \"222011349/\""
   ]
  },
  {
   "cell_type": "markdown",
   "id": "c46f885d",
   "metadata": {},
   "source": [
    "# Read 1% Data"
   ]
  },
  {
   "cell_type": "code",
   "execution_count": 5,
   "id": "66cb64ef",
   "metadata": {},
   "outputs": [],
   "source": [
    "# Read Data\n",
    "data_sampel = spark.read.parquet(path_unique + \"data-ais-1persen-dunia-2022.parquet\", header=True)"
   ]
  },
  {
   "cell_type": "markdown",
   "id": "373edac5",
   "metadata": {},
   "source": [
    "# DIM Handling"
   ]
  },
  {
   "cell_type": "code",
   "execution_count": 6,
   "id": "ed80d13c",
   "metadata": {},
   "outputs": [],
   "source": [
    "# Ambil data dua bulan aja\n",
    "\n",
    "data_2endmonth = data_sampel.withColumn(\"months\", F.date_format(\"dt_pos_utc\", \"MMMM\")) \\\n",
    "    .filter((F.col(\"months\") == \"November\") | (F.col(\"months\") == \"December\")).select(\"mmsi\",\"imo\",\"vessel_type_code\",\"flag_code\",\"dt_pos_utc\")"
   ]
  },
  {
   "cell_type": "markdown",
   "id": "106947e7",
   "metadata": {},
   "source": [
    "## MMSI"
   ]
  },
  {
   "cell_type": "markdown",
   "id": "c41d8d4e",
   "metadata": {},
   "source": [
    "### Default"
   ]
  },
  {
   "cell_type": "code",
   "execution_count": 7,
   "id": "a61db4ea",
   "metadata": {
    "scrolled": true
   },
   "outputs": [
    {
     "name": "stdout",
     "output_type": "stream",
     "text": [
      "+----+-------+-------------------+\n",
      "|mmsi|imo    |dt_pos_utc         |\n",
      "+----+-------+-------------------+\n",
      "|0   |null   |2022-11-15 16:51:57|\n",
      "|0   |null   |2022-11-15 01:30:25|\n",
      "|0   |8138243|2022-11-15 09:29:27|\n",
      "|0   |null   |2022-11-15 10:53:07|\n",
      "|0   |null   |2022-11-19 19:15:50|\n",
      "|0   |null   |2022-11-14 21:44:33|\n",
      "|0   |null   |2022-11-19 18:32:42|\n",
      "|0   |null   |2022-11-16 10:56:28|\n",
      "|0   |null   |2022-11-19 13:10:36|\n",
      "|0   |8138243|2022-11-19 23:36:03|\n",
      "|0   |6924404|2022-11-09 19:07:59|\n",
      "|0   |8138243|2022-11-11 14:42:41|\n",
      "|0   |null   |2022-11-09 00:56:09|\n",
      "|0   |null   |2022-11-19 13:12:05|\n",
      "|0   |8138243|2022-11-16 10:06:44|\n",
      "|0   |null   |2022-11-14 22:10:05|\n",
      "|0   |null   |2022-11-17 10:23:02|\n",
      "|0   |null   |2022-11-17 02:29:36|\n",
      "|0   |8138243|2022-11-17 20:29:18|\n",
      "|0   |null   |2022-11-11 22:30:07|\n",
      "|0   |null   |2022-11-12 16:40:39|\n",
      "|0   |8138243|2022-11-18 17:15:03|\n",
      "|0   |null   |2022-11-19 12:09:31|\n",
      "|0   |null   |2022-11-19 06:20:32|\n",
      "|0   |null   |2022-11-17 18:10:23|\n",
      "|0   |null   |2022-11-18 01:07:52|\n",
      "|0   |null   |2022-11-11 22:45:59|\n",
      "|0   |null   |2022-11-13 09:40:08|\n",
      "|0   |null   |2022-11-13 14:31:07|\n",
      "|0   |8138243|2022-11-18 19:38:42|\n",
      "|0   |null   |2022-11-16 01:16:33|\n",
      "|0   |null   |2022-11-16 14:53:19|\n",
      "|0   |8728749|2022-11-11 00:25:24|\n",
      "|0   |null   |2022-11-14 00:52:20|\n",
      "|0   |8138243|2022-11-11 12:51:33|\n",
      "|0   |8138243|2022-11-12 23:33:36|\n",
      "|0   |8138243|2022-11-14 21:24:02|\n",
      "|0   |null   |2022-11-16 11:27:48|\n",
      "|0   |null   |2022-11-16 19:00:20|\n",
      "|0   |null   |2022-11-10 10:59:01|\n",
      "|0   |null   |2022-11-12 03:19:32|\n",
      "|0   |8138243|2022-11-12 21:26:35|\n",
      "|0   |null   |2022-11-11 03:03:50|\n",
      "|0   |8138243|2022-11-17 19:20:43|\n",
      "|0   |null   |2022-11-17 07:40:08|\n",
      "|0   |null   |2022-11-17 13:35:37|\n",
      "|0   |null   |2022-11-17 02:35:06|\n",
      "|0   |null   |2022-11-17 01:08:55|\n",
      "|0   |8138243|2022-11-18 01:28:58|\n",
      "|0   |8138243|2022-11-18 21:51:11|\n",
      "|0   |null   |2022-11-18 05:15:56|\n",
      "|0   |8138243|2022-11-18 21:58:41|\n",
      "|0   |8138243|2022-11-18 20:09:49|\n",
      "|0   |8138243|2022-11-18 14:00:22|\n",
      "|0   |null   |2022-11-08 21:50:15|\n",
      "|0   |null   |2022-11-08 23:35:04|\n",
      "|0   |8138243|2022-11-08 16:57:33|\n",
      "|0   |null   |2022-11-10 21:18:29|\n",
      "|0   |null   |2022-11-16 16:04:05|\n",
      "+----+-------+-------------------+\n",
      "\n"
     ]
    }
   ],
   "source": [
    "# Cek dulu\n",
    "\n",
    "# Tentukan nilai default\n",
    "default_value_1 = 0\n",
    "\n",
    "# Hitung jumlah 'mmsi' dengan nilai default per bulan\n",
    "mmsi_default_value_1 = data_2endmonth.filter(F.col(\"mmsi\") == default_value_1)\n",
    "\n",
    "# Tampilkan DataFrame Spark hasil akhir\n",
    "mmsi_default_value_1.show(mmsi_default_value_1.count(), truncate=False)"
   ]
  },
  {
   "cell_type": "code",
   "execution_count": 8,
   "id": "c38e97ca",
   "metadata": {
    "scrolled": true
   },
   "outputs": [
    {
     "name": "stdout",
     "output_type": "stream",
     "text": [
      "+-------+---------+-------------------+\n",
      "|mmsi   |imo      |dt_pos_utc         |\n",
      "+-------+---------+-------------------+\n",
      "|1193046|303174162|2022-11-15 12:00:36|\n",
      "|1193046|303174162|2022-11-14 00:40:57|\n",
      "|1193046|303174162|2022-11-13 19:07:20|\n",
      "|1193046|303174162|2022-11-09 13:37:57|\n",
      "|1193046|303174162|2022-11-09 07:03:41|\n",
      "|1193046|303174162|2022-11-17 20:49:34|\n",
      "|1193046|303174162|2022-11-14 11:36:59|\n",
      "|1193046|303174162|2022-11-12 16:01:18|\n",
      "|1193046|303174162|2022-11-12 06:33:08|\n",
      "|1193046|303174162|2022-11-14 04:41:41|\n",
      "|1193046|303174162|2022-11-10 20:05:57|\n",
      "|1193046|303174162|2022-11-17 15:04:31|\n",
      "|1193046|303174162|2022-11-17 18:46:21|\n",
      "|1193046|303174162|2022-11-17 06:37:30|\n",
      "|1193046|303174162|2022-11-13 19:57:41|\n",
      "|1193046|303174162|2022-11-13 11:56:10|\n",
      "|1193046|303174162|2022-11-11 05:43:38|\n",
      "|1193046|303174162|2022-11-11 05:06:37|\n",
      "|1193046|303174162|2022-11-11 06:46:18|\n",
      "+-------+---------+-------------------+\n",
      "\n"
     ]
    }
   ],
   "source": [
    "# Cek dulu\n",
    "\n",
    "# Tentukan nilai default\n",
    "default_value_2 = 1193046\n",
    "\n",
    "# Hitung jumlah 'mmsi' dengan nilai default per bulan\n",
    "mmsi_default_value_2 = data_2endmonth.filter(F.col(\"mmsi\") == default_value_2)\n",
    "\n",
    "# Tampilkan DataFrame Spark hasil akhir\n",
    "mmsi_default_value_2.show(mmsi_default_value_2.count(), truncate=False)"
   ]
  },
  {
   "cell_type": "code",
   "execution_count": 9,
   "id": "1a66a2b3",
   "metadata": {},
   "outputs": [],
   "source": [
    "# Fungsi Handling MMSI Default\n",
    "\n",
    "def process_default_mmsi(df_data_spark):\n",
    "    # 1. Cek MMSI yang default\n",
    "    default_mmsi_data = df_data_spark.filter((F.col('mmsi') == 0) | (F.col('mmsi') == 1193046))\n",
    "\n",
    "    # 2. Loop melalui setiap record dan langsung ubah dalam DataFrame Spark\n",
    "    for row in default_mmsi_data.collect():\n",
    "        mmsi = row['mmsi']\n",
    "        imo = row['imo']\n",
    "\n",
    "        # 3. Cek pasangan IMO-nya\n",
    "        joined_data = df_data_spark.filter(F.col('imo') == imo)\n",
    "\n",
    "        # 4. Filter IMO yang valid\n",
    "        valid_imo_data = joined_data.filter(\n",
    "            (F.col('imo') >= 1000000) & (F.col('imo') <= 9999999)\n",
    "        )\n",
    "\n",
    "        # 5. Ambil nilai MMSI yang valid dari IMO\n",
    "        valid_mmsi_data = valid_imo_data.groupBy('imo', 'mmsi').agg(\n",
    "            F.countDistinct('mmsi').alias('count')\n",
    "        )\n",
    "\n",
    "        max_count_data = valid_mmsi_data.groupBy('imo').agg(\n",
    "            F.max('count').alias('max_count'),\n",
    "            F.first('mmsi', ignorenulls=True).alias('mmsi_replacement')\n",
    "        )\n",
    "\n",
    "        # 6. Gantikan nilai MMSI yang default dengan nilai yang valid\n",
    "        mmsi_replacement_row = max_count_data.where(max_count_data['imo'] == imo).select('mmsi_replacement').first()\n",
    "\n",
    "        if mmsi_replacement_row:\n",
    "            mmsi_replacement = mmsi_replacement_row['mmsi_replacement']\n",
    "\n",
    "            df_data_spark = df_data_spark.withColumn(\n",
    "                \"mmsi\",\n",
    "                F.when(\n",
    "                    (F.col(\"mmsi\") == mmsi) & (F.col(\"imo\") == imo),\n",
    "                    mmsi_replacement\n",
    "                ).otherwise(F.col(\"mmsi\"))\n",
    "            )\n",
    "\n",
    "    # 7. Drop kolom tambahan\n",
    "    df_data_spark = df_data_spark.drop(\"mmsi_replacement\", \"imo\")\n",
    "\n",
    "    return df_data_spark"
   ]
  },
  {
   "cell_type": "code",
   "execution_count": 10,
   "id": "8052e0bb",
   "metadata": {},
   "outputs": [],
   "source": [
    "# Eksekusi Fungsi\n",
    "\n",
    "data_mmsid_hand = process_default_mmsi(data_2endmonth)"
   ]
  },
  {
   "cell_type": "code",
   "execution_count": 1,
   "id": "29e63fe0",
   "metadata": {},
   "outputs": [],
   "source": [
    "# Save\n",
    "\n",
    "#data_mmsid_hand.write.option(\"header\", True).mode(\"overwrite\").parquet(path_unique + \"data-ais-mmsid-handling-coba.parquet\")"
   ]
  },
  {
   "cell_type": "code",
   "execution_count": null,
   "id": "4e5ce390",
   "metadata": {},
   "outputs": [],
   "source": [
    "# Read\n",
    "\n",
    "# data_mmsid_hand = spark.read.parquet(path_unique + \"data-ais-mmsid-handling-coba.parquet\", header=True)"
   ]
  },
  {
   "cell_type": "code",
   "execution_count": 2,
   "id": "4593fb98",
   "metadata": {},
   "outputs": [],
   "source": [
    "# Cek Lagi\n",
    "\n",
    "# Tentukan nilai default\n",
    "default_value_1 = 0\n",
    "\n",
    "# Hitung jumlah 'mmsi' dengan nilai default per bulan\n",
    "mmsi_default_value_1 = data_mmsid_hand.filter(F.col(\"mmsi\") == default_value_1)\n",
    "\n",
    "# Tampilkan DataFrame Spark hasil akhir\n",
    "mmsi_default_value_1.show(mmsi_default_value_1.count(), truncate=False)"
   ]
  },
  {
   "cell_type": "code",
   "execution_count": null,
   "id": "4f0553ad",
   "metadata": {},
   "outputs": [],
   "source": [
    "# Cek Lagi\n",
    "\n",
    "# Tentukan nilai default\n",
    "default_value_2 = 1193046\n",
    "\n",
    "# Hitung jumlah 'mmsi' dengan nilai default per bulan\n",
    "mmsi_default_value_2 = data_mmsid_hand.filter(F.col(\"mmsi\") == default_value_2).select(\"mmsi\",\"imo\")\n",
    "\n",
    "# Tampilkan DataFrame Spark hasil akhir\n",
    "mmsi_default_value_2.show(mmsi_default_value_2.count(), truncate=False)"
   ]
  },
  {
   "cell_type": "markdown",
   "id": "66979a8f",
   "metadata": {},
   "source": [
    "### Invalid"
   ]
  },
  {
   "cell_type": "code",
   "execution_count": null,
   "id": "aea7bd73",
   "metadata": {},
   "outputs": [],
   "source": [
    "# Cek dulu\n",
    "\n",
    "# Filter nilai MMSI yang invalid\n",
    "filtered_data = data_2endmonth.filter(\n",
    "    ~(\n",
    "        ((col('mmsi') >= 100000000) & (col('mmsi') <= 999999999)) |\n",
    "        (col('mmsi') == 0) |\n",
    "        (col('mmsi') == 1193046)\n",
    "    )\n",
    ")\n",
    "\n",
    "# Tampilkan hasil filtering\n",
    "filtered_data = filtered_data.orderBy(\"mmsi\")\n",
    "filtered_data.show()"
   ]
  },
  {
   "cell_type": "code",
   "execution_count": null,
   "id": "00ebe9f2",
   "metadata": {},
   "outputs": [],
   "source": [
    "# Fungsi Handling MMSI Invalid\n",
    "\n",
    "def process_invalid_mmsi(df_data_spark):\n",
    "    # 1. Cek MMSI yang invalid\n",
    "    invalid_mmsi_data = df_data_spark.filter(\n",
    "        ~(\n",
    "            ((col('mmsi') >= 100000000) & (col('mmsi') <= 999999999)) |\n",
    "            (col('mmsi') == 0) |\n",
    "            (col('mmsi') == 1193046)\n",
    "        )\n",
    "    )\n",
    "\n",
    "    # 2. Loop melalui setiap record dan langsung ubah dalam DataFrame Spark\n",
    "    for row in invalid_mmsi_data:\n",
    "        mmsi = row['mmsi']\n",
    "        imo = row['imo']\n",
    "\n",
    "        # 3. Cek pasangan IMO-nya\n",
    "        joined_data = df_data_spark.filter(col('imo') == imo)\n",
    "\n",
    "        # 4. Filter IMO yang valid\n",
    "        valid_imo_data = joined_data.filter(\n",
    "            (col('imo') >= 1000000) & (col('imo') <= 9999999)\n",
    "        )\n",
    "\n",
    "        # 5. Ambil nilai MMSI yang valid dari IMO\n",
    "        valid_mmsi_data = valid_imo_data.groupBy('imo', 'mmsi').agg(\n",
    "            countDistinct('mmsi').alias('count')\n",
    "        )\n",
    "\n",
    "        max_count_data = valid_mmsi_data.groupBy('imo').agg(\n",
    "            first('mmsi', 'count').alias('mmsi_replacement')\n",
    "        )\n",
    "\n",
    "        # 6. Gantikan nilai MMSI yang invalid dengan nilai yang valid\n",
    "        df_data_spark = df_data_spark.withColumn(\n",
    "            \"mmsi\",\n",
    "            when(\n",
    "                (col(\"mmsi\") == mmsi) & (col(\"imo\") == imo),\n",
    "                max_count_data.select(\"mmsi_replacement\").first()[0]\n",
    "            ).otherwise(col(\"mmsi\"))\n",
    "        )\n",
    "\n",
    "    # 7. Drop kolom tambahan\n",
    "    df_data_spark = df_data_spark.drop(\"mmsi_replacement\", \"imo\")\n",
    "\n",
    "    return df_data_spark"
   ]
  },
  {
   "cell_type": "code",
   "execution_count": null,
   "id": "80c45fd7",
   "metadata": {},
   "outputs": [],
   "source": [
    "# Eksekusi fungsi\n",
    "data_mmsii_hand = process_invalid_mmsi(data_2endmonth)"
   ]
  },
  {
   "cell_type": "code",
   "execution_count": null,
   "id": "a51e7a17",
   "metadata": {},
   "outputs": [],
   "source": [
    "# Cek lagi\n",
    "\n",
    "# Filter nilai MMSI yang invalid\n",
    "filtered_data = data_mmsii_hand.filter(\n",
    "    ~(\n",
    "        ((col('mmsi') >= 100000000) & (col('mmsi') <= 999999999)) |\n",
    "        (col('mmsi') == 0) |\n",
    "        (col('mmsi') == 1193046)\n",
    "    )\n",
    ")\n",
    "\n",
    "# Tampilkan hasil filtering\n",
    "filtered_data = filtered_data.orderBy(\"mmsi\")\n",
    "filtered_data.show()"
   ]
  },
  {
   "cell_type": "markdown",
   "id": "efa23041",
   "metadata": {},
   "source": [
    "## IMO"
   ]
  },
  {
   "cell_type": "markdown",
   "id": "0bf8253a",
   "metadata": {},
   "source": [
    "### Default & Missing"
   ]
  },
  {
   "cell_type": "code",
   "execution_count": null,
   "id": "10d442c8",
   "metadata": {},
   "outputs": [],
   "source": [
    "# Cek dulu\n",
    "\n",
    "# Hitung jumlah 'mmsi' dengan nilai default per bulan\n",
    "imo_default_miss_value = data_2endmonth.filter((F.col('imo') == 0) | (F.col('imo').isNull()))\n",
    "\n",
    "# Tampilkan DataFrame Spark hasil akhir\n",
    "imo_default_miss_value.show(imo_default_miss_value.count(), truncate=False)"
   ]
  },
  {
   "cell_type": "code",
   "execution_count": null,
   "id": "0baeeb0d",
   "metadata": {},
   "outputs": [],
   "source": [
    "# Fungsi handling IMO Default dan Missing\n",
    "\n",
    "def process_default_miss_imo(df_data_spark):\n",
    "    # 1. Cek IMO yang default atau missing\n",
    "    default_imo_data = df_data_spark.filter((F.col('imo') == 0) | (F.col('imo').isNull()))\n",
    "\n",
    "    # 2. Loop melalui setiap record dan langsung ubah dalam DataFrame Spark\n",
    "    for row in default_imo_data.collect():\n",
    "        mmsi = row['mmsi']\n",
    "        imo = row['imo']\n",
    "\n",
    "        # 3. Cek pasangan MMSI-nya\n",
    "        joined_data = df_data_spark.filter(F.col('mmsi') == mmsi)\n",
    "\n",
    "        # 4. Filter MMSI yang valid\n",
    "        valid_mmsi_data = joined_data.filter(\n",
    "            (F.col('mmsi') >= 100000000) & (F.col('mmsi') <= 999999999)\n",
    "        )\n",
    "\n",
    "        # 5. Ambil nilai IMO yang valid dari MMSI\n",
    "        valid_imo_data = valid_mmsi_data.groupBy('imo', 'mmsi').agg(\n",
    "            F.countDistinct('imo').alias('count')\n",
    "        )\n",
    "\n",
    "        max_count_data = valid_imo_data.groupBy('mmsi').agg(\n",
    "            F.max('count').alias('max_count'),\n",
    "            F.first('imo', ignorenulls=True).alias('imo_replacement')\n",
    "        )\n",
    "\n",
    "        # 6. Gantikan nilai IMO yang default atau missing dengan nilai yang valid\n",
    "        imo_replacement_row = max_count_data.where(max_count_data['mmsi'] == mmsi).select('imo_replacement').first()\n",
    "\n",
    "        if imo_replacement_row:\n",
    "            imo_replacement = imo_replacement_row['imo_replacement']\n",
    "\n",
    "            df_data_spark = df_data_spark.withColumn(\n",
    "                \"imo\",\n",
    "                F.when(\n",
    "                    (F.col(\"imo\") == imo) & (F.col(\"mmsi\") == mmsi),\n",
    "                    imo_replacement\n",
    "                ).otherwise(F.col(\"imo\"))\n",
    "            )\n",
    "\n",
    "    # 7. Drop kolom tambahan\n",
    "    df_data_spark = df_data_spark.drop(\"imo_replacement\", \"mmsi\")\n",
    "\n",
    "    return df_data_spark"
   ]
  },
  {
   "cell_type": "code",
   "execution_count": null,
   "id": "64628dfc",
   "metadata": {},
   "outputs": [],
   "source": [
    "# Eksekusi Fungsi\n",
    "\n",
    "data_imodm_hand = process_default_miss_imo(data_2endmonth)"
   ]
  },
  {
   "cell_type": "code",
   "execution_count": null,
   "id": "d811f712",
   "metadata": {},
   "outputs": [],
   "source": [
    "# Cek lagi\n",
    "\n",
    "# Hitung jumlah 'mmsi' dengan nilai default per bulan\n",
    "imo_default_miss_value = data_imodm_hand.filter((F.col('imo') == 0) | (F.col('imo').isNull()))\n",
    "\n",
    "# Tampilkan DataFrame Spark hasil akhir\n",
    "imo_default_miss_value.show(imo_default_miss_value.count(), truncate=False)"
   ]
  },
  {
   "cell_type": "markdown",
   "id": "2dfc9f28",
   "metadata": {},
   "source": [
    "### Invalid"
   ]
  },
  {
   "cell_type": "code",
   "execution_count": null,
   "id": "d9f854e6",
   "metadata": {},
   "outputs": [],
   "source": [
    "# Cek dulu\n",
    "\n",
    "# Filter nilai IMO yang invalid\n",
    "filtered_data = data_2endmonth.filter(\n",
    "    ~(\n",
    "        ((col('imo') >= 1000000) & (col('imo') <= 9999999)) |\n",
    "        (col('imo') == 0) |\n",
    "        (col('imo').isNull())\n",
    "    )\n",
    ")\n",
    "\n",
    "# Tampilkan hasil filtering\n",
    "filtered_data = filtered_data.orderBy(\"imo\")\n",
    "filtered_data.show()"
   ]
  },
  {
   "cell_type": "code",
   "execution_count": null,
   "id": "03155b97",
   "metadata": {},
   "outputs": [],
   "source": [
    "# Fungsi handling IMO Invalid\n",
    "\n",
    "def process_invalid_imo(df_data_spark):\n",
    "    # 1. Cek IMO yang invalid\n",
    "    invalid_imo_data = df_data_spark.filter(\n",
    "        ~(\n",
    "            ((col('imo') >= 1000000) & (col('imo') <= 9999999)) |\n",
    "            (col('imo') == 0) |\n",
    "            (col('imo').isNull())\n",
    "        )\n",
    "    )\n",
    "\n",
    "    # 2. Loop melalui setiap record dan langsung ubah dalam DataFrame Spark\n",
    "    for row in invalid_imo_data:\n",
    "        mmsi = row['mmsi']\n",
    "        imo = row['imo']\n",
    "\n",
    "        # 3. Cek pasangan MMSI-nya\n",
    "        joined_data = df_data_spark.filter(col('mmsi') == mmsi)\n",
    "\n",
    "        # 4. Filter MMSI yang valid\n",
    "        valid_mmsi_data = joined_data.filter(\n",
    "            (col('mmsi') >= 100000000) & (col('mmsi') <= 999999999)\n",
    "        )\n",
    "\n",
    "        # 5. Ambil nilai IMO yang valid dari MMSI\n",
    "        valid_imo_data = valid_mmsi_data.groupBy('imo', 'mmsi').agg(\n",
    "            countDistinct('imo').alias('count')\n",
    "        )\n",
    "\n",
    "        max_count_data = valid_imo_data.groupBy('mmsi').agg(\n",
    "            first('imo', 'count').alias('imo_replacement')\n",
    "        )\n",
    "\n",
    "        # 6. Gantikan nilai IMO yang invalid dengan nilai yang valid\n",
    "        df_data_spark = df_data_spark.withColumn(\n",
    "            \"imo\",\n",
    "            when(\n",
    "                (col(\"imo\") == imo) & (col(\"mmsi\") == mmsi),\n",
    "                max_count_data.select(\"imo_replacement\").first()[0]\n",
    "            ).otherwise(col(\"imo\"))\n",
    "        )\n",
    "\n",
    "    # 7. Drop kolom tambahan\n",
    "    df_data_spark = df_data_spark.drop(\"imo_replacement\", \"mmsi\")\n",
    "\n",
    "    return df_data_spark"
   ]
  },
  {
   "cell_type": "code",
   "execution_count": null,
   "id": "43ff9e5d",
   "metadata": {},
   "outputs": [],
   "source": [
    "# Eksekusi Fungsi\n",
    "\n",
    "data_imoi_hand = process_invalid_imo(data_2endmonth)"
   ]
  },
  {
   "cell_type": "code",
   "execution_count": null,
   "id": "40af11bb",
   "metadata": {},
   "outputs": [],
   "source": [
    "# Cek lagi\n",
    "\n",
    "# Filter nilai IMO yang invalid\n",
    "filtered_data = data_imoi_hand.filter(\n",
    "    ~(\n",
    "        ((col('imo') >= 1000000) & (col('imo') <= 9999999)) |\n",
    "        (col('imo') == 0) |\n",
    "        (col('imo').isNull())\n",
    "    )\n",
    ")\n",
    "\n",
    "# Tampilkan hasil filtering\n",
    "filtered_data = filtered_data.orderBy(\"imo\")\n",
    "filtered_data.show()"
   ]
  },
  {
   "cell_type": "markdown",
   "id": "d6e0de8a",
   "metadata": {},
   "source": [
    "## Tipe Kapal"
   ]
  },
  {
   "cell_type": "code",
   "execution_count": null,
   "id": "1972c103",
   "metadata": {},
   "outputs": [],
   "source": [
    "# Cek dulu\n",
    "\n",
    "# Filter nilai vess_type yang default atau invalid\n",
    "filtered_data = data_2endmonth.filter(\n",
    "    ((col('vessel_type_code') < 1) | (col('vessel_type_code') > 255)) | (col('vessel_type_code') == 0)\n",
    ")\n",
    "\n",
    "# Tampilkan hasil filtering\n",
    "filtered_data = filtered_data.orderBy(\"vessel_type_code\")\n",
    "filtered_data.show()"
   ]
  },
  {
   "cell_type": "code",
   "execution_count": null,
   "id": "267a6f40",
   "metadata": {},
   "outputs": [],
   "source": [
    "# Fungsi handling Vess_Type Default dan Invalid\n",
    "\n",
    "def process_default_invalid_vessel_type(df_data_spark):\n",
    "    # 1. Cek Vess_type yang default atau missing\n",
    "    default_vessel_type_data = df_data_spark.filter(((col('vessel_type_code') < 1) | (col('vessel_type_code') > 255)) | (col('vessel_type_code') == 0))\n",
    "\n",
    "    # 2. Loop melalui setiap record dan langsung ubah dalam DataFrame Spark\n",
    "    for row in default_vessel_type_data.collect():\n",
    "        mmsi = row['mmsi']\n",
    "        vessel_type_code = row['vessel_type_code']\n",
    "\n",
    "        # 3. Cek pasangan MMSI-nya\n",
    "        joined_data = df_data_spark.filter(F.col('mmsi') == mmsi)\n",
    "\n",
    "        # 4. Filter MMSI yang valid\n",
    "        valid_mmsi_data = joined_data.filter(\n",
    "            (F.col('mmsi') >= 100000000) & (F.col('mmsi') <= 999999999)\n",
    "        )\n",
    "\n",
    "        # 5. Ambil nilai Vess_type yang valid dari MMSI\n",
    "        valid_vessel_type_code_data = valid_mmsi_data.groupBy('vessel_type_code', 'mmsi').agg(\n",
    "            F.countDistinct('vessel_type_code').alias('count')\n",
    "        )\n",
    "\n",
    "        max_count_data = valid_vessel_type_code_data.groupBy('mmsi').agg(\n",
    "            F.max('count').alias('max_count'),\n",
    "            F.first('vessel_type_code', ignorenulls=True).alias('vessel_type_code_replacement')\n",
    "        )\n",
    "\n",
    "        # 6. Gantikan nilai IMO yang default atau missing dengan nilai yang valid\n",
    "        vessel_type_code_replacement_row = max_count_data.where(max_count_data['mmsi'] == mmsi).select('vessel_type_code_replacement').first()\n",
    "\n",
    "        if vessel_type_code_replacement_row:\n",
    "            vessel_type_code_replacement = vessel_type_code_replacement_row['vessel_type_code_replacement']\n",
    "\n",
    "            df_data_spark = df_data_spark.withColumn(\n",
    "                \"vessel_type_code\",\n",
    "                F.when(\n",
    "                    (F.col(\"vessel_type_code\") == imo) & (F.col(\"mmsi\") == mmsi),\n",
    "                    vessel_type_code_replacement\n",
    "                ).otherwise(F.col(\"vessel_type_code\"))\n",
    "            )\n",
    "\n",
    "    # 7. Drop kolom tambahan\n",
    "    df_data_spark = df_data_spark.drop(\"vessel_type_code_replacement\", \"mmsi\")\n",
    "\n",
    "    return df_data_spark"
   ]
  },
  {
   "cell_type": "code",
   "execution_count": null,
   "id": "8e594596",
   "metadata": {},
   "outputs": [],
   "source": [
    "# Eksekusi Fungsi\n",
    "\n",
    "data_vesstypedi_hand = process_default_invalid_vessel_type(data_2endmonth)"
   ]
  },
  {
   "cell_type": "code",
   "execution_count": null,
   "id": "c94b447d",
   "metadata": {},
   "outputs": [],
   "source": [
    "# Cek lagi\n",
    "\n",
    "# Filter nilai vess_type yang default atau invalid\n",
    "filtered_data = data_vesstypedi_hand.filter(\n",
    "    ((col('vessel_type_code') < 1) | (col('vessel_type_code') > 255)) | (col('vessel_type_code') == 0)\n",
    ")\n",
    "\n",
    "# Tampilkan hasil filtering\n",
    "filtered_data = filtered_data.orderBy(\"vessel_type_code\")\n",
    "filtered_data.show()"
   ]
  },
  {
   "cell_type": "markdown",
   "id": "8c16c82b",
   "metadata": {},
   "source": [
    "## Negara Kapal"
   ]
  },
  {
   "cell_type": "code",
   "execution_count": null,
   "id": "1e6edfb0",
   "metadata": {},
   "outputs": [],
   "source": [
    "# Cek dulu\n",
    "\n",
    "# Filter nilai flag_code yang null\n",
    "filtered_data = data_2endmonth.filter(col('flag_code').isNull())\n",
    "\n",
    "# Tampilkan hasil filtering\n",
    "filtered_data = filtered_data.orderBy(\"mmsi\")\n",
    "filtered_data.show()"
   ]
  },
  {
   "cell_type": "code",
   "execution_count": null,
   "id": "2807a679",
   "metadata": {},
   "outputs": [],
   "source": [
    "# Fungsi handling Missing Flag_Code\n",
    "\n",
    "def process_missing_flag_code(df_data_spark):\n",
    "    # 1. Cek Flag_Code yang null\n",
    "    missing_flag_code_data = df_data_spark.filter(F.col('flag_code').isNull())\n",
    "\n",
    "    # 2. Loop melalui setiap record dan langsung ubah dalam DataFrame Spark\n",
    "    for row in missing_flag_code_data.collect():\n",
    "        mmsi = row['mmsi']\n",
    "        flag_code = row['flag_code']\n",
    "\n",
    "        # 3. Cek pasangan MMSI-nya\n",
    "        joined_data = df_data_spark.filter(F.col('mmsi') == mmsi)\n",
    "\n",
    "        # 4. Filter MMSI yang valid\n",
    "        valid_mmsi_data = joined_data.filter(\n",
    "            (F.col('mmsi') >= 100000000) & (F.col('mmsi') <= 999999999)\n",
    "        )\n",
    "\n",
    "        # 5. Gantikan nilai flag_code yang null dengan 3 digit pertama dari mmsi jika mmsi valid\n",
    "        df_data_spark = df_data_spark.withColumn(\n",
    "            \"flag_code\",\n",
    "            F.when(\n",
    "                (F.col(\"flag_code\").isNull()) & (F.col(\"mmsi\") >= 100000000) & (F.col(\"mmsi\") <= 999999999),\n",
    "                F.substring(F.col(\"mmsi\").cast(\"string\"), 1, 3)\n",
    "            ).otherwise(F.col(\"flag_code\"))\n",
    "        )\n",
    "\n",
    "    return df_data_spark"
   ]
  },
  {
   "cell_type": "code",
   "execution_count": null,
   "id": "b43c3599",
   "metadata": {},
   "outputs": [],
   "source": [
    "# Eksekusi Fungsi\n",
    "\n",
    "data_flagcodem_hand = process_missing_flag_code(data_2endmonth)"
   ]
  },
  {
   "cell_type": "code",
   "execution_count": null,
   "id": "6e5fa0eb",
   "metadata": {},
   "outputs": [],
   "source": [
    "# Cek dulu\n",
    "\n",
    "# Filter nilai flag_code yang null\n",
    "filtered_data = data_flagcodem_hand.filter(col('flag_code').isNull())\n",
    "\n",
    "# Tampilkan hasil filtering\n",
    "filtered_data = filtered_data.orderBy(\"mmsi\")\n",
    "filtered_data.show()"
   ]
  },
  {
   "cell_type": "markdown",
   "id": "54b21f13",
   "metadata": {},
   "source": [
    "# Save Data"
   ]
  },
  {
   "cell_type": "code",
   "execution_count": null,
   "id": "87aadac3",
   "metadata": {},
   "outputs": [],
   "source": [
    "# Save Data\n",
    "sampledd_data.write.option(\"header\", True).mode(\"overwrite\").parquet(path_unique + \"data-ais-1persen-dimhandling-dunia-2022.parquet\")"
   ]
  }
 ],
 "metadata": {
  "kernelspec": {
   "display_name": "Python 3 (ipykernel)",
   "language": "python",
   "name": "python3"
  },
  "language_info": {
   "codemirror_mode": {
    "name": "ipython",
    "version": 3
   },
   "file_extension": ".py",
   "mimetype": "text/x-python",
   "name": "python",
   "nbconvert_exporter": "python",
   "pygments_lexer": "ipython3",
   "version": "3.9.12"
  }
 },
 "nbformat": 4,
 "nbformat_minor": 5
}
