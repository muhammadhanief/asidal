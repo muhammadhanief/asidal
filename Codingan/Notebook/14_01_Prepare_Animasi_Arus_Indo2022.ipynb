{
 "cells": [
  {
   "cell_type": "code",
   "execution_count": 1,
   "id": "bad14f04",
   "metadata": {},
   "outputs": [],
   "source": [
    "import pandas as pd\n",
    "import json\n",
    "import numpy as np\n",
    "from datetime import datetime"
   ]
  },
  {
   "cell_type": "code",
   "execution_count": 2,
   "id": "b415b287",
   "metadata": {},
   "outputs": [],
   "source": [
    "# Membaca file CSV ke dalam pandas DataFrame\n",
    "import os\n",
    "os.chdir('C:/Users/Lenovo/Skripsi/Notebook')\n",
    "\n",
    "df = pd.read_csv('arus_keluar_masuk_asean_all.csv')"
   ]
  },
  {
   "cell_type": "code",
   "execution_count": 3,
   "id": "17ff87c4-47d1-410b-abb4-4025a6b86f7e",
   "metadata": {},
   "outputs": [],
   "source": [
    "# Membaca file CSV ke dalam pandas DataFrame\n",
    "# df = pd.read_csv('arus_masuk_keluar.csv')\n",
    "# df = pd.read_csv('arus_masuk_ln_indo.csv')"
   ]
  },
  {
   "cell_type": "code",
   "execution_count": 3,
   "id": "356a409f",
   "metadata": {},
   "outputs": [
    {
     "name": "stdout",
     "output_type": "stream",
     "text": [
      "0         {\"type\": \"FeatureCollection\", \"features\": [{\"t...\n",
      "1         {\"type\": \"FeatureCollection\", \"features\": [{\"t...\n",
      "2         {\"type\": \"FeatureCollection\", \"features\": [{\"t...\n",
      "3         {\"type\": \"FeatureCollection\", \"features\": [{\"t...\n",
      "4         {\"type\": \"FeatureCollection\", \"features\": [{\"t...\n",
      "                                ...                        \n",
      "396001    {\"type\": \"FeatureCollection\", \"features\": [{\"t...\n",
      "396002    {\"type\": \"FeatureCollection\", \"features\": [{\"t...\n",
      "396003    {\"type\": \"FeatureCollection\", \"features\": [{\"t...\n",
      "396004    {\"type\": \"FeatureCollection\", \"features\": [{\"t...\n",
      "396005    {\"type\": \"FeatureCollection\", \"features\": [{\"t...\n",
      "Name: geojson, Length: 396006, dtype: object\n"
     ]
    }
   ],
   "source": [
    "# Fungsi untuk mengonversi format tanggal dan waktu ke Unix timestamp\n",
    "def convert_to_unix_timestamp(date_str):\n",
    "    return int(datetime.strptime(date_str, '%m/%d/%Y %H:%M').timestamp())\n",
    "\n",
    "# Fungsi untuk mengonversi format tanggal ke format MM/DD/YYYY\n",
    "def konversi_tanggal(input_tanggal):\n",
    "    # Mengonversi string ke objek datetime\n",
    "    tanggal_objek = datetime.strptime(input_tanggal, \"%m/%d/%Y %H:%M\")\n",
    "    \n",
    "    # Membuat string dengan format yang diinginkan (tanpa jam)\n",
    "    tanggal_hasil = tanggal_objek.strftime(\"%m/%d/%Y\")\n",
    "    \n",
    "    return tanggal_hasil\n",
    "\n",
    "# Fungsi untuk membuat GeoJSON dari dua titik sesuai format yang diinginkan\n",
    "def create_geojson(row):\n",
    "    coordinates = [\n",
    "        [row['longitude'], row['latitude'], 0, convert_to_unix_timestamp(row['dt_pos_utc'])]\n",
    "    ]\n",
    "    timestamp = convert_to_unix_timestamp(row['dt_pos_utc'])  # Gunakan timestamp dari kolom 'dt_pos_utc' sebagai timestamp properti GeoJSON\n",
    "    geojson = {\n",
    "        \"type\": \"FeatureCollection\",\n",
    "        \"features\": [\n",
    "            {\n",
    "                \"type\": \"Feature\",\n",
    "                \"properties\": {\"time\": konversi_tanggal(row['dt_pos_utc'])},  # Properti timestamp dalam format yang diinginkan\n",
    "                \"geometry\": {\n",
    "                    \"type\": \"LineString\",\n",
    "                    \"coordinates\": coordinates\n",
    "                }\n",
    "            }\n",
    "        ]\n",
    "    }\n",
    "    return json.dumps(geojson)\n",
    "\n",
    "\n",
    "# Membuat kolom baru berbentuk GeoJSON\n",
    "df['geojson'] = df.apply(create_geojson, axis=1)\n",
    "\n",
    "# Menampilkan hanya kolom 'geojson'\n",
    "print(df['geojson'])\n",
    "\n",
    "# Menyimpan DataFrame ke dalam file CSV\n",
    "df.to_csv('output_keluar_masuk_asean_all.csv', index=False)"
   ]
  },
  {
   "cell_type": "code",
   "execution_count": null,
   "id": "13295e53",
   "metadata": {},
   "outputs": [],
   "source": []
  }
 ],
 "metadata": {
  "kernelspec": {
   "display_name": "Python 3 (ipykernel)",
   "language": "python",
   "name": "python3"
  },
  "language_info": {
   "codemirror_mode": {
    "name": "ipython",
    "version": 3
   },
   "file_extension": ".py",
   "mimetype": "text/x-python",
   "name": "python",
   "nbconvert_exporter": "python",
   "pygments_lexer": "ipython3",
   "version": "3.9.12"
  }
 },
 "nbformat": 4,
 "nbformat_minor": 5
}
