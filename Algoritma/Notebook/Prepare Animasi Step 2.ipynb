{
 "cells": [
  {
   "cell_type": "code",
   "execution_count": 1,
   "id": "3474d020-557f-4486-b2e9-885835d01f88",
   "metadata": {},
   "outputs": [
    {
     "name": "stdout",
     "output_type": "stream",
     "text": [
      "        mmsi            Port           dt_pos_utc  fc_vessel  sc_vessel  \\\n",
      "0  525001068  Tanjung Sekong  2024-01-02 13:25:34  Indonesia  Indonesia   \n",
      "1  525001068  Tanjung Sekong  2024-01-02 16:45:55  Indonesia  Indonesia   \n",
      "2  525001068             NaN  2024-01-02 16:51:24  Indonesia  Indonesia   \n",
      "3  525001068             NaN  2024-01-02 18:56:25  Indonesia  Indonesia   \n",
      "4  525001068  Tanjung Sekong  2024-01-02 19:07:37  Indonesia  Indonesia   \n",
      "\n",
      "  vessel_type               ns_vessel  draught  position  latitude  \\\n",
      "0   Passenger  Under Way Using Engine      4.8   in port -5.935150   \n",
      "1   Passenger  Under Way Using Engine      4.8   in port -5.851667   \n",
      "2   Passenger  Under Way Using Engine      4.8  out port -5.864583   \n",
      "3   Passenger  Under Way Using Engine      4.8  out port -5.879200   \n",
      "4   Passenger  Under Way Using Engine      4.8   in port -5.889667   \n",
      "\n",
      "    longitude masuk_pelabuhan keluar_pelabuhan masuk_indo keluar_indo  \\\n",
      "0  105.976983               -                -          -           -   \n",
      "1  105.804500               -           keluar          -           -   \n",
      "2  105.797633               -           keluar          -           -   \n",
      "3  105.787433           masuk                -          -           -   \n",
      "4  105.817667           masuk                -          -           -   \n",
      "\n",
      "                                             geojson  \n",
      "0  {\"type\": \"FeatureCollection\", \"features\": [{\"t...  \n",
      "1  {\"type\": \"FeatureCollection\", \"features\": [{\"t...  \n",
      "2  {\"type\": \"FeatureCollection\", \"features\": [{\"t...  \n",
      "3  {\"type\": \"FeatureCollection\", \"features\": [{\"t...  \n",
      "4  {\"type\": \"FeatureCollection\", \"features\": [{\"t...  \n"
     ]
    }
   ],
   "source": [
    "import pandas as pd\n",
    "\n",
    "# Ganti 'your_file.csv' dengan path ke file CSV Anda\n",
    "df = pd.read_csv('output_flow_merak.csv')\n",
    "print(df.head())\n"
   ]
  },
  {
   "cell_type": "code",
   "execution_count": 5,
   "id": "0ca0570d-dced-4684-83a3-4e0f41ff4ada",
   "metadata": {},
   "outputs": [],
   "source": [
    "import json"
   ]
  },
  {
   "cell_type": "code",
   "execution_count": 3,
   "id": "786a1e32-ced9-4784-8028-0c1b8ec166e8",
   "metadata": {},
   "outputs": [
    {
     "name": "stdout",
     "output_type": "stream",
     "text": [
      "Index(['mmsi', 'Port', 'dt_pos_utc', 'fc_vessel', 'sc_vessel', 'vessel_type',\n",
      "       'ns_vessel', 'draught', 'position', 'latitude', 'longitude',\n",
      "       'masuk_pelabuhan', 'keluar_pelabuhan', 'masuk_indo', 'keluar_indo',\n",
      "       'geojson'],\n",
      "      dtype='object')\n"
     ]
    }
   ],
   "source": [
    "# Cetak nama kolom\n",
    "print(df.columns)"
   ]
  },
  {
   "cell_type": "code",
   "execution_count": 2,
   "id": "26f763ac-7479-4d56-adb2-5b038f0c90d5",
   "metadata": {},
   "outputs": [
    {
     "name": "stdout",
     "output_type": "stream",
     "text": [
      "{\"type\": \"FeatureCollection\", \"features\": [{\"type\": \"Feature\", \"properties\": {\"time\": \"01/02/2024\"}, \"geometry\": {\"type\": \"LineString\", \"coordinates\": [[105.97698333, -5.93515, 0, 1704176734]]}}]}\n"
     ]
    }
   ],
   "source": [
    "# Cetak record pertama (indeks 0) dari kolom terakhir\n",
    "record_pertama_kolom_terakhir = df.iloc[0, -1]\n",
    "print(record_pertama_kolom_terakhir)"
   ]
  },
  {
   "cell_type": "code",
   "execution_count": 6,
   "id": "89de374c-4a32-401e-af3a-b926b15d42ab",
   "metadata": {},
   "outputs": [],
   "source": [
    "# Fungsi untuk menggabungkan koordinat dari geojson\n",
    "def gabung_koordinat(geojson_list):\n",
    "    all_coordinates = []\n",
    "    for geojson_str in geojson_list:\n",
    "        geojson = json.loads(geojson_str)\n",
    "        coordinates = geojson['features'][0]['geometry']['coordinates']\n",
    "        all_coordinates.extend(coordinates)\n",
    "    # Buat geojson baru dengan koordinat yang telah digabungkan\n",
    "    combined_geojson = {\n",
    "        \"type\": \"FeatureCollection\",\n",
    "        \"features\": [\n",
    "            {\n",
    "                \"type\": \"Feature\",\n",
    "                \"properties\": {},\n",
    "                \"geometry\": {\n",
    "                    \"type\": \"LineString\",\n",
    "                    \"coordinates\": all_coordinates\n",
    "                }\n",
    "            }\n",
    "        ]\n",
    "    }\n",
    "    return json.dumps(combined_geojson)\n",
    "\n",
    "# Kelompokkan data berdasarkan 'mmsi' dan gabungkan koordinat\n",
    "df_grouped = df.groupby('mmsi').agg({\n",
    "    'geojson': gabung_koordinat,\n",
    "    'Port': 'first',\n",
    "    'dt_pos_utc': 'first',\n",
    "    'fc_vessel': 'first',\n",
    "    'sc_vessel': 'first',\n",
    "    'vessel_type': 'first',\n",
    "    'ns_vessel': 'first',\n",
    "    'draught': 'first',\n",
    "    'position': 'first',\n",
    "    'latitude': 'first',\n",
    "    'longitude': 'first',\n",
    "    'masuk_pelabuhan': 'first',\n",
    "    'keluar_pelabuhan': 'first',\n",
    "    'masuk_indo': 'first',\n",
    "    'keluar_indo': 'first'\n",
    "}).reset_index()\n",
    "\n",
    "# Cetak DataFrame baru\n"
   ]
  },
  {
   "cell_type": "code",
   "execution_count": 7,
   "id": "1c429cc0-2b14-437f-aa48-386a70412f8b",
   "metadata": {},
   "outputs": [
    {
     "name": "stdout",
     "output_type": "stream",
     "text": [
      "         mmsi                                            geojson  \\\n",
      "0   525001068  {\"type\": \"FeatureCollection\", \"features\": [{\"t...   \n",
      "1   525001121  {\"type\": \"FeatureCollection\", \"features\": [{\"t...   \n",
      "2   525001124  {\"type\": \"FeatureCollection\", \"features\": [{\"t...   \n",
      "3   525001125  {\"type\": \"FeatureCollection\", \"features\": [{\"t...   \n",
      "4   525001136  {\"type\": \"FeatureCollection\", \"features\": [{\"t...   \n",
      "..        ...                                                ...   \n",
      "57  525200335  {\"type\": \"FeatureCollection\", \"features\": [{\"t...   \n",
      "58  525200924  {\"type\": \"FeatureCollection\", \"features\": [{\"t...   \n",
      "59  525200925  {\"type\": \"FeatureCollection\", \"features\": [{\"t...   \n",
      "60  525300391  {\"type\": \"FeatureCollection\", \"features\": [{\"t...   \n",
      "61  563165800  {\"type\": \"FeatureCollection\", \"features\": [{\"t...   \n",
      "\n",
      "              Port           dt_pos_utc  fc_vessel  sc_vessel vessel_type  \\\n",
      "0   Tanjung Sekong  2024-01-02 13:25:34  Indonesia  Indonesia   Passenger   \n",
      "1   Tanjung Sekong  2024-01-01 01:00:42  Indonesia  Indonesia   Passenger   \n",
      "2   Tanjung Sekong  2024-02-04 13:42:44  Indonesia  Indonesia   Passenger   \n",
      "3   Tanjung Sekong  2024-01-01 01:12:09  Indonesia  Indonesia   Passenger   \n",
      "4   Tanjung Sekong  2024-01-01 00:02:54  Indonesia  Indonesia   Passenger   \n",
      "..             ...                  ...        ...        ...         ...   \n",
      "57  Tanjung Sekong  2024-01-01 00:00:49  Indonesia  Indonesia   Passenger   \n",
      "58  Tanjung Sekong  2024-01-01 00:06:41  Indonesia  Indonesia   Passenger   \n",
      "59  Tanjung Sekong  2024-01-12 04:44:29  Indonesia  Indonesia   Passenger   \n",
      "60  Tanjung Sekong  2024-01-01 01:03:37  Indonesia  Indonesia   Passenger   \n",
      "61  Tanjung Sekong  2024-02-13 23:55:15  Singapore      Asing   Passenger   \n",
      "\n",
      "                 ns_vessel  draught  position  latitude   longitude  \\\n",
      "0   Under Way Using Engine      4.8   in port -5.935150  105.976983   \n",
      "1         Underway Sailing      3.5   in port -5.956667  105.971667   \n",
      "2   Under Way Using Engine      2.8  out port -5.988268  105.757102   \n",
      "3   Under Way Using Engine      4.3  out port -5.878762  105.786253   \n",
      "4   Under Way Using Engine      3.5   in port -5.938333  105.995000   \n",
      "..                     ...      ...       ...       ...         ...   \n",
      "57        Underway Sailing      3.7   in port -5.915000  105.911667   \n",
      "58        Underway Sailing      4.5  out port -5.880972  105.799203   \n",
      "59  Under Way Using Engine      5.0  out port -5.969635  105.785792   \n",
      "60  Under Way Using Engine      4.4  out port -5.880373  105.796580   \n",
      "61  Under Way Using Engine      6.3   in port -5.722517  105.913980   \n",
      "\n",
      "   masuk_pelabuhan keluar_pelabuhan masuk_indo keluar_indo  \n",
      "0                -                -          -           -  \n",
      "1                -                -          -           -  \n",
      "2            masuk                -      masuk           -  \n",
      "3            masuk                -      masuk           -  \n",
      "4                -                -          -           -  \n",
      "..             ...              ...        ...         ...  \n",
      "57               -                -          -           -  \n",
      "58           masuk                -      masuk           -  \n",
      "59           masuk                -      masuk           -  \n",
      "60           masuk                -      masuk           -  \n",
      "61               -                -          -           -  \n",
      "\n",
      "[62 rows x 16 columns]\n"
     ]
    }
   ],
   "source": [
    "print(df_grouped)"
   ]
  },
  {
   "cell_type": "code",
   "execution_count": 9,
   "id": "4fbf0254-f3e2-4d50-9943-20f142007a14",
   "metadata": {},
   "outputs": [
    {
     "name": "stdout",
     "output_type": "stream",
     "text": [
      "Index(['mmsi', 'geojson', 'Port', 'dt_pos_utc', 'fc_vessel', 'sc_vessel',\n",
      "       'vessel_type', 'ns_vessel', 'draught', 'position', 'latitude',\n",
      "       'longitude', 'masuk_pelabuhan', 'keluar_pelabuhan', 'masuk_indo',\n",
      "       'keluar_indo'],\n",
      "      dtype='object')\n"
     ]
    }
   ],
   "source": [
    "# Cetak nama kolom\n",
    "print(df_grouped.columns)"
   ]
  },
  {
   "cell_type": "code",
   "execution_count": 17,
   "id": "945e5b44-dda3-4553-8af6-8f3c6fae288f",
   "metadata": {},
   "outputs": [],
   "source": [
    "df_mmsi_json = df_grouped[['mmsi', 'geojson','dt_pos_utc']]"
   ]
  },
  {
   "cell_type": "code",
   "execution_count": 18,
   "id": "fb6a6d3e-c858-4771-8e4c-fabb1033c9ac",
   "metadata": {},
   "outputs": [
    {
     "name": "stdout",
     "output_type": "stream",
     "text": [
      "         mmsi                                            geojson  \\\n",
      "0   525001068  {\"type\": \"FeatureCollection\", \"features\": [{\"t...   \n",
      "1   525001121  {\"type\": \"FeatureCollection\", \"features\": [{\"t...   \n",
      "2   525001124  {\"type\": \"FeatureCollection\", \"features\": [{\"t...   \n",
      "3   525001125  {\"type\": \"FeatureCollection\", \"features\": [{\"t...   \n",
      "4   525001136  {\"type\": \"FeatureCollection\", \"features\": [{\"t...   \n",
      "..        ...                                                ...   \n",
      "57  525200335  {\"type\": \"FeatureCollection\", \"features\": [{\"t...   \n",
      "58  525200924  {\"type\": \"FeatureCollection\", \"features\": [{\"t...   \n",
      "59  525200925  {\"type\": \"FeatureCollection\", \"features\": [{\"t...   \n",
      "60  525300391  {\"type\": \"FeatureCollection\", \"features\": [{\"t...   \n",
      "61  563165800  {\"type\": \"FeatureCollection\", \"features\": [{\"t...   \n",
      "\n",
      "             dt_pos_utc  \n",
      "0   2024-01-02 13:25:34  \n",
      "1   2024-01-01 01:00:42  \n",
      "2   2024-02-04 13:42:44  \n",
      "3   2024-01-01 01:12:09  \n",
      "4   2024-01-01 00:02:54  \n",
      "..                  ...  \n",
      "57  2024-01-01 00:00:49  \n",
      "58  2024-01-01 00:06:41  \n",
      "59  2024-01-12 04:44:29  \n",
      "60  2024-01-01 01:03:37  \n",
      "61  2024-02-13 23:55:15  \n",
      "\n",
      "[62 rows x 3 columns]\n"
     ]
    }
   ],
   "source": [
    "print(df_mmsi_json)"
   ]
  },
  {
   "cell_type": "code",
   "execution_count": 19,
   "id": "7650076e-b36f-4142-bb2b-4b0e85290107",
   "metadata": {},
   "outputs": [
    {
     "name": "stdout",
     "output_type": "stream",
     "text": [
      "2024-01-02 13:25:34\n"
     ]
    }
   ],
   "source": [
    "# Cetak record pertama (indeks 0) dari kolom terakhir\n",
    "record_pertama_kolom_terakhir = df_mmsi_json.iloc[0, -1]\n",
    "print(record_pertama_kolom_terakhir)"
   ]
  },
  {
   "cell_type": "code",
   "execution_count": 20,
   "id": "7c891769-4008-4056-8604-656580f518ce",
   "metadata": {},
   "outputs": [],
   "source": [
    "df_mmsi_json.to_csv(\"grouped.csv\", index=False)"
   ]
  },
  {
   "cell_type": "code",
   "execution_count": null,
   "id": "cc6725cf-e96a-45f5-bf7f-04cf5431b67b",
   "metadata": {},
   "outputs": [],
   "source": []
  }
 ],
 "metadata": {
  "kernelspec": {
   "display_name": "Python 3 (ipykernel)",
   "language": "python",
   "name": "python3"
  },
  "language_info": {
   "codemirror_mode": {
    "name": "ipython",
    "version": 3
   },
   "file_extension": ".py",
   "mimetype": "text/x-python",
   "name": "python",
   "nbconvert_exporter": "python",
   "pygments_lexer": "ipython3",
   "version": "3.8.8"
  }
 },
 "nbformat": 4,
 "nbformat_minor": 5
}
