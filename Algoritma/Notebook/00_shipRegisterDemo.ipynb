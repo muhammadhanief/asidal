{
 "cells": [
  {
   "cell_type": "markdown",
   "id": "e5b7b90e-370d-4f67-a122-b8c09a095cc0",
   "metadata": {},
   "source": [
    "# Contents\n",
    "\n",
    "- [1. Preparation](#1)\n",
    "- [2. Define Imports and Variables](#2)\n",
    "- [3. Read Most Recent Ship Register](#3)\n",
    "- [4. Read Ship Register from archive](#4)\n",
    "- [5. Spark Stop](#5)"
   ]
  },
  {
   "cell_type": "markdown",
   "id": "38e5d597-74ff-4852-8011-ffa8c1097ebe",
   "metadata": {
    "tags": []
   },
   "source": [
    "# 1. Preparation <a class=\"anchor\" id=\"1\"></a>"
   ]
  },
  {
   "cell_type": "markdown",
   "id": "4fbf7596-a48c-4a84-b3ab-550e7472efce",
   "metadata": {},
   "source": [
    "## 1.1 Kernel\n",
    "- Choose config template *ais-tt* in Ocean Spark.\n",
    "- For advanced users, you may request your own config template as the following configuration is added:\n",
    "    - If thru Ocean Spark config Template, add \"spark.sql.parquet.enableVectorizedReader\": \"false\". The configuration should be requested from \n",
    "    - If thru Jupyter Notebook, add spark.conf.set(\"spark.sql.parquet.enableVectorizedReader\", \"false\")\n",
    "    \n",
    "    \n",
    "- After choosing your kernel, wait for the kernel to turn \"Idle\" (empty circle)"
   ]
  },
  {
   "cell_type": "markdown",
   "id": "3f1b1957-56c8-4e47-9d45-d8cb0a9d65e7",
   "metadata": {},
   "source": [
    "## 1.2 Spark Session\n",
    "A spark session named ```spark``` is already built for you based on the configuration of your chosen template"
   ]
  },
  {
   "cell_type": "code",
   "execution_count": 1,
   "id": "a5d4f096-3e65-4114-bdf2-ef18e6eb9901",
   "metadata": {
    "tags": []
   },
   "outputs": [
    {
     "data": {
      "text/html": [
       "\n",
       "            <div>\n",
       "                <p><b>SparkSession - in-memory</b></p>\n",
       "                \n",
       "        <div>\n",
       "            <p><b>SparkContext</b></p>\n",
       "\n",
       "            <p><a href=\"http://spark-24b0b98b9d947580-driver-svc.spark-apps.svc:4040\">Spark UI</a></p>\n",
       "\n",
       "            <dl>\n",
       "              <dt>Version</dt>\n",
       "                <dd><code>v3.0.2</code></dd>\n",
       "              <dt>Master</dt>\n",
       "                <dd><code>k8s://https://10.100.0.1:443</code></dd>\n",
       "              <dt>AppName</dt>\n",
       "                <dd><code>nb-498b55be-64dd-471a-84f6-55c985e8c645-4f3b2</code></dd>\n",
       "            </dl>\n",
       "        </div>\n",
       "        \n",
       "            </div>\n",
       "        "
      ],
      "text/plain": [
       "<pyspark.sql.session.SparkSession at 0x7f4e943b8250>"
      ]
     },
     "execution_count": 1,
     "metadata": {},
     "output_type": "execute_result"
    }
   ],
   "source": [
    "spark"
   ]
  },
  {
   "cell_type": "markdown",
   "id": "27f8177f-5147-4d2d-80d6-ad8fc05b0ca6",
   "metadata": {},
   "source": [
    "## 1.3 Ship Register Data Structure\n",
    "\n",
    "Please see: https://code.officialstatistics.org/trade-task-team-phase-1/samplecode/-/wikis/4.-Ships-Register-Data"
   ]
  },
  {
   "cell_type": "markdown",
   "id": "0535f349-089c-4bef-b854-56380d8d7fc9",
   "metadata": {
    "tags": []
   },
   "source": [
    "# 2. Define Imports and Variables <a class=\"anchor\" id=\"2\"></a>"
   ]
  },
  {
   "cell_type": "code",
   "execution_count": 2,
   "id": "36856f49",
   "metadata": {
    "tags": []
   },
   "outputs": [],
   "source": [
    "import pyspark.sql.functions as F\n",
    "import pandas as pd"
   ]
  },
  {
   "cell_type": "code",
   "execution_count": 3,
   "id": "840ace69-c691-4532-8995-d40207f6381d",
   "metadata": {
    "tags": []
   },
   "outputs": [],
   "source": [
    "basepath = \"s3a://ungp-ais-data-historical-backup/register/\"\n",
    "basepath_archive = \"s3a://ungp-ais-data-historical-backup/register-archive/\""
   ]
  },
  {
   "cell_type": "markdown",
   "id": "dc8a69ae-bc8c-4358-8aa6-a163b15423ac",
   "metadata": {
    "tags": []
   },
   "source": [
    "# 3. Read Most Recent Ship Register <a class=\"anchor\" id=\"3\"></a>"
   ]
  },
  {
   "cell_type": "markdown",
   "id": "045b1e8c-3ed9-4001-ba66-9fe5d17294bd",
   "metadata": {},
   "source": [
    "## 3.1 Get Version"
   ]
  },
  {
   "cell_type": "code",
   "execution_count": 4,
   "id": "89a634e5-25d6-4025-921d-243ed265a1e5",
   "metadata": {
    "tags": []
   },
   "outputs": [
    {
     "name": "stdout",
     "output_type": "stream",
     "text": [
      "+--------+\n",
      "|     _c0|\n",
      "+--------+\n",
      "|20231030|\n",
      "+--------+\n",
      "\n"
     ]
    }
   ],
   "source": [
    "df = spark.read.load(basepath+\"version.csv\", \n",
    "                     format=\"csv\", sep=\",\", inferSchema=\"true\")\n",
    "df.show()"
   ]
  },
  {
   "cell_type": "markdown",
   "id": "a05d3f4c-24a5-43ec-96af-4bfc6f241748",
   "metadata": {},
   "source": [
    "## 3.2 Read Ship Data (Fact) Table"
   ]
  },
  {
   "cell_type": "code",
   "execution_count": 5,
   "id": "1a5fc0d7",
   "metadata": {
    "tags": []
   },
   "outputs": [],
   "source": [
    "df = spark.read.load(basepath+ \"ShipData.CSV\", \n",
    "                     format=\"csv\", sep=\",\", inferSchema=\"true\", header=\"true\")"
   ]
  },
  {
   "cell_type": "code",
   "execution_count": 7,
   "id": "4a48e676",
   "metadata": {
    "tags": []
   },
   "outputs": [
    {
     "name": "stdout",
     "output_type": "stream",
     "text": [
      "root\n",
      " |-- LRIMOShipNo: integer (nullable = true)\n",
      " |-- StatCode5: string (nullable = true)\n",
      " |-- AlterationsDescriptiveNarrative: string (nullable = true)\n",
      " |-- PropulsionTypeCode: string (nullable = true)\n",
      " |-- ShipName: string (nullable = true)\n",
      " |-- ExName: string (nullable = true)\n",
      " |-- MaritimeMobileServiceIdentityMMSINumber: integer (nullable = true)\n",
      " |-- RegisteredOwnerCode: integer (nullable = true)\n",
      " |-- RegisteredOwnerCountryOfRegistration: string (nullable = true)\n",
      " |-- RegisteredOwnerCountryofDomicile: string (nullable = true)\n",
      " |-- ShipManagerCompanyCode: integer (nullable = true)\n",
      " |-- ShipManagerCountryOfRegistration: string (nullable = true)\n",
      " |-- ShipManagerCountryofDomicileName: string (nullable = true)\n",
      " |-- GroupBeneficialOwnerCompanyCode: integer (nullable = true)\n",
      " |-- GroupBeneficialOwnerCountryOfRegistration: string (nullable = true)\n",
      " |-- GroupBeneficialOwnerCountryofDomicile: string (nullable = true)\n",
      " |-- OperatorCompanyCode: integer (nullable = true)\n",
      " |-- OperatorCountryOfRegistration: string (nullable = true)\n",
      " |-- OperatorCountryofDomicileName: string (nullable = true)\n",
      " |-- FlagCode: string (nullable = true)\n",
      " |-- PortofRegistryCode: integer (nullable = true)\n",
      " |-- Tonnagesystem69convention: string (nullable = true)\n",
      " |-- GrossTonnage: integer (nullable = true)\n",
      " |-- Deadweight: integer (nullable = true)\n",
      " |-- LengthOverallLOA: double (nullable = true)\n",
      " |-- LengthBetweenPerpendicularsLBP: double (nullable = true)\n",
      " |-- LengthRegistered: double (nullable = true)\n",
      " |-- DateOfBuild: integer (nullable = true)\n",
      " |-- ShipbuilderCompanyCode: string (nullable = true)\n",
      " |-- YardNumber: string (nullable = true)\n",
      " |-- NumberofDecks: integer (nullable = true)\n",
      " |-- HoldsDescriptiveNarrative: string (nullable = true)\n",
      " |-- TanksDescriptiveNarrative: string (nullable = true)\n",
      " |-- NumberofHatches: integer (nullable = true)\n",
      " |-- NumberofHolds: integer (nullable = true)\n",
      " |-- NumberofTanks: integer (nullable = true)\n",
      " |-- InsulatedCapacity: integer (nullable = true)\n",
      " |-- TEU: integer (nullable = true)\n",
      " |-- NumberofMainEngines: integer (nullable = true)\n",
      " |-- Powerbhpihpshpmax: integer (nullable = true)\n",
      " |-- Powerkwmax: integer (nullable = true)\n",
      " |-- MainEngineBuilderCode: string (nullable = true)\n",
      " |-- MainEngineDesigner: string (nullable = true)\n",
      " |-- MainEngineModel: string (nullable = true)\n",
      " |-- Speed: double (nullable = true)\n",
      " |-- Speedmax: double (nullable = true)\n",
      " |-- Speedservice: double (nullable = true)\n",
      " |-- FuelConsumptionTotal: double (nullable = true)\n",
      " |-- CallSign: string (nullable = true)\n",
      " |-- OfficialNumber: string (nullable = true)\n",
      " |-- HullMaterialCode: string (nullable = true)\n",
      " |-- DeathDate: integer (nullable = true)\n",
      " |-- DateBreakingCommenced: integer (nullable = true)\n",
      " |-- CompensatedGrossTonnageCGT: integer (nullable = true)\n",
      " |-- HullTypeCode: string (nullable = true)\n",
      " |-- MARPOL13GPhaseoutCategory: integer (nullable = true)\n",
      " |-- PermanentBallastCapacity: integer (nullable = true)\n",
      " |-- SegregatedBallastTanks: string (nullable = true)\n",
      " |-- HeatingCoilsinCargoTanks: string (nullable = true)\n",
      " |-- FlashPointOver60c: string (nullable = true)\n",
      " |-- FlashPointUnder60c: string (nullable = true)\n",
      " |-- ShipStatusCode: string (nullable = true)\n",
      " |-- ShipStatusEffectiveDate: integer (nullable = true)\n",
      " |-- ClassificationSocietyCode: string (nullable = true)\n",
      " |-- AuxiliaryEnginesNarrative: string (nullable = true)\n",
      " |-- BreadthExtreme: double (nullable = true)\n",
      " |-- BreadthMoulded: double (nullable = true)\n",
      " |-- ClassNarrative: string (nullable = true)\n",
      " |-- ClassificationSociety: string (nullable = true)\n",
      " |-- ConstructionDescriptiveNarrative: string (nullable = true)\n",
      " |-- ConsumptionSpeed1: double (nullable = true)\n",
      " |-- ConsumptionSpeed2: double (nullable = true)\n",
      " |-- ConsumptionValue1: double (nullable = true)\n",
      " |-- ConsumptionValue2: double (nullable = true)\n",
      " |-- Depth: double (nullable = true)\n",
      " |-- Displacement: integer (nullable = true)\n",
      " |-- Draught: double (nullable = true)\n",
      " |-- FlagName: string (nullable = true)\n",
      " |-- FuelType1Capacity: double (nullable = true)\n",
      " |-- FuelType1First: string (nullable = true)\n",
      " |-- FuelType2Capacity: double (nullable = true)\n",
      " |-- FuelType2Second: string (nullable = true)\n",
      " |-- IceCapabilityDescriptiveNarrative: string (nullable = true)\n",
      " |-- LightDisplacementTonnage: integer (nullable = true)\n",
      " |-- MainEngineRPM: integer (nullable = true)\n",
      " |-- MainEngineStrokeType: string (nullable = true)\n",
      " |-- MainEngineType: string (nullable = true)\n",
      " |-- NetTonnage: integer (nullable = true)\n",
      " |-- NumberOfAllEngines: integer (nullable = true)\n",
      " |-- NumberOfAuxiliaryEngines: integer (nullable = true)\n",
      " |-- NumberofGenerators: integer (nullable = true)\n",
      " |-- NumberOfPropulsionUnits: integer (nullable = true)\n",
      " |-- NumberofThrusters: integer (nullable = true)\n",
      " |-- Powerbhpihpshpservice: integer (nullable = true)\n",
      " |-- Powerkwservice: integer (nullable = true)\n",
      " |-- PrimeMoverDescriptiveNarrative: string (nullable = true)\n",
      " |-- PropellerType: string (nullable = true)\n",
      " |-- PropulsionType: string (nullable = true)\n",
      " |-- ShipStatus: string (nullable = true)\n",
      " |-- ShiptypeLevel5: string (nullable = true)\n",
      " |-- TotalBunkerCapacity: double (nullable = true)\n",
      " |-- TotalHorsepowerofAuxiliaryGenerators: integer (nullable = true)\n",
      " |-- TotalHorsepowerofMainEngines: integer (nullable = true)\n",
      " |-- TotalHorsepowerofMainGenerators: integer (nullable = true)\n",
      " |-- TotalKilowattsofMainEngines: integer (nullable = true)\n",
      " |-- TotalPowerOfAllEngines: integer (nullable = true)\n",
      " |-- TotalPowerOfAuxiliaryEngines: integer (nullable = true)\n",
      "\n"
     ]
    }
   ],
   "source": [
    "df.printSchema()"
   ]
  },
  {
   "cell_type": "code",
   "execution_count": 6,
   "id": "04f97827",
   "metadata": {
    "tags": []
   },
   "outputs": [
    {
     "data": {
      "text/plain": [
       "254235"
      ]
     },
     "execution_count": 6,
     "metadata": {},
     "output_type": "execute_result"
    }
   ],
   "source": [
    "df.count()"
   ]
  },
  {
   "cell_type": "code",
   "execution_count": 8,
   "id": "0d08357c",
   "metadata": {
    "tags": []
   },
   "outputs": [
    {
     "data": {
      "text/html": [
       "<div>\n",
       "<style scoped>\n",
       "    .dataframe tbody tr th:only-of-type {\n",
       "        vertical-align: middle;\n",
       "    }\n",
       "\n",
       "    .dataframe tbody tr th {\n",
       "        vertical-align: top;\n",
       "    }\n",
       "\n",
       "    .dataframe thead th {\n",
       "        text-align: right;\n",
       "    }\n",
       "</style>\n",
       "<table border=\"1\" class=\"dataframe\">\n",
       "  <thead>\n",
       "    <tr style=\"text-align: right;\">\n",
       "      <th></th>\n",
       "      <th>LRIMOShipNo</th>\n",
       "      <th>StatCode5</th>\n",
       "      <th>AlterationsDescriptiveNarrative</th>\n",
       "      <th>PropulsionTypeCode</th>\n",
       "      <th>ShipName</th>\n",
       "      <th>ExName</th>\n",
       "      <th>MaritimeMobileServiceIdentityMMSINumber</th>\n",
       "      <th>RegisteredOwnerCode</th>\n",
       "      <th>RegisteredOwnerCountryOfRegistration</th>\n",
       "      <th>RegisteredOwnerCountryofDomicile</th>\n",
       "      <th>...</th>\n",
       "      <th>PropulsionType</th>\n",
       "      <th>ShipStatus</th>\n",
       "      <th>ShiptypeLevel5</th>\n",
       "      <th>TotalBunkerCapacity</th>\n",
       "      <th>TotalHorsepowerofAuxiliaryGenerators</th>\n",
       "      <th>TotalHorsepowerofMainEngines</th>\n",
       "      <th>TotalHorsepowerofMainGenerators</th>\n",
       "      <th>TotalKilowattsofMainEngines</th>\n",
       "      <th>TotalPowerOfAllEngines</th>\n",
       "      <th>TotalPowerOfAuxiliaryEngines</th>\n",
       "    </tr>\n",
       "  </thead>\n",
       "  <tbody>\n",
       "    <tr>\n",
       "      <th>0</th>\n",
       "      <td>1000019</td>\n",
       "      <td>X11A2YP</td>\n",
       "      <td>None</td>\n",
       "      <td>DD</td>\n",
       "      <td>LADY K II</td>\n",
       "      <td>Princess Tanya</td>\n",
       "      <td>NaN</td>\n",
       "      <td>5976406</td>\n",
       "      <td>Netherlands</td>\n",
       "      <td>Netherlands</td>\n",
       "      <td>...</td>\n",
       "      <td>Oil Engine(s), Direct Drive</td>\n",
       "      <td>In Service/Commission</td>\n",
       "      <td>Yacht</td>\n",
       "      <td>NaN</td>\n",
       "      <td>700.0</td>\n",
       "      <td>1680.0</td>\n",
       "      <td>NaN</td>\n",
       "      <td>1236.0</td>\n",
       "      <td>1236</td>\n",
       "      <td>NaN</td>\n",
       "    </tr>\n",
       "    <tr>\n",
       "      <th>1</th>\n",
       "      <td>1000021</td>\n",
       "      <td>X11A2YP</td>\n",
       "      <td>None</td>\n",
       "      <td>DG</td>\n",
       "      <td>MONTKAJ</td>\n",
       "      <td>None</td>\n",
       "      <td>NaN</td>\n",
       "      <td>6012336</td>\n",
       "      <td>Cayman Islands</td>\n",
       "      <td>Cayman Islands</td>\n",
       "      <td>...</td>\n",
       "      <td>Oil Engine(s), Geared Drive</td>\n",
       "      <td>In Service/Commission</td>\n",
       "      <td>Yacht</td>\n",
       "      <td>NaN</td>\n",
       "      <td>872.0</td>\n",
       "      <td>5052.0</td>\n",
       "      <td>NaN</td>\n",
       "      <td>3716.0</td>\n",
       "      <td>4466</td>\n",
       "      <td>750.0</td>\n",
       "    </tr>\n",
       "    <tr>\n",
       "      <th>2</th>\n",
       "      <td>1000033</td>\n",
       "      <td>X11A2YP</td>\n",
       "      <td>None</td>\n",
       "      <td>DG</td>\n",
       "      <td>ASTRALIUM</td>\n",
       "      <td>None</td>\n",
       "      <td>234028000.0</td>\n",
       "      <td>3019278</td>\n",
       "      <td>Jersey</td>\n",
       "      <td>Jersey</td>\n",
       "      <td>...</td>\n",
       "      <td>Oil Engine(s), Geared Drive</td>\n",
       "      <td>In Service/Commission</td>\n",
       "      <td>Yacht</td>\n",
       "      <td>NaN</td>\n",
       "      <td>120.0</td>\n",
       "      <td>1034.0</td>\n",
       "      <td>NaN</td>\n",
       "      <td>760.0</td>\n",
       "      <td>850</td>\n",
       "      <td>90.0</td>\n",
       "    </tr>\n",
       "    <tr>\n",
       "      <th>3</th>\n",
       "      <td>1000045</td>\n",
       "      <td>X11A2YP</td>\n",
       "      <td>None</td>\n",
       "      <td>DG</td>\n",
       "      <td>OKTANA</td>\n",
       "      <td>None</td>\n",
       "      <td>239488000.0</td>\n",
       "      <td>5019446</td>\n",
       "      <td>Greece</td>\n",
       "      <td>Greece</td>\n",
       "      <td>...</td>\n",
       "      <td>Oil Engine(s), Geared Drive</td>\n",
       "      <td>In Service/Commission</td>\n",
       "      <td>Yacht</td>\n",
       "      <td>NaN</td>\n",
       "      <td>188.0</td>\n",
       "      <td>4568.0</td>\n",
       "      <td>NaN</td>\n",
       "      <td>3360.0</td>\n",
       "      <td>3510</td>\n",
       "      <td>150.0</td>\n",
       "    </tr>\n",
       "    <tr>\n",
       "      <th>4</th>\n",
       "      <td>1000057</td>\n",
       "      <td>X11A2YP</td>\n",
       "      <td>None</td>\n",
       "      <td>DD</td>\n",
       "      <td>LIMA</td>\n",
       "      <td>None</td>\n",
       "      <td>NaN</td>\n",
       "      <td>3015933</td>\n",
       "      <td>Saudi Arabia</td>\n",
       "      <td>Saudi Arabia</td>\n",
       "      <td>...</td>\n",
       "      <td>Oil Engine(s), Direct Drive</td>\n",
       "      <td>Broken Up</td>\n",
       "      <td>Yacht</td>\n",
       "      <td>NaN</td>\n",
       "      <td>NaN</td>\n",
       "      <td>2196.0</td>\n",
       "      <td>NaN</td>\n",
       "      <td>1616.0</td>\n",
       "      <td>1616</td>\n",
       "      <td>NaN</td>\n",
       "    </tr>\n",
       "  </tbody>\n",
       "</table>\n",
       "<p>5 rows × 107 columns</p>\n",
       "</div>"
      ],
      "text/plain": [
       "   LRIMOShipNo StatCode5 AlterationsDescriptiveNarrative PropulsionTypeCode  \\\n",
       "0      1000019   X11A2YP                            None                 DD   \n",
       "1      1000021   X11A2YP                            None                 DG   \n",
       "2      1000033   X11A2YP                            None                 DG   \n",
       "3      1000045   X11A2YP                            None                 DG   \n",
       "4      1000057   X11A2YP                            None                 DD   \n",
       "\n",
       "    ShipName          ExName  MaritimeMobileServiceIdentityMMSINumber  \\\n",
       "0  LADY K II  Princess Tanya                                      NaN   \n",
       "1    MONTKAJ            None                                      NaN   \n",
       "2  ASTRALIUM            None                              234028000.0   \n",
       "3     OKTANA            None                              239488000.0   \n",
       "4       LIMA            None                                      NaN   \n",
       "\n",
       "   RegisteredOwnerCode RegisteredOwnerCountryOfRegistration  \\\n",
       "0              5976406                          Netherlands   \n",
       "1              6012336                       Cayman Islands   \n",
       "2              3019278                               Jersey   \n",
       "3              5019446                               Greece   \n",
       "4              3015933                         Saudi Arabia   \n",
       "\n",
       "  RegisteredOwnerCountryofDomicile  ...               PropulsionType  \\\n",
       "0                      Netherlands  ...  Oil Engine(s), Direct Drive   \n",
       "1                   Cayman Islands  ...  Oil Engine(s), Geared Drive   \n",
       "2                           Jersey  ...  Oil Engine(s), Geared Drive   \n",
       "3                           Greece  ...  Oil Engine(s), Geared Drive   \n",
       "4                     Saudi Arabia  ...  Oil Engine(s), Direct Drive   \n",
       "\n",
       "              ShipStatus ShiptypeLevel5  TotalBunkerCapacity  \\\n",
       "0  In Service/Commission          Yacht                  NaN   \n",
       "1  In Service/Commission          Yacht                  NaN   \n",
       "2  In Service/Commission          Yacht                  NaN   \n",
       "3  In Service/Commission          Yacht                  NaN   \n",
       "4              Broken Up          Yacht                  NaN   \n",
       "\n",
       "  TotalHorsepowerofAuxiliaryGenerators TotalHorsepowerofMainEngines  \\\n",
       "0                                700.0                       1680.0   \n",
       "1                                872.0                       5052.0   \n",
       "2                                120.0                       1034.0   \n",
       "3                                188.0                       4568.0   \n",
       "4                                  NaN                       2196.0   \n",
       "\n",
       "   TotalHorsepowerofMainGenerators TotalKilowattsofMainEngines  \\\n",
       "0                              NaN                      1236.0   \n",
       "1                              NaN                      3716.0   \n",
       "2                              NaN                       760.0   \n",
       "3                              NaN                      3360.0   \n",
       "4                              NaN                      1616.0   \n",
       "\n",
       "  TotalPowerOfAllEngines TotalPowerOfAuxiliaryEngines  \n",
       "0                   1236                          NaN  \n",
       "1                   4466                        750.0  \n",
       "2                    850                         90.0  \n",
       "3                   3510                        150.0  \n",
       "4                   1616                          NaN  \n",
       "\n",
       "[5 rows x 107 columns]"
      ]
     },
     "execution_count": 8,
     "metadata": {},
     "output_type": "execute_result"
    }
   ],
   "source": [
    "ship_data = df.toPandas()\n",
    "ship_data.head()"
   ]
  },
  {
   "cell_type": "markdown",
   "id": "4721562f-01e6-40f6-9692-64056d86767c",
   "metadata": {},
   "source": [
    "## 3.3 Read Ship Type Codes (Dimension) Table"
   ]
  },
  {
   "cell_type": "code",
   "execution_count": 9,
   "id": "ddb83681",
   "metadata": {
    "tags": []
   },
   "outputs": [],
   "source": [
    "df = spark.read.load(basepath + \"tblShipTypeCodes.CSV\", \n",
    "                     format=\"csv\", sep=\",\", inferSchema=\"true\", header=\"true\")"
   ]
  },
  {
   "cell_type": "code",
   "execution_count": 10,
   "id": "afbc0542",
   "metadata": {
    "tags": []
   },
   "outputs": [
    {
     "name": "stdout",
     "output_type": "stream",
     "text": [
      "root\n",
      " |-- StatCode5: string (nullable = true)\n",
      " |-- ShiptypeLevel5: string (nullable = true)\n",
      " |-- Level4Code: string (nullable = true)\n",
      " |-- ShipTypeLevel4: string (nullable = true)\n",
      " |-- Level3Code: string (nullable = true)\n",
      " |-- ShipTypeLevel3: string (nullable = true)\n",
      " |-- Level2Code: string (nullable = true)\n",
      " |-- ShipTypeLevel2: string (nullable = true)\n",
      " |-- ShipTypeLevel1Code: string (nullable = true)\n",
      " |-- ShiptypeLevel1: string (nullable = true)\n",
      " |-- HullType: string (nullable = true)\n",
      " |-- SubGroup: string (nullable = true)\n",
      " |-- SubType: string (nullable = true)\n",
      "\n"
     ]
    }
   ],
   "source": [
    "df.printSchema()"
   ]
  },
  {
   "cell_type": "code",
   "execution_count": null,
   "id": "bda4883c",
   "metadata": {
    "tags": []
   },
   "outputs": [],
   "source": [
    "df.count()"
   ]
  },
  {
   "cell_type": "code",
   "execution_count": null,
   "id": "90015ba8",
   "metadata": {
    "tags": []
   },
   "outputs": [],
   "source": [
    "ship_type_codes= df.toPandas()\n",
    "ship_type_codes.head()"
   ]
  },
  {
   "cell_type": "markdown",
   "id": "3631e6db-5dc5-4db8-a5fd-443695f27b52",
   "metadata": {
    "tags": []
   },
   "source": [
    "# 4. Read Ship Register from archive <a class=\"anchor\" id=\"4\"></a>"
   ]
  },
  {
   "cell_type": "markdown",
   "id": "8083cbb0-d381-451c-97f2-fecd20866e44",
   "metadata": {},
   "source": [
    "## 4.1 Get Version"
   ]
  },
  {
   "cell_type": "code",
   "execution_count": null,
   "id": "31114e59-d152-4ce0-af75-6bb4d8d1b5d5",
   "metadata": {
    "tags": []
   },
   "outputs": [],
   "source": [
    "df = spark.read.load(basepath_archive+\"versions.csv\", \n",
    "                     format=\"csv\", sep=\",\", inferSchema=\"true\")\n",
    "df.show()"
   ]
  },
  {
   "cell_type": "markdown",
   "id": "87e9728a-430a-4d76-96a7-96393c5bb9bf",
   "metadata": {
    "execution": {
     "iopub.execute_input": "2022-01-12T10:38:31.765619Z",
     "iopub.status.busy": "2022-01-12T10:38:31.765391Z",
     "iopub.status.idle": "2022-01-12T10:38:31.918476Z",
     "shell.execute_reply": "2022-01-12T10:38:31.917090Z",
     "shell.execute_reply.started": "2022-01-12T10:38:31.765591Z"
    }
   },
   "source": [
    "## 4.2 Read Ship Data (Fact) Table from a specific version"
   ]
  },
  {
   "cell_type": "code",
   "execution_count": 15,
   "id": "1ba1e605",
   "metadata": {
    "tags": []
   },
   "outputs": [
    {
     "data": {
      "text/html": [
       "<div>\n",
       "<style scoped>\n",
       "    .dataframe tbody tr th:only-of-type {\n",
       "        vertical-align: middle;\n",
       "    }\n",
       "\n",
       "    .dataframe tbody tr th {\n",
       "        vertical-align: top;\n",
       "    }\n",
       "\n",
       "    .dataframe thead th {\n",
       "        text-align: right;\n",
       "    }\n",
       "</style>\n",
       "<table border=\"1\" class=\"dataframe\">\n",
       "  <thead>\n",
       "    <tr style=\"text-align: right;\">\n",
       "      <th></th>\n",
       "      <th>LRIMOShipNo</th>\n",
       "      <th>StatCode5</th>\n",
       "      <th>AlterationsDescriptiveNarrative</th>\n",
       "      <th>PropulsionTypeCode</th>\n",
       "      <th>ShipName</th>\n",
       "      <th>ExName</th>\n",
       "      <th>MaritimeMobileServiceIdentityMMSINumber</th>\n",
       "      <th>RegisteredOwnerCode</th>\n",
       "      <th>RegisteredOwnerCountryOfRegistration</th>\n",
       "      <th>RegisteredOwnerCountryofDomicile</th>\n",
       "      <th>...</th>\n",
       "      <th>PropulsionType</th>\n",
       "      <th>ShipStatus</th>\n",
       "      <th>ShiptypeLevel5</th>\n",
       "      <th>TotalBunkerCapacity</th>\n",
       "      <th>TotalHorsepowerofAuxiliaryGenerators</th>\n",
       "      <th>TotalHorsepowerofMainEngines</th>\n",
       "      <th>TotalHorsepowerofMainGenerators</th>\n",
       "      <th>TotalKilowattsofMainEngines</th>\n",
       "      <th>TotalPowerOfAllEngines</th>\n",
       "      <th>TotalPowerOfAuxiliaryEngines</th>\n",
       "    </tr>\n",
       "  </thead>\n",
       "  <tbody>\n",
       "    <tr>\n",
       "      <th>0</th>\n",
       "      <td>1000019</td>\n",
       "      <td>X11A2YP</td>\n",
       "      <td>None</td>\n",
       "      <td>DD</td>\n",
       "      <td>LADY K II</td>\n",
       "      <td>Princess Tanya</td>\n",
       "      <td>NaN</td>\n",
       "      <td>5976406</td>\n",
       "      <td>Netherlands</td>\n",
       "      <td>Netherlands</td>\n",
       "      <td>...</td>\n",
       "      <td>Oil Engine(s), Direct Drive</td>\n",
       "      <td>In Service/Commission</td>\n",
       "      <td>Yacht</td>\n",
       "      <td>NaN</td>\n",
       "      <td>700.0</td>\n",
       "      <td>1680.0</td>\n",
       "      <td>NaN</td>\n",
       "      <td>1236.0</td>\n",
       "      <td>1236</td>\n",
       "      <td>NaN</td>\n",
       "    </tr>\n",
       "    <tr>\n",
       "      <th>1</th>\n",
       "      <td>1000021</td>\n",
       "      <td>X11A2YP</td>\n",
       "      <td>None</td>\n",
       "      <td>DG</td>\n",
       "      <td>MONTKAJ</td>\n",
       "      <td>None</td>\n",
       "      <td>NaN</td>\n",
       "      <td>6012336</td>\n",
       "      <td>Cayman Islands</td>\n",
       "      <td>Cayman Islands</td>\n",
       "      <td>...</td>\n",
       "      <td>Oil Engine(s), Geared Drive</td>\n",
       "      <td>In Service/Commission</td>\n",
       "      <td>Yacht</td>\n",
       "      <td>NaN</td>\n",
       "      <td>872.0</td>\n",
       "      <td>5052.0</td>\n",
       "      <td>NaN</td>\n",
       "      <td>3716.0</td>\n",
       "      <td>4466</td>\n",
       "      <td>750.0</td>\n",
       "    </tr>\n",
       "    <tr>\n",
       "      <th>2</th>\n",
       "      <td>1000033</td>\n",
       "      <td>X11A2YP</td>\n",
       "      <td>None</td>\n",
       "      <td>DG</td>\n",
       "      <td>ASTRALIUM</td>\n",
       "      <td>None</td>\n",
       "      <td>234028000.0</td>\n",
       "      <td>3019278</td>\n",
       "      <td>Jersey</td>\n",
       "      <td>Jersey</td>\n",
       "      <td>...</td>\n",
       "      <td>Oil Engine(s), Geared Drive</td>\n",
       "      <td>In Service/Commission</td>\n",
       "      <td>Yacht</td>\n",
       "      <td>NaN</td>\n",
       "      <td>120.0</td>\n",
       "      <td>1034.0</td>\n",
       "      <td>NaN</td>\n",
       "      <td>760.0</td>\n",
       "      <td>850</td>\n",
       "      <td>90.0</td>\n",
       "    </tr>\n",
       "    <tr>\n",
       "      <th>3</th>\n",
       "      <td>1000045</td>\n",
       "      <td>X11A2YP</td>\n",
       "      <td>None</td>\n",
       "      <td>DG</td>\n",
       "      <td>OKTANA</td>\n",
       "      <td>None</td>\n",
       "      <td>239488000.0</td>\n",
       "      <td>5019446</td>\n",
       "      <td>Greece</td>\n",
       "      <td>Greece</td>\n",
       "      <td>...</td>\n",
       "      <td>Oil Engine(s), Geared Drive</td>\n",
       "      <td>In Service/Commission</td>\n",
       "      <td>Yacht</td>\n",
       "      <td>NaN</td>\n",
       "      <td>188.0</td>\n",
       "      <td>4568.0</td>\n",
       "      <td>NaN</td>\n",
       "      <td>3360.0</td>\n",
       "      <td>3510</td>\n",
       "      <td>150.0</td>\n",
       "    </tr>\n",
       "    <tr>\n",
       "      <th>4</th>\n",
       "      <td>1000057</td>\n",
       "      <td>X11A2YP</td>\n",
       "      <td>None</td>\n",
       "      <td>DD</td>\n",
       "      <td>LIMA</td>\n",
       "      <td>None</td>\n",
       "      <td>403070000.0</td>\n",
       "      <td>3015933</td>\n",
       "      <td>Saudi Arabia</td>\n",
       "      <td>Saudi Arabia</td>\n",
       "      <td>...</td>\n",
       "      <td>Oil Engine(s), Direct Drive</td>\n",
       "      <td>Laid-Up</td>\n",
       "      <td>Yacht</td>\n",
       "      <td>NaN</td>\n",
       "      <td>NaN</td>\n",
       "      <td>2196.0</td>\n",
       "      <td>NaN</td>\n",
       "      <td>1616.0</td>\n",
       "      <td>1616</td>\n",
       "      <td>NaN</td>\n",
       "    </tr>\n",
       "  </tbody>\n",
       "</table>\n",
       "<p>5 rows × 107 columns</p>\n",
       "</div>"
      ],
      "text/plain": [
       "   LRIMOShipNo StatCode5 AlterationsDescriptiveNarrative PropulsionTypeCode  \\\n",
       "0      1000019   X11A2YP                            None                 DD   \n",
       "1      1000021   X11A2YP                            None                 DG   \n",
       "2      1000033   X11A2YP                            None                 DG   \n",
       "3      1000045   X11A2YP                            None                 DG   \n",
       "4      1000057   X11A2YP                            None                 DD   \n",
       "\n",
       "    ShipName          ExName  MaritimeMobileServiceIdentityMMSINumber  \\\n",
       "0  LADY K II  Princess Tanya                                      NaN   \n",
       "1    MONTKAJ            None                                      NaN   \n",
       "2  ASTRALIUM            None                              234028000.0   \n",
       "3     OKTANA            None                              239488000.0   \n",
       "4       LIMA            None                              403070000.0   \n",
       "\n",
       "   RegisteredOwnerCode RegisteredOwnerCountryOfRegistration  \\\n",
       "0              5976406                          Netherlands   \n",
       "1              6012336                       Cayman Islands   \n",
       "2              3019278                               Jersey   \n",
       "3              5019446                               Greece   \n",
       "4              3015933                         Saudi Arabia   \n",
       "\n",
       "  RegisteredOwnerCountryofDomicile  ...               PropulsionType  \\\n",
       "0                      Netherlands  ...  Oil Engine(s), Direct Drive   \n",
       "1                   Cayman Islands  ...  Oil Engine(s), Geared Drive   \n",
       "2                           Jersey  ...  Oil Engine(s), Geared Drive   \n",
       "3                           Greece  ...  Oil Engine(s), Geared Drive   \n",
       "4                     Saudi Arabia  ...  Oil Engine(s), Direct Drive   \n",
       "\n",
       "              ShipStatus ShiptypeLevel5  TotalBunkerCapacity  \\\n",
       "0  In Service/Commission          Yacht                  NaN   \n",
       "1  In Service/Commission          Yacht                  NaN   \n",
       "2  In Service/Commission          Yacht                  NaN   \n",
       "3  In Service/Commission          Yacht                  NaN   \n",
       "4                Laid-Up          Yacht                  NaN   \n",
       "\n",
       "  TotalHorsepowerofAuxiliaryGenerators TotalHorsepowerofMainEngines  \\\n",
       "0                                700.0                       1680.0   \n",
       "1                                872.0                       5052.0   \n",
       "2                                120.0                       1034.0   \n",
       "3                                188.0                       4568.0   \n",
       "4                                  NaN                       2196.0   \n",
       "\n",
       "   TotalHorsepowerofMainGenerators TotalKilowattsofMainEngines  \\\n",
       "0                              NaN                      1236.0   \n",
       "1                              NaN                      3716.0   \n",
       "2                              NaN                       760.0   \n",
       "3                              NaN                      3360.0   \n",
       "4                              NaN                      1616.0   \n",
       "\n",
       "  TotalPowerOfAllEngines TotalPowerOfAuxiliaryEngines  \n",
       "0                   1236                          NaN  \n",
       "1                   4466                        750.0  \n",
       "2                    850                         90.0  \n",
       "3                   3510                        150.0  \n",
       "4                   1616                          NaN  \n",
       "\n",
       "[5 rows x 107 columns]"
      ]
     },
     "execution_count": 15,
     "metadata": {},
     "output_type": "execute_result"
    }
   ],
   "source": [
    "#format is yyyy/yyyymmdd\n",
    "basepath_archive_version = basepath_archive + '2021/20210609/'\n",
    "df = spark.read.load(basepath_archive_version+\"/ShipData.CSV\", \n",
    "                     format=\"csv\", sep=\",\", inferSchema=\"true\", header=\"true\")\n",
    "ship_data = df.toPandas()\n",
    "ship_data.head()"
   ]
  },
  {
   "cell_type": "markdown",
   "id": "4283cbfb-0bc8-4165-8d67-887b7d26a6b8",
   "metadata": {},
   "source": [
    "## 4.3 Read Ship Type Codes (Dimensio) Table"
   ]
  },
  {
   "cell_type": "code",
   "execution_count": 16,
   "id": "ba0c3dc2-c6a3-4eb7-8d4e-b07bde49d9c4",
   "metadata": {
    "tags": []
   },
   "outputs": [
    {
     "data": {
      "text/html": [
       "<div>\n",
       "<style scoped>\n",
       "    .dataframe tbody tr th:only-of-type {\n",
       "        vertical-align: middle;\n",
       "    }\n",
       "\n",
       "    .dataframe tbody tr th {\n",
       "        vertical-align: top;\n",
       "    }\n",
       "\n",
       "    .dataframe thead th {\n",
       "        text-align: right;\n",
       "    }\n",
       "</style>\n",
       "<table border=\"1\" class=\"dataframe\">\n",
       "  <thead>\n",
       "    <tr style=\"text-align: right;\">\n",
       "      <th></th>\n",
       "      <th>StatCode5</th>\n",
       "      <th>ShiptypeLevel5</th>\n",
       "      <th>Level4Code</th>\n",
       "      <th>ShipTypeLevel4</th>\n",
       "      <th>Level3Code</th>\n",
       "      <th>ShipTypeLevel3</th>\n",
       "      <th>Level2Code</th>\n",
       "      <th>ShipTypeLevel2</th>\n",
       "      <th>ShipTypeLevel1Code</th>\n",
       "      <th>ShiptypeLevel1</th>\n",
       "      <th>HullType</th>\n",
       "      <th>SubGroup</th>\n",
       "      <th>SubType</th>\n",
       "    </tr>\n",
       "  </thead>\n",
       "  <tbody>\n",
       "    <tr>\n",
       "      <th>0</th>\n",
       "      <td>A11A2TN</td>\n",
       "      <td>LNG Tanker</td>\n",
       "      <td>A11A</td>\n",
       "      <td>LNG Tanker</td>\n",
       "      <td>A11</td>\n",
       "      <td>Liquefied Gas</td>\n",
       "      <td>A1</td>\n",
       "      <td>Tankers</td>\n",
       "      <td>A</td>\n",
       "      <td>Cargo Carrying</td>\n",
       "      <td>Ship Shape Including Multi-Hulls</td>\n",
       "      <td>Petroleum Products</td>\n",
       "      <td>LNG Tanker</td>\n",
       "    </tr>\n",
       "    <tr>\n",
       "      <th>1</th>\n",
       "      <td>A11A2TQ</td>\n",
       "      <td>CNG Tanker</td>\n",
       "      <td>A11A</td>\n",
       "      <td>LNG Tanker</td>\n",
       "      <td>A11</td>\n",
       "      <td>Liquefied Gas</td>\n",
       "      <td>A1</td>\n",
       "      <td>Tankers</td>\n",
       "      <td>A</td>\n",
       "      <td>Cargo Carrying</td>\n",
       "      <td>Ship Shape Including Multi-Hulls</td>\n",
       "      <td>Petroleum Products</td>\n",
       "      <td>CNG Tanker</td>\n",
       "    </tr>\n",
       "    <tr>\n",
       "      <th>2</th>\n",
       "      <td>A11A2TZ</td>\n",
       "      <td>Combination Gas Tanker (LNG/LPG)</td>\n",
       "      <td>A11A</td>\n",
       "      <td>LNG Tanker</td>\n",
       "      <td>A11</td>\n",
       "      <td>Liquefied Gas</td>\n",
       "      <td>A1</td>\n",
       "      <td>Tankers</td>\n",
       "      <td>A</td>\n",
       "      <td>Cargo Carrying</td>\n",
       "      <td>Ship Shape Including Multi-Hulls</td>\n",
       "      <td>Petroleum Products</td>\n",
       "      <td>Combination Gas Tanker</td>\n",
       "    </tr>\n",
       "    <tr>\n",
       "      <th>3</th>\n",
       "      <td>A11B2TG</td>\n",
       "      <td>LPG Tanker</td>\n",
       "      <td>A11B</td>\n",
       "      <td>LPG Tanker</td>\n",
       "      <td>A11</td>\n",
       "      <td>Liquefied Gas</td>\n",
       "      <td>A1</td>\n",
       "      <td>Tankers</td>\n",
       "      <td>A</td>\n",
       "      <td>Cargo Carrying</td>\n",
       "      <td>Ship Shape Including Multi-Hulls</td>\n",
       "      <td>Petroleum Products</td>\n",
       "      <td>LPG Tanker</td>\n",
       "    </tr>\n",
       "    <tr>\n",
       "      <th>4</th>\n",
       "      <td>A11B2TH</td>\n",
       "      <td>LPG/Chemical Tanker</td>\n",
       "      <td>A11B</td>\n",
       "      <td>LPG Tanker</td>\n",
       "      <td>A11</td>\n",
       "      <td>Liquefied Gas</td>\n",
       "      <td>A1</td>\n",
       "      <td>Tankers</td>\n",
       "      <td>A</td>\n",
       "      <td>Cargo Carrying</td>\n",
       "      <td>Ship Shape Including Multi-Hulls</td>\n",
       "      <td>Petroleum Products</td>\n",
       "      <td>LPG/Chemical Tanker</td>\n",
       "    </tr>\n",
       "  </tbody>\n",
       "</table>\n",
       "</div>"
      ],
      "text/plain": [
       "  StatCode5                    ShiptypeLevel5 Level4Code ShipTypeLevel4  \\\n",
       "0   A11A2TN                        LNG Tanker       A11A     LNG Tanker   \n",
       "1   A11A2TQ                        CNG Tanker       A11A     LNG Tanker   \n",
       "2   A11A2TZ  Combination Gas Tanker (LNG/LPG)       A11A     LNG Tanker   \n",
       "3   A11B2TG                        LPG Tanker       A11B     LPG Tanker   \n",
       "4   A11B2TH               LPG/Chemical Tanker       A11B     LPG Tanker   \n",
       "\n",
       "  Level3Code ShipTypeLevel3 Level2Code ShipTypeLevel2 ShipTypeLevel1Code  \\\n",
       "0        A11  Liquefied Gas         A1        Tankers                  A   \n",
       "1        A11  Liquefied Gas         A1        Tankers                  A   \n",
       "2        A11  Liquefied Gas         A1        Tankers                  A   \n",
       "3        A11  Liquefied Gas         A1        Tankers                  A   \n",
       "4        A11  Liquefied Gas         A1        Tankers                  A   \n",
       "\n",
       "   ShiptypeLevel1                          HullType            SubGroup  \\\n",
       "0  Cargo Carrying  Ship Shape Including Multi-Hulls  Petroleum Products   \n",
       "1  Cargo Carrying  Ship Shape Including Multi-Hulls  Petroleum Products   \n",
       "2  Cargo Carrying  Ship Shape Including Multi-Hulls  Petroleum Products   \n",
       "3  Cargo Carrying  Ship Shape Including Multi-Hulls  Petroleum Products   \n",
       "4  Cargo Carrying  Ship Shape Including Multi-Hulls  Petroleum Products   \n",
       "\n",
       "                  SubType  \n",
       "0              LNG Tanker  \n",
       "1              CNG Tanker  \n",
       "2  Combination Gas Tanker  \n",
       "3              LPG Tanker  \n",
       "4     LPG/Chemical Tanker  "
      ]
     },
     "execution_count": 16,
     "metadata": {},
     "output_type": "execute_result"
    }
   ],
   "source": [
    "df = spark.read.load(basepath_archive_version + \"tblShipTypeCodes.CSV\", \n",
    "                     format=\"csv\", sep=\",\", inferSchema=\"true\", header=\"true\")\n",
    "\n",
    "ship_type_codes  = df.toPandas()\n",
    "ship_type_codes.head()"
   ]
  },
  {
   "cell_type": "markdown",
   "id": "6e8cd7d3-140e-4b27-ac38-850d0ee50896",
   "metadata": {
    "tags": []
   },
   "source": [
    "# 5. Spark Stop <a class=\"anchor\" id=\"5\"></a>"
   ]
  },
  {
   "cell_type": "code",
   "execution_count": 20,
   "id": "37aa730b",
   "metadata": {
    "execution": {
     "iopub.execute_input": "2022-07-05T01:04:07.245852Z",
     "iopub.status.busy": "2022-07-05T01:04:07.245593Z",
     "iopub.status.idle": "2022-07-05T01:04:07.704533Z",
     "shell.execute_reply": "2022-07-05T01:04:07.703827Z",
     "shell.execute_reply.started": "2022-07-05T01:04:07.245825Z"
    },
    "tags": []
   },
   "outputs": [],
   "source": [
    "spark.stop()"
   ]
  },
  {
   "cell_type": "code",
   "execution_count": null,
   "id": "e83ba7e4-1f48-42d4-a1eb-1f96fbf3348b",
   "metadata": {},
   "outputs": [],
   "source": []
  }
 ],
 "metadata": {
  "kernelspec": {
   "display_name": "Config template ais-tt",
   "language": "python3",
   "name": "ais-tt"
  },
  "language_info": {
   "codemirror_mode": {
    "name": "ipython",
    "version": 3
   },
   "file_extension": ".py",
   "mimetype": "text/x-python",
   "name": "python",
   "nbconvert_exporter": "python",
   "pygments_lexer": "ipython3",
   "version": "3.8.8"
  }
 },
 "nbformat": 4,
 "nbformat_minor": 5
}
