{
 "cells": [
  {
   "cell_type": "markdown",
   "id": "7ca7edc3-f024-4e97-863c-4b2c09c06d10",
   "metadata": {
    "tags": []
   },
   "source": [
    "## partitioning structure in S3\n",
    "\n",
    "    basepath: s3a://ungp-ais-data-historical-backup/comtrade/tariffline\n",
    "    partition levels:\n",
    "        \n",
    "|level|field|values|\n",
    "|---|---|---|\n",
    "| 1st |typeCode| C for commodity, S for services| \n",
    "| 2nd |freqCode| A for annual, M for monthly |\n",
    "| 3rd |reporterCode| integers representing each country |\n",
    "| 4th |period| date in format yyyy for Annual or yyyymm for Monthly| \n",
    "        \n",
    "Sample\n",
    "1. Read monthly commodities data for all countries from 201901\n",
    "    \n",
    "```python\n",
    "path = \"s3a://ungp-ais-data-historical-backup/comtrade/tariffline/\"\n",
    "df=spark.read.option(\"basepath\" = path) \\\n",
    "             .parquet(path + \"/typeCode=C/freqCode=M/reporterCode=*/period=201901/*\")\n",
    "```\n",
    "\n",
    "2. Read monthly commodities data for all countries from 201901 - 201903\n",
    "\n",
    "```python\n",
    "path = \"s3a://ungp-ais-data-historical-backup/comtrade/tariffline/\"\n",
    "df=spark.read.option(\"basepath\" = path) \\\n",
    "             .parquet([path + \"typeCode=C/freqCode=M/reporterCode=*/period=201901/*\",\n",
    "                       path + \"typeCode=C/freqCode=M/reporterCode=*/period=201902/*\",\n",
    "                       path + \"typeCode=C/freqCode=M/reporterCode=*/period=201903/*\"])\n",
    "```"
   ]
  },
  {
   "cell_type": "code",
   "execution_count": 10,
   "id": "cf1a4aaf",
   "metadata": {},
   "outputs": [],
   "source": [
    "import pyspark.sql.functions as F\n",
    "import pandas as pd\n",
    "import matplotlib.pyplot as plt\n",
    "from pyspark.sql.types import StructType,StructField, StringType, IntegerType, DoubleType, TimestampType\n",
    "import numpy as np"
   ]
  },
  {
   "cell_type": "code",
   "execution_count": 11,
   "id": "6c6f45e7",
   "metadata": {
    "execution": {
     "iopub.execute_input": "2022-01-12T09:05:16.141563Z",
     "iopub.status.busy": "2022-01-12T09:05:16.141288Z",
     "iopub.status.idle": "2022-01-12T09:10:38.190624Z",
     "shell.execute_reply": "2022-01-12T09:10:38.189694Z",
     "shell.execute_reply.started": "2022-01-12T09:05:16.141532Z"
    },
    "tags": []
   },
   "outputs": [],
   "source": [
    "df=spark.read.parquet(\"s3a://ungp-ais-data-historical-backup/comtrade/tariffline/typeCode=C/freqCode=M/\")"
   ]
  },
  {
   "cell_type": "code",
   "execution_count": 12,
   "id": "695946cb-c18b-467a-8f4d-0e63b9ad97ee",
   "metadata": {
    "execution": {
     "iopub.execute_input": "2022-01-12T10:00:57.231329Z",
     "iopub.status.busy": "2022-01-12T10:00:57.231044Z",
     "iopub.status.idle": "2022-01-12T10:00:57.234589Z",
     "shell.execute_reply": "2022-01-12T10:00:57.233875Z",
     "shell.execute_reply.started": "2022-01-12T10:00:57.231298Z"
    },
    "tags": []
   },
   "outputs": [],
   "source": [
    "#alternative to read a much smaller dataset\n",
    "# path = \"s3a://ungp-ais-data-historical-backup/comtrade/tariffline/\"\n",
    "# paths = [path + \"typeCode=C/freqCode=M/reporterCode=*/period=2018*\", \n",
    "#          path + \"typeCode=C/freqCode=M/reporterCode=*/period=2019*\", \n",
    "#          path + \"typeCode=C/freqCode=M/reporterCode=*/period=2020*\", \n",
    "#          path + \"typeCode=C/freqCode=M/reporterCode=*/period=2021*\"] \n",
    "\n",
    "# df=spark.read.option(\"basepath\",path).parquet(*paths)"
   ]
  },
  {
   "cell_type": "code",
   "execution_count": 13,
   "id": "6847efb7",
   "metadata": {
    "execution": {
     "iopub.execute_input": "2022-01-12T09:42:17.748810Z",
     "iopub.status.busy": "2022-01-12T09:42:17.748531Z",
     "iopub.status.idle": "2022-01-12T09:42:17.781808Z",
     "shell.execute_reply": "2022-01-12T09:42:17.780920Z",
     "shell.execute_reply.started": "2022-01-12T09:42:17.748780Z"
    },
    "tags": []
   },
   "outputs": [
    {
     "name": "stdout",
     "output_type": "stream",
     "text": [
      "root\n",
      " |-- datasetCode: long (nullable = true)\n",
      " |-- refPeriodId: integer (nullable = true)\n",
      " |-- flowCategory: string (nullable = true)\n",
      " |-- flowCode: string (nullable = true)\n",
      " |-- partnerCode: integer (nullable = true)\n",
      " |-- partner2Code: integer (nullable = true)\n",
      " |-- classificationCode: string (nullable = true)\n",
      " |-- cmdCode: string (nullable = true)\n",
      " |-- customsCode: string (nullable = true)\n",
      " |-- mosCode: integer (nullable = true)\n",
      " |-- motCode: integer (nullable = true)\n",
      " |-- qtyUnitCode: integer (nullable = true)\n",
      " |-- qty: double (nullable = true)\n",
      " |-- altQtyUnitCode: integer (nullable = true)\n",
      " |-- altQty: double (nullable = true)\n",
      " |-- netWgt: double (nullable = true)\n",
      " |-- grossWgt: double (nullable = true)\n",
      " |-- cifValue: double (nullable = true)\n",
      " |-- fobValue: double (nullable = true)\n",
      " |-- primaryValue: double (nullable = true)\n",
      " |-- reporterCode: integer (nullable = true)\n",
      " |-- period: integer (nullable = true)\n",
      "\n"
     ]
    }
   ],
   "source": [
    "df.printSchema()"
   ]
  },
  {
   "cell_type": "code",
   "execution_count": 14,
   "id": "f3724cab",
   "metadata": {
    "execution": {
     "iopub.execute_input": "2022-01-12T09:10:59.723787Z",
     "iopub.status.busy": "2022-01-12T09:10:59.723528Z",
     "iopub.status.idle": "2022-01-12T09:15:31.385947Z",
     "shell.execute_reply": "2022-01-12T09:15:31.384989Z",
     "shell.execute_reply.started": "2022-01-12T09:10:59.723760Z"
    }
   },
   "outputs": [
    {
     "data": {
      "text/plain": [
       "1959723416"
      ]
     },
     "execution_count": 14,
     "metadata": {},
     "output_type": "execute_result"
    }
   ],
   "source": [
    "#it's around 3 bil records for annual and monthly merchandise trade tariff line data\n",
    "#skip this if not necessary\n",
    "#df.count()"
   ]
  },
  {
   "cell_type": "code",
   "execution_count": 15,
   "id": "3ac23c13",
   "metadata": {},
   "outputs": [],
   "source": [
    "#df.show()"
   ]
  },
  {
   "cell_type": "code",
   "execution_count": 16,
   "id": "563e2dda",
   "metadata": {
    "execution": {
     "iopub.execute_input": "2022-01-12T10:01:15.430854Z",
     "iopub.status.busy": "2022-01-12T10:01:15.430583Z",
     "iopub.status.idle": "2022-01-12T10:01:15.435076Z",
     "shell.execute_reply": "2022-01-12T10:01:15.434342Z",
     "shell.execute_reply.started": "2022-01-12T10:01:15.430824Z"
    },
    "tags": []
   },
   "outputs": [],
   "source": [
    "#query string - show exports of \"commodity code\" in in 2018-01 - 2021-09 \n",
    "Commodity_code = '3006' #pharmaceutical goods\n",
    "Commodity_code = '2709' #crude oil\n",
    "Commodity_code = '1006' #rice\n",
    "Commodity_code = '6309' #secondhand/ worn clothing\n",
    "Commodity_code = '7108' #non-monetary gold\n",
    "Commodity_code = '0901' #coffee\n",
    "\n",
    "SQLQueries = \"select  motCode, cmdCode, period, flowCategory, primaryValue, netWgt, primaryValue/netWgt as UVnetWgt \" \\\n",
    "          \", qtyUnitCode, qty, altQtyUnitCode, altQty from dfa \" \\\n",
    "          \"WHERE period between 201801 and 202109 and cmdCode like '\" +Commodity_code+ \"%' and flowCategory='X'\""
   ]
  },
  {
   "cell_type": "code",
   "execution_count": 17,
   "id": "fca74e4e",
   "metadata": {
    "execution": {
     "iopub.execute_input": "2022-01-12T10:01:16.495782Z",
     "iopub.status.busy": "2022-01-12T10:01:16.495523Z",
     "iopub.status.idle": "2022-01-12T10:06:19.895058Z",
     "shell.execute_reply": "2022-01-12T10:06:19.894086Z",
     "shell.execute_reply.started": "2022-01-12T10:01:16.495753Z"
    },
    "tags": []
   },
   "outputs": [],
   "source": [
    "#filter the data and convert to pandas - for easiness\n",
    "df.createOrReplaceTempView(\"dfa\")\n",
    "pysparkDF = spark.sql(SQLQueries)\n",
    "panDForig = pysparkDF.toPandas()"
   ]
  },
  {
   "cell_type": "code",
   "execution_count": 18,
   "id": "e23f9a4c",
   "metadata": {
    "execution": {
     "iopub.execute_input": "2022-01-12T10:06:19.896679Z",
     "iopub.status.busy": "2022-01-12T10:06:19.896442Z",
     "iopub.status.idle": "2022-01-12T10:06:20.378271Z",
     "shell.execute_reply": "2022-01-12T10:06:20.377569Z",
     "shell.execute_reply.started": "2022-01-12T10:06:19.896650Z"
    },
    "tags": []
   },
   "outputs": [
    {
     "name": "stdout",
     "output_type": "stream",
     "text": [
      "<class 'pandas.core.frame.DataFrame'>\n",
      "RangeIndex: 299762 entries, 0 to 299761\n",
      "Data columns (total 11 columns):\n",
      " #   Column          Non-Null Count   Dtype  \n",
      "---  ------          --------------   -----  \n",
      " 0   motCode         299762 non-null  string \n",
      " 1   cmdCode         299762 non-null  object \n",
      " 2   period          299762 non-null  string \n",
      " 3   flowCategory    299762 non-null  object \n",
      " 4   primaryValue    299730 non-null  float64\n",
      " 5   netWgt          293399 non-null  float64\n",
      " 6   UVnetWgt        250540 non-null  float64\n",
      " 7   qtyUnitCode     299762 non-null  int32  \n",
      " 8   qty             299762 non-null  float64\n",
      " 9   altQtyUnitCode  299762 non-null  int32  \n",
      " 10  altQty          227485 non-null  float64\n",
      "dtypes: float64(5), int32(2), object(2), string(2)\n",
      "memory usage: 22.9+ MB\n",
      "None\n"
     ]
    }
   ],
   "source": [
    "#convert period to string for better viz\n",
    "panDForig['period'] = panDForig['period'].astype('string')\n",
    "panDForig['motCode'] = panDForig['motCode'].astype('string')\n",
    "print(panDForig.info())"
   ]
  },
  {
   "cell_type": "code",
   "execution_count": 19,
   "id": "edba4bac",
   "metadata": {
    "execution": {
     "iopub.execute_input": "2022-01-12T09:23:54.450910Z",
     "iopub.status.busy": "2022-01-12T09:23:54.450621Z",
     "iopub.status.idle": "2022-01-12T09:23:54.470488Z",
     "shell.execute_reply": "2022-01-12T09:23:54.469672Z",
     "shell.execute_reply.started": "2022-01-12T09:23:54.450880Z"
    }
   },
   "outputs": [
    {
     "data": {
      "text/html": [
       "<div>\n",
       "<style scoped>\n",
       "    .dataframe tbody tr th:only-of-type {\n",
       "        vertical-align: middle;\n",
       "    }\n",
       "\n",
       "    .dataframe tbody tr th {\n",
       "        vertical-align: top;\n",
       "    }\n",
       "\n",
       "    .dataframe thead th {\n",
       "        text-align: right;\n",
       "    }\n",
       "</style>\n",
       "<table border=\"1\" class=\"dataframe\">\n",
       "  <thead>\n",
       "    <tr style=\"text-align: right;\">\n",
       "      <th></th>\n",
       "      <th>motCode</th>\n",
       "      <th>cmdCode</th>\n",
       "      <th>period</th>\n",
       "      <th>flowCategory</th>\n",
       "      <th>primaryValue</th>\n",
       "      <th>netWgt</th>\n",
       "      <th>UVnetWgt</th>\n",
       "      <th>qtyUnitCode</th>\n",
       "      <th>qty</th>\n",
       "      <th>altQtyUnitCode</th>\n",
       "      <th>altQty</th>\n",
       "    </tr>\n",
       "  </thead>\n",
       "  <tbody>\n",
       "    <tr>\n",
       "      <th>0</th>\n",
       "      <td>3200</td>\n",
       "      <td>09012100</td>\n",
       "      <td>201905</td>\n",
       "      <td>X</td>\n",
       "      <td>371.552080</td>\n",
       "      <td>44.0</td>\n",
       "      <td>8.444365</td>\n",
       "      <td>8</td>\n",
       "      <td>44.0</td>\n",
       "      <td>8</td>\n",
       "      <td>44.0</td>\n",
       "    </tr>\n",
       "    <tr>\n",
       "      <th>1</th>\n",
       "      <td>3200</td>\n",
       "      <td>09011100</td>\n",
       "      <td>201905</td>\n",
       "      <td>X</td>\n",
       "      <td>221.454882</td>\n",
       "      <td>792.0</td>\n",
       "      <td>0.279615</td>\n",
       "      <td>8</td>\n",
       "      <td>792.0</td>\n",
       "      <td>8</td>\n",
       "      <td>792.0</td>\n",
       "    </tr>\n",
       "    <tr>\n",
       "      <th>2</th>\n",
       "      <td>3200</td>\n",
       "      <td>09011100</td>\n",
       "      <td>201905</td>\n",
       "      <td>X</td>\n",
       "      <td>6710.754000</td>\n",
       "      <td>1200.0</td>\n",
       "      <td>5.592295</td>\n",
       "      <td>8</td>\n",
       "      <td>1200.0</td>\n",
       "      <td>8</td>\n",
       "      <td>1200.0</td>\n",
       "    </tr>\n",
       "    <tr>\n",
       "      <th>3</th>\n",
       "      <td>3200</td>\n",
       "      <td>09011100</td>\n",
       "      <td>201905</td>\n",
       "      <td>X</td>\n",
       "      <td>1342.150800</td>\n",
       "      <td>240.0</td>\n",
       "      <td>5.592295</td>\n",
       "      <td>8</td>\n",
       "      <td>240.0</td>\n",
       "      <td>8</td>\n",
       "      <td>240.0</td>\n",
       "    </tr>\n",
       "    <tr>\n",
       "      <th>4</th>\n",
       "      <td>3200</td>\n",
       "      <td>09011100</td>\n",
       "      <td>201905</td>\n",
       "      <td>X</td>\n",
       "      <td>3366.561590</td>\n",
       "      <td>860.0</td>\n",
       "      <td>3.914607</td>\n",
       "      <td>8</td>\n",
       "      <td>860.0</td>\n",
       "      <td>8</td>\n",
       "      <td>860.0</td>\n",
       "    </tr>\n",
       "  </tbody>\n",
       "</table>\n",
       "</div>"
      ],
      "text/plain": [
       "  motCode   cmdCode  period flowCategory  primaryValue  netWgt  UVnetWgt  \\\n",
       "0    3200  09012100  201905            X    371.552080    44.0  8.444365   \n",
       "1    3200  09011100  201905            X    221.454882   792.0  0.279615   \n",
       "2    3200  09011100  201905            X   6710.754000  1200.0  5.592295   \n",
       "3    3200  09011100  201905            X   1342.150800   240.0  5.592295   \n",
       "4    3200  09011100  201905            X   3366.561590   860.0  3.914607   \n",
       "\n",
       "   qtyUnitCode     qty  altQtyUnitCode  altQty  \n",
       "0            8    44.0               8    44.0  \n",
       "1            8   792.0               8   792.0  \n",
       "2            8  1200.0               8  1200.0  \n",
       "3            8   240.0               8   240.0  \n",
       "4            8   860.0               8   860.0  "
      ]
     },
     "execution_count": 19,
     "metadata": {},
     "output_type": "execute_result"
    }
   ],
   "source": [
    "#show some records\n",
    "panDForig.head()"
   ]
  },
  {
   "cell_type": "code",
   "execution_count": 20,
   "id": "aff68eb4",
   "metadata": {
    "execution": {
     "iopub.execute_input": "2022-01-12T09:23:56.376662Z",
     "iopub.status.busy": "2022-01-12T09:23:56.376371Z",
     "iopub.status.idle": "2022-01-12T09:23:56.466606Z",
     "shell.execute_reply": "2022-01-12T09:23:56.465754Z",
     "shell.execute_reply.started": "2022-01-12T09:23:56.376632Z"
    }
   },
   "outputs": [
    {
     "data": {
      "text/html": [
       "<div>\n",
       "<style scoped>\n",
       "    .dataframe tbody tr th:only-of-type {\n",
       "        vertical-align: middle;\n",
       "    }\n",
       "\n",
       "    .dataframe tbody tr th {\n",
       "        vertical-align: top;\n",
       "    }\n",
       "\n",
       "    .dataframe thead th {\n",
       "        text-align: right;\n",
       "    }\n",
       "</style>\n",
       "<table border=\"1\" class=\"dataframe\">\n",
       "  <thead>\n",
       "    <tr style=\"text-align: right;\">\n",
       "      <th></th>\n",
       "      <th>primaryValue</th>\n",
       "      <th>netWgt</th>\n",
       "      <th>UVnetWgt</th>\n",
       "    </tr>\n",
       "  </thead>\n",
       "  <tbody>\n",
       "    <tr>\n",
       "      <th>count</th>\n",
       "      <td>2.997300e+05</td>\n",
       "      <td>2.933990e+05</td>\n",
       "      <td>250540.000000</td>\n",
       "    </tr>\n",
       "    <tr>\n",
       "      <th>mean</th>\n",
       "      <td>3.240883e+05</td>\n",
       "      <td>8.419909e+04</td>\n",
       "      <td>52.323437</td>\n",
       "    </tr>\n",
       "    <tr>\n",
       "      <th>std</th>\n",
       "      <td>2.095854e+06</td>\n",
       "      <td>7.154595e+05</td>\n",
       "      <td>4017.448159</td>\n",
       "    </tr>\n",
       "    <tr>\n",
       "      <th>min</th>\n",
       "      <td>0.000000e+00</td>\n",
       "      <td>0.000000e+00</td>\n",
       "      <td>0.000000</td>\n",
       "    </tr>\n",
       "    <tr>\n",
       "      <th>25%</th>\n",
       "      <td>4.268923e+02</td>\n",
       "      <td>1.300000e+01</td>\n",
       "      <td>4.708830</td>\n",
       "    </tr>\n",
       "    <tr>\n",
       "      <th>50%</th>\n",
       "      <td>7.158931e+03</td>\n",
       "      <td>4.886000e+02</td>\n",
       "      <td>8.532727</td>\n",
       "    </tr>\n",
       "    <tr>\n",
       "      <th>75%</th>\n",
       "      <td>7.064251e+04</td>\n",
       "      <td>9.569245e+03</td>\n",
       "      <td>15.185792</td>\n",
       "    </tr>\n",
       "    <tr>\n",
       "      <th>max</th>\n",
       "      <td>1.384282e+08</td>\n",
       "      <td>4.141020e+07</td>\n",
       "      <td>842722.776940</td>\n",
       "    </tr>\n",
       "  </tbody>\n",
       "</table>\n",
       "</div>"
      ],
      "text/plain": [
       "       primaryValue        netWgt       UVnetWgt\n",
       "count  2.997300e+05  2.933990e+05  250540.000000\n",
       "mean   3.240883e+05  8.419909e+04      52.323437\n",
       "std    2.095854e+06  7.154595e+05    4017.448159\n",
       "min    0.000000e+00  0.000000e+00       0.000000\n",
       "25%    4.268923e+02  1.300000e+01       4.708830\n",
       "50%    7.158931e+03  4.886000e+02       8.532727\n",
       "75%    7.064251e+04  9.569245e+03      15.185792\n",
       "max    1.384282e+08  4.141020e+07  842722.776940"
      ]
     },
     "execution_count": 20,
     "metadata": {},
     "output_type": "execute_result"
    }
   ],
   "source": [
    "#some descriptive stats\n",
    "panDForig[['primaryValue','netWgt','UVnetWgt']].describe()"
   ]
  },
  {
   "cell_type": "code",
   "execution_count": 21,
   "id": "98d03696",
   "metadata": {
    "execution": {
     "iopub.execute_input": "2022-01-12T09:23:57.864332Z",
     "iopub.status.busy": "2022-01-12T09:23:57.864044Z",
     "iopub.status.idle": "2022-01-12T09:23:58.067253Z",
     "shell.execute_reply": "2022-01-12T09:23:58.066436Z",
     "shell.execute_reply.started": "2022-01-12T09:23:57.864303Z"
    }
   },
   "outputs": [
    {
     "data": {
      "text/plain": [
       "Text(0.5, 1.0, 'Unit Value Distribution')"
      ]
     },
     "execution_count": 21,
     "metadata": {},
     "output_type": "execute_result"
    },
    {
     "data": {
      "image/png": "[encoded data removed]",
      "text/plain": [
       "<Figure size 432x288 with 1 Axes>"
      ]
     },
     "metadata": {
      "needs_background": "light"
     },
     "output_type": "display_data"
    }
   ],
   "source": [
    "# This is what we want\n",
    "panDForig.hist(\"UVnetWgt\");\n",
    "plt.xlabel('Unit Value ($/kg)')\n",
    "plt.ylabel('# of trade data')\n",
    "plt.title('Unit Value Distribution')\n",
    "# But some have NaN and outliers"
   ]
  },
  {
   "cell_type": "code",
   "execution_count": 22,
   "id": "ca2aece1",
   "metadata": {
    "execution": {
     "iopub.execute_input": "2022-01-12T09:23:59.387222Z",
     "iopub.status.busy": "2022-01-12T09:23:59.386936Z",
     "iopub.status.idle": "2022-01-12T09:24:00.047550Z",
     "shell.execute_reply": "2022-01-12T09:24:00.046775Z",
     "shell.execute_reply.started": "2022-01-12T09:23:59.387193Z"
    }
   },
   "outputs": [
    {
     "data": {
      "text/plain": [
       "Text(0.5, 1.0, 'Unit Value Distribution')"
      ]
     },
     "execution_count": 22,
     "metadata": {},
     "output_type": "execute_result"
    },
    {
     "data": {
      "image/png": "[encoded data removed]",
      "text/plain": [
       "<Figure size 432x288 with 1 Axes>"
      ]
     },
     "metadata": {
      "needs_background": "light"
     },
     "output_type": "display_data"
    }
   ],
   "source": [
    "# This is what we want - in log scale (more suited for trade data with long distribution tail)\n",
    "panDForig.hist(\"UVnetWgt\", log=True);\n",
    "plt.xlabel('(log) Unit Value ($/kg)')\n",
    "plt.ylabel('# of trade data')\n",
    "plt.title('Unit Value Distribution')\n",
    "# But some have NaN and outliers"
   ]
  },
  {
   "cell_type": "code",
   "execution_count": 23,
   "id": "795b726a",
   "metadata": {
    "execution": {
     "iopub.execute_input": "2022-01-12T09:24:02.468850Z",
     "iopub.status.busy": "2022-01-12T09:24:02.468578Z",
     "iopub.status.idle": "2022-01-12T09:24:02.595209Z",
     "shell.execute_reply": "2022-01-12T09:24:02.594504Z",
     "shell.execute_reply.started": "2022-01-12T09:24:02.468821Z"
    }
   },
   "outputs": [
    {
     "data": {
      "text/html": [
       "<div>\n",
       "<style scoped>\n",
       "    .dataframe tbody tr th:only-of-type {\n",
       "        vertical-align: middle;\n",
       "    }\n",
       "\n",
       "    .dataframe tbody tr th {\n",
       "        vertical-align: top;\n",
       "    }\n",
       "\n",
       "    .dataframe thead th {\n",
       "        text-align: right;\n",
       "    }\n",
       "</style>\n",
       "<table border=\"1\" class=\"dataframe\">\n",
       "  <thead>\n",
       "    <tr style=\"text-align: right;\">\n",
       "      <th></th>\n",
       "      <th>UVnetWgt</th>\n",
       "    </tr>\n",
       "  </thead>\n",
       "  <tbody>\n",
       "    <tr>\n",
       "      <th>count</th>\n",
       "      <td>2.504720e+05</td>\n",
       "    </tr>\n",
       "    <tr>\n",
       "      <th>mean</th>\n",
       "      <td>5.233764e+01</td>\n",
       "    </tr>\n",
       "    <tr>\n",
       "      <th>std</th>\n",
       "      <td>4.017993e+03</td>\n",
       "    </tr>\n",
       "    <tr>\n",
       "      <th>min</th>\n",
       "      <td>1.553390e-07</td>\n",
       "    </tr>\n",
       "    <tr>\n",
       "      <th>25%</th>\n",
       "      <td>4.711598e+00</td>\n",
       "    </tr>\n",
       "    <tr>\n",
       "      <th>50%</th>\n",
       "      <td>8.535103e+00</td>\n",
       "    </tr>\n",
       "    <tr>\n",
       "      <th>75%</th>\n",
       "      <td>1.518838e+01</td>\n",
       "    </tr>\n",
       "    <tr>\n",
       "      <th>max</th>\n",
       "      <td>8.427228e+05</td>\n",
       "    </tr>\n",
       "  </tbody>\n",
       "</table>\n",
       "</div>"
      ],
      "text/plain": [
       "           UVnetWgt\n",
       "count  2.504720e+05\n",
       "mean   5.233764e+01\n",
       "std    4.017993e+03\n",
       "min    1.553390e-07\n",
       "25%    4.711598e+00\n",
       "50%    8.535103e+00\n",
       "75%    1.518838e+01\n",
       "max    8.427228e+05"
      ]
     },
     "execution_count": 23,
     "metadata": {},
     "output_type": "execute_result"
    }
   ],
   "source": [
    "#remove UVnetWgt NaN and zero\n",
    "panDF = panDForig[[\"motCode\",\"period\",\"UVnetWgt\"]]\n",
    "panDF = panDF[panDF.notnull()].query('UVnetWgt>0')\n",
    "panDF.describe()\n",
    "#print(panDF)"
   ]
  },
  {
   "cell_type": "code",
   "execution_count": 24,
   "id": "8c46d795",
   "metadata": {
    "execution": {
     "iopub.execute_input": "2022-01-12T09:24:03.628210Z",
     "iopub.status.busy": "2022-01-12T09:24:03.627942Z",
     "iopub.status.idle": "2022-01-12T09:24:03.673465Z",
     "shell.execute_reply": "2022-01-12T09:24:03.672775Z",
     "shell.execute_reply.started": "2022-01-12T09:24:03.628182Z"
    }
   },
   "outputs": [
    {
     "data": {
      "text/html": [
       "<div>\n",
       "<style scoped>\n",
       "    .dataframe tbody tr th:only-of-type {\n",
       "        vertical-align: middle;\n",
       "    }\n",
       "\n",
       "    .dataframe tbody tr th {\n",
       "        vertical-align: top;\n",
       "    }\n",
       "\n",
       "    .dataframe thead th {\n",
       "        text-align: right;\n",
       "    }\n",
       "</style>\n",
       "<table border=\"1\" class=\"dataframe\">\n",
       "  <thead>\n",
       "    <tr style=\"text-align: right;\">\n",
       "      <th></th>\n",
       "      <th>UVnetWgt</th>\n",
       "      <th>UVnetWgtLog</th>\n",
       "    </tr>\n",
       "  </thead>\n",
       "  <tbody>\n",
       "    <tr>\n",
       "      <th>count</th>\n",
       "      <td>2.504720e+05</td>\n",
       "      <td>250472.000000</td>\n",
       "    </tr>\n",
       "    <tr>\n",
       "      <th>mean</th>\n",
       "      <td>5.233764e+01</td>\n",
       "      <td>2.122063</td>\n",
       "    </tr>\n",
       "    <tr>\n",
       "      <th>std</th>\n",
       "      <td>4.017993e+03</td>\n",
       "      <td>1.050599</td>\n",
       "    </tr>\n",
       "    <tr>\n",
       "      <th>min</th>\n",
       "      <td>1.553390e-07</td>\n",
       "      <td>-15.677656</td>\n",
       "    </tr>\n",
       "    <tr>\n",
       "      <th>25%</th>\n",
       "      <td>4.711598e+00</td>\n",
       "      <td>1.550027</td>\n",
       "    </tr>\n",
       "    <tr>\n",
       "      <th>50%</th>\n",
       "      <td>8.535103e+00</td>\n",
       "      <td>2.144187</td>\n",
       "    </tr>\n",
       "    <tr>\n",
       "      <th>75%</th>\n",
       "      <td>1.518838e+01</td>\n",
       "      <td>2.720531</td>\n",
       "    </tr>\n",
       "    <tr>\n",
       "      <th>max</th>\n",
       "      <td>8.427228e+05</td>\n",
       "      <td>13.644393</td>\n",
       "    </tr>\n",
       "  </tbody>\n",
       "</table>\n",
       "</div>"
      ],
      "text/plain": [
       "           UVnetWgt    UVnetWgtLog\n",
       "count  2.504720e+05  250472.000000\n",
       "mean   5.233764e+01       2.122063\n",
       "std    4.017993e+03       1.050599\n",
       "min    1.553390e-07     -15.677656\n",
       "25%    4.711598e+00       1.550027\n",
       "50%    8.535103e+00       2.144187\n",
       "75%    1.518838e+01       2.720531\n",
       "max    8.427228e+05      13.644393"
      ]
     },
     "execution_count": 24,
     "metadata": {},
     "output_type": "execute_result"
    }
   ],
   "source": [
    "#add log UVnetWgtLog\n",
    "panDF.loc[:,'UVnetWgtLog'] = np.log(panDF['UVnetWgt'])\n",
    "panDF.describe()"
   ]
  },
  {
   "cell_type": "code",
   "execution_count": 25,
   "id": "9541ddcd",
   "metadata": {
    "execution": {
     "iopub.execute_input": "2022-01-12T09:24:05.538989Z",
     "iopub.status.busy": "2022-01-12T09:24:05.538721Z",
     "iopub.status.idle": "2022-01-12T09:24:05.804726Z",
     "shell.execute_reply": "2022-01-12T09:24:05.803676Z",
     "shell.execute_reply.started": "2022-01-12T09:24:05.538960Z"
    },
    "scrolled": true
   },
   "outputs": [],
   "source": [
    "#remove outliers based on zcores (if more than 3 standard deviation)\n",
    "from scipy.stats import zscore\n",
    "#calculate z-scores of `df`\n",
    "z_scores = zscore(panDF['UVnetWgtLog'], axis=0)\n",
    "#print(z_scores)\n",
    "abs_z_scores = np.abs(z_scores)\n",
    "#print(abs_z_scores)\n",
    "filtered_entries = (abs_z_scores < 3)\n",
    "#print(filtered_entries)\n",
    "new_panDF = panDF[filtered_entries]"
   ]
  },
  {
   "cell_type": "code",
   "execution_count": 26,
   "id": "cf57e526",
   "metadata": {
    "execution": {
     "iopub.execute_input": "2022-01-12T09:24:05.880538Z",
     "iopub.status.busy": "2022-01-12T09:24:05.880263Z",
     "iopub.status.idle": "2022-01-12T09:24:05.918824Z",
     "shell.execute_reply": "2022-01-12T09:24:05.918147Z",
     "shell.execute_reply.started": "2022-01-12T09:24:05.880508Z"
    }
   },
   "outputs": [
    {
     "data": {
      "text/html": [
       "<div>\n",
       "<style scoped>\n",
       "    .dataframe tbody tr th:only-of-type {\n",
       "        vertical-align: middle;\n",
       "    }\n",
       "\n",
       "    .dataframe tbody tr th {\n",
       "        vertical-align: top;\n",
       "    }\n",
       "\n",
       "    .dataframe thead th {\n",
       "        text-align: right;\n",
       "    }\n",
       "</style>\n",
       "<table border=\"1\" class=\"dataframe\">\n",
       "  <thead>\n",
       "    <tr style=\"text-align: right;\">\n",
       "      <th></th>\n",
       "      <th>UVnetWgt</th>\n",
       "      <th>UVnetWgtLog</th>\n",
       "    </tr>\n",
       "  </thead>\n",
       "  <tbody>\n",
       "    <tr>\n",
       "      <th>count</th>\n",
       "      <td>2.504720e+05</td>\n",
       "      <td>250472.000000</td>\n",
       "    </tr>\n",
       "    <tr>\n",
       "      <th>mean</th>\n",
       "      <td>5.233764e+01</td>\n",
       "      <td>2.122063</td>\n",
       "    </tr>\n",
       "    <tr>\n",
       "      <th>std</th>\n",
       "      <td>4.017993e+03</td>\n",
       "      <td>1.050599</td>\n",
       "    </tr>\n",
       "    <tr>\n",
       "      <th>min</th>\n",
       "      <td>1.553390e-07</td>\n",
       "      <td>-15.677656</td>\n",
       "    </tr>\n",
       "    <tr>\n",
       "      <th>25%</th>\n",
       "      <td>4.711598e+00</td>\n",
       "      <td>1.550027</td>\n",
       "    </tr>\n",
       "    <tr>\n",
       "      <th>50%</th>\n",
       "      <td>8.535103e+00</td>\n",
       "      <td>2.144187</td>\n",
       "    </tr>\n",
       "    <tr>\n",
       "      <th>75%</th>\n",
       "      <td>1.518838e+01</td>\n",
       "      <td>2.720531</td>\n",
       "    </tr>\n",
       "    <tr>\n",
       "      <th>max</th>\n",
       "      <td>8.427228e+05</td>\n",
       "      <td>13.644393</td>\n",
       "    </tr>\n",
       "  </tbody>\n",
       "</table>\n",
       "</div>"
      ],
      "text/plain": [
       "           UVnetWgt    UVnetWgtLog\n",
       "count  2.504720e+05  250472.000000\n",
       "mean   5.233764e+01       2.122063\n",
       "std    4.017993e+03       1.050599\n",
       "min    1.553390e-07     -15.677656\n",
       "25%    4.711598e+00       1.550027\n",
       "50%    8.535103e+00       2.144187\n",
       "75%    1.518838e+01       2.720531\n",
       "max    8.427228e+05      13.644393"
      ]
     },
     "execution_count": 26,
     "metadata": {},
     "output_type": "execute_result"
    }
   ],
   "source": [
    "#descriptive statistics before outliers removal\n",
    "panDF.describe()"
   ]
  },
  {
   "cell_type": "code",
   "execution_count": 27,
   "id": "e91ff289",
   "metadata": {
    "execution": {
     "iopub.execute_input": "2022-01-12T09:24:06.530643Z",
     "iopub.status.busy": "2022-01-12T09:24:06.530375Z",
     "iopub.status.idle": "2022-01-12T09:24:06.843801Z",
     "shell.execute_reply": "2022-01-12T09:24:06.842833Z",
     "shell.execute_reply.started": "2022-01-12T09:24:06.530614Z"
    }
   },
   "outputs": [
    {
     "data": {
      "text/plain": [
       "array([[<AxesSubplot:title={'center':'UVnetWgt'}>,\n",
       "        <AxesSubplot:title={'center':'UVnetWgtLog'}>]], dtype=object)"
      ]
     },
     "execution_count": 27,
     "metadata": {},
     "output_type": "execute_result"
    },
    {
     "data": {
      "image/png": "[encoded data removed]",
      "text/plain": [
       "<Figure size 432x288 with 2 Axes>"
      ]
     },
     "metadata": {
      "needs_background": "light"
     },
     "output_type": "display_data"
    }
   ],
   "source": [
    "#histogram statistics before outliers removal\n",
    "panDF.hist(column=['UVnetWgt','UVnetWgtLog'])"
   ]
  },
  {
   "cell_type": "code",
   "execution_count": 28,
   "id": "04ba6f3d",
   "metadata": {
    "execution": {
     "iopub.execute_input": "2022-01-12T09:24:07.513852Z",
     "iopub.status.busy": "2022-01-12T09:24:07.513541Z",
     "iopub.status.idle": "2022-01-12T09:24:07.552349Z",
     "shell.execute_reply": "2022-01-12T09:24:07.551316Z",
     "shell.execute_reply.started": "2022-01-12T09:24:07.513820Z"
    }
   },
   "outputs": [
    {
     "data": {
      "text/html": [
       "<div>\n",
       "<style scoped>\n",
       "    .dataframe tbody tr th:only-of-type {\n",
       "        vertical-align: middle;\n",
       "    }\n",
       "\n",
       "    .dataframe tbody tr th {\n",
       "        vertical-align: top;\n",
       "    }\n",
       "\n",
       "    .dataframe thead th {\n",
       "        text-align: right;\n",
       "    }\n",
       "</style>\n",
       "<table border=\"1\" class=\"dataframe\">\n",
       "  <thead>\n",
       "    <tr style=\"text-align: right;\">\n",
       "      <th></th>\n",
       "      <th>UVnetWgt</th>\n",
       "      <th>UVnetWgtLog</th>\n",
       "    </tr>\n",
       "  </thead>\n",
       "  <tbody>\n",
       "    <tr>\n",
       "      <th>count</th>\n",
       "      <td>248259.000000</td>\n",
       "      <td>248259.000000</td>\n",
       "    </tr>\n",
       "    <tr>\n",
       "      <th>mean</th>\n",
       "      <td>12.799806</td>\n",
       "      <td>2.139226</td>\n",
       "    </tr>\n",
       "    <tr>\n",
       "      <th>std</th>\n",
       "      <td>14.439578</td>\n",
       "      <td>0.903285</td>\n",
       "    </tr>\n",
       "    <tr>\n",
       "      <th>min</th>\n",
       "      <td>0.357317</td>\n",
       "      <td>-1.029132</td>\n",
       "    </tr>\n",
       "    <tr>\n",
       "      <th>25%</th>\n",
       "      <td>4.760169</td>\n",
       "      <td>1.560283</td>\n",
       "    </tr>\n",
       "    <tr>\n",
       "      <th>50%</th>\n",
       "      <td>8.555295</td>\n",
       "      <td>2.146550</td>\n",
       "    </tr>\n",
       "    <tr>\n",
       "      <th>75%</th>\n",
       "      <td>15.139597</td>\n",
       "      <td>2.717314</td>\n",
       "    </tr>\n",
       "    <tr>\n",
       "      <th>max</th>\n",
       "      <td>195.161250</td>\n",
       "      <td>5.273826</td>\n",
       "    </tr>\n",
       "  </tbody>\n",
       "</table>\n",
       "</div>"
      ],
      "text/plain": [
       "            UVnetWgt    UVnetWgtLog\n",
       "count  248259.000000  248259.000000\n",
       "mean       12.799806       2.139226\n",
       "std        14.439578       0.903285\n",
       "min         0.357317      -1.029132\n",
       "25%         4.760169       1.560283\n",
       "50%         8.555295       2.146550\n",
       "75%        15.139597       2.717314\n",
       "max       195.161250       5.273826"
      ]
     },
     "execution_count": 28,
     "metadata": {},
     "output_type": "execute_result"
    }
   ],
   "source": [
    "#descriptive statistics after outliers removal\n",
    "new_panDF.describe()"
   ]
  },
  {
   "cell_type": "code",
   "execution_count": 29,
   "id": "c83df15f",
   "metadata": {
    "execution": {
     "iopub.execute_input": "2022-01-12T09:24:09.410695Z",
     "iopub.status.busy": "2022-01-12T09:24:09.410397Z",
     "iopub.status.idle": "2022-01-12T09:24:09.718440Z",
     "shell.execute_reply": "2022-01-12T09:24:09.717731Z",
     "shell.execute_reply.started": "2022-01-12T09:24:09.410664Z"
    }
   },
   "outputs": [
    {
     "data": {
      "text/plain": [
       "array([[<AxesSubplot:title={'center':'UVnetWgt'}>,\n",
       "        <AxesSubplot:title={'center':'UVnetWgtLog'}>]], dtype=object)"
      ]
     },
     "execution_count": 29,
     "metadata": {},
     "output_type": "execute_result"
    },
    {
     "data": {
      "image/png": "[encoded data removed]",
      "text/plain": [
       "<Figure size 432x288 with 2 Axes>"
      ]
     },
     "metadata": {
      "needs_background": "light"
     },
     "output_type": "display_data"
    }
   ],
   "source": [
    "#histogram statistics after outliers removal\n",
    "new_panDF.hist(column=['UVnetWgt','UVnetWgtLog'])"
   ]
  },
  {
   "cell_type": "code",
   "execution_count": 30,
   "id": "3cb6f690",
   "metadata": {
    "execution": {
     "iopub.execute_input": "2022-01-12T09:24:09.802190Z",
     "iopub.status.busy": "2022-01-12T09:24:09.801914Z",
     "iopub.status.idle": "2022-01-12T09:24:09.991278Z",
     "shell.execute_reply": "2022-01-12T09:24:09.990584Z",
     "shell.execute_reply.started": "2022-01-12T09:24:09.802160Z"
    }
   },
   "outputs": [
    {
     "data": {
      "text/plain": [
       "<AxesSubplot:xlabel='period'>"
      ]
     },
     "execution_count": 30,
     "metadata": {},
     "output_type": "execute_result"
    },
    {
     "data": {
      "image/png": "[encoded data removed]",
      "text/plain": [
       "<Figure size 432x288 with 1 Axes>"
      ]
     },
     "metadata": {
      "needs_background": "light"
     },
     "output_type": "display_data"
    }
   ],
   "source": [
    "#plot median in timeseries before outliers removal\n",
    "panDF[['period','UVnetWgt']].groupby(\"period\").median().plot()"
   ]
  },
  {
   "cell_type": "code",
   "execution_count": 31,
   "id": "272db885",
   "metadata": {
    "execution": {
     "iopub.execute_input": "2022-01-12T09:24:10.232932Z",
     "iopub.status.busy": "2022-01-12T09:24:10.232655Z",
     "iopub.status.idle": "2022-01-12T09:24:10.423090Z",
     "shell.execute_reply": "2022-01-12T09:24:10.422211Z",
     "shell.execute_reply.started": "2022-01-12T09:24:10.232902Z"
    }
   },
   "outputs": [
    {
     "data": {
      "text/plain": [
       "<AxesSubplot:xlabel='period'>"
      ]
     },
     "execution_count": 31,
     "metadata": {},
     "output_type": "execute_result"
    },
    {
     "data": {
      "image/png": "[encoded data removed]",
      "text/plain": [
       "<Figure size 432x288 with 1 Axes>"
      ]
     },
     "metadata": {
      "needs_background": "light"
     },
     "output_type": "display_data"
    }
   ],
   "source": [
    "#plot median in timeseries after outliers removal\n",
    "new_panDF[['period','UVnetWgt']].groupby(\"period\").median().plot()"
   ]
  },
  {
   "cell_type": "code",
   "execution_count": 32,
   "id": "f9fe229d",
   "metadata": {
    "execution": {
     "iopub.execute_input": "2022-01-12T09:24:10.699320Z",
     "iopub.status.busy": "2022-01-12T09:24:10.699026Z",
     "iopub.status.idle": "2022-01-12T09:24:11.057620Z",
     "shell.execute_reply": "2022-01-12T09:24:11.056728Z",
     "shell.execute_reply.started": "2022-01-12T09:24:10.699289Z"
    }
   },
   "outputs": [
    {
     "data": {
      "text/plain": [
       "<AxesSubplot:xlabel='motCode'>"
      ]
     },
     "execution_count": 32,
     "metadata": {},
     "output_type": "execute_result"
    },
    {
     "data": {
      "image/png": "[encoded data removed]",
      "text/plain": [
       "<Figure size 432x288 with 1 Axes>"
      ]
     },
     "metadata": {
      "needs_background": "light"
     },
     "output_type": "display_data"
    }
   ],
   "source": [
    "#plot median by mode of transport before outliers removal\n",
    "panDF[['motCode','UVnetWgt']].groupby(\"motCode\").median().sort_values(by='UVnetWgt').plot.bar(y='UVnetWgt', rot=0)"
   ]
  },
  {
   "cell_type": "code",
   "execution_count": 33,
   "id": "76bc62cd",
   "metadata": {
    "execution": {
     "iopub.execute_input": "2022-01-12T09:24:12.530188Z",
     "iopub.status.busy": "2022-01-12T09:24:12.529880Z",
     "iopub.status.idle": "2022-01-12T09:24:12.786348Z",
     "shell.execute_reply": "2022-01-12T09:24:12.785655Z",
     "shell.execute_reply.started": "2022-01-12T09:24:12.530155Z"
    }
   },
   "outputs": [
    {
     "data": {
      "text/plain": [
       "<AxesSubplot:xlabel='motCode'>"
      ]
     },
     "execution_count": 33,
     "metadata": {},
     "output_type": "execute_result"
    },
    {
     "data": {
      "image/png": "[encoded data removed]",
      "text/plain": [
       "<Figure size 432x288 with 1 Axes>"
      ]
     },
     "metadata": {
      "needs_background": "light"
     },
     "output_type": "display_data"
    }
   ],
   "source": [
    "#plot median in mode of transport  after outliers removal\n",
    "new_panDF[['motCode','UVnetWgt']].groupby(\"motCode\").median().sort_values(by='UVnetWgt').plot.bar(y='UVnetWgt', rot=0)"
   ]
  },
  {
   "cell_type": "code",
   "execution_count": 34,
   "id": "af7043d3",
   "metadata": {
    "execution": {
     "iopub.execute_input": "2022-01-12T09:24:12.860325Z",
     "iopub.status.busy": "2022-01-12T09:24:12.860053Z",
     "iopub.status.idle": "2022-01-12T09:24:13.137614Z",
     "shell.execute_reply": "2022-01-12T09:24:13.136906Z",
     "shell.execute_reply.started": "2022-01-12T09:24:12.860296Z"
    }
   },
   "outputs": [
    {
     "data": {
      "text/html": [
       "<div>\n",
       "<style scoped>\n",
       "    .dataframe tbody tr th:only-of-type {\n",
       "        vertical-align: middle;\n",
       "    }\n",
       "\n",
       "    .dataframe tbody tr th {\n",
       "        vertical-align: top;\n",
       "    }\n",
       "\n",
       "    .dataframe thead tr th {\n",
       "        text-align: left;\n",
       "    }\n",
       "\n",
       "    .dataframe thead tr:last-of-type th {\n",
       "        text-align: right;\n",
       "    }\n",
       "</style>\n",
       "<table border=\"1\" class=\"dataframe\">\n",
       "  <thead>\n",
       "    <tr>\n",
       "      <th></th>\n",
       "      <th colspan=\"8\" halign=\"left\">UVnetWgt</th>\n",
       "    </tr>\n",
       "    <tr>\n",
       "      <th></th>\n",
       "      <th>count</th>\n",
       "      <th>mean</th>\n",
       "      <th>std</th>\n",
       "      <th>min</th>\n",
       "      <th>25%</th>\n",
       "      <th>50%</th>\n",
       "      <th>75%</th>\n",
       "      <th>max</th>\n",
       "    </tr>\n",
       "    <tr>\n",
       "      <th>period</th>\n",
       "      <th></th>\n",
       "      <th></th>\n",
       "      <th></th>\n",
       "      <th></th>\n",
       "      <th></th>\n",
       "      <th></th>\n",
       "      <th></th>\n",
       "      <th></th>\n",
       "    </tr>\n",
       "  </thead>\n",
       "  <tbody>\n",
       "    <tr>\n",
       "      <th>201801</th>\n",
       "      <td>4757.0</td>\n",
       "      <td>12.873556</td>\n",
       "      <td>14.509500</td>\n",
       "      <td>0.357735</td>\n",
       "      <td>4.844096</td>\n",
       "      <td>8.654020</td>\n",
       "      <td>15.038736</td>\n",
       "      <td>183.039034</td>\n",
       "    </tr>\n",
       "    <tr>\n",
       "      <th>201802</th>\n",
       "      <td>4910.0</td>\n",
       "      <td>13.345174</td>\n",
       "      <td>16.035370</td>\n",
       "      <td>0.370370</td>\n",
       "      <td>4.837019</td>\n",
       "      <td>8.845219</td>\n",
       "      <td>15.244339</td>\n",
       "      <td>194.206198</td>\n",
       "    </tr>\n",
       "    <tr>\n",
       "      <th>201803</th>\n",
       "      <td>4949.0</td>\n",
       "      <td>12.766561</td>\n",
       "      <td>13.364446</td>\n",
       "      <td>0.373824</td>\n",
       "      <td>5.032334</td>\n",
       "      <td>9.121191</td>\n",
       "      <td>15.240802</td>\n",
       "      <td>166.424557</td>\n",
       "    </tr>\n",
       "    <tr>\n",
       "      <th>201804</th>\n",
       "      <td>4791.0</td>\n",
       "      <td>12.832146</td>\n",
       "      <td>13.784669</td>\n",
       "      <td>0.374280</td>\n",
       "      <td>5.053716</td>\n",
       "      <td>8.966518</td>\n",
       "      <td>15.388772</td>\n",
       "      <td>166.431683</td>\n",
       "    </tr>\n",
       "    <tr>\n",
       "      <th>201805</th>\n",
       "      <td>4832.0</td>\n",
       "      <td>12.380494</td>\n",
       "      <td>13.285493</td>\n",
       "      <td>0.360150</td>\n",
       "      <td>4.782349</td>\n",
       "      <td>8.733865</td>\n",
       "      <td>14.712387</td>\n",
       "      <td>162.702688</td>\n",
       "    </tr>\n",
       "    <tr>\n",
       "      <th>201806</th>\n",
       "      <td>4642.0</td>\n",
       "      <td>12.644592</td>\n",
       "      <td>13.853775</td>\n",
       "      <td>0.381629</td>\n",
       "      <td>4.704969</td>\n",
       "      <td>8.583770</td>\n",
       "      <td>14.919898</td>\n",
       "      <td>172.000000</td>\n",
       "    </tr>\n",
       "    <tr>\n",
       "      <th>201807</th>\n",
       "      <td>4770.0</td>\n",
       "      <td>12.592884</td>\n",
       "      <td>12.738618</td>\n",
       "      <td>0.360278</td>\n",
       "      <td>5.000260</td>\n",
       "      <td>8.901543</td>\n",
       "      <td>15.222927</td>\n",
       "      <td>166.326890</td>\n",
       "    </tr>\n",
       "    <tr>\n",
       "      <th>201808</th>\n",
       "      <td>4746.0</td>\n",
       "      <td>12.048609</td>\n",
       "      <td>13.336379</td>\n",
       "      <td>0.375491</td>\n",
       "      <td>4.765555</td>\n",
       "      <td>8.365725</td>\n",
       "      <td>13.951910</td>\n",
       "      <td>169.557522</td>\n",
       "    </tr>\n",
       "    <tr>\n",
       "      <th>201809</th>\n",
       "      <td>4974.0</td>\n",
       "      <td>12.404415</td>\n",
       "      <td>13.675620</td>\n",
       "      <td>0.363506</td>\n",
       "      <td>4.714572</td>\n",
       "      <td>8.547817</td>\n",
       "      <td>14.607328</td>\n",
       "      <td>163.221800</td>\n",
       "    </tr>\n",
       "    <tr>\n",
       "      <th>201810</th>\n",
       "      <td>5427.0</td>\n",
       "      <td>12.412152</td>\n",
       "      <td>13.984492</td>\n",
       "      <td>0.368066</td>\n",
       "      <td>4.650986</td>\n",
       "      <td>8.500144</td>\n",
       "      <td>14.816898</td>\n",
       "      <td>195.161250</td>\n",
       "    </tr>\n",
       "    <tr>\n",
       "      <th>201811</th>\n",
       "      <td>5550.0</td>\n",
       "      <td>12.619177</td>\n",
       "      <td>14.675383</td>\n",
       "      <td>0.363636</td>\n",
       "      <td>4.694431</td>\n",
       "      <td>8.525145</td>\n",
       "      <td>14.591478</td>\n",
       "      <td>178.032144</td>\n",
       "    </tr>\n",
       "    <tr>\n",
       "      <th>201812</th>\n",
       "      <td>5228.0</td>\n",
       "      <td>12.526157</td>\n",
       "      <td>14.669580</td>\n",
       "      <td>0.362746</td>\n",
       "      <td>4.589919</td>\n",
       "      <td>8.462399</td>\n",
       "      <td>14.714112</td>\n",
       "      <td>193.000000</td>\n",
       "    </tr>\n",
       "    <tr>\n",
       "      <th>201901</th>\n",
       "      <td>6190.0</td>\n",
       "      <td>12.744597</td>\n",
       "      <td>14.386147</td>\n",
       "      <td>0.358957</td>\n",
       "      <td>4.714977</td>\n",
       "      <td>8.499995</td>\n",
       "      <td>15.122129</td>\n",
       "      <td>190.047115</td>\n",
       "    </tr>\n",
       "    <tr>\n",
       "      <th>201902</th>\n",
       "      <td>6048.0</td>\n",
       "      <td>12.352393</td>\n",
       "      <td>13.230645</td>\n",
       "      <td>0.357317</td>\n",
       "      <td>4.599304</td>\n",
       "      <td>8.526478</td>\n",
       "      <td>14.741213</td>\n",
       "      <td>152.797830</td>\n",
       "    </tr>\n",
       "    <tr>\n",
       "      <th>201903</th>\n",
       "      <td>6247.0</td>\n",
       "      <td>12.337749</td>\n",
       "      <td>12.937744</td>\n",
       "      <td>0.363636</td>\n",
       "      <td>4.677869</td>\n",
       "      <td>8.290000</td>\n",
       "      <td>14.995289</td>\n",
       "      <td>177.138889</td>\n",
       "    </tr>\n",
       "    <tr>\n",
       "      <th>201904</th>\n",
       "      <td>6169.0</td>\n",
       "      <td>12.605388</td>\n",
       "      <td>13.848553</td>\n",
       "      <td>0.377113</td>\n",
       "      <td>4.918209</td>\n",
       "      <td>8.659878</td>\n",
       "      <td>14.849658</td>\n",
       "      <td>191.607559</td>\n",
       "    </tr>\n",
       "    <tr>\n",
       "      <th>201905</th>\n",
       "      <td>6402.0</td>\n",
       "      <td>12.321370</td>\n",
       "      <td>13.344059</td>\n",
       "      <td>0.360793</td>\n",
       "      <td>4.756058</td>\n",
       "      <td>8.333957</td>\n",
       "      <td>14.714655</td>\n",
       "      <td>183.147661</td>\n",
       "    </tr>\n",
       "    <tr>\n",
       "      <th>201906</th>\n",
       "      <td>5968.0</td>\n",
       "      <td>12.535403</td>\n",
       "      <td>13.675704</td>\n",
       "      <td>0.383218</td>\n",
       "      <td>4.694290</td>\n",
       "      <td>8.212873</td>\n",
       "      <td>15.057867</td>\n",
       "      <td>166.837770</td>\n",
       "    </tr>\n",
       "    <tr>\n",
       "      <th>201907</th>\n",
       "      <td>6407.0</td>\n",
       "      <td>12.367137</td>\n",
       "      <td>13.579834</td>\n",
       "      <td>0.431593</td>\n",
       "      <td>4.765610</td>\n",
       "      <td>8.377066</td>\n",
       "      <td>14.673584</td>\n",
       "      <td>191.120571</td>\n",
       "    </tr>\n",
       "    <tr>\n",
       "      <th>201908</th>\n",
       "      <td>6401.0</td>\n",
       "      <td>11.719184</td>\n",
       "      <td>12.610256</td>\n",
       "      <td>0.410449</td>\n",
       "      <td>4.431390</td>\n",
       "      <td>8.079338</td>\n",
       "      <td>14.207391</td>\n",
       "      <td>190.203814</td>\n",
       "    </tr>\n",
       "    <tr>\n",
       "      <th>201909</th>\n",
       "      <td>6366.0</td>\n",
       "      <td>12.683454</td>\n",
       "      <td>14.088505</td>\n",
       "      <td>0.365875</td>\n",
       "      <td>4.668397</td>\n",
       "      <td>8.448504</td>\n",
       "      <td>15.043480</td>\n",
       "      <td>184.692640</td>\n",
       "    </tr>\n",
       "    <tr>\n",
       "      <th>201910</th>\n",
       "      <td>6805.0</td>\n",
       "      <td>12.425151</td>\n",
       "      <td>13.394920</td>\n",
       "      <td>0.374869</td>\n",
       "      <td>4.842095</td>\n",
       "      <td>8.498741</td>\n",
       "      <td>15.054998</td>\n",
       "      <td>194.361710</td>\n",
       "    </tr>\n",
       "    <tr>\n",
       "      <th>201911</th>\n",
       "      <td>6503.0</td>\n",
       "      <td>12.569176</td>\n",
       "      <td>13.384036</td>\n",
       "      <td>0.368365</td>\n",
       "      <td>4.754620</td>\n",
       "      <td>8.717178</td>\n",
       "      <td>15.283487</td>\n",
       "      <td>190.628887</td>\n",
       "    </tr>\n",
       "    <tr>\n",
       "      <th>201912</th>\n",
       "      <td>6649.0</td>\n",
       "      <td>12.938646</td>\n",
       "      <td>14.088148</td>\n",
       "      <td>0.370448</td>\n",
       "      <td>4.896141</td>\n",
       "      <td>8.959964</td>\n",
       "      <td>15.717594</td>\n",
       "      <td>185.777778</td>\n",
       "    </tr>\n",
       "    <tr>\n",
       "      <th>202001</th>\n",
       "      <td>5684.0</td>\n",
       "      <td>11.960637</td>\n",
       "      <td>13.674381</td>\n",
       "      <td>0.400000</td>\n",
       "      <td>4.576314</td>\n",
       "      <td>7.990977</td>\n",
       "      <td>13.940463</td>\n",
       "      <td>185.559480</td>\n",
       "    </tr>\n",
       "    <tr>\n",
       "      <th>202002</th>\n",
       "      <td>5705.0</td>\n",
       "      <td>11.774334</td>\n",
       "      <td>14.160483</td>\n",
       "      <td>0.363500</td>\n",
       "      <td>4.161138</td>\n",
       "      <td>7.666667</td>\n",
       "      <td>13.718134</td>\n",
       "      <td>186.551835</td>\n",
       "    </tr>\n",
       "    <tr>\n",
       "      <th>202003</th>\n",
       "      <td>6061.0</td>\n",
       "      <td>11.182526</td>\n",
       "      <td>12.297174</td>\n",
       "      <td>0.390443</td>\n",
       "      <td>4.006815</td>\n",
       "      <td>7.227416</td>\n",
       "      <td>13.358552</td>\n",
       "      <td>161.315068</td>\n",
       "    </tr>\n",
       "    <tr>\n",
       "      <th>202004</th>\n",
       "      <td>5101.0</td>\n",
       "      <td>11.937739</td>\n",
       "      <td>13.513384</td>\n",
       "      <td>0.375408</td>\n",
       "      <td>4.261508</td>\n",
       "      <td>7.934858</td>\n",
       "      <td>14.174779</td>\n",
       "      <td>188.714933</td>\n",
       "    </tr>\n",
       "    <tr>\n",
       "      <th>202005</th>\n",
       "      <td>5385.0</td>\n",
       "      <td>12.211328</td>\n",
       "      <td>14.468248</td>\n",
       "      <td>0.398667</td>\n",
       "      <td>4.348712</td>\n",
       "      <td>8.041000</td>\n",
       "      <td>14.390442</td>\n",
       "      <td>190.527998</td>\n",
       "    </tr>\n",
       "    <tr>\n",
       "      <th>202006</th>\n",
       "      <td>5655.0</td>\n",
       "      <td>12.525202</td>\n",
       "      <td>15.085385</td>\n",
       "      <td>0.411800</td>\n",
       "      <td>4.399858</td>\n",
       "      <td>7.941176</td>\n",
       "      <td>14.582145</td>\n",
       "      <td>187.951653</td>\n",
       "    </tr>\n",
       "    <tr>\n",
       "      <th>202007</th>\n",
       "      <td>6062.0</td>\n",
       "      <td>12.404635</td>\n",
       "      <td>14.659710</td>\n",
       "      <td>0.384438</td>\n",
       "      <td>4.314668</td>\n",
       "      <td>8.000000</td>\n",
       "      <td>14.687714</td>\n",
       "      <td>183.883018</td>\n",
       "    </tr>\n",
       "    <tr>\n",
       "      <th>202008</th>\n",
       "      <td>5509.0</td>\n",
       "      <td>12.457013</td>\n",
       "      <td>14.006813</td>\n",
       "      <td>0.370931</td>\n",
       "      <td>4.266616</td>\n",
       "      <td>8.120016</td>\n",
       "      <td>15.050225</td>\n",
       "      <td>144.302698</td>\n",
       "    </tr>\n",
       "    <tr>\n",
       "      <th>202009</th>\n",
       "      <td>6116.0</td>\n",
       "      <td>12.775613</td>\n",
       "      <td>15.205515</td>\n",
       "      <td>0.433088</td>\n",
       "      <td>4.564438</td>\n",
       "      <td>8.254687</td>\n",
       "      <td>14.937053</td>\n",
       "      <td>192.805903</td>\n",
       "    </tr>\n",
       "    <tr>\n",
       "      <th>202010</th>\n",
       "      <td>6242.0</td>\n",
       "      <td>13.027782</td>\n",
       "      <td>14.836077</td>\n",
       "      <td>0.399951</td>\n",
       "      <td>4.530946</td>\n",
       "      <td>8.567416</td>\n",
       "      <td>15.592447</td>\n",
       "      <td>186.502325</td>\n",
       "    </tr>\n",
       "    <tr>\n",
       "      <th>202011</th>\n",
       "      <td>6204.0</td>\n",
       "      <td>13.305078</td>\n",
       "      <td>15.646736</td>\n",
       "      <td>0.381221</td>\n",
       "      <td>4.633663</td>\n",
       "      <td>8.551654</td>\n",
       "      <td>15.855026</td>\n",
       "      <td>189.806076</td>\n",
       "    </tr>\n",
       "    <tr>\n",
       "      <th>202012</th>\n",
       "      <td>6072.0</td>\n",
       "      <td>13.752779</td>\n",
       "      <td>16.387334</td>\n",
       "      <td>0.371052</td>\n",
       "      <td>4.752484</td>\n",
       "      <td>8.821784</td>\n",
       "      <td>16.390190</td>\n",
       "      <td>193.760886</td>\n",
       "    </tr>\n",
       "    <tr>\n",
       "      <th>202101</th>\n",
       "      <td>5317.0</td>\n",
       "      <td>13.916983</td>\n",
       "      <td>16.907550</td>\n",
       "      <td>0.362108</td>\n",
       "      <td>5.000000</td>\n",
       "      <td>8.925290</td>\n",
       "      <td>16.438538</td>\n",
       "      <td>190.781659</td>\n",
       "    </tr>\n",
       "    <tr>\n",
       "      <th>202102</th>\n",
       "      <td>5482.0</td>\n",
       "      <td>13.879615</td>\n",
       "      <td>16.321875</td>\n",
       "      <td>0.366062</td>\n",
       "      <td>5.036105</td>\n",
       "      <td>8.881540</td>\n",
       "      <td>16.590720</td>\n",
       "      <td>191.146820</td>\n",
       "    </tr>\n",
       "    <tr>\n",
       "      <th>202103</th>\n",
       "      <td>5647.0</td>\n",
       "      <td>13.714584</td>\n",
       "      <td>16.522646</td>\n",
       "      <td>0.453500</td>\n",
       "      <td>4.876689</td>\n",
       "      <td>8.884422</td>\n",
       "      <td>16.012321</td>\n",
       "      <td>190.670522</td>\n",
       "    </tr>\n",
       "    <tr>\n",
       "      <th>202104</th>\n",
       "      <td>5364.0</td>\n",
       "      <td>13.723335</td>\n",
       "      <td>15.782369</td>\n",
       "      <td>0.444444</td>\n",
       "      <td>4.826772</td>\n",
       "      <td>8.862779</td>\n",
       "      <td>16.261388</td>\n",
       "      <td>188.850512</td>\n",
       "    </tr>\n",
       "    <tr>\n",
       "      <th>202105</th>\n",
       "      <td>4432.0</td>\n",
       "      <td>14.614561</td>\n",
       "      <td>15.392980</td>\n",
       "      <td>0.383880</td>\n",
       "      <td>5.803487</td>\n",
       "      <td>10.300578</td>\n",
       "      <td>17.131154</td>\n",
       "      <td>193.695666</td>\n",
       "    </tr>\n",
       "    <tr>\n",
       "      <th>202106</th>\n",
       "      <td>4715.0</td>\n",
       "      <td>14.750063</td>\n",
       "      <td>16.031470</td>\n",
       "      <td>0.520215</td>\n",
       "      <td>5.778819</td>\n",
       "      <td>9.902468</td>\n",
       "      <td>17.316384</td>\n",
       "      <td>178.296945</td>\n",
       "    </tr>\n",
       "    <tr>\n",
       "      <th>202107</th>\n",
       "      <td>4647.0</td>\n",
       "      <td>14.731358</td>\n",
       "      <td>16.411793</td>\n",
       "      <td>0.443318</td>\n",
       "      <td>5.771592</td>\n",
       "      <td>9.693892</td>\n",
       "      <td>17.285021</td>\n",
       "      <td>195.060030</td>\n",
       "    </tr>\n",
       "    <tr>\n",
       "      <th>202108</th>\n",
       "      <td>4324.0</td>\n",
       "      <td>14.078343</td>\n",
       "      <td>14.609794</td>\n",
       "      <td>0.418033</td>\n",
       "      <td>5.647962</td>\n",
       "      <td>9.478136</td>\n",
       "      <td>16.861991</td>\n",
       "      <td>193.805340</td>\n",
       "    </tr>\n",
       "    <tr>\n",
       "      <th>202109</th>\n",
       "      <td>2804.0</td>\n",
       "      <td>14.947229</td>\n",
       "      <td>16.954779</td>\n",
       "      <td>0.509293</td>\n",
       "      <td>5.533328</td>\n",
       "      <td>9.832872</td>\n",
       "      <td>17.386574</td>\n",
       "      <td>188.115333</td>\n",
       "    </tr>\n",
       "  </tbody>\n",
       "</table>\n",
       "</div>"
      ],
      "text/plain": [
       "       UVnetWgt                                                       \\\n",
       "          count       mean        std       min       25%        50%   \n",
       "period                                                                 \n",
       "201801   4757.0  12.873556  14.509500  0.357735  4.844096   8.654020   \n",
       "201802   4910.0  13.345174  16.035370  0.370370  4.837019   8.845219   \n",
       "201803   4949.0  12.766561  13.364446  0.373824  5.032334   9.121191   \n",
       "201804   4791.0  12.832146  13.784669  0.374280  5.053716   8.966518   \n",
       "201805   4832.0  12.380494  13.285493  0.360150  4.782349   8.733865   \n",
       "201806   4642.0  12.644592  13.853775  0.381629  4.704969   8.583770   \n",
       "201807   4770.0  12.592884  12.738618  0.360278  5.000260   8.901543   \n",
       "201808   4746.0  12.048609  13.336379  0.375491  4.765555   8.365725   \n",
       "201809   4974.0  12.404415  13.675620  0.363506  4.714572   8.547817   \n",
       "201810   5427.0  12.412152  13.984492  0.368066  4.650986   8.500144   \n",
       "201811   5550.0  12.619177  14.675383  0.363636  4.694431   8.525145   \n",
       "201812   5228.0  12.526157  14.669580  0.362746  4.589919   8.462399   \n",
       "201901   6190.0  12.744597  14.386147  0.358957  4.714977   8.499995   \n",
       "201902   6048.0  12.352393  13.230645  0.357317  4.599304   8.526478   \n",
       "201903   6247.0  12.337749  12.937744  0.363636  4.677869   8.290000   \n",
       "201904   6169.0  12.605388  13.848553  0.377113  4.918209   8.659878   \n",
       "201905   6402.0  12.321370  13.344059  0.360793  4.756058   8.333957   \n",
       "201906   5968.0  12.535403  13.675704  0.383218  4.694290   8.212873   \n",
       "201907   6407.0  12.367137  13.579834  0.431593  4.765610   8.377066   \n",
       "201908   6401.0  11.719184  12.610256  0.410449  4.431390   8.079338   \n",
       "201909   6366.0  12.683454  14.088505  0.365875  4.668397   8.448504   \n",
       "201910   6805.0  12.425151  13.394920  0.374869  4.842095   8.498741   \n",
       "201911   6503.0  12.569176  13.384036  0.368365  4.754620   8.717178   \n",
       "201912   6649.0  12.938646  14.088148  0.370448  4.896141   8.959964   \n",
       "202001   5684.0  11.960637  13.674381  0.400000  4.576314   7.990977   \n",
       "202002   5705.0  11.774334  14.160483  0.363500  4.161138   7.666667   \n",
       "202003   6061.0  11.182526  12.297174  0.390443  4.006815   7.227416   \n",
       "202004   5101.0  11.937739  13.513384  0.375408  4.261508   7.934858   \n",
       "202005   5385.0  12.211328  14.468248  0.398667  4.348712   8.041000   \n",
       "202006   5655.0  12.525202  15.085385  0.411800  4.399858   7.941176   \n",
       "202007   6062.0  12.404635  14.659710  0.384438  4.314668   8.000000   \n",
       "202008   5509.0  12.457013  14.006813  0.370931  4.266616   8.120016   \n",
       "202009   6116.0  12.775613  15.205515  0.433088  4.564438   8.254687   \n",
       "202010   6242.0  13.027782  14.836077  0.399951  4.530946   8.567416   \n",
       "202011   6204.0  13.305078  15.646736  0.381221  4.633663   8.551654   \n",
       "202012   6072.0  13.752779  16.387334  0.371052  4.752484   8.821784   \n",
       "202101   5317.0  13.916983  16.907550  0.362108  5.000000   8.925290   \n",
       "202102   5482.0  13.879615  16.321875  0.366062  5.036105   8.881540   \n",
       "202103   5647.0  13.714584  16.522646  0.453500  4.876689   8.884422   \n",
       "202104   5364.0  13.723335  15.782369  0.444444  4.826772   8.862779   \n",
       "202105   4432.0  14.614561  15.392980  0.383880  5.803487  10.300578   \n",
       "202106   4715.0  14.750063  16.031470  0.520215  5.778819   9.902468   \n",
       "202107   4647.0  14.731358  16.411793  0.443318  5.771592   9.693892   \n",
       "202108   4324.0  14.078343  14.609794  0.418033  5.647962   9.478136   \n",
       "202109   2804.0  14.947229  16.954779  0.509293  5.533328   9.832872   \n",
       "\n",
       "                               \n",
       "              75%         max  \n",
       "period                         \n",
       "201801  15.038736  183.039034  \n",
       "201802  15.244339  194.206198  \n",
       "201803  15.240802  166.424557  \n",
       "201804  15.388772  166.431683  \n",
       "201805  14.712387  162.702688  \n",
       "201806  14.919898  172.000000  \n",
       "201807  15.222927  166.326890  \n",
       "201808  13.951910  169.557522  \n",
       "201809  14.607328  163.221800  \n",
       "201810  14.816898  195.161250  \n",
       "201811  14.591478  178.032144  \n",
       "201812  14.714112  193.000000  \n",
       "201901  15.122129  190.047115  \n",
       "201902  14.741213  152.797830  \n",
       "201903  14.995289  177.138889  \n",
       "201904  14.849658  191.607559  \n",
       "201905  14.714655  183.147661  \n",
       "201906  15.057867  166.837770  \n",
       "201907  14.673584  191.120571  \n",
       "201908  14.207391  190.203814  \n",
       "201909  15.043480  184.692640  \n",
       "201910  15.054998  194.361710  \n",
       "201911  15.283487  190.628887  \n",
       "201912  15.717594  185.777778  \n",
       "202001  13.940463  185.559480  \n",
       "202002  13.718134  186.551835  \n",
       "202003  13.358552  161.315068  \n",
       "202004  14.174779  188.714933  \n",
       "202005  14.390442  190.527998  \n",
       "202006  14.582145  187.951653  \n",
       "202007  14.687714  183.883018  \n",
       "202008  15.050225  144.302698  \n",
       "202009  14.937053  192.805903  \n",
       "202010  15.592447  186.502325  \n",
       "202011  15.855026  189.806076  \n",
       "202012  16.390190  193.760886  \n",
       "202101  16.438538  190.781659  \n",
       "202102  16.590720  191.146820  \n",
       "202103  16.012321  190.670522  \n",
       "202104  16.261388  188.850512  \n",
       "202105  17.131154  193.695666  \n",
       "202106  17.316384  178.296945  \n",
       "202107  17.285021  195.060030  \n",
       "202108  16.861991  193.805340  \n",
       "202109  17.386574  188.115333  "
      ]
     },
     "execution_count": 34,
     "metadata": {},
     "output_type": "execute_result"
    }
   ],
   "source": [
    "#some extra analysis  - descriptive statstiscs by period\n",
    "new_panDF[['period','UVnetWgt']].groupby(\"period\").describe()"
   ]
  },
  {
   "cell_type": "markdown",
   "id": "9194a28f",
   "metadata": {},
   "source": [
    "motCode\tmotName\n",
    "-1\tNot available or not specified.\n",
    "0\tAll modes of transport\n",
    "1000\tAir\n",
    "2000\tWater\n",
    "2100\tSea\n",
    "2200\tInland waterway\n",
    "2900\tWater, not else classified\n",
    "3000\tLand\n",
    "3100\tRailway\n",
    "3200\tRoad\n",
    "3900\tLand, not else classified\n",
    "9000\tNot elsewhere classified\n",
    "9100\tPipelines and cables\n",
    "9110\tPipelines\n",
    "9120\tCables\n",
    "9190\tPipelines and cables, not else classified\n",
    "9200\tPostal consignments, mail or courier shipment\n",
    "9300\tSelf propelled goods\n",
    "9900\tOther\n"
   ]
  },
  {
   "cell_type": "code",
   "execution_count": 35,
   "id": "4a222336",
   "metadata": {
    "execution": {
     "iopub.execute_input": "2022-01-12T09:24:14.779689Z",
     "iopub.status.busy": "2022-01-12T09:24:14.779100Z",
     "iopub.status.idle": "2022-01-12T09:24:14.901638Z",
     "shell.execute_reply": "2022-01-12T09:24:14.900883Z",
     "shell.execute_reply.started": "2022-01-12T09:24:14.779639Z"
    }
   },
   "outputs": [
    {
     "data": {
      "text/html": [
       "<div>\n",
       "<style scoped>\n",
       "    .dataframe tbody tr th:only-of-type {\n",
       "        vertical-align: middle;\n",
       "    }\n",
       "\n",
       "    .dataframe tbody tr th {\n",
       "        vertical-align: top;\n",
       "    }\n",
       "\n",
       "    .dataframe thead tr th {\n",
       "        text-align: left;\n",
       "    }\n",
       "\n",
       "    .dataframe thead tr:last-of-type th {\n",
       "        text-align: right;\n",
       "    }\n",
       "</style>\n",
       "<table border=\"1\" class=\"dataframe\">\n",
       "  <thead>\n",
       "    <tr>\n",
       "      <th></th>\n",
       "      <th colspan=\"8\" halign=\"left\">UVnetWgt</th>\n",
       "    </tr>\n",
       "    <tr>\n",
       "      <th></th>\n",
       "      <th>count</th>\n",
       "      <th>mean</th>\n",
       "      <th>std</th>\n",
       "      <th>min</th>\n",
       "      <th>25%</th>\n",
       "      <th>50%</th>\n",
       "      <th>75%</th>\n",
       "      <th>max</th>\n",
       "    </tr>\n",
       "    <tr>\n",
       "      <th>motCode</th>\n",
       "      <th></th>\n",
       "      <th></th>\n",
       "      <th></th>\n",
       "      <th></th>\n",
       "      <th></th>\n",
       "      <th></th>\n",
       "      <th></th>\n",
       "      <th></th>\n",
       "    </tr>\n",
       "  </thead>\n",
       "  <tbody>\n",
       "    <tr>\n",
       "      <th>-1</th>\n",
       "      <td>110642.0</td>\n",
       "      <td>13.539567</td>\n",
       "      <td>14.459421</td>\n",
       "      <td>0.362108</td>\n",
       "      <td>5.623600</td>\n",
       "      <td>9.432421</td>\n",
       "      <td>15.886094</td>\n",
       "      <td>195.06003</td>\n",
       "    </tr>\n",
       "    <tr>\n",
       "      <th>1000</th>\n",
       "      <td>15113.0</td>\n",
       "      <td>21.013590</td>\n",
       "      <td>23.791791</td>\n",
       "      <td>0.360793</td>\n",
       "      <td>7.474991</td>\n",
       "      <td>13.069105</td>\n",
       "      <td>24.758775</td>\n",
       "      <td>195.16125</td>\n",
       "    </tr>\n",
       "    <tr>\n",
       "      <th>2000</th>\n",
       "      <td>4760.0</td>\n",
       "      <td>6.505970</td>\n",
       "      <td>4.911146</td>\n",
       "      <td>0.400000</td>\n",
       "      <td>3.291843</td>\n",
       "      <td>4.474984</td>\n",
       "      <td>7.592365</td>\n",
       "      <td>60.90291</td>\n",
       "    </tr>\n",
       "    <tr>\n",
       "      <th>3000</th>\n",
       "      <td>862.0</td>\n",
       "      <td>5.098765</td>\n",
       "      <td>2.048954</td>\n",
       "      <td>0.904716</td>\n",
       "      <td>4.321353</td>\n",
       "      <td>4.990720</td>\n",
       "      <td>5.543611</td>\n",
       "      <td>44.21326</td>\n",
       "    </tr>\n",
       "  </tbody>\n",
       "</table>\n",
       "</div>"
      ],
      "text/plain": [
       "         UVnetWgt                                                       \\\n",
       "            count       mean        std       min       25%        50%   \n",
       "motCode                                                                  \n",
       "-1       110642.0  13.539567  14.459421  0.362108  5.623600   9.432421   \n",
       "1000      15113.0  21.013590  23.791791  0.360793  7.474991  13.069105   \n",
       "2000       4760.0   6.505970   4.911146  0.400000  3.291843   4.474984   \n",
       "3000        862.0   5.098765   2.048954  0.904716  4.321353   4.990720   \n",
       "\n",
       "                               \n",
       "               75%        max  \n",
       "motCode                        \n",
       "-1       15.886094  195.06003  \n",
       "1000     24.758775  195.16125  \n",
       "2000      7.592365   60.90291  \n",
       "3000      5.543611   44.21326  "
      ]
     },
     "execution_count": 35,
     "metadata": {},
     "output_type": "execute_result"
    }
   ],
   "source": [
    "#some extra analysis - descriptive statstiscs by motOfTransport (air, water,land)\n",
    "new_panDF[['motCode','UVnetWgt']].query('motCode in (\"-1\",\"1000\",\"2000\",\"3000\")').groupby(\"motCode\").describe()"
   ]
  },
  {
   "cell_type": "code",
   "execution_count": 36,
   "id": "f8b4f085-7354-49fe-b15a-c3accd284a9b",
   "metadata": {
    "execution": {
     "iopub.execute_input": "2022-01-12T10:07:25.460892Z",
     "iopub.status.busy": "2022-01-12T10:07:25.460620Z",
     "iopub.status.idle": "2022-01-12T10:07:25.671293Z",
     "shell.execute_reply": "2022-01-12T10:07:25.670456Z",
     "shell.execute_reply.started": "2022-01-12T10:07:25.460861Z"
    }
   },
   "outputs": [],
   "source": [
    "spark.stop()"
   ]
  }
 ],
 "metadata": {
  "kernelspec": {
   "display_name": "Config template adb",
   "language": "python3",
   "name": "adb"
  },
  "language_info": {
   "codemirror_mode": {
    "name": "ipython",
    "version": 3
   },
   "file_extension": ".py",
   "mimetype": "text/x-python",
   "name": "python",
   "nbconvert_exporter": "python",
   "pygments_lexer": "ipython3",
   "version": "3.8.13"
  }
 },
 "nbformat": 4,
 "nbformat_minor": 5
}
