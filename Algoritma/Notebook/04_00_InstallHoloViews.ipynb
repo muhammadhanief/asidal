{
 "cells": [
  {
   "cell_type": "code",
   "execution_count": 3,
   "id": "4fa0c7da-021e-49d6-acca-614192d3a33b",
   "metadata": {},
   "outputs": [
    {
     "name": "stdout",
     "output_type": "stream",
     "text": [
      "Closing down clientserver connection\n",
      "\u001b[33mWARNING: Ignoring invalid distribution -okeh (/opt/conda/lib/python3.8/site-packages)\u001b[0m\u001b[33m\n",
      "\u001b[0mCollecting holoviews\n",
      "  Using cached holoviews-1.17.1-py2.py3-none-any.whl.metadata (21 kB)\n",
      "Requirement already satisfied: param<3.0,>=1.12.0 in /opt/conda/lib/python3.8/site-packages (from holoviews) (2.0.1)\n",
      "Requirement already satisfied: numpy>=1.0 in /opt/conda/lib/python3.8/site-packages (from holoviews) (1.23.5)\n",
      "Requirement already satisfied: pyviz-comms>=0.7.4 in /opt/conda/lib/python3.8/site-packages (from holoviews) (3.0.0)\n",
      "Collecting panel>=0.13.1 (from holoviews)\n",
      "  Using cached panel-1.2.3-py2.py3-none-any.whl.metadata (22 kB)\n",
      "Requirement already satisfied: colorcet in /opt/conda/lib/python3.8/site-packages (from holoviews) (3.0.1)\n",
      "Requirement already satisfied: packaging in /opt/conda/lib/python3.8/site-packages (from holoviews) (23.0)\n",
      "Requirement already satisfied: pandas>=0.20.0 in /opt/conda/lib/python3.8/site-packages (from holoviews) (1.5.3)\n",
      "Requirement already satisfied: python-dateutil>=2.8.1 in /opt/conda/lib/python3.8/site-packages (from pandas>=0.20.0->holoviews) (2.8.2)\n",
      "Requirement already satisfied: pytz>=2020.1 in /opt/conda/lib/python3.8/site-packages (from pandas>=0.20.0->holoviews) (2022.7.1)\n",
      "Collecting bokeh<3.3.0,>=3.1.1 (from panel>=0.13.1->holoviews)\n",
      "  Using cached bokeh-3.1.1-py3-none-any.whl (8.3 MB)\n",
      "Requirement already satisfied: xyzservices>=2021.09.1 in /opt/conda/lib/python3.8/site-packages (from panel>=0.13.1->holoviews) (2023.2.0)\n",
      "Requirement already satisfied: markdown in /opt/conda/lib/python3.8/site-packages (from panel>=0.13.1->holoviews) (3.5.1)\n",
      "Requirement already satisfied: markdown-it-py in /opt/conda/lib/python3.8/site-packages (from panel>=0.13.1->holoviews) (3.0.0)\n",
      "Requirement already satisfied: linkify-it-py in /opt/conda/lib/python3.8/site-packages (from panel>=0.13.1->holoviews) (2.0.2)\n",
      "Requirement already satisfied: mdit-py-plugins in /opt/conda/lib/python3.8/site-packages (from panel>=0.13.1->holoviews) (0.4.0)\n",
      "Requirement already satisfied: requests in /opt/conda/lib/python3.8/site-packages (from panel>=0.13.1->holoviews) (2.28.2)\n",
      "Requirement already satisfied: tqdm>=4.48.0 in /opt/conda/lib/python3.8/site-packages (from panel>=0.13.1->holoviews) (4.64.1)\n",
      "Requirement already satisfied: bleach in /opt/conda/lib/python3.8/site-packages (from panel>=0.13.1->holoviews) (6.1.0)\n",
      "Requirement already satisfied: typing-extensions in /opt/conda/lib/python3.8/site-packages (from panel>=0.13.1->holoviews) (4.5.0)\n",
      "Requirement already satisfied: pyct>=0.4.4 in /opt/conda/lib/python3.8/site-packages (from colorcet->holoviews) (0.5.0)\n",
      "Requirement already satisfied: Jinja2>=2.9 in /opt/conda/lib/python3.8/site-packages (from bokeh<3.3.0,>=3.1.1->panel>=0.13.1->holoviews) (3.1.2)\n",
      "Requirement already satisfied: contourpy>=1 in /opt/conda/lib/python3.8/site-packages (from bokeh<3.3.0,>=3.1.1->panel>=0.13.1->holoviews) (1.0.7)\n",
      "Requirement already satisfied: pillow>=7.1.0 in /opt/conda/lib/python3.8/site-packages (from bokeh<3.3.0,>=3.1.1->panel>=0.13.1->holoviews) (9.4.0)\n",
      "Requirement already satisfied: PyYAML>=3.10 in /opt/conda/lib/python3.8/site-packages (from bokeh<3.3.0,>=3.1.1->panel>=0.13.1->holoviews) (6.0)\n",
      "Requirement already satisfied: tornado>=5.1 in /opt/conda/lib/python3.8/site-packages (from bokeh<3.3.0,>=3.1.1->panel>=0.13.1->holoviews) (6.2)\n",
      "Requirement already satisfied: six>=1.5 in /opt/conda/lib/python3.8/site-packages (from python-dateutil>=2.8.1->pandas>=0.20.0->holoviews) (1.16.0)\n",
      "Requirement already satisfied: webencodings in /opt/conda/lib/python3.8/site-packages (from bleach->panel>=0.13.1->holoviews) (0.5.1)\n",
      "Requirement already satisfied: uc-micro-py in /opt/conda/lib/python3.8/site-packages (from linkify-it-py->panel>=0.13.1->holoviews) (1.0.2)\n",
      "Requirement already satisfied: importlib-metadata>=4.4 in /opt/conda/lib/python3.8/site-packages (from markdown->panel>=0.13.1->holoviews) (6.0.0)\n",
      "Requirement already satisfied: mdurl~=0.1 in /opt/conda/lib/python3.8/site-packages (from markdown-it-py->panel>=0.13.1->holoviews) (0.1.2)\n",
      "Requirement already satisfied: charset-normalizer<4,>=2 in /opt/conda/lib/python3.8/site-packages (from requests->panel>=0.13.1->holoviews) (3.0.1)\n",
      "Requirement already satisfied: idna<4,>=2.5 in /opt/conda/lib/python3.8/site-packages (from requests->panel>=0.13.1->holoviews) (3.4)\n",
      "Requirement already satisfied: urllib3<1.27,>=1.21.1 in /opt/conda/lib/python3.8/site-packages (from requests->panel>=0.13.1->holoviews) (1.26.14)\n",
      "Requirement already satisfied: certifi>=2017.4.17 in /opt/conda/lib/python3.8/site-packages (from requests->panel>=0.13.1->holoviews) (2022.12.7)\n",
      "Requirement already satisfied: zipp>=0.5 in /opt/conda/lib/python3.8/site-packages (from importlib-metadata>=4.4->markdown->panel>=0.13.1->holoviews) (3.15.0)\n",
      "Requirement already satisfied: MarkupSafe>=2.0 in /opt/conda/lib/python3.8/site-packages (from Jinja2>=2.9->bokeh<3.3.0,>=3.1.1->panel>=0.13.1->holoviews) (2.1.2)\n",
      "Using cached holoviews-1.17.1-py2.py3-none-any.whl (4.3 MB)\n",
      "Using cached panel-1.2.3-py2.py3-none-any.whl (20.1 MB)\n",
      "\u001b[33mWARNING: Ignoring invalid distribution -okeh (/opt/conda/lib/python3.8/site-packages)\u001b[0m\u001b[33m\n",
      "\u001b[0mInstalling collected packages: bokeh, panel, holoviews\n",
      "  Attempting uninstall: bokeh\n",
      "    Found existing installation: bokeh 3.0.3\n",
      "    Uninstalling bokeh-3.0.3:\n",
      "\u001b[31mERROR: Could not install packages due to an OSError: [Errno 13] Permission denied: 'INSTALLER'\n",
      "Consider using the `--user` option or check the permissions.\n",
      "\u001b[0m\u001b[31m\n",
      "\u001b[0mNote: you may need to restart the kernel to use updated packages.\n"
     ]
    }
   ],
   "source": [
    "pip install holoviews"
   ]
  },
  {
   "cell_type": "code",
   "execution_count": 2,
   "id": "55a74df9-b116-4967-9109-ade7746fc5d3",
   "metadata": {},
   "outputs": [
    {
     "name": "stdout",
     "output_type": "stream",
     "text": [
      "Closing down clientserver connection\n",
      "\u001b[33mWARNING: Ignoring invalid distribution -okeh (/opt/conda/lib/python3.8/site-packages)\u001b[0m\u001b[33m\n",
      "\u001b[0mRequirement already satisfied: pandas in /opt/conda/lib/python3.8/site-packages (1.5.3)\n",
      "Requirement already satisfied: python-dateutil>=2.8.1 in /opt/conda/lib/python3.8/site-packages (from pandas) (2.8.2)\n",
      "Requirement already satisfied: pytz>=2020.1 in /opt/conda/lib/python3.8/site-packages (from pandas) (2022.7.1)\n",
      "Requirement already satisfied: numpy>=1.20.3 in /opt/conda/lib/python3.8/site-packages (from pandas) (1.23.5)\n",
      "Requirement already satisfied: six>=1.5 in /opt/conda/lib/python3.8/site-packages (from python-dateutil>=2.8.1->pandas) (1.16.0)\n",
      "\u001b[33mWARNING: Ignoring invalid distribution -okeh (/opt/conda/lib/python3.8/site-packages)\u001b[0m\u001b[33m\n",
      "\u001b[0mNote: you may need to restart the kernel to use updated packages.\n"
     ]
    }
   ],
   "source": [
    "pip install pandas"
   ]
  },
  {
   "cell_type": "code",
   "execution_count": 4,
   "id": "00ef2700-7785-445b-ad40-7532b8cb83cf",
   "metadata": {},
   "outputs": [
    {
     "name": "stdout",
     "output_type": "stream",
     "text": [
      "['/opt/spark/work-dir', '/tmp/spark-local-dir-shuffle-f02d07b9/spark-9a684db9-c217-4a13-bc74-c853ac0a4575/userFiles-1bd0b20a-293e-4f7c-bc59-831631360644', '/opt/spark/python/lib/pyspark.zip', '/opt/spark/python/lib/py4j-0.10.9.5-src.zip', '/opt/spark/jars/spark-core_2.12-3.3.0.jar', '/opt/spark/python', '/opt/spark/work-dir', '/opt/conda/lib/python38.zip', '/opt/conda/lib/python3.8', '/opt/conda/lib/python3.8/lib-dynload', '', '/opt/conda/lib/python3.8/site-packages']\n"
     ]
    }
   ],
   "source": [
    "import sys\n",
    "\n",
    "print(sys.path)"
   ]
  },
  {
   "cell_type": "code",
   "execution_count": 8,
   "id": "5b9e9d82-2959-4f07-9f0b-26d56533dc75",
   "metadata": {},
   "outputs": [
    {
     "name": "stdout",
     "output_type": "stream",
     "text": [
      "Closing down clientserver connection\n",
      "drwxrwxr-x 1 root root 27 Jul 13  2022 \u001b[0m\u001b[01;34m/opt/conda/lib/python3.8\u001b[0m/\n"
     ]
    }
   ],
   "source": []
  },
  {
   "cell_type": "code",
   "execution_count": null,
   "id": "f0dd09d8-b093-4c33-ba8d-c304807741ee",
   "metadata": {},
   "outputs": [],
   "source": [
    "!pip show holoviews"
   ]
  },
  {
   "cell_type": "code",
   "execution_count": null,
   "id": "51963017-c258-4227-a679-0b396fac96c0",
   "metadata": {},
   "outputs": [],
   "source": []
  }
 ],
 "metadata": {
  "kernelspec": {
   "display_name": "Config template ais-tt-dev",
   "language": "python3",
   "name": "ais-tt-dev"
  },
  "language_info": {
   "codemirror_mode": {
    "name": "ipython",
    "version": 3
   },
   "file_extension": ".py",
   "mimetype": "text/x-python",
   "name": "python",
   "nbconvert_exporter": "python",
   "pygments_lexer": "ipython3",
   "version": "3.8.13"
  }
 },
 "nbformat": 4,
 "nbformat_minor": 5
}
